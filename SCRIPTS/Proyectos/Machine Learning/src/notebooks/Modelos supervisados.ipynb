{
 "cells": [
  {
   "cell_type": "code",
   "execution_count": 1,
   "metadata": {},
   "outputs": [
    {
     "name": "stdout",
     "output_type": "stream",
     "text": [
      "Packages installed\n"
     ]
    }
   ],
   "source": [
    "import pandas as pd\n",
    "import matplotlib.pyplot as plt\n",
    "from xgboost import XGBClassifier\n",
    "from sklearn.preprocessing import LabelEncoder\n",
    "from sklearn.preprocessing import StandardScaler\n",
    "from sklearn.metrics import accuracy_score\n",
    "from sklearn.linear_model import LogisticRegression\n",
    "from sklearn.tree import DecisionTreeClassifier\n",
    "from sklearn.ensemble import BaggingClassifier, RandomForestClassifier, AdaBoostClassifier\n",
    "from sklearn.model_selection import cross_val_score\n",
    "from sklearn.model_selection import train_test_split, GridSearchCV\n",
    "\n",
    "print(\"Packages installed\")\n",
    "\n",
    "#settings\n",
    "pd.set_option('display.max_row', 100)\n",
    "pd.set_option('display.max_columns', 1200)\n",
    "pd.set_option('display.width', 1200)"
   ]
  },
  {
   "cell_type": "code",
   "execution_count": 4,
   "metadata": {},
   "outputs": [],
   "source": [
    "df_limpio = pd.read_csv('C:/Users/puent/OneDrive/Escritorio/Javi Bootcamp/Data-Science-TBB-main/SCRIPTS/Proyectos/Machine Learning/src/data/processed/dfLimpio.csv')\n"
   ]
  },
  {
   "cell_type": "code",
   "execution_count": 5,
   "metadata": {},
   "outputs": [
    {
     "data": {
      "text/html": [
       "<div>\n",
       "<style scoped>\n",
       "    .dataframe tbody tr th:only-of-type {\n",
       "        vertical-align: middle;\n",
       "    }\n",
       "\n",
       "    .dataframe tbody tr th {\n",
       "        vertical-align: top;\n",
       "    }\n",
       "\n",
       "    .dataframe thead th {\n",
       "        text-align: right;\n",
       "    }\n",
       "</style>\n",
       "<table border=\"1\" class=\"dataframe\">\n",
       "  <thead>\n",
       "    <tr style=\"text-align: right;\">\n",
       "      <th></th>\n",
       "      <th>tourney_id</th>\n",
       "      <th>surface</th>\n",
       "      <th>draw_size</th>\n",
       "      <th>tourney_level</th>\n",
       "      <th>match_num</th>\n",
       "      <th>winner_id</th>\n",
       "      <th>winner_hand</th>\n",
       "      <th>winner_ht</th>\n",
       "      <th>winner_ioc</th>\n",
       "      <th>winner_age</th>\n",
       "      <th>loser_id</th>\n",
       "      <th>loser_hand</th>\n",
       "      <th>loser_ht</th>\n",
       "      <th>loser_ioc</th>\n",
       "      <th>loser_age</th>\n",
       "      <th>best_of</th>\n",
       "      <th>round</th>\n",
       "      <th>winner_rank</th>\n",
       "      <th>winner_rank_points</th>\n",
       "      <th>loser_rank</th>\n",
       "      <th>loser_rank_points</th>\n",
       "      <th>tourney_year</th>\n",
       "      <th>tourney_month</th>\n",
       "      <th>tourney_day</th>\n",
       "    </tr>\n",
       "  </thead>\n",
       "  <tbody>\n",
       "    <tr>\n",
       "      <th>0</th>\n",
       "      <td>0</td>\n",
       "      <td>2</td>\n",
       "      <td>64</td>\n",
       "      <td>2021</td>\n",
       "      <td>237</td>\n",
       "      <td>126207</td>\n",
       "      <td>1</td>\n",
       "      <td>188.0</td>\n",
       "      <td>57</td>\n",
       "      <td>23.4</td>\n",
       "      <td>126952</td>\n",
       "      <td>1</td>\n",
       "      <td>180.0</td>\n",
       "      <td>37</td>\n",
       "      <td>23.6</td>\n",
       "      <td>3</td>\n",
       "      <td>6</td>\n",
       "      <td>53.0</td>\n",
       "      <td>1228.0</td>\n",
       "      <td>71.0</td>\n",
       "      <td>996.0</td>\n",
       "      <td>0</td>\n",
       "      <td>7</td>\n",
       "      <td>24</td>\n",
       "    </tr>\n",
       "    <tr>\n",
       "      <th>1</th>\n",
       "      <td>0</td>\n",
       "      <td>2</td>\n",
       "      <td>64</td>\n",
       "      <td>2021</td>\n",
       "      <td>238</td>\n",
       "      <td>105526</td>\n",
       "      <td>1</td>\n",
       "      <td>193.0</td>\n",
       "      <td>27</td>\n",
       "      <td>31.2</td>\n",
       "      <td>106329</td>\n",
       "      <td>0</td>\n",
       "      <td>183.0</td>\n",
       "      <td>8</td>\n",
       "      <td>27.1</td>\n",
       "      <td>3</td>\n",
       "      <td>6</td>\n",
       "      <td>48.0</td>\n",
       "      <td>1410.0</td>\n",
       "      <td>95.0</td>\n",
       "      <td>829.0</td>\n",
       "      <td>0</td>\n",
       "      <td>7</td>\n",
       "      <td>24</td>\n",
       "    </tr>\n",
       "    <tr>\n",
       "      <th>2</th>\n",
       "      <td>0</td>\n",
       "      <td>2</td>\n",
       "      <td>64</td>\n",
       "      <td>2021</td>\n",
       "      <td>239</td>\n",
       "      <td>111576</td>\n",
       "      <td>1</td>\n",
       "      <td>178.0</td>\n",
       "      <td>30</td>\n",
       "      <td>23.9</td>\n",
       "      <td>104797</td>\n",
       "      <td>1</td>\n",
       "      <td>188.0</td>\n",
       "      <td>64</td>\n",
       "      <td>34.8</td>\n",
       "      <td>3</td>\n",
       "      <td>6</td>\n",
       "      <td>160.0</td>\n",
       "      <td>471.0</td>\n",
       "      <td>197.0</td>\n",
       "      <td>354.0</td>\n",
       "      <td>0</td>\n",
       "      <td>7</td>\n",
       "      <td>24</td>\n",
       "    </tr>\n",
       "    <tr>\n",
       "      <th>3</th>\n",
       "      <td>0</td>\n",
       "      <td>2</td>\n",
       "      <td>64</td>\n",
       "      <td>2021</td>\n",
       "      <td>240</td>\n",
       "      <td>105357</td>\n",
       "      <td>1</td>\n",
       "      <td>183.0</td>\n",
       "      <td>1</td>\n",
       "      <td>32.0</td>\n",
       "      <td>207518</td>\n",
       "      <td>1</td>\n",
       "      <td>185.0</td>\n",
       "      <td>34</td>\n",
       "      <td>19.3</td>\n",
       "      <td>3</td>\n",
       "      <td>6</td>\n",
       "      <td>44.0</td>\n",
       "      <td>1476.0</td>\n",
       "      <td>61.0</td>\n",
       "      <td>1106.0</td>\n",
       "      <td>0</td>\n",
       "      <td>7</td>\n",
       "      <td>24</td>\n",
       "    </tr>\n",
       "    <tr>\n",
       "      <th>4</th>\n",
       "      <td>0</td>\n",
       "      <td>2</td>\n",
       "      <td>64</td>\n",
       "      <td>2021</td>\n",
       "      <td>241</td>\n",
       "      <td>207830</td>\n",
       "      <td>1</td>\n",
       "      <td>183.0</td>\n",
       "      <td>16</td>\n",
       "      <td>20.7</td>\n",
       "      <td>105311</td>\n",
       "      <td>1</td>\n",
       "      <td>185.0</td>\n",
       "      <td>48</td>\n",
       "      <td>32.3</td>\n",
       "      <td>3</td>\n",
       "      <td>6</td>\n",
       "      <td>145.0</td>\n",
       "      <td>525.0</td>\n",
       "      <td>137.0</td>\n",
       "      <td>570.0</td>\n",
       "      <td>0</td>\n",
       "      <td>7</td>\n",
       "      <td>24</td>\n",
       "    </tr>\n",
       "    <tr>\n",
       "      <th>...</th>\n",
       "      <td>...</td>\n",
       "      <td>...</td>\n",
       "      <td>...</td>\n",
       "      <td>...</td>\n",
       "      <td>...</td>\n",
       "      <td>...</td>\n",
       "      <td>...</td>\n",
       "      <td>...</td>\n",
       "      <td>...</td>\n",
       "      <td>...</td>\n",
       "      <td>...</td>\n",
       "      <td>...</td>\n",
       "      <td>...</td>\n",
       "      <td>...</td>\n",
       "      <td>...</td>\n",
       "      <td>...</td>\n",
       "      <td>...</td>\n",
       "      <td>...</td>\n",
       "      <td>...</td>\n",
       "      <td>...</td>\n",
       "      <td>...</td>\n",
       "      <td>...</td>\n",
       "      <td>...</td>\n",
       "      <td>...</td>\n",
       "    </tr>\n",
       "    <tr>\n",
       "      <th>7848</th>\n",
       "      <td>357</td>\n",
       "      <td>2</td>\n",
       "      <td>4</td>\n",
       "      <td>2023</td>\n",
       "      <td>4</td>\n",
       "      <td>208029</td>\n",
       "      <td>1</td>\n",
       "      <td>185.0</td>\n",
       "      <td>17</td>\n",
       "      <td>19.7</td>\n",
       "      <td>111576</td>\n",
       "      <td>1</td>\n",
       "      <td>178.0</td>\n",
       "      <td>31</td>\n",
       "      <td>25.4</td>\n",
       "      <td>3</td>\n",
       "      <td>7</td>\n",
       "      <td>9.0</td>\n",
       "      <td>3046.0</td>\n",
       "      <td>506.0</td>\n",
       "      <td>70.0</td>\n",
       "      <td>1</td>\n",
       "      <td>2</td>\n",
       "      <td>3</td>\n",
       "    </tr>\n",
       "    <tr>\n",
       "      <th>7849</th>\n",
       "      <td>358</td>\n",
       "      <td>2</td>\n",
       "      <td>4</td>\n",
       "      <td>2023</td>\n",
       "      <td>2</td>\n",
       "      <td>111576</td>\n",
       "      <td>1</td>\n",
       "      <td>178.0</td>\n",
       "      <td>30</td>\n",
       "      <td>26.0</td>\n",
       "      <td>125842</td>\n",
       "      <td>1</td>\n",
       "      <td>191.0</td>\n",
       "      <td>54</td>\n",
       "      <td>28.3</td>\n",
       "      <td>3</td>\n",
       "      <td>7</td>\n",
       "      <td>156.0</td>\n",
       "      <td>397.0</td>\n",
       "      <td>779.0</td>\n",
       "      <td>29.0</td>\n",
       "      <td>1</td>\n",
       "      <td>9</td>\n",
       "      <td>16</td>\n",
       "    </tr>\n",
       "    <tr>\n",
       "      <th>7850</th>\n",
       "      <td>359</td>\n",
       "      <td>0</td>\n",
       "      <td>4</td>\n",
       "      <td>2023</td>\n",
       "      <td>2</td>\n",
       "      <td>200031</td>\n",
       "      <td>1</td>\n",
       "      <td>185.0</td>\n",
       "      <td>38</td>\n",
       "      <td>27.0</td>\n",
       "      <td>105877</td>\n",
       "      <td>1</td>\n",
       "      <td>185.0</td>\n",
       "      <td>19</td>\n",
       "      <td>31.7</td>\n",
       "      <td>3</td>\n",
       "      <td>7</td>\n",
       "      <td>452.0</td>\n",
       "      <td>97.0</td>\n",
       "      <td>185.0</td>\n",
       "      <td>326.0</td>\n",
       "      <td>1</td>\n",
       "      <td>9</td>\n",
       "      <td>15</td>\n",
       "    </tr>\n",
       "    <tr>\n",
       "      <th>7851</th>\n",
       "      <td>360</td>\n",
       "      <td>0</td>\n",
       "      <td>4</td>\n",
       "      <td>2023</td>\n",
       "      <td>1</td>\n",
       "      <td>105633</td>\n",
       "      <td>1</td>\n",
       "      <td>183.0</td>\n",
       "      <td>20</td>\n",
       "      <td>32.9</td>\n",
       "      <td>202378</td>\n",
       "      <td>1</td>\n",
       "      <td>178.0</td>\n",
       "      <td>0</td>\n",
       "      <td>24.1</td>\n",
       "      <td>3</td>\n",
       "      <td>7</td>\n",
       "      <td>463.0</td>\n",
       "      <td>93.0</td>\n",
       "      <td>828.0</td>\n",
       "      <td>24.0</td>\n",
       "      <td>1</td>\n",
       "      <td>9</td>\n",
       "      <td>16</td>\n",
       "    </tr>\n",
       "    <tr>\n",
       "      <th>7852</th>\n",
       "      <td>360</td>\n",
       "      <td>0</td>\n",
       "      <td>4</td>\n",
       "      <td>2023</td>\n",
       "      <td>2</td>\n",
       "      <td>105747</td>\n",
       "      <td>1</td>\n",
       "      <td>175.0</td>\n",
       "      <td>20</td>\n",
       "      <td>32.4</td>\n",
       "      <td>208364</td>\n",
       "      <td>0</td>\n",
       "      <td>185.0</td>\n",
       "      <td>62</td>\n",
       "      <td>23.5</td>\n",
       "      <td>3</td>\n",
       "      <td>7</td>\n",
       "      <td>721.0</td>\n",
       "      <td>37.0</td>\n",
       "      <td>674.0</td>\n",
       "      <td>44.0</td>\n",
       "      <td>1</td>\n",
       "      <td>9</td>\n",
       "      <td>16</td>\n",
       "    </tr>\n",
       "  </tbody>\n",
       "</table>\n",
       "<p>7853 rows × 24 columns</p>\n",
       "</div>"
      ],
      "text/plain": [
       "      tourney_id  surface  draw_size  tourney_level  match_num  winner_id  winner_hand  winner_ht  winner_ioc  winner_age  loser_id  loser_hand  loser_ht  loser_ioc  loser_age  best_of  round  winner_rank  winner_rank_points  loser_rank  loser_rank_points  tourney_year  tourney_month  tourney_day\n",
       "0              0        2         64           2021        237     126207            1      188.0          57        23.4    126952           1     180.0         37       23.6        3      6         53.0              1228.0        71.0              996.0             0              7           24\n",
       "1              0        2         64           2021        238     105526            1      193.0          27        31.2    106329           0     183.0          8       27.1        3      6         48.0              1410.0        95.0              829.0             0              7           24\n",
       "2              0        2         64           2021        239     111576            1      178.0          30        23.9    104797           1     188.0         64       34.8        3      6        160.0               471.0       197.0              354.0             0              7           24\n",
       "3              0        2         64           2021        240     105357            1      183.0           1        32.0    207518           1     185.0         34       19.3        3      6         44.0              1476.0        61.0             1106.0             0              7           24\n",
       "4              0        2         64           2021        241     207830            1      183.0          16        20.7    105311           1     185.0         48       32.3        3      6        145.0               525.0       137.0              570.0             0              7           24\n",
       "...          ...      ...        ...            ...        ...        ...          ...        ...         ...         ...       ...         ...       ...        ...        ...      ...    ...          ...                 ...         ...                ...           ...            ...          ...\n",
       "7848         357        2          4           2023          4     208029            1      185.0          17        19.7    111576           1     178.0         31       25.4        3      7          9.0              3046.0       506.0               70.0             1              2            3\n",
       "7849         358        2          4           2023          2     111576            1      178.0          30        26.0    125842           1     191.0         54       28.3        3      7        156.0               397.0       779.0               29.0             1              9           16\n",
       "7850         359        0          4           2023          2     200031            1      185.0          38        27.0    105877           1     185.0         19       31.7        3      7        452.0                97.0       185.0              326.0             1              9           15\n",
       "7851         360        0          4           2023          1     105633            1      183.0          20        32.9    202378           1     178.0          0       24.1        3      7        463.0                93.0       828.0               24.0             1              9           16\n",
       "7852         360        0          4           2023          2     105747            1      175.0          20        32.4    208364           0     185.0         62       23.5        3      7        721.0                37.0       674.0               44.0             1              9           16\n",
       "\n",
       "[7853 rows x 24 columns]"
      ]
     },
     "execution_count": 5,
     "metadata": {},
     "output_type": "execute_result"
    }
   ],
   "source": [
    "df_limpio"
   ]
  },
  {
   "cell_type": "code",
   "execution_count": 6,
   "metadata": {},
   "outputs": [
    {
     "data": {
      "text/plain": [
       "tourney_id            7853\n",
       "surface               7853\n",
       "draw_size             7853\n",
       "tourney_level         7853\n",
       "match_num             7853\n",
       "winner_id             7853\n",
       "winner_hand           7853\n",
       "winner_ht             7853\n",
       "winner_ioc            7853\n",
       "winner_age            7853\n",
       "loser_id              7853\n",
       "loser_hand            7853\n",
       "loser_ht              7853\n",
       "loser_ioc             7853\n",
       "loser_age             7853\n",
       "best_of               7853\n",
       "round                 7853\n",
       "winner_rank           7853\n",
       "winner_rank_points    7853\n",
       "loser_rank            7853\n",
       "loser_rank_points     7853\n",
       "tourney_year          7853\n",
       "tourney_month         7853\n",
       "tourney_day           7853\n",
       "dtype: int64"
      ]
     },
     "execution_count": 6,
     "metadata": {},
     "output_type": "execute_result"
    }
   ],
   "source": [
    "#Comprobamos la limpieza del df\n",
    "df_limpio.isnull().count()"
   ]
  },
  {
   "cell_type": "code",
   "execution_count": 7,
   "metadata": {},
   "outputs": [
    {
     "data": {
      "text/plain": [
       "(7853, 24)"
      ]
     },
     "execution_count": 7,
     "metadata": {},
     "output_type": "execute_result"
    }
   ],
   "source": [
    "df_limpio.shape"
   ]
  },
  {
   "cell_type": "markdown",
   "metadata": {},
   "source": [
    "## Regresion Logística --> Predice el ganador"
   ]
  },
  {
   "cell_type": "code",
   "execution_count": 8,
   "metadata": {},
   "outputs": [
    {
     "name": "stdout",
     "output_type": "stream",
     "text": [
      "Accuracy: 0.7243793761935073\n"
     ]
    }
   ],
   "source": [
    "\n",
    "# Paso 1: Preparación de los datos\n",
    "X = df_limpio.drop(columns='winner_id')\n",
    "y = df_limpio['winner_id']\n",
    "\n",
    "# Paso 2: División de los datos  y escalar las características\n",
    "X_train, X_test, y_train, y_test = train_test_split(X, y, test_size=0.2, random_state=42)\n",
    "scaler = StandardScaler()\n",
    "X_train_scaled = scaler.fit_transform(X_train)\n",
    "X_test_scaled = scaler.transform(X_test)\n",
    "\n",
    "# Paso 3: Entrenar el modelo con los datos escalados\n",
    "model = LogisticRegression(max_iter=500)\n",
    "model.fit(X_train_scaled, y_train)\n",
    "\n",
    "# Paso 4: Evaluar el modelo\n",
    "y_pred = model.predict(X_test_scaled)\n",
    "LogisticRegression_accuracy = accuracy_score(y_test, y_pred)\n",
    "print(\"Accuracy:\", LogisticRegression_accuracy)\n"
   ]
  },
  {
   "cell_type": "code",
   "execution_count": 9,
   "metadata": {},
   "outputs": [
    {
     "name": "stdout",
     "output_type": "stream",
     "text": [
      "      Actual  Predicted\n",
      "5683  111460     111460\n",
      "5039  111513     111513\n",
      "6888  208029     207989\n",
      "4886  125802     125802\n",
      "2388  104871     104871\n",
      "...      ...        ...\n",
      "4461  105430     105575\n",
      "3961  104468     104468\n",
      "415   105138     105138\n",
      "4825  122330     122330\n",
      "7077  127339     111797\n",
      "\n",
      "[1571 rows x 2 columns]\n"
     ]
    }
   ],
   "source": [
    "# Comparación de los resultados\n",
    "comparison_df = pd.DataFrame({'Actual': y_test, 'Predicted': y_pred})\n",
    "print(comparison_df)"
   ]
  },
  {
   "cell_type": "markdown",
   "metadata": {},
   "source": [
    "## Random Forest Classifier--> Predice el ganador"
   ]
  },
  {
   "cell_type": "code",
   "execution_count": 10,
   "metadata": {},
   "outputs": [
    {
     "name": "stdout",
     "output_type": "stream",
     "text": [
      "Accuracy Random Forest: 0.9522597071928708\n"
     ]
    }
   ],
   "source": [
    "# Entrenamiento del modelo\n",
    "model_rf = RandomForestClassifier(n_estimators=100, random_state=42)\n",
    "model_rf.fit(X_train, y_train)\n",
    "\n",
    "# Evaluación del modelo\n",
    "y_pred_rf = model_rf.predict(X_test)\n",
    "accuracy_rf = accuracy_score(y_test, y_pred_rf)\n",
    "print(\"Accuracy Random Forest:\", accuracy_rf)"
   ]
  },
  {
   "cell_type": "code",
   "execution_count": 11,
   "metadata": {},
   "outputs": [
    {
     "name": "stdout",
     "output_type": "stream",
     "text": [
      "      Actual  Predicted\n",
      "5683  111460     111460\n",
      "5039  111513     111513\n",
      "6888  208029     207989\n",
      "4886  125802     125802\n",
      "2388  104871     104871\n",
      "...      ...        ...\n",
      "4461  105430     105575\n",
      "3961  104468     104468\n",
      "415   105138     105138\n",
      "4825  122330     122330\n",
      "7077  127339     111797\n",
      "\n",
      "[1571 rows x 2 columns]\n"
     ]
    }
   ],
   "source": [
    "# Comparación de los resultados\n",
    "comparison_df = pd.DataFrame({'Actual': y_test, 'Predicted': y_pred})\n",
    "print(comparison_df)"
   ]
  },
  {
   "cell_type": "code",
   "execution_count": 12,
   "metadata": {},
   "outputs": [],
   "source": [
    "#Pillamos features importances\n",
    "importancias = model_rf.feature_importances_\n",
    "nombres_caracteristicas = X.columns"
   ]
  },
  {
   "cell_type": "code",
   "execution_count": 13,
   "metadata": {},
   "outputs": [
    {
     "data": {
      "text/plain": [
       "array([0.04195867, 0.01095947, 0.00923259, 0.01645461, 0.0248939 ,\n",
       "       0.02271812, 0.14614484, 0.16376749, 0.1528904 , 0.02326305,\n",
       "       0.00368967, 0.01878178, 0.02109864, 0.0237776 , 0.00271051,\n",
       "       0.00963725, 0.0997632 , 0.10145885, 0.02527723, 0.02529678,\n",
       "       0.00685472, 0.02471511, 0.02465553])"
      ]
     },
     "execution_count": 13,
     "metadata": {},
     "output_type": "execute_result"
    }
   ],
   "source": [
    "importancias"
   ]
  },
  {
   "cell_type": "code",
   "execution_count": 14,
   "metadata": {},
   "outputs": [
    {
     "data": {
      "text/plain": [
       "Index(['tourney_id', 'surface', 'draw_size', 'tourney_level', 'match_num', 'winner_hand', 'winner_ht', 'winner_ioc', 'winner_age', 'loser_id', 'loser_hand', 'loser_ht', 'loser_ioc', 'loser_age', 'best_of', 'round', 'winner_rank', 'winner_rank_points', 'loser_rank', 'loser_rank_points', 'tourney_year', 'tourney_month', 'tourney_day'], dtype='object')"
      ]
     },
     "execution_count": 14,
     "metadata": {},
     "output_type": "execute_result"
    }
   ],
   "source": [
    "nombres_caracteristicas"
   ]
  },
  {
   "cell_type": "code",
   "execution_count": 15,
   "metadata": {},
   "outputs": [
    {
     "data": {
      "text/plain": [
       "23"
      ]
     },
     "execution_count": 15,
     "metadata": {},
     "output_type": "execute_result"
    }
   ],
   "source": [
    "len(importancias)"
   ]
  },
  {
   "cell_type": "code",
   "execution_count": 16,
   "metadata": {},
   "outputs": [
    {
     "data": {
      "text/plain": [
       "23"
      ]
     },
     "execution_count": 16,
     "metadata": {},
     "output_type": "execute_result"
    }
   ],
   "source": [
    "len(nombres_caracteristicas)"
   ]
  },
  {
   "cell_type": "code",
   "execution_count": 17,
   "metadata": {},
   "outputs": [
    {
     "data": {
      "text/html": [
       "<div>\n",
       "<style scoped>\n",
       "    .dataframe tbody tr th:only-of-type {\n",
       "        vertical-align: middle;\n",
       "    }\n",
       "\n",
       "    .dataframe tbody tr th {\n",
       "        vertical-align: top;\n",
       "    }\n",
       "\n",
       "    .dataframe thead th {\n",
       "        text-align: right;\n",
       "    }\n",
       "</style>\n",
       "<table border=\"1\" class=\"dataframe\">\n",
       "  <thead>\n",
       "    <tr style=\"text-align: right;\">\n",
       "      <th></th>\n",
       "      <th>Feature</th>\n",
       "      <th>Importance</th>\n",
       "    </tr>\n",
       "  </thead>\n",
       "  <tbody>\n",
       "    <tr>\n",
       "      <th>0</th>\n",
       "      <td>tourney_id</td>\n",
       "      <td>0.041959</td>\n",
       "    </tr>\n",
       "    <tr>\n",
       "      <th>1</th>\n",
       "      <td>surface</td>\n",
       "      <td>0.010959</td>\n",
       "    </tr>\n",
       "    <tr>\n",
       "      <th>2</th>\n",
       "      <td>draw_size</td>\n",
       "      <td>0.009233</td>\n",
       "    </tr>\n",
       "    <tr>\n",
       "      <th>3</th>\n",
       "      <td>tourney_level</td>\n",
       "      <td>0.016455</td>\n",
       "    </tr>\n",
       "    <tr>\n",
       "      <th>4</th>\n",
       "      <td>match_num</td>\n",
       "      <td>0.024894</td>\n",
       "    </tr>\n",
       "    <tr>\n",
       "      <th>5</th>\n",
       "      <td>winner_hand</td>\n",
       "      <td>0.022718</td>\n",
       "    </tr>\n",
       "    <tr>\n",
       "      <th>6</th>\n",
       "      <td>winner_ht</td>\n",
       "      <td>0.146145</td>\n",
       "    </tr>\n",
       "    <tr>\n",
       "      <th>7</th>\n",
       "      <td>winner_ioc</td>\n",
       "      <td>0.163767</td>\n",
       "    </tr>\n",
       "    <tr>\n",
       "      <th>8</th>\n",
       "      <td>winner_age</td>\n",
       "      <td>0.152890</td>\n",
       "    </tr>\n",
       "    <tr>\n",
       "      <th>9</th>\n",
       "      <td>loser_id</td>\n",
       "      <td>0.023263</td>\n",
       "    </tr>\n",
       "    <tr>\n",
       "      <th>10</th>\n",
       "      <td>loser_hand</td>\n",
       "      <td>0.003690</td>\n",
       "    </tr>\n",
       "    <tr>\n",
       "      <th>11</th>\n",
       "      <td>loser_ht</td>\n",
       "      <td>0.018782</td>\n",
       "    </tr>\n",
       "    <tr>\n",
       "      <th>12</th>\n",
       "      <td>loser_ioc</td>\n",
       "      <td>0.021099</td>\n",
       "    </tr>\n",
       "    <tr>\n",
       "      <th>13</th>\n",
       "      <td>loser_age</td>\n",
       "      <td>0.023778</td>\n",
       "    </tr>\n",
       "    <tr>\n",
       "      <th>14</th>\n",
       "      <td>best_of</td>\n",
       "      <td>0.002711</td>\n",
       "    </tr>\n",
       "    <tr>\n",
       "      <th>15</th>\n",
       "      <td>round</td>\n",
       "      <td>0.009637</td>\n",
       "    </tr>\n",
       "    <tr>\n",
       "      <th>16</th>\n",
       "      <td>winner_rank</td>\n",
       "      <td>0.099763</td>\n",
       "    </tr>\n",
       "    <tr>\n",
       "      <th>17</th>\n",
       "      <td>winner_rank_points</td>\n",
       "      <td>0.101459</td>\n",
       "    </tr>\n",
       "    <tr>\n",
       "      <th>18</th>\n",
       "      <td>loser_rank</td>\n",
       "      <td>0.025277</td>\n",
       "    </tr>\n",
       "    <tr>\n",
       "      <th>19</th>\n",
       "      <td>loser_rank_points</td>\n",
       "      <td>0.025297</td>\n",
       "    </tr>\n",
       "    <tr>\n",
       "      <th>20</th>\n",
       "      <td>tourney_year</td>\n",
       "      <td>0.006855</td>\n",
       "    </tr>\n",
       "    <tr>\n",
       "      <th>21</th>\n",
       "      <td>tourney_month</td>\n",
       "      <td>0.024715</td>\n",
       "    </tr>\n",
       "    <tr>\n",
       "      <th>22</th>\n",
       "      <td>tourney_day</td>\n",
       "      <td>0.024656</td>\n",
       "    </tr>\n",
       "  </tbody>\n",
       "</table>\n",
       "</div>"
      ],
      "text/plain": [
       "               Feature  Importance\n",
       "0           tourney_id    0.041959\n",
       "1              surface    0.010959\n",
       "2            draw_size    0.009233\n",
       "3        tourney_level    0.016455\n",
       "4            match_num    0.024894\n",
       "5          winner_hand    0.022718\n",
       "6            winner_ht    0.146145\n",
       "7           winner_ioc    0.163767\n",
       "8           winner_age    0.152890\n",
       "9             loser_id    0.023263\n",
       "10          loser_hand    0.003690\n",
       "11            loser_ht    0.018782\n",
       "12           loser_ioc    0.021099\n",
       "13           loser_age    0.023778\n",
       "14             best_of    0.002711\n",
       "15               round    0.009637\n",
       "16         winner_rank    0.099763\n",
       "17  winner_rank_points    0.101459\n",
       "18          loser_rank    0.025277\n",
       "19   loser_rank_points    0.025297\n",
       "20        tourney_year    0.006855\n",
       "21       tourney_month    0.024715\n",
       "22         tourney_day    0.024656"
      ]
     },
     "execution_count": 17,
     "metadata": {},
     "output_type": "execute_result"
    }
   ],
   "source": [
    "\n",
    "df_importancias = pd.DataFrame({'Feature': nombres_caracteristicas, 'Importance': importancias})\n",
    "df_importancias\n"
   ]
  },
  {
   "cell_type": "markdown",
   "metadata": {},
   "source": [
    "### Creo que hay overfitting, asi que modifico los hiperparámetros"
   ]
  },
  {
   "cell_type": "code",
   "execution_count": 18,
   "metadata": {},
   "outputs": [
    {
     "data": {
      "text/plain": [
       "'\\n\\n# Paso 1: Realizar una búsqueda de hiperparámetros utilizando validación cruzada\\nparam_grid = {\\n    \\'n_estimators\\': [10, 25, 50],\\n    \\'max_depth\\': [None, 5, 10],\\n    \\'min_samples_split\\': [2, 5, 10],\\n    \\'min_samples_leaf\\': [1, 2, 4]\\n}\\n\\ngrid_search = GridSearchCV(estimator=model_rf, param_grid=param_grid, cv=4, n_jobs=-1)\\ngrid_search.fit(X_train, y_train)\\n\\n# Paso 2: Entrenar el modelo con los mejores hiperparámetros encontrados\\nbest_rf_model = grid_search.best_estimator_\\nbest_rf_model.fit(X_train, y_train)\\n\\n# Paso 3: Evaluar el modelo en el conjunto de prueba\\ny_pred = best_rf_model.predict(X_test)\\naccuracy = accuracy_score(y_test, y_pred)\\nprint(\"Accuracy:\", accuracy)\\n'"
      ]
     },
     "execution_count": 18,
     "metadata": {},
     "output_type": "execute_result"
    }
   ],
   "source": [
    "\"\"\"\n",
    "\n",
    "# Paso 1: Realizar una búsqueda de hiperparámetros utilizando validación cruzada\n",
    "param_grid = {\n",
    "    'n_estimators': [10, 25, 50],\n",
    "    'max_depth': [None, 5, 10],\n",
    "    'min_samples_split': [2, 5, 10],\n",
    "    'min_samples_leaf': [1, 2, 4]\n",
    "}\n",
    "\n",
    "grid_search = GridSearchCV(estimator=model_rf, param_grid=param_grid, cv=4, n_jobs=-1)\n",
    "grid_search.fit(X_train, y_train)\n",
    "\n",
    "# Paso 2: Entrenar el modelo con los mejores hiperparámetros encontrados\n",
    "best_rf_model = grid_search.best_estimator_\n",
    "best_rf_model.fit(X_train, y_train)\n",
    "\n",
    "# Paso 3: Evaluar el modelo en el conjunto de prueba\n",
    "y_pred = best_rf_model.predict(X_test)\n",
    "accuracy = accuracy_score(y_test, y_pred)\n",
    "print(\"Accuracy:\", accuracy)\n",
    "\"\"\"\n"
   ]
  },
  {
   "cell_type": "markdown",
   "metadata": {},
   "source": [
    "## Bagging que combina 100 árboles de decisión con validación cruzada --> Predice el ganador"
   ]
  },
  {
   "cell_type": "code",
   "execution_count": 19,
   "metadata": {},
   "outputs": [],
   "source": [
    "#Separamos en X e Y\n",
    "caracteristicas = df_limpio.drop(columns='winner_id', axis=1)\n",
    "target = df_limpio['winner_id']"
   ]
  },
  {
   "cell_type": "code",
   "execution_count": 20,
   "metadata": {},
   "outputs": [],
   "source": [
    "#Instanciamos los modelos\n",
    "Arbol_decision = DecisionTreeClassifier(max_depth=5,random_state=42)\n",
    "Bagging = BaggingClassifier(\n",
    "    base_estimator = Arbol_decision,\n",
    "    n_estimators=500, # Cantidad de árboles\n",
    "    max_samples=100, # Muestras utilizadas en boostrapping\n",
    "    bootstrap=True, # Usamos boostrapping\n",
    "    max_features = 3, # Features que utiliza en el boostrapping. Cuanto más bajo, mejor generalizará y menos overfitting\n",
    "    random_state=42)"
   ]
  },
  {
   "cell_type": "code",
   "execution_count": 21,
   "metadata": {},
   "outputs": [
    {
     "name": "stderr",
     "output_type": "stream",
     "text": [
      "C:\\Users\\puent\\AppData\\Local\\Packages\\PythonSoftwareFoundation.Python.3.8_qbz5n2kfra8p0\\LocalCache\\local-packages\\Python38\\site-packages\\sklearn\\ensemble\\_base.py:156: FutureWarning: `base_estimator` was renamed to `estimator` in version 1.2 and will be removed in 1.4.\n",
      "  warnings.warn(\n"
     ]
    }
   ],
   "source": [
    "#Lo entrenamos\n",
    "Bagging.fit(caracteristicas, target)\n",
    "predicciones = Bagging.predict(caracteristicas)\n",
    "bagging_score = accuracy_score(target, predicciones)"
   ]
  },
  {
   "cell_type": "code",
   "execution_count": 22,
   "metadata": {},
   "outputs": [
    {
     "data": {
      "text/plain": [
       "0.5204380491531899"
      ]
     },
     "execution_count": 22,
     "metadata": {},
     "output_type": "execute_result"
    }
   ],
   "source": [
    "bagging_score"
   ]
  },
  {
   "cell_type": "code",
   "execution_count": 23,
   "metadata": {},
   "outputs": [
    {
     "data": {
      "text/html": [
       "<div>\n",
       "<style scoped>\n",
       "    .dataframe tbody tr th:only-of-type {\n",
       "        vertical-align: middle;\n",
       "    }\n",
       "\n",
       "    .dataframe tbody tr th {\n",
       "        vertical-align: top;\n",
       "    }\n",
       "\n",
       "    .dataframe thead th {\n",
       "        text-align: right;\n",
       "    }\n",
       "</style>\n",
       "<table border=\"1\" class=\"dataframe\">\n",
       "  <thead>\n",
       "    <tr style=\"text-align: right;\">\n",
       "      <th></th>\n",
       "      <th>Predicciones</th>\n",
       "      <th>Target</th>\n",
       "    </tr>\n",
       "  </thead>\n",
       "  <tbody>\n",
       "    <tr>\n",
       "      <th>0</th>\n",
       "      <td>126207</td>\n",
       "      <td>126207</td>\n",
       "    </tr>\n",
       "    <tr>\n",
       "      <th>1</th>\n",
       "      <td>100644</td>\n",
       "      <td>105526</td>\n",
       "    </tr>\n",
       "    <tr>\n",
       "      <th>2</th>\n",
       "      <td>126774</td>\n",
       "      <td>111576</td>\n",
       "    </tr>\n",
       "    <tr>\n",
       "      <th>3</th>\n",
       "      <td>200282</td>\n",
       "      <td>105357</td>\n",
       "    </tr>\n",
       "    <tr>\n",
       "      <th>4</th>\n",
       "      <td>134770</td>\n",
       "      <td>207830</td>\n",
       "    </tr>\n",
       "    <tr>\n",
       "      <th>5</th>\n",
       "      <td>122330</td>\n",
       "      <td>105062</td>\n",
       "    </tr>\n",
       "    <tr>\n",
       "      <th>6</th>\n",
       "      <td>111815</td>\n",
       "      <td>136440</td>\n",
       "    </tr>\n",
       "    <tr>\n",
       "      <th>7</th>\n",
       "      <td>200175</td>\n",
       "      <td>200175</td>\n",
       "    </tr>\n",
       "    <tr>\n",
       "      <th>8</th>\n",
       "      <td>106218</td>\n",
       "      <td>106218</td>\n",
       "    </tr>\n",
       "    <tr>\n",
       "      <th>9</th>\n",
       "      <td>128034</td>\n",
       "      <td>106078</td>\n",
       "    </tr>\n",
       "    <tr>\n",
       "      <th>10</th>\n",
       "      <td>132283</td>\n",
       "      <td>123755</td>\n",
       "    </tr>\n",
       "    <tr>\n",
       "      <th>11</th>\n",
       "      <td>200282</td>\n",
       "      <td>105902</td>\n",
       "    </tr>\n",
       "    <tr>\n",
       "      <th>12</th>\n",
       "      <td>105227</td>\n",
       "      <td>105227</td>\n",
       "    </tr>\n",
       "    <tr>\n",
       "      <th>13</th>\n",
       "      <td>104925</td>\n",
       "      <td>104871</td>\n",
       "    </tr>\n",
       "    <tr>\n",
       "      <th>14</th>\n",
       "      <td>111815</td>\n",
       "      <td>106281</td>\n",
       "    </tr>\n",
       "  </tbody>\n",
       "</table>\n",
       "</div>"
      ],
      "text/plain": [
       "    Predicciones  Target\n",
       "0         126207  126207\n",
       "1         100644  105526\n",
       "2         126774  111576\n",
       "3         200282  105357\n",
       "4         134770  207830\n",
       "5         122330  105062\n",
       "6         111815  136440\n",
       "7         200175  200175\n",
       "8         106218  106218\n",
       "9         128034  106078\n",
       "10        132283  123755\n",
       "11        200282  105902\n",
       "12        105227  105227\n",
       "13        104925  104871\n",
       "14        111815  106281"
      ]
     },
     "execution_count": 23,
     "metadata": {},
     "output_type": "execute_result"
    }
   ],
   "source": [
    "# Creamos un DataFrame para comparar las predicciones con el target\n",
    "resultados = pd.DataFrame({'Predicciones': predicciones, 'Target': target})\n",
    "resultados.head(15)"
   ]
  },
  {
   "cell_type": "code",
   "execution_count": 24,
   "metadata": {},
   "outputs": [
    {
     "name": "stderr",
     "output_type": "stream",
     "text": [
      "C:\\Users\\puent\\AppData\\Local\\Packages\\PythonSoftwareFoundation.Python.3.8_qbz5n2kfra8p0\\LocalCache\\local-packages\\Python38\\site-packages\\sklearn\\model_selection\\_split.py:737: UserWarning: The least populated class in y has only 1 members, which is less than n_splits=5.\n",
      "  warnings.warn(\n",
      "C:\\Users\\puent\\AppData\\Local\\Packages\\PythonSoftwareFoundation.Python.3.8_qbz5n2kfra8p0\\LocalCache\\local-packages\\Python38\\site-packages\\sklearn\\ensemble\\_base.py:156: FutureWarning: `base_estimator` was renamed to `estimator` in version 1.2 and will be removed in 1.4.\n",
      "  warnings.warn(\n",
      "C:\\Users\\puent\\AppData\\Local\\Packages\\PythonSoftwareFoundation.Python.3.8_qbz5n2kfra8p0\\LocalCache\\local-packages\\Python38\\site-packages\\sklearn\\ensemble\\_base.py:156: FutureWarning: `base_estimator` was renamed to `estimator` in version 1.2 and will be removed in 1.4.\n",
      "  warnings.warn(\n",
      "C:\\Users\\puent\\AppData\\Local\\Packages\\PythonSoftwareFoundation.Python.3.8_qbz5n2kfra8p0\\LocalCache\\local-packages\\Python38\\site-packages\\sklearn\\ensemble\\_base.py:156: FutureWarning: `base_estimator` was renamed to `estimator` in version 1.2 and will be removed in 1.4.\n",
      "  warnings.warn(\n",
      "C:\\Users\\puent\\AppData\\Local\\Packages\\PythonSoftwareFoundation.Python.3.8_qbz5n2kfra8p0\\LocalCache\\local-packages\\Python38\\site-packages\\sklearn\\ensemble\\_base.py:156: FutureWarning: `base_estimator` was renamed to `estimator` in version 1.2 and will be removed in 1.4.\n",
      "  warnings.warn(\n",
      "C:\\Users\\puent\\AppData\\Local\\Packages\\PythonSoftwareFoundation.Python.3.8_qbz5n2kfra8p0\\LocalCache\\local-packages\\Python38\\site-packages\\sklearn\\ensemble\\_base.py:156: FutureWarning: `base_estimator` was renamed to `estimator` in version 1.2 and will be removed in 1.4.\n",
      "  warnings.warn(\n"
     ]
    }
   ],
   "source": [
    "# Realizamos validación cruzada\n",
    "scores = cross_val_score(Bagging, caracteristicas, target, cv=5)"
   ]
  },
  {
   "cell_type": "code",
   "execution_count": 25,
   "metadata": {},
   "outputs": [
    {
     "name": "stdout",
     "output_type": "stream",
     "text": [
      "Puntajes de validación cruzada: [0.42584341 0.46403565 0.44875875 0.4388535  0.37834395]\n",
      "Promedio de puntajes de validación cruzada: 0.43116705250824056\n"
     ]
    }
   ],
   "source": [
    "# Puntajes de validación cruzada\n",
    "print(\"Puntajes de validación cruzada:\", scores)\n",
    "\n",
    "# Calcular y mostrar el promedio de los puntajes\n",
    "print(\"Promedio de puntajes de validación cruzada:\", scores.mean())"
   ]
  },
  {
   "cell_type": "code",
   "execution_count": 26,
   "metadata": {},
   "outputs": [
    {
     "data": {
      "image/png": "[encoded data removed]",
      "text/plain": [
       "<Figure size 800x600 with 1 Axes>"
      ]
     },
     "metadata": {},
     "output_type": "display_data"
    }
   ],
   "source": [
    "# Figura\n",
    "plt.figure(figsize=(8, 6))\n",
    "\n",
    "# Grafica de los puntajes de validación cruzada\n",
    "plt.plot(range(1, 6), scores, marker='o', linestyle='-')\n",
    "\n",
    "# Agregamos etiquetas y título\n",
    "plt.xlabel('Fold')\n",
    "plt.ylabel('Puntaje de Validación Cruzada')\n",
    "plt.title('Puntajes de Validación Cruzada para Bagging Classifier')\n",
    "plt.grid(True)\n",
    "plt.show()"
   ]
  },
  {
   "cell_type": "markdown",
   "metadata": {},
   "source": [
    "## Adaboost --> predice el ganador"
   ]
  },
  {
   "cell_type": "code",
   "execution_count": 27,
   "metadata": {},
   "outputs": [],
   "source": [
    "#Instanciamos el AdaBoost\n",
    "estimator = DecisionTreeClassifier(max_depth=3)\n",
    "\n",
    "ada = AdaBoostClassifier(base_estimator = estimator,\n",
    "                             n_estimators=100,\n",
    "                             learning_rate=0.5,\n",
    "                             random_state=42)"
   ]
  },
  {
   "cell_type": "code",
   "execution_count": 28,
   "metadata": {},
   "outputs": [
    {
     "name": "stderr",
     "output_type": "stream",
     "text": [
      "C:\\Users\\puent\\AppData\\Local\\Packages\\PythonSoftwareFoundation.Python.3.8_qbz5n2kfra8p0\\LocalCache\\local-packages\\Python38\\site-packages\\sklearn\\ensemble\\_base.py:156: FutureWarning: `base_estimator` was renamed to `estimator` in version 1.2 and will be removed in 1.4.\n",
      "  warnings.warn(\n"
     ]
    }
   ],
   "source": [
    "#Entrenamos el modelo\n",
    "ada.fit(caracteristicas, target)\n",
    "predicciones_3 = ada.predict(caracteristicas)\n",
    "adaBoost_score = accuracy_score(target, predicciones_3)"
   ]
  },
  {
   "cell_type": "code",
   "execution_count": 29,
   "metadata": {},
   "outputs": [
    {
     "data": {
      "text/plain": [
       "0.939131542085827"
      ]
     },
     "execution_count": 29,
     "metadata": {},
     "output_type": "execute_result"
    }
   ],
   "source": [
    "adaBoost_score"
   ]
  },
  {
   "cell_type": "code",
   "execution_count": 30,
   "metadata": {},
   "outputs": [
    {
     "data": {
      "text/html": [
       "<div>\n",
       "<style scoped>\n",
       "    .dataframe tbody tr th:only-of-type {\n",
       "        vertical-align: middle;\n",
       "    }\n",
       "\n",
       "    .dataframe tbody tr th {\n",
       "        vertical-align: top;\n",
       "    }\n",
       "\n",
       "    .dataframe thead th {\n",
       "        text-align: right;\n",
       "    }\n",
       "</style>\n",
       "<table border=\"1\" class=\"dataframe\">\n",
       "  <thead>\n",
       "    <tr style=\"text-align: right;\">\n",
       "      <th></th>\n",
       "      <th>Predicciones</th>\n",
       "      <th>Target</th>\n",
       "    </tr>\n",
       "  </thead>\n",
       "  <tbody>\n",
       "    <tr>\n",
       "      <th>0</th>\n",
       "      <td>126207</td>\n",
       "      <td>126207</td>\n",
       "    </tr>\n",
       "    <tr>\n",
       "      <th>1</th>\n",
       "      <td>105870</td>\n",
       "      <td>105526</td>\n",
       "    </tr>\n",
       "    <tr>\n",
       "      <th>2</th>\n",
       "      <td>111576</td>\n",
       "      <td>111576</td>\n",
       "    </tr>\n",
       "    <tr>\n",
       "      <th>3</th>\n",
       "      <td>105357</td>\n",
       "      <td>105357</td>\n",
       "    </tr>\n",
       "    <tr>\n",
       "      <th>4</th>\n",
       "      <td>207830</td>\n",
       "      <td>207830</td>\n",
       "    </tr>\n",
       "    <tr>\n",
       "      <th>5</th>\n",
       "      <td>105062</td>\n",
       "      <td>105062</td>\n",
       "    </tr>\n",
       "    <tr>\n",
       "      <th>6</th>\n",
       "      <td>136440</td>\n",
       "      <td>136440</td>\n",
       "    </tr>\n",
       "    <tr>\n",
       "      <th>7</th>\n",
       "      <td>200175</td>\n",
       "      <td>200175</td>\n",
       "    </tr>\n",
       "    <tr>\n",
       "      <th>8</th>\n",
       "      <td>106218</td>\n",
       "      <td>106218</td>\n",
       "    </tr>\n",
       "    <tr>\n",
       "      <th>9</th>\n",
       "      <td>106078</td>\n",
       "      <td>106078</td>\n",
       "    </tr>\n",
       "    <tr>\n",
       "      <th>10</th>\n",
       "      <td>123755</td>\n",
       "      <td>123755</td>\n",
       "    </tr>\n",
       "    <tr>\n",
       "      <th>11</th>\n",
       "      <td>106331</td>\n",
       "      <td>105902</td>\n",
       "    </tr>\n",
       "    <tr>\n",
       "      <th>12</th>\n",
       "      <td>105227</td>\n",
       "      <td>105227</td>\n",
       "    </tr>\n",
       "    <tr>\n",
       "      <th>13</th>\n",
       "      <td>104871</td>\n",
       "      <td>104871</td>\n",
       "    </tr>\n",
       "    <tr>\n",
       "      <th>14</th>\n",
       "      <td>106281</td>\n",
       "      <td>106281</td>\n",
       "    </tr>\n",
       "    <tr>\n",
       "      <th>15</th>\n",
       "      <td>105932</td>\n",
       "      <td>105932</td>\n",
       "    </tr>\n",
       "    <tr>\n",
       "      <th>16</th>\n",
       "      <td>200221</td>\n",
       "      <td>200221</td>\n",
       "    </tr>\n",
       "    <tr>\n",
       "      <th>17</th>\n",
       "      <td>104926</td>\n",
       "      <td>104926</td>\n",
       "    </tr>\n",
       "    <tr>\n",
       "      <th>18</th>\n",
       "      <td>200005</td>\n",
       "      <td>200005</td>\n",
       "    </tr>\n",
       "    <tr>\n",
       "      <th>19</th>\n",
       "      <td>132283</td>\n",
       "      <td>132283</td>\n",
       "    </tr>\n",
       "  </tbody>\n",
       "</table>\n",
       "</div>"
      ],
      "text/plain": [
       "    Predicciones  Target\n",
       "0         126207  126207\n",
       "1         105870  105526\n",
       "2         111576  111576\n",
       "3         105357  105357\n",
       "4         207830  207830\n",
       "5         105062  105062\n",
       "6         136440  136440\n",
       "7         200175  200175\n",
       "8         106218  106218\n",
       "9         106078  106078\n",
       "10        123755  123755\n",
       "11        106331  105902\n",
       "12        105227  105227\n",
       "13        104871  104871\n",
       "14        106281  106281\n",
       "15        105932  105932\n",
       "16        200221  200221\n",
       "17        104926  104926\n",
       "18        200005  200005\n",
       "19        132283  132283"
      ]
     },
     "execution_count": 30,
     "metadata": {},
     "output_type": "execute_result"
    }
   ],
   "source": [
    "# Creamos un DataFrame para comparar las predicciones con el target\n",
    "resultados = pd.DataFrame(data={'Predicciones': predicciones_3, 'Target': target})\n",
    "resultados.head(20)"
   ]
  },
  {
   "cell_type": "markdown",
   "metadata": {},
   "source": [
    "## XGBoost --> Predice el ganador"
   ]
  },
  {
   "cell_type": "code",
   "execution_count": 31,
   "metadata": {},
   "outputs": [],
   "source": [
    "# Instancia del modelo XGBoostClassifier\n",
    "xgb_classifier = XGBClassifier(n_estimators=50)\n"
   ]
  },
  {
   "cell_type": "code",
   "execution_count": 32,
   "metadata": {},
   "outputs": [
    {
     "data": {
      "text/html": [
       "<style>#sk-container-id-1 {color: black;}#sk-container-id-1 pre{padding: 0;}#sk-container-id-1 div.sk-toggleable {background-color: white;}#sk-container-id-1 label.sk-toggleable__label {cursor: pointer;display: block;width: 100%;margin-bottom: 0;padding: 0.3em;box-sizing: border-box;text-align: center;}#sk-container-id-1 label.sk-toggleable__label-arrow:before {content: \"▸\";float: left;margin-right: 0.25em;color: #696969;}#sk-container-id-1 label.sk-toggleable__label-arrow:hover:before {color: black;}#sk-container-id-1 div.sk-estimator:hover label.sk-toggleable__label-arrow:before {color: black;}#sk-container-id-1 div.sk-toggleable__content {max-height: 0;max-width: 0;overflow: hidden;text-align: left;background-color: #f0f8ff;}#sk-container-id-1 div.sk-toggleable__content pre {margin: 0.2em;color: black;border-radius: 0.25em;background-color: #f0f8ff;}#sk-container-id-1 input.sk-toggleable__control:checked~div.sk-toggleable__content {max-height: 200px;max-width: 100%;overflow: auto;}#sk-container-id-1 input.sk-toggleable__control:checked~label.sk-toggleable__label-arrow:before {content: \"▾\";}#sk-container-id-1 div.sk-estimator input.sk-toggleable__control:checked~label.sk-toggleable__label {background-color: #d4ebff;}#sk-container-id-1 div.sk-label input.sk-toggleable__control:checked~label.sk-toggleable__label {background-color: #d4ebff;}#sk-container-id-1 input.sk-hidden--visually {border: 0;clip: rect(1px 1px 1px 1px);clip: rect(1px, 1px, 1px, 1px);height: 1px;margin: -1px;overflow: hidden;padding: 0;position: absolute;width: 1px;}#sk-container-id-1 div.sk-estimator {font-family: monospace;background-color: #f0f8ff;border: 1px dotted black;border-radius: 0.25em;box-sizing: border-box;margin-bottom: 0.5em;}#sk-container-id-1 div.sk-estimator:hover {background-color: #d4ebff;}#sk-container-id-1 div.sk-parallel-item::after {content: \"\";width: 100%;border-bottom: 1px solid gray;flex-grow: 1;}#sk-container-id-1 div.sk-label:hover label.sk-toggleable__label {background-color: #d4ebff;}#sk-container-id-1 div.sk-serial::before {content: \"\";position: absolute;border-left: 1px solid gray;box-sizing: border-box;top: 0;bottom: 0;left: 50%;z-index: 0;}#sk-container-id-1 div.sk-serial {display: flex;flex-direction: column;align-items: center;background-color: white;padding-right: 0.2em;padding-left: 0.2em;position: relative;}#sk-container-id-1 div.sk-item {position: relative;z-index: 1;}#sk-container-id-1 div.sk-parallel {display: flex;align-items: stretch;justify-content: center;background-color: white;position: relative;}#sk-container-id-1 div.sk-item::before, #sk-container-id-1 div.sk-parallel-item::before {content: \"\";position: absolute;border-left: 1px solid gray;box-sizing: border-box;top: 0;bottom: 0;left: 50%;z-index: -1;}#sk-container-id-1 div.sk-parallel-item {display: flex;flex-direction: column;z-index: 1;position: relative;background-color: white;}#sk-container-id-1 div.sk-parallel-item:first-child::after {align-self: flex-end;width: 50%;}#sk-container-id-1 div.sk-parallel-item:last-child::after {align-self: flex-start;width: 50%;}#sk-container-id-1 div.sk-parallel-item:only-child::after {width: 0;}#sk-container-id-1 div.sk-dashed-wrapped {border: 1px dashed gray;margin: 0 0.4em 0.5em 0.4em;box-sizing: border-box;padding-bottom: 0.4em;background-color: white;}#sk-container-id-1 div.sk-label label {font-family: monospace;font-weight: bold;display: inline-block;line-height: 1.2em;}#sk-container-id-1 div.sk-label-container {text-align: center;}#sk-container-id-1 div.sk-container {/* jupyter's `normalize.less` sets `[hidden] { display: none; }` but bootstrap.min.css set `[hidden] { display: none !important; }` so we also need the `!important` here to be able to override the default hidden behavior on the sphinx rendered scikit-learn.org. See: https://github.com/scikit-learn/scikit-learn/issues/21755 */display: inline-block !important;position: relative;}#sk-container-id-1 div.sk-text-repr-fallback {display: none;}</style><div id=\"sk-container-id-1\" class=\"sk-top-container\"><div class=\"sk-text-repr-fallback\"><pre>XGBClassifier(base_score=None, booster=None, callbacks=None,\n",
       "              colsample_bylevel=None, colsample_bynode=None,\n",
       "              colsample_bytree=None, device=None, early_stopping_rounds=None,\n",
       "              enable_categorical=False, eval_metric=None, feature_types=None,\n",
       "              gamma=None, grow_policy=None, importance_type=None,\n",
       "              interaction_constraints=None, learning_rate=None, max_bin=None,\n",
       "              max_cat_threshold=None, max_cat_to_onehot=None,\n",
       "              max_delta_step=None, max_depth=None, max_leaves=None,\n",
       "              min_child_weight=None, missing=nan, monotone_constraints=None,\n",
       "              multi_strategy=None, n_estimators=50, n_jobs=None,\n",
       "              num_parallel_tree=None, objective=&#x27;multi:softprob&#x27;, ...)</pre><b>In a Jupyter environment, please rerun this cell to show the HTML representation or trust the notebook. <br />On GitHub, the HTML representation is unable to render, please try loading this page with nbviewer.org.</b></div><div class=\"sk-container\" hidden><div class=\"sk-item\"><div class=\"sk-estimator sk-toggleable\"><input class=\"sk-toggleable__control sk-hidden--visually\" id=\"sk-estimator-id-1\" type=\"checkbox\" checked><label for=\"sk-estimator-id-1\" class=\"sk-toggleable__label sk-toggleable__label-arrow\">XGBClassifier</label><div class=\"sk-toggleable__content\"><pre>XGBClassifier(base_score=None, booster=None, callbacks=None,\n",
       "              colsample_bylevel=None, colsample_bynode=None,\n",
       "              colsample_bytree=None, device=None, early_stopping_rounds=None,\n",
       "              enable_categorical=False, eval_metric=None, feature_types=None,\n",
       "              gamma=None, grow_policy=None, importance_type=None,\n",
       "              interaction_constraints=None, learning_rate=None, max_bin=None,\n",
       "              max_cat_threshold=None, max_cat_to_onehot=None,\n",
       "              max_delta_step=None, max_depth=None, max_leaves=None,\n",
       "              min_child_weight=None, missing=nan, monotone_constraints=None,\n",
       "              multi_strategy=None, n_estimators=50, n_jobs=None,\n",
       "              num_parallel_tree=None, objective=&#x27;multi:softprob&#x27;, ...)</pre></div></div></div></div></div>"
      ],
      "text/plain": [
       "XGBClassifier(base_score=None, booster=None, callbacks=None,\n",
       "              colsample_bylevel=None, colsample_bynode=None,\n",
       "              colsample_bytree=None, device=None, early_stopping_rounds=None,\n",
       "              enable_categorical=False, eval_metric=None, feature_types=None,\n",
       "              gamma=None, grow_policy=None, importance_type=None,\n",
       "              interaction_constraints=None, learning_rate=None, max_bin=None,\n",
       "              max_cat_threshold=None, max_cat_to_onehot=None,\n",
       "              max_delta_step=None, max_depth=None, max_leaves=None,\n",
       "              min_child_weight=None, missing=nan, monotone_constraints=None,\n",
       "              multi_strategy=None, n_estimators=50, n_jobs=None,\n",
       "              num_parallel_tree=None, objective='multi:softprob', ...)"
      ]
     },
     "execution_count": 32,
     "metadata": {},
     "output_type": "execute_result"
    }
   ],
   "source": [
    "# Inicializamos el codificador\n",
    "label_encoder = LabelEncoder()\n",
    "\n",
    "# Convertimos la variable categórica a valores numéricos discretos\n",
    "y_encoded = label_encoder.fit_transform(y)\n",
    "\n",
    "# Entrenamos el modelo con las etiquetas codificadas\n",
    "xgb_classifier.fit(X, y_encoded)"
   ]
  },
  {
   "cell_type": "code",
   "execution_count": 33,
   "metadata": {},
   "outputs": [],
   "source": [
    "# Predecimos\n",
    "predicciones_2 = xgb_classifier.predict(X)"
   ]
  },
  {
   "cell_type": "code",
   "execution_count": 34,
   "metadata": {},
   "outputs": [
    {
     "name": "stdout",
     "output_type": "stream",
     "text": [
      "Accuracy: 0.9923596077932001\n"
     ]
    }
   ],
   "source": [
    "##Calculamos el accuracy\n",
    "xgb_accuracy = accuracy_score(y_encoded, predicciones_2)\n",
    "print(\"Accuracy:\", xgb_accuracy)"
   ]
  },
  {
   "cell_type": "code",
   "execution_count": 35,
   "metadata": {},
   "outputs": [
    {
     "data": {
      "text/html": [
       "<div>\n",
       "<style scoped>\n",
       "    .dataframe tbody tr th:only-of-type {\n",
       "        vertical-align: middle;\n",
       "    }\n",
       "\n",
       "    .dataframe tbody tr th {\n",
       "        vertical-align: top;\n",
       "    }\n",
       "\n",
       "    .dataframe thead th {\n",
       "        text-align: right;\n",
       "    }\n",
       "</style>\n",
       "<table border=\"1\" class=\"dataframe\">\n",
       "  <thead>\n",
       "    <tr style=\"text-align: right;\">\n",
       "      <th></th>\n",
       "      <th>Predicciones</th>\n",
       "      <th>Target</th>\n",
       "    </tr>\n",
       "  </thead>\n",
       "  <tbody>\n",
       "    <tr>\n",
       "      <th>0</th>\n",
       "      <td>182</td>\n",
       "      <td>182</td>\n",
       "    </tr>\n",
       "    <tr>\n",
       "      <th>1</th>\n",
       "      <td>53</td>\n",
       "      <td>53</td>\n",
       "    </tr>\n",
       "    <tr>\n",
       "      <th>2</th>\n",
       "      <td>148</td>\n",
       "      <td>148</td>\n",
       "    </tr>\n",
       "    <tr>\n",
       "      <th>3</th>\n",
       "      <td>41</td>\n",
       "      <td>41</td>\n",
       "    </tr>\n",
       "    <tr>\n",
       "      <th>4</th>\n",
       "      <td>270</td>\n",
       "      <td>270</td>\n",
       "    </tr>\n",
       "    <tr>\n",
       "      <th>5</th>\n",
       "      <td>32</td>\n",
       "      <td>32</td>\n",
       "    </tr>\n",
       "    <tr>\n",
       "      <th>6</th>\n",
       "      <td>212</td>\n",
       "      <td>212</td>\n",
       "    </tr>\n",
       "    <tr>\n",
       "      <th>7</th>\n",
       "      <td>228</td>\n",
       "      <td>228</td>\n",
       "    </tr>\n",
       "    <tr>\n",
       "      <th>8</th>\n",
       "      <td>111</td>\n",
       "      <td>111</td>\n",
       "    </tr>\n",
       "    <tr>\n",
       "      <th>9</th>\n",
       "      <td>99</td>\n",
       "      <td>99</td>\n",
       "    </tr>\n",
       "    <tr>\n",
       "      <th>10</th>\n",
       "      <td>164</td>\n",
       "      <td>164</td>\n",
       "    </tr>\n",
       "    <tr>\n",
       "      <th>11</th>\n",
       "      <td>80</td>\n",
       "      <td>80</td>\n",
       "    </tr>\n",
       "    <tr>\n",
       "      <th>12</th>\n",
       "      <td>38</td>\n",
       "      <td>38</td>\n",
       "    </tr>\n",
       "    <tr>\n",
       "      <th>13</th>\n",
       "      <td>23</td>\n",
       "      <td>23</td>\n",
       "    </tr>\n",
       "    <tr>\n",
       "      <th>14</th>\n",
       "      <td>116</td>\n",
       "      <td>116</td>\n",
       "    </tr>\n",
       "    <tr>\n",
       "      <th>15</th>\n",
       "      <td>82</td>\n",
       "      <td>82</td>\n",
       "    </tr>\n",
       "    <tr>\n",
       "      <th>16</th>\n",
       "      <td>230</td>\n",
       "      <td>230</td>\n",
       "    </tr>\n",
       "    <tr>\n",
       "      <th>17</th>\n",
       "      <td>27</td>\n",
       "      <td>27</td>\n",
       "    </tr>\n",
       "    <tr>\n",
       "      <th>18</th>\n",
       "      <td>224</td>\n",
       "      <td>224</td>\n",
       "    </tr>\n",
       "    <tr>\n",
       "      <th>19</th>\n",
       "      <td>203</td>\n",
       "      <td>203</td>\n",
       "    </tr>\n",
       "  </tbody>\n",
       "</table>\n",
       "</div>"
      ],
      "text/plain": [
       "    Predicciones  Target\n",
       "0            182     182\n",
       "1             53      53\n",
       "2            148     148\n",
       "3             41      41\n",
       "4            270     270\n",
       "5             32      32\n",
       "6            212     212\n",
       "7            228     228\n",
       "8            111     111\n",
       "9             99      99\n",
       "10           164     164\n",
       "11            80      80\n",
       "12            38      38\n",
       "13            23      23\n",
       "14           116     116\n",
       "15            82      82\n",
       "16           230     230\n",
       "17            27      27\n",
       "18           224     224\n",
       "19           203     203"
      ]
     },
     "execution_count": 35,
     "metadata": {},
     "output_type": "execute_result"
    }
   ],
   "source": [
    "# Creamos un DataFrame para comparar las predicciones con el target\n",
    "resultados = pd.DataFrame(data={'Predicciones': predicciones_2, 'Target': y_encoded})\n",
    "resultados.head(20)"
   ]
  },
  {
   "cell_type": "markdown",
   "metadata": {},
   "source": [
    "## Resumen final"
   ]
  },
  {
   "cell_type": "code",
   "execution_count": 36,
   "metadata": {},
   "outputs": [],
   "source": [
    " ##Creamos un DataFrame con los puntajes y las ordenamos\n",
    "resultados_finales = pd.DataFrame({'Modelo': ['XGBoost','Regresión logística','Bagging', 'Random Forest', 'AdaBoost'], 'Resultado': [xgb_accuracy,LogisticRegression_accuracy ,bagging_score, accuracy_rf, adaBoost_score]})"
   ]
  },
  {
   "cell_type": "code",
   "execution_count": 37,
   "metadata": {},
   "outputs": [
    {
     "data": {
      "text/html": [
       "<div>\n",
       "<style scoped>\n",
       "    .dataframe tbody tr th:only-of-type {\n",
       "        vertical-align: middle;\n",
       "    }\n",
       "\n",
       "    .dataframe tbody tr th {\n",
       "        vertical-align: top;\n",
       "    }\n",
       "\n",
       "    .dataframe thead th {\n",
       "        text-align: right;\n",
       "    }\n",
       "</style>\n",
       "<table border=\"1\" class=\"dataframe\">\n",
       "  <thead>\n",
       "    <tr style=\"text-align: right;\">\n",
       "      <th></th>\n",
       "      <th>Modelo</th>\n",
       "      <th>Resultado</th>\n",
       "    </tr>\n",
       "  </thead>\n",
       "  <tbody>\n",
       "    <tr>\n",
       "      <th>0</th>\n",
       "      <td>XGBoost</td>\n",
       "      <td>0.992360</td>\n",
       "    </tr>\n",
       "    <tr>\n",
       "      <th>3</th>\n",
       "      <td>Random Forest</td>\n",
       "      <td>0.952260</td>\n",
       "    </tr>\n",
       "    <tr>\n",
       "      <th>4</th>\n",
       "      <td>AdaBoost</td>\n",
       "      <td>0.939132</td>\n",
       "    </tr>\n",
       "    <tr>\n",
       "      <th>1</th>\n",
       "      <td>Regresión logística</td>\n",
       "      <td>0.724379</td>\n",
       "    </tr>\n",
       "    <tr>\n",
       "      <th>2</th>\n",
       "      <td>Bagging</td>\n",
       "      <td>0.520438</td>\n",
       "    </tr>\n",
       "  </tbody>\n",
       "</table>\n",
       "</div>"
      ],
      "text/plain": [
       "                Modelo  Resultado\n",
       "0              XGBoost   0.992360\n",
       "3        Random Forest   0.952260\n",
       "4             AdaBoost   0.939132\n",
       "1  Regresión logística   0.724379\n",
       "2              Bagging   0.520438"
      ]
     },
     "execution_count": 37,
     "metadata": {},
     "output_type": "execute_result"
    }
   ],
   "source": [
    "resultados_finales.sort_values(by='Resultado', ascending=False)"
   ]
  }
 ],
 "metadata": {
  "kernelspec": {
   "display_name": "Python 3",
   "language": "python",
   "name": "python3"
  },
  "language_info": {
   "codemirror_mode": {
    "name": "ipython",
    "version": 3
   },
   "file_extension": ".py",
   "mimetype": "text/x-python",
   "name": "python",
   "nbconvert_exporter": "python",
   "pygments_lexer": "ipython3",
   "version": "3.8.10"
  }
 },
 "nbformat": 4,
 "nbformat_minor": 2
}
