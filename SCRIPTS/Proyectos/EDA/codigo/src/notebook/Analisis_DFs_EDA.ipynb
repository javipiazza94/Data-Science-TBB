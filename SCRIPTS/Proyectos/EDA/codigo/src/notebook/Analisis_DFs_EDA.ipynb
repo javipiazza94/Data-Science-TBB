{
 "cells": [
  {
   "cell_type": "markdown",
   "metadata": {},
   "source": [
    "\n",
    "<img src=\"./data/images/tinder.png\" alt=\"imagen\" width=\"300\"/>\n"
   ]
  },
  {
   "cell_type": "markdown",
   "metadata": {},
   "source": [
    "# INFORMACIÓN DEL PROYECTO"
   ]
  },
  {
   "cell_type": "markdown",
   "metadata": {},
   "source": [
    "### TÍTULO"
   ]
  },
  {
   "cell_type": "code",
   "execution_count": 1,
   "metadata": {},
   "outputs": [],
   "source": [
    "#Escribe el título del proyecto en Markdown\n",
    "titulo = \"La influencia de las redes sociales y las dating apps en el éxito de las relaciones de pareja en la poblacion milennial\"\n"
   ]
  },
  {
   "cell_type": "markdown",
   "metadata": {},
   "source": [
    "### TEMA"
   ]
  },
  {
   "cell_type": "code",
   "execution_count": 2,
   "metadata": {},
   "outputs": [],
   "source": [
    "# Describe brevemente el tema del proyecto en Markdown\n",
    "tema = \"El objetivo es averiguar el impacto que tienen las aplicaciones de citas y las redes sociales en general a la hora de encontrar pareja en la poblacion milennial\""
   ]
  },
  {
   "cell_type": "markdown",
   "metadata": {},
   "source": [
    "### HIPÓTESIS"
   ]
  },
  {
   "cell_type": "markdown",
   "metadata": {},
   "source": [
    "Define aquí lo que será la hipótesis de tu proyecto.\n",
    "Puede que tengas más de una, pero tu proyecto lo harás teniendo una principal hipótesis."
   ]
  },
  {
   "cell_type": "code",
   "execution_count": 3,
   "metadata": {},
   "outputs": [],
   "source": [
    "# Escribe tu hipótesis principal en Markdown\n",
    "hipotesis_principal = \"El dating online no se ha demostrado exitoso a la hora de encontrar pareja a largo plazo para la poblacion milennial\"\n",
    "hipotesis_secundaria = \"Los hombres suelen utilizar estas apps más y con peores resultados\"\n",
    "hipotesis_secundaria2 = \"Las apps de citas de suelen utilizar para engañar o cambiar de pareja más rápidamente\""
   ]
  },
  {
   "cell_type": "markdown",
   "metadata": {},
   "source": [
    "## OBTENCIÓN DE LOS DATOS"
   ]
  },
  {
   "cell_type": "markdown",
   "metadata": {},
   "source": [
    "### DATASETS Y FUENTES ALTERNATIVAS DE DATOS"
   ]
  },
  {
   "cell_type": "markdown",
   "metadata": {},
   "source": [
    "Incluye aquí una vista del dataset o datasets de los que partirás para poder evaluar tu hipótesis. <br>\n",
    "También incluye el origen de estos datos y su fuente."
   ]
  },
  {
   "cell_type": "code",
   "execution_count": 4,
   "metadata": {},
   "outputs": [],
   "source": [
    "import pandas as pd\n",
    "import matplotlib.pyplot as plt\n",
    "import numpy as np\n",
    "import seaborn as sns"
   ]
  },
  {
   "cell_type": "code",
   "execution_count": 5,
   "metadata": {},
   "outputs": [
    {
     "name": "stdout",
     "output_type": "stream",
     "text": [
      "Requirement already satisfied: openpyxl in c:\\users\\javi p. piazza\\appdata\\local\\packages\\pythonsoftwarefoundation.python.3.8_qbz5n2kfra8p0\\localcache\\local-packages\\python38\\site-packages (3.1.2)\n",
      "Requirement already satisfied: et-xmlfile in c:\\users\\javi p. piazza\\appdata\\local\\packages\\pythonsoftwarefoundation.python.3.8_qbz5n2kfra8p0\\localcache\\local-packages\\python38\\site-packages (from openpyxl) (1.1.0)\n"
     ]
    }
   ],
   "source": [
    "!pip install openpyxl"
   ]
  },
  {
   "cell_type": "code",
   "execution_count": 6,
   "metadata": {},
   "outputs": [],
   "source": [
    "\n",
    "df_1 = pd.read_csv('./data/DatingAppReviewsDataset.csv')\n",
    "fuente_1 = \"kaggle\"\n",
    "df_2 = pd.read_csv('./data/Tinder Millennial Match Rate Dataset.csv')\n",
    "fuente_2 = \"kaggle\"\n",
    "df_3 = pd.read_csv('./data/Week 30 - United States Marriage Status 2005 to 2017.csv')\n",
    "fuente_3 = \"kaggle\"\n",
    "df_4 = pd.read_csv('./data/profiles_OkCupid.csv')\n",
    "fuente_4 = \"kaggle\"\n",
    "df_5 = pd.read_csv('./data/lovoo_v3_users_instances.csv')\n",
    "fuente_5 = \"kaggle\"\n",
    "df_6 = pd.read_excel('./data/Tinder (base de datos).xlsx')\n",
    "fuente_6 = \"figshare\""
   ]
  },
  {
   "cell_type": "code",
   "execution_count": 7,
   "metadata": {},
   "outputs": [
    {
     "data": {
      "text/html": [
       "<div>\n",
       "<style scoped>\n",
       "    .dataframe tbody tr th:only-of-type {\n",
       "        vertical-align: middle;\n",
       "    }\n",
       "\n",
       "    .dataframe tbody tr th {\n",
       "        vertical-align: top;\n",
       "    }\n",
       "\n",
       "    .dataframe thead th {\n",
       "        text-align: right;\n",
       "    }\n",
       "</style>\n",
       "<table border=\"1\" class=\"dataframe\">\n",
       "  <thead>\n",
       "    <tr style=\"text-align: right;\">\n",
       "      <th></th>\n",
       "      <th>Unnamed: 0</th>\n",
       "      <th>Name</th>\n",
       "      <th>Review</th>\n",
       "      <th>Rating</th>\n",
       "      <th>#ThumbsUp</th>\n",
       "      <th>Date&amp;Time</th>\n",
       "      <th>App</th>\n",
       "    </tr>\n",
       "  </thead>\n",
       "  <tbody>\n",
       "    <tr>\n",
       "      <th>0</th>\n",
       "      <td>0</td>\n",
       "      <td>linah sibanda</td>\n",
       "      <td>On this app i cant find a partner</td>\n",
       "      <td>5</td>\n",
       "      <td>0</td>\n",
       "      <td>18-02-2022 01:19</td>\n",
       "      <td>Tinder</td>\n",
       "    </tr>\n",
       "    <tr>\n",
       "      <th>1</th>\n",
       "      <td>1</td>\n",
       "      <td>Norman Johnson</td>\n",
       "      <td>Tinder would be so much better if we could spe...</td>\n",
       "      <td>3</td>\n",
       "      <td>0</td>\n",
       "      <td>18-02-2022 01:16</td>\n",
       "      <td>Tinder</td>\n",
       "    </tr>\n",
       "    <tr>\n",
       "      <th>2</th>\n",
       "      <td>2</td>\n",
       "      <td>David Hume</td>\n",
       "      <td>Still doesn't correctly notify matches or mess...</td>\n",
       "      <td>1</td>\n",
       "      <td>0</td>\n",
       "      <td>18-02-2022 01:11</td>\n",
       "      <td>Tinder</td>\n",
       "    </tr>\n",
       "    <tr>\n",
       "      <th>3</th>\n",
       "      <td>3</td>\n",
       "      <td>Last 1 Standing</td>\n",
       "      <td>Got banned because I updated my bio to say \"I ...</td>\n",
       "      <td>2</td>\n",
       "      <td>0</td>\n",
       "      <td>18-02-2022 01:11</td>\n",
       "      <td>Tinder</td>\n",
       "    </tr>\n",
       "    <tr>\n",
       "      <th>4</th>\n",
       "      <td>4</td>\n",
       "      <td>Arthur Magamedov</td>\n",
       "      <td>Love it!</td>\n",
       "      <td>5</td>\n",
       "      <td>0</td>\n",
       "      <td>18-02-2022 01:06</td>\n",
       "      <td>Tinder</td>\n",
       "    </tr>\n",
       "  </tbody>\n",
       "</table>\n",
       "</div>"
      ],
      "text/plain": [
       "   Unnamed: 0              Name  \\\n",
       "0           0     linah sibanda   \n",
       "1           1    Norman Johnson   \n",
       "2           2        David Hume   \n",
       "3           3   Last 1 Standing   \n",
       "4           4  Arthur Magamedov   \n",
       "\n",
       "                                              Review  Rating  #ThumbsUp  \\\n",
       "0                  On this app i cant find a partner       5          0   \n",
       "1  Tinder would be so much better if we could spe...       3          0   \n",
       "2  Still doesn't correctly notify matches or mess...       1          0   \n",
       "3  Got banned because I updated my bio to say \"I ...       2          0   \n",
       "4                                           Love it!       5          0   \n",
       "\n",
       "          Date&Time     App  \n",
       "0  18-02-2022 01:19  Tinder  \n",
       "1  18-02-2022 01:16  Tinder  \n",
       "2  18-02-2022 01:11  Tinder  \n",
       "3  18-02-2022 01:11  Tinder  \n",
       "4  18-02-2022 01:06  Tinder  "
      ]
     },
     "execution_count": 7,
     "metadata": {},
     "output_type": "execute_result"
    }
   ],
   "source": [
    "# Primer dataset --> Dating Review\n",
    "df_1.head()"
   ]
  },
  {
   "cell_type": "code",
   "execution_count": 8,
   "metadata": {},
   "outputs": [
    {
     "data": {
      "text/html": [
       "<div>\n",
       "<style scoped>\n",
       "    .dataframe tbody tr th:only-of-type {\n",
       "        vertical-align: middle;\n",
       "    }\n",
       "\n",
       "    .dataframe tbody tr th {\n",
       "        vertical-align: top;\n",
       "    }\n",
       "\n",
       "    .dataframe thead th {\n",
       "        text-align: right;\n",
       "    }\n",
       "</style>\n",
       "<table border=\"1\" class=\"dataframe\">\n",
       "  <thead>\n",
       "    <tr style=\"text-align: right;\">\n",
       "      <th></th>\n",
       "      <th>Name</th>\n",
       "      <th>Review</th>\n",
       "      <th>Rating</th>\n",
       "      <th>#ThumbsUp</th>\n",
       "      <th>Date&amp;Time</th>\n",
       "      <th>App</th>\n",
       "    </tr>\n",
       "  </thead>\n",
       "  <tbody>\n",
       "    <tr>\n",
       "      <th>0</th>\n",
       "      <td>linah sibanda</td>\n",
       "      <td>On this app i cant find a partner</td>\n",
       "      <td>5</td>\n",
       "      <td>0</td>\n",
       "      <td>18-02-2022 01:19</td>\n",
       "      <td>Tinder</td>\n",
       "    </tr>\n",
       "    <tr>\n",
       "      <th>1</th>\n",
       "      <td>Norman Johnson</td>\n",
       "      <td>Tinder would be so much better if we could spe...</td>\n",
       "      <td>3</td>\n",
       "      <td>0</td>\n",
       "      <td>18-02-2022 01:16</td>\n",
       "      <td>Tinder</td>\n",
       "    </tr>\n",
       "    <tr>\n",
       "      <th>2</th>\n",
       "      <td>David Hume</td>\n",
       "      <td>Still doesn't correctly notify matches or mess...</td>\n",
       "      <td>1</td>\n",
       "      <td>0</td>\n",
       "      <td>18-02-2022 01:11</td>\n",
       "      <td>Tinder</td>\n",
       "    </tr>\n",
       "    <tr>\n",
       "      <th>3</th>\n",
       "      <td>Last 1 Standing</td>\n",
       "      <td>Got banned because I updated my bio to say \"I ...</td>\n",
       "      <td>2</td>\n",
       "      <td>0</td>\n",
       "      <td>18-02-2022 01:11</td>\n",
       "      <td>Tinder</td>\n",
       "    </tr>\n",
       "    <tr>\n",
       "      <th>4</th>\n",
       "      <td>Arthur Magamedov</td>\n",
       "      <td>Love it!</td>\n",
       "      <td>5</td>\n",
       "      <td>0</td>\n",
       "      <td>18-02-2022 01:06</td>\n",
       "      <td>Tinder</td>\n",
       "    </tr>\n",
       "    <tr>\n",
       "      <th>...</th>\n",
       "      <td>...</td>\n",
       "      <td>...</td>\n",
       "      <td>...</td>\n",
       "      <td>...</td>\n",
       "      <td>...</td>\n",
       "      <td>...</td>\n",
       "    </tr>\n",
       "    <tr>\n",
       "      <th>681989</th>\n",
       "      <td>A Google user</td>\n",
       "      <td>Useless - I'm in the UK and it tells me i'm ov...</td>\n",
       "      <td>2</td>\n",
       "      <td>5</td>\n",
       "      <td>12-07-2017 01:44</td>\n",
       "      <td>Hinge</td>\n",
       "    </tr>\n",
       "    <tr>\n",
       "      <th>681990</th>\n",
       "      <td>Brian Shook</td>\n",
       "      <td>I can't get past the initial set up.  It won't...</td>\n",
       "      <td>1</td>\n",
       "      <td>11</td>\n",
       "      <td>12-07-2017 01:36</td>\n",
       "      <td>Hinge</td>\n",
       "    </tr>\n",
       "    <tr>\n",
       "      <th>681991</th>\n",
       "      <td>A Google user</td>\n",
       "      <td>This is incredible! A quality dating app for A...</td>\n",
       "      <td>5</td>\n",
       "      <td>1</td>\n",
       "      <td>12-07-2017 01:32</td>\n",
       "      <td>Hinge</td>\n",
       "    </tr>\n",
       "    <tr>\n",
       "      <th>681992</th>\n",
       "      <td>A Google user</td>\n",
       "      <td>\"Over Water\" ... Can't choose location.</td>\n",
       "      <td>2</td>\n",
       "      <td>8</td>\n",
       "      <td>12-07-2017 01:28</td>\n",
       "      <td>Hinge</td>\n",
       "    </tr>\n",
       "    <tr>\n",
       "      <th>681993</th>\n",
       "      <td>Dylan Fick</td>\n",
       "      <td>My entire town counts as \"over water\" and I ca...</td>\n",
       "      <td>2</td>\n",
       "      <td>15</td>\n",
       "      <td>12-07-2017 01:24</td>\n",
       "      <td>Hinge</td>\n",
       "    </tr>\n",
       "  </tbody>\n",
       "</table>\n",
       "<p>681994 rows × 6 columns</p>\n",
       "</div>"
      ],
      "text/plain": [
       "                    Name                                             Review  \\\n",
       "0          linah sibanda                  On this app i cant find a partner   \n",
       "1         Norman Johnson  Tinder would be so much better if we could spe...   \n",
       "2             David Hume  Still doesn't correctly notify matches or mess...   \n",
       "3        Last 1 Standing  Got banned because I updated my bio to say \"I ...   \n",
       "4       Arthur Magamedov                                           Love it!   \n",
       "...                  ...                                                ...   \n",
       "681989     A Google user  Useless - I'm in the UK and it tells me i'm ov...   \n",
       "681990       Brian Shook  I can't get past the initial set up.  It won't...   \n",
       "681991     A Google user  This is incredible! A quality dating app for A...   \n",
       "681992     A Google user            \"Over Water\" ... Can't choose location.   \n",
       "681993        Dylan Fick  My entire town counts as \"over water\" and I ca...   \n",
       "\n",
       "        Rating  #ThumbsUp         Date&Time     App  \n",
       "0            5          0  18-02-2022 01:19  Tinder  \n",
       "1            3          0  18-02-2022 01:16  Tinder  \n",
       "2            1          0  18-02-2022 01:11  Tinder  \n",
       "3            2          0  18-02-2022 01:11  Tinder  \n",
       "4            5          0  18-02-2022 01:06  Tinder  \n",
       "...        ...        ...               ...     ...  \n",
       "681989       2          5  12-07-2017 01:44   Hinge  \n",
       "681990       1         11  12-07-2017 01:36   Hinge  \n",
       "681991       5          1  12-07-2017 01:32   Hinge  \n",
       "681992       2          8  12-07-2017 01:28   Hinge  \n",
       "681993       2         15  12-07-2017 01:24   Hinge  \n",
       "\n",
       "[681994 rows x 6 columns]"
      ]
     },
     "execution_count": 8,
     "metadata": {},
     "output_type": "execute_result"
    }
   ],
   "source": [
    "df_1.drop(columns='Unnamed: 0')"
   ]
  },
  {
   "cell_type": "code",
   "execution_count": 9,
   "metadata": {},
   "outputs": [],
   "source": [
    "rating_1 = df_1[df_1['Rating']==1]\n",
    "rating_2 = df_1[df_1['Rating']==2]\n",
    "rating_3 = df_1[df_1['Rating']==3]\n",
    "rating_4 = df_1[df_1['Rating']==4]\n",
    "rating_5 = df_1[df_1['Rating']==5]"
   ]
  },
  {
   "cell_type": "code",
   "execution_count": 10,
   "metadata": {},
   "outputs": [],
   "source": [
    "nada = len(rating_1)/len(df_1)"
   ]
  },
  {
   "cell_type": "code",
   "execution_count": 11,
   "metadata": {},
   "outputs": [],
   "source": [
    "mal = len(rating_2)/len(df_1)"
   ]
  },
  {
   "cell_type": "code",
   "execution_count": 12,
   "metadata": {},
   "outputs": [],
   "source": [
    "regular = len(rating_3)/len(df_1)"
   ]
  },
  {
   "cell_type": "code",
   "execution_count": 13,
   "metadata": {},
   "outputs": [],
   "source": [
    "bien = len(rating_4)/len(df_1)"
   ]
  },
  {
   "cell_type": "code",
   "execution_count": 14,
   "metadata": {},
   "outputs": [],
   "source": [
    "encanta = len(rating_5)/len(df_1)"
   ]
  },
  {
   "cell_type": "code",
   "execution_count": 15,
   "metadata": {},
   "outputs": [
    {
     "data": {
      "image/png": "[encoded data removed]",
      "text/plain": [
       "<Figure size 640x480 with 1 Axes>"
      ]
     },
     "metadata": {},
     "output_type": "display_data"
    }
   ],
   "source": [
    "\n",
    "# Categorías y valores\n",
    "categorias = ['Nada', 'Mal', 'Regular', 'Bien', 'Encanta']\n",
    "valores = [nada, mal, regular, bien, encanta]\n",
    "\n",
    "# Crear el gráfico de barras\n",
    "plt.bar(categorias, valores, color='blue')\n",
    "\n",
    "# Añadir etiquetas y título\n",
    "plt.xlabel('Calificación')\n",
    "plt.ylabel('Porcentaje')\n",
    "plt.title('Distribución de Calificaciones GENERALES en apps de citas')\n",
    "\n",
    "# Mostrar el gráfico\n",
    "plt.show()\n"
   ]
  },
  {
   "cell_type": "code",
   "execution_count": 16,
   "metadata": {},
   "outputs": [],
   "source": [
    "rating_1_Tinder = df_1[(df_1['Rating'] == 1) & (df_1['App'] == 'Tinder')]\n",
    "rating_2_Tinder = df_1[(df_1['Rating'] == 2) & (df_1['App'] == 'Tinder')]\n",
    "rating_3_Tinder = df_1[(df_1['Rating'] == 3) & (df_1['App'] == 'Tinder')]\n",
    "rating_4_Tinder = df_1[(df_1['Rating'] == 4) & (df_1['App'] == 'Tinder')]\n",
    "rating_5_Tinder = df_1[(df_1['Rating'] == 5) & (df_1['App'] == 'Tinder')]\n"
   ]
  },
  {
   "cell_type": "code",
   "execution_count": 17,
   "metadata": {},
   "outputs": [],
   "source": [
    "tinder = df_1[df_1['App']=='Tinder'].dropna()"
   ]
  },
  {
   "cell_type": "code",
   "execution_count": 18,
   "metadata": {},
   "outputs": [],
   "source": [
    "nada_T = len(rating_1_Tinder)/len(tinder)"
   ]
  },
  {
   "cell_type": "code",
   "execution_count": 19,
   "metadata": {},
   "outputs": [],
   "source": [
    "mal_T = len(rating_2_Tinder)/len(tinder)"
   ]
  },
  {
   "cell_type": "code",
   "execution_count": 20,
   "metadata": {},
   "outputs": [],
   "source": [
    "regular_T = len(rating_3_Tinder)/len(tinder)"
   ]
  },
  {
   "cell_type": "code",
   "execution_count": 21,
   "metadata": {},
   "outputs": [],
   "source": [
    "bien_T = len(rating_4_Tinder)/len(tinder)"
   ]
  },
  {
   "cell_type": "code",
   "execution_count": 22,
   "metadata": {},
   "outputs": [],
   "source": [
    "encanta_T = len(rating_5_Tinder)/len(tinder)"
   ]
  },
  {
   "cell_type": "code",
   "execution_count": 23,
   "metadata": {},
   "outputs": [
    {
     "data": {
      "image/png": "[encoded data removed]",
      "text/plain": [
       "<Figure size 640x480 with 1 Axes>"
      ]
     },
     "metadata": {},
     "output_type": "display_data"
    }
   ],
   "source": [
    "\n",
    "# Categorías y valores\n",
    "categorias = ['Nada', 'Mal', 'Regular', 'Bien', 'Encanta']\n",
    "valores = [nada_T, mal_T, regular_T, bien_T, encanta_T]\n",
    "\n",
    "# Crear el gráfico de barras\n",
    "plt.bar(categorias, valores, color='red')\n",
    "\n",
    "# Añadir etiquetas y título\n",
    "plt.xlabel('Calificación')\n",
    "plt.ylabel('Porcentaje')\n",
    "plt.title('Distribución de Calificaciones en Tinder')\n",
    "\n",
    "# Mostrar el gráfico\n",
    "plt.show()"
   ]
  },
  {
   "cell_type": "code",
   "execution_count": 24,
   "metadata": {},
   "outputs": [
    {
     "data": {
      "image/png": "[encoded data removed]",
      "text/plain": [
       "<Figure size 640x480 with 1 Axes>"
      ]
     },
     "metadata": {},
     "output_type": "display_data"
    }
   ],
   "source": [
    "\n",
    "# Datos Tinder\n",
    "nada_tinder = 0.37247375946477496\n",
    "mal_tinder = 0.07248537326959067\n",
    "regular_tinder = 0.08154033322100308\n",
    "bien_tinder = 0.12402210811500332\n",
    "encanta_tinder = 0.3521020034765258\n",
    "\n",
    "# Datos Generales\n",
    "nada_general = 0.36945926210494523\n",
    "mal_general = 0.07662090868834623\n",
    "regular_general = 0.08351686378472538\n",
    "bien_general = 0.12807590682615977\n",
    "encanta_general = 0.3423255923072637\n",
    "\n",
    "# Categorías\n",
    "categorias = ['Nada', 'Mal', 'Regular', 'Bien', 'Encanta']\n",
    "\n",
    "# Configurar la ubicación de las barras\n",
    "bar_width = 0.35\n",
    "r1 = np.arange(len(categorias))\n",
    "r2 = [x + bar_width for x in r1]\n",
    "\n",
    "# Crear el gráfico de barras agrupadas\n",
    "plt.bar(r1, [nada_tinder, mal_tinder, regular_tinder, bien_tinder, encanta_tinder], color='red', width=bar_width, edgecolor='grey', label='Tinder')\n",
    "plt.bar(r2, [nada_general, mal_general, regular_general, bien_general, encanta_general], color='blue', width=bar_width, edgecolor='grey', label='Generales')\n",
    "\n",
    "# Añadir etiquetas y título\n",
    "plt.xlabel('Calificación')\n",
    "plt.ylabel('Porcentaje')\n",
    "plt.title('Comparación de Calificaciones en Tinder y Generales')\n",
    "plt.xticks([r + bar_width/2 for r in range(len(categorias))], categorias)\n",
    "\n",
    "# Añadir leyenda\n",
    "plt.legend()\n",
    "\n",
    "# Mostrar el gráfico\n",
    "plt.show()\n"
   ]
  },
  {
   "cell_type": "markdown",
   "metadata": {},
   "source": [
    "## Los usuarios o odian o aman las apps de citas. Muy dispar la valoracion. Tiende a ser la misma en todas las apps, aunque la experiencia para los hombres es bastante más dura que para las mujeres, según Swipestats"
   ]
  },
  {
   "cell_type": "markdown",
   "metadata": {},
   "source": [
    "<img src=\"./data/images/match tinder.png\" alt=\"imagen\" width=\"500\"/>"
   ]
  },
  {
   "cell_type": "markdown",
   "metadata": {},
   "source": [
    "# Milennial Rate Match"
   ]
  },
  {
   "cell_type": "code",
   "execution_count": 25,
   "metadata": {},
   "outputs": [
    {
     "data": {
      "text/html": [
       "<div>\n",
       "<style scoped>\n",
       "    .dataframe tbody tr th:only-of-type {\n",
       "        vertical-align: middle;\n",
       "    }\n",
       "\n",
       "    .dataframe tbody tr th {\n",
       "        vertical-align: top;\n",
       "    }\n",
       "\n",
       "    .dataframe thead th {\n",
       "        text-align: right;\n",
       "    }\n",
       "</style>\n",
       "<table border=\"1\" class=\"dataframe\">\n",
       "  <thead>\n",
       "    <tr style=\"text-align: right;\">\n",
       "      <th></th>\n",
       "      <th>ID</th>\n",
       "      <th>Segment Type</th>\n",
       "      <th>Segment Description</th>\n",
       "      <th>Answer</th>\n",
       "      <th>Count</th>\n",
       "      <th>Percentage</th>\n",
       "      <th>It became a Relationship</th>\n",
       "    </tr>\n",
       "  </thead>\n",
       "  <tbody>\n",
       "    <tr>\n",
       "      <th>0</th>\n",
       "      <td>292881</td>\n",
       "      <td>Mobile</td>\n",
       "      <td>Mobile respondents</td>\n",
       "      <td>Yes</td>\n",
       "      <td>797</td>\n",
       "      <td>0.207</td>\n",
       "      <td>Yes</td>\n",
       "    </tr>\n",
       "    <tr>\n",
       "      <th>1</th>\n",
       "      <td>292883</td>\n",
       "      <td>Mobile</td>\n",
       "      <td>Mobile respondents</td>\n",
       "      <td>No</td>\n",
       "      <td>1969</td>\n",
       "      <td>0.511</td>\n",
       "      <td>No</td>\n",
       "    </tr>\n",
       "    <tr>\n",
       "      <th>2</th>\n",
       "      <td>292885</td>\n",
       "      <td>Mobile</td>\n",
       "      <td>Mobile respondents</td>\n",
       "      <td>I don't use Tinder</td>\n",
       "      <td>1090</td>\n",
       "      <td>0.283</td>\n",
       "      <td>Yes</td>\n",
       "    </tr>\n",
       "    <tr>\n",
       "      <th>3</th>\n",
       "      <td>292887</td>\n",
       "      <td>Web</td>\n",
       "      <td>Web-based respondents</td>\n",
       "      <td>Yes</td>\n",
       "      <td>0</td>\n",
       "      <td>0.000</td>\n",
       "      <td>No</td>\n",
       "    </tr>\n",
       "    <tr>\n",
       "      <th>4</th>\n",
       "      <td>292889</td>\n",
       "      <td>Web</td>\n",
       "      <td>Web-based respondents</td>\n",
       "      <td>No</td>\n",
       "      <td>0</td>\n",
       "      <td>0.000</td>\n",
       "      <td>No</td>\n",
       "    </tr>\n",
       "    <tr>\n",
       "      <th>5</th>\n",
       "      <td>292891</td>\n",
       "      <td>Web</td>\n",
       "      <td>Web-based respondents</td>\n",
       "      <td>I don't use Tinder</td>\n",
       "      <td>0</td>\n",
       "      <td>0.000</td>\n",
       "      <td>No</td>\n",
       "    </tr>\n",
       "    <tr>\n",
       "      <th>6</th>\n",
       "      <td>292893</td>\n",
       "      <td>Gender</td>\n",
       "      <td>Male respondents</td>\n",
       "      <td>Yes</td>\n",
       "      <td>472</td>\n",
       "      <td>0.213</td>\n",
       "      <td>Yes</td>\n",
       "    </tr>\n",
       "    <tr>\n",
       "      <th>7</th>\n",
       "      <td>292895</td>\n",
       "      <td>Gender</td>\n",
       "      <td>Male respondents</td>\n",
       "      <td>No</td>\n",
       "      <td>1172</td>\n",
       "      <td>0.528</td>\n",
       "      <td>No</td>\n",
       "    </tr>\n",
       "    <tr>\n",
       "      <th>8</th>\n",
       "      <td>292897</td>\n",
       "      <td>Gender</td>\n",
       "      <td>Male respondents</td>\n",
       "      <td>I don't use Tinder</td>\n",
       "      <td>574</td>\n",
       "      <td>0.259</td>\n",
       "      <td>No</td>\n",
       "    </tr>\n",
       "    <tr>\n",
       "      <th>9</th>\n",
       "      <td>292899</td>\n",
       "      <td>Gender</td>\n",
       "      <td>Female respondents</td>\n",
       "      <td>Yes</td>\n",
       "      <td>325</td>\n",
       "      <td>0.198</td>\n",
       "      <td>No</td>\n",
       "    </tr>\n",
       "  </tbody>\n",
       "</table>\n",
       "</div>"
      ],
      "text/plain": [
       "       ID Segment Type    Segment Description              Answer  Count  \\\n",
       "0  292881       Mobile     Mobile respondents                 Yes    797   \n",
       "1  292883       Mobile     Mobile respondents                  No   1969   \n",
       "2  292885       Mobile     Mobile respondents  I don't use Tinder   1090   \n",
       "3  292887          Web  Web-based respondents                 Yes      0   \n",
       "4  292889          Web  Web-based respondents                  No      0   \n",
       "5  292891          Web  Web-based respondents  I don't use Tinder      0   \n",
       "6  292893       Gender       Male respondents                 Yes    472   \n",
       "7  292895       Gender       Male respondents                  No   1172   \n",
       "8  292897       Gender       Male respondents  I don't use Tinder    574   \n",
       "9  292899       Gender     Female respondents                 Yes    325   \n",
       "\n",
       "   Percentage It became a Relationship  \n",
       "0       0.207                      Yes  \n",
       "1       0.511                       No  \n",
       "2       0.283                      Yes  \n",
       "3       0.000                       No  \n",
       "4       0.000                       No  \n",
       "5       0.000                       No  \n",
       "6       0.213                      Yes  \n",
       "7       0.528                       No  \n",
       "8       0.259                       No  \n",
       "9       0.198                       No  "
      ]
     },
     "execution_count": 25,
     "metadata": {},
     "output_type": "execute_result"
    }
   ],
   "source": [
    "df_2.head(10)"
   ]
  },
  {
   "cell_type": "code",
   "execution_count": 26,
   "metadata": {},
   "outputs": [
    {
     "data": {
      "text/plain": [
       "(453, 7)"
      ]
     },
     "execution_count": 26,
     "metadata": {},
     "output_type": "execute_result"
    }
   ],
   "source": [
    "df_2.shape"
   ]
  },
  {
   "cell_type": "code",
   "execution_count": 27,
   "metadata": {},
   "outputs": [],
   "source": [
    "#Filtramos por sexo y forma de uso\n",
    "total = df_2[df_2['Segment Type']=='Mobile']\n",
    "male = df_2[df_2['Segment Description']=='Male respondents']\n",
    "female = df_2[df_2['Segment Description']=='Female respondents']\n",
    "university = df_2[df_2['Segment Type']=='University']"
   ]
  },
  {
   "cell_type": "code",
   "execution_count": 28,
   "metadata": {},
   "outputs": [
    {
     "data": {
      "text/html": [
       "<div>\n",
       "<style scoped>\n",
       "    .dataframe tbody tr th:only-of-type {\n",
       "        vertical-align: middle;\n",
       "    }\n",
       "\n",
       "    .dataframe tbody tr th {\n",
       "        vertical-align: top;\n",
       "    }\n",
       "\n",
       "    .dataframe thead th {\n",
       "        text-align: right;\n",
       "    }\n",
       "</style>\n",
       "<table border=\"1\" class=\"dataframe\">\n",
       "  <thead>\n",
       "    <tr style=\"text-align: right;\">\n",
       "      <th></th>\n",
       "      <th>ID</th>\n",
       "      <th>Segment Type</th>\n",
       "      <th>Segment Description</th>\n",
       "      <th>Answer</th>\n",
       "      <th>Count</th>\n",
       "      <th>Percentage</th>\n",
       "      <th>It became a Relationship</th>\n",
       "    </tr>\n",
       "  </thead>\n",
       "  <tbody>\n",
       "    <tr>\n",
       "      <th>0</th>\n",
       "      <td>292881</td>\n",
       "      <td>Mobile</td>\n",
       "      <td>Mobile respondents</td>\n",
       "      <td>Yes</td>\n",
       "      <td>797</td>\n",
       "      <td>0.207</td>\n",
       "      <td>Yes</td>\n",
       "    </tr>\n",
       "    <tr>\n",
       "      <th>1</th>\n",
       "      <td>292883</td>\n",
       "      <td>Mobile</td>\n",
       "      <td>Mobile respondents</td>\n",
       "      <td>No</td>\n",
       "      <td>1969</td>\n",
       "      <td>0.511</td>\n",
       "      <td>No</td>\n",
       "    </tr>\n",
       "    <tr>\n",
       "      <th>2</th>\n",
       "      <td>292885</td>\n",
       "      <td>Mobile</td>\n",
       "      <td>Mobile respondents</td>\n",
       "      <td>I don't use Tinder</td>\n",
       "      <td>1090</td>\n",
       "      <td>0.283</td>\n",
       "      <td>Yes</td>\n",
       "    </tr>\n",
       "  </tbody>\n",
       "</table>\n",
       "</div>"
      ],
      "text/plain": [
       "       ID Segment Type Segment Description              Answer  Count  \\\n",
       "0  292881       Mobile  Mobile respondents                 Yes    797   \n",
       "1  292883       Mobile  Mobile respondents                  No   1969   \n",
       "2  292885       Mobile  Mobile respondents  I don't use Tinder   1090   \n",
       "\n",
       "   Percentage It became a Relationship  \n",
       "0       0.207                      Yes  \n",
       "1       0.511                       No  \n",
       "2       0.283                      Yes  "
      ]
     },
     "execution_count": 28,
     "metadata": {},
     "output_type": "execute_result"
    }
   ],
   "source": [
    "#Movil\n",
    "total"
   ]
  },
  {
   "cell_type": "code",
   "execution_count": 29,
   "metadata": {},
   "outputs": [
    {
     "data": {
      "text/plain": [
       "3856"
      ]
     },
     "execution_count": 29,
     "metadata": {},
     "output_type": "execute_result"
    }
   ],
   "source": [
    "total.Count.sum()"
   ]
  },
  {
   "cell_type": "code",
   "execution_count": 30,
   "metadata": {},
   "outputs": [
    {
     "data": {
      "text/html": [
       "<div>\n",
       "<style scoped>\n",
       "    .dataframe tbody tr th:only-of-type {\n",
       "        vertical-align: middle;\n",
       "    }\n",
       "\n",
       "    .dataframe tbody tr th {\n",
       "        vertical-align: top;\n",
       "    }\n",
       "\n",
       "    .dataframe thead th {\n",
       "        text-align: right;\n",
       "    }\n",
       "</style>\n",
       "<table border=\"1\" class=\"dataframe\">\n",
       "  <thead>\n",
       "    <tr style=\"text-align: right;\">\n",
       "      <th></th>\n",
       "      <th>ID</th>\n",
       "      <th>Segment Type</th>\n",
       "      <th>Segment Description</th>\n",
       "      <th>Answer</th>\n",
       "      <th>Count</th>\n",
       "      <th>Percentage</th>\n",
       "      <th>It became a Relationship</th>\n",
       "    </tr>\n",
       "  </thead>\n",
       "  <tbody>\n",
       "    <tr>\n",
       "      <th>0</th>\n",
       "      <td>292881</td>\n",
       "      <td>Mobile</td>\n",
       "      <td>Mobile respondents</td>\n",
       "      <td>Yes</td>\n",
       "      <td>797</td>\n",
       "      <td>0.207</td>\n",
       "      <td>Yes</td>\n",
       "    </tr>\n",
       "  </tbody>\n",
       "</table>\n",
       "</div>"
      ],
      "text/plain": [
       "       ID Segment Type Segment Description Answer  Count  Percentage  \\\n",
       "0  292881       Mobile  Mobile respondents    Yes    797       0.207   \n",
       "\n",
       "  It became a Relationship  \n",
       "0                      Yes  "
      ]
     },
     "execution_count": 30,
     "metadata": {},
     "output_type": "execute_result"
    }
   ],
   "source": [
    "# Filtrar por respuestas \"Yes\"\n",
    "yes_data = total[total['Answer'] == 'Yes']\n",
    "yes_data"
   ]
  },
  {
   "cell_type": "code",
   "execution_count": 31,
   "metadata": {},
   "outputs": [],
   "source": [
    "total_yes = yes_data['Percentage'].values[0]"
   ]
  },
  {
   "cell_type": "code",
   "execution_count": 32,
   "metadata": {},
   "outputs": [
    {
     "data": {
      "text/html": [
       "<div>\n",
       "<style scoped>\n",
       "    .dataframe tbody tr th:only-of-type {\n",
       "        vertical-align: middle;\n",
       "    }\n",
       "\n",
       "    .dataframe tbody tr th {\n",
       "        vertical-align: top;\n",
       "    }\n",
       "\n",
       "    .dataframe thead th {\n",
       "        text-align: right;\n",
       "    }\n",
       "</style>\n",
       "<table border=\"1\" class=\"dataframe\">\n",
       "  <thead>\n",
       "    <tr style=\"text-align: right;\">\n",
       "      <th></th>\n",
       "      <th>ID</th>\n",
       "      <th>Segment Type</th>\n",
       "      <th>Segment Description</th>\n",
       "      <th>Answer</th>\n",
       "      <th>Count</th>\n",
       "      <th>Percentage</th>\n",
       "      <th>It became a Relationship</th>\n",
       "    </tr>\n",
       "  </thead>\n",
       "  <tbody>\n",
       "    <tr>\n",
       "      <th>6</th>\n",
       "      <td>292893</td>\n",
       "      <td>Gender</td>\n",
       "      <td>Male respondents</td>\n",
       "      <td>Yes</td>\n",
       "      <td>472</td>\n",
       "      <td>0.213</td>\n",
       "      <td>Yes</td>\n",
       "    </tr>\n",
       "    <tr>\n",
       "      <th>7</th>\n",
       "      <td>292895</td>\n",
       "      <td>Gender</td>\n",
       "      <td>Male respondents</td>\n",
       "      <td>No</td>\n",
       "      <td>1172</td>\n",
       "      <td>0.528</td>\n",
       "      <td>No</td>\n",
       "    </tr>\n",
       "    <tr>\n",
       "      <th>8</th>\n",
       "      <td>292897</td>\n",
       "      <td>Gender</td>\n",
       "      <td>Male respondents</td>\n",
       "      <td>I don't use Tinder</td>\n",
       "      <td>574</td>\n",
       "      <td>0.259</td>\n",
       "      <td>No</td>\n",
       "    </tr>\n",
       "  </tbody>\n",
       "</table>\n",
       "</div>"
      ],
      "text/plain": [
       "       ID Segment Type Segment Description              Answer  Count  \\\n",
       "6  292893       Gender    Male respondents                 Yes    472   \n",
       "7  292895       Gender    Male respondents                  No   1172   \n",
       "8  292897       Gender    Male respondents  I don't use Tinder    574   \n",
       "\n",
       "   Percentage It became a Relationship  \n",
       "6       0.213                      Yes  \n",
       "7       0.528                       No  \n",
       "8       0.259                       No  "
      ]
     },
     "execution_count": 32,
     "metadata": {},
     "output_type": "execute_result"
    }
   ],
   "source": [
    "#Hombres\n",
    "male"
   ]
  },
  {
   "cell_type": "code",
   "execution_count": 33,
   "metadata": {},
   "outputs": [
    {
     "data": {
      "text/plain": [
       "2218"
      ]
     },
     "execution_count": 33,
     "metadata": {},
     "output_type": "execute_result"
    }
   ],
   "source": [
    "male.Count.sum()"
   ]
  },
  {
   "cell_type": "code",
   "execution_count": 34,
   "metadata": {},
   "outputs": [
    {
     "data": {
      "text/html": [
       "<div>\n",
       "<style scoped>\n",
       "    .dataframe tbody tr th:only-of-type {\n",
       "        vertical-align: middle;\n",
       "    }\n",
       "\n",
       "    .dataframe tbody tr th {\n",
       "        vertical-align: top;\n",
       "    }\n",
       "\n",
       "    .dataframe thead th {\n",
       "        text-align: right;\n",
       "    }\n",
       "</style>\n",
       "<table border=\"1\" class=\"dataframe\">\n",
       "  <thead>\n",
       "    <tr style=\"text-align: right;\">\n",
       "      <th></th>\n",
       "      <th>ID</th>\n",
       "      <th>Segment Type</th>\n",
       "      <th>Segment Description</th>\n",
       "      <th>Answer</th>\n",
       "      <th>Count</th>\n",
       "      <th>Percentage</th>\n",
       "      <th>It became a Relationship</th>\n",
       "    </tr>\n",
       "  </thead>\n",
       "  <tbody>\n",
       "    <tr>\n",
       "      <th>6</th>\n",
       "      <td>292893</td>\n",
       "      <td>Gender</td>\n",
       "      <td>Male respondents</td>\n",
       "      <td>Yes</td>\n",
       "      <td>472</td>\n",
       "      <td>0.213</td>\n",
       "      <td>Yes</td>\n",
       "    </tr>\n",
       "  </tbody>\n",
       "</table>\n",
       "</div>"
      ],
      "text/plain": [
       "       ID Segment Type Segment Description Answer  Count  Percentage  \\\n",
       "6  292893       Gender    Male respondents    Yes    472       0.213   \n",
       "\n",
       "  It became a Relationship  \n",
       "6                      Yes  "
      ]
     },
     "execution_count": 34,
     "metadata": {},
     "output_type": "execute_result"
    }
   ],
   "source": [
    "# Filtrar por respuestas \"Yes\"\n",
    "yes_data = male[male['Answer'] == 'Yes']\n",
    "yes_data"
   ]
  },
  {
   "cell_type": "code",
   "execution_count": 35,
   "metadata": {},
   "outputs": [],
   "source": [
    "yes_men = yes_data['Percentage'].values[0]"
   ]
  },
  {
   "cell_type": "code",
   "execution_count": 36,
   "metadata": {},
   "outputs": [
    {
     "data": {
      "text/html": [
       "<div>\n",
       "<style scoped>\n",
       "    .dataframe tbody tr th:only-of-type {\n",
       "        vertical-align: middle;\n",
       "    }\n",
       "\n",
       "    .dataframe tbody tr th {\n",
       "        vertical-align: top;\n",
       "    }\n",
       "\n",
       "    .dataframe thead th {\n",
       "        text-align: right;\n",
       "    }\n",
       "</style>\n",
       "<table border=\"1\" class=\"dataframe\">\n",
       "  <thead>\n",
       "    <tr style=\"text-align: right;\">\n",
       "      <th></th>\n",
       "      <th>ID</th>\n",
       "      <th>Segment Type</th>\n",
       "      <th>Segment Description</th>\n",
       "      <th>Answer</th>\n",
       "      <th>Count</th>\n",
       "      <th>Percentage</th>\n",
       "      <th>It became a Relationship</th>\n",
       "    </tr>\n",
       "  </thead>\n",
       "  <tbody>\n",
       "    <tr>\n",
       "      <th>9</th>\n",
       "      <td>292899</td>\n",
       "      <td>Gender</td>\n",
       "      <td>Female respondents</td>\n",
       "      <td>Yes</td>\n",
       "      <td>325</td>\n",
       "      <td>0.198</td>\n",
       "      <td>No</td>\n",
       "    </tr>\n",
       "    <tr>\n",
       "      <th>10</th>\n",
       "      <td>292901</td>\n",
       "      <td>Gender</td>\n",
       "      <td>Female respondents</td>\n",
       "      <td>No</td>\n",
       "      <td>797</td>\n",
       "      <td>0.487</td>\n",
       "      <td>Yes</td>\n",
       "    </tr>\n",
       "    <tr>\n",
       "      <th>11</th>\n",
       "      <td>292903</td>\n",
       "      <td>Gender</td>\n",
       "      <td>Female respondents</td>\n",
       "      <td>I don't use Tinder</td>\n",
       "      <td>516</td>\n",
       "      <td>0.315</td>\n",
       "      <td>No</td>\n",
       "    </tr>\n",
       "  </tbody>\n",
       "</table>\n",
       "</div>"
      ],
      "text/plain": [
       "        ID Segment Type Segment Description              Answer  Count  \\\n",
       "9   292899       Gender  Female respondents                 Yes    325   \n",
       "10  292901       Gender  Female respondents                  No    797   \n",
       "11  292903       Gender  Female respondents  I don't use Tinder    516   \n",
       "\n",
       "    Percentage It became a Relationship  \n",
       "9        0.198                       No  \n",
       "10       0.487                      Yes  \n",
       "11       0.315                       No  "
      ]
     },
     "execution_count": 36,
     "metadata": {},
     "output_type": "execute_result"
    }
   ],
   "source": [
    "#Mujeres\n",
    "female"
   ]
  },
  {
   "cell_type": "code",
   "execution_count": 37,
   "metadata": {},
   "outputs": [
    {
     "data": {
      "text/plain": [
       "1638"
      ]
     },
     "execution_count": 37,
     "metadata": {},
     "output_type": "execute_result"
    }
   ],
   "source": [
    "female.Count.sum()"
   ]
  },
  {
   "cell_type": "code",
   "execution_count": 38,
   "metadata": {},
   "outputs": [
    {
     "data": {
      "text/plain": [
       "True"
      ]
     },
     "execution_count": 38,
     "metadata": {},
     "output_type": "execute_result"
    }
   ],
   "source": [
    "(female.Count.sum() + male.Count.sum()) == total.Count.sum()"
   ]
  },
  {
   "cell_type": "code",
   "execution_count": 39,
   "metadata": {},
   "outputs": [
    {
     "data": {
      "text/html": [
       "<div>\n",
       "<style scoped>\n",
       "    .dataframe tbody tr th:only-of-type {\n",
       "        vertical-align: middle;\n",
       "    }\n",
       "\n",
       "    .dataframe tbody tr th {\n",
       "        vertical-align: top;\n",
       "    }\n",
       "\n",
       "    .dataframe thead th {\n",
       "        text-align: right;\n",
       "    }\n",
       "</style>\n",
       "<table border=\"1\" class=\"dataframe\">\n",
       "  <thead>\n",
       "    <tr style=\"text-align: right;\">\n",
       "      <th></th>\n",
       "      <th>ID</th>\n",
       "      <th>Segment Type</th>\n",
       "      <th>Segment Description</th>\n",
       "      <th>Answer</th>\n",
       "      <th>Count</th>\n",
       "      <th>Percentage</th>\n",
       "      <th>It became a Relationship</th>\n",
       "    </tr>\n",
       "  </thead>\n",
       "  <tbody>\n",
       "    <tr>\n",
       "      <th>9</th>\n",
       "      <td>292899</td>\n",
       "      <td>Gender</td>\n",
       "      <td>Female respondents</td>\n",
       "      <td>Yes</td>\n",
       "      <td>325</td>\n",
       "      <td>0.198</td>\n",
       "      <td>No</td>\n",
       "    </tr>\n",
       "  </tbody>\n",
       "</table>\n",
       "</div>"
      ],
      "text/plain": [
       "       ID Segment Type Segment Description Answer  Count  Percentage  \\\n",
       "9  292899       Gender  Female respondents    Yes    325       0.198   \n",
       "\n",
       "  It became a Relationship  \n",
       "9                       No  "
      ]
     },
     "execution_count": 39,
     "metadata": {},
     "output_type": "execute_result"
    }
   ],
   "source": [
    "# Filtrar por respuestas \"Yes\"\n",
    "yes_data = female[female['Answer'] == 'Yes']\n",
    "yes_data\n"
   ]
  },
  {
   "cell_type": "code",
   "execution_count": 40,
   "metadata": {},
   "outputs": [],
   "source": [
    "yes_women = yes_data['Percentage'].values[0]"
   ]
  },
  {
   "cell_type": "code",
   "execution_count": 41,
   "metadata": {},
   "outputs": [
    {
     "data": {
      "text/html": [
       "<div>\n",
       "<style scoped>\n",
       "    .dataframe tbody tr th:only-of-type {\n",
       "        vertical-align: middle;\n",
       "    }\n",
       "\n",
       "    .dataframe tbody tr th {\n",
       "        vertical-align: top;\n",
       "    }\n",
       "\n",
       "    .dataframe thead th {\n",
       "        text-align: right;\n",
       "    }\n",
       "</style>\n",
       "<table border=\"1\" class=\"dataframe\">\n",
       "  <thead>\n",
       "    <tr style=\"text-align: right;\">\n",
       "      <th></th>\n",
       "      <th>ID</th>\n",
       "      <th>Segment Type</th>\n",
       "      <th>Segment Description</th>\n",
       "      <th>Answer</th>\n",
       "      <th>Count</th>\n",
       "      <th>Percentage</th>\n",
       "      <th>It became a Relationship</th>\n",
       "    </tr>\n",
       "  </thead>\n",
       "  <tbody>\n",
       "    <tr>\n",
       "      <th>12</th>\n",
       "      <td>292905</td>\n",
       "      <td>University</td>\n",
       "      <td>Chapman University</td>\n",
       "      <td>Yes</td>\n",
       "      <td>13</td>\n",
       "      <td>0.206</td>\n",
       "      <td>No</td>\n",
       "    </tr>\n",
       "    <tr>\n",
       "      <th>13</th>\n",
       "      <td>292907</td>\n",
       "      <td>University</td>\n",
       "      <td>Chapman University</td>\n",
       "      <td>No</td>\n",
       "      <td>31</td>\n",
       "      <td>0.492</td>\n",
       "      <td>No</td>\n",
       "    </tr>\n",
       "    <tr>\n",
       "      <th>14</th>\n",
       "      <td>292909</td>\n",
       "      <td>University</td>\n",
       "      <td>Chapman University</td>\n",
       "      <td>I don't use Tinder</td>\n",
       "      <td>19</td>\n",
       "      <td>0.302</td>\n",
       "      <td>Yes</td>\n",
       "    </tr>\n",
       "    <tr>\n",
       "      <th>15</th>\n",
       "      <td>292911</td>\n",
       "      <td>University</td>\n",
       "      <td>Cornell University</td>\n",
       "      <td>Yes</td>\n",
       "      <td>47</td>\n",
       "      <td>0.244</td>\n",
       "      <td>No</td>\n",
       "    </tr>\n",
       "    <tr>\n",
       "      <th>16</th>\n",
       "      <td>292913</td>\n",
       "      <td>University</td>\n",
       "      <td>Cornell University</td>\n",
       "      <td>No</td>\n",
       "      <td>95</td>\n",
       "      <td>0.492</td>\n",
       "      <td>Yes</td>\n",
       "    </tr>\n",
       "    <tr>\n",
       "      <th>...</th>\n",
       "      <td>...</td>\n",
       "      <td>...</td>\n",
       "      <td>...</td>\n",
       "      <td>...</td>\n",
       "      <td>...</td>\n",
       "      <td>...</td>\n",
       "      <td>...</td>\n",
       "    </tr>\n",
       "    <tr>\n",
       "      <th>448</th>\n",
       "      <td>293777</td>\n",
       "      <td>University</td>\n",
       "      <td>Boston College</td>\n",
       "      <td>No</td>\n",
       "      <td>4</td>\n",
       "      <td>0.800</td>\n",
       "      <td>Yes</td>\n",
       "    </tr>\n",
       "    <tr>\n",
       "      <th>449</th>\n",
       "      <td>293779</td>\n",
       "      <td>University</td>\n",
       "      <td>Boston College</td>\n",
       "      <td>I don't use Tinder</td>\n",
       "      <td>1</td>\n",
       "      <td>0.200</td>\n",
       "      <td>No</td>\n",
       "    </tr>\n",
       "    <tr>\n",
       "      <th>450</th>\n",
       "      <td>293781</td>\n",
       "      <td>University</td>\n",
       "      <td>Boston University</td>\n",
       "      <td>Yes</td>\n",
       "      <td>2</td>\n",
       "      <td>0.333</td>\n",
       "      <td>Yes</td>\n",
       "    </tr>\n",
       "    <tr>\n",
       "      <th>451</th>\n",
       "      <td>293783</td>\n",
       "      <td>University</td>\n",
       "      <td>Boston University</td>\n",
       "      <td>No</td>\n",
       "      <td>3</td>\n",
       "      <td>0.500</td>\n",
       "      <td>No</td>\n",
       "    </tr>\n",
       "    <tr>\n",
       "      <th>452</th>\n",
       "      <td>293785</td>\n",
       "      <td>University</td>\n",
       "      <td>Boston University</td>\n",
       "      <td>I don't use Tinder</td>\n",
       "      <td>1</td>\n",
       "      <td>0.167</td>\n",
       "      <td>No</td>\n",
       "    </tr>\n",
       "  </tbody>\n",
       "</table>\n",
       "<p>441 rows × 7 columns</p>\n",
       "</div>"
      ],
      "text/plain": [
       "         ID Segment Type Segment Description              Answer  Count  \\\n",
       "12   292905   University  Chapman University                 Yes     13   \n",
       "13   292907   University  Chapman University                  No     31   \n",
       "14   292909   University  Chapman University  I don't use Tinder     19   \n",
       "15   292911   University  Cornell University                 Yes     47   \n",
       "16   292913   University  Cornell University                  No     95   \n",
       "..      ...          ...                 ...                 ...    ...   \n",
       "448  293777   University      Boston College                  No      4   \n",
       "449  293779   University      Boston College  I don't use Tinder      1   \n",
       "450  293781   University   Boston University                 Yes      2   \n",
       "451  293783   University   Boston University                  No      3   \n",
       "452  293785   University   Boston University  I don't use Tinder      1   \n",
       "\n",
       "     Percentage It became a Relationship  \n",
       "12        0.206                       No  \n",
       "13        0.492                       No  \n",
       "14        0.302                      Yes  \n",
       "15        0.244                       No  \n",
       "16        0.492                      Yes  \n",
       "..          ...                      ...  \n",
       "448       0.800                      Yes  \n",
       "449       0.200                       No  \n",
       "450       0.333                      Yes  \n",
       "451       0.500                       No  \n",
       "452       0.167                       No  \n",
       "\n",
       "[441 rows x 7 columns]"
      ]
     },
     "execution_count": 41,
     "metadata": {},
     "output_type": "execute_result"
    }
   ],
   "source": [
    "#Universidades\n",
    "university"
   ]
  },
  {
   "cell_type": "code",
   "execution_count": 42,
   "metadata": {},
   "outputs": [
    {
     "data": {
      "text/plain": [
       "2423"
      ]
     },
     "execution_count": 42,
     "metadata": {},
     "output_type": "execute_result"
    }
   ],
   "source": [
    "university.Count.sum()"
   ]
  },
  {
   "cell_type": "code",
   "execution_count": 43,
   "metadata": {},
   "outputs": [],
   "source": [
    "university_yes = university[university['Answer'] == 'Yes']"
   ]
  },
  {
   "cell_type": "code",
   "execution_count": 44,
   "metadata": {},
   "outputs": [
    {
     "data": {
      "text/plain": [
       "534"
      ]
     },
     "execution_count": 44,
     "metadata": {},
     "output_type": "execute_result"
    }
   ],
   "source": [
    "university_yes.Count.sum()"
   ]
  },
  {
   "cell_type": "code",
   "execution_count": 45,
   "metadata": {},
   "outputs": [
    {
     "data": {
      "text/plain": [
       "0.2203879488237722"
      ]
     },
     "execution_count": 45,
     "metadata": {},
     "output_type": "execute_result"
    }
   ],
   "source": [
    "ratio_uni_yes = university_yes.Count.sum()/university.Count.sum()\n",
    "ratio_uni_yes"
   ]
  },
  {
   "cell_type": "code",
   "execution_count": 46,
   "metadata": {},
   "outputs": [
    {
     "data": {
      "image/png": "[encoded data removed]",
      "text/plain": [
       "<Figure size 640x480 with 1 Axes>"
      ]
     },
     "metadata": {},
     "output_type": "display_data"
    }
   ],
   "source": [
    "\n",
    "# Datos Generales\n",
    "valores_lugar = [ratio_uni_yes, total_yes]\n",
    "valores_sexo = [yes_men, yes_women]\n",
    "\n",
    "# Categorías\n",
    "categorias1 = ['Universidades', 'Total']\n",
    "categorias2 = ['Hombres', 'Mujeres']\n",
    "\n",
    "# Crear el DataFrame\n",
    "data = {\n",
    "    'Categoría': categorias1 + categorias2,\n",
    "    'Valor': valores_lugar + valores_sexo,\n",
    "    'Tipo': ['Lugares'] * len(categorias1) + ['Sexos'] * len(categorias2)\n",
    "}\n",
    "\n",
    "df = pd.DataFrame(data)\n",
    "\n",
    "# Crear el gráfico de barras con Seaborn\n",
    "sns.barplot(x='Categoría', y='Valor', hue='Tipo', data=df, palette={'Lugares': 'red', 'Sexos': 'green'})\n",
    "\n",
    "# Añadir etiquetas y título\n",
    "plt.xlabel('Lugares y Sexo')\n",
    "plt.ylabel('Porcentaje')\n",
    "plt.title('Éxito de Tinder por Sexo y Forma de Uso')\n",
    "\n",
    "# Ajustar la leyenda\n",
    "plt.legend(title='Tipo')\n",
    "\n",
    "# Mostrar el gráfico\n",
    "plt.show()\n"
   ]
  },
  {
   "cell_type": "markdown",
   "metadata": {},
   "source": [
    "# EL 20% DE LOS MILENNIALS OBTIENEN PAREJA POR TINDER. Los hombres la usan mas, pero obtienen casi el mismo porcentaje que las mujeres. En otros estudios de 2023 dice que hasta el 27%, pero no tenemos un dataset para comprobarlo"
   ]
  },
  {
   "cell_type": "markdown",
   "metadata": {},
   "source": [
    "<img src=\"./data/images/promiscuity.jpeg\" alt=\"imagen\" width=\"550\"/>\n",
    "<img src=\"./data/images/couples met tinder.png\" alt=\"imagen\" width=\"600\"/>"
   ]
  },
  {
   "cell_type": "markdown",
   "metadata": {},
   "source": [
    "# Sin embargo, según statista, que coge datos de una encuesta de YouGov, el 49% de los millenials busca pareja exclusiva en Tinder"
   ]
  },
  {
   "cell_type": "markdown",
   "metadata": {},
   "source": [
    "### Matrimonios de los diferentes rangos poblacionales de USA --> Nos centraremos en los milennials que son el rango que mas usa apps y redes sociales de citas"
   ]
  },
  {
   "cell_type": "code",
   "execution_count": 47,
   "metadata": {},
   "outputs": [
    {
     "data": {
      "text/html": [
       "<div>\n",
       "<style scoped>\n",
       "    .dataframe tbody tr th:only-of-type {\n",
       "        vertical-align: middle;\n",
       "    }\n",
       "\n",
       "    .dataframe tbody tr th {\n",
       "        vertical-align: top;\n",
       "    }\n",
       "\n",
       "    .dataframe thead th {\n",
       "        text-align: right;\n",
       "    }\n",
       "</style>\n",
       "<table border=\"1\" class=\"dataframe\">\n",
       "  <thead>\n",
       "    <tr style=\"text-align: right;\">\n",
       "      <th></th>\n",
       "      <th>index</th>\n",
       "      <th>Year</th>\n",
       "      <th>Gender</th>\n",
       "      <th>Age Group</th>\n",
       "      <th>Metric</th>\n",
       "      <th>Estimated Percent</th>\n",
       "      <th>Estimated Population</th>\n",
       "    </tr>\n",
       "  </thead>\n",
       "  <tbody>\n",
       "    <tr>\n",
       "      <th>0</th>\n",
       "      <td>0</td>\n",
       "      <td>2008</td>\n",
       "      <td>Male</td>\n",
       "      <td>15 to 19 years</td>\n",
       "      <td>Total</td>\n",
       "      <td>1.0</td>\n",
       "      <td>11241214</td>\n",
       "    </tr>\n",
       "    <tr>\n",
       "      <th>1</th>\n",
       "      <td>1</td>\n",
       "      <td>2008</td>\n",
       "      <td>Male</td>\n",
       "      <td>20 to 34 years</td>\n",
       "      <td>Total</td>\n",
       "      <td>1.0</td>\n",
       "      <td>31342886</td>\n",
       "    </tr>\n",
       "    <tr>\n",
       "      <th>2</th>\n",
       "      <td>2</td>\n",
       "      <td>2008</td>\n",
       "      <td>Male</td>\n",
       "      <td>35 to 44 years</td>\n",
       "      <td>Total</td>\n",
       "      <td>1.0</td>\n",
       "      <td>21426309</td>\n",
       "    </tr>\n",
       "    <tr>\n",
       "      <th>3</th>\n",
       "      <td>3</td>\n",
       "      <td>2008</td>\n",
       "      <td>Male</td>\n",
       "      <td>45 to 54 years</td>\n",
       "      <td>Total</td>\n",
       "      <td>1.0</td>\n",
       "      <td>21889603</td>\n",
       "    </tr>\n",
       "    <tr>\n",
       "      <th>4</th>\n",
       "      <td>4</td>\n",
       "      <td>2008</td>\n",
       "      <td>Male</td>\n",
       "      <td>55 to 64 years</td>\n",
       "      <td>Total</td>\n",
       "      <td>1.0</td>\n",
       "      <td>16251184</td>\n",
       "    </tr>\n",
       "  </tbody>\n",
       "</table>\n",
       "</div>"
      ],
      "text/plain": [
       "   index  Year Gender       Age Group Metric  Estimated Percent  \\\n",
       "0      0  2008   Male  15 to 19 years  Total                1.0   \n",
       "1      1  2008   Male  20 to 34 years  Total                1.0   \n",
       "2      2  2008   Male  35 to 44 years  Total                1.0   \n",
       "3      3  2008   Male  45 to 54 years  Total                1.0   \n",
       "4      4  2008   Male  55 to 64 years  Total                1.0   \n",
       "\n",
       "   Estimated Population  \n",
       "0              11241214  \n",
       "1              31342886  \n",
       "2              21426309  \n",
       "3              21889603  \n",
       "4              16251184  "
      ]
     },
     "execution_count": 47,
     "metadata": {},
     "output_type": "execute_result"
    }
   ],
   "source": [
    "\n",
    "df_3.head()"
   ]
  },
  {
   "cell_type": "code",
   "execution_count": 48,
   "metadata": {},
   "outputs": [
    {
     "data": {
      "text/plain": [
       "(936, 7)"
      ]
     },
     "execution_count": 48,
     "metadata": {},
     "output_type": "execute_result"
    }
   ],
   "source": [
    "df_3.shape"
   ]
  },
  {
   "cell_type": "code",
   "execution_count": 49,
   "metadata": {},
   "outputs": [
    {
     "data": {
      "text/html": [
       "<div>\n",
       "<style scoped>\n",
       "    .dataframe tbody tr th:only-of-type {\n",
       "        vertical-align: middle;\n",
       "    }\n",
       "\n",
       "    .dataframe tbody tr th {\n",
       "        vertical-align: top;\n",
       "    }\n",
       "\n",
       "    .dataframe thead th {\n",
       "        text-align: right;\n",
       "    }\n",
       "</style>\n",
       "<table border=\"1\" class=\"dataframe\">\n",
       "  <thead>\n",
       "    <tr style=\"text-align: right;\">\n",
       "      <th></th>\n",
       "      <th>Year</th>\n",
       "      <th>Gender</th>\n",
       "      <th>Age Group</th>\n",
       "      <th>Metric</th>\n",
       "      <th>Estimated Percent</th>\n",
       "      <th>Estimated Population</th>\n",
       "    </tr>\n",
       "  </thead>\n",
       "  <tbody>\n",
       "    <tr>\n",
       "      <th>0</th>\n",
       "      <td>2008</td>\n",
       "      <td>Male</td>\n",
       "      <td>15 to 19 years</td>\n",
       "      <td>Total</td>\n",
       "      <td>1.000</td>\n",
       "      <td>11241214</td>\n",
       "    </tr>\n",
       "    <tr>\n",
       "      <th>1</th>\n",
       "      <td>2008</td>\n",
       "      <td>Male</td>\n",
       "      <td>20 to 34 years</td>\n",
       "      <td>Total</td>\n",
       "      <td>1.000</td>\n",
       "      <td>31342886</td>\n",
       "    </tr>\n",
       "    <tr>\n",
       "      <th>2</th>\n",
       "      <td>2008</td>\n",
       "      <td>Male</td>\n",
       "      <td>35 to 44 years</td>\n",
       "      <td>Total</td>\n",
       "      <td>1.000</td>\n",
       "      <td>21426309</td>\n",
       "    </tr>\n",
       "    <tr>\n",
       "      <th>3</th>\n",
       "      <td>2008</td>\n",
       "      <td>Male</td>\n",
       "      <td>45 to 54 years</td>\n",
       "      <td>Total</td>\n",
       "      <td>1.000</td>\n",
       "      <td>21889603</td>\n",
       "    </tr>\n",
       "    <tr>\n",
       "      <th>4</th>\n",
       "      <td>2008</td>\n",
       "      <td>Male</td>\n",
       "      <td>55 to 64 years</td>\n",
       "      <td>Total</td>\n",
       "      <td>1.000</td>\n",
       "      <td>16251184</td>\n",
       "    </tr>\n",
       "    <tr>\n",
       "      <th>...</th>\n",
       "      <td>...</td>\n",
       "      <td>...</td>\n",
       "      <td>...</td>\n",
       "      <td>...</td>\n",
       "      <td>...</td>\n",
       "      <td>...</td>\n",
       "    </tr>\n",
       "    <tr>\n",
       "      <th>931</th>\n",
       "      <td>2014</td>\n",
       "      <td>Female</td>\n",
       "      <td>20 to 34 years</td>\n",
       "      <td>Never Married</td>\n",
       "      <td>0.597</td>\n",
       "      <td>19439915</td>\n",
       "    </tr>\n",
       "    <tr>\n",
       "      <th>932</th>\n",
       "      <td>2014</td>\n",
       "      <td>Female</td>\n",
       "      <td>35 to 44 years</td>\n",
       "      <td>Never Married</td>\n",
       "      <td>0.201</td>\n",
       "      <td>4115792</td>\n",
       "    </tr>\n",
       "    <tr>\n",
       "      <th>933</th>\n",
       "      <td>2014</td>\n",
       "      <td>Female</td>\n",
       "      <td>45 to 54 years</td>\n",
       "      <td>Never Married</td>\n",
       "      <td>0.131</td>\n",
       "      <td>2881218</td>\n",
       "    </tr>\n",
       "    <tr>\n",
       "      <th>934</th>\n",
       "      <td>2014</td>\n",
       "      <td>Female</td>\n",
       "      <td>55 to 64 years</td>\n",
       "      <td>Never Married</td>\n",
       "      <td>0.093</td>\n",
       "      <td>1931038</td>\n",
       "    </tr>\n",
       "    <tr>\n",
       "      <th>935</th>\n",
       "      <td>2014</td>\n",
       "      <td>Female</td>\n",
       "      <td>65 years and over</td>\n",
       "      <td>Never Married</td>\n",
       "      <td>0.051</td>\n",
       "      <td>1321023</td>\n",
       "    </tr>\n",
       "  </tbody>\n",
       "</table>\n",
       "<p>936 rows × 6 columns</p>\n",
       "</div>"
      ],
      "text/plain": [
       "     Year  Gender          Age Group         Metric  Estimated Percent  \\\n",
       "0    2008    Male     15 to 19 years          Total              1.000   \n",
       "1    2008    Male     20 to 34 years          Total              1.000   \n",
       "2    2008    Male     35 to 44 years          Total              1.000   \n",
       "3    2008    Male     45 to 54 years          Total              1.000   \n",
       "4    2008    Male     55 to 64 years          Total              1.000   \n",
       "..    ...     ...                ...            ...                ...   \n",
       "931  2014  Female     20 to 34 years  Never Married              0.597   \n",
       "932  2014  Female     35 to 44 years  Never Married              0.201   \n",
       "933  2014  Female     45 to 54 years  Never Married              0.131   \n",
       "934  2014  Female     55 to 64 years  Never Married              0.093   \n",
       "935  2014  Female  65 years and over  Never Married              0.051   \n",
       "\n",
       "     Estimated Population  \n",
       "0                11241214  \n",
       "1                31342886  \n",
       "2                21426309  \n",
       "3                21889603  \n",
       "4                16251184  \n",
       "..                    ...  \n",
       "931              19439915  \n",
       "932               4115792  \n",
       "933               2881218  \n",
       "934               1931038  \n",
       "935               1321023  \n",
       "\n",
       "[936 rows x 6 columns]"
      ]
     },
     "execution_count": 49,
     "metadata": {},
     "output_type": "execute_result"
    }
   ],
   "source": [
    "df_3.drop(columns='index')"
   ]
  },
  {
   "cell_type": "code",
   "execution_count": 50,
   "metadata": {},
   "outputs": [
    {
     "data": {
      "text/html": [
       "<div>\n",
       "<style scoped>\n",
       "    .dataframe tbody tr th:only-of-type {\n",
       "        vertical-align: middle;\n",
       "    }\n",
       "\n",
       "    .dataframe tbody tr th {\n",
       "        vertical-align: top;\n",
       "    }\n",
       "\n",
       "    .dataframe thead th {\n",
       "        text-align: right;\n",
       "    }\n",
       "</style>\n",
       "<table border=\"1\" class=\"dataframe\">\n",
       "  <thead>\n",
       "    <tr style=\"text-align: right;\">\n",
       "      <th></th>\n",
       "      <th>index</th>\n",
       "      <th>Year</th>\n",
       "      <th>Gender</th>\n",
       "      <th>Age Group</th>\n",
       "      <th>Metric</th>\n",
       "      <th>Estimated Percent</th>\n",
       "      <th>Estimated Population</th>\n",
       "    </tr>\n",
       "  </thead>\n",
       "  <tbody>\n",
       "    <tr>\n",
       "      <th>13</th>\n",
       "      <td>13</td>\n",
       "      <td>2008</td>\n",
       "      <td>Male</td>\n",
       "      <td>20 to 34 years</td>\n",
       "      <td>Married</td>\n",
       "      <td>0.319</td>\n",
       "      <td>9998381</td>\n",
       "    </tr>\n",
       "    <tr>\n",
       "      <th>19</th>\n",
       "      <td>19</td>\n",
       "      <td>2008</td>\n",
       "      <td>Female</td>\n",
       "      <td>20 to 34 years</td>\n",
       "      <td>Married</td>\n",
       "      <td>0.391</td>\n",
       "      <td>11725067</td>\n",
       "    </tr>\n",
       "    <tr>\n",
       "      <th>85</th>\n",
       "      <td>85</td>\n",
       "      <td>2010</td>\n",
       "      <td>Male</td>\n",
       "      <td>20 to 34 years</td>\n",
       "      <td>Married</td>\n",
       "      <td>0.294</td>\n",
       "      <td>9301677</td>\n",
       "    </tr>\n",
       "    <tr>\n",
       "      <th>91</th>\n",
       "      <td>91</td>\n",
       "      <td>2010</td>\n",
       "      <td>Female</td>\n",
       "      <td>20 to 34 years</td>\n",
       "      <td>Married</td>\n",
       "      <td>0.367</td>\n",
       "      <td>11375736</td>\n",
       "    </tr>\n",
       "    <tr>\n",
       "      <th>157</th>\n",
       "      <td>157</td>\n",
       "      <td>2009</td>\n",
       "      <td>Male</td>\n",
       "      <td>20 to 34 years</td>\n",
       "      <td>Married</td>\n",
       "      <td>0.306</td>\n",
       "      <td>9827816</td>\n",
       "    </tr>\n",
       "  </tbody>\n",
       "</table>\n",
       "</div>"
      ],
      "text/plain": [
       "     index  Year  Gender       Age Group   Metric  Estimated Percent  \\\n",
       "13      13  2008    Male  20 to 34 years  Married              0.319   \n",
       "19      19  2008  Female  20 to 34 years  Married              0.391   \n",
       "85      85  2010    Male  20 to 34 years  Married              0.294   \n",
       "91      91  2010  Female  20 to 34 years  Married              0.367   \n",
       "157    157  2009    Male  20 to 34 years  Married              0.306   \n",
       "\n",
       "     Estimated Population  \n",
       "13                9998381  \n",
       "19               11725067  \n",
       "85                9301677  \n",
       "91               11375736  \n",
       "157               9827816  "
      ]
     },
     "execution_count": 50,
     "metadata": {},
     "output_type": "execute_result"
    }
   ],
   "source": [
    "# Filtrar los datos para obtener los millenials casados\n",
    "personas_casadas = df_3[(df_3['Metric'] == 'Married') & (df_3['Age Group'] == '20 to 34 years')]\n",
    "personas_casadas.head()\n"
   ]
  },
  {
   "cell_type": "code",
   "execution_count": 51,
   "metadata": {},
   "outputs": [
    {
     "data": {
      "text/plain": [
       "Year\n",
       "2005    23873453\n",
       "2006    22594242\n",
       "2007    22225556\n",
       "2008    21723448\n",
       "2009    21362077\n",
       "2010    20677413\n",
       "2011    20338167\n",
       "2012    20146678\n",
       "2013    19962863\n",
       "2014    19940486\n",
       "2015    19865299\n",
       "2016    19666042\n",
       "2017    19800305\n",
       "Name: Estimated Population, dtype: int64"
      ]
     },
     "execution_count": 51,
     "metadata": {},
     "output_type": "execute_result"
    }
   ],
   "source": [
    "casados_por_año = personas_casadas.groupby('Year')['Estimated Population'].sum()\n",
    "casados_por_año"
   ]
  },
  {
   "cell_type": "code",
   "execution_count": 52,
   "metadata": {},
   "outputs": [
    {
     "data": {
      "image/png": "[encoded data removed]",
      "text/plain": [
       "<Figure size 1000x600 with 1 Axes>"
      ]
     },
     "metadata": {},
     "output_type": "display_data"
    }
   ],
   "source": [
    "# Crear el gráfico\n",
    "plt.figure(figsize=(10, 6))\n",
    "plt.plot(casados_por_año, marker='o', linestyle='-', color='b')\n",
    "\n",
    "# Añadir etiquetas y título\n",
    "plt.xlabel('Año')\n",
    "plt.ylabel('Población en Millones')\n",
    "plt.title('Población casada a lo largo de los años')\n",
    "\n",
    "# Mostrar el gráfico\n",
    "plt.grid(True)\n",
    "plt.show()"
   ]
  },
  {
   "cell_type": "code",
   "execution_count": 53,
   "metadata": {},
   "outputs": [
    {
     "data": {
      "text/html": [
       "<div>\n",
       "<style scoped>\n",
       "    .dataframe tbody tr th:only-of-type {\n",
       "        vertical-align: middle;\n",
       "    }\n",
       "\n",
       "    .dataframe tbody tr th {\n",
       "        vertical-align: top;\n",
       "    }\n",
       "\n",
       "    .dataframe thead th {\n",
       "        text-align: right;\n",
       "    }\n",
       "</style>\n",
       "<table border=\"1\" class=\"dataframe\">\n",
       "  <thead>\n",
       "    <tr style=\"text-align: right;\">\n",
       "      <th></th>\n",
       "      <th>index</th>\n",
       "      <th>Year</th>\n",
       "      <th>Gender</th>\n",
       "      <th>Age Group</th>\n",
       "      <th>Metric</th>\n",
       "      <th>Estimated Percent</th>\n",
       "      <th>Estimated Population</th>\n",
       "    </tr>\n",
       "  </thead>\n",
       "  <tbody>\n",
       "    <tr>\n",
       "      <th>37</th>\n",
       "      <td>37</td>\n",
       "      <td>2008</td>\n",
       "      <td>Male</td>\n",
       "      <td>20 to 34 years</td>\n",
       "      <td>Divorced</td>\n",
       "      <td>0.037</td>\n",
       "      <td>1159687</td>\n",
       "    </tr>\n",
       "    <tr>\n",
       "      <th>43</th>\n",
       "      <td>43</td>\n",
       "      <td>2008</td>\n",
       "      <td>Female</td>\n",
       "      <td>20 to 34 years</td>\n",
       "      <td>Divorced</td>\n",
       "      <td>0.053</td>\n",
       "      <td>1589331</td>\n",
       "    </tr>\n",
       "    <tr>\n",
       "      <th>109</th>\n",
       "      <td>109</td>\n",
       "      <td>2010</td>\n",
       "      <td>Male</td>\n",
       "      <td>20 to 34 years</td>\n",
       "      <td>Divorced</td>\n",
       "      <td>0.035</td>\n",
       "      <td>1107343</td>\n",
       "    </tr>\n",
       "    <tr>\n",
       "      <th>115</th>\n",
       "      <td>115</td>\n",
       "      <td>2010</td>\n",
       "      <td>Female</td>\n",
       "      <td>20 to 34 years</td>\n",
       "      <td>Divorced</td>\n",
       "      <td>0.050</td>\n",
       "      <td>1549828</td>\n",
       "    </tr>\n",
       "    <tr>\n",
       "      <th>181</th>\n",
       "      <td>181</td>\n",
       "      <td>2009</td>\n",
       "      <td>Male</td>\n",
       "      <td>20 to 34 years</td>\n",
       "      <td>Divorced</td>\n",
       "      <td>0.035</td>\n",
       "      <td>1124097</td>\n",
       "    </tr>\n",
       "  </tbody>\n",
       "</table>\n",
       "</div>"
      ],
      "text/plain": [
       "     index  Year  Gender       Age Group    Metric  Estimated Percent  \\\n",
       "37      37  2008    Male  20 to 34 years  Divorced              0.037   \n",
       "43      43  2008  Female  20 to 34 years  Divorced              0.053   \n",
       "109    109  2010    Male  20 to 34 years  Divorced              0.035   \n",
       "115    115  2010  Female  20 to 34 years  Divorced              0.050   \n",
       "181    181  2009    Male  20 to 34 years  Divorced              0.035   \n",
       "\n",
       "     Estimated Population  \n",
       "37                1159687  \n",
       "43                1589331  \n",
       "109               1107343  \n",
       "115               1549828  \n",
       "181               1124097  "
      ]
     },
     "execution_count": 53,
     "metadata": {},
     "output_type": "execute_result"
    }
   ],
   "source": [
    "# Filtrar los datos para obtener las personas divorciadas\n",
    "personas_divorciadas = df_3[(df_3['Metric'] == 'Divorced') & (df_3['Age Group'] == '20 to 34 years')]\n",
    "personas_divorciadas.head()"
   ]
  },
  {
   "cell_type": "code",
   "execution_count": 54,
   "metadata": {},
   "outputs": [
    {
     "data": {
      "text/plain": [
       "Year\n",
       "2005    2758963\n",
       "2006    2880019\n",
       "2007    2761273\n",
       "2008    2749018\n",
       "2009    2688585\n",
       "2010    2657171\n",
       "2011    2603009\n",
       "2012    2641124\n",
       "2013    2508525\n",
       "2014    2436512\n",
       "2015    2386035\n",
       "2016    2256868\n",
       "2017    2168531\n",
       "Name: Estimated Population, dtype: int64"
      ]
     },
     "execution_count": 54,
     "metadata": {},
     "output_type": "execute_result"
    }
   ],
   "source": [
    "divorciados_por_año = personas_divorciadas.groupby('Year')['Estimated Population'].sum()\n",
    "divorciados_por_año"
   ]
  },
  {
   "cell_type": "code",
   "execution_count": 55,
   "metadata": {},
   "outputs": [
    {
     "data": {
      "image/png": "[encoded data removed]",
      "text/plain": [
       "<Figure size 1000x600 with 1 Axes>"
      ]
     },
     "metadata": {},
     "output_type": "display_data"
    }
   ],
   "source": [
    "# Crear el gráfico\n",
    "plt.figure(figsize=(10, 6))\n",
    "plt.plot(divorciados_por_año, marker='o', linestyle='-', color='b')\n",
    "\n",
    "# Añadir etiquetas y título\n",
    "plt.xlabel('Año')\n",
    "plt.ylabel('Población en Millones')\n",
    "plt.title('Población divorciada a lo largo de los años')\n",
    "\n",
    "# Mostrar el gráfico\n",
    "plt.grid(True)\n",
    "plt.show()"
   ]
  },
  {
   "cell_type": "code",
   "execution_count": 56,
   "metadata": {},
   "outputs": [
    {
     "data": {
      "text/plain": [
       "Year\n",
       "2005    0.12\n",
       "2006    0.13\n",
       "2007    0.12\n",
       "2008    0.13\n",
       "2009    0.13\n",
       "2010    0.13\n",
       "2011    0.13\n",
       "2012    0.13\n",
       "2013    0.13\n",
       "2014    0.12\n",
       "2015    0.12\n",
       "2016    0.11\n",
       "2017    0.11\n",
       "Name: Estimated Population, dtype: float64"
      ]
     },
     "execution_count": 56,
     "metadata": {},
     "output_type": "execute_result"
    }
   ],
   "source": [
    "#Creamos un ratio de casados con respecto a los divorciados\n",
    "ratio_casados_divorciados = round(divorciados_por_año/casados_por_año, 2)\n",
    "ratio_casados_divorciados\n"
   ]
  },
  {
   "cell_type": "code",
   "execution_count": 57,
   "metadata": {},
   "outputs": [
    {
     "data": {
      "image/png": "[encoded data removed]",
      "text/plain": [
       "<Figure size 1000x600 with 1 Axes>"
      ]
     },
     "metadata": {},
     "output_type": "display_data"
    }
   ],
   "source": [
    "# Crear el gráfico\n",
    "plt.figure(figsize=(10, 6))\n",
    "plt.plot(ratio_casados_divorciados, marker='o', linestyle='-', color='b')\n",
    "\n",
    "# Añadir etiquetas y título\n",
    "plt.xlabel('Año')\n",
    "plt.ylabel('Población en Millones')\n",
    "plt.title('Ratio de divorciados-casados a lo largo de los años')\n",
    "\n",
    "# Mostrar el gráfico\n",
    "plt.grid(True)\n",
    "plt.show()"
   ]
  },
  {
   "cell_type": "code",
   "execution_count": 58,
   "metadata": {},
   "outputs": [
    {
     "data": {
      "text/plain": [
       "Year\n",
       "2005    58088311\n",
       "2006    60861135\n",
       "2007    60932533\n",
       "2008    61330269\n",
       "2009    62793273\n",
       "2010    62634913\n",
       "2011    63638983\n",
       "2012    64564028\n",
       "2013    65346463\n",
       "2014    66021128\n",
       "2015    66438909\n",
       "2016    66562921\n",
       "2017    66915790\n",
       "Name: Estimated Population, dtype: int64"
      ]
     },
     "execution_count": 58,
     "metadata": {},
     "output_type": "execute_result"
    }
   ],
   "source": [
    "millenials_totales = df_3[(df_3['Metric'] == 'Total') & (df_3['Age Group'] == '20 to 34 years')]\n",
    "millenials_por_año = millenials_totales.groupby('Year')['Estimated Population'].sum()\n",
    "millenials_por_año "
   ]
  },
  {
   "cell_type": "code",
   "execution_count": 59,
   "metadata": {},
   "outputs": [
    {
     "data": {
      "text/plain": [
       "Year\n",
       "2005    0.410985\n",
       "2006    0.371243\n",
       "2007    0.364757\n",
       "2008    0.354204\n",
       "2009    0.340197\n",
       "2010    0.330126\n",
       "2011    0.319587\n",
       "2012    0.312042\n",
       "2013    0.305493\n",
       "2014    0.302032\n",
       "2015    0.299001\n",
       "2016    0.295450\n",
       "2017    0.295899\n",
       "Name: Estimated Population, dtype: float64"
      ]
     },
     "execution_count": 59,
     "metadata": {},
     "output_type": "execute_result"
    }
   ],
   "source": [
    "#Calculamos el porcentaje de los milennials casados con respecto al total\n",
    "porcentaje_casados_milennials = casados_por_año/millenials_por_año\n",
    "porcentaje_casados_milennials"
   ]
  },
  {
   "cell_type": "code",
   "execution_count": 60,
   "metadata": {},
   "outputs": [
    {
     "data": {
      "image/png": "[encoded data removed]",
      "text/plain": [
       "<Figure size 1000x600 with 1 Axes>"
      ]
     },
     "metadata": {},
     "output_type": "display_data"
    }
   ],
   "source": [
    "# Crear el gráfico\n",
    "plt.figure(figsize=(10, 6))\n",
    "plt.plot(porcentaje_casados_milennials, marker='o', linestyle='-', color='b')\n",
    "\n",
    "# Añadir etiquetas y título\n",
    "plt.xlabel('Año')\n",
    "plt.ylabel('Población en Millones')\n",
    "plt.title('Ratio de Milennials casados a lo largo de los años')\n",
    "\n",
    "# Mostrar el gráfico\n",
    "plt.grid(True)\n",
    "plt.show()"
   ]
  },
  {
   "cell_type": "markdown",
   "metadata": {},
   "source": [
    "# La caida de los matrimonios entre los millenials es bastante acusada"
   ]
  },
  {
   "cell_type": "markdown",
   "metadata": {},
   "source": [
    "<img src=\"./data/images/how couples met.jpeg\" alt=\"imagen\" width=\"600\"/>\n"
   ]
  },
  {
   "cell_type": "markdown",
   "metadata": {},
   "source": [
    "# Sin embargo este suceso coincide con un aumento muy importante del numero de parejas que se conocem online según statista"
   ]
  },
  {
   "cell_type": "markdown",
   "metadata": {},
   "source": [
    "# OKCUPID"
   ]
  },
  {
   "cell_type": "code",
   "execution_count": 61,
   "metadata": {},
   "outputs": [
    {
     "data": {
      "text/html": [
       "<div>\n",
       "<style scoped>\n",
       "    .dataframe tbody tr th:only-of-type {\n",
       "        vertical-align: middle;\n",
       "    }\n",
       "\n",
       "    .dataframe tbody tr th {\n",
       "        vertical-align: top;\n",
       "    }\n",
       "\n",
       "    .dataframe thead th {\n",
       "        text-align: right;\n",
       "    }\n",
       "</style>\n",
       "<table border=\"1\" class=\"dataframe\">\n",
       "  <thead>\n",
       "    <tr style=\"text-align: right;\">\n",
       "      <th></th>\n",
       "      <th>age</th>\n",
       "      <th>body_type</th>\n",
       "      <th>diet</th>\n",
       "      <th>drinks</th>\n",
       "      <th>drugs</th>\n",
       "      <th>education</th>\n",
       "      <th>ethnicity</th>\n",
       "      <th>height</th>\n",
       "      <th>income</th>\n",
       "      <th>job</th>\n",
       "      <th>offspring</th>\n",
       "      <th>orientation</th>\n",
       "      <th>pets</th>\n",
       "      <th>religion</th>\n",
       "      <th>sex</th>\n",
       "      <th>sign</th>\n",
       "      <th>smokes</th>\n",
       "      <th>speaks</th>\n",
       "      <th>status</th>\n",
       "    </tr>\n",
       "  </thead>\n",
       "  <tbody>\n",
       "    <tr>\n",
       "      <th>0</th>\n",
       "      <td>22</td>\n",
       "      <td>a little extra</td>\n",
       "      <td>strictly anything</td>\n",
       "      <td>socially</td>\n",
       "      <td>never</td>\n",
       "      <td>working on college/university</td>\n",
       "      <td>asian, white</td>\n",
       "      <td>75.0</td>\n",
       "      <td>-1</td>\n",
       "      <td>transportation</td>\n",
       "      <td>doesn&amp;rsquo;t have kids, but might want them</td>\n",
       "      <td>straight</td>\n",
       "      <td>likes dogs and likes cats</td>\n",
       "      <td>agnosticism and very serious about it</td>\n",
       "      <td>m</td>\n",
       "      <td>gemini</td>\n",
       "      <td>sometimes</td>\n",
       "      <td>english</td>\n",
       "      <td>single</td>\n",
       "    </tr>\n",
       "    <tr>\n",
       "      <th>1</th>\n",
       "      <td>36</td>\n",
       "      <td>average</td>\n",
       "      <td>mostly other</td>\n",
       "      <td>often</td>\n",
       "      <td>sometimes</td>\n",
       "      <td>working on space camp</td>\n",
       "      <td>white</td>\n",
       "      <td>70.0</td>\n",
       "      <td>80000</td>\n",
       "      <td>hospitality / travel</td>\n",
       "      <td>doesn&amp;rsquo;t have kids, but might want them</td>\n",
       "      <td>straight</td>\n",
       "      <td>likes dogs and likes cats</td>\n",
       "      <td>agnosticism but not too serious about it</td>\n",
       "      <td>m</td>\n",
       "      <td>cancer</td>\n",
       "      <td>no</td>\n",
       "      <td>english (fluently), spanish (poorly), french (...</td>\n",
       "      <td>single</td>\n",
       "    </tr>\n",
       "    <tr>\n",
       "      <th>2</th>\n",
       "      <td>37</td>\n",
       "      <td>thin</td>\n",
       "      <td>anything</td>\n",
       "      <td>socially</td>\n",
       "      <td>NaN</td>\n",
       "      <td>graduated from masters program</td>\n",
       "      <td>NaN</td>\n",
       "      <td>68.0</td>\n",
       "      <td>-1</td>\n",
       "      <td>NaN</td>\n",
       "      <td>NaN</td>\n",
       "      <td>straight</td>\n",
       "      <td>has cats</td>\n",
       "      <td>NaN</td>\n",
       "      <td>m</td>\n",
       "      <td>pisces but it doesn&amp;rsquo;t matter</td>\n",
       "      <td>no</td>\n",
       "      <td>english, french, c++</td>\n",
       "      <td>available</td>\n",
       "    </tr>\n",
       "    <tr>\n",
       "      <th>3</th>\n",
       "      <td>22</td>\n",
       "      <td>thin</td>\n",
       "      <td>vegetarian</td>\n",
       "      <td>socially</td>\n",
       "      <td>NaN</td>\n",
       "      <td>working on college/university</td>\n",
       "      <td>white</td>\n",
       "      <td>71.0</td>\n",
       "      <td>20000</td>\n",
       "      <td>student</td>\n",
       "      <td>doesn&amp;rsquo;t want kids</td>\n",
       "      <td>straight</td>\n",
       "      <td>likes cats</td>\n",
       "      <td>NaN</td>\n",
       "      <td>m</td>\n",
       "      <td>pisces</td>\n",
       "      <td>no</td>\n",
       "      <td>english, german (poorly)</td>\n",
       "      <td>single</td>\n",
       "    </tr>\n",
       "    <tr>\n",
       "      <th>4</th>\n",
       "      <td>30</td>\n",
       "      <td>athletic</td>\n",
       "      <td>NaN</td>\n",
       "      <td>socially</td>\n",
       "      <td>never</td>\n",
       "      <td>graduated from college/university</td>\n",
       "      <td>asian, black, other</td>\n",
       "      <td>66.0</td>\n",
       "      <td>-1</td>\n",
       "      <td>artistic / musical / writer</td>\n",
       "      <td>NaN</td>\n",
       "      <td>straight</td>\n",
       "      <td>likes dogs and likes cats</td>\n",
       "      <td>NaN</td>\n",
       "      <td>m</td>\n",
       "      <td>aquarius</td>\n",
       "      <td>no</td>\n",
       "      <td>english</td>\n",
       "      <td>single</td>\n",
       "    </tr>\n",
       "  </tbody>\n",
       "</table>\n",
       "</div>"
      ],
      "text/plain": [
       "   age       body_type               diet    drinks      drugs  \\\n",
       "0   22  a little extra  strictly anything  socially      never   \n",
       "1   36         average       mostly other     often  sometimes   \n",
       "2   37            thin           anything  socially        NaN   \n",
       "3   22            thin         vegetarian  socially        NaN   \n",
       "4   30        athletic                NaN  socially      never   \n",
       "\n",
       "                           education            ethnicity  height  income  \\\n",
       "0      working on college/university         asian, white    75.0      -1   \n",
       "1              working on space camp                white    70.0   80000   \n",
       "2     graduated from masters program                  NaN    68.0      -1   \n",
       "3      working on college/university                white    71.0   20000   \n",
       "4  graduated from college/university  asian, black, other    66.0      -1   \n",
       "\n",
       "                           job                                     offspring  \\\n",
       "0               transportation  doesn&rsquo;t have kids, but might want them   \n",
       "1         hospitality / travel  doesn&rsquo;t have kids, but might want them   \n",
       "2                          NaN                                           NaN   \n",
       "3                      student                       doesn&rsquo;t want kids   \n",
       "4  artistic / musical / writer                                           NaN   \n",
       "\n",
       "  orientation                       pets  \\\n",
       "0    straight  likes dogs and likes cats   \n",
       "1    straight  likes dogs and likes cats   \n",
       "2    straight                   has cats   \n",
       "3    straight                 likes cats   \n",
       "4    straight  likes dogs and likes cats   \n",
       "\n",
       "                                   religion sex  \\\n",
       "0     agnosticism and very serious about it   m   \n",
       "1  agnosticism but not too serious about it   m   \n",
       "2                                       NaN   m   \n",
       "3                                       NaN   m   \n",
       "4                                       NaN   m   \n",
       "\n",
       "                                 sign     smokes  \\\n",
       "0                              gemini  sometimes   \n",
       "1                              cancer         no   \n",
       "2  pisces but it doesn&rsquo;t matter         no   \n",
       "3                              pisces         no   \n",
       "4                            aquarius         no   \n",
       "\n",
       "                                              speaks     status  \n",
       "0                                            english     single  \n",
       "1  english (fluently), spanish (poorly), french (...     single  \n",
       "2                               english, french, c++  available  \n",
       "3                           english, german (poorly)     single  \n",
       "4                                            english     single  "
      ]
     },
     "execution_count": 61,
     "metadata": {},
     "output_type": "execute_result"
    }
   ],
   "source": [
    "df_4.head()"
   ]
  },
  {
   "cell_type": "code",
   "execution_count": 62,
   "metadata": {},
   "outputs": [
    {
     "data": {
      "text/plain": [
       "(59946, 19)"
      ]
     },
     "execution_count": 62,
     "metadata": {},
     "output_type": "execute_result"
    }
   ],
   "source": [
    "df_4.shape"
   ]
  },
  {
   "cell_type": "markdown",
   "metadata": {},
   "source": [
    "### Discriminamos por millenials"
   ]
  },
  {
   "cell_type": "code",
   "execution_count": 63,
   "metadata": {},
   "outputs": [
    {
     "data": {
      "text/html": [
       "<div>\n",
       "<style scoped>\n",
       "    .dataframe tbody tr th:only-of-type {\n",
       "        vertical-align: middle;\n",
       "    }\n",
       "\n",
       "    .dataframe tbody tr th {\n",
       "        vertical-align: top;\n",
       "    }\n",
       "\n",
       "    .dataframe thead th {\n",
       "        text-align: right;\n",
       "    }\n",
       "</style>\n",
       "<table border=\"1\" class=\"dataframe\">\n",
       "  <thead>\n",
       "    <tr style=\"text-align: right;\">\n",
       "      <th></th>\n",
       "      <th>age</th>\n",
       "      <th>body_type</th>\n",
       "      <th>diet</th>\n",
       "      <th>drinks</th>\n",
       "      <th>drugs</th>\n",
       "      <th>education</th>\n",
       "      <th>ethnicity</th>\n",
       "      <th>height</th>\n",
       "      <th>income</th>\n",
       "      <th>job</th>\n",
       "      <th>offspring</th>\n",
       "      <th>orientation</th>\n",
       "      <th>pets</th>\n",
       "      <th>religion</th>\n",
       "      <th>sex</th>\n",
       "      <th>sign</th>\n",
       "      <th>smokes</th>\n",
       "      <th>speaks</th>\n",
       "      <th>status</th>\n",
       "    </tr>\n",
       "  </thead>\n",
       "  <tbody>\n",
       "    <tr>\n",
       "      <th>0</th>\n",
       "      <td>22</td>\n",
       "      <td>a little extra</td>\n",
       "      <td>strictly anything</td>\n",
       "      <td>socially</td>\n",
       "      <td>never</td>\n",
       "      <td>working on college/university</td>\n",
       "      <td>asian, white</td>\n",
       "      <td>75.0</td>\n",
       "      <td>-1</td>\n",
       "      <td>transportation</td>\n",
       "      <td>doesn&amp;rsquo;t have kids, but might want them</td>\n",
       "      <td>straight</td>\n",
       "      <td>likes dogs and likes cats</td>\n",
       "      <td>agnosticism and very serious about it</td>\n",
       "      <td>m</td>\n",
       "      <td>gemini</td>\n",
       "      <td>sometimes</td>\n",
       "      <td>english</td>\n",
       "      <td>single</td>\n",
       "    </tr>\n",
       "    <tr>\n",
       "      <th>3</th>\n",
       "      <td>22</td>\n",
       "      <td>thin</td>\n",
       "      <td>vegetarian</td>\n",
       "      <td>socially</td>\n",
       "      <td>NaN</td>\n",
       "      <td>working on college/university</td>\n",
       "      <td>white</td>\n",
       "      <td>71.0</td>\n",
       "      <td>20000</td>\n",
       "      <td>student</td>\n",
       "      <td>doesn&amp;rsquo;t want kids</td>\n",
       "      <td>straight</td>\n",
       "      <td>likes cats</td>\n",
       "      <td>NaN</td>\n",
       "      <td>m</td>\n",
       "      <td>pisces</td>\n",
       "      <td>no</td>\n",
       "      <td>english, german (poorly)</td>\n",
       "      <td>single</td>\n",
       "    </tr>\n",
       "    <tr>\n",
       "      <th>4</th>\n",
       "      <td>30</td>\n",
       "      <td>athletic</td>\n",
       "      <td>NaN</td>\n",
       "      <td>socially</td>\n",
       "      <td>never</td>\n",
       "      <td>graduated from college/university</td>\n",
       "      <td>asian, black, other</td>\n",
       "      <td>66.0</td>\n",
       "      <td>-1</td>\n",
       "      <td>artistic / musical / writer</td>\n",
       "      <td>NaN</td>\n",
       "      <td>straight</td>\n",
       "      <td>likes dogs and likes cats</td>\n",
       "      <td>NaN</td>\n",
       "      <td>m</td>\n",
       "      <td>aquarius</td>\n",
       "      <td>no</td>\n",
       "      <td>english</td>\n",
       "      <td>single</td>\n",
       "    </tr>\n",
       "    <tr>\n",
       "      <th>5</th>\n",
       "      <td>28</td>\n",
       "      <td>average</td>\n",
       "      <td>mostly anything</td>\n",
       "      <td>socially</td>\n",
       "      <td>NaN</td>\n",
       "      <td>graduated from college/university</td>\n",
       "      <td>white</td>\n",
       "      <td>67.0</td>\n",
       "      <td>-1</td>\n",
       "      <td>computer / hardware / software</td>\n",
       "      <td>doesn&amp;rsquo;t have kids, but might want them</td>\n",
       "      <td>straight</td>\n",
       "      <td>likes cats</td>\n",
       "      <td>atheism</td>\n",
       "      <td>m</td>\n",
       "      <td>taurus</td>\n",
       "      <td>no</td>\n",
       "      <td>english (fluently), chinese (okay)</td>\n",
       "      <td>single</td>\n",
       "    </tr>\n",
       "    <tr>\n",
       "      <th>6</th>\n",
       "      <td>32</td>\n",
       "      <td>fit</td>\n",
       "      <td>strictly anything</td>\n",
       "      <td>socially</td>\n",
       "      <td>never</td>\n",
       "      <td>graduated from college/university</td>\n",
       "      <td>white, other</td>\n",
       "      <td>65.0</td>\n",
       "      <td>-1</td>\n",
       "      <td>NaN</td>\n",
       "      <td>NaN</td>\n",
       "      <td>straight</td>\n",
       "      <td>likes dogs and likes cats</td>\n",
       "      <td>NaN</td>\n",
       "      <td>f</td>\n",
       "      <td>virgo</td>\n",
       "      <td>NaN</td>\n",
       "      <td>english</td>\n",
       "      <td>single</td>\n",
       "    </tr>\n",
       "  </tbody>\n",
       "</table>\n",
       "</div>"
      ],
      "text/plain": [
       "   age       body_type               diet    drinks  drugs  \\\n",
       "0   22  a little extra  strictly anything  socially  never   \n",
       "3   22            thin         vegetarian  socially    NaN   \n",
       "4   30        athletic                NaN  socially  never   \n",
       "5   28         average    mostly anything  socially    NaN   \n",
       "6   32             fit  strictly anything  socially  never   \n",
       "\n",
       "                           education            ethnicity  height  income  \\\n",
       "0      working on college/university         asian, white    75.0      -1   \n",
       "3      working on college/university                white    71.0   20000   \n",
       "4  graduated from college/university  asian, black, other    66.0      -1   \n",
       "5  graduated from college/university                white    67.0      -1   \n",
       "6  graduated from college/university         white, other    65.0      -1   \n",
       "\n",
       "                              job  \\\n",
       "0                  transportation   \n",
       "3                         student   \n",
       "4     artistic / musical / writer   \n",
       "5  computer / hardware / software   \n",
       "6                             NaN   \n",
       "\n",
       "                                      offspring orientation  \\\n",
       "0  doesn&rsquo;t have kids, but might want them    straight   \n",
       "3                       doesn&rsquo;t want kids    straight   \n",
       "4                                           NaN    straight   \n",
       "5  doesn&rsquo;t have kids, but might want them    straight   \n",
       "6                                           NaN    straight   \n",
       "\n",
       "                        pets                               religion sex  \\\n",
       "0  likes dogs and likes cats  agnosticism and very serious about it   m   \n",
       "3                 likes cats                                    NaN   m   \n",
       "4  likes dogs and likes cats                                    NaN   m   \n",
       "5                 likes cats                                atheism   m   \n",
       "6  likes dogs and likes cats                                    NaN   f   \n",
       "\n",
       "       sign     smokes                              speaks  status  \n",
       "0    gemini  sometimes                             english  single  \n",
       "3    pisces         no            english, german (poorly)  single  \n",
       "4  aquarius         no                             english  single  \n",
       "5    taurus         no  english (fluently), chinese (okay)  single  \n",
       "6     virgo        NaN                             english  single  "
      ]
     },
     "execution_count": 63,
     "metadata": {},
     "output_type": "execute_result"
    }
   ],
   "source": [
    "millennialsOK = df_4[(df_4['age'] > 18) & (df_4['age'] < 35)]\n",
    "millennialsOK.head()\n"
   ]
  },
  {
   "cell_type": "code",
   "execution_count": 64,
   "metadata": {},
   "outputs": [
    {
     "data": {
      "text/html": [
       "<div>\n",
       "<style scoped>\n",
       "    .dataframe tbody tr th:only-of-type {\n",
       "        vertical-align: middle;\n",
       "    }\n",
       "\n",
       "    .dataframe tbody tr th {\n",
       "        vertical-align: top;\n",
       "    }\n",
       "\n",
       "    .dataframe thead th {\n",
       "        text-align: right;\n",
       "    }\n",
       "</style>\n",
       "<table border=\"1\" class=\"dataframe\">\n",
       "  <thead>\n",
       "    <tr style=\"text-align: right;\">\n",
       "      <th></th>\n",
       "      <th>age</th>\n",
       "      <th>body_type</th>\n",
       "      <th>diet</th>\n",
       "      <th>drinks</th>\n",
       "      <th>drugs</th>\n",
       "      <th>education</th>\n",
       "      <th>ethnicity</th>\n",
       "      <th>height</th>\n",
       "      <th>income</th>\n",
       "      <th>job</th>\n",
       "      <th>offspring</th>\n",
       "      <th>orientation</th>\n",
       "      <th>pets</th>\n",
       "      <th>religion</th>\n",
       "      <th>sex</th>\n",
       "      <th>sign</th>\n",
       "      <th>smokes</th>\n",
       "      <th>speaks</th>\n",
       "      <th>status</th>\n",
       "    </tr>\n",
       "  </thead>\n",
       "  <tbody>\n",
       "    <tr>\n",
       "      <th>6</th>\n",
       "      <td>32</td>\n",
       "      <td>fit</td>\n",
       "      <td>strictly anything</td>\n",
       "      <td>socially</td>\n",
       "      <td>never</td>\n",
       "      <td>graduated from college/university</td>\n",
       "      <td>white, other</td>\n",
       "      <td>65.0</td>\n",
       "      <td>-1</td>\n",
       "      <td>NaN</td>\n",
       "      <td>NaN</td>\n",
       "      <td>straight</td>\n",
       "      <td>likes dogs and likes cats</td>\n",
       "      <td>NaN</td>\n",
       "      <td>f</td>\n",
       "      <td>virgo</td>\n",
       "      <td>NaN</td>\n",
       "      <td>english</td>\n",
       "      <td>single</td>\n",
       "    </tr>\n",
       "    <tr>\n",
       "      <th>7</th>\n",
       "      <td>30</td>\n",
       "      <td>average</td>\n",
       "      <td>mostly anything</td>\n",
       "      <td>socially</td>\n",
       "      <td>never</td>\n",
       "      <td>graduated from college/university</td>\n",
       "      <td>white</td>\n",
       "      <td>65.0</td>\n",
       "      <td>-1</td>\n",
       "      <td>artistic / musical / writer</td>\n",
       "      <td>doesn&amp;rsquo;t have kids, but wants them</td>\n",
       "      <td>straight</td>\n",
       "      <td>likes dogs and likes cats</td>\n",
       "      <td>christianity</td>\n",
       "      <td>f</td>\n",
       "      <td>sagittarius</td>\n",
       "      <td>no</td>\n",
       "      <td>english, spanish (okay)</td>\n",
       "      <td>single</td>\n",
       "    </tr>\n",
       "    <tr>\n",
       "      <th>8</th>\n",
       "      <td>25</td>\n",
       "      <td>NaN</td>\n",
       "      <td>strictly anything</td>\n",
       "      <td>socially</td>\n",
       "      <td>NaN</td>\n",
       "      <td>graduated from college/university</td>\n",
       "      <td>white</td>\n",
       "      <td>67.0</td>\n",
       "      <td>-1</td>\n",
       "      <td>NaN</td>\n",
       "      <td>doesn&amp;rsquo;t have kids</td>\n",
       "      <td>straight</td>\n",
       "      <td>likes dogs and likes cats</td>\n",
       "      <td>christianity but not too serious about it</td>\n",
       "      <td>f</td>\n",
       "      <td>gemini but it doesn&amp;rsquo;t matter</td>\n",
       "      <td>when drinking</td>\n",
       "      <td>english</td>\n",
       "      <td>single</td>\n",
       "    </tr>\n",
       "    <tr>\n",
       "      <th>13</th>\n",
       "      <td>29</td>\n",
       "      <td>skinny</td>\n",
       "      <td>mostly anything</td>\n",
       "      <td>socially</td>\n",
       "      <td>never</td>\n",
       "      <td>graduated from high school</td>\n",
       "      <td>white</td>\n",
       "      <td>66.0</td>\n",
       "      <td>30000</td>\n",
       "      <td>sales / marketing / biz dev</td>\n",
       "      <td>NaN</td>\n",
       "      <td>straight</td>\n",
       "      <td>has dogs and likes cats</td>\n",
       "      <td>christianity but not too serious about it</td>\n",
       "      <td>f</td>\n",
       "      <td>NaN</td>\n",
       "      <td>no</td>\n",
       "      <td>english</td>\n",
       "      <td>single</td>\n",
       "    </tr>\n",
       "    <tr>\n",
       "      <th>14</th>\n",
       "      <td>29</td>\n",
       "      <td>thin</td>\n",
       "      <td>mostly anything</td>\n",
       "      <td>socially</td>\n",
       "      <td>never</td>\n",
       "      <td>working on college/university</td>\n",
       "      <td>hispanic / latin, white</td>\n",
       "      <td>62.0</td>\n",
       "      <td>50000</td>\n",
       "      <td>other</td>\n",
       "      <td>doesn&amp;rsquo;t have kids, but wants them</td>\n",
       "      <td>straight</td>\n",
       "      <td>likes dogs and has cats</td>\n",
       "      <td>catholicism</td>\n",
       "      <td>f</td>\n",
       "      <td>taurus</td>\n",
       "      <td>no</td>\n",
       "      <td>english</td>\n",
       "      <td>single</td>\n",
       "    </tr>\n",
       "  </tbody>\n",
       "</table>\n",
       "</div>"
      ],
      "text/plain": [
       "    age body_type               diet    drinks  drugs  \\\n",
       "6    32       fit  strictly anything  socially  never   \n",
       "7    30   average    mostly anything  socially  never   \n",
       "8    25       NaN  strictly anything  socially    NaN   \n",
       "13   29    skinny    mostly anything  socially  never   \n",
       "14   29      thin    mostly anything  socially  never   \n",
       "\n",
       "                            education                ethnicity  height  \\\n",
       "6   graduated from college/university             white, other    65.0   \n",
       "7   graduated from college/university                    white    65.0   \n",
       "8   graduated from college/university                    white    67.0   \n",
       "13         graduated from high school                    white    66.0   \n",
       "14      working on college/university  hispanic / latin, white    62.0   \n",
       "\n",
       "    income                          job  \\\n",
       "6       -1                          NaN   \n",
       "7       -1  artistic / musical / writer   \n",
       "8       -1                          NaN   \n",
       "13   30000  sales / marketing / biz dev   \n",
       "14   50000                        other   \n",
       "\n",
       "                                  offspring orientation  \\\n",
       "6                                       NaN    straight   \n",
       "7   doesn&rsquo;t have kids, but wants them    straight   \n",
       "8                   doesn&rsquo;t have kids    straight   \n",
       "13                                      NaN    straight   \n",
       "14  doesn&rsquo;t have kids, but wants them    straight   \n",
       "\n",
       "                         pets                                   religion sex  \\\n",
       "6   likes dogs and likes cats                                        NaN   f   \n",
       "7   likes dogs and likes cats                               christianity   f   \n",
       "8   likes dogs and likes cats  christianity but not too serious about it   f   \n",
       "13    has dogs and likes cats  christianity but not too serious about it   f   \n",
       "14    likes dogs and has cats                                catholicism   f   \n",
       "\n",
       "                                  sign         smokes  \\\n",
       "6                                virgo            NaN   \n",
       "7                          sagittarius             no   \n",
       "8   gemini but it doesn&rsquo;t matter  when drinking   \n",
       "13                                 NaN             no   \n",
       "14                              taurus             no   \n",
       "\n",
       "                     speaks  status  \n",
       "6                   english  single  \n",
       "7   english, spanish (okay)  single  \n",
       "8                   english  single  \n",
       "13                  english  single  \n",
       "14                  english  single  "
      ]
     },
     "execution_count": 64,
     "metadata": {},
     "output_type": "execute_result"
    }
   ],
   "source": [
    "millennialsOK_female = millennialsOK[millennialsOK['sex']=='f']\n",
    "millennialsOK_female.head()"
   ]
  },
  {
   "cell_type": "code",
   "execution_count": 65,
   "metadata": {},
   "outputs": [
    {
     "data": {
      "text/html": [
       "<div>\n",
       "<style scoped>\n",
       "    .dataframe tbody tr th:only-of-type {\n",
       "        vertical-align: middle;\n",
       "    }\n",
       "\n",
       "    .dataframe tbody tr th {\n",
       "        vertical-align: top;\n",
       "    }\n",
       "\n",
       "    .dataframe thead th {\n",
       "        text-align: right;\n",
       "    }\n",
       "</style>\n",
       "<table border=\"1\" class=\"dataframe\">\n",
       "  <thead>\n",
       "    <tr style=\"text-align: right;\">\n",
       "      <th></th>\n",
       "      <th>age</th>\n",
       "      <th>body_type</th>\n",
       "      <th>diet</th>\n",
       "      <th>drinks</th>\n",
       "      <th>drugs</th>\n",
       "      <th>education</th>\n",
       "      <th>ethnicity</th>\n",
       "      <th>height</th>\n",
       "      <th>income</th>\n",
       "      <th>job</th>\n",
       "      <th>offspring</th>\n",
       "      <th>orientation</th>\n",
       "      <th>pets</th>\n",
       "      <th>religion</th>\n",
       "      <th>sex</th>\n",
       "      <th>sign</th>\n",
       "      <th>smokes</th>\n",
       "      <th>speaks</th>\n",
       "      <th>status</th>\n",
       "    </tr>\n",
       "  </thead>\n",
       "  <tbody>\n",
       "    <tr>\n",
       "      <th>0</th>\n",
       "      <td>22</td>\n",
       "      <td>a little extra</td>\n",
       "      <td>strictly anything</td>\n",
       "      <td>socially</td>\n",
       "      <td>never</td>\n",
       "      <td>working on college/university</td>\n",
       "      <td>asian, white</td>\n",
       "      <td>75.0</td>\n",
       "      <td>-1</td>\n",
       "      <td>transportation</td>\n",
       "      <td>doesn&amp;rsquo;t have kids, but might want them</td>\n",
       "      <td>straight</td>\n",
       "      <td>likes dogs and likes cats</td>\n",
       "      <td>agnosticism and very serious about it</td>\n",
       "      <td>m</td>\n",
       "      <td>gemini</td>\n",
       "      <td>sometimes</td>\n",
       "      <td>english</td>\n",
       "      <td>single</td>\n",
       "    </tr>\n",
       "    <tr>\n",
       "      <th>3</th>\n",
       "      <td>22</td>\n",
       "      <td>thin</td>\n",
       "      <td>vegetarian</td>\n",
       "      <td>socially</td>\n",
       "      <td>NaN</td>\n",
       "      <td>working on college/university</td>\n",
       "      <td>white</td>\n",
       "      <td>71.0</td>\n",
       "      <td>20000</td>\n",
       "      <td>student</td>\n",
       "      <td>doesn&amp;rsquo;t want kids</td>\n",
       "      <td>straight</td>\n",
       "      <td>likes cats</td>\n",
       "      <td>NaN</td>\n",
       "      <td>m</td>\n",
       "      <td>pisces</td>\n",
       "      <td>no</td>\n",
       "      <td>english, german (poorly)</td>\n",
       "      <td>single</td>\n",
       "    </tr>\n",
       "    <tr>\n",
       "      <th>4</th>\n",
       "      <td>30</td>\n",
       "      <td>athletic</td>\n",
       "      <td>NaN</td>\n",
       "      <td>socially</td>\n",
       "      <td>never</td>\n",
       "      <td>graduated from college/university</td>\n",
       "      <td>asian, black, other</td>\n",
       "      <td>66.0</td>\n",
       "      <td>-1</td>\n",
       "      <td>artistic / musical / writer</td>\n",
       "      <td>NaN</td>\n",
       "      <td>straight</td>\n",
       "      <td>likes dogs and likes cats</td>\n",
       "      <td>NaN</td>\n",
       "      <td>m</td>\n",
       "      <td>aquarius</td>\n",
       "      <td>no</td>\n",
       "      <td>english</td>\n",
       "      <td>single</td>\n",
       "    </tr>\n",
       "    <tr>\n",
       "      <th>5</th>\n",
       "      <td>28</td>\n",
       "      <td>average</td>\n",
       "      <td>mostly anything</td>\n",
       "      <td>socially</td>\n",
       "      <td>NaN</td>\n",
       "      <td>graduated from college/university</td>\n",
       "      <td>white</td>\n",
       "      <td>67.0</td>\n",
       "      <td>-1</td>\n",
       "      <td>computer / hardware / software</td>\n",
       "      <td>doesn&amp;rsquo;t have kids, but might want them</td>\n",
       "      <td>straight</td>\n",
       "      <td>likes cats</td>\n",
       "      <td>atheism</td>\n",
       "      <td>m</td>\n",
       "      <td>taurus</td>\n",
       "      <td>no</td>\n",
       "      <td>english (fluently), chinese (okay)</td>\n",
       "      <td>single</td>\n",
       "    </tr>\n",
       "    <tr>\n",
       "      <th>10</th>\n",
       "      <td>34</td>\n",
       "      <td>average</td>\n",
       "      <td>mostly anything</td>\n",
       "      <td>socially</td>\n",
       "      <td>NaN</td>\n",
       "      <td>NaN</td>\n",
       "      <td>white</td>\n",
       "      <td>70.0</td>\n",
       "      <td>-1</td>\n",
       "      <td>NaN</td>\n",
       "      <td>NaN</td>\n",
       "      <td>straight</td>\n",
       "      <td>NaN</td>\n",
       "      <td>NaN</td>\n",
       "      <td>m</td>\n",
       "      <td>taurus</td>\n",
       "      <td>yes</td>\n",
       "      <td>english</td>\n",
       "      <td>available</td>\n",
       "    </tr>\n",
       "  </tbody>\n",
       "</table>\n",
       "</div>"
      ],
      "text/plain": [
       "    age       body_type               diet    drinks  drugs  \\\n",
       "0    22  a little extra  strictly anything  socially  never   \n",
       "3    22            thin         vegetarian  socially    NaN   \n",
       "4    30        athletic                NaN  socially  never   \n",
       "5    28         average    mostly anything  socially    NaN   \n",
       "10   34         average    mostly anything  socially    NaN   \n",
       "\n",
       "                            education            ethnicity  height  income  \\\n",
       "0       working on college/university         asian, white    75.0      -1   \n",
       "3       working on college/university                white    71.0   20000   \n",
       "4   graduated from college/university  asian, black, other    66.0      -1   \n",
       "5   graduated from college/university                white    67.0      -1   \n",
       "10                                NaN                white    70.0      -1   \n",
       "\n",
       "                               job  \\\n",
       "0                   transportation   \n",
       "3                          student   \n",
       "4      artistic / musical / writer   \n",
       "5   computer / hardware / software   \n",
       "10                             NaN   \n",
       "\n",
       "                                       offspring orientation  \\\n",
       "0   doesn&rsquo;t have kids, but might want them    straight   \n",
       "3                        doesn&rsquo;t want kids    straight   \n",
       "4                                            NaN    straight   \n",
       "5   doesn&rsquo;t have kids, but might want them    straight   \n",
       "10                                           NaN    straight   \n",
       "\n",
       "                         pets                               religion sex  \\\n",
       "0   likes dogs and likes cats  agnosticism and very serious about it   m   \n",
       "3                  likes cats                                    NaN   m   \n",
       "4   likes dogs and likes cats                                    NaN   m   \n",
       "5                  likes cats                                atheism   m   \n",
       "10                        NaN                                    NaN   m   \n",
       "\n",
       "        sign     smokes                              speaks     status  \n",
       "0     gemini  sometimes                             english     single  \n",
       "3     pisces         no            english, german (poorly)     single  \n",
       "4   aquarius         no                             english     single  \n",
       "5     taurus         no  english (fluently), chinese (okay)     single  \n",
       "10    taurus        yes                             english  available  "
      ]
     },
     "execution_count": 65,
     "metadata": {},
     "output_type": "execute_result"
    }
   ],
   "source": [
    "millennialsOK_male = millennialsOK[millennialsOK['sex']=='m']\n",
    "millennialsOK_male.head()"
   ]
  },
  {
   "cell_type": "markdown",
   "metadata": {},
   "source": [
    "### Porcentaje de uso de hombres y mujeres"
   ]
  },
  {
   "cell_type": "code",
   "execution_count": 66,
   "metadata": {},
   "outputs": [
    {
     "data": {
      "text/plain": [
       "0.6094788815017599"
      ]
     },
     "execution_count": 66,
     "metadata": {},
     "output_type": "execute_result"
    }
   ],
   "source": [
    "percentage_male = len(millennialsOK_male)/len(millennialsOK)\n",
    "percentage_male"
   ]
  },
  {
   "cell_type": "code",
   "execution_count": 67,
   "metadata": {},
   "outputs": [
    {
     "data": {
      "text/plain": [
       "0.3905211184982401"
      ]
     },
     "execution_count": 67,
     "metadata": {},
     "output_type": "execute_result"
    }
   ],
   "source": [
    "percentage_female = len(millennialsOK_female)/len(millennialsOK)\n",
    "percentage_female"
   ]
  },
  {
   "cell_type": "markdown",
   "metadata": {},
   "source": [
    "### Vemos quienes quieren tener niños (indicio de buscar algo serio) y quien no"
   ]
  },
  {
   "cell_type": "code",
   "execution_count": 68,
   "metadata": {},
   "outputs": [],
   "source": [
    "millennials_notKids = millennialsOK[millennialsOK['offspring'].str.contains('doesn&rsquo;t want kids', case=False, na=False)]\n",
    "millennials_notKids_quantity = len(millennials_notKids)"
   ]
  },
  {
   "cell_type": "code",
   "execution_count": 69,
   "metadata": {},
   "outputs": [
    {
     "data": {
      "text/plain": [
       "5535"
      ]
     },
     "execution_count": 69,
     "metadata": {},
     "output_type": "execute_result"
    }
   ],
   "source": [
    "millennials_mayKids = millennialsOK[(millennialsOK['offspring'].str.contains('but might want them', case=False, na=False))]\n",
    "len(millennials_mayKids)\n",
    "millennials_yesKids = millennialsOK[(millennialsOK['offspring'].str.contains('but wants them', case=False, na=False))]\n",
    "len(millennials_yesKids)\n",
    "milennialsKids = len(millennials_yesKids) + len(millennials_mayKids)\n",
    "milennialsKids"
   ]
  },
  {
   "cell_type": "code",
   "execution_count": 70,
   "metadata": {},
   "outputs": [],
   "source": [
    "millennials_haveKids = millennialsOK[millennialsOK['offspring']=='has kids']\n",
    "millennials_haveKids_quantuty = len(millennials_haveKids)"
   ]
  },
  {
   "cell_type": "code",
   "execution_count": 71,
   "metadata": {},
   "outputs": [
    {
     "data": {
      "text/plain": [
       "7295"
      ]
     },
     "execution_count": 71,
     "metadata": {},
     "output_type": "execute_result"
    }
   ],
   "source": [
    "Millenials_kids_option_filled = millennials_notKids_quantity + milennialsKids + millennials_haveKids_quantuty \n",
    "Millenials_kids_option_filled"
   ]
  },
  {
   "cell_type": "code",
   "execution_count": 72,
   "metadata": {},
   "outputs": [
    {
     "data": {
      "text/plain": [
       "0.7587388622344071"
      ]
     },
     "execution_count": 72,
     "metadata": {},
     "output_type": "execute_result"
    }
   ],
   "source": [
    "# Porcentaje de los Millenials que tienen alta probabilidad de querer tener hijos según la app (datos rellenados)\n",
    "(milennialsKids)/Millenials_kids_option_filled"
   ]
  },
  {
   "cell_type": "markdown",
   "metadata": {},
   "source": [
    "## Sacamos el perfil más común en OK Cupid"
   ]
  },
  {
   "cell_type": "code",
   "execution_count": 73,
   "metadata": {},
   "outputs": [
    {
     "data": {
      "text/plain": [
       "age                                                  27\n",
       "body_type                                       average\n",
       "diet                                    mostly anything\n",
       "drinks                                         socially\n",
       "drugs                                             never\n",
       "education             graduated from college/university\n",
       "ethnicity                                         white\n",
       "height                                             70.0\n",
       "income                                               -1\n",
       "job                                               other\n",
       "offspring                       doesn&rsquo;t have kids\n",
       "orientation                                    straight\n",
       "pets                          likes dogs and likes cats\n",
       "religion                                    agnosticism\n",
       "sex                                                   m\n",
       "sign           gemini and it&rsquo;s fun to think about\n",
       "smokes                                               no\n",
       "speaks                                          english\n",
       "status                                           single\n",
       "Name: 0, dtype: object"
      ]
     },
     "execution_count": 73,
     "metadata": {},
     "output_type": "execute_result"
    }
   ],
   "source": [
    "perfil_OKCUPID = millennialsOK.mode().iloc[0]\n",
    "perfil_OKCUPID"
   ]
  },
  {
   "cell_type": "markdown",
   "metadata": {},
   "source": [
    "# TINDER ESPAÑA"
   ]
  },
  {
   "cell_type": "code",
   "execution_count": 79,
   "metadata": {},
   "outputs": [
    {
     "data": {
      "text/html": [
       "<div>\n",
       "<style scoped>\n",
       "    .dataframe tbody tr th:only-of-type {\n",
       "        vertical-align: middle;\n",
       "    }\n",
       "\n",
       "    .dataframe tbody tr th {\n",
       "        vertical-align: top;\n",
       "    }\n",
       "\n",
       "    .dataframe thead th {\n",
       "        text-align: right;\n",
       "    }\n",
       "</style>\n",
       "<table border=\"1\" class=\"dataframe\">\n",
       "  <thead>\n",
       "    <tr style=\"text-align: right;\">\n",
       "      <th></th>\n",
       "      <th>Marca temporal</th>\n",
       "      <th>Edad</th>\n",
       "      <th>Género</th>\n",
       "      <th>Orientación sexual</th>\n",
       "      <th>Educación</th>\n",
       "      <th>Religión</th>\n",
       "      <th>Convivencia</th>\n",
       "      <th>Estado civil</th>\n",
       "      <th>¿Qué tan importante es su religión en su vida diaria?</th>\n",
       "      <th>Edad de la primera relación sexual</th>\n",
       "      <th>...</th>\n",
       "      <th>Necesidad de dejarme llevar sexualmente con alguien</th>\n",
       "      <th>Necesidad de alguien que sea \"genial en la cama\"</th>\n",
       "      <th>Necesidad de sexo con muchas parejas</th>\n",
       "      <th>Necesidad de una pareja que me quiera</th>\n",
       "      <th>Necesidad de alguien a quien amar</th>\n",
       "      <th>Necesidad de un compañero en la vida</th>\n",
       "      <th>Necesidad de confianza total en las personas con las que tengo intimidad</th>\n",
       "      <th>No necesito a nadie especial en mi vida</th>\n",
       "      <th>Necesidad de algunos muy buenos amigos</th>\n",
       "      <th>Necesidad de alguien que duerma a mi lado</th>\n",
       "    </tr>\n",
       "  </thead>\n",
       "  <tbody>\n",
       "    <tr>\n",
       "      <th>0</th>\n",
       "      <td>2021-02-07 11:15:41.861</td>\n",
       "      <td>15</td>\n",
       "      <td>Mujer</td>\n",
       "      <td>Heterosexual</td>\n",
       "      <td>Superior</td>\n",
       "      <td>Ateo / agnóstico</td>\n",
       "      <td>Con padres o tutores</td>\n",
       "      <td>Soltero pero saliendo casualmente</td>\n",
       "      <td>Nada importante</td>\n",
       "      <td>10</td>\n",
       "      <td>...</td>\n",
       "      <td>En desacuerdo</td>\n",
       "      <td>En desacuerdo</td>\n",
       "      <td>En desacuerdo</td>\n",
       "      <td>En desacuerdo</td>\n",
       "      <td>En desacuerdo</td>\n",
       "      <td>En desacuerdo</td>\n",
       "      <td>En desacuerdo</td>\n",
       "      <td>En desacuerdo</td>\n",
       "      <td>En desacuerdo</td>\n",
       "      <td>En desacuerdo</td>\n",
       "    </tr>\n",
       "    <tr>\n",
       "      <th>1</th>\n",
       "      <td>2021-02-11 14:34:05.860</td>\n",
       "      <td>28</td>\n",
       "      <td>Mujer</td>\n",
       "      <td>Heterosexual</td>\n",
       "      <td>Superior</td>\n",
       "      <td>Ateo / agnóstico</td>\n",
       "      <td>Con padres o tutores</td>\n",
       "      <td>Soltero pero saliendo casualmente</td>\n",
       "      <td>Nada importante</td>\n",
       "      <td>22</td>\n",
       "      <td>...</td>\n",
       "      <td>En desacuerdo</td>\n",
       "      <td>De acuerdo</td>\n",
       "      <td>En desacuerdo</td>\n",
       "      <td>De acuerdo</td>\n",
       "      <td>Ni de acuerdo ni en desacuerdo</td>\n",
       "      <td>Ni de acuerdo ni en desacuerdo</td>\n",
       "      <td>De acuerdo</td>\n",
       "      <td>Ni de acuerdo ni en desacuerdo</td>\n",
       "      <td>De acuerdo</td>\n",
       "      <td>Ni de acuerdo ni en desacuerdo</td>\n",
       "    </tr>\n",
       "    <tr>\n",
       "      <th>2</th>\n",
       "      <td>2021-02-11 16:08:13.612</td>\n",
       "      <td>29</td>\n",
       "      <td>Varon</td>\n",
       "      <td>Heterosexual</td>\n",
       "      <td>Superior</td>\n",
       "      <td>Católico</td>\n",
       "      <td>Solo o con compañero de habitación</td>\n",
       "      <td>Soltero pero saliendo casualmente</td>\n",
       "      <td>Normal</td>\n",
       "      <td>18</td>\n",
       "      <td>...</td>\n",
       "      <td>De acuerdo</td>\n",
       "      <td>En desacuerdo</td>\n",
       "      <td>En desacuerdo</td>\n",
       "      <td>De acuerdo</td>\n",
       "      <td>De acuerdo</td>\n",
       "      <td>De acuerdo</td>\n",
       "      <td>Ni de acuerdo ni en desacuerdo</td>\n",
       "      <td>En desacuerdo</td>\n",
       "      <td>De acuerdo</td>\n",
       "      <td>Ni de acuerdo ni en desacuerdo</td>\n",
       "    </tr>\n",
       "    <tr>\n",
       "      <th>3</th>\n",
       "      <td>2021-02-11 18:09:39.423</td>\n",
       "      <td>28</td>\n",
       "      <td>Varon</td>\n",
       "      <td>Heterosexual</td>\n",
       "      <td>Superior</td>\n",
       "      <td>Ateo / agnóstico</td>\n",
       "      <td>Solo o con compañero de habitación</td>\n",
       "      <td>Soltero pero saliendo casualmente</td>\n",
       "      <td>No tan importante</td>\n",
       "      <td>19</td>\n",
       "      <td>...</td>\n",
       "      <td>De acuerdo</td>\n",
       "      <td>Ni de acuerdo ni en desacuerdo</td>\n",
       "      <td>Totalmente en desacuerdo</td>\n",
       "      <td>Totalmente de acuerdo</td>\n",
       "      <td>De acuerdo</td>\n",
       "      <td>De acuerdo</td>\n",
       "      <td>Totalmente de acuerdo</td>\n",
       "      <td>Totalmente en desacuerdo</td>\n",
       "      <td>Totalmente de acuerdo</td>\n",
       "      <td>Ni de acuerdo ni en desacuerdo</td>\n",
       "    </tr>\n",
       "    <tr>\n",
       "      <th>4</th>\n",
       "      <td>2021-02-11 20:17:00.430</td>\n",
       "      <td>25</td>\n",
       "      <td>Mujer</td>\n",
       "      <td>Heterosexual</td>\n",
       "      <td>Superior</td>\n",
       "      <td>Otros (Islamismo, Budismo, Hinduismo, Judaismo)</td>\n",
       "      <td>Con padres o tutores</td>\n",
       "      <td>Soltero pero saliendo casualmente</td>\n",
       "      <td>Importante</td>\n",
       "      <td>17</td>\n",
       "      <td>...</td>\n",
       "      <td>Totalmente en desacuerdo</td>\n",
       "      <td>Ni de acuerdo ni en desacuerdo</td>\n",
       "      <td>Totalmente en desacuerdo</td>\n",
       "      <td>De acuerdo</td>\n",
       "      <td>Ni de acuerdo ni en desacuerdo</td>\n",
       "      <td>Ni de acuerdo ni en desacuerdo</td>\n",
       "      <td>Totalmente de acuerdo</td>\n",
       "      <td>Ni de acuerdo ni en desacuerdo</td>\n",
       "      <td>Totalmente de acuerdo</td>\n",
       "      <td>Ni de acuerdo ni en desacuerdo</td>\n",
       "    </tr>\n",
       "  </tbody>\n",
       "</table>\n",
       "<p>5 rows × 69 columns</p>\n",
       "</div>"
      ],
      "text/plain": [
       "           Marca temporal  Edad Género Orientación sexual Educación  \\\n",
       "0 2021-02-07 11:15:41.861    15  Mujer       Heterosexual  Superior   \n",
       "1 2021-02-11 14:34:05.860    28  Mujer       Heterosexual  Superior   \n",
       "2 2021-02-11 16:08:13.612    29  Varon       Heterosexual  Superior   \n",
       "3 2021-02-11 18:09:39.423    28  Varon       Heterosexual  Superior   \n",
       "4 2021-02-11 20:17:00.430    25  Mujer       Heterosexual  Superior   \n",
       "\n",
       "                                          Religión  \\\n",
       "0                                 Ateo / agnóstico   \n",
       "1                                 Ateo / agnóstico   \n",
       "2                                         Católico   \n",
       "3                                 Ateo / agnóstico   \n",
       "4  Otros (Islamismo, Budismo, Hinduismo, Judaismo)   \n",
       "\n",
       "                          Convivencia                       Estado civil  \\\n",
       "0                Con padres o tutores  Soltero pero saliendo casualmente   \n",
       "1                Con padres o tutores  Soltero pero saliendo casualmente   \n",
       "2  Solo o con compañero de habitación  Soltero pero saliendo casualmente   \n",
       "3  Solo o con compañero de habitación  Soltero pero saliendo casualmente   \n",
       "4                Con padres o tutores  Soltero pero saliendo casualmente   \n",
       "\n",
       "  ¿Qué tan importante es su religión en su vida diaria?  \\\n",
       "0                                    Nada importante      \n",
       "1                                    Nada importante      \n",
       "2                                             Normal      \n",
       "3                                  No tan importante      \n",
       "4                                         Importante      \n",
       "\n",
       "  Edad de la primera relación sexual  ...  \\\n",
       "0                                 10  ...   \n",
       "1                                 22  ...   \n",
       "2                                 18  ...   \n",
       "3                                 19  ...   \n",
       "4                                 17  ...   \n",
       "\n",
       "  Necesidad de dejarme llevar sexualmente con alguien  \\\n",
       "0                                      En desacuerdo    \n",
       "1                                      En desacuerdo    \n",
       "2                                         De acuerdo    \n",
       "3                                         De acuerdo    \n",
       "4                           Totalmente en desacuerdo    \n",
       "\n",
       "  Necesidad de alguien que sea \"genial en la cama\"  \\\n",
       "0                                    En desacuerdo   \n",
       "1                                       De acuerdo   \n",
       "2                                    En desacuerdo   \n",
       "3                   Ni de acuerdo ni en desacuerdo   \n",
       "4                   Ni de acuerdo ni en desacuerdo   \n",
       "\n",
       "  Necesidad de sexo con muchas parejas Necesidad de una pareja que me quiera  \\\n",
       "0                        En desacuerdo                         En desacuerdo   \n",
       "1                        En desacuerdo                            De acuerdo   \n",
       "2                        En desacuerdo                            De acuerdo   \n",
       "3             Totalmente en desacuerdo                 Totalmente de acuerdo   \n",
       "4             Totalmente en desacuerdo                            De acuerdo   \n",
       "\n",
       "  Necesidad de alguien a quien amar Necesidad de un compañero en la vida  \\\n",
       "0                     En desacuerdo                        En desacuerdo   \n",
       "1    Ni de acuerdo ni en desacuerdo       Ni de acuerdo ni en desacuerdo   \n",
       "2                        De acuerdo                           De acuerdo   \n",
       "3                        De acuerdo                           De acuerdo   \n",
       "4    Ni de acuerdo ni en desacuerdo       Ni de acuerdo ni en desacuerdo   \n",
       "\n",
       "   Necesidad de confianza total en las personas con las que tengo intimidad  \\\n",
       "0                                      En desacuerdo                          \n",
       "1                                         De acuerdo                          \n",
       "2                     Ni de acuerdo ni en desacuerdo                          \n",
       "3                              Totalmente de acuerdo                          \n",
       "4                              Totalmente de acuerdo                          \n",
       "\n",
       "  No necesito a nadie especial en mi vida  \\\n",
       "0                           En desacuerdo   \n",
       "1          Ni de acuerdo ni en desacuerdo   \n",
       "2                           En desacuerdo   \n",
       "3                Totalmente en desacuerdo   \n",
       "4          Ni de acuerdo ni en desacuerdo   \n",
       "\n",
       "  Necesidad de algunos muy buenos amigos  \\\n",
       "0                          En desacuerdo   \n",
       "1                             De acuerdo   \n",
       "2                             De acuerdo   \n",
       "3                  Totalmente de acuerdo   \n",
       "4                  Totalmente de acuerdo   \n",
       "\n",
       "  Necesidad de alguien que duerma a mi lado  \n",
       "0                             En desacuerdo  \n",
       "1            Ni de acuerdo ni en desacuerdo  \n",
       "2            Ni de acuerdo ni en desacuerdo  \n",
       "3            Ni de acuerdo ni en desacuerdo  \n",
       "4            Ni de acuerdo ni en desacuerdo  \n",
       "\n",
       "[5 rows x 69 columns]"
      ]
     },
     "execution_count": 79,
     "metadata": {},
     "output_type": "execute_result"
    }
   ],
   "source": [
    "df_6.head()"
   ]
  },
  {
   "cell_type": "code",
   "execution_count": 80,
   "metadata": {},
   "outputs": [
    {
     "data": {
      "text/plain": [
       "['Marca temporal',\n",
       " 'Edad',\n",
       " 'Género',\n",
       " 'Orientación sexual',\n",
       " 'Educación',\n",
       " 'Religión',\n",
       " 'Convivencia',\n",
       " 'Estado civil',\n",
       " '¿Qué tan importante es su religión en su vida diaria?',\n",
       " 'Edad de la primera relación sexual',\n",
       " 'Usa drogas durante el sexo',\n",
       " 'Usa bebidas alcohólicas durante el sexo',\n",
       " '¿Algún antecedente de infecciones de transmisión sexual?',\n",
       " '¿Actualmente padece de alguna infección de transmisión sexual?',\n",
       " '¿Alguna vez estuvo embarazada o dejó embarazada a otra persona?',\n",
       " '¿Se ha vacunado contra el virus del Papiloma Humano?',\n",
       " 'Número de parejas sexuales',\n",
       " 'En Tinder, ¿cuántas de las personas con las que interactúas hablan sobre condones?',\n",
       " '¿Tuviste algún encuentro sexual con alguien de Tinder?',\n",
       " 'Si marcaste \"Sí\", ¿en el ultimo encuentro sexual con alguien de Tinder, usaste condón?',\n",
       " '¿Cuántas de de las personas que conociste en Tinder te comentaron que tuvieron múltiples parejas?',\n",
       " '¿Cuántas de las personas que conociste en Tinder, te comentaron haber  usaron drogas y/o alcohol durante el sexo?',\n",
       " '¿Cuántas de las personas que conociste en Tinder te comentaron haber padecido o padecer de alguna ITS?',\n",
       " 'La última vez que tuvo relaciones sexuales orales o genitales, ¿usó usted o su pareja protección?',\n",
       " 'Durante su vida, ¿con cuántas personas ha tenido relaciones sexuales (orales y / o genitales)?',\n",
       " 'Alguien que conoció en Tinder ¿ha intentado tener relaciones sexuales y/o coito genital contigo sin tu consentimiento?',\n",
       " '¿Mi apetito sexual se ha prevalecido en mis relaciones?',\n",
       " '¿Mis pensamientos y comportamientos sexuales causan problemas en mi vida?',\n",
       " '¿Mis deseos de tener sexo interrumpen mi vida diaria?',\n",
       " '¿Dejo de cumplir con mis compromisos y responsabilidades debido a mis comportamientos sexuales?',\n",
       " '¿Me excito tanto que podría perder el control?',\n",
       " '¿Me encuentro pensando en sexo en el trabajo?',\n",
       " '¿Siento que mis pensamientos y sentimientos sexuales son mas fuerte que yo?',\n",
       " '¿Pienso en el sexo más de lo que me gustaría?',\n",
       " '¿Es difícil para mí encontrar parejas sexuales que deseen tener sexo tanto como yo quiero?',\n",
       " 'No necesito estar comprometido con una persona para tener relaciones sexuales con ella.',\n",
       " 'El sexo casual es aceptable',\n",
       " 'Me gustaría tener sexo con muchas parejas',\n",
       " 'Las aventuras de una noche a veces son agradables',\n",
       " 'Está bien tener relaciones sexuales continuas con más de una persona a la vez',\n",
       " 'El sexo como un simple intercambio de favores está bien si ambas personas están de acuerdo',\n",
       " 'El mejor sexo es sin ataduras',\n",
       " 'La vida tendría menos problemas si las personas pudieran tener relaciones sexuales con mayor libertad',\n",
       " 'Es posible disfrutar del sexo con una persona y no gustar mucho esa persona',\n",
       " 'Está bien que el sexo sea solo una buena liberación física',\n",
       " 'El control de la natalidad es parte de la sexualidad responsable',\n",
       " 'Una mujer debe compartir la responsabilidad del control de la natalidad',\n",
       " 'Un hombre debe compartir la responsabilidad del control de la natalidad',\n",
       " 'El sexo es la forma más cercana de comunicación entre dos personas',\n",
       " 'Un encuentro sexual entre dos personas profundamente enamoradas es la máxima interacción humana',\n",
       " 'En el mejor de los casos, el sexo parece ser la fusión de dos almas',\n",
       " 'El sexo es una parte muy importante de la vida',\n",
       " 'El sexo suele ser una experiencia intensa, casi abrumadora',\n",
       " 'El sexo es mejor cuando te dejas llevar y te concentras en tu propio placer',\n",
       " 'El sexo es principalmente obtener placer de otra persona',\n",
       " 'El objetivo principal del sexo es divertirse',\n",
       " 'El sexo es principalmente físico',\n",
       " 'El sexo es principalmente una función corporal, como comer',\n",
       " 'Necesidad de sexo todos los días',\n",
       " 'Necesidad de dejarme llevar sexualmente con alguien',\n",
       " 'Necesidad de alguien que sea \"genial en la cama\"',\n",
       " 'Necesidad de sexo con muchas parejas',\n",
       " 'Necesidad de una pareja que me quiera',\n",
       " 'Necesidad de alguien a quien amar',\n",
       " 'Necesidad de un compañero en la vida',\n",
       " 'Necesidad de confianza total en las personas con las que tengo intimidad',\n",
       " 'No necesito a nadie especial en mi vida',\n",
       " 'Necesidad de algunos muy buenos amigos',\n",
       " 'Necesidad de alguien que duerma a mi lado']"
      ]
     },
     "execution_count": 80,
     "metadata": {},
     "output_type": "execute_result"
    }
   ],
   "source": [
    "df_6.columns.tolist()"
   ]
  },
  {
   "cell_type": "markdown",
   "metadata": {},
   "source": [
    "## Discriminamos hacia la poblacion Millennial y heterosexual"
   ]
  },
  {
   "cell_type": "code",
   "execution_count": 81,
   "metadata": {},
   "outputs": [
    {
     "data": {
      "text/plain": [
       "114"
      ]
     },
     "execution_count": 81,
     "metadata": {},
     "output_type": "execute_result"
    }
   ],
   "source": [
    "Tinder_Millennial = df_6[(df_6['Edad']> 22) & (df_6['Edad'] < 35) & (df_6['Orientación sexual']=='Heterosexual')]\n",
    "len(Tinder_Millennial)\n"
   ]
  },
  {
   "cell_type": "code",
   "execution_count": 82,
   "metadata": {},
   "outputs": [
    {
     "data": {
      "text/html": [
       "<div>\n",
       "<style scoped>\n",
       "    .dataframe tbody tr th:only-of-type {\n",
       "        vertical-align: middle;\n",
       "    }\n",
       "\n",
       "    .dataframe tbody tr th {\n",
       "        vertical-align: top;\n",
       "    }\n",
       "\n",
       "    .dataframe thead th {\n",
       "        text-align: right;\n",
       "    }\n",
       "</style>\n",
       "<table border=\"1\" class=\"dataframe\">\n",
       "  <thead>\n",
       "    <tr style=\"text-align: right;\">\n",
       "      <th></th>\n",
       "      <th>Marca temporal</th>\n",
       "      <th>Edad</th>\n",
       "      <th>Número de parejas sexuales</th>\n",
       "      <th>Durante su vida, ¿con cuántas personas ha tenido relaciones sexuales (orales y / o genitales)?</th>\n",
       "    </tr>\n",
       "  </thead>\n",
       "  <tbody>\n",
       "    <tr>\n",
       "      <th>count</th>\n",
       "      <td>114</td>\n",
       "      <td>114.000000</td>\n",
       "      <td>114.000000</td>\n",
       "      <td>114.000000</td>\n",
       "    </tr>\n",
       "    <tr>\n",
       "      <th>mean</th>\n",
       "      <td>2021-02-24 04:14:28.708798208</td>\n",
       "      <td>26.719298</td>\n",
       "      <td>5.798246</td>\n",
       "      <td>7.947368</td>\n",
       "    </tr>\n",
       "    <tr>\n",
       "      <th>min</th>\n",
       "      <td>2021-02-11 14:34:05.860000</td>\n",
       "      <td>23.000000</td>\n",
       "      <td>0.000000</td>\n",
       "      <td>0.000000</td>\n",
       "    </tr>\n",
       "    <tr>\n",
       "      <th>25%</th>\n",
       "      <td>2021-02-18 16:41:01.335250176</td>\n",
       "      <td>24.000000</td>\n",
       "      <td>1.000000</td>\n",
       "      <td>2.000000</td>\n",
       "    </tr>\n",
       "    <tr>\n",
       "      <th>50%</th>\n",
       "      <td>2021-02-19 20:33:56.835000064</td>\n",
       "      <td>27.000000</td>\n",
       "      <td>3.000000</td>\n",
       "      <td>4.000000</td>\n",
       "    </tr>\n",
       "    <tr>\n",
       "      <th>75%</th>\n",
       "      <td>2021-02-25 14:56:02.604999936</td>\n",
       "      <td>28.750000</td>\n",
       "      <td>5.000000</td>\n",
       "      <td>8.000000</td>\n",
       "    </tr>\n",
       "    <tr>\n",
       "      <th>max</th>\n",
       "      <td>2021-03-21 14:04:11.811000</td>\n",
       "      <td>34.000000</td>\n",
       "      <td>80.000000</td>\n",
       "      <td>80.000000</td>\n",
       "    </tr>\n",
       "    <tr>\n",
       "      <th>std</th>\n",
       "      <td>NaN</td>\n",
       "      <td>2.645781</td>\n",
       "      <td>10.595691</td>\n",
       "      <td>12.360973</td>\n",
       "    </tr>\n",
       "  </tbody>\n",
       "</table>\n",
       "</div>"
      ],
      "text/plain": [
       "                      Marca temporal        Edad  Número de parejas sexuales  \\\n",
       "count                            114  114.000000                  114.000000   \n",
       "mean   2021-02-24 04:14:28.708798208   26.719298                    5.798246   \n",
       "min       2021-02-11 14:34:05.860000   23.000000                    0.000000   \n",
       "25%    2021-02-18 16:41:01.335250176   24.000000                    1.000000   \n",
       "50%    2021-02-19 20:33:56.835000064   27.000000                    3.000000   \n",
       "75%    2021-02-25 14:56:02.604999936   28.750000                    5.000000   \n",
       "max       2021-03-21 14:04:11.811000   34.000000                   80.000000   \n",
       "std                              NaN    2.645781                   10.595691   \n",
       "\n",
       "       Durante su vida, ¿con cuántas personas ha tenido relaciones sexuales (orales y / o genitales)?  \n",
       "count                                         114.000000                                               \n",
       "mean                                            7.947368                                               \n",
       "min                                             0.000000                                               \n",
       "25%                                             2.000000                                               \n",
       "50%                                             4.000000                                               \n",
       "75%                                             8.000000                                               \n",
       "max                                            80.000000                                               \n",
       "std                                            12.360973                                               "
      ]
     },
     "execution_count": 82,
     "metadata": {},
     "output_type": "execute_result"
    }
   ],
   "source": [
    "Tinder_Millennial.describe()"
   ]
  },
  {
   "cell_type": "markdown",
   "metadata": {},
   "source": [
    "## Sacamos porcentajes de varios campos interesantes relacionados con el numero de parejas sexuales y el grado de buscar pareja"
   ]
  },
  {
   "cell_type": "markdown",
   "metadata": {},
   "source": [
    "### Disciminamos por sexo"
   ]
  },
  {
   "cell_type": "code",
   "execution_count": 95,
   "metadata": {},
   "outputs": [],
   "source": [
    "tinder_hombres = Tinder_Millennial[Tinder_Millennial['Género']=='Varon']"
   ]
  },
  {
   "cell_type": "code",
   "execution_count": 84,
   "metadata": {},
   "outputs": [],
   "source": [
    "tinder_mujeres = Tinder_Millennial[Tinder_Millennial['Género']=='Mujer']"
   ]
  },
  {
   "cell_type": "markdown",
   "metadata": {},
   "source": [
    "### Sacamos datos de comportamiento"
   ]
  },
  {
   "cell_type": "markdown",
   "metadata": {},
   "source": [
    "#### Personas con más de 10 parejas sexuales"
   ]
  },
  {
   "cell_type": "code",
   "execution_count": 139,
   "metadata": {},
   "outputs": [],
   "source": [
    "promiscuos = Tinder_Millennial[Tinder_Millennial['Número de parejas sexuales']>10]\n",
    "guarros = len(promiscuos)/len(Tinder_Millennial)"
   ]
  },
  {
   "cell_type": "code",
   "execution_count": 140,
   "metadata": {},
   "outputs": [],
   "source": [
    "promiscuos_hombres = tinder_hombres[tinder_hombres['Número de parejas sexuales']>10]\n",
    "folladores = len(promiscuos_hombres)/len(promiscuos)"
   ]
  },
  {
   "cell_type": "code",
   "execution_count": 141,
   "metadata": {},
   "outputs": [],
   "source": [
    "promiscuas_mujeres = tinder_mujeres[tinder_mujeres['Número de parejas sexuales']>10]\n",
    "folladoras = len(promiscuas_mujeres)/len(promiscuos)"
   ]
  },
  {
   "cell_type": "code",
   "execution_count": 172,
   "metadata": {},
   "outputs": [
    {
     "data": {
      "image/png": "[encoded data removed]",
      "text/plain": [
       "<Figure size 640x480 with 1 Axes>"
      ]
     },
     "metadata": {},
     "output_type": "display_data"
    }
   ],
   "source": [
    "# Calcula los valores absolutos\n",
    "hombres = (folladores / guarros) * 100\n",
    "mujeres = (folladoras/ guarros) * 100\n",
    "\n",
    "# Etiquetas y valores para el gráfico de torta\n",
    "labels = ['Hombres', 'Mujeres']\n",
    "sizes = [hombres, mujeres]\n",
    "\n",
    "# Crea el gráfico de torta\n",
    "plt.pie(sizes, labels=labels, autopct='%1.1f%%', startangle=90, colors=['blue', 'pink'])\n",
    "plt.title('Distribución de personas con mas de 10 parejas sexuales por género')\n",
    "plt.axis('equal')  \n",
    "plt.show()\n"
   ]
  },
  {
   "cell_type": "markdown",
   "metadata": {},
   "source": [
    "#### Personas con ninguna pareja sexual"
   ]
  },
  {
   "cell_type": "code",
   "execution_count": 145,
   "metadata": {},
   "outputs": [],
   "source": [
    "virgenes = Tinder_Millennial[Tinder_Millennial['Número de parejas sexuales']==0]\n",
    "puritanos = len(virgenes)/len(Tinder_Millennial)"
   ]
  },
  {
   "cell_type": "code",
   "execution_count": 146,
   "metadata": {},
   "outputs": [],
   "source": [
    "virgenes_mujer = tinder_mujeres[tinder_mujeres['Número de parejas sexuales']==0]\n",
    "santas = len(virgenes_mujer)/len(virgenes)"
   ]
  },
  {
   "cell_type": "code",
   "execution_count": 147,
   "metadata": {},
   "outputs": [],
   "source": [
    "virgenes_hombres =tinder_hombres[tinder_hombres['Número de parejas sexuales']==0]\n",
    "incels = len(virgenes_hombres)/len(virgenes)"
   ]
  },
  {
   "cell_type": "code",
   "execution_count": 171,
   "metadata": {},
   "outputs": [
    {
     "data": {
      "image/png": "[encoded data removed]",
      "text/plain": [
       "<Figure size 640x480 with 1 Axes>"
      ]
     },
     "metadata": {},
     "output_type": "display_data"
    }
   ],
   "source": [
    "# Calcula los valores absolutos\n",
    "hombres = (incels / puritanos) * 100\n",
    "mujeres = (santas/ puritanos) * 100\n",
    "\n",
    "# Etiquetas y valores para el gráfico de torta\n",
    "labels = ['Hombres', 'Mujeres']\n",
    "sizes = [hombres, mujeres]\n",
    "\n",
    "# Crea el gráfico de torta\n",
    "plt.pie(sizes, labels=labels, autopct='%1.1f%%', startangle=90, colors=['blue', 'pink'])\n",
    "plt.title('Distribución de personas virgenes por género')\n",
    "plt.axis('equal')  \n",
    "plt.show()\n"
   ]
  },
  {
   "cell_type": "markdown",
   "metadata": {},
   "source": [
    "#### Encuentros sexuales en Tinder"
   ]
  },
  {
   "cell_type": "code",
   "execution_count": 152,
   "metadata": {},
   "outputs": [],
   "source": [
    "encuentro_tinder = Tinder_Millennial[Tinder_Millennial['¿Tuviste algún encuentro sexual con alguien de Tinder?']=='Sí']\n",
    "folladas = len(encuentro_tinder)/len(Tinder_Millennial)"
   ]
  },
  {
   "cell_type": "code",
   "execution_count": 153,
   "metadata": {},
   "outputs": [],
   "source": [
    "encuentro_tinder_mujeres = tinder_mujeres[tinder_mujeres['¿Tuviste algún encuentro sexual con alguien de Tinder?']=='Sí']\n",
    "percutidas = len(encuentro_tinder_mujeres)/len(encuentro_tinder)"
   ]
  },
  {
   "cell_type": "code",
   "execution_count": 154,
   "metadata": {},
   "outputs": [],
   "source": [
    "encuentro_tinder_hombres = tinder_hombres[tinder_hombres['¿Tuviste algún encuentro sexual con alguien de Tinder?']=='Sí']\n",
    "degenerados = len(encuentro_tinder_hombres)/len(encuentro_tinder)"
   ]
  },
  {
   "cell_type": "code",
   "execution_count": 170,
   "metadata": {},
   "outputs": [
    {
     "data": {
      "image/png": "[encoded data removed]",
      "text/plain": [
       "<Figure size 640x480 with 1 Axes>"
      ]
     },
     "metadata": {},
     "output_type": "display_data"
    }
   ],
   "source": [
    "# Calcula los valores absolutos\n",
    "hombres = (degenerados / folladas) * 100\n",
    "mujeres = (percutidas/ folladas) * 100\n",
    "\n",
    "# Etiquetas y valores para el gráfico de torta\n",
    "labels = ['Hombres', 'Mujeres']\n",
    "sizes = [hombres, mujeres]\n",
    "\n",
    "# Crea el gráfico de torta\n",
    "plt.pie(sizes, labels=labels, autopct='%1.1f%%', startangle=90, colors=['blue', 'pink'])\n",
    "plt.title('Distribución de encuentros sexuales por Tinder por género')\n",
    "plt.axis('equal')  \n",
    "plt.show()"
   ]
  },
  {
   "cell_type": "markdown",
   "metadata": {},
   "source": [
    "#### Necesidad de tener mucho sexo con muchas parejas"
   ]
  },
  {
   "cell_type": "code",
   "execution_count": 157,
   "metadata": {},
   "outputs": [],
   "source": [
    "mucho_sexo = Tinder_Millennial[(Tinder_Millennial['Necesidad de sexo con muchas parejas']=='Totalmente de acuerdo') | (Tinder_Millennial['Necesidad de sexo con muchas parejas']=='De acuerdo')]\n",
    "enfermos = len(mucho_sexo)/len(Tinder_Millennial)"
   ]
  },
  {
   "cell_type": "code",
   "execution_count": 159,
   "metadata": {},
   "outputs": [],
   "source": [
    "mucho_sexo_hombres = tinder_hombres[(tinder_hombres['Necesidad de sexo con muchas parejas']=='Totalmente de acuerdo') | (tinder_hombres['Necesidad de sexo con muchas parejas']=='De acuerdo')]\n",
    "bonobos = len(mucho_sexo_hombres)/len(mucho_sexo)"
   ]
  },
  {
   "cell_type": "code",
   "execution_count": 158,
   "metadata": {},
   "outputs": [],
   "source": [
    "mucho_sexo_mujeres = tinder_mujeres[(tinder_mujeres['Necesidad de sexo con muchas parejas']=='Totalmente de acuerdo') | (tinder_mujeres['Necesidad de sexo con muchas parejas']=='De acuerdo')]\n",
    "sin_padre = len(mucho_sexo_mujeres)/len(mucho_sexo)"
   ]
  },
  {
   "cell_type": "code",
   "execution_count": 169,
   "metadata": {},
   "outputs": [
    {
     "data": {
      "text/plain": [
       "(-1.0999997610723153,\n",
       " 1.0999999191473613,\n",
       " -1.0999999303675898,\n",
       " 1.099999996684171)"
      ]
     },
     "execution_count": 169,
     "metadata": {},
     "output_type": "execute_result"
    },
    {
     "data": {
      "image/png": "[encoded data removed]",
      "text/plain": [
       "<Figure size 640x480 with 1 Axes>"
      ]
     },
     "metadata": {},
     "output_type": "display_data"
    }
   ],
   "source": [
    "# Calcula los valores absolutos\n",
    "hombres = (bonobos / enfermos) * 100\n",
    "mujeres = (sin_padre/ enfermos) * 100\n",
    "\n",
    "# Etiquetas y valores para el gráfico de torta\n",
    "labels = ['Hombres', 'Mujeres']\n",
    "sizes = [hombres, mujeres]\n",
    "\n",
    "# Crea el gráfico de torta\n",
    "plt.pie(sizes, labels=labels, autopct='%1.1f%%', startangle=90, colors=['blue', 'pink'])\n",
    "plt.title('Distribución que necesitan tener muchas parejas sexuales por género')\n",
    "plt.axis('equal')  "
   ]
  },
  {
   "cell_type": "markdown",
   "metadata": {},
   "source": [
    "#### Necesidad de tener un compañero vital"
   ]
  },
  {
   "cell_type": "code",
   "execution_count": 163,
   "metadata": {},
   "outputs": [],
   "source": [
    "compañero_vital = Tinder_Millennial[(Tinder_Millennial['Necesidad de un compañero en la vida']=='Totalmente de acuerdo') | (Tinder_Millennial['Necesidad de un compañero en la vida']=='De acuerdo')]\n",
    "romanticismo = len(compañero_vital)/len(Tinder_Millennial)"
   ]
  },
  {
   "cell_type": "code",
   "execution_count": 164,
   "metadata": {},
   "outputs": [],
   "source": [
    "compañero_vital_hombre = tinder_hombres[(tinder_hombres['Necesidad de un compañero en la vida']=='Totalmente de acuerdo') | (tinder_hombres['Necesidad de un compañero en la vida']=='De acuerdo')]\n",
    "romanticos = len(compañero_vital_hombre)/len(compañero_vital)"
   ]
  },
  {
   "cell_type": "code",
   "execution_count": 165,
   "metadata": {},
   "outputs": [],
   "source": [
    "compañero_vital_mujer = tinder_mujeres[(tinder_mujeres['Necesidad de un compañero en la vida']=='Totalmente de acuerdo') | (tinder_mujeres['Necesidad de un compañero en la vida']=='De acuerdo')]\n",
    "romanticas = len(compañero_vital_mujer)/len(compañero_vital)"
   ]
  },
  {
   "cell_type": "code",
   "execution_count": 168,
   "metadata": {},
   "outputs": [
    {
     "data": {
      "image/png": "[encoded data removed]",
      "text/plain": [
       "<Figure size 640x480 with 1 Axes>"
      ]
     },
     "metadata": {},
     "output_type": "display_data"
    }
   ],
   "source": [
    "# Calcula los valores absolutos\n",
    "hombres = (romanticos / romanticismo) * 100\n",
    "mujeres = (romanticas/ romanticismo) * 100\n",
    "\n",
    "# Etiquetas y valores para el gráfico de torta\n",
    "labels = ['Hombres', 'Mujeres']\n",
    "sizes = [hombres, mujeres]\n",
    "\n",
    "# Crea el gráfico de torta\n",
    "plt.pie(sizes, labels=labels, autopct='%1.1f%%', startangle=90, colors=['blue', 'pink'])\n",
    "plt.title('Distribución de personas que necesitan un compañero vital por género')\n",
    "plt.axis('equal')  \n",
    "plt.show()"
   ]
  },
  {
   "cell_type": "markdown",
   "metadata": {},
   "source": [
    "#### Necesidad de tener a alguien a quien amar"
   ]
  },
  {
   "cell_type": "code",
   "execution_count": null,
   "metadata": {},
   "outputs": [
    {
     "data": {
      "text/plain": [
       "0.42105263157894735"
      ]
     },
     "execution_count": 90,
     "metadata": {},
     "output_type": "execute_result"
    }
   ],
   "source": [
    "persona_amar = Tinder_Millennial[(Tinder_Millennial['Necesidad de alguien a quien amar']=='Totalmente de acuerdo') | (Tinder_Millennial['Necesidad de alguien a quien amar']=='De acuerdo')]\n",
    "len(persona_amar)/len(Tinder_Millennial)"
   ]
  },
  {
   "cell_type": "code",
   "execution_count": 123,
   "metadata": {},
   "outputs": [
    {
     "data": {
      "text/plain": [
       "0.6458333333333334"
      ]
     },
     "execution_count": 123,
     "metadata": {},
     "output_type": "execute_result"
    }
   ],
   "source": [
    "persona_amar_hombres = tinder_hombres[(tinder_hombres['Necesidad de alguien a quien amar']=='Totalmente de acuerdo') | (tinder_hombres['Necesidad de alguien a quien amar']=='De acuerdo')]\n",
    "len(persona_amar_hombres)/len(persona_amar)"
   ]
  },
  {
   "cell_type": "code",
   "execution_count": 129,
   "metadata": {},
   "outputs": [
    {
     "data": {
      "text/plain": [
       "0.3541666666666667"
      ]
     },
     "execution_count": 129,
     "metadata": {},
     "output_type": "execute_result"
    }
   ],
   "source": [
    "persona_amar_mujeres = tinder_mujeres[(tinder_mujeres['Necesidad de alguien a quien amar']=='Totalmente de acuerdo') | (tinder_mujeres['Necesidad de alguien a quien amar']=='De acuerdo')]\n",
    "len(persona_amar_mujeres)/len(persona_amar)"
   ]
  },
  {
   "cell_type": "markdown",
   "metadata": {},
   "source": [
    "#### Necesidad de tener pareja"
   ]
  },
  {
   "cell_type": "code",
   "execution_count": null,
   "metadata": {},
   "outputs": [
    {
     "data": {
      "text/plain": [
       "0.47368421052631576"
      ]
     },
     "execution_count": 91,
     "metadata": {},
     "output_type": "execute_result"
    }
   ],
   "source": [
    "pareja = Tinder_Millennial[(Tinder_Millennial['Necesidad de una pareja que me quiera']=='Totalmente de acuerdo') | (Tinder_Millennial['Necesidad de una pareja que me quiera']=='De acuerdo')]\n",
    "len(pareja)/len(Tinder_Millennial)"
   ]
  },
  {
   "cell_type": "code",
   "execution_count": 130,
   "metadata": {},
   "outputs": [
    {
     "data": {
      "text/plain": [
       "0.6481481481481481"
      ]
     },
     "execution_count": 130,
     "metadata": {},
     "output_type": "execute_result"
    }
   ],
   "source": [
    "pareja_hombre = tinder_hombres[(tinder_hombres['Necesidad de una pareja que me quiera']=='Totalmente de acuerdo') | (tinder_hombres['Necesidad de una pareja que me quiera']=='De acuerdo')]\n",
    "len(pareja_hombre)/len(pareja)"
   ]
  },
  {
   "cell_type": "code",
   "execution_count": 131,
   "metadata": {},
   "outputs": [
    {
     "data": {
      "text/plain": [
       "0.35185185185185186"
      ]
     },
     "execution_count": 131,
     "metadata": {},
     "output_type": "execute_result"
    }
   ],
   "source": [
    "pareja_mujer = tinder_mujeres[(tinder_mujeres['Necesidad de una pareja que me quiera']=='Totalmente de acuerdo') | (tinder_mujeres['Necesidad de una pareja que me quiera']=='De acuerdo')]\n",
    "len(pareja_mujer)/len(pareja)"
   ]
  },
  {
   "cell_type": "markdown",
   "metadata": {},
   "source": [
    "## Sacamos el perfil más común en Tinder"
   ]
  },
  {
   "cell_type": "code",
   "execution_count": null,
   "metadata": {},
   "outputs": [
    {
     "data": {
      "text/plain": [
       "Marca temporal                                                                  2021-02-11 14:34:05.860000\n",
       "Edad                                                                                                  24.0\n",
       "Género                                                                                               Varon\n",
       "Orientación sexual                                                                            Heterosexual\n",
       "Educación                                                                                         Superior\n",
       "                                                                                         ...              \n",
       "Necesidad de un compañero en la vida                                        Ni de acuerdo ni en desacuerdo\n",
       "Necesidad de confianza total en las personas con las que tengo intimidad                        De acuerdo\n",
       "No necesito a nadie especial en mi vida                                     Ni de acuerdo ni en desacuerdo\n",
       "Necesidad de algunos muy buenos amigos                                                          De acuerdo\n",
       "Necesidad de alguien que duerma a mi lado                                   Ni de acuerdo ni en desacuerdo\n",
       "Name: 0, Length: 69, dtype: object"
      ]
     },
     "execution_count": 92,
     "metadata": {},
     "output_type": "execute_result"
    }
   ],
   "source": [
    "perfil_Tinder = Tinder_Millennial.mode().iloc[0]\n",
    "perfil_Tinder"
   ]
  }
 ],
 "metadata": {
  "kernelspec": {
   "display_name": "Python 3",
   "language": "python",
   "name": "python3"
  },
  "language_info": {
   "codemirror_mode": {
    "name": "ipython",
    "version": 3
   },
   "file_extension": ".py",
   "mimetype": "text/x-python",
   "name": "python",
   "nbconvert_exporter": "python",
   "pygments_lexer": "ipython3",
   "version": "3.8.10"
  },
  "orig_nbformat": 4,
  "vscode": {
   "interpreter": {
    "hash": "ec2a379ed5c25334a484232182c9d38ef8bd9861e2542d0c517568c4f99a9a7c"
   }
  }
 },
 "nbformat": 4,
 "nbformat_minor": 2
}
