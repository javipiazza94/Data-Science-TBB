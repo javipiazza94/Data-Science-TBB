{
 "cells": [
  {
   "cell_type": "code",
   "execution_count": 2,
   "metadata": {},
   "outputs": [],
   "source": [
    "import pandas as pd\n",
    "import numpy as np\n"
   ]
  },
  {
   "cell_type": "markdown",
   "metadata": {},
   "source": [
    "## Ejercicio 1\n",
    "Escribir un programa que pregunte al usuario por las ventas de un rango de años y muestre por pantalla una serie con los datos de las ventas indexada por los años, antes y después de aplicarles un descuento del 10%."
   ]
  },
  {
   "cell_type": "code",
   "execution_count": null,
   "metadata": {},
   "outputs": [
    {
     "data": {
      "text/html": [
       "<div>\n",
       "<style scoped>\n",
       "    .dataframe tbody tr th:only-of-type {\n",
       "        vertical-align: middle;\n",
       "    }\n",
       "\n",
       "    .dataframe tbody tr th {\n",
       "        vertical-align: top;\n",
       "    }\n",
       "\n",
       "    .dataframe thead th {\n",
       "        text-align: right;\n",
       "    }\n",
       "</style>\n",
       "<table border=\"1\" class=\"dataframe\">\n",
       "  <thead>\n",
       "    <tr style=\"text-align: right;\">\n",
       "      <th></th>\n",
       "      <th>0</th>\n",
       "    </tr>\n",
       "  </thead>\n",
       "  <tbody>\n",
       "    <tr>\n",
       "      <th>2014</th>\n",
       "      <td>1980.0</td>\n",
       "    </tr>\n",
       "    <tr>\n",
       "      <th>2015</th>\n",
       "      <td>2079.0</td>\n",
       "    </tr>\n",
       "    <tr>\n",
       "      <th>2016</th>\n",
       "      <td>2178.0</td>\n",
       "    </tr>\n",
       "    <tr>\n",
       "      <th>2017</th>\n",
       "      <td>2277.0</td>\n",
       "    </tr>\n",
       "    <tr>\n",
       "      <th>2018</th>\n",
       "      <td>2376.0</td>\n",
       "    </tr>\n",
       "    <tr>\n",
       "      <th>2019</th>\n",
       "      <td>2475.0</td>\n",
       "    </tr>\n",
       "    <tr>\n",
       "      <th>2020</th>\n",
       "      <td>2574.0</td>\n",
       "    </tr>\n",
       "    <tr>\n",
       "      <th>2021</th>\n",
       "      <td>2673.0</td>\n",
       "    </tr>\n",
       "    <tr>\n",
       "      <th>2022</th>\n",
       "      <td>2772.0</td>\n",
       "    </tr>\n",
       "    <tr>\n",
       "      <th>2023</th>\n",
       "      <td>2871.0</td>\n",
       "    </tr>\n",
       "  </tbody>\n",
       "</table>\n",
       "</div>"
      ],
      "text/plain": [
       "           0\n",
       "2014  1980.0\n",
       "2015  2079.0\n",
       "2016  2178.0\n",
       "2017  2277.0\n",
       "2018  2376.0\n",
       "2019  2475.0\n",
       "2020  2574.0\n",
       "2021  2673.0\n",
       "2022  2772.0\n",
       "2023  2871.0"
      ]
     },
     "execution_count": 5,
     "metadata": {},
     "output_type": "execute_result"
    }
   ],
   "source": [
    "inicio = 1995\n",
    "fin = 2023\n",
    "ventas = {} #Se guardan los datos en un diccionario y se pasa a pandas\n",
    "cantidad = 0\n",
    "for año in range(inicio, fin+1):\n",
    "    cantidad += (100+10)\n",
    "    descuento = (cantidad-cantidad*0.10)\n",
    "    ventas[año] = descuento\n",
    "tabla = pd.Series(ventas) #pasamos a serie\n",
    "df = pd.DataFrame(tabla) #pasamos a datafranme\n",
    "df.tail(10)"
   ]
  },
  {
   "cell_type": "markdown",
   "metadata": {},
   "source": [
    "## Ejercicio 2\n",
    "Escribir una función que reciba un diccionario con las notas de los alumno de un curso y devuelva una serie con la nota mínima, la máxima, media y la desviación típica."
   ]
  },
  {
   "cell_type": "code",
   "execution_count": null,
   "metadata": {},
   "outputs": [],
   "source": [
    "def notas(alumnos: dict):\n",
    "    tabla = pd.DataFrame.from_dict(alumnos, orient='index')\n",
    "    minima = tabla.min()\n",
    "    maxima = tabla.max()\n",
    "    media = tabla.mean()\n",
    "    desviacion = tabla.std()\n",
    "    serie = pd.concat([minima, maxima, media, desviacion], axis=1)\n",
    "    serie.columns = ['Min', 'Max', 'Mean', 'Std']\n",
    "    return serie.squeeze() #lo convierte en una serie"
   ]
  },
  {
   "cell_type": "code",
   "execution_count": null,
   "metadata": {},
   "outputs": [],
   "source": [
    "notas_alumnos = {'pepe': 6, 'ana': 8, 'rodolfo': 3, 'javi': 10, 'andres': 7}"
   ]
  },
  {
   "cell_type": "code",
   "execution_count": null,
   "metadata": {},
   "outputs": [
    {
     "data": {
      "text/plain": [
       "Min      3.000000\n",
       "Max     10.000000\n",
       "Mean     6.800000\n",
       "Std      2.588436\n",
       "Name: 0, dtype: float64"
      ]
     },
     "execution_count": 22,
     "metadata": {},
     "output_type": "execute_result"
    }
   ],
   "source": [
    "notas(notas_alumnos)"
   ]
  },
  {
   "cell_type": "markdown",
   "metadata": {},
   "source": [
    "## Ejercicio 3\n",
    "Escribir una función que reciba un diccionario con las notas de los alumnos de un curso y devuelva una serie con las notas de los alumnos aprobados ordenadas de mayor a menor."
   ]
  },
  {
   "cell_type": "code",
   "execution_count": null,
   "metadata": {},
   "outputs": [],
   "source": [
    "def notasAprobadasOrdenadas(alumnos: dict):\n",
    "    tabla = pd.DataFrame.from_dict(alumnos, orient='index', columns = ['Notas'])\n",
    "    #tabla['Alumnos'] = tabla.index\n",
    "    #tabla = tabla[['Alumnos', 'Notas']] \n",
    "    #tabla.index = range(1, len(tabla) + 1)  # Establecer índice numérico\n",
    "    return tabla[tabla['Notas']>=5].sort_values(by='Notas', ascending=False).squeeze()"
   ]
  },
  {
   "cell_type": "code",
   "execution_count": null,
   "metadata": {},
   "outputs": [
    {
     "data": {
      "text/plain": [
       "javi      10\n",
       "ana        8\n",
       "andres     7\n",
       "pepe       6\n",
       "Name: Notas, dtype: int64"
      ]
     },
     "execution_count": 66,
     "metadata": {},
     "output_type": "execute_result"
    }
   ],
   "source": [
    "notasAprobadasOrdenadas(notas_alumnos)"
   ]
  },
  {
   "cell_type": "markdown",
   "metadata": {},
   "source": [
    "## Ejercicio 4\n",
    "Escribir programa que genere y muestre por pantalla un DataFrame con los datos de la tabla siguiente:"
   ]
  },
  {
   "cell_type": "code",
   "execution_count": null,
   "metadata": {},
   "outputs": [],
   "source": [
    "meses = []\n",
    "ventas = []\n",
    "gastos = []\n",
    "\n",
    "for dato in range(4):\n",
    "    mes = input('Introduce el mes: ')\n",
    "    venta = int(input('Introduce la venta: '))\n",
    "    gasto = int(input('Introduce el gasto: '))\n",
    "    meses.append(mes)\n",
    "    ventas.append(venta)\n",
    "    gastos.append(gasto)"
   ]
  },
  {
   "cell_type": "code",
   "execution_count": null,
   "metadata": {},
   "outputs": [
    {
     "data": {
      "text/plain": [
       "['enero', 'febrero', 'marzo', 'abril']"
      ]
     },
     "execution_count": 69,
     "metadata": {},
     "output_type": "execute_result"
    }
   ],
   "source": [
    "meses"
   ]
  },
  {
   "cell_type": "code",
   "execution_count": null,
   "metadata": {},
   "outputs": [
    {
     "data": {
      "text/plain": [
       "[30500, 35600, 28300, 33900]"
      ]
     },
     "execution_count": 70,
     "metadata": {},
     "output_type": "execute_result"
    }
   ],
   "source": [
    "ventas"
   ]
  },
  {
   "cell_type": "code",
   "execution_count": null,
   "metadata": {},
   "outputs": [
    {
     "data": {
      "text/plain": [
       "[22000, 23400, 18100, 20700]"
      ]
     },
     "execution_count": 71,
     "metadata": {},
     "output_type": "execute_result"
    }
   ],
   "source": [
    "gastos"
   ]
  },
  {
   "cell_type": "code",
   "execution_count": null,
   "metadata": {},
   "outputs": [
    {
     "data": {
      "text/html": [
       "<div>\n",
       "<style scoped>\n",
       "    .dataframe tbody tr th:only-of-type {\n",
       "        vertical-align: middle;\n",
       "    }\n",
       "\n",
       "    .dataframe tbody tr th {\n",
       "        vertical-align: top;\n",
       "    }\n",
       "\n",
       "    .dataframe thead th {\n",
       "        text-align: right;\n",
       "    }\n",
       "</style>\n",
       "<table border=\"1\" class=\"dataframe\">\n",
       "  <thead>\n",
       "    <tr style=\"text-align: right;\">\n",
       "      <th></th>\n",
       "      <th>Mes</th>\n",
       "      <th>Ventas</th>\n",
       "      <th>Gastos</th>\n",
       "    </tr>\n",
       "  </thead>\n",
       "  <tbody>\n",
       "    <tr>\n",
       "      <th>0</th>\n",
       "      <td>enero</td>\n",
       "      <td>30500</td>\n",
       "      <td>22000</td>\n",
       "    </tr>\n",
       "    <tr>\n",
       "      <th>1</th>\n",
       "      <td>febrero</td>\n",
       "      <td>35600</td>\n",
       "      <td>23400</td>\n",
       "    </tr>\n",
       "    <tr>\n",
       "      <th>2</th>\n",
       "      <td>marzo</td>\n",
       "      <td>28300</td>\n",
       "      <td>18100</td>\n",
       "    </tr>\n",
       "    <tr>\n",
       "      <th>3</th>\n",
       "      <td>abril</td>\n",
       "      <td>33900</td>\n",
       "      <td>20700</td>\n",
       "    </tr>\n",
       "  </tbody>\n",
       "</table>\n",
       "</div>"
      ],
      "text/plain": [
       "       Mes  Ventas  Gastos\n",
       "0    enero   30500   22000\n",
       "1  febrero   35600   23400\n",
       "2    marzo   28300   18100\n",
       "3    abril   33900   20700"
      ]
     },
     "execution_count": 82,
     "metadata": {},
     "output_type": "execute_result"
    }
   ],
   "source": [
    "resultados = pd.DataFrame(data={'Mes': meses, 'Ventas': ventas, 'Gastos': gastos})\n",
    "resultados"
   ]
  },
  {
   "cell_type": "markdown",
   "metadata": {},
   "source": [
    "## Ejercicio 5\n",
    "Escribir una función que reciba un DataFrame con el formato del ejercicio anterior, una lista de meses, y devuelva el balance (ventas - gastos) total en los meses indicados."
   ]
  },
  {
   "cell_type": "code",
   "execution_count": null,
   "metadata": {},
   "outputs": [],
   "source": [
    "def balance(resultados, meses):\n",
    "    resultados['Balance'] = resultados['Ventas'] - resultados['Gastos']\n",
    "    return resultados[resultados['Mes'].isin(meses)]['Balance'].sum() # Usamos isin para comprobar campos en listas\n",
    "    "
   ]
  },
  {
   "cell_type": "code",
   "execution_count": null,
   "metadata": {},
   "outputs": [
    {
     "data": {
      "text/plain": [
       "20700"
      ]
     },
     "execution_count": 93,
     "metadata": {},
     "output_type": "execute_result"
    }
   ],
   "source": [
    "balance(resultados, ['enero', 'febrero'])"
   ]
  },
  {
   "cell_type": "markdown",
   "metadata": {},
   "source": [
    "## Ejercicio 6\n",
    "El fichero cotizacion.csv contiene las cotizaciones de las empresas del IBEX35 con las siguientes columnas: \n",
    "- nombre (nombre de la empresa), \n",
    "- Final (precio de la acción al cierre de bolsa), \n",
    "- Máximo (precio máximo de la acción durante la jornada), \n",
    "- Mínimo (precio mínimo de la acción durante la jornada), \n",
    "- volumen (Volumen al cierre de bolsa), \n",
    "- Efectivo (capitalización al cierre en miles de euros). \n",
    "\n",
    "Construir una función que construya un DataFrame a partir del fichero con el formato anterior y devuelva otro DataFrame con el mínimo, el máximo y la media de dada columna."
   ]
  },
  {
   "cell_type": "code",
   "execution_count": 37,
   "metadata": {},
   "outputs": [
    {
     "data": {
      "text/html": [
       "<div>\n",
       "<style scoped>\n",
       "    .dataframe tbody tr th:only-of-type {\n",
       "        vertical-align: middle;\n",
       "    }\n",
       "\n",
       "    .dataframe tbody tr th {\n",
       "        vertical-align: top;\n",
       "    }\n",
       "\n",
       "    .dataframe thead th {\n",
       "        text-align: right;\n",
       "    }\n",
       "</style>\n",
       "<table border=\"1\" class=\"dataframe\">\n",
       "  <thead>\n",
       "    <tr style=\"text-align: right;\">\n",
       "      <th></th>\n",
       "      <th>Final</th>\n",
       "      <th>Máximo</th>\n",
       "      <th>Mínimo</th>\n",
       "      <th>Volumen</th>\n",
       "      <th>Efectivo</th>\n",
       "    </tr>\n",
       "    <tr>\n",
       "      <th>Nombre</th>\n",
       "      <th></th>\n",
       "      <th></th>\n",
       "      <th></th>\n",
       "      <th></th>\n",
       "      <th></th>\n",
       "    </tr>\n",
       "  </thead>\n",
       "  <tbody>\n",
       "    <tr>\n",
       "      <th>ACCIONA</th>\n",
       "      <td>95.9500</td>\n",
       "      <td>96.7500</td>\n",
       "      <td>94.4000</td>\n",
       "      <td>84962</td>\n",
       "      <td>8166.11</td>\n",
       "    </tr>\n",
       "    <tr>\n",
       "      <th>ACERINOX</th>\n",
       "      <td>8668.0000</td>\n",
       "      <td>8672.0000</td>\n",
       "      <td>8468.0000</td>\n",
       "      <td>88599</td>\n",
       "      <td>7633.81</td>\n",
       "    </tr>\n",
       "    <tr>\n",
       "      <th>ACS</th>\n",
       "      <td>37.2800</td>\n",
       "      <td>37.6600</td>\n",
       "      <td>37.2200</td>\n",
       "      <td>655982</td>\n",
       "      <td>24517.29</td>\n",
       "    </tr>\n",
       "    <tr>\n",
       "      <th>AENA</th>\n",
       "      <td>167.1000</td>\n",
       "      <td>167.5000</td>\n",
       "      <td>166.1000</td>\n",
       "      <td>133738</td>\n",
       "      <td>22336.10</td>\n",
       "    </tr>\n",
       "    <tr>\n",
       "      <th>AMADEUS</th>\n",
       "      <td>69.9600</td>\n",
       "      <td>70.6400</td>\n",
       "      <td>69.5600</td>\n",
       "      <td>640476</td>\n",
       "      <td>44795.47</td>\n",
       "    </tr>\n",
       "    <tr>\n",
       "      <th>ARCELORMIT.</th>\n",
       "      <td>14152.0000</td>\n",
       "      <td>14318.0000</td>\n",
       "      <td>14.0800</td>\n",
       "      <td>702841</td>\n",
       "      <td>9989.65</td>\n",
       "    </tr>\n",
       "    <tr>\n",
       "      <th>BA.SABADELL</th>\n",
       "      <td>1.0165</td>\n",
       "      <td>1033.0000</td>\n",
       "      <td>1.0165</td>\n",
       "      <td>12358512</td>\n",
       "      <td>12637.65</td>\n",
       "    </tr>\n",
       "    <tr>\n",
       "      <th>BA.SANTANDER</th>\n",
       "      <td>4.0200</td>\n",
       "      <td>4.0675</td>\n",
       "      <td>4.0100</td>\n",
       "      <td>36129692</td>\n",
       "      <td>145765.44</td>\n",
       "    </tr>\n",
       "    <tr>\n",
       "      <th>BANKIA</th>\n",
       "      <td>2249.0000</td>\n",
       "      <td>2262.0000</td>\n",
       "      <td>2224.0000</td>\n",
       "      <td>3024454</td>\n",
       "      <td>6803.54</td>\n",
       "    </tr>\n",
       "    <tr>\n",
       "      <th>BANKINTER</th>\n",
       "      <td>6.5600</td>\n",
       "      <td>6604.0000</td>\n",
       "      <td>6522.0000</td>\n",
       "      <td>1375976</td>\n",
       "      <td>9030.20</td>\n",
       "    </tr>\n",
       "    <tr>\n",
       "      <th>BBVA</th>\n",
       "      <td>5024.0000</td>\n",
       "      <td>5.0500</td>\n",
       "      <td>4969.0000</td>\n",
       "      <td>26447612</td>\n",
       "      <td>132560.15</td>\n",
       "    </tr>\n",
       "    <tr>\n",
       "      <th>CAIXABANK</th>\n",
       "      <td>2763.0000</td>\n",
       "      <td>2806.0000</td>\n",
       "      <td>2762.0000</td>\n",
       "      <td>13031097</td>\n",
       "      <td>36239.22</td>\n",
       "    </tr>\n",
       "    <tr>\n",
       "      <th>CELLNEX</th>\n",
       "      <td>30.1700</td>\n",
       "      <td>30.7000</td>\n",
       "      <td>30.1700</td>\n",
       "      <td>857237</td>\n",
       "      <td>25965.29</td>\n",
       "    </tr>\n",
       "    <tr>\n",
       "      <th>CIE AUTOMOT.</th>\n",
       "      <td>23.4400</td>\n",
       "      <td>23.7400</td>\n",
       "      <td>23.4000</td>\n",
       "      <td>99506</td>\n",
       "      <td>2343.09</td>\n",
       "    </tr>\n",
       "    <tr>\n",
       "      <th>ENAGAS</th>\n",
       "      <td>25.6000</td>\n",
       "      <td>25.6600</td>\n",
       "      <td>25.0700</td>\n",
       "      <td>84254</td>\n",
       "      <td>21524.77</td>\n",
       "    </tr>\n",
       "    <tr>\n",
       "      <th>ENCE</th>\n",
       "      <td>3882.0000</td>\n",
       "      <td>3974.0000</td>\n",
       "      <td>3846.0000</td>\n",
       "      <td>2099698</td>\n",
       "      <td>8219.83</td>\n",
       "    </tr>\n",
       "    <tr>\n",
       "      <th>ENDESA</th>\n",
       "      <td>22.9500</td>\n",
       "      <td>23.0300</td>\n",
       "      <td>22.6200</td>\n",
       "      <td>1236799</td>\n",
       "      <td>28233.46</td>\n",
       "    </tr>\n",
       "    <tr>\n",
       "      <th>FERROVIAL</th>\n",
       "      <td>21.6100</td>\n",
       "      <td>21.7200</td>\n",
       "      <td>21.3800</td>\n",
       "      <td>2065931</td>\n",
       "      <td>44656.05</td>\n",
       "    </tr>\n",
       "    <tr>\n",
       "      <th>GRIFOLS CL.A</th>\n",
       "      <td>23.3000</td>\n",
       "      <td>23.6000</td>\n",
       "      <td>23.2700</td>\n",
       "      <td>719503</td>\n",
       "      <td>16787.55</td>\n",
       "    </tr>\n",
       "    <tr>\n",
       "      <th>IAG</th>\n",
       "      <td>5.3000</td>\n",
       "      <td>5.4600</td>\n",
       "      <td>5292.0000</td>\n",
       "      <td>2155081</td>\n",
       "      <td>11561.95</td>\n",
       "    </tr>\n",
       "    <tr>\n",
       "      <th>IBERDROLA</th>\n",
       "      <td>8.4500</td>\n",
       "      <td>8.4500</td>\n",
       "      <td>8262.0000</td>\n",
       "      <td>15637958</td>\n",
       "      <td>131426.05</td>\n",
       "    </tr>\n",
       "    <tr>\n",
       "      <th>INDITEX</th>\n",
       "      <td>24.9300</td>\n",
       "      <td>25.1900</td>\n",
       "      <td>24.8700</td>\n",
       "      <td>2600144</td>\n",
       "      <td>65012.92</td>\n",
       "    </tr>\n",
       "    <tr>\n",
       "      <th>INDRA A</th>\n",
       "      <td>9.5600</td>\n",
       "      <td>9685.0000</td>\n",
       "      <td>9535.0000</td>\n",
       "      <td>39206</td>\n",
       "      <td>3755.57</td>\n",
       "    </tr>\n",
       "    <tr>\n",
       "      <th>INM.COLONIAL</th>\n",
       "      <td>9915.0000</td>\n",
       "      <td>9915.0000</td>\n",
       "      <td>9745.0000</td>\n",
       "      <td>671753</td>\n",
       "      <td>6640.38</td>\n",
       "    </tr>\n",
       "    <tr>\n",
       "      <th>MAPFRE</th>\n",
       "      <td>2654.0000</td>\n",
       "      <td>2654.0000</td>\n",
       "      <td>2.6200</td>\n",
       "      <td>3045972</td>\n",
       "      <td>8063.13</td>\n",
       "    </tr>\n",
       "    <tr>\n",
       "      <th>MEDIASET</th>\n",
       "      <td>6446.0000</td>\n",
       "      <td>6592.0000</td>\n",
       "      <td>6446.0000</td>\n",
       "      <td>2647557</td>\n",
       "      <td>17277.04</td>\n",
       "    </tr>\n",
       "    <tr>\n",
       "      <th>MELIA HOTELS</th>\n",
       "      <td>8.1400</td>\n",
       "      <td>8.1900</td>\n",
       "      <td>8.0200</td>\n",
       "      <td>48021</td>\n",
       "      <td>3914.93</td>\n",
       "    </tr>\n",
       "    <tr>\n",
       "      <th>MERLIN</th>\n",
       "      <td>12.0800</td>\n",
       "      <td>12.0800</td>\n",
       "      <td>11.8300</td>\n",
       "      <td>777543</td>\n",
       "      <td>9357.77</td>\n",
       "    </tr>\n",
       "    <tr>\n",
       "      <th>NATURGY</th>\n",
       "      <td>26.7000</td>\n",
       "      <td>26.7700</td>\n",
       "      <td>26.5300</td>\n",
       "      <td>2100737</td>\n",
       "      <td>55986.54</td>\n",
       "    </tr>\n",
       "    <tr>\n",
       "      <th>R.E.C.</th>\n",
       "      <td>19705.0000</td>\n",
       "      <td>19875.0000</td>\n",
       "      <td>19675.0000</td>\n",
       "      <td>1246171</td>\n",
       "      <td>24585.33</td>\n",
       "    </tr>\n",
       "    <tr>\n",
       "      <th>REPSOL</th>\n",
       "      <td>14515.0000</td>\n",
       "      <td>14605.0000</td>\n",
       "      <td>14.4600</td>\n",
       "      <td>5046648</td>\n",
       "      <td>73333.78</td>\n",
       "    </tr>\n",
       "    <tr>\n",
       "      <th>SIEMENS GAME</th>\n",
       "      <td>14.3300</td>\n",
       "      <td>14.3900</td>\n",
       "      <td>14155.0000</td>\n",
       "      <td>1054847</td>\n",
       "      <td>15084.56</td>\n",
       "    </tr>\n",
       "    <tr>\n",
       "      <th>TEC.REUNIDAS</th>\n",
       "      <td>23.0000</td>\n",
       "      <td>23.2000</td>\n",
       "      <td>22.7800</td>\n",
       "      <td>1221</td>\n",
       "      <td>2807.19</td>\n",
       "    </tr>\n",
       "    <tr>\n",
       "      <th>TELEFONICA</th>\n",
       "      <td>7204.0000</td>\n",
       "      <td>7256.0000</td>\n",
       "      <td>7185.0000</td>\n",
       "      <td>9913249</td>\n",
       "      <td>71564.99</td>\n",
       "    </tr>\n",
       "    <tr>\n",
       "      <th>VISCOFAN</th>\n",
       "      <td>48.4600</td>\n",
       "      <td>49.1200</td>\n",
       "      <td>48.4600</td>\n",
       "      <td>6771</td>\n",
       "      <td>3295.43</td>\n",
       "    </tr>\n",
       "  </tbody>\n",
       "</table>\n",
       "</div>"
      ],
      "text/plain": [
       "                   Final      Máximo      Mínimo   Volumen   Efectivo\n",
       "Nombre                                                               \n",
       "ACCIONA          95.9500     96.7500     94.4000     84962    8166.11\n",
       "ACERINOX       8668.0000   8672.0000   8468.0000     88599    7633.81\n",
       "ACS              37.2800     37.6600     37.2200    655982   24517.29\n",
       "AENA            167.1000    167.5000    166.1000    133738   22336.10\n",
       "AMADEUS          69.9600     70.6400     69.5600    640476   44795.47\n",
       "ARCELORMIT.   14152.0000  14318.0000     14.0800    702841    9989.65\n",
       "BA.SABADELL       1.0165   1033.0000      1.0165  12358512   12637.65\n",
       "BA.SANTANDER      4.0200      4.0675      4.0100  36129692  145765.44\n",
       "BANKIA         2249.0000   2262.0000   2224.0000   3024454    6803.54\n",
       "BANKINTER         6.5600   6604.0000   6522.0000   1375976    9030.20\n",
       "BBVA           5024.0000      5.0500   4969.0000  26447612  132560.15\n",
       "CAIXABANK      2763.0000   2806.0000   2762.0000  13031097   36239.22\n",
       "CELLNEX          30.1700     30.7000     30.1700    857237   25965.29\n",
       "CIE AUTOMOT.     23.4400     23.7400     23.4000     99506    2343.09\n",
       "ENAGAS           25.6000     25.6600     25.0700     84254   21524.77\n",
       "ENCE           3882.0000   3974.0000   3846.0000   2099698    8219.83\n",
       "ENDESA           22.9500     23.0300     22.6200   1236799   28233.46\n",
       "FERROVIAL        21.6100     21.7200     21.3800   2065931   44656.05\n",
       "GRIFOLS CL.A     23.3000     23.6000     23.2700    719503   16787.55\n",
       "IAG               5.3000      5.4600   5292.0000   2155081   11561.95\n",
       "IBERDROLA         8.4500      8.4500   8262.0000  15637958  131426.05\n",
       "INDITEX          24.9300     25.1900     24.8700   2600144   65012.92\n",
       "INDRA A           9.5600   9685.0000   9535.0000     39206    3755.57\n",
       "INM.COLONIAL   9915.0000   9915.0000   9745.0000    671753    6640.38\n",
       "MAPFRE         2654.0000   2654.0000      2.6200   3045972    8063.13\n",
       "MEDIASET       6446.0000   6592.0000   6446.0000   2647557   17277.04\n",
       "MELIA HOTELS      8.1400      8.1900      8.0200     48021    3914.93\n",
       "MERLIN           12.0800     12.0800     11.8300    777543    9357.77\n",
       "NATURGY          26.7000     26.7700     26.5300   2100737   55986.54\n",
       "R.E.C.        19705.0000  19875.0000  19675.0000   1246171   24585.33\n",
       "REPSOL        14515.0000  14605.0000     14.4600   5046648   73333.78\n",
       "SIEMENS GAME     14.3300     14.3900  14155.0000   1054847   15084.56\n",
       "TEC.REUNIDAS     23.0000     23.2000     22.7800      1221    2807.19\n",
       "TELEFONICA     7204.0000   7256.0000   7185.0000   9913249   71564.99\n",
       "VISCOFAN         48.4600     49.1200     48.4600      6771    3295.43"
      ]
     },
     "execution_count": 37,
     "metadata": {},
     "output_type": "execute_result"
    }
   ],
   "source": [
    "cotizaciones = pd.read_csv('cotizacion.csv', sep=';', decimal=',', thousands='.', index_col=0)\n",
    "cotizaciones"
   ]
  },
  {
   "cell_type": "code",
   "execution_count": 38,
   "metadata": {},
   "outputs": [
    {
     "name": "stdout",
     "output_type": "stream",
     "text": [
      "<class 'pandas.core.frame.DataFrame'>\n",
      "Index: 35 entries, ACCIONA to VISCOFAN\n",
      "Data columns (total 5 columns):\n",
      " #   Column    Non-Null Count  Dtype  \n",
      "---  ------    --------------  -----  \n",
      " 0   Final     35 non-null     float64\n",
      " 1   Máximo    35 non-null     float64\n",
      " 2   Mínimo    35 non-null     float64\n",
      " 3   Volumen   35 non-null     int64  \n",
      " 4   Efectivo  35 non-null     float64\n",
      "dtypes: float64(4), int64(1)\n",
      "memory usage: 1.6+ KB\n"
     ]
    }
   ],
   "source": [
    "cotizaciones.info()"
   ]
  },
  {
   "cell_type": "code",
   "execution_count": 39,
   "metadata": {},
   "outputs": [],
   "source": [
    "# Reemplazar comas por puntos en las columnas y convertirlas manualmente a float\n",
    "\n",
    "#cotizaciones['Final'] = cotizaciones['Final'].str.replace(',', '.').str.replace('.', '')\n",
    "#cotizaciones['Máximo'] = cotizaciones['Máximo'].str.replace(',', '.').str.replace('.', '')\n",
    "#cotizaciones['Mínimo'] = cotizaciones['Mínimo'].str.replace(',', '.').str.replace('.', '')\n",
    "#cotizaciones['Volumen'] = cotizaciones['Volumen'].str.replace(',', '.').str.replace('.', '')\n",
    "#cotizaciones['Efectivo'] = cotizaciones['Efectivo'].str.replace(',', '.').str.replace('.', '')\n",
    "#columnas_a_convertir = ['Final', 'Máximo', 'Mínimo', 'Volumen', 'Efectivo']\n",
    "#cotizaciones[columnas_a_convertir] = cotizaciones[columnas_a_convertir].astype(float)"
   ]
  },
  {
   "cell_type": "code",
   "execution_count": 40,
   "metadata": {},
   "outputs": [
    {
     "data": {
      "text/html": [
       "<div>\n",
       "<style scoped>\n",
       "    .dataframe tbody tr th:only-of-type {\n",
       "        vertical-align: middle;\n",
       "    }\n",
       "\n",
       "    .dataframe tbody tr th {\n",
       "        vertical-align: top;\n",
       "    }\n",
       "\n",
       "    .dataframe thead th {\n",
       "        text-align: right;\n",
       "    }\n",
       "</style>\n",
       "<table border=\"1\" class=\"dataframe\">\n",
       "  <thead>\n",
       "    <tr style=\"text-align: right;\">\n",
       "      <th></th>\n",
       "      <th>Final</th>\n",
       "      <th>Máximo</th>\n",
       "      <th>Mínimo</th>\n",
       "      <th>Volumen</th>\n",
       "      <th>Efectivo</th>\n",
       "    </tr>\n",
       "  </thead>\n",
       "  <tbody>\n",
       "    <tr>\n",
       "      <th>count</th>\n",
       "      <td>35.000000</td>\n",
       "      <td>35.000000</td>\n",
       "      <td>35.000000</td>\n",
       "      <td>3.500000e+01</td>\n",
       "      <td>35.000000</td>\n",
       "    </tr>\n",
       "    <tr>\n",
       "      <th>mean</th>\n",
       "      <td>2796.768757</td>\n",
       "      <td>3170.113357</td>\n",
       "      <td>3136.510471</td>\n",
       "      <td>4.252279e+06</td>\n",
       "      <td>31767.778000</td>\n",
       "    </tr>\n",
       "    <tr>\n",
       "      <th>std</th>\n",
       "      <td>5007.267143</td>\n",
       "      <td>5160.834249</td>\n",
       "      <td>4804.485259</td>\n",
       "      <td>7.901060e+06</td>\n",
       "      <td>38100.607064</td>\n",
       "    </tr>\n",
       "    <tr>\n",
       "      <th>min</th>\n",
       "      <td>1.016500</td>\n",
       "      <td>4.067500</td>\n",
       "      <td>1.016500</td>\n",
       "      <td>1.221000e+03</td>\n",
       "      <td>2343.090000</td>\n",
       "    </tr>\n",
       "    <tr>\n",
       "      <th>25%</th>\n",
       "      <td>17.970000</td>\n",
       "      <td>23.115000</td>\n",
       "      <td>22.700000</td>\n",
       "      <td>3.871070e+05</td>\n",
       "      <td>8114.620000</td>\n",
       "    </tr>\n",
       "    <tr>\n",
       "      <th>50%</th>\n",
       "      <td>30.170000</td>\n",
       "      <td>49.120000</td>\n",
       "      <td>48.460000</td>\n",
       "      <td>1.236799e+06</td>\n",
       "      <td>16787.550000</td>\n",
       "    </tr>\n",
       "    <tr>\n",
       "      <th>75%</th>\n",
       "      <td>3322.500000</td>\n",
       "      <td>5283.000000</td>\n",
       "      <td>5869.000000</td>\n",
       "      <td>2.836006e+06</td>\n",
       "      <td>40447.635000</td>\n",
       "    </tr>\n",
       "    <tr>\n",
       "      <th>max</th>\n",
       "      <td>19705.000000</td>\n",
       "      <td>19875.000000</td>\n",
       "      <td>19675.000000</td>\n",
       "      <td>3.612969e+07</td>\n",
       "      <td>145765.440000</td>\n",
       "    </tr>\n",
       "  </tbody>\n",
       "</table>\n",
       "</div>"
      ],
      "text/plain": [
       "              Final        Máximo        Mínimo       Volumen       Efectivo\n",
       "count     35.000000     35.000000     35.000000  3.500000e+01      35.000000\n",
       "mean    2796.768757   3170.113357   3136.510471  4.252279e+06   31767.778000\n",
       "std     5007.267143   5160.834249   4804.485259  7.901060e+06   38100.607064\n",
       "min        1.016500      4.067500      1.016500  1.221000e+03    2343.090000\n",
       "25%       17.970000     23.115000     22.700000  3.871070e+05    8114.620000\n",
       "50%       30.170000     49.120000     48.460000  1.236799e+06   16787.550000\n",
       "75%     3322.500000   5283.000000   5869.000000  2.836006e+06   40447.635000\n",
       "max    19705.000000  19875.000000  19675.000000  3.612969e+07  145765.440000"
      ]
     },
     "execution_count": 40,
     "metadata": {},
     "output_type": "execute_result"
    }
   ],
   "source": [
    "cotizaciones.describe()"
   ]
  }
 ],
 "metadata": {
  "kernelspec": {
   "display_name": "Python 3",
   "language": "python",
   "name": "python3"
  },
  "language_info": {
   "codemirror_mode": {
    "name": "ipython",
    "version": 3
   },
   "file_extension": ".py",
   "mimetype": "text/x-python",
   "name": "python",
   "nbconvert_exporter": "python",
   "pygments_lexer": "ipython3",
   "version": "3.10.11"
  }
 },
 "nbformat": 4,
 "nbformat_minor": 2
}
