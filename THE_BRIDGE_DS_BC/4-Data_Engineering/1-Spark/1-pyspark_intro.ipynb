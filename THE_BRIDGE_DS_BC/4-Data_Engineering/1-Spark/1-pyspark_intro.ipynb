{
 "cells": [
  {
   "cell_type": "markdown",
   "id": "8ff41f5d",
   "metadata": {},
   "source": [
    "# Pyspark Basic Introduction"
   ]
  },
  {
   "cell_type": "markdown",
   "id": "c4a9a9bf",
   "metadata": {},
   "source": [
    "## Instalamos pyspark"
   ]
  },
  {
   "cell_type": "code",
   "execution_count": 2,
   "id": "989dd9b9",
   "metadata": {},
   "outputs": [
    {
     "name": "stdout",
     "output_type": "stream",
     "text": [
      "Requirement already satisfied: pyspark in c:\\users\\puent\\appdata\\local\\packages\\pythonsoftwarefoundation.python.3.8_qbz5n2kfra8p0\\localcache\\local-packages\\python38\\site-packages (3.5.1)\n",
      "Requirement already satisfied: py4j==0.10.9.7 in c:\\users\\puent\\appdata\\local\\packages\\pythonsoftwarefoundation.python.3.8_qbz5n2kfra8p0\\localcache\\local-packages\\python38\\site-packages (from pyspark) (0.10.9.7)\n",
      "Note: you may need to restart the kernel to use updated packages.\n"
     ]
    },
    {
     "name": "stderr",
     "output_type": "stream",
     "text": [
      "WARNING: You are using pip version 21.1.1; however, version 24.0 is available.\n",
      "You should consider upgrading via the 'C:\\Users\\puent\\AppData\\Local\\Microsoft\\WindowsApps\\PythonSoftwareFoundation.Python.3.8_qbz5n2kfra8p0\\python.exe -m pip install --upgrade pip' command.\n"
     ]
    }
   ],
   "source": [
    "pip install pyspark"
   ]
  },
  {
   "cell_type": "markdown",
   "id": "d9903ca9",
   "metadata": {},
   "source": [
    "## Importamos pyspark"
   ]
  },
  {
   "cell_type": "code",
   "execution_count": 12,
   "id": "95d727fd",
   "metadata": {},
   "outputs": [],
   "source": [
    "import pyspark"
   ]
  },
  {
   "cell_type": "code",
   "execution_count": 13,
   "id": "45955ba3",
   "metadata": {},
   "outputs": [],
   "source": [
    "from pyspark.sql import SparkSession"
   ]
  },
  {
   "cell_type": "markdown",
   "id": "cbaf3fa0",
   "metadata": {},
   "source": [
    "Leemos el archivo `test.csv`"
   ]
  },
  {
   "cell_type": "code",
   "execution_count": 14,
   "id": "dbe9f2ba",
   "metadata": {},
   "outputs": [
    {
     "data": {
      "text/plain": [
       "pandas.core.frame.DataFrame"
      ]
     },
     "execution_count": 14,
     "metadata": {},
     "output_type": "execute_result"
    }
   ],
   "source": [
    "import pandas as pd\n",
    "type(pd.read_csv('./data/test1.csv'))"
   ]
  },
  {
   "cell_type": "markdown",
   "id": "a6da4aa0",
   "metadata": {},
   "source": [
    "### Vamos a crear una sesión.\n",
    "Esto nos da acceso a la API de DataFrame y Dataset, que básicamente nos sirve para ejecutar las distintas acciones y transformaciones sobre nuestros datos."
   ]
  },
  {
   "cell_type": "code",
   "execution_count": 15,
   "id": "56a80627",
   "metadata": {},
   "outputs": [],
   "source": [
    "spark = SparkSession.builder.appName('Practise').getOrCreate() # Inicia sesión para poder utilizar los comandos de spark"
   ]
  },
  {
   "cell_type": "markdown",
   "id": "92e05abf",
   "metadata": {},
   "source": [
    "Visualizamos la sesión"
   ]
  },
  {
   "cell_type": "code",
   "execution_count": 16,
   "id": "bce637f6",
   "metadata": {},
   "outputs": [
    {
     "data": {
      "text/html": [
       "\n",
       "            <div>\n",
       "                <p><b>SparkSession - in-memory</b></p>\n",
       "                \n",
       "        <div>\n",
       "            <p><b>SparkContext</b></p>\n",
       "\n",
       "            <p><a href=\"http://Manuel-Puente:4040\">Spark UI</a></p>\n",
       "\n",
       "            <dl>\n",
       "              <dt>Version</dt>\n",
       "                <dd><code>v3.5.1</code></dd>\n",
       "              <dt>Master</dt>\n",
       "                <dd><code>local[*]</code></dd>\n",
       "              <dt>AppName</dt>\n",
       "                <dd><code>Practise</code></dd>\n",
       "            </dl>\n",
       "        </div>\n",
       "        \n",
       "            </div>\n",
       "        "
      ],
      "text/plain": [
       "<pyspark.sql.session.SparkSession at 0x2010035c1c0>"
      ]
     },
     "execution_count": 16,
     "metadata": {},
     "output_type": "execute_result"
    }
   ],
   "source": [
    "spark"
   ]
  },
  {
   "cell_type": "markdown",
   "id": "58bedc92",
   "metadata": {},
   "source": [
    "Ahora vamos a leer `test.csv` a través de Spark"
   ]
  },
  {
   "cell_type": "code",
   "execution_count": 17,
   "id": "7fe8afb1",
   "metadata": {},
   "outputs": [],
   "source": [
    "df_pyspark = spark.read.csv('data/test1.csv')"
   ]
  },
  {
   "cell_type": "markdown",
   "id": "c9dec877",
   "metadata": {},
   "source": [
    "Ahora vamos a leer `test.csv` a través de Spark"
   ]
  },
  {
   "cell_type": "code",
   "execution_count": 18,
   "id": "612b9eea",
   "metadata": {},
   "outputs": [
    {
     "name": "stdout",
     "output_type": "stream",
     "text": [
      "+---------+---+----------+------+\n",
      "|      _c0|_c1|       _c2|   _c3|\n",
      "+---------+---+----------+------+\n",
      "|     Name|age|Experience|Salary|\n",
      "|    Krish| 31|        10| 30000|\n",
      "|Sudhanshu| 30|         8| 25000|\n",
      "|    Sunny| 29|         4| 20000|\n",
      "|     Paul| 24|         3| 20000|\n",
      "|   Harsha| 21|         1| 15000|\n",
      "|  Shubham| 23|         2| 18000|\n",
      "+---------+---+----------+------+\n",
      "\n"
     ]
    }
   ],
   "source": [
    "df_pyspark.show() #es el head"
   ]
  },
  {
   "cell_type": "markdown",
   "id": "0d493e63",
   "metadata": {},
   "source": [
    "Si nos fijamos, nos está mostrando nombres raros en las columnas y además la primera fila la componen los nombres de las columnas.\n",
    "\n",
    "Para evitar eso, necesitamos poner unos argumentos para evitarlo"
   ]
  },
  {
   "cell_type": "code",
   "execution_count": 19,
   "id": "72486c71",
   "metadata": {},
   "outputs": [],
   "source": [
    "df_pyspark = spark.read.option('header', 'true').csv('data/test1.csv')"
   ]
  },
  {
   "cell_type": "code",
   "execution_count": 20,
   "id": "7cfe21cc",
   "metadata": {},
   "outputs": [],
   "source": [
    "df_pyspark = spark.read.csv('data/test1.csv', header=True)"
   ]
  },
  {
   "cell_type": "markdown",
   "id": "4565a537",
   "metadata": {},
   "source": [
    "Vemos el tipo de objeto que es"
   ]
  },
  {
   "cell_type": "code",
   "execution_count": 21,
   "id": "6cd59ef9",
   "metadata": {},
   "outputs": [
    {
     "data": {
      "text/plain": [
       "pyspark.sql.dataframe.DataFrame"
      ]
     },
     "execution_count": 21,
     "metadata": {},
     "output_type": "execute_result"
    }
   ],
   "source": [
    "type(df_pyspark)"
   ]
  },
  {
   "cell_type": "markdown",
   "id": "5daad314",
   "metadata": {},
   "source": [
    "Vemos la información de las columnas"
   ]
  },
  {
   "cell_type": "code",
   "execution_count": 22,
   "id": "1e8290ff",
   "metadata": {},
   "outputs": [
    {
     "name": "stdout",
     "output_type": "stream",
     "text": [
      "root\n",
      " |-- Name: string (nullable = true)\n",
      " |-- age: string (nullable = true)\n",
      " |-- Experience: string (nullable = true)\n",
      " |-- Salary: string (nullable = true)\n",
      "\n"
     ]
    }
   ],
   "source": [
    "df_pyspark.printSchema() # Es el info de pandas"
   ]
  }
 ],
 "metadata": {
  "interpreter": {
   "hash": "90139cb9a825bf3d63f6f6704e828dbd1ff7edbd4d0c6e906a71235d6efc74af"
  },
  "kernelspec": {
   "display_name": "Python 3.7.4 64-bit",
   "language": "python",
   "name": "python3"
  },
  "language_info": {
   "codemirror_mode": {
    "name": "ipython",
    "version": 3
   },
   "file_extension": ".py",
   "mimetype": "text/x-python",
   "name": "python",
   "nbconvert_exporter": "python",
   "pygments_lexer": "ipython3",
   "version": "3.8.10"
  }
 },
 "nbformat": 4,
 "nbformat_minor": 5
}
