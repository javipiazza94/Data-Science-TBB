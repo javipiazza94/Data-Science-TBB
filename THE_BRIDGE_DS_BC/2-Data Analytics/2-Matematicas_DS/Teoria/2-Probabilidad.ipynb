{
 "cells": [
  {
   "cell_type": "markdown",
   "metadata": {},
   "source": [
    "## ¿Qué es la Probabilidad?\n",
    "\n",
    "**La [probabilidad](https://es.wikipedia.org/wiki/Probabilidad) mide la mayor o menor posibilidad de que se dé un determinado resultado (suceso o evento) cuando se realiza un experimento aleatorio.**\n",
    "Para calcular la probabilidad de un evento se toma en cuenta **todos los casos posibles** de ocurrencia del mismo; es decir, de cuántas formas puede ocurrir determinada situación.Los **casos favorables** de ocurrencia de un evento serán los que cumplan con la condición que estamos buscando. La *[probabilidad](https://es.wikipedia.org/wiki/Probabilidad)* toma valores entre 0 y 1 (o expresados en tanto por ciento, entre 0% y 100%).\n",
    "\n",
    "**La *[probabilidad](https://es.wikipedia.org/wiki/Probabilidad)* funciona como complemento de la *[estadística](http://es.wikipedia.org/wiki/Estad%C3%ADstica)*** cuando nos proporciona una sólida base para la *[estadistica inferencial](https://es.wikipedia.org/wiki/Estad%C3%ADstica_inferencial)*. Cuando hay incertidumbre, no sabemos que puede pasar y hay alguna posibilidad de errores, utilizando *[probabilidades](https://es.wikipedia.org/wiki/Probabilidad)* podemos aprender formas de controlar la tasa de errores para reducirlos."
   ]
  },
  {
   "cell_type": "markdown",
   "metadata": {},
   "source": [
    "### El espacio muestral\n",
    "\n",
    "**El *[espacio de muestreo](https://es.wikipedia.org/wiki/Espacio_muestral)* hace referencia a la idea de que los posibles resultados de un [proceso aleatorio](https://es.wikipedia.org/wiki/Experimento_aleatorio) pueden ser pensados como puntos en el espacio**. En los casos más simples, este espacio puede consistir en sólo algunos puntos, pero en casos más complejos puede estar representado por un *continuo*, como el espacio en que vivimos.\n",
    "\n",
    "El *[espacio de muestreo](https://es.wikipedia.org/wiki/Espacio_muestral)* , en general se expresa con la letra $S$, y consiste en el conjunto de todos los resultados posibles de un *experimento*. Si el experimento consiste en el lanzamiento de una moneda, entonces el *[espacio de muestreo](https://es.wikipedia.org/wiki/Espacio_muestral)* será $S = \\{cara, cruz \\}$, ya que estas dos alternativas representan a todos los resultados posibles del *experimento*. **En definitiva el *[espacio de muestreo](https://es.wikipedia.org/wiki/Espacio_muestral)* no es más que una simple enumeración de todos los resultados posibles**, aunque las cosas nunca suelen ser tan simples como aparentan. Si en lugar de considerar el lanzamiento de una moneda, lanzamos dos monedas; uno podría pensar que el *[espacio de muestreo](https://es.wikipedia.org/wiki/Espacio_muestral)* para este caso será  $S = \\{\\text{ 2 caras}, \\text{2 cruces}, \\text{cara y cruz} \\}$; es decir que de acuerdo con este *[espacio de muestreo](https://es.wikipedia.org/wiki/Espacio_muestral)* la [probabilidad](https://es.wikipedia.org/wiki/Probabilidad) de que obtengamos dos caras es 1 en 3; pero la verdadera [probabilidad](https://es.wikipedia.org/wiki/Probabilidad) de obtener dos caras, confirmada por la experimentación, es 1 en 4; la cual se hace evidente si definimos correctamente el *[espacio de muestreo](https://es.wikipedia.org/wiki/Espacio_muestral)*, que será el siguiente: $S = \\{\\text{ 2 caras}, \\text{2 cruces}, \\text{cara y cruz}, \\text{cruz y cara} \\}$. Como este simple ejemplo nos enseña, **debemos ser muy cuidadosos al definir el *[espacio de muestreo](https://es.wikipedia.org/wiki/Espacio_muestral)***, ya que una mala definición del mismo, puede inducir a cálculos totalmente errados de la [probabilidad](https://es.wikipedia.org/wiki/Probabilidad).\n"
   ]
  },
  {
   "cell_type": "markdown",
   "metadata": {},
   "source": [
    "![imagen](./img/esp_muestral_monedas.png)"
   ]
  },
  {
   "cell_type": "markdown",
   "metadata": {},
   "source": [
    "\n",
    "## Calculando probabilidades\n",
    "\n",
    "Saber calcular la [probabilidad](https://es.wikipedia.org/wiki/Probabilidad) de que un evento o varios eventos ocurran puede ser una habilidad valiosa al tomar decisiones, ya sea en la vida real o jugando juegos de azar. **Cómo calcular la [probabilidad](https://es.wikipedia.org/wiki/Probabilidad), sin embargo, cambia dependiendo del tipo de evento que se está observando**. Por ejemplo, no calcularíamos nuestras posibilidades de ganar la lotería de la misma manera que calcularíamos nuestras posibilidades de obtener una [generala](https://es.wikipedia.org/wiki/Generala) servida en un juego de dados. Sin embargo, una vez que determinamos si los eventos son <a href=\"https://es.wikipedia.org/wiki/Independencia_(probabilidad)\">independientes</a>, [condicionales](https://es.wikipedia.org/wiki/Probabilidad_condicionada) o mutuamente excluyentes, calcular su probabilidad es relativamente simple.\n",
    "\n",
    "### Propiedades básicas de la probabilidad\n",
    "\n",
    "Antes de poder calcular las [probabilidades](https://es.wikipedia.org/wiki/Probabilidad), primero debemos conocer sus 3 propiedades fundamentales, ellas son:\n",
    "\n",
    "* La [probabilidad](https://es.wikipedia.org/wiki/Probabilidad) se expresa como un ratio que será un valor positivo menor o igual a 1.\n",
    "\n",
    "$ 0 \\le p(A) \\le 1$\n",
    "\n",
    "* La [probabilidad](https://es.wikipedia.org/wiki/Probabilidad) de un evento del que tenemos total certeza es 1.\n",
    "\n",
    "$ p(S) = 1 $\n",
    "\n",
    "A partir de estas propiedades básicas, se pueden derivar muchas otras propiedades.\n",
    "\n",
    "### Teoría de conjuntos y probabilidades\n",
    "\n",
    "En mi artículo sobre [conjuntos](http://relopezbriega.github.io/blog/2015/10/11/conjuntos-con-python/) comentaba que la [teoría de conjuntos](https://es.wikipedia.org/wiki/Teor%C3%ADa_de_conjuntos) se ha convertido en un pilar fundamental de las matemáticas, **casi cualquier rama de las matemáticas puede ser definida utilizando [conjuntos](http://relopezbriega.github.io/blog/2015/10/11/conjuntos-con-python/)**; y la [teoría de probabilidad](https://es.wikipedia.org/wiki/Teor%C3%ADa_de_la_probabilidad) no es la excepción. Antes de poder calcular  [probabilidades](https://es.wikipedia.org/wiki/Probabilidad), primero debemos discutir como se relacionan los eventos en términos de la [teoría de conjuntos](https://es.wikipedia.org/wiki/Teor%C3%ADa_de_conjuntos). Las relaciones que podemos encontrar son:\n",
    "\n",
    "\n",
    "* **Unión:** La unión de varios eventos simples crea un evento compuesto que ocurre si uno o más de los eventos ocurren. La unión de $A$ y $B$ se escribe $A \\cup B$ y significa \"Ya sea $A$ o $B$, o ambos $A$ y $B$.\"\n",
    "\n",
    "* **Intersección:** La intersección de dos o más eventos simples crea un evento compuesto que ocurre sólo si ocurren todos los eventos simples. La intersección de $A$ y $B$ se escribe $A \\cap B$ y significa \"$A$ y $B$.\"\n",
    "\n",
    "* **Complemento:** El complemento de un evento significa todo en el [espacio de muestreo](https://es.wikipedia.org/wiki/Espacio_muestral) que no es ese evento. El complemento del evento $A$ se escribe varias veces como $\\sim{A}$, $A^c$, o $\\overline{A}$, y se lee como \"no $A$\" o \"complemento $A$\".\n",
    "\n",
    "* **Exclusión mutua:** Si los eventos no pueden ocurrir juntos, son *mutuamente excluyentes*. Siguiendo la misma línea de razonamiento, si dos conjuntos no tienen ningún evento en común, son mutuamente excluyentes.\n",
    "\n",
    "Para el siguiente ejemplo, considera el conjunto A como personas que tienen bicicleta, mientras que B son aquellas personas que tienen coche.\n",
    "\n",
    "![imagen](./img/teoria_conjuntos.jpg)\n",
    "\n",
    "Imagina que tu espacio muestral son 9 personas, de los cuales tienes 5 ciudadanos españoles (A), y 4 de pelo castaño (B).\n",
    "\n",
    "![imagen](./img/pebble.png)\n"
   ]
  },
  {
   "cell_type": "markdown",
   "metadata": {},
   "source": [
    "Escogiendo una persona al azar del espacio muestral:\n",
    "\n",
    "* ¿Cuál es la probabilidad que sea un ciudadano español? $P(A)$ = 5/9 \n",
    "* ¿Cuál es la probabilidad de que tenga el pelo castaño? $P(B)$ = 4/9 \n",
    "* ¿Cuál es la probabilidad de que sea español o tenga el pelo castaño? $P(A \\cup B)$ = 8/9\n",
    "* ¿Cuál es la probabilidad de que sea español y tenga el pelo castaño? $P(A \\cap B)$ = 1/9\n",
    "* ¿Cuál es la probabilidad de que no sea español? $P(\\sim{A})$ = 4/9\n",
    "\n",
    "Si ahora el espacio muestral son 10 pelotas, 5 rojas y 3 amarillas, ¿cuál es la probabilidad de que una pelota sea roja y amarilla?"
   ]
  },
  {
   "cell_type": "markdown",
   "metadata": {},
   "source": [
    "A = roja\n",
    "B = amarilla\n",
    "\n",
    "Si sabemos que las pelotas son unicolores\n",
    "\n",
    "$P(A) = 5/10\n",
    "\n",
    "$P(B) = 3/10\n",
    "\n",
    "$P(A \\cap B)$ = 0\n",
    "\n",
    "$P(A \\cup B)$ = 8/10 = $P(A) + P(B)$"
   ]
  },
  {
   "cell_type": "markdown",
   "metadata": {},
   "source": [
    "### Calculando la probabilidad de múltiples eventos\n",
    "\n",
    "Ahora sí, ya podemos calcular las [probabilidades](https://es.wikipedia.org/wiki/Probabilidad) de los eventos. Recordemos que la [probabilidad](https://es.wikipedia.org/wiki/Probabilidad) de un solo evento se expresa como un ratio entre el número de resultados favorables sobre el número de los posibles resultados. Es lo que se conoce como *regla de Laplace*:\n",
    "\n",
    "$p(A) = \\frac{favorables}{posibles}$\n",
    "\n",
    "##### Ejemplo\n",
    "Lanzando un dado al aire, cuál es la probabilidad de que:\n",
    "\n",
    "**Salga un número par**\n",
    ">\n",
    "> Casos favorables: 2,4,6\n",
    ">\n",
    "> Casos posibles: 1,2,3,4,5,6\n",
    ">\n",
    "> P(par) = 3/6 = 1/2\n",
    "\n",
    "**Salga un múltiplo de 3**\n",
    ">\n",
    "> Casos favorables: 3,6\n",
    ">\n",
    "> Casos posibles: 1,2,3,4,5,6\n",
    ">\n",
    "> P(multiplo de 3) = 2/6 = 1/3\n",
    "\n",
    "**Salga un número mayor que 4**\n",
    ">\n",
    "> Casos favorables: 5,6\n",
    ">\n",
    "> Casos posibles: 1,2,3,4,5,6\n",
    ">\n",
    "> P(mayor  que 4) = 2/6 = 1/3\n",
    "\n",
    "[Más ejemplos](https://www.superprof.es/apuntes/escolar/matematicas/probabilidades/combinatoria/ley-de-laplace.html)\n"
   ]
  },
  {
   "cell_type": "markdown",
   "metadata": {},
   "source": [
    "#### Unión de eventos mutuamente excluyentes\n",
    "Si los eventos son *mutuamente excluyentes* entonces para calcular la [probabilidad](https://es.wikipedia.org/wiki/Probabilidad) de su unión, simplemente sumamos sus [probabilidades](https://es.wikipedia.org/wiki/Probabilidad) individuales. Su interesección es el vacío, es decir, la probabilidad de su intersección es 0 porque no se puede dar ambos eventos a la vez.\n",
    "\n",
    "$p(E \\cup F) = p(E) + p(F)$\n",
    "\n",
    "$p(E \\cap F) = 0$\n",
    "\n",
    "##### Ejemplo\n",
    "Vas al cine con tu pareja y no sabes qué entradas ha comprado. En la cartelera hay 5 peliculas: A, B, C, D, E. Teniendo en cuenta que tu película favorita es A:\n",
    "\n",
    "1. La probabilidad de ver tu película favorita.\n",
    "2. La probabilidad de NO ver tu película favorita.\n",
    "3. La probabilidad de que veas A o B(que también te gusta).\n",
    "4. La probabilidad de que veas A y B a la vez.\n",
    "\n",
    "Nota: en un caso real de ir al cine con tu pareja, la probabilidad de ver tu pelicula favorita sería de 0 :)"
   ]
  },
  {
   "cell_type": "markdown",
   "metadata": {},
   "source": [
    "![imagen](./img/mutuamente_excluyentes.png)\n",
    "\n",
    "#### Unión de eventos que no son mutuamente excluyentes\n",
    "Si los eventos no son *mutuamente excluyentes* entonces debemos corregir la fórmula anterior para incluir el efecto de la superposición de los eventos. Esta superposición se da en el lugar de la *intersección* de los eventos; por lo tanto la formula para calcular la [probabilidad](https://es.wikipedia.org/wiki/Probabilidad) de estos eventos es:\n",
    "\n",
    "$p(E \\cup F) = p(E) + p(F) - p(E \\cap F)$\n",
    "\n",
    "##### Ejemplo\n",
    "\n",
    "* Sacar una carta de oros y además que sea de espadas. Son eventos **mutuamente excluyentes**. O es de oros, o es de espadas\n",
    "* Sacar una carta de oros y un 5. Son eventos **mutuamente NO exluyentes**. Puede darse el caso de que la carta sea de oros y además un 5.\n",
    "\n",
    "![imagen](./img/mutuamente_no_excluyentes.png)"
   ]
  },
  {
   "cell_type": "markdown",
   "metadata": {},
   "source": [
    "#### Intersección de eventos independientes\n",
    "Para calcular la [probabilidad](https://es.wikipedia.org/wiki/Probabilidad) de que ocurran varios eventos (la intersección de varios eventos), se multiplican sus [probabilidades](https://es.wikipedia.org/wiki/Probabilidad) individuales. La fórmula específica utilizada dependerá de si los eventos son <a href=\"https://es.wikipedia.org/wiki/Independencia_(probabilidad)\">independientes</a> o no.\n",
    "Si son <a href=\"https://es.wikipedia.org/wiki/Independencia_(probabilidad)\">independientes</a>, la [probabilidad](https://es.wikipedia.org/wiki/Probabilidad) de $E$ y $F$ se calcula como:\n",
    "\n",
    "$p(E \\cap F) = p(E) \\times p(F)$\n",
    "\n",
    "#### Ejemplo\n",
    "Tiro tres dados. ¿Cuál es la probabilidad de que en las tres tiradas salga un 4? Se trata de tres eventos independientes, y la probabilidad de ocurra cada uno de ellos por separado es de 1/6.\n",
    "\n",
    "Por tanto, la probabilidad de que en las tres tiradas salga un 4, será de (1/6) * (1/6) * (1/6) = (1/216) = 0.46 %"
   ]
  },
  {
   "cell_type": "markdown",
   "metadata": {},
   "source": [
    "#### Intersección de eventos no independientes\n",
    "Si dos eventos no son <a href=\"https://es.wikipedia.org/wiki/Independencia_(probabilidad)\">independientes</a>, debemos conocer su [probabilidad condicional](https://es.wikipedia.org/wiki/Probabilidad_condicionada) para poder calcular la [probabilidad](https://es.wikipedia.org/wiki/Probabilidad) de que ambos se produzcan. La fórmula en este caso es:\n",
    "\n",
    "$p(E \\cap F) = p(E) \\times p(F|E)$\n",
    "\n",
    "#### Ejemplo\n",
    "Saco dos cartas de una baraja española (sin devolverlas al mazo), ¿cuál es la probabilidad de que ambas cartas sean reyes?\n",
    "\n",
    "Si el evento E es \"obtener un rey la primera vez que sacamos carta\", P(E) = 4/40. Si no devuelvo la carta al mazo, se quedaría con 39 cartas. Ahora necesito calcular la probabilidad del segundo evento, es decir, la probabilidad de que la segunda vez que saque carta sea un rey, codicionado al evento anterior, por tanto, P(F/E) = 3/39.\n",
    "\n",
    "Por tanto, nuestra probabilidad de obtener dos reyes en dos cartas consecutivas es de: (4/40) * (3/39) = 12/1560"
   ]
  },
  {
   "cell_type": "markdown",
   "metadata": {},
   "source": [
    "### La probabilidad condicional\n",
    "\n",
    "Con frecuencia queremos conocer la [probabilidad](https://es.wikipedia.org/wiki/Probabilidad) de algún evento, dado que otro evento ha ocurrido. **Esto se expresa simbólicamente como $p(E | F)$ y se lee como \"la [probabilidad](https://es.wikipedia.org/wiki/Probabilidad) de $E$ dado $F$\".** El segundo evento se conoce como la *condición* y el proceso se refiere a veces como \"condicionamiento en F\". La [probabilidad condicional](https://es.wikipedia.org/wiki/Probabilidad_condicionada) es un concepto importante de estadística, porque a menudo estamos tratando de establecer que un factor tiene una relación con un resultado, como por ejemplo, que las personas que fuman cigarrillos tienen más [probabilidades](https://es.wikipedia.org/wiki/Probabilidad) de desarrollar cáncer de pulmón. La [probabilidad condicional](https://es.wikipedia.org/wiki/Probabilidad_condicionada) también se puede usar para definir la <a href=\"https://es.wikipedia.org/wiki/Independencia_(probabilidad)\">independencia</a>. **Dos variables se dice que son <a href=\"https://es.wikipedia.org/wiki/Independencia_(probabilidad)\">independientes</a> si la siguiente relación se cumple:**\n",
    "\n",
    "$p(E | F) = p(E)$\n",
    "\n",
    "Probabilidad de ser fumador si eres asmático\n",
    "\n",
    "#### Calculando la probabilidad condicional\n",
    "Para calcular la probabilidad del evento $E$ dada la información de que el evento $F$ ha ocurrido utilizamos la siguiente formula:\n",
    "\n",
    "$p(E | F) = \\frac{p(E \\cap F)}{p(F)}$"
   ]
  },
  {
   "cell_type": "markdown",
   "metadata": {},
   "source": [
    "\n",
    "## Distintas interpretaciones de la probabilidad\n",
    "\n",
    "Las [probabilidades](https://es.wikipedia.org/wiki/Probabilidad) pueden ser interpretadas generalmente de dos maneras distintas.\n",
    "La interpretación *frecuentista* u *objetivista* de la [probabilidad](https://es.wikipedia.org/wiki/Probabilidad) es una perspectiva en la que las [probabilidades](https://es.wikipedia.org/wiki/Probabilidad) se consideran frecuencias relativas constantes a largo plazo. Este es el enfoque clásico de la [teoría de probabilidad](https://es.wikipedia.org/wiki/Teor%C3%ADa_de_la_probabilidad). La interpretación *Bayesiana* o *subjetivista* de la [probabilidad](https://es.wikipedia.org/wiki/Probabilidad) es una perspectiva en la que las [probabilidades](https://es.wikipedia.org/wiki/Probabilidad) son consideradas como *medidas de creencia* que pueden cambiar con el tiempo para reflejar nueva información.\n",
    "\n",
    "El *enfoque clásico* sostiene que los métodos *bayesianos* sufren de falta de objetividad, ya que diferentes individuos son libres de asignar diferentes [probabilidades](https://es.wikipedia.org/wiki/Probabilidad) al mismo evento según sus propias opiniones personales. Los *bayesianos* se oponen a los *clásicos* sosteniendo que la interpretación *frecuentista* de la [probabilidad](https://es.wikipedia.org/wiki/Probabilidad) tiene ya de por sí una subjetividad incorporada (por ejemplo, mediante la elección y el diseño del procedimiento de muestreo utilizado) y que la ventaja del *enfoque bayesiano* es que ya hace explícita esta subjetividad.\n",
    "En la actualidad, la mayoría de los problemas son abordados siguiendo un enfoque mixto entre ambas interpretaciones de la [probabilidad](https://es.wikipedia.org/wiki/Probabilidad). \n",
    "\n",
    "https://www.youtube.com/watch?v=GEFxFVESQXc\n",
    "\n",
    "## El poder de los números aleatorios\n",
    "\n",
    "Uno podría pensar que un comportamiento [aleatorio](https://es.wikipedia.org/wiki/Aleatoriedad) es caótico y totalmente opuesto a la razón, que sería una forma de renunciar a un problema, un último recurso. Pero lejos de esto, el sorprendente y cada vez más importante rol que viene desempeñando lo [aleatorio](https://es.wikipedia.org/wiki/Aleatoriedad) en las [ciencias de la computación](https://es.wikipedia.org/wiki/Ciencias_de_la_computaci%C3%B3n) nos enseña que el hacer un uso deliberado de lo [aleatorio](https://es.wikipedia.org/wiki/Aleatoriedad) puede ser una forma muy efectiva de abordar los problemas más difíciles; incluso en algunos casos, puede ser el único camino viable. Los [Algoritmos probabilísticos](https://es.wikipedia.org/wiki/Algoritmo_probabilista) como el método [Miller-Rabin](https://es.wikipedia.org/wiki/Test_de_primalidad_de_Miller-Rabin) para encontrar números primos y el [método de Monte Carlo](https://es.wikipedia.org/wiki/M%C3%A9todo_de_Montecarlo), nos demuestran lo poderoso que puede ser utilizar la [aleatoriedad](https://es.wikipedia.org/wiki/Aleatoriedad) para resolver problemas. Muchas veces, la mejor solución a un problema, puede ser simplemente dejarlo al azar en lugar de tratar de razonar totalmente su solución!"
   ]
  },
  {
   "cell_type": "markdown",
   "metadata": {},
   "source": [
    "## Independencia y ley de grandes números\n",
    "\n",
    "**Una de las cosas más fascinantes sobre el estudio de la [teoría de probabilidad](https://es.wikipedia.org/wiki/Teor%C3%ADa_de_la_probabilidad) es que si bien el comportamiento de un evento individual es totalmente impredecible, el comportamiento de una cantidad suficientemente grande de eventos se puede predecir con un alto grado de certeza!.**\n",
    "Si tomamos el caso clásico del lanzamiento de una moneda, no podemos predecir con exactitud cuantas caras podemos obtener luego de 10 tiradas, tal vez el azar haga que obtengamos 7, 10, o 3 caras, dependiendo de con cuanta suerte nos encontremos; pero si repetimos el lanzamiento un millón de veces, casi con seguridad que la cantidad de caras se aproximará a la verdadera *[probabilidad](https://es.wikipedia.org/wiki/Probabilidad)* subyacente del experimento, es decir, al 50% de los lanzamientos. Este comportamiento es lo que en la [teoría de probabilidad](https://es.wikipedia.org/wiki/Teor%C3%ADa_de_la_probabilidad) se conoce con el nombre de [ley de grandes números](https://es.wikipedia.org/wiki/Ley_de_los_grandes_n%C3%BAmeros); pero antes de poder definir esta ley, primero debemos describir otro concepto también muy importante, la <a href=\"https://es.wikipedia.org/wiki/Independencia_(probabilidad)\">independencia</a> de los [eventos](https://es.wikipedia.org/wiki/Evento_aleatorio) .\n",
    "\n",
    "### El concepto de independencia\n",
    "\n",
    "**En [teoría de probabilidad](https://es.wikipedia.org/wiki/Teor%C3%ADa_de_la_probabilidad), podemos decir que dos [eventos](https://es.wikipedia.org/wiki/Evento_aleatorio) son <a href=\"https://es.wikipedia.org/wiki/Independencia_(probabilidad)\">independientes</a> cuando la *[probabilidad](https://es.wikipedia.org/wiki/Probabilidad)* de cada uno de ellos no se ve afecta porque el otro evento ocurra**, es decir que no existe ninguna relación entre los [eventos](https://es.wikipedia.org/wiki/Evento_aleatorio). En el lanzamiento de la moneda; la moneda no sabe, ni le interesa saber si el resultado del lanzamiento anterior fue cara; cada lanzamiento es un suceso totalmente aislado el uno del otro y la *[probabilidad](https://es.wikipedia.org/wiki/Probabilidad)* del resultado va a ser siempre 50% en cada lanzamiento. \n",
    "\n",
    "### Ley de grandes números\n",
    "\n",
    "Ahora que ya conocemos el concepto de <a href=\"https://es.wikipedia.org/wiki/Independencia_(probabilidad)\">independencia</a>, estamos en condiciones de dar una definición más formal de la [ley de grandes números](https://es.wikipedia.org/wiki/Ley_de_los_grandes_n%C3%BAmeros), que junto con el [Teorema del límite central](https://es.wikipedia.org/wiki/Teorema_del_l%C3%ADmite_central), constituyen los cimientos de la [teoría de probabilidad](https://es.wikipedia.org/wiki/Teor%C3%ADa_de_la_probabilidad). Podemos formular esta ley de la siguiente manera: **si se repite un [experimento aleatorio](https://es.wikipedia.org/wiki/Experimento_aleatorio), bajo las mismas condiciones, un número ilimitado de veces; y si estas repeticiones son *<a href=\"https://es.wikipedia.org/wiki/Independencia_(probabilidad)\">independientes</a>* la una de la otra, entonces la frecuencia  de veces que un evento $A$ ocurra, convergerá con [probabilidad](https://es.wikipedia.org/wiki/Probabilidad) 1 a un número que es igual a la [probabilidad](https://es.wikipedia.org/wiki/Probabilidad) de que $A$ ocurra en una sola repetición del experimento.** Lo que esta ley nos enseña, es que la [probabilidad](https://es.wikipedia.org/wiki/Probabilidad) subyacente de cualquier suceso aleatorio puede ser aprendido por medio de la experimentación, simplemente tendríamos que repetirlo una cantidad suficientemente grande de veces!. Un error que la gente suele cometer y asociar a esta ley, es la idea de que un evento tiene más posibilidades de ocurrir porque ha o no ha ocurrido recientemente. Esta idea de que las chances de un evento con una [probabilidad](https://es.wikipedia.org/wiki/Probabilidad) fija, aumentan o disminuyen dependiendo de las ocurrencias recientes del evento, es un error que se conoce bajo el nombre de la **[falacia del apostador](https://es.wikipedia.org/wiki/Falacia_del_apostador).**\n",
    "\n",
    "https://www.youtube.com/watch?v=MntX3zWNWec"
   ]
  },
  {
   "cell_type": "markdown",
   "metadata": {},
   "source": [
    "![imagen](./img/ley_grandes_numeros.png)\n",
    "\n",
    "Para entender mejor la [ley de grandes números](https://es.wikipedia.org/wiki/Ley_de_los_grandes_n%C3%BAmeros), experimentemos con algunos ejemplos en [Python](https://www.python.org/). Utilicemos nuevamente el ejemplo del lanzamiento de la moneda, en el primer ejemplo, la moneda va a tener la misma posibilidad de caer en cara o cruz; mientras que en el segundo ejemplo, vamos a modificar la [probabilidad](https://es.wikipedia.org/wiki/Probabilidad) de la moneda para que caiga cara solo en 1 de 6 veces. "
   ]
  },
  {
   "cell_type": "code",
   "execution_count": null,
   "metadata": {},
   "outputs": [],
   "source": [
    "import numpy as np\n",
    "import pandas as pd \n",
    "import matplotlib.pyplot as plt\n",
    "# Ejemplo ley de grandes números\n",
    "# moneda p=1/2 cara=1 cruz=0\n",
    "resultados = []\n",
    "for lanzamientos in range(1,1000):\n",
    "    lanzamientos = np.random.choice([0,1], lanzamientos) \n",
    "    caras = lanzamientos.mean()\n",
    "    resultados.append(caras)\n",
    "    # print(resultados)\n",
    "\n",
    "# graficamente\n",
    "df = pd.DataFrame({ 'lanzamientos' : resultados})\n",
    "\n",
    "df.plot(title='Ley de grandes números',color='r',figsize=(8, 6))\n",
    "plt.axhline(0.5)\n",
    "plt.xlabel(\"Número de lanzamientos\")\n",
    "plt.ylabel(\"frecuencia caras\")\n",
    "# plt.xlim(0,100)\n",
    "plt.show()"
   ]
  },
  {
   "cell_type": "code",
   "execution_count": null,
   "metadata": {},
   "outputs": [],
   "source": [
    "lanzamiento_1 = [1]\n",
    "lanzamiento_2 = [0,1]\n",
    "lanzamiento_3 = [1,1,1]\n",
    "lanzamiento_4 = [1,1,0,0]\n",
    "\n",
    "print(np.mean(lanzamiento_1))\n",
    "print(np.mean(lanzamiento_2))\n",
    "print(np.mean(lanzamiento_3))\n",
    "print(np.mean(lanzamiento_4))"
   ]
  },
  {
   "cell_type": "code",
   "execution_count": null,
   "metadata": {},
   "outputs": [],
   "source": [
    "resultados[0:5]"
   ]
  },
  {
   "cell_type": "code",
   "execution_count": null,
   "metadata": {},
   "outputs": [],
   "source": [
    "# Modificar la probabilidad de la moneda para que caiga cara solo en 1 de 6 veces.\n",
    "# moneda p=1/6 cara=1 cruz=0\n",
    "resultados = []\n",
    "for lanzamientos in range(1,1000):\n",
    "    lanzamientos = np.random.choice([0,1], lanzamientos, p=[5/6, 1/6]) \n",
    "    caras = lanzamientos.mean()\n",
    "    resultados.append(caras)\n",
    "\n",
    "# graficamente\n",
    "df = pd.DataFrame({ 'lanzamientos' : resultados})\n",
    "\n",
    "df.plot(title='Ley de grandes números',color='r',figsize=(8, 6))\n",
    "plt.axhline(1/6)\n",
    "plt.xlabel(\"Número de lanzamientos\")\n",
    "plt.ylabel(\"frecuencia caras\")\n",
    "plt.show()"
   ]
  },
  {
   "cell_type": "markdown",
   "metadata": {},
   "source": [
    "# p-valor"
   ]
  },
  {
   "cell_type": "markdown",
   "metadata": {},
   "source": [
    "En la prueba estadística de hipótesis tenemos una idea que queremos probar, pero dado que es muy difícil demostrar que algo es cierto sin dejar lugar a dudas, en lugar de probar nuestra hipótesis directamente, formulamos una hipótesis competidora, llamada hipótesis nula, e intentamos refutarla. La hipótesis nula supone esencialmente que el efecto que observamos en los datos podría deberse simplemente al azar. \n",
    "\n",
    "Cuando llevamos a cabo un investigación científica a través de un análisis estadístico inferencial nos encontramos que la aceptación o refutación de la hipótesis nula dependen del valor p (p-value en inglés). La interpretación de este valor suele ser errónea y, aunque a efectos prácticos no repercute en la validez del estudio, entender bien su significado ayuda a tener una mejor comprensión y a ser más críticos con los resultados obtenidos.\n",
    "\n",
    "Normalmente el valor p se interpreta como:\n",
    "\n",
    "- __Definición del pueblo__: la probabilidad de errror de aceptar la hipotesis H1 como cierta y que en realidad sea falsa. \n",
    "- __Definición correcta__: la probabilidad de obtener el valor de la prueba estadística utilizada (por ejemplo, una comparación de medias a través de una prueba t) aceptando la hipótesis nula.\n",
    "\n"
   ]
  },
  {
   "cell_type": "markdown",
   "metadata": {},
   "source": [
    "El valor p (p-value) se calcula de manera diferente según el tipo de prueba estadística que estés realizando. Aquí hay una fórmula general que se utiliza para calcular el p-valor en pruebas de hipótesis con distribuciones de probabilidad conocidas, como la distribución normal o la binomial:\n",
    "\n",
    "\n",
    "$$ \\text{p-value}=P(\\text{Estadística   de prueba observada o más extremo}) $$\n",
    "\n",
    "Donde:\n",
    "- La \"Estadística de prueba observada\" es la estadística que calculas a partir de tus datos observados. Por ejemplo, en el ejemplo de la moneda trucada, la estadística de prueba es el valor Z que calculaste.\n",
    "- \"o más extremo\" se refiere a la cola de la distribución de probabilidad que estás considerando. Para pruebas de dos colas, significa tanto los valores extremadamente bajos como los extremadamente altos.\n",
    "\n",
    "La fórmula específica para calcular el p-valor depende del tipo de prueba estadística y la distribución de probabilidad subyacente. Por ejemplo, para pruebas Z en una distribución normal, se utiliza la función de distribución acumulativa (CDF) de la distribución normal para calcular el p-valor.\n",
    "\n",
    "En el ejemplo de una prueba Z en una distribución normal, la fórmula para el cálculo del p-valor sería:\n",
    "\n",
    "$$ p-valor=1−CDF(Z) $$\n",
    "\n",
    "Donde CDF(Z) es la probabilidad acumulativa de la distribución normal que corresponde a la estadística de prueba Z.\n",
    "\n",
    "Para pruebas más específicas, como pruebas t, chi-cuadrado o ANOVA, las fórmulas para calcular el p-valor son diferentes y se adaptan a la distribución específica utilizada en esa prueba.\n",
    "\n",
    "La elección de la fórmula y el cálculo exacto del p-valor dependen de la naturaleza de tu prueba estadística y la distribución de probabilidad asociada.\n",
    "\n",
    "\n",
    "\n",
    "\n",
    "la fórmula del p-valor se basa en el conteo de simulaciones que cumplen una condición específica. En tu caso, la fórmula del p-valor sería la siguiente:\n",
    "\n",
    "$$ \\text{p-value}= \\frac{\\text{Número de simulaciones en las que se cumple la condición o es más extrema }}{\\text{Número total de simulaciones}} $$\n",
    "\n",
    "Donde:\n",
    "\n",
    "- \"Número de simulaciones en las que se cumple la condición o es más extrema\" se refiere a cuántas veces se obtiene un resultado igual o más extremo que el observado en tus simulaciones. En tu caso, esto significa obtener 22 o más caras en 30 lanzamientos.\n",
    "- \"Número total de simulaciones\" es el número total de simulaciones realizadas, que en tu código es igual a 50,000.\n",
    "\n",
    "Esta fórmula representa la probabilidad empírica de obtener un resultado tan extremo o más extremo que el observado en tus simulaciones, asumiendo que la hipótesis nula es cierta. El p-valor se calcula a partir de tus datos observados y las simulaciones que cumplen la condición que estás evaluando."
   ]
  },
  {
   "cell_type": "markdown",
   "metadata": {},
   "source": [
    "\n",
    "Para entender este concepto, veamos un ejemplo. \n",
    "\n",
    "Supongamos que tenemos una moneda de 1€, y queremos jugar al famosísimo juego cara o cruz. La probabilidad de que salga cara es del 50%, mientras que la probabilidad de que salga cruz es 50%. Es decir, existe la misma probabilidad de que salga cara o cruz.  \n",
    "Imagina que estás realizando un experimento donde lanzas esta moneda 30 veces. Esperas que, si la moneda está bien, obtendrías aproximadamente 15 caras y 15 cruces en esos 30 lanzamientos. En nuestro experimento, vamos a averiguar si esta moneda es justa o no, y para ello, vamos a contar en cuantas ocasiones existe un caso extremo en el que obtengo 22 veces cara o más en 30 lanzamientos. Y repetiremos este experimento 50,000 simulaciones.\n",
    "\n",
    "Nuestro test estadístico es para averigar si la moneda está __trucada__.\n",
    "\n",
    "H1 y H0 son las hipótesis estadísticas en un test de hipótesis. En el contexto del ejemplo de lanzar una moneda, aquí están definidas:\n",
    "\n",
    "- H0 (Hipótesis nula): La hipótesis nula es la afirmación que quieres poner a prueba. En este caso, H0 afirmaría que la moneda es justa, es decir, que la probabilidad de obtener cara es 0.5. Entonces, H0 sería: \"La moneda es justa; la probabilidad de obtener cara es 0.5.\"\n",
    "\n",
    "- H1 (Hipótesis alternativa): La hipótesis alternativa es la afirmación que buscas apoyar si encuentras evidencia en contra de la hipótesis nula. En este caso, H1 afirmaría que la moneda está trucada, es decir, que la probabilidad de obtener cara no es igual a 0.5. Entonces, H1 sería: \"La moneda está trucada; la probabilidad de obtener cara no es igual a 0.5.\"\n",
    "\n",
    "El objetivo de un test de hipótesis es determinar si tienes suficiente evidencia para rechazar la hipótesis nula (H0) en favor de la hipótesis alternativa (H1) basándote en los datos recopilados."
   ]
  },
  {
   "cell_type": "code",
   "execution_count": null,
   "metadata": {},
   "outputs": [],
   "source": [
    "# Tiramos, en cada juego, la moneda 30 veces. Si sale más de 21 veces, sumamos uno. Repetimos el proceso n veces (50000).\n",
    "\n",
    "M = 0\n",
    "n = 50000\n",
    "for i in range(n):\n",
    "    trials = np.random.randint(2, size=30)\n",
    "    #print(trials)\n",
    "    if (trials.sum() >= 22):\n",
    "        M += 1\n",
    "p = M / n\n",
    "\n",
    "print(M)\n",
    "print(\"Simulated P-value: %0.1f%%\" % (p * 100))"
   ]
  },
  {
   "cell_type": "markdown",
   "metadata": {},
   "source": [
    "Ahora, para interpretar el resultado:\n",
    "\n",
    "- Si el valor p simulado es pequeño (por ejemplo, 0.05 o 5%), significa que en una proporción muy baja de las simulaciones se obtuvo un resultado tan extremo como el observado. Esto sugiere que es poco probable que la moneda sea justa, ya que obtener 22 o más caras en 30 lanzamientos es raro si la moneda es imparcial.\n",
    "- Si el valor p simulado es grande (por ejemplo, 0.50 o 50%), significa que en la mayoría de las simulaciones se obtuvo un resultado similar al observado, lo que sugiere que es más probable que la moneda sea justa.\n",
    "\n",
    "En el resultado impreso, el valor p simulado se expresa en porcentaje y se compara con un nivel de significancia predeterminado (generalmente 5% o 0.05). Si el valor p simulado es menor que el nivel de significancia, generalmente se rechaza la hipótesis nula (en este caso, que la moneda es justa) en favor de la hipótesis alternativa (que la moneda está sesgada). Por lo tanto, un valor p bajo (por debajo del nivel de significancia) sugeriría evidencia de que la moneda es trucada en favor de caras. Un valor p alto sugiere que no hay suficiente evidencia para afirmar que la moneda está trucada."
   ]
  },
  {
   "cell_type": "markdown",
   "metadata": {},
   "source": [
    "En un escenario donde M = 1 y n = 50,000, el p-valor sería 0.00002.\n",
    "\n",
    "Dado que el valor p simulado es extremadamente pequeño, esto significa que en una proporción muy baja de las simulaciones (solo en una de las 50,000) se obtuvo un resultado tan extremo como el observado (22 o más caras en 30 lanzamientos). Esto sugiere que es altamente improbable obtener un resultado tan extremo si la moneda fuera justa (probabilidad de cara = 0.5).\n",
    "\n",
    "En términos de la interpretación:\n",
    "\n",
    "- Con un valor p tan pequeño, generalmente se rechazaría la hipótesis nula (H0) en favor de la hipótesis alternativa (H1). En este caso, la hipótesis nula sería que la moneda es justa (probabilidad de cara = 0.5), y la hipótesis alternativa sería que la moneda está trucada (la probabilidad de cara no es igual a 0.5).\n",
    "- El valor p tan pequeño sugiere evidencia fuerte en contra de la hipótesis nula. En este caso, podríamos concluir que la moneda está probablemente trucada para que salga cara más a menudo de lo esperado.\n",
    "\n",
    "Por lo tanto, en esta situación, la interpretación sería que la evidencia sugiere que la moneda está sesgada a favor de caras, ya que es altamente improbable que se obtenga un resultado tan extremo en una moneda justa.\n",
    "\n",
    "\n",
    "### Pero no entiendo por qué hay que aceptar H1, que es que la moneda está trucada, si ese evento solo ha  ocurrido 1 vez\n",
    "\n",
    "Un valor p bajo (en este caso, 0.00002) indica que es poco probable que se obtenga un resultado tan extremo si la moneda fuera justa, pero no necesariamente significa que debas aceptar la hipótesis alternativa (H1) de que la moneda está trucada.\n",
    "\n",
    "El valor p por sí solo no determina si debes aceptar o rechazar una hipótesis. La interpretación de un valor p depende de un nivel de significancia predeterminado. Comúnmente se usa un nivel de significancia del 5% (0.05) en la toma de decisiones estadísticas.\n",
    "\n",
    "En un nivel de significancia del 0.05, si el valor p es menor que 0.05, generalmente se rechaza la hipótesis nula (H0) en favor de la hipótesis alternativa (H1). Sin embargo, si el valor p es mayor o igual a 0.05, generalmente no se rechaza la hipótesis nula.\n",
    "\n",
    "Con un valor p de 0.00002, si utilizas un nivel de significancia del 0.05, aún rechazarías la hipótesis nula, lo que sugiere que la moneda está sesgada. Pero es importante recordar que esta conclusión se basa en el nivel de significancia seleccionado. Si prefieres un nivel de significancia más estricto, como 0.01, podrías no rechazar la hipótesis nula en esta situación.\n",
    "\n",
    "En términos no matemáticos, el valor p tan pequeño te está diciendo que la probabilidad de que la moneda sea realmente justa, dada la evidencia que has observado, es muy baja. En otras palabras, la probabilidad de que obtuvieras ese resultado por pura casualidad en una moneda justa es extremadamente pequeña.\n",
    "\n",
    "Por lo tanto, en términos prácticos, cuando el valor p es tan pequeño (por debajo del nivel de significancia que elegiste, en este caso, 0.05), generalmente se toma como una fuerte evidencia de que la moneda está trucada en favor de caras, ya que es altamente improbable que hayas obtenido un resultado tan extremo si la moneda fuera justa. Por eso se tiende a aceptar la hipótesis alternativa (H1) en este escenario.\n",
    "\n",
    "\n",
    "### Pero si repitiera el evento mil millones de veces, que pasaría?\n",
    "\n",
    "Si repitieras el evento (lanzar la moneda 30 veces) un número muy grande de veces, digamos un mil millones de veces, y aún observaras que obtienes 22 caras o más en una cantidad muy pequeña de esas repeticiones, entonces la interpretación seguiría siendo la misma: que es extremadamente improbable que la moneda sea justa.\n",
    "\n",
    "La razón es que incluso en un gran número de repeticiones, si sigues observando que un resultado tan extremo (22 caras o más en 30 lanzamientos) es raro y poco frecuente, esto sugiere que la moneda está sesgada hacia las caras. Cuantas más repeticiones realices, más sólida será tu evidencia en contra de la hipótesis nula (que la moneda es justa).\n",
    "\n",
    "En resumen, la idea detrás del valor p y las pruebas de hipótesis es evaluar la probabilidad de que los resultados observados sean consistentes con la hipótesis nula (en este caso, que la moneda es justa). Cuanto más improbable sea el resultado bajo la hipótesis nula, más fuerte será la evidencia en contra de esa hipótesis. Por lo tanto, si en un gran número de repeticiones sigues obteniendo resultados extremadamente raros, la conclusión seguirá siendo que la moneda está probablemente trucada en favor de caras.\n",
    "\n",
    "\n",
    "### ¿Pero en un lanzamiento de mil millones de lanzamientos, no ha podido ser casualidad?\n",
    "\n",
    "Si realizas un gran número de lanzamientos (mil millones en este caso) y observas que obtienes 22 caras o más en una cantidad muy pequeña de esas repeticiones, es natural preguntarse si estos resultados extremos podrían deberse a la casualidad o a factores aleatorios.\n",
    "\n",
    "La probabilidad juega un papel importante en la estadística, y siempre existe la posibilidad de que eventos inusuales ocurran por pura casualidad. Sin embargo, el valor p se calcula precisamente para abordar esta cuestión. Un valor p pequeño, como 0.00002, indica que lo que has observado es extremadamente improbable bajo la hipótesis nula (que la moneda es justa) y sugiere que la probabilidad de que ocurra por casualidad es muy baja.\n",
    "\n",
    "En un escenario con un valor p tan pequeño y un gran número de repeticiones, la evidencia acumulada sugiere que es poco probable que los resultados extremos sean el resultado de la casualidad. La probabilidad de que ocurran estos resultados en una moneda justa se vuelve extremadamente baja a medida que aumenta el número de repeticiones. Esto refuerza la idea de que la moneda está trucada en favor de las caras.\n",
    "\n",
    "Aunque siempre existe la posibilidad de que eventos raros ocurran, la estadística y el valor p están diseñados para ayudarnos a evaluar cuándo la evidencia es lo suficientemente sólida como para tomar decisiones basadas en esa evidencia. En este caso, un valor p tan pequeño sugiere fuertemente que la moneda está sesgada, incluso en un gran número de repeticiones."
   ]
  }
 ],
 "metadata": {
  "file_extension": ".py",
  "kernelspec": {
   "display_name": "Python 3",
   "language": "python",
   "name": "python3"
  },
  "language_info": {
   "codemirror_mode": {
    "name": "ipython",
    "version": 3
   },
   "file_extension": ".py",
   "mimetype": "text/x-python",
   "name": "python",
   "nbconvert_exporter": "python",
   "pygments_lexer": "ipython3",
   "version": "3.8.10"
  },
  "mimetype": "text/x-python",
  "name": "python",
  "npconvert_exporter": "python",
  "pygments_lexer": "ipython3",
  "version": 3,
  "vscode": {
   "interpreter": {
    "hash": "ec2a379ed5c25334a484232182c9d38ef8bd9861e2542d0c517568c4f99a9a7c"
   }
  }
 },
 "nbformat": 4,
 "nbformat_minor": 4
}
