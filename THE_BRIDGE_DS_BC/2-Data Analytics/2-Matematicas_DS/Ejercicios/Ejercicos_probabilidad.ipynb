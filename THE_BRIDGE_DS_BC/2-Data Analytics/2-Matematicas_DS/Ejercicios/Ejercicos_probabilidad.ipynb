{
 "cells": [
  {
   "cell_type": "markdown",
   "metadata": {},
   "source": [
    "![imagen](./img/ejercicios.png)\n",
    "\n",
    "# Ejercicios probabilidad"
   ]
  },
  {
   "cell_type": "markdown",
   "metadata": {},
   "source": [
    "## Ejercicio 1\n",
    "#### Eventos mutuamente excluyentes\n",
    "En este ejercicio vamos a calcular las probabilidades conjuntas que tienen de ganar la liga de fútbol inglesa tres equipos. Suponiendo que las posibilidades de ganar el torneo para cada equipo serían:\n",
    "\n",
    "* Liverpool: P(A) = 1/3\n",
    "* Manchester City: P(B) = 1/5\n",
    "* Chelsea: P(C) = 1/9\n",
    "\n",
    "Se pide:\n",
    "\n",
    "1. Calcula la probabilidad de que gane la liga el Liverpool o el Manchester City\n",
    "2. Calcula la probabilidad de que gane la liga el Liverpool, el Manchester City o el Chelsea\n",
    "3. ¿Cuál es la probabilidad de que ninguno de estos equipos gane la liga?\n",
    "4. ¿Cuál es la probabilidad de que no ganen ni Liverpool ni Mancherster City?"
   ]
  },
  {
   "cell_type": "code",
   "execution_count": 1,
   "metadata": {},
   "outputs": [
    {
     "name": "stdout",
     "output_type": "stream",
     "text": [
      "45\n"
     ]
    },
    {
     "data": {
      "text/plain": [
       "(15.0, 9.0, 5.0)"
      ]
     },
     "execution_count": 1,
     "metadata": {},
     "output_type": "execute_result"
    }
   ],
   "source": [
    "\n",
    "import math\n",
    "\n",
    "def minimo_comun_multiplo_de_tres(a, b, c):\n",
    "    # Calcula el LCM de tres números utilizando calculando el MCM de los 2 primeros, y sumandolos al 3 --> Descomposicion\n",
    "    mcm_ab = abs(a * b) // math.gcd(a, b)\n",
    "    result = abs(mcm_ab * c) // math.gcd(mcm_ab, c)\n",
    "    return result\n",
    "\n",
    "denominador_comun = minimo_comun_multiplo_de_tres(3,5,9)\n",
    "print(denominador_comun)\n",
    "\n",
    "def calculo_numeradores(denominador_comun, denominadorA, denominadorB, denominadorC, numeradorA, numeradorB, numeradorC):\n",
    "    #Calculamos los numeradores el denominador comun\n",
    "    resultadoA = (denominador_comun/denominadorA)*numeradorA\n",
    "    resultadoB = (denominador_comun/denominadorB)*numeradorB\n",
    "    resultadoC = (denominador_comun/denominadorC)*numeradorC\n",
    "    return resultadoA, resultadoB, resultadoC\n",
    "    \n",
    "calculo_numeradores(denominador_comun, 3, 5, 9, 1, 1, 1)"
   ]
  },
  {
   "cell_type": "markdown",
   "metadata": {},
   "source": [
    "**1**\n",
    "\n",
    "15/45 + 9/45 = 24/45"
   ]
  },
  {
   "cell_type": "code",
   "execution_count": 8,
   "metadata": {},
   "outputs": [
    {
     "data": {
      "text/plain": [
       "0.5333333333333333"
      ]
     },
     "execution_count": 8,
     "metadata": {},
     "output_type": "execute_result"
    }
   ],
   "source": [
    "(15/45) + (9/45)"
   ]
  },
  {
   "cell_type": "markdown",
   "metadata": {},
   "source": [
    "**2**\n",
    "\n",
    "15/45 + 9/45 + 5/45= 29/45"
   ]
  },
  {
   "cell_type": "code",
   "execution_count": 9,
   "metadata": {},
   "outputs": [
    {
     "data": {
      "text/plain": [
       "0.6444444444444444"
      ]
     },
     "execution_count": 9,
     "metadata": {},
     "output_type": "execute_result"
    }
   ],
   "source": [
    "(15/45) + (9/45) + (5/45)"
   ]
  },
  {
   "cell_type": "markdown",
   "metadata": {},
   "source": [
    "**3**\n",
    "\n",
    "1 - 29/45"
   ]
  },
  {
   "cell_type": "code",
   "execution_count": 10,
   "metadata": {},
   "outputs": [
    {
     "data": {
      "text/plain": [
       "0.3555555555555555"
      ]
     },
     "execution_count": 10,
     "metadata": {},
     "output_type": "execute_result"
    }
   ],
   "source": [
    "1 - 29/45"
   ]
  },
  {
   "cell_type": "markdown",
   "metadata": {},
   "source": [
    "**4**\n",
    "\n",
    "1 - 24/45"
   ]
  },
  {
   "cell_type": "code",
   "execution_count": 11,
   "metadata": {},
   "outputs": [
    {
     "data": {
      "text/plain": [
       "0.4666666666666667"
      ]
     },
     "execution_count": 11,
     "metadata": {},
     "output_type": "execute_result"
    }
   ],
   "source": [
    "1-24/45"
   ]
  },
  {
   "cell_type": "markdown",
   "metadata": {},
   "source": [
    "## Ejercicio 2\n",
    "#### Eventos mutuamente excluyentes\n",
    "Para este ejercicio se va a trabajar con una baraja francesa, con las siguientes características:\n",
    "\n",
    "- En una baraja francesa hay diamantes, corazones, picas, y tréboles, siendo los diamantes y los corazones rojos, y las picas y los tréboles negros\n",
    "- La baraja la forman 52 cartas\n",
    "- La probabilidad de que salga un color u otro es de 26/52\n",
    "- La probabilidad de que salga un palo u otro es de 13/52\n",
    "\n",
    "Se pide:\n",
    "\n",
    "1. ¿Cuál es la probabilidad de sacar una carta que sea corazón y de color negro?\n",
    "2. ¿Cuál es la probabilidad de sacar una carta que sea corazón o de color negro?\n",
    "3. ¿Cuál es la probabilidad de sacar una carta que sea corazón y que además sea un rey?\n",
    "4. ¿Cuál es la probabilidad de sacar una carta que sea corazón o que además sea un rey?"
   ]
  },
  {
   "cell_type": "markdown",
   "metadata": {},
   "source": [
    "**1**\n",
    "\n",
    "13/52 * 0"
   ]
  },
  {
   "cell_type": "markdown",
   "metadata": {},
   "source": [
    "**2**\n",
    "\n",
    "13/52 + 26/52"
   ]
  },
  {
   "cell_type": "code",
   "execution_count": 12,
   "metadata": {},
   "outputs": [
    {
     "data": {
      "text/plain": [
       "0.75"
      ]
     },
     "execution_count": 12,
     "metadata": {},
     "output_type": "execute_result"
    }
   ],
   "source": [
    "13/52 + 26/52"
   ]
  },
  {
   "cell_type": "markdown",
   "metadata": {},
   "source": [
    "**3**\n",
    "\n",
    "1/52"
   ]
  },
  {
   "cell_type": "markdown",
   "metadata": {},
   "source": [
    "**4**\n",
    "\n",
    "13/52 + 4/52 - 1/52\n"
   ]
  },
  {
   "cell_type": "code",
   "execution_count": 13,
   "metadata": {},
   "outputs": [
    {
     "data": {
      "text/plain": [
       "0.3076923076923077"
      ]
     },
     "execution_count": 13,
     "metadata": {},
     "output_type": "execute_result"
    }
   ],
   "source": [
    "\n",
    "13/52 + 4/52 - 1/52"
   ]
  },
  {
   "cell_type": "markdown",
   "metadata": {},
   "source": [
    "## Ejercicio 3\n",
    "#### Eventos mutuamente NO excluyentes\n",
    "Un vendedor de zumos decide terminar su jornada y regalar el resto de su mercancía a cada transeunte. Para esto sirve en 15 vasos todo el zumo que no se vendió y les coloca una tapa. Los deja en el mostrador para que cada persona tome el que prefiera.\n",
    "\n",
    "Se sabe que el vendedor pudo llenar:\n",
    "\n",
    "* 3 vasos con zumo de sandía (color rojo) { s1 , s2 , s3 }      3/15\n",
    "* 6 vasos con naranja (color anaranjado) { n1 , n2 , n3 , n4 , n5 , n6 }    6/15\n",
    "* 3 vasos con mango (color anaranjado) { m1 , m2 , m3 }     3/15\n",
    "* 3 vasos con zumo de limón (color verde) { l1, l2 , l3 }       3/15\n",
    "\n",
    "Definir la probabilidad de que al tomar un vaso ocurran los siguientes eventos:\n",
    "\n",
    "1. Sea cítrico o anaranjado\n",
    "2. Sea cítrico o verde\n",
    "3. Sea de fruta o verde\n",
    "4. No sea cítrico o sea anaranjado"
   ]
  },
  {
   "cell_type": "markdown",
   "metadata": {},
   "source": [
    "**1**\n",
    "\n",
    "9/15 + 9/15 - (9/15-3/15)"
   ]
  },
  {
   "cell_type": "code",
   "execution_count": 16,
   "metadata": {},
   "outputs": [
    {
     "data": {
      "text/plain": [
       "0.7999999999999999"
      ]
     },
     "execution_count": 16,
     "metadata": {},
     "output_type": "execute_result"
    }
   ],
   "source": [
    "9/15 + 9/15 - (6/15)"
   ]
  },
  {
   "cell_type": "markdown",
   "metadata": {},
   "source": [
    "**2**\n",
    "\n",
    "9/15 + 3/15 - (3/15)"
   ]
  },
  {
   "cell_type": "code",
   "execution_count": 17,
   "metadata": {},
   "outputs": [
    {
     "data": {
      "text/plain": [
       "0.6000000000000001"
      ]
     },
     "execution_count": 17,
     "metadata": {},
     "output_type": "execute_result"
    }
   ],
   "source": [
    "9/15 + 3/15 - (3/15)\n"
   ]
  },
  {
   "cell_type": "markdown",
   "metadata": {},
   "source": [
    "**3**\n",
    "1 + 3/15 - 3/15"
   ]
  },
  {
   "cell_type": "code",
   "execution_count": 2,
   "metadata": {},
   "outputs": [
    {
     "data": {
      "text/plain": [
       "1"
      ]
     },
     "execution_count": 2,
     "metadata": {},
     "output_type": "execute_result"
    }
   ],
   "source": [
    "1\n"
   ]
  },
  {
   "cell_type": "markdown",
   "metadata": {},
   "source": [
    "**4**\n",
    "\n",
    "6/15 + 9/15 - 3/15"
   ]
  },
  {
   "cell_type": "code",
   "execution_count": 20,
   "metadata": {},
   "outputs": [
    {
     "data": {
      "text/plain": [
       "0.8"
      ]
     },
     "execution_count": 20,
     "metadata": {},
     "output_type": "execute_result"
    }
   ],
   "source": [
    "6/15 + 9/15 - 3/15"
   ]
  },
  {
   "cell_type": "markdown",
   "metadata": {},
   "source": [
    "## Ejercicio 4\n",
    "#### Probabilidad condicional\n",
    "Al 25% de tus amigos le gusta la fresa y el chocolate, mientras que al 60% le gusta el chocolate. ¿Cuál es la probabilidad de que a un amigo que le gusta el chocolate, le guste la fresa?"
   ]
  },
  {
   "cell_type": "markdown",
   "metadata": {},
   "source": [
    "**Calculamos la interseccion de ambos fenómenos y después lo dividimos por los fenómenos totales**\n",
    "\n",
    "Como la interseccion viene dada (25% entre A y B) y el fenómeno total es B (60%), solo hay que hacer la division\n"
   ]
  },
  {
   "cell_type": "code",
   "execution_count": 23,
   "metadata": {},
   "outputs": [
    {
     "data": {
      "text/plain": [
       "0.4166666666666667"
      ]
     },
     "execution_count": 23,
     "metadata": {},
     "output_type": "execute_result"
    }
   ],
   "source": [
    "25/60"
   ]
  },
  {
   "cell_type": "markdown",
   "metadata": {},
   "source": [
    "## Ejercicio 5\n",
    "#### Probabilidad condicional\n",
    "El 76 % de los estudiantes de Ingeniería Civil han aprobado resistencia de materiales y el 45 % aprobaron estática. Además, el 30 % aprobaron resistencia de materiales y estática. Si Camilo aprobó resistencia de materiales, ¿qué probabilidad tiene de haber aprobado también estática?"
   ]
  },
  {
   "cell_type": "markdown",
   "metadata": {},
   "source": [
    "**De los alumnos que aprobaron resistencia de materiales (Camilo, 76%), cogemos los que aprobaron estática (30%)**"
   ]
  },
  {
   "cell_type": "code",
   "execution_count": 27,
   "metadata": {},
   "outputs": [
    {
     "data": {
      "text/plain": [
       "0.39473684210526316"
      ]
     },
     "execution_count": 27,
     "metadata": {},
     "output_type": "execute_result"
    }
   ],
   "source": [
    "30/76"
   ]
  },
  {
   "cell_type": "markdown",
   "metadata": {},
   "source": [
    "## Ejercicio 6\n",
    "#### Probabilidad condicional\n",
    "Si un hincha compra una camiseta del Manchester y se da cuenta de que está defectuosa, ¿cuál es la probabilidad de que sea del Manchester?\n",
    "\n",
    "|Equipo/Camisetas|Buenas|Defectuosas|Total|\n",
    "|------|-----|-----|----\n",
    "|Juventus|508|92|600|\n",
    "|Manchester|315|85|400|\n",
    "|Total|823|177|1000|"
   ]
  },
  {
   "cell_type": "code",
   "execution_count": 40,
   "metadata": {},
   "outputs": [
    {
     "data": {
      "text/plain": [
       "0.085"
      ]
     },
     "execution_count": 40,
     "metadata": {},
     "output_type": "execute_result"
    }
   ],
   "source": [
    "defectuosas_Manchester = 85/1000\n",
    "defectuosas_Manchester"
   ]
  },
  {
   "cell_type": "code",
   "execution_count": 36,
   "metadata": {},
   "outputs": [
    {
     "data": {
      "text/plain": [
       "0.177"
      ]
     },
     "execution_count": 36,
     "metadata": {},
     "output_type": "execute_result"
    }
   ],
   "source": [
    "defectuosas_total = 177/1000\n",
    "defectuosas_total"
   ]
  },
  {
   "cell_type": "markdown",
   "metadata": {},
   "source": [
    "**De las defectuosas totales, cogemos las del Manchester totales**"
   ]
  },
  {
   "cell_type": "code",
   "execution_count": 41,
   "metadata": {},
   "outputs": [
    {
     "data": {
      "text/plain": [
       "0.48022598870056504"
      ]
     },
     "execution_count": 41,
     "metadata": {},
     "output_type": "execute_result"
    }
   ],
   "source": [
    "defectuosas_Manchester/defectuosas_total"
   ]
  }
 ],
 "metadata": {
  "kernelspec": {
   "display_name": "Python 3",
   "language": "python",
   "name": "python3"
  },
  "language_info": {
   "codemirror_mode": {
    "name": "ipython",
    "version": 3
   },
   "file_extension": ".py",
   "mimetype": "text/x-python",
   "name": "python",
   "nbconvert_exporter": "python",
   "pygments_lexer": "ipython3",
   "version": "3.8.10"
  }
 },
 "nbformat": 4,
 "nbformat_minor": 4
}
