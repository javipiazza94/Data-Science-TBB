{
 "cells": [
  {
   "cell_type": "markdown",
   "metadata": {
    "colab_type": "text",
    "id": "zWl5iuMThonQ"
   },
   "source": [
    "# Bajando datos de diferentes fuentes. Ejemplos"
   ]
  },
  {
   "cell_type": "markdown",
   "metadata": {
    "colab_type": "text",
    "id": "G8fjA0nyhonR"
   },
   "source": [
    "## Bajar datos de Bicimad"
   ]
  },
  {
   "cell_type": "code",
   "execution_count": null,
   "metadata": {},
   "outputs": [],
   "source": []
  },
  {
   "cell_type": "code",
   "execution_count": 1,
   "metadata": {
    "colab": {},
    "colab_type": "code",
    "id": "4xGwVDZxhonR"
   },
   "outputs": [],
   "source": [
    "# Importamos librerias\n",
    "import requests\n",
    "import zipfile\n",
    "import pandas as pd"
   ]
  },
  {
   "cell_type": "code",
   "execution_count": 2,
   "metadata": {},
   "outputs": [],
   "source": [
    "url = \"https://pbs.twimg.com/profile_images/616689518968762368/rkhjKqNb.jpg\"\n",
    "image = requests.get(url)"
   ]
  },
  {
   "cell_type": "code",
   "execution_count": 3,
   "metadata": {},
   "outputs": [
    {
     "data": {
      "text/plain": [
       "<Response [200]>"
      ]
     },
     "execution_count": 3,
     "metadata": {},
     "output_type": "execute_result"
    }
   ],
   "source": [
    "image"
   ]
  },
  {
   "cell_type": "code",
   "execution_count": 4,
   "metadata": {},
   "outputs": [],
   "source": [
    "with open(\"mutenrroy.jpg\", 'wb') as f:\n",
    "    f.write(image.content)"
   ]
  },
  {
   "cell_type": "code",
   "execution_count": null,
   "metadata": {
    "tags": []
   },
   "outputs": [],
   "source": [
    "# https://opendata.emtmadrid.es/getattachment/037ee8a5-b824-43b1-ac7b-76225c783993/201810_Usage_Bicimad.aspx\n",
    "\n",
    "\n",
    "url = 'https://opendata.emtmadrid.es/getattachment/037ee8a5-b824-43b1-ac7b-76225c783993/201810_Usage_Bicimad.aspx'\n",
    "\n",
    "r = requests.get(url)"
   ]
  },
  {
   "cell_type": "code",
   "execution_count": null,
   "metadata": {},
   "outputs": [],
   "source": [
    "# Guardamos el zip\n",
    "filename = 'bicis.zip'\n",
    "with open(filename, 'wb') as f:\n",
    "   f.write(r.content)"
   ]
  },
  {
   "cell_type": "code",
   "execution_count": null,
   "metadata": {
    "colab": {},
    "colab_type": "code",
    "id": "uVRFbVZrhonV"
   },
   "outputs": [],
   "source": [
    "# Extraemos lo que hay dentro\n",
    "filename = 'bicis.zip'\n",
    "with zipfile.ZipFile(filename, 'r') as zip_ref:\n",
    "    zip_ref.extractall(\".\")"
   ]
  },
  {
   "cell_type": "code",
   "execution_count": null,
   "metadata": {
    "colab": {},
    "colab_type": "code",
    "id": "uNGffwephonX"
   },
   "outputs": [],
   "source": [
    "# Leemos los datos\n",
    "datos_bicis = pd.read_json('201810_Usage_Bicimad.json', lines=True, encoding='latin-1', nrows=10000)"
   ]
  },
  {
   "cell_type": "code",
   "execution_count": null,
   "metadata": {
    "colab": {
     "base_uri": "https://localhost:8080/",
     "height": 309
    },
    "colab_type": "code",
    "id": "CF9u6xluhonZ",
    "outputId": "2e4e08fe-735e-4d35-ced1-2c83fc2fc743"
   },
   "outputs": [],
   "source": [
    "# Vemos qué pinta tienen\n",
    "datos_bicis.head()"
   ]
  },
  {
   "cell_type": "code",
   "execution_count": null,
   "metadata": {},
   "outputs": [],
   "source": [
    "datos_bicis['track']"
   ]
  },
  {
   "cell_type": "markdown",
   "metadata": {},
   "source": [
    "# Acceso a archivos de la pagina de datos.gob.es\n",
    "Uno de los mayores catálogos de información pública descargable en España"
   ]
  },
  {
   "cell_type": "code",
   "execution_count": null,
   "metadata": {
    "collapsed": true,
    "jupyter": {
     "outputs_hidden": true
    },
    "tags": []
   },
   "outputs": [],
   "source": [
    "# https://datos.gob.es/es/catalogo/ea0003337-principales-indicadores-de-sostenibilidad1\n",
    "\n",
    "url = \"https://data.renfe.com/dataset/928d911e-00ca-437b-be3f-068fc1f97800/resource/63d285e8-9f52-410b-8412-8a8c26f5ddb3/download/consumo-de-agua-y-materiales.csv\"\n",
    "# url = \"https://estadisticas.mecd.gob.es/EducaJaxiPx/files/_px/es/csv_c/Universitaria/Financiacion_gasto/2018/ingresos/l0/Pres_Ingr_PrevDRN_CA.px\"\n",
    "datos = pd.read_csv(url, sep = ';')\n",
    "datos"
   ]
  },
  {
   "cell_type": "code",
   "execution_count": null,
   "metadata": {},
   "outputs": [],
   "source": [
    "df = pd.read_csv('Pres_Ingr_PrevDRN_CAsc.csv', sep = ';', header = 5, encoding = 'latin-1')"
   ]
  },
  {
   "cell_type": "code",
   "execution_count": null,
   "metadata": {},
   "outputs": [],
   "source": [
    "df"
   ]
  },
  {
   "cell_type": "code",
   "execution_count": null,
   "metadata": {},
   "outputs": [],
   "source": [
    "datos.columns"
   ]
  },
  {
   "cell_type": "code",
   "execution_count": null,
   "metadata": {},
   "outputs": [],
   "source": [
    "url = 'https://opendata.euskadi.eus/contenidos/estadistica/tablas_essec_2020/es_tblestad/data/2016-2019_Tablas_es-.xlsx'\n",
    "datos_pvasco = pd.read_excel(url, sheet_name='P3', header=2)\n",
    "datos_pvasco"
   ]
  },
  {
   "cell_type": "code",
   "execution_count": null,
   "metadata": {},
   "outputs": [],
   "source": [
    "lista_hojas = ['P1','P2','P3']\n",
    "\n",
    "for hoja in lista_hojas:\n",
    "    datos_pvasco = pd.read_excel(url, sheet_name=hoja, header=2)\n",
    "    datos_pvasco.to_csv('Pais_vasco_hoja_' + str(hoja) + '.csv')"
   ]
  },
  {
   "cell_type": "code",
   "execution_count": null,
   "metadata": {
    "collapsed": true,
    "jupyter": {
     "outputs_hidden": true
    },
    "tags": []
   },
   "outputs": [],
   "source": [
    "import seaborn as sns\n",
    "sns.barplot(data = datos, x = 'Año', y = 'Aceites/grasas  (kg)')"
   ]
  },
  {
   "cell_type": "markdown",
   "metadata": {
    "colab_type": "text",
    "id": "GnScDfXghonv"
   },
   "source": [
    "## Bajando datos de la calidad del aire"
   ]
  },
  {
   "cell_type": "markdown",
   "metadata": {
    "colab_type": "text",
    "id": "oQL_gonKhonw",
    "tags": []
   },
   "source": [
    "También existe un dataset en Kaggle, pero vamos a ver un ejemplo"
   ]
  },
  {
   "cell_type": "code",
   "execution_count": null,
   "metadata": {
    "colab": {},
    "colab_type": "code",
    "id": "OPyVBu24honw"
   },
   "outputs": [],
   "source": [
    "import pandas as pd\n",
    "import requests\n",
    "import io\n",
    "import csv\n",
    "\n",
    "url2 = \"http://www.mambiente.munimadrid.es/opendata/horario.txt\"\n",
    "\n",
    "datos=pd.read_csv(url2, header=None)#.content\n"
   ]
  },
  {
   "cell_type": "code",
   "execution_count": null,
   "metadata": {
    "colab": {},
    "colab_type": "code",
    "collapsed": true,
    "id": "GTd8NHDLhony",
    "jupyter": {
     "outputs_hidden": true
    },
    "outputId": "bc75b9c6-cd36-4c39-ab2a-63dca3342e7a",
    "tags": []
   },
   "outputs": [],
   "source": [
    "datos"
   ]
  },
  {
   "cell_type": "markdown",
   "metadata": {},
   "source": [
    "# OpenStreetMap"
   ]
  },
  {
   "cell_type": "code",
   "execution_count": null,
   "metadata": {},
   "outputs": [],
   "source": [
    "# Amenities\n",
    "# https://wiki.openstreetmap.org/wiki/Key:amenity\n",
    "\n",
    "import requests\n",
    "import json\n",
    "import pandas as pd\n",
    "overpass_url = \"http://overpass-api.de/api/interpreter\"\n",
    "\n",
    "overpass_query = \"\"\"\n",
    "[out:json];\n",
    "node[\"amenity\"=\"cafe\"]\n",
    "  (40.420801, -3.694702,40.423754, -3.688167); \n",
    "out;\n",
    "\"\"\"\n",
    "response = requests.get(overpass_url, \n",
    "                        params={'data': overpass_query})\n",
    "print(response)\n",
    "data = response.json()"
   ]
  },
  {
   "cell_type": "code",
   "execution_count": null,
   "metadata": {
    "collapsed": true,
    "jupyter": {
     "outputs_hidden": true
    },
    "tags": []
   },
   "outputs": [],
   "source": [
    "data"
   ]
  },
  {
   "cell_type": "code",
   "execution_count": null,
   "metadata": {},
   "outputs": [],
   "source": [
    "data.keys()"
   ]
  },
  {
   "cell_type": "code",
   "execution_count": null,
   "metadata": {},
   "outputs": [],
   "source": [
    "data.get('osm3s')"
   ]
  },
  {
   "cell_type": "code",
   "execution_count": null,
   "metadata": {},
   "outputs": [],
   "source": [
    "data['osm3s']"
   ]
  },
  {
   "cell_type": "code",
   "execution_count": null,
   "metadata": {},
   "outputs": [],
   "source": [
    "data['osm3s']['copyright']"
   ]
  },
  {
   "cell_type": "code",
   "execution_count": null,
   "metadata": {},
   "outputs": [],
   "source": [
    "data['elements'][0].get('tags').get('addr:street', 34)"
   ]
  },
  {
   "cell_type": "code",
   "execution_count": null,
   "metadata": {},
   "outputs": [],
   "source": [
    "for element in data['elements']:\n",
    "    print(element)"
   ]
  },
  {
   "cell_type": "code",
   "execution_count": null,
   "metadata": {
    "collapsed": true,
    "jupyter": {
     "outputs_hidden": true
    },
    "tags": []
   },
   "outputs": [],
   "source": [
    "def json_to_dataframe(data_entrada):\n",
    "    elements = data_entrada['elements']\n",
    "    places = {'lat': [], 'lon': [], 'name': [], 'address': []}\n",
    "\n",
    "    for i in elements:\n",
    "        lalitude = i['lat']\n",
    "        longitude = i['lon']\n",
    "        name = i['tags'].get('name')\n",
    "        street = i['tags'].get('addr:street', 'Calle x')\n",
    "        number = i['tags'].get('addr:housenumber', 999)\n",
    "        \n",
    "        places['lat'].append(lalitude)\n",
    "        places['lon'].append(longitude)\n",
    "        places['name'].append(name)\n",
    "        places['address'].append(str(street) + ' ' + str(number))\n",
    "\n",
    "    df = pd.DataFrame(places)\n",
    "    return df"
   ]
  },
  {
   "cell_type": "code",
   "execution_count": null,
   "metadata": {},
   "outputs": [],
   "source": [
    "lista_responses = [data1, data2, data3, data4]\n",
    "for data in lista_responses:\n",
    "    df_return = json_to_dataframe(data)\n",
    "    df_results = df_results.concat(df_return)"
   ]
  },
  {
   "cell_type": "code",
   "execution_count": null,
   "metadata": {},
   "outputs": [],
   "source": [
    "places"
   ]
  },
  {
   "cell_type": "markdown",
   "metadata": {
    "colab_type": "text",
    "id": "JpS8k_tshonl"
   },
   "source": [
    "## Web scrapping de IMDB"
   ]
  },
  {
   "cell_type": "code",
   "execution_count": null,
   "metadata": {
    "colab": {},
    "colab_type": "code",
    "collapsed": true,
    "id": "mq61vOa_honl",
    "jupyter": {
     "outputs_hidden": true
    },
    "outputId": "51d09478-3b42-4620-c0dc-9349c9ad1327",
    "tags": []
   },
   "outputs": [],
   "source": [
    "from bs4 import BeautifulSoup\n",
    "import requests\n",
    "import re\n",
    "import pandas as pd\n",
    "\n",
    "# Download IMDB's Top 250 data\n",
    "url = 'http://www.imdb.com/chart/top'\n",
    "response = requests.get(url)\n",
    "soup = BeautifulSoup(response.text, 'lxml')\n",
    "\n",
    "movies = soup.select('td.titleColumn')\n",
    "links = [a.attrs.get('href') for a in soup.select('td.titleColumn a')]\n",
    "crew = [a.attrs.get('title') for a in soup.select('td.titleColumn a')]\n",
    "ratings = [b.attrs.get('data-value') for b in soup.select('td.posterColumn span[name=ir]')]\n",
    "votes = [b.attrs.get('data-value') for b in soup.select('td.ratingColumn strong')]\n",
    "\n",
    "imdb = []\n",
    "\n",
    "# Store each item into dictionary (data), then put those into a list (imdb)\n",
    "for index in range(0, len(movies)):\n",
    "    # Seperate movie into: 'place', 'title', 'year'\n",
    "    movie_string = movies[index].get_text()\n",
    "    movie = (' '.join(movie_string.split()).replace('.', ''))\n",
    "    movie_title = movie[len(str(index))+1:-7]\n",
    "    year = re.search('\\((.*?)\\)', movie_string).group(1)\n",
    "    place = movie[:len(str(index))-(len(movie))]\n",
    "    data = {\"movie_title\": movie_title,\n",
    "            \"year\": year,\n",
    "            \"place\": place,\n",
    "            \"star_cast\": crew[index],\n",
    "            \"rating\": ratings[index],\n",
    "            \"vote\": votes[index],\n",
    "            \"link\": links[index]}\n",
    "    imdb.append(data)\n",
    "df = pd.DataFrame(imdb)\n",
    "df\n",
    "\n",
    "\n",
    "#for item in imdb:\n",
    "#    print(item['place'], '-', item['movie_title'], '('+item['year']+') -', 'Starring:', item['star_cast'])"
   ]
  },
  {
   "cell_type": "markdown",
   "metadata": {
    "colab_type": "text",
    "id": "KoE5s2BThono"
   },
   "source": [
    "## Acediendo a datos de twitter\n",
    "Para esta demo utilizaremos el paquete [tweepy](https://www.tweepy.org/) para atacar datos de Twitter desde Python.\n",
    "\n",
    "Necesitamos registrarnos en la [web de desarrolladores](https://developer.twitter.com/en/apply-for-access) para obtener unas credenciales."
   ]
  },
  {
   "cell_type": "code",
   "execution_count": null,
   "metadata": {
    "colab": {},
    "colab_type": "code",
    "id": "kTUQb5vphono"
   },
   "outputs": [],
   "source": [
    "import tweepy  \n",
    "import time\n",
    "import csv\n",
    "\n",
    "import json\n",
    "\n",
    "with open('./credentials.json') as f:\n",
    "    credentials = json.load(f)\n",
    "    \n",
    "    \n",
    "# Credenciales de la web de desarroladores\n",
    "access_token = credentials['access_token']  \n",
    "access_token_secret = credentials['access_token_secret']  \n",
    "consumer_key = credentials['consumer_key']\n",
    "consumer_secret = credentials['consumer_secret'] \n",
    "\n",
    "# Nos autenticamos en la API\n",
    "try:\n",
    "    auth = tweepy.OAuthHandler(consumer_key, consumer_secret)  \n",
    "    auth.set_access_token(access_token, access_token_secret)  \n",
    "    api = tweepy.API(auth,wait_on_rate_limit=True)\n",
    "    print(\"Authentication OK\")\n",
    "except:\n",
    "    print(\"Error during authentication\")"
   ]
  },
  {
   "cell_type": "code",
   "execution_count": null,
   "metadata": {
    "colab": {},
    "colab_type": "code",
    "collapsed": true,
    "id": "tkNpF4Uwhonq",
    "jupyter": {
     "outputs_hidden": true
    },
    "outputId": "b8c02159-e16f-460f-eed5-2331e3f9c204",
    "tags": []
   },
   "outputs": [],
   "source": [
    "csvFile = open('tweet_covid19.csv', 'a')\n",
    "\n",
    "#Use csv Writer\n",
    "csvWriter = csv.writer(csvFile)\n",
    "\n",
    "for tweet in tweepy.Cursor(api.search,q=\"#COVID19\",count=50,\n",
    "                           lang=\"es\",\n",
    "                           since=\"2020-09-05\").items(50):\n",
    "    \n",
    "    print(tweet.created_at, tweet.text)\n",
    "    csvWriter.writerow([tweet.created_at, tweet.text.encode('utf-8')])"
   ]
  },
  {
   "cell_type": "markdown",
   "metadata": {},
   "source": [
    "## Datos del espacio"
   ]
  },
  {
   "cell_type": "code",
   "execution_count": null,
   "metadata": {
    "tags": []
   },
   "outputs": [],
   "source": [
    "'''\n",
    "https://thespacedevs.com/llapi\n",
    "https://ll.thespacedevs.com/2.2.0/swagger\n",
    "'''\n",
    "space_url = \"http://ll.thespacedevs.com/2.2.0\"\n",
    "\n",
    "path = \"/astronaut\"\n",
    "\n",
    "url_total = space_url + path\n",
    "\n",
    "response = requests.get(url_total)"
   ]
  },
  {
   "cell_type": "code",
   "execution_count": null,
   "metadata": {
    "collapsed": true,
    "jupyter": {
     "outputs_hidden": true
    },
    "tags": []
   },
   "outputs": [],
   "source": [
    "print(response.status_code)\n",
    "type(response.content)\n",
    "response.json()"
   ]
  },
  {
   "cell_type": "code",
   "execution_count": null,
   "metadata": {},
   "outputs": [],
   "source": [
    "url_total = space_url + path + \"/?nationality=Cuban\"\n",
    "\n",
    "response = requests.get(url_total)"
   ]
  },
  {
   "cell_type": "code",
   "execution_count": null,
   "metadata": {},
   "outputs": [],
   "source": [
    "url_total"
   ]
  },
  {
   "cell_type": "code",
   "execution_count": null,
   "metadata": {
    "tags": []
   },
   "outputs": [],
   "source": [
    "response.json()"
   ]
  },
  {
   "cell_type": "code",
   "execution_count": null,
   "metadata": {},
   "outputs": [],
   "source": []
  }
 ],
 "metadata": {
  "colab": {
   "name": "1-DataAccess.ipynb",
   "provenance": []
  },
  "interpreter": {
   "hash": "7c77fdb427e7cbc9bc1367dd530fc2b36aacdbbde1ac83c85833b10dfa8b831c"
  },
  "kernelspec": {
   "display_name": "Python 3.7.4 64-bit",
   "name": "python3"
  },
  "language_info": {
   "codemirror_mode": {
    "name": "ipython",
    "version": 3
   },
   "file_extension": ".py",
   "mimetype": "text/x-python",
   "name": "python",
   "nbconvert_exporter": "python",
   "pygments_lexer": "ipython3",
   "version": "3.8.10"
  }
 },
 "nbformat": 4,
 "nbformat_minor": 4
}
