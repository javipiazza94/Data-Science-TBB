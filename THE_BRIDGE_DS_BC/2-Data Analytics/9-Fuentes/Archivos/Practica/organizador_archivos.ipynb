{
 "cells": [
  {
   "cell_type": "markdown",
   "metadata": {},
   "source": [
    "# Práctica Archivos con Python\n",
    "\n",
    "Python es un lenguaje de propósito general, por lo que podemos desarrollar otros programas,\n",
    "aparte de ciencia de datos, que nos permitan montar dashboards, crear APIs o automatizar\n",
    "procesos. En este caso vas a automatizar un proceso, en el que tendrás que desarrollar un\n",
    "script que ordene todos los archivos de una carpeta, dependiendo de la extensión de los\n",
    "mismos.\n",
    "\n",
    "El objetivo es ordenar la típica carpeta de cajón desastre donde se nos acumulan archivos de\n",
    "todos los formatos como: imágenes, words, presentaciones, excels, ejecutables, zips, etc… Y\n",
    "que no vamos a ir viendo archivo a archivo, ordenándolos…. La solución suele ser eliminarlo\n",
    "todo. Vamos a intentar no tener que llegar a eso, ordenando los ficheros automáticamente en\n",
    "carpetas y revisar las que nos interesen. La típica carpeta donde aplicaríamos este programa es\n",
    "la de “Descargas”, donde se suelen acumular muchos archivos temporales.\n",
    "\n",
    "Por tanto, el programa tiene que guardar los archivos de la carpeta “Descargas” (o cualquier\n",
    "otra donde acumules mucho archivo temporal) en los siguientes directorios dentro de la\n",
    "propia carpeta “Descargas”:\n",
    "\n",
    "- Image: '.jpg', '.jpeg', '.png', '.svg', '.gif', '.tif', '.tiff'\n",
    "- Documents: '.doc', '.docx', '.txt', '.pdf', '.xls', '.ppt', '.xlsx', '.pptx'\n",
    "- Software: '.exe', '.pkg', '.dmg'\n",
    "- Others: resto de extensiones\n",
    "\n",
    "Cada vez que ejecutes el script, automáticamente se ordenarán todos los archivos en sus\n",
    "correspondientes carpetas.\n",
    "\n",
    "\n",
    "Tienes que crear la clase `FileVault`, cuyos parámetros son:\n",
    "- La ruta de la carpeta que quieres organizar\n",
    "- Las rutas de las carpetas en la que quieres guardar los tipos de archivos. Ten en cuenta que estas carpetas pueden existir, y el contenido de ellas NO PUEDE SER ALTERADO DE NINGUNA FORMA. \n",
    "- Las extensiones extra para ordenar, en forma de diccionario. El formato del diccionario sería:\n",
    "    - Clave: El grupo al que quieres añadir más extensiones\n",
    "    - Valor: Una lista con las extensiones que quieres añadir   \n",
    "\n",
    "Recuerda que no es necesario crear el diccionario entero con listas vacías si solo quiero añadir extensiones a un grupo. \n",
    "\n",
    "```python\n",
    "\n",
    "fv = FileVault('Descargas','Descargas/Imagenes','Descargas/Documentos','Descargas/Sofware','Descargas/Otros',{'image':['psd']})\n",
    "\n",
    "```\n",
    "\n",
    "Y las funciones:\n",
    "- `organize_documents()`: Para organizar solo los documentos\n",
    "- `organize_images()`: Para organizar solo las imagenes\n",
    "- `organize_sofware()`: Para organizar solo el software\n",
    "- `organize_others()`: Para organizar solo el resto  de extensiones\n",
    "- `organize()`: Para organizarlo todo\n",
    "- `create_test_files()`: Que creará un archivo de prueba para cada una de las extensiones descritas en la lista anterior con el fin de probar la función. \n",
    "- `print_extensions()`: Enseñará por pantalla las extensiones en un formato más amigable y vistoso que el print normal de python. \n"
   ]
  },
  {
   "cell_type": "code",
   "execution_count": 1,
   "metadata": {},
   "outputs": [
    {
     "data": {
      "text/plain": [
       "'c:\\\\Users\\\\Javi P. Piazza\\\\OneDrive\\\\Documents\\\\DOCUMENTOS\\\\INFORMATICA\\\\DATA SCIENCE\\\\GIT\\\\ALUMNOS\\\\THE_BRIDGE_DS_BC\\\\2-Data Analytics\\\\9-Archivos\\\\Practica'"
      ]
     },
     "execution_count": 1,
     "metadata": {},
     "output_type": "execute_result"
    }
   ],
   "source": [
    "import os\n",
    "os.getcwd()\n"
   ]
  },
  {
   "cell_type": "code",
   "execution_count": 2,
   "metadata": {},
   "outputs": [
    {
     "name": "stdout",
     "output_type": "stream",
     "text": [
      "C:\\Users\\Javi P. Piazza\\Downloads\n"
     ]
    }
   ],
   "source": [
    "os.chdir('C:\\\\Users\\\\Javi P. Piazza\\\\Downloads')\n",
    "print(os.getcwd())"
   ]
  },
  {
   "cell_type": "code",
   "execution_count": 3,
   "metadata": {},
   "outputs": [
    {
     "data": {
      "text/plain": [
       "['1643057532634_1632512137346_1630790699186_1617830529652_1616623209067_1616017316474_1598900577327_1582660496987_Autorregistro de cogniciones racionales (1) (1) (1) (1) (1) (1) (1).docx',\n",
       " '1645792615157_1634056796806_1618430989908_1604662589103_Autorizacion pacientes (1).docx',\n",
       " 'Carta de motivacion.docx',\n",
       " 'ChromeSetup.exe',\n",
       " 'Currículum de Javier Puente Piazza.pdf',\n",
       " 'desktop.ini',\n",
       " 'examen_resuelto.ipynb',\n",
       " 'Firefox Installer.exe',\n",
       " 'Javier_Puente_Piazza.ipynb',\n",
       " 'Libro de Familia y DNI de Jose Miguel Machio Diaz.rar',\n",
       " 'Los_protocolos_de_los_sabios_de_Sion_Ser.pdf',\n",
       " 'Numpy-Energia_Beatriz.ipynb',\n",
       " 'python-3.9.7-amd64.exe',\n",
       " 'roma antes via foro imperial.jpg',\n",
       " 'Rutinas de ejercicio.rar',\n",
       " 'VisualStudioSetup.exe']"
      ]
     },
     "execution_count": 3,
     "metadata": {},
     "output_type": "execute_result"
    }
   ],
   "source": [
    "os.listdir()"
   ]
  },
  {
   "cell_type": "code",
   "execution_count": 4,
   "metadata": {},
   "outputs": [
    {
     "name": "stdout",
     "output_type": "stream",
     "text": [
      "Notebook examen_resuelto.ipynb\n",
      "Notebook Javier_Puente_Piazza.ipynb\n",
      "Notebook Numpy-Energia_Beatriz.ipynb\n"
     ]
    }
   ],
   "source": [
    "for i in os.listdir():\n",
    "    if i.endswith('.ipynb'):\n",
    "        print(\"Notebook\", i)"
   ]
  },
  {
   "cell_type": "code",
   "execution_count": 5,
   "metadata": {},
   "outputs": [
    {
     "name": "stdout",
     "output_type": "stream",
     "text": [
      "Programas ChromeSetup.exe\n",
      "Programas Firefox Installer.exe\n",
      "Programas python-3.9.7-amd64.exe\n",
      "Programas VisualStudioSetup.exe\n"
     ]
    }
   ],
   "source": [
    "for i in os.listdir():\n",
    "    if i.endswith('.exe'):\n",
    "        print(\"Programas\", i)"
   ]
  },
  {
   "cell_type": "code",
   "execution_count": 6,
   "metadata": {},
   "outputs": [
    {
     "name": "stdout",
     "output_type": "stream",
     "text": [
      "Comprimidos Libro de Familia y DNI de Jose Miguel Machio Diaz.rar\n",
      "Comprimidos Rutinas de ejercicio.rar\n"
     ]
    }
   ],
   "source": [
    "for i in os.listdir():\n",
    "    if i.endswith('.rar'):\n",
    "        print(\"Comprimidos\", i)"
   ]
  },
  {
   "cell_type": "code",
   "execution_count": 7,
   "metadata": {},
   "outputs": [
    {
     "name": "stdout",
     "output_type": "stream",
     "text": [
      "Imagenes roma antes via foro imperial.jpg\n"
     ]
    }
   ],
   "source": [
    "for i in os.listdir():\n",
    "    if i.endswith('.jpg'):\n",
    "        print(\"Imagenes\", i)"
   ]
  },
  {
   "cell_type": "code",
   "execution_count": 8,
   "metadata": {},
   "outputs": [
    {
     "name": "stdout",
     "output_type": "stream",
     "text": [
      "PDFs Currículum de Javier Puente Piazza.pdf\n",
      "PDFs Los_protocolos_de_los_sabios_de_Sion_Ser.pdf\n"
     ]
    }
   ],
   "source": [
    "for i in os.listdir():\n",
    "    if i.endswith('.pdf'):\n",
    "        print(\"PDFs\", i)"
   ]
  },
  {
   "cell_type": "code",
   "execution_count": 9,
   "metadata": {},
   "outputs": [
    {
     "name": "stdout",
     "output_type": "stream",
     "text": [
      "Word 1643057532634_1632512137346_1630790699186_1617830529652_1616623209067_1616017316474_1598900577327_1582660496987_Autorregistro de cogniciones racionales (1) (1) (1) (1) (1) (1) (1).docx\n",
      "Word 1645792615157_1634056796806_1618430989908_1604662589103_Autorizacion pacientes (1).docx\n",
      "Word Carta de motivacion.docx\n"
     ]
    }
   ],
   "source": [
    "for i in os.listdir():\n",
    "    if i.endswith('.docx'):\n",
    "        print(\"Word\", i)"
   ]
  },
  {
   "cell_type": "code",
   "execution_count": 10,
   "metadata": {},
   "outputs": [],
   "source": [
    "for i in os.listdir():\n",
    "    if '.' not in i:\n",
    "        print(\"directorio\", i)"
   ]
  },
  {
   "cell_type": "code",
   "execution_count": 14,
   "metadata": {},
   "outputs": [],
   "source": [
    "import os\n",
    "import shutil\n",
    "\n",
    "class FileVault:\n",
    "    extensiones = {\n",
    "        'Image': ['.jpg', '.jpeg', '.png', '.svg', '.gif', '.tif', '.tiff'],\n",
    "        'Documents': ['.doc', '.docx', '.txt', '.pdf', '.xls', '.ppt', '.xlsx', '.pptx', 'ipynb'],\n",
    "        'Software': ['.exe', '.pkg', '.py', '.cs', '.html', '.js', 'sql', '.jar' ],\n",
    "        'Other': ['.rar', '.zip', '.JSON', ]\n",
    "    }\n",
    "\n",
    "    @staticmethod #No hace falta llamar a la clase para llamarlo\n",
    "    def organize(category):\n",
    "        # Ruta de la carpeta de destino\n",
    "        carpeta_destino = f'C:\\\\Users\\\\Javi P. Piazza\\\\Downloads\\\\{category}'\n",
    "\n",
    "        # Crear la carpeta de destino si no existe\n",
    "        if not os.path.exists(carpeta_destino):\n",
    "            os.mkdir(carpeta_destino)\n",
    "\n",
    "        # Cambiar al directorio original antes de iterar sobre los archivos\n",
    "        os.chdir('C:\\\\Users\\\\Javi P. Piazza\\\\Downloads')\n",
    "\n",
    "        for i in os.listdir():\n",
    "            if i.endswith(tuple(FileVault.extensiones[category])):\n",
    "                print(f\"{category}: {i}\")\n",
    "                # Ruta completa del archivo original\n",
    "                ruta_original = os.path.join(os.getcwd(), i)\n",
    "                # Ruta completa del destino\n",
    "                ruta_destino = os.path.join(carpeta_destino, i)\n",
    "                shutil.move(ruta_original, ruta_destino)\n",
    "\n",
    "    @classmethod\n",
    "    def organize_images(cls): #Al llamar al metodo estatico no es necesario instanciar el parametro\n",
    "        cls.organize_category('Image')\n",
    "\n",
    "    @classmethod\n",
    "    def organize_software(cls):\n",
    "        cls.organize_category('Software')\n",
    "\n",
    "    @classmethod\n",
    "    def organize_documents(cls):\n",
    "        cls.organize_category('Documents')\n",
    "\n",
    "    @classmethod\n",
    "    def organize_others(cls):\n",
    "        cls.organize_category('Other')\n",
    "    \n",
    "    @classmethod    \n",
    "    def create_test_file():\n",
    "        destined_path = os.path.join(os.getcwd(), 'test_file.txt')\n",
    "        with open(destined_path, \"w\") as f:\n",
    "            for i in range(10):\n",
    "                f.write(\"Line:\" + str(i) + \"\\n\")\n"
   ]
  },
  {
   "cell_type": "code",
   "execution_count": 12,
   "metadata": {},
   "outputs": [
    {
     "name": "stdout",
     "output_type": "stream",
     "text": [
      "Image: roma antes via foro imperial.jpg\n",
      "Documents: 1643057532634_1632512137346_1630790699186_1617830529652_1616623209067_1616017316474_1598900577327_1582660496987_Autorregistro de cogniciones racionales (1) (1) (1) (1) (1) (1) (1).docx\n",
      "Documents: 1645792615157_1634056796806_1618430989908_1604662589103_Autorizacion pacientes (1).docx\n",
      "Documents: Carta de motivacion.docx\n",
      "Documents: Currículum de Javier Puente Piazza.pdf\n",
      "Documents: examen_resuelto.ipynb\n",
      "Documents: Javier_Puente_Piazza.ipynb\n",
      "Documents: Los_protocolos_de_los_sabios_de_Sion_Ser.pdf\n",
      "Documents: Numpy-Energia_Beatriz.ipynb\n",
      "Software: ChromeSetup.exe\n",
      "Software: Firefox Installer.exe\n",
      "Software: python-3.9.7-amd64.exe\n",
      "Software: VisualStudioSetup.exe\n",
      "Other: Libro de Familia y DNI de Jose Miguel Machio Diaz.rar\n",
      "Other: Rutinas de ejercicio.rar\n"
     ]
    }
   ],
   "source": [
    "    # Organizar archivos según cada categoría\n",
    "organizador_de_carpetas = FileVault()\n",
    "for categoria in organizador_de_carpetas.extensiones:\n",
    "        organizador_de_carpetas.organize(categoria)"
   ]
  },
  {
   "cell_type": "code",
   "execution_count": 13,
   "metadata": {},
   "outputs": [
    {
     "ename": "TypeError",
     "evalue": "create_test_file() takes 0 positional arguments but 1 was given",
     "output_type": "error",
     "traceback": [
      "\u001b[1;31m---------------------------------------------------------------------------\u001b[0m",
      "\u001b[1;31mTypeError\u001b[0m                                 Traceback (most recent call last)",
      "Cell \u001b[1;32mIn[13], line 2\u001b[0m\n\u001b[0;32m      1\u001b[0m carpeta \u001b[38;5;241m=\u001b[39m FileVault()\n\u001b[1;32m----> 2\u001b[0m \u001b[43mcarpeta\u001b[49m\u001b[38;5;241;43m.\u001b[39;49m\u001b[43mcreate_test_file\u001b[49m\u001b[43m(\u001b[49m\u001b[43m)\u001b[49m\n",
      "\u001b[1;31mTypeError\u001b[0m: create_test_file() takes 0 positional arguments but 1 was given"
     ]
    }
   ],
   "source": [
    "carpeta = FileVault()\n",
    "carpeta.create_test_file()"
   ]
  },
  {
   "cell_type": "markdown",
   "metadata": {},
   "source": [
    "Me sale este error sin poner ni un solo argumento. Lo efectuo fuera de la clase como funcion y funciona"
   ]
  },
  {
   "cell_type": "code",
   "execution_count": 15,
   "metadata": {},
   "outputs": [],
   "source": [
    "def create_test_file():\n",
    "        destined_path = os.path.join(os.getcwd(), 'test_file.txt')\n",
    "        with open(destined_path, \"w\") as f:\n",
    "            for i in range(10):\n",
    "                f.write(\"Line:\" + str(i) + \"\\n\")"
   ]
  },
  {
   "cell_type": "code",
   "execution_count": 16,
   "metadata": {},
   "outputs": [],
   "source": [
    "prueba = create_test_file()"
   ]
  },
  {
   "cell_type": "code",
   "execution_count": null,
   "metadata": {},
   "outputs": [],
   "source": []
  }
 ],
 "metadata": {
  "kernelspec": {
   "display_name": "Python 3",
   "language": "python",
   "name": "python3"
  },
  "language_info": {
   "codemirror_mode": {
    "name": "ipython",
    "version": 3
   },
   "file_extension": ".py",
   "mimetype": "text/x-python",
   "name": "python",
   "nbconvert_exporter": "python",
   "pygments_lexer": "ipython3",
   "version": "3.8.10"
  },
  "orig_nbformat": 4
 },
 "nbformat": 4,
 "nbformat_minor": 2
}
