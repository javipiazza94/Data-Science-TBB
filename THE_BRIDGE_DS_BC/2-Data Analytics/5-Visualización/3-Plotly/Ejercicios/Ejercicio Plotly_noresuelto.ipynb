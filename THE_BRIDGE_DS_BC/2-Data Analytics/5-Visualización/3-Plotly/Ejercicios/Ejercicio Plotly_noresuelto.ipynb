{
 "cells": [
  {
   "cell_type": "markdown",
   "metadata": {
    "id": "fBwh3Bypimha"
   },
   "source": [
    "# Interactive Visualization Lab - Superstore Dataset\n",
    "\n",
    "Completa el siguiente conjunto de ejercicios para consolidar tus conocimientos sobre la visualización interactiva utilizando Plotly."
   ]
  },
  {
   "cell_type": "markdown",
   "metadata": {},
   "source": [
    "0. Leer los datos.\n",
    "1. Crea un gráfico de barras interactivo que muestre las ventas totales por Estado en 2014.\n",
    "2. Crea un gráfico de líneas interactivo que muestre las ventas y los beneficios en 2014.\n",
    "3. Crea un conjunto de 3 histogramas interactivos que muestren las distribuciones de cantidad por pedido para los siguientes estados: California, Nueva York y Texas.\n",
    "4. Crea un gráfico de barras apiladas interactivo que muestre los ingresos por estado (barras) para cada una de las categorías de productos para California, Nueva York y Texas.\n",
    "5. Crea un gráfico de líneas interactivo que muestre la venta por día para California."
   ]
  },
  {
   "cell_type": "code",
   "execution_count": 2,
   "metadata": {},
   "outputs": [
    {
     "data": {
      "text/html": [
       "        <script type=\"text/javascript\">\n",
       "        window.PlotlyConfig = {MathJaxConfig: 'local'};\n",
       "        if (window.MathJax && window.MathJax.Hub && window.MathJax.Hub.Config) {window.MathJax.Hub.Config({SVG: {font: \"STIX-Web\"}});}\n",
       "        if (typeof require !== 'undefined') {\n",
       "        require.undef(\"plotly\");\n",
       "        requirejs.config({\n",
       "            paths: {\n",
       "                'plotly': ['https://cdn.plot.ly/plotly-2.27.0.min']\n",
       "            }\n",
       "        });\n",
       "        require(['plotly'], function(Plotly) {\n",
       "            window._Plotly = Plotly;\n",
       "        });\n",
       "        }\n",
       "        </script>\n",
       "        "
      ]
     },
     "metadata": {},
     "output_type": "display_data"
    },
    {
     "name": "stdout",
     "output_type": "stream",
     "text": [
      "['Sample - Superstore.xlsx']\n"
     ]
    }
   ],
   "source": [
    "# Importación de bibliotecas necesarias\n",
    "import numpy as np\n",
    "import pandas as pd\n",
    "import matplotlib.pyplot as plt\n",
    "import plotly as py\n",
    "import plotly.offline as pyo\n",
    "from plotly.offline import init_notebook_mode, iplot, plot\n",
    "init_notebook_mode(connected=True)\n",
    "import plotly.graph_objs as go\n",
    "\n",
    "# Biblioteca de nubes de palabras\n",
    "from wordcloud import WordCloud\n",
    "\n",
    "# Verificando el contenido del directorio \"./data\"\n",
    "import os\n",
    "print(os.listdir(\"./data\"))\n",
    "\n",
    "# Cualquier resultado que escribas en el directorio actual se guarda como salida.\n",
    "# Ignorando advertencias para obtener una salida más limpia\n",
    "import warnings\n",
    "warnings.filterwarnings(\"ignore\")\n"
   ]
  },
  {
   "cell_type": "code",
   "execution_count": 5,
   "metadata": {},
   "outputs": [
    {
     "name": "stdout",
     "output_type": "stream",
     "text": [
      "Collecting openpyxl\n",
      "  Downloading openpyxl-3.1.2-py2.py3-none-any.whl (249 kB)\n",
      "     ---------------------------------------- 0.0/250.0 kB ? eta -:--:--\n",
      "     -------------------------------------  245.8/250.0 kB 7.6 MB/s eta 0:00:01\n",
      "     -------------------------------------- 250.0/250.0 kB 7.7 MB/s eta 0:00:00\n",
      "Collecting et-xmlfile (from openpyxl)\n",
      "  Downloading et_xmlfile-1.1.0-py3-none-any.whl (4.7 kB)\n",
      "Installing collected packages: et-xmlfile, openpyxl\n",
      "Successfully installed et-xmlfile-1.1.0 openpyxl-3.1.2\n"
     ]
    }
   ],
   "source": [
    "!pip install openpyxl"
   ]
  },
  {
   "cell_type": "code",
   "execution_count": 79,
   "metadata": {},
   "outputs": [
    {
     "data": {
      "text/html": [
       "<div>\n",
       "<style scoped>\n",
       "    .dataframe tbody tr th:only-of-type {\n",
       "        vertical-align: middle;\n",
       "    }\n",
       "\n",
       "    .dataframe tbody tr th {\n",
       "        vertical-align: top;\n",
       "    }\n",
       "\n",
       "    .dataframe thead th {\n",
       "        text-align: right;\n",
       "    }\n",
       "</style>\n",
       "<table border=\"1\" class=\"dataframe\">\n",
       "  <thead>\n",
       "    <tr style=\"text-align: right;\">\n",
       "      <th></th>\n",
       "      <th>Order ID</th>\n",
       "      <th>Order Date</th>\n",
       "      <th>Ship Date</th>\n",
       "      <th>Ship Mode</th>\n",
       "      <th>Customer ID</th>\n",
       "      <th>Customer Name</th>\n",
       "      <th>Segment</th>\n",
       "      <th>Country</th>\n",
       "      <th>City</th>\n",
       "      <th>State</th>\n",
       "      <th>Postal Code</th>\n",
       "      <th>Region</th>\n",
       "      <th>Product ID</th>\n",
       "      <th>Category</th>\n",
       "      <th>Sub-Category</th>\n",
       "      <th>Product Name</th>\n",
       "      <th>Sales</th>\n",
       "      <th>Quantity</th>\n",
       "      <th>Discount</th>\n",
       "      <th>Profit</th>\n",
       "    </tr>\n",
       "  </thead>\n",
       "  <tbody>\n",
       "    <tr>\n",
       "      <th>0</th>\n",
       "      <td>CA-2016-152156</td>\n",
       "      <td>2016-11-08</td>\n",
       "      <td>2016-11-11</td>\n",
       "      <td>Second Class</td>\n",
       "      <td>CG-12520</td>\n",
       "      <td>Claire Gute</td>\n",
       "      <td>Consumer</td>\n",
       "      <td>United States</td>\n",
       "      <td>Henderson</td>\n",
       "      <td>Kentucky</td>\n",
       "      <td>42420</td>\n",
       "      <td>South</td>\n",
       "      <td>FUR-BO-10001798</td>\n",
       "      <td>Furniture</td>\n",
       "      <td>Bookcases</td>\n",
       "      <td>Bush Somerset Collection Bookcase</td>\n",
       "      <td>261.9600</td>\n",
       "      <td>2</td>\n",
       "      <td>0.00</td>\n",
       "      <td>41.9136</td>\n",
       "    </tr>\n",
       "    <tr>\n",
       "      <th>1</th>\n",
       "      <td>CA-2016-152156</td>\n",
       "      <td>2016-11-08</td>\n",
       "      <td>2016-11-11</td>\n",
       "      <td>Second Class</td>\n",
       "      <td>CG-12520</td>\n",
       "      <td>Claire Gute</td>\n",
       "      <td>Consumer</td>\n",
       "      <td>United States</td>\n",
       "      <td>Henderson</td>\n",
       "      <td>Kentucky</td>\n",
       "      <td>42420</td>\n",
       "      <td>South</td>\n",
       "      <td>FUR-CH-10000454</td>\n",
       "      <td>Furniture</td>\n",
       "      <td>Chairs</td>\n",
       "      <td>Hon Deluxe Fabric Upholstered Stacking Chairs,...</td>\n",
       "      <td>731.9400</td>\n",
       "      <td>3</td>\n",
       "      <td>0.00</td>\n",
       "      <td>219.5820</td>\n",
       "    </tr>\n",
       "    <tr>\n",
       "      <th>2</th>\n",
       "      <td>CA-2016-138688</td>\n",
       "      <td>2016-06-12</td>\n",
       "      <td>2016-06-16</td>\n",
       "      <td>Second Class</td>\n",
       "      <td>DV-13045</td>\n",
       "      <td>Darrin Van Huff</td>\n",
       "      <td>Corporate</td>\n",
       "      <td>United States</td>\n",
       "      <td>Los Angeles</td>\n",
       "      <td>California</td>\n",
       "      <td>90036</td>\n",
       "      <td>West</td>\n",
       "      <td>OFF-LA-10000240</td>\n",
       "      <td>Office Supplies</td>\n",
       "      <td>Labels</td>\n",
       "      <td>Self-Adhesive Address Labels for Typewriters b...</td>\n",
       "      <td>14.6200</td>\n",
       "      <td>2</td>\n",
       "      <td>0.00</td>\n",
       "      <td>6.8714</td>\n",
       "    </tr>\n",
       "    <tr>\n",
       "      <th>3</th>\n",
       "      <td>US-2015-108966</td>\n",
       "      <td>2015-10-11</td>\n",
       "      <td>2015-10-18</td>\n",
       "      <td>Standard Class</td>\n",
       "      <td>SO-20335</td>\n",
       "      <td>Sean O'Donnell</td>\n",
       "      <td>Consumer</td>\n",
       "      <td>United States</td>\n",
       "      <td>Fort Lauderdale</td>\n",
       "      <td>Florida</td>\n",
       "      <td>33311</td>\n",
       "      <td>South</td>\n",
       "      <td>FUR-TA-10000577</td>\n",
       "      <td>Furniture</td>\n",
       "      <td>Tables</td>\n",
       "      <td>Bretford CR4500 Series Slim Rectangular Table</td>\n",
       "      <td>957.5775</td>\n",
       "      <td>5</td>\n",
       "      <td>0.45</td>\n",
       "      <td>-383.0310</td>\n",
       "    </tr>\n",
       "    <tr>\n",
       "      <th>4</th>\n",
       "      <td>US-2015-108966</td>\n",
       "      <td>2015-10-11</td>\n",
       "      <td>2015-10-18</td>\n",
       "      <td>Standard Class</td>\n",
       "      <td>SO-20335</td>\n",
       "      <td>Sean O'Donnell</td>\n",
       "      <td>Consumer</td>\n",
       "      <td>United States</td>\n",
       "      <td>Fort Lauderdale</td>\n",
       "      <td>Florida</td>\n",
       "      <td>33311</td>\n",
       "      <td>South</td>\n",
       "      <td>OFF-ST-10000760</td>\n",
       "      <td>Office Supplies</td>\n",
       "      <td>Storage</td>\n",
       "      <td>Eldon Fold 'N Roll Cart System</td>\n",
       "      <td>22.3680</td>\n",
       "      <td>2</td>\n",
       "      <td>0.20</td>\n",
       "      <td>2.5164</td>\n",
       "    </tr>\n",
       "  </tbody>\n",
       "</table>\n",
       "</div>"
      ],
      "text/plain": [
       "         Order ID Order Date  Ship Date       Ship Mode Customer ID  \\\n",
       "0  CA-2016-152156 2016-11-08 2016-11-11    Second Class    CG-12520   \n",
       "1  CA-2016-152156 2016-11-08 2016-11-11    Second Class    CG-12520   \n",
       "2  CA-2016-138688 2016-06-12 2016-06-16    Second Class    DV-13045   \n",
       "3  US-2015-108966 2015-10-11 2015-10-18  Standard Class    SO-20335   \n",
       "4  US-2015-108966 2015-10-11 2015-10-18  Standard Class    SO-20335   \n",
       "\n",
       "     Customer Name    Segment        Country             City       State  \\\n",
       "0      Claire Gute   Consumer  United States        Henderson    Kentucky   \n",
       "1      Claire Gute   Consumer  United States        Henderson    Kentucky   \n",
       "2  Darrin Van Huff  Corporate  United States      Los Angeles  California   \n",
       "3   Sean O'Donnell   Consumer  United States  Fort Lauderdale     Florida   \n",
       "4   Sean O'Donnell   Consumer  United States  Fort Lauderdale     Florida   \n",
       "\n",
       "   Postal Code Region       Product ID         Category Sub-Category  \\\n",
       "0        42420  South  FUR-BO-10001798        Furniture    Bookcases   \n",
       "1        42420  South  FUR-CH-10000454        Furniture       Chairs   \n",
       "2        90036   West  OFF-LA-10000240  Office Supplies       Labels   \n",
       "3        33311  South  FUR-TA-10000577        Furniture       Tables   \n",
       "4        33311  South  OFF-ST-10000760  Office Supplies      Storage   \n",
       "\n",
       "                                        Product Name     Sales  Quantity  \\\n",
       "0                  Bush Somerset Collection Bookcase  261.9600         2   \n",
       "1  Hon Deluxe Fabric Upholstered Stacking Chairs,...  731.9400         3   \n",
       "2  Self-Adhesive Address Labels for Typewriters b...   14.6200         2   \n",
       "3      Bretford CR4500 Series Slim Rectangular Table  957.5775         5   \n",
       "4                     Eldon Fold 'N Roll Cart System   22.3680         2   \n",
       "\n",
       "   Discount    Profit  \n",
       "0      0.00   41.9136  \n",
       "1      0.00  219.5820  \n",
       "2      0.00    6.8714  \n",
       "3      0.45 -383.0310  \n",
       "4      0.20    2.5164  "
      ]
     },
     "execution_count": 79,
     "metadata": {},
     "output_type": "execute_result"
    }
   ],
   "source": [
    "# Abriendo el df\n",
    "df = pd.read_excel(\"./data/Sample - Superstore.xlsx\")\n",
    "df.head(5)"
   ]
  },
  {
   "cell_type": "code",
   "execution_count": 4,
   "metadata": {},
   "outputs": [],
   "source": [
    "# Convertir las columnas de fechas a objetos de fecha si no lo están.\n",
    "df['Order Date'] = pd.to_datetime(df['Order Date'])\n",
    "df['Ship Date'] = pd.to_datetime(df['Ship Date'])"
   ]
  },
  {
   "cell_type": "code",
   "execution_count": 65,
   "metadata": {},
   "outputs": [
    {
     "data": {
      "text/plain": [
       "0       False\n",
       "1       False\n",
       "2       False\n",
       "3       False\n",
       "4       False\n",
       "        ...  \n",
       "9989     True\n",
       "9990    False\n",
       "9991    False\n",
       "9992    False\n",
       "9993    False\n",
       "Name: Order Date, Length: 9994, dtype: bool"
      ]
     },
     "execution_count": 65,
     "metadata": {},
     "output_type": "execute_result"
    }
   ],
   "source": [
    "#Filtramos por año usando el acceso dt --> Seccion de metodos de fecha\n",
    "df['Order Date'].dt.year == 2014"
   ]
  },
  {
   "cell_type": "code",
   "execution_count": 66,
   "metadata": {},
   "outputs": [],
   "source": [
    "# Filtrar los datos para obtener solo las ventas en 2014.\n",
    "df_2014 = df[df['Order Date'].dt.year == 2014]"
   ]
  },
  {
   "cell_type": "code",
   "execution_count": 80,
   "metadata": {},
   "outputs": [
    {
     "data": {
      "text/html": [
       "<div>\n",
       "<style scoped>\n",
       "    .dataframe tbody tr th:only-of-type {\n",
       "        vertical-align: middle;\n",
       "    }\n",
       "\n",
       "    .dataframe tbody tr th {\n",
       "        vertical-align: top;\n",
       "    }\n",
       "\n",
       "    .dataframe thead th {\n",
       "        text-align: right;\n",
       "    }\n",
       "</style>\n",
       "<table border=\"1\" class=\"dataframe\">\n",
       "  <thead>\n",
       "    <tr style=\"text-align: right;\">\n",
       "      <th></th>\n",
       "      <th>State</th>\n",
       "      <th>Sales</th>\n",
       "    </tr>\n",
       "  </thead>\n",
       "  <tbody>\n",
       "    <tr>\n",
       "      <th>0</th>\n",
       "      <td>Alabama</td>\n",
       "      <td>6139.090</td>\n",
       "    </tr>\n",
       "    <tr>\n",
       "      <th>1</th>\n",
       "      <td>Arizona</td>\n",
       "      <td>8295.235</td>\n",
       "    </tr>\n",
       "    <tr>\n",
       "      <th>2</th>\n",
       "      <td>Arkansas</td>\n",
       "      <td>6302.690</td>\n",
       "    </tr>\n",
       "    <tr>\n",
       "      <th>3</th>\n",
       "      <td>California</td>\n",
       "      <td>91303.531</td>\n",
       "    </tr>\n",
       "    <tr>\n",
       "      <th>4</th>\n",
       "      <td>Colorado</td>\n",
       "      <td>6502.294</td>\n",
       "    </tr>\n",
       "    <tr>\n",
       "      <th>5</th>\n",
       "      <td>Connecticut</td>\n",
       "      <td>2794.020</td>\n",
       "    </tr>\n",
       "    <tr>\n",
       "      <th>6</th>\n",
       "      <td>Delaware</td>\n",
       "      <td>4786.030</td>\n",
       "    </tr>\n",
       "  </tbody>\n",
       "</table>\n",
       "</div>"
      ],
      "text/plain": [
       "         State      Sales\n",
       "0      Alabama   6139.090\n",
       "1      Arizona   8295.235\n",
       "2     Arkansas   6302.690\n",
       "3   California  91303.531\n",
       "4     Colorado   6502.294\n",
       "5  Connecticut   2794.020\n",
       "6     Delaware   4786.030"
      ]
     },
     "execution_count": 80,
     "metadata": {},
     "output_type": "execute_result"
    }
   ],
   "source": [
    "#Hacer el groupby por Estado y aplicar el conteo\n",
    "ventas_totales = df_2014.groupby('State')[['Sales']].sum().reset_index()\n",
    "ventas_totales.head(7)"
   ]
  },
  {
   "cell_type": "code",
   "execution_count": 78,
   "metadata": {},
   "outputs": [
    {
     "data": {
      "application/vnd.plotly.v1+json": {
       "config": {
        "linkText": "Export to plot.ly",
        "plotlyServerURL": "https://plot.ly",
        "showLink": false
       },
       "data": [
        {
         "marker": {
          "color": "rgba(255, 174, 255, 0.5)",
          "line": {
           "color": "rgb(0,0,0)",
           "width": 1.5
          }
         },
         "name": "Ventas totales por Estado",
         "text": [
          0,
          1,
          2,
          3,
          4,
          5,
          6,
          7,
          8,
          9,
          10,
          11,
          12,
          13,
          14,
          15,
          16,
          17,
          18,
          19,
          20,
          21,
          22,
          23,
          24,
          25,
          26,
          27,
          28,
          29,
          30,
          31,
          32,
          33,
          34,
          35,
          36,
          37,
          38,
          39,
          40,
          41,
          42,
          43
         ],
         "type": "bar",
         "x": [
          "Alabama",
          "Arizona",
          "Arkansas",
          "California",
          "Colorado",
          "Connecticut",
          "Delaware",
          "Florida",
          "Georgia",
          "Idaho",
          "Illinois",
          "Indiana",
          "Iowa",
          "Kansas",
          "Kentucky",
          "Louisiana",
          "Maine",
          "Maryland",
          "Massachusetts",
          "Michigan",
          "Minnesota",
          "Mississippi",
          "Missouri",
          "Montana",
          "Nebraska",
          "Nevada",
          "New Hampshire",
          "New Jersey",
          "New Mexico",
          "New York",
          "North Carolina",
          "Ohio",
          "Oklahoma",
          "Oregon",
          "Pennsylvania",
          "Rhode Island",
          "South Carolina",
          "South Dakota",
          "Tennessee",
          "Texas",
          "Utah",
          "Virginia",
          "Washington",
          "Wisconsin"
         ],
         "y": [
          6139.09,
          8295.235,
          6302.6900000000005,
          91303.531,
          6502.294000000001,
          2794.02,
          4786.03,
          34248.2605,
          4540.1,
          465.216,
          16202.707,
          2936.81,
          1190.84,
          1319.79,
          8280.460000000001,
          2534.92,
          617.12,
          1701.25,
          9900.106,
          6172.251,
          15883.330000000002,
          2055.16,
          1648.03,
          424.488,
          210.01999999999998,
          2561.21,
          504.48,
          4192.28,
          708.012,
          64788.487,
          8620.741,
          14134.85,
          2639.35,
          4807.783,
          20246.148,
          5015.686,
          2270.8599999999997,
          162.15,
          3051.512,
          50625.1766,
          2943.688,
          25802.05,
          29871.576,
          4847.71
         ]
        }
       ],
       "layout": {
        "barmode": "group",
        "template": {
         "data": {
          "bar": [
           {
            "error_x": {
             "color": "#2a3f5f"
            },
            "error_y": {
             "color": "#2a3f5f"
            },
            "marker": {
             "line": {
              "color": "#E5ECF6",
              "width": 0.5
             },
             "pattern": {
              "fillmode": "overlay",
              "size": 10,
              "solidity": 0.2
             }
            },
            "type": "bar"
           }
          ],
          "barpolar": [
           {
            "marker": {
             "line": {
              "color": "#E5ECF6",
              "width": 0.5
             },
             "pattern": {
              "fillmode": "overlay",
              "size": 10,
              "solidity": 0.2
             }
            },
            "type": "barpolar"
           }
          ],
          "carpet": [
           {
            "aaxis": {
             "endlinecolor": "#2a3f5f",
             "gridcolor": "white",
             "linecolor": "white",
             "minorgridcolor": "white",
             "startlinecolor": "#2a3f5f"
            },
            "baxis": {
             "endlinecolor": "#2a3f5f",
             "gridcolor": "white",
             "linecolor": "white",
             "minorgridcolor": "white",
             "startlinecolor": "#2a3f5f"
            },
            "type": "carpet"
           }
          ],
          "choropleth": [
           {
            "colorbar": {
             "outlinewidth": 0,
             "ticks": ""
            },
            "type": "choropleth"
           }
          ],
          "contour": [
           {
            "colorbar": {
             "outlinewidth": 0,
             "ticks": ""
            },
            "colorscale": [
             [
              0,
              "#0d0887"
             ],
             [
              0.1111111111111111,
              "#46039f"
             ],
             [
              0.2222222222222222,
              "#7201a8"
             ],
             [
              0.3333333333333333,
              "#9c179e"
             ],
             [
              0.4444444444444444,
              "#bd3786"
             ],
             [
              0.5555555555555556,
              "#d8576b"
             ],
             [
              0.6666666666666666,
              "#ed7953"
             ],
             [
              0.7777777777777778,
              "#fb9f3a"
             ],
             [
              0.8888888888888888,
              "#fdca26"
             ],
             [
              1,
              "#f0f921"
             ]
            ],
            "type": "contour"
           }
          ],
          "contourcarpet": [
           {
            "colorbar": {
             "outlinewidth": 0,
             "ticks": ""
            },
            "type": "contourcarpet"
           }
          ],
          "heatmap": [
           {
            "colorbar": {
             "outlinewidth": 0,
             "ticks": ""
            },
            "colorscale": [
             [
              0,
              "#0d0887"
             ],
             [
              0.1111111111111111,
              "#46039f"
             ],
             [
              0.2222222222222222,
              "#7201a8"
             ],
             [
              0.3333333333333333,
              "#9c179e"
             ],
             [
              0.4444444444444444,
              "#bd3786"
             ],
             [
              0.5555555555555556,
              "#d8576b"
             ],
             [
              0.6666666666666666,
              "#ed7953"
             ],
             [
              0.7777777777777778,
              "#fb9f3a"
             ],
             [
              0.8888888888888888,
              "#fdca26"
             ],
             [
              1,
              "#f0f921"
             ]
            ],
            "type": "heatmap"
           }
          ],
          "heatmapgl": [
           {
            "colorbar": {
             "outlinewidth": 0,
             "ticks": ""
            },
            "colorscale": [
             [
              0,
              "#0d0887"
             ],
             [
              0.1111111111111111,
              "#46039f"
             ],
             [
              0.2222222222222222,
              "#7201a8"
             ],
             [
              0.3333333333333333,
              "#9c179e"
             ],
             [
              0.4444444444444444,
              "#bd3786"
             ],
             [
              0.5555555555555556,
              "#d8576b"
             ],
             [
              0.6666666666666666,
              "#ed7953"
             ],
             [
              0.7777777777777778,
              "#fb9f3a"
             ],
             [
              0.8888888888888888,
              "#fdca26"
             ],
             [
              1,
              "#f0f921"
             ]
            ],
            "type": "heatmapgl"
           }
          ],
          "histogram": [
           {
            "marker": {
             "pattern": {
              "fillmode": "overlay",
              "size": 10,
              "solidity": 0.2
             }
            },
            "type": "histogram"
           }
          ],
          "histogram2d": [
           {
            "colorbar": {
             "outlinewidth": 0,
             "ticks": ""
            },
            "colorscale": [
             [
              0,
              "#0d0887"
             ],
             [
              0.1111111111111111,
              "#46039f"
             ],
             [
              0.2222222222222222,
              "#7201a8"
             ],
             [
              0.3333333333333333,
              "#9c179e"
             ],
             [
              0.4444444444444444,
              "#bd3786"
             ],
             [
              0.5555555555555556,
              "#d8576b"
             ],
             [
              0.6666666666666666,
              "#ed7953"
             ],
             [
              0.7777777777777778,
              "#fb9f3a"
             ],
             [
              0.8888888888888888,
              "#fdca26"
             ],
             [
              1,
              "#f0f921"
             ]
            ],
            "type": "histogram2d"
           }
          ],
          "histogram2dcontour": [
           {
            "colorbar": {
             "outlinewidth": 0,
             "ticks": ""
            },
            "colorscale": [
             [
              0,
              "#0d0887"
             ],
             [
              0.1111111111111111,
              "#46039f"
             ],
             [
              0.2222222222222222,
              "#7201a8"
             ],
             [
              0.3333333333333333,
              "#9c179e"
             ],
             [
              0.4444444444444444,
              "#bd3786"
             ],
             [
              0.5555555555555556,
              "#d8576b"
             ],
             [
              0.6666666666666666,
              "#ed7953"
             ],
             [
              0.7777777777777778,
              "#fb9f3a"
             ],
             [
              0.8888888888888888,
              "#fdca26"
             ],
             [
              1,
              "#f0f921"
             ]
            ],
            "type": "histogram2dcontour"
           }
          ],
          "mesh3d": [
           {
            "colorbar": {
             "outlinewidth": 0,
             "ticks": ""
            },
            "type": "mesh3d"
           }
          ],
          "parcoords": [
           {
            "line": {
             "colorbar": {
              "outlinewidth": 0,
              "ticks": ""
             }
            },
            "type": "parcoords"
           }
          ],
          "pie": [
           {
            "automargin": true,
            "type": "pie"
           }
          ],
          "scatter": [
           {
            "fillpattern": {
             "fillmode": "overlay",
             "size": 10,
             "solidity": 0.2
            },
            "type": "scatter"
           }
          ],
          "scatter3d": [
           {
            "line": {
             "colorbar": {
              "outlinewidth": 0,
              "ticks": ""
             }
            },
            "marker": {
             "colorbar": {
              "outlinewidth": 0,
              "ticks": ""
             }
            },
            "type": "scatter3d"
           }
          ],
          "scattercarpet": [
           {
            "marker": {
             "colorbar": {
              "outlinewidth": 0,
              "ticks": ""
             }
            },
            "type": "scattercarpet"
           }
          ],
          "scattergeo": [
           {
            "marker": {
             "colorbar": {
              "outlinewidth": 0,
              "ticks": ""
             }
            },
            "type": "scattergeo"
           }
          ],
          "scattergl": [
           {
            "marker": {
             "colorbar": {
              "outlinewidth": 0,
              "ticks": ""
             }
            },
            "type": "scattergl"
           }
          ],
          "scattermapbox": [
           {
            "marker": {
             "colorbar": {
              "outlinewidth": 0,
              "ticks": ""
             }
            },
            "type": "scattermapbox"
           }
          ],
          "scatterpolar": [
           {
            "marker": {
             "colorbar": {
              "outlinewidth": 0,
              "ticks": ""
             }
            },
            "type": "scatterpolar"
           }
          ],
          "scatterpolargl": [
           {
            "marker": {
             "colorbar": {
              "outlinewidth": 0,
              "ticks": ""
             }
            },
            "type": "scatterpolargl"
           }
          ],
          "scatterternary": [
           {
            "marker": {
             "colorbar": {
              "outlinewidth": 0,
              "ticks": ""
             }
            },
            "type": "scatterternary"
           }
          ],
          "surface": [
           {
            "colorbar": {
             "outlinewidth": 0,
             "ticks": ""
            },
            "colorscale": [
             [
              0,
              "#0d0887"
             ],
             [
              0.1111111111111111,
              "#46039f"
             ],
             [
              0.2222222222222222,
              "#7201a8"
             ],
             [
              0.3333333333333333,
              "#9c179e"
             ],
             [
              0.4444444444444444,
              "#bd3786"
             ],
             [
              0.5555555555555556,
              "#d8576b"
             ],
             [
              0.6666666666666666,
              "#ed7953"
             ],
             [
              0.7777777777777778,
              "#fb9f3a"
             ],
             [
              0.8888888888888888,
              "#fdca26"
             ],
             [
              1,
              "#f0f921"
             ]
            ],
            "type": "surface"
           }
          ],
          "table": [
           {
            "cells": {
             "fill": {
              "color": "#EBF0F8"
             },
             "line": {
              "color": "white"
             }
            },
            "header": {
             "fill": {
              "color": "#C8D4E3"
             },
             "line": {
              "color": "white"
             }
            },
            "type": "table"
           }
          ]
         },
         "layout": {
          "annotationdefaults": {
           "arrowcolor": "#2a3f5f",
           "arrowhead": 0,
           "arrowwidth": 1
          },
          "autotypenumbers": "strict",
          "coloraxis": {
           "colorbar": {
            "outlinewidth": 0,
            "ticks": ""
           }
          },
          "colorscale": {
           "diverging": [
            [
             0,
             "#8e0152"
            ],
            [
             0.1,
             "#c51b7d"
            ],
            [
             0.2,
             "#de77ae"
            ],
            [
             0.3,
             "#f1b6da"
            ],
            [
             0.4,
             "#fde0ef"
            ],
            [
             0.5,
             "#f7f7f7"
            ],
            [
             0.6,
             "#e6f5d0"
            ],
            [
             0.7,
             "#b8e186"
            ],
            [
             0.8,
             "#7fbc41"
            ],
            [
             0.9,
             "#4d9221"
            ],
            [
             1,
             "#276419"
            ]
           ],
           "sequential": [
            [
             0,
             "#0d0887"
            ],
            [
             0.1111111111111111,
             "#46039f"
            ],
            [
             0.2222222222222222,
             "#7201a8"
            ],
            [
             0.3333333333333333,
             "#9c179e"
            ],
            [
             0.4444444444444444,
             "#bd3786"
            ],
            [
             0.5555555555555556,
             "#d8576b"
            ],
            [
             0.6666666666666666,
             "#ed7953"
            ],
            [
             0.7777777777777778,
             "#fb9f3a"
            ],
            [
             0.8888888888888888,
             "#fdca26"
            ],
            [
             1,
             "#f0f921"
            ]
           ],
           "sequentialminus": [
            [
             0,
             "#0d0887"
            ],
            [
             0.1111111111111111,
             "#46039f"
            ],
            [
             0.2222222222222222,
             "#7201a8"
            ],
            [
             0.3333333333333333,
             "#9c179e"
            ],
            [
             0.4444444444444444,
             "#bd3786"
            ],
            [
             0.5555555555555556,
             "#d8576b"
            ],
            [
             0.6666666666666666,
             "#ed7953"
            ],
            [
             0.7777777777777778,
             "#fb9f3a"
            ],
            [
             0.8888888888888888,
             "#fdca26"
            ],
            [
             1,
             "#f0f921"
            ]
           ]
          },
          "colorway": [
           "#636efa",
           "#EF553B",
           "#00cc96",
           "#ab63fa",
           "#FFA15A",
           "#19d3f3",
           "#FF6692",
           "#B6E880",
           "#FF97FF",
           "#FECB52"
          ],
          "font": {
           "color": "#2a3f5f"
          },
          "geo": {
           "bgcolor": "white",
           "lakecolor": "white",
           "landcolor": "#E5ECF6",
           "showlakes": true,
           "showland": true,
           "subunitcolor": "white"
          },
          "hoverlabel": {
           "align": "left"
          },
          "hovermode": "closest",
          "mapbox": {
           "style": "light"
          },
          "paper_bgcolor": "white",
          "plot_bgcolor": "#E5ECF6",
          "polar": {
           "angularaxis": {
            "gridcolor": "white",
            "linecolor": "white",
            "ticks": ""
           },
           "bgcolor": "#E5ECF6",
           "radialaxis": {
            "gridcolor": "white",
            "linecolor": "white",
            "ticks": ""
           }
          },
          "scene": {
           "xaxis": {
            "backgroundcolor": "#E5ECF6",
            "gridcolor": "white",
            "gridwidth": 2,
            "linecolor": "white",
            "showbackground": true,
            "ticks": "",
            "zerolinecolor": "white"
           },
           "yaxis": {
            "backgroundcolor": "#E5ECF6",
            "gridcolor": "white",
            "gridwidth": 2,
            "linecolor": "white",
            "showbackground": true,
            "ticks": "",
            "zerolinecolor": "white"
           },
           "zaxis": {
            "backgroundcolor": "#E5ECF6",
            "gridcolor": "white",
            "gridwidth": 2,
            "linecolor": "white",
            "showbackground": true,
            "ticks": "",
            "zerolinecolor": "white"
           }
          },
          "shapedefaults": {
           "line": {
            "color": "#2a3f5f"
           }
          },
          "ternary": {
           "aaxis": {
            "gridcolor": "white",
            "linecolor": "white",
            "ticks": ""
           },
           "baxis": {
            "gridcolor": "white",
            "linecolor": "white",
            "ticks": ""
           },
           "bgcolor": "#E5ECF6",
           "caxis": {
            "gridcolor": "white",
            "linecolor": "white",
            "ticks": ""
           }
          },
          "title": {
           "x": 0.05
          },
          "xaxis": {
           "automargin": true,
           "gridcolor": "white",
           "linecolor": "white",
           "ticks": "",
           "title": {
            "standoff": 15
           },
           "zerolinecolor": "white",
           "zerolinewidth": 2
          },
          "yaxis": {
           "automargin": true,
           "gridcolor": "white",
           "linecolor": "white",
           "ticks": "",
           "title": {
            "standoff": 15
           },
           "zerolinecolor": "white",
           "zerolinewidth": 2
          }
         }
        },
        "xaxis": {
         "title": {
          "text": "Estado"
         }
        },
        "yaxis": {
         "title": {
          "text": "Ventas totales"
         }
        }
       }
      },
      "text/html": [
       "<div>                            <div id=\"5ccebcd7-af99-45ca-84da-b1bc353fb5f9\" class=\"plotly-graph-div\" style=\"height:525px; width:100%;\"></div>            <script type=\"text/javascript\">                require([\"plotly\"], function(Plotly) {                    window.PLOTLYENV=window.PLOTLYENV || {};                                    if (document.getElementById(\"5ccebcd7-af99-45ca-84da-b1bc353fb5f9\")) {                    Plotly.newPlot(                        \"5ccebcd7-af99-45ca-84da-b1bc353fb5f9\",                        [{\"marker\":{\"color\":\"rgba(255, 174, 255, 0.5)\",\"line\":{\"color\":\"rgb(0,0,0)\",\"width\":1.5}},\"name\":\"Ventas totales por Estado\",\"text\":[0.0,1.0,2.0,3.0,4.0,5.0,6.0,7.0,8.0,9.0,10.0,11.0,12.0,13.0,14.0,15.0,16.0,17.0,18.0,19.0,20.0,21.0,22.0,23.0,24.0,25.0,26.0,27.0,28.0,29.0,30.0,31.0,32.0,33.0,34.0,35.0,36.0,37.0,38.0,39.0,40.0,41.0,42.0,43.0],\"x\":[\"Alabama\",\"Arizona\",\"Arkansas\",\"California\",\"Colorado\",\"Connecticut\",\"Delaware\",\"Florida\",\"Georgia\",\"Idaho\",\"Illinois\",\"Indiana\",\"Iowa\",\"Kansas\",\"Kentucky\",\"Louisiana\",\"Maine\",\"Maryland\",\"Massachusetts\",\"Michigan\",\"Minnesota\",\"Mississippi\",\"Missouri\",\"Montana\",\"Nebraska\",\"Nevada\",\"New Hampshire\",\"New Jersey\",\"New Mexico\",\"New York\",\"North Carolina\",\"Ohio\",\"Oklahoma\",\"Oregon\",\"Pennsylvania\",\"Rhode Island\",\"South Carolina\",\"South Dakota\",\"Tennessee\",\"Texas\",\"Utah\",\"Virginia\",\"Washington\",\"Wisconsin\"],\"y\":[6139.09,8295.235,6302.6900000000005,91303.531,6502.294000000001,2794.02,4786.03,34248.2605,4540.1,465.216,16202.707,2936.81,1190.84,1319.79,8280.460000000001,2534.92,617.12,1701.25,9900.106,6172.251,15883.330000000002,2055.16,1648.03,424.488,210.01999999999998,2561.21,504.48,4192.28,708.012,64788.487,8620.741,14134.85,2639.35,4807.783,20246.148,5015.686,2270.8599999999997,162.15,3051.512,50625.1766,2943.688,25802.05,29871.576,4847.71],\"type\":\"bar\"}],                        {\"barmode\":\"group\",\"template\":{\"data\":{\"barpolar\":[{\"marker\":{\"line\":{\"color\":\"#E5ECF6\",\"width\":0.5},\"pattern\":{\"fillmode\":\"overlay\",\"size\":10,\"solidity\":0.2}},\"type\":\"barpolar\"}],\"bar\":[{\"error_x\":{\"color\":\"#2a3f5f\"},\"error_y\":{\"color\":\"#2a3f5f\"},\"marker\":{\"line\":{\"color\":\"#E5ECF6\",\"width\":0.5},\"pattern\":{\"fillmode\":\"overlay\",\"size\":10,\"solidity\":0.2}},\"type\":\"bar\"}],\"carpet\":[{\"aaxis\":{\"endlinecolor\":\"#2a3f5f\",\"gridcolor\":\"white\",\"linecolor\":\"white\",\"minorgridcolor\":\"white\",\"startlinecolor\":\"#2a3f5f\"},\"baxis\":{\"endlinecolor\":\"#2a3f5f\",\"gridcolor\":\"white\",\"linecolor\":\"white\",\"minorgridcolor\":\"white\",\"startlinecolor\":\"#2a3f5f\"},\"type\":\"carpet\"}],\"choropleth\":[{\"colorbar\":{\"outlinewidth\":0,\"ticks\":\"\"},\"type\":\"choropleth\"}],\"contourcarpet\":[{\"colorbar\":{\"outlinewidth\":0,\"ticks\":\"\"},\"type\":\"contourcarpet\"}],\"contour\":[{\"colorbar\":{\"outlinewidth\":0,\"ticks\":\"\"},\"colorscale\":[[0.0,\"#0d0887\"],[0.1111111111111111,\"#46039f\"],[0.2222222222222222,\"#7201a8\"],[0.3333333333333333,\"#9c179e\"],[0.4444444444444444,\"#bd3786\"],[0.5555555555555556,\"#d8576b\"],[0.6666666666666666,\"#ed7953\"],[0.7777777777777778,\"#fb9f3a\"],[0.8888888888888888,\"#fdca26\"],[1.0,\"#f0f921\"]],\"type\":\"contour\"}],\"heatmapgl\":[{\"colorbar\":{\"outlinewidth\":0,\"ticks\":\"\"},\"colorscale\":[[0.0,\"#0d0887\"],[0.1111111111111111,\"#46039f\"],[0.2222222222222222,\"#7201a8\"],[0.3333333333333333,\"#9c179e\"],[0.4444444444444444,\"#bd3786\"],[0.5555555555555556,\"#d8576b\"],[0.6666666666666666,\"#ed7953\"],[0.7777777777777778,\"#fb9f3a\"],[0.8888888888888888,\"#fdca26\"],[1.0,\"#f0f921\"]],\"type\":\"heatmapgl\"}],\"heatmap\":[{\"colorbar\":{\"outlinewidth\":0,\"ticks\":\"\"},\"colorscale\":[[0.0,\"#0d0887\"],[0.1111111111111111,\"#46039f\"],[0.2222222222222222,\"#7201a8\"],[0.3333333333333333,\"#9c179e\"],[0.4444444444444444,\"#bd3786\"],[0.5555555555555556,\"#d8576b\"],[0.6666666666666666,\"#ed7953\"],[0.7777777777777778,\"#fb9f3a\"],[0.8888888888888888,\"#fdca26\"],[1.0,\"#f0f921\"]],\"type\":\"heatmap\"}],\"histogram2dcontour\":[{\"colorbar\":{\"outlinewidth\":0,\"ticks\":\"\"},\"colorscale\":[[0.0,\"#0d0887\"],[0.1111111111111111,\"#46039f\"],[0.2222222222222222,\"#7201a8\"],[0.3333333333333333,\"#9c179e\"],[0.4444444444444444,\"#bd3786\"],[0.5555555555555556,\"#d8576b\"],[0.6666666666666666,\"#ed7953\"],[0.7777777777777778,\"#fb9f3a\"],[0.8888888888888888,\"#fdca26\"],[1.0,\"#f0f921\"]],\"type\":\"histogram2dcontour\"}],\"histogram2d\":[{\"colorbar\":{\"outlinewidth\":0,\"ticks\":\"\"},\"colorscale\":[[0.0,\"#0d0887\"],[0.1111111111111111,\"#46039f\"],[0.2222222222222222,\"#7201a8\"],[0.3333333333333333,\"#9c179e\"],[0.4444444444444444,\"#bd3786\"],[0.5555555555555556,\"#d8576b\"],[0.6666666666666666,\"#ed7953\"],[0.7777777777777778,\"#fb9f3a\"],[0.8888888888888888,\"#fdca26\"],[1.0,\"#f0f921\"]],\"type\":\"histogram2d\"}],\"histogram\":[{\"marker\":{\"pattern\":{\"fillmode\":\"overlay\",\"size\":10,\"solidity\":0.2}},\"type\":\"histogram\"}],\"mesh3d\":[{\"colorbar\":{\"outlinewidth\":0,\"ticks\":\"\"},\"type\":\"mesh3d\"}],\"parcoords\":[{\"line\":{\"colorbar\":{\"outlinewidth\":0,\"ticks\":\"\"}},\"type\":\"parcoords\"}],\"pie\":[{\"automargin\":true,\"type\":\"pie\"}],\"scatter3d\":[{\"line\":{\"colorbar\":{\"outlinewidth\":0,\"ticks\":\"\"}},\"marker\":{\"colorbar\":{\"outlinewidth\":0,\"ticks\":\"\"}},\"type\":\"scatter3d\"}],\"scattercarpet\":[{\"marker\":{\"colorbar\":{\"outlinewidth\":0,\"ticks\":\"\"}},\"type\":\"scattercarpet\"}],\"scattergeo\":[{\"marker\":{\"colorbar\":{\"outlinewidth\":0,\"ticks\":\"\"}},\"type\":\"scattergeo\"}],\"scattergl\":[{\"marker\":{\"colorbar\":{\"outlinewidth\":0,\"ticks\":\"\"}},\"type\":\"scattergl\"}],\"scattermapbox\":[{\"marker\":{\"colorbar\":{\"outlinewidth\":0,\"ticks\":\"\"}},\"type\":\"scattermapbox\"}],\"scatterpolargl\":[{\"marker\":{\"colorbar\":{\"outlinewidth\":0,\"ticks\":\"\"}},\"type\":\"scatterpolargl\"}],\"scatterpolar\":[{\"marker\":{\"colorbar\":{\"outlinewidth\":0,\"ticks\":\"\"}},\"type\":\"scatterpolar\"}],\"scatter\":[{\"fillpattern\":{\"fillmode\":\"overlay\",\"size\":10,\"solidity\":0.2},\"type\":\"scatter\"}],\"scatterternary\":[{\"marker\":{\"colorbar\":{\"outlinewidth\":0,\"ticks\":\"\"}},\"type\":\"scatterternary\"}],\"surface\":[{\"colorbar\":{\"outlinewidth\":0,\"ticks\":\"\"},\"colorscale\":[[0.0,\"#0d0887\"],[0.1111111111111111,\"#46039f\"],[0.2222222222222222,\"#7201a8\"],[0.3333333333333333,\"#9c179e\"],[0.4444444444444444,\"#bd3786\"],[0.5555555555555556,\"#d8576b\"],[0.6666666666666666,\"#ed7953\"],[0.7777777777777778,\"#fb9f3a\"],[0.8888888888888888,\"#fdca26\"],[1.0,\"#f0f921\"]],\"type\":\"surface\"}],\"table\":[{\"cells\":{\"fill\":{\"color\":\"#EBF0F8\"},\"line\":{\"color\":\"white\"}},\"header\":{\"fill\":{\"color\":\"#C8D4E3\"},\"line\":{\"color\":\"white\"}},\"type\":\"table\"}]},\"layout\":{\"annotationdefaults\":{\"arrowcolor\":\"#2a3f5f\",\"arrowhead\":0,\"arrowwidth\":1},\"autotypenumbers\":\"strict\",\"coloraxis\":{\"colorbar\":{\"outlinewidth\":0,\"ticks\":\"\"}},\"colorscale\":{\"diverging\":[[0,\"#8e0152\"],[0.1,\"#c51b7d\"],[0.2,\"#de77ae\"],[0.3,\"#f1b6da\"],[0.4,\"#fde0ef\"],[0.5,\"#f7f7f7\"],[0.6,\"#e6f5d0\"],[0.7,\"#b8e186\"],[0.8,\"#7fbc41\"],[0.9,\"#4d9221\"],[1,\"#276419\"]],\"sequential\":[[0.0,\"#0d0887\"],[0.1111111111111111,\"#46039f\"],[0.2222222222222222,\"#7201a8\"],[0.3333333333333333,\"#9c179e\"],[0.4444444444444444,\"#bd3786\"],[0.5555555555555556,\"#d8576b\"],[0.6666666666666666,\"#ed7953\"],[0.7777777777777778,\"#fb9f3a\"],[0.8888888888888888,\"#fdca26\"],[1.0,\"#f0f921\"]],\"sequentialminus\":[[0.0,\"#0d0887\"],[0.1111111111111111,\"#46039f\"],[0.2222222222222222,\"#7201a8\"],[0.3333333333333333,\"#9c179e\"],[0.4444444444444444,\"#bd3786\"],[0.5555555555555556,\"#d8576b\"],[0.6666666666666666,\"#ed7953\"],[0.7777777777777778,\"#fb9f3a\"],[0.8888888888888888,\"#fdca26\"],[1.0,\"#f0f921\"]]},\"colorway\":[\"#636efa\",\"#EF553B\",\"#00cc96\",\"#ab63fa\",\"#FFA15A\",\"#19d3f3\",\"#FF6692\",\"#B6E880\",\"#FF97FF\",\"#FECB52\"],\"font\":{\"color\":\"#2a3f5f\"},\"geo\":{\"bgcolor\":\"white\",\"lakecolor\":\"white\",\"landcolor\":\"#E5ECF6\",\"showlakes\":true,\"showland\":true,\"subunitcolor\":\"white\"},\"hoverlabel\":{\"align\":\"left\"},\"hovermode\":\"closest\",\"mapbox\":{\"style\":\"light\"},\"paper_bgcolor\":\"white\",\"plot_bgcolor\":\"#E5ECF6\",\"polar\":{\"angularaxis\":{\"gridcolor\":\"white\",\"linecolor\":\"white\",\"ticks\":\"\"},\"bgcolor\":\"#E5ECF6\",\"radialaxis\":{\"gridcolor\":\"white\",\"linecolor\":\"white\",\"ticks\":\"\"}},\"scene\":{\"xaxis\":{\"backgroundcolor\":\"#E5ECF6\",\"gridcolor\":\"white\",\"gridwidth\":2,\"linecolor\":\"white\",\"showbackground\":true,\"ticks\":\"\",\"zerolinecolor\":\"white\"},\"yaxis\":{\"backgroundcolor\":\"#E5ECF6\",\"gridcolor\":\"white\",\"gridwidth\":2,\"linecolor\":\"white\",\"showbackground\":true,\"ticks\":\"\",\"zerolinecolor\":\"white\"},\"zaxis\":{\"backgroundcolor\":\"#E5ECF6\",\"gridcolor\":\"white\",\"gridwidth\":2,\"linecolor\":\"white\",\"showbackground\":true,\"ticks\":\"\",\"zerolinecolor\":\"white\"}},\"shapedefaults\":{\"line\":{\"color\":\"#2a3f5f\"}},\"ternary\":{\"aaxis\":{\"gridcolor\":\"white\",\"linecolor\":\"white\",\"ticks\":\"\"},\"baxis\":{\"gridcolor\":\"white\",\"linecolor\":\"white\",\"ticks\":\"\"},\"bgcolor\":\"#E5ECF6\",\"caxis\":{\"gridcolor\":\"white\",\"linecolor\":\"white\",\"ticks\":\"\"}},\"title\":{\"x\":0.05},\"xaxis\":{\"automargin\":true,\"gridcolor\":\"white\",\"linecolor\":\"white\",\"ticks\":\"\",\"title\":{\"standoff\":15},\"zerolinecolor\":\"white\",\"zerolinewidth\":2},\"yaxis\":{\"automargin\":true,\"gridcolor\":\"white\",\"linecolor\":\"white\",\"ticks\":\"\",\"title\":{\"standoff\":15},\"zerolinecolor\":\"white\",\"zerolinewidth\":2}}},\"xaxis\":{\"title\":{\"text\":\"Estado\"}},\"yaxis\":{\"title\":{\"text\":\"Ventas totales\"}}},                        {\"responsive\": true}                    ).then(function(){\n",
       "                            \n",
       "var gd = document.getElementById('5ccebcd7-af99-45ca-84da-b1bc353fb5f9');\n",
       "var x = new MutationObserver(function (mutations, observer) {{\n",
       "        var display = window.getComputedStyle(gd).display;\n",
       "        if (!display || display === 'none') {{\n",
       "            console.log([gd, 'removed!']);\n",
       "            Plotly.purge(gd);\n",
       "            observer.disconnect();\n",
       "        }}\n",
       "}});\n",
       "\n",
       "// Listen for the removal of the full notebook cells\n",
       "var notebookContainer = gd.closest('#notebook-container');\n",
       "if (notebookContainer) {{\n",
       "    x.observe(notebookContainer, {childList: true});\n",
       "}}\n",
       "\n",
       "// Listen for the clearing of the current output cell\n",
       "var outputEl = gd.closest('.output');\n",
       "if (outputEl) {{\n",
       "    x.observe(outputEl, {childList: true});\n",
       "}}\n",
       "\n",
       "                        })                };                });            </script>        </div>"
      ]
     },
     "metadata": {},
     "output_type": "display_data"
    }
   ],
   "source": [
    "\n",
    "# Crear trace1 \n",
    "trace1 = go.Bar(x=ventas_totales['State'],  # Utilizamos el índice del DataFrame (Estados)\n",
    "               y=ventas_totales['Sales'],\n",
    "               name='Ventas totales por Estado',\n",
    "               marker=dict(color='rgba(255, 174, 255, 0.5)',\n",
    "                           line=dict(color='rgb(0,0,0)', width=1.5)),\n",
    "               text=ventas_totales.index)\n",
    "\n",
    "data = [trace1]\n",
    "\n",
    "layout = go.Layout(barmode=\"group\", xaxis=dict(title='Estado'), yaxis=dict(title='Ventas totales'))\n",
    "\n",
    "fig = go.Figure(data=data, layout=layout)\n",
    "\n",
    "iplot(fig)\n",
    "\n",
    "\n"
   ]
  },
  {
   "cell_type": "code",
   "execution_count": 110,
   "metadata": {},
   "outputs": [
    {
     "data": {
      "text/html": [
       "<div>\n",
       "<style scoped>\n",
       "    .dataframe tbody tr th:only-of-type {\n",
       "        vertical-align: middle;\n",
       "    }\n",
       "\n",
       "    .dataframe tbody tr th {\n",
       "        vertical-align: top;\n",
       "    }\n",
       "\n",
       "    .dataframe thead th {\n",
       "        text-align: right;\n",
       "    }\n",
       "</style>\n",
       "<table border=\"1\" class=\"dataframe\">\n",
       "  <thead>\n",
       "    <tr style=\"text-align: right;\">\n",
       "      <th></th>\n",
       "      <th>Order Date</th>\n",
       "      <th>Sales</th>\n",
       "      <th>Profit</th>\n",
       "    </tr>\n",
       "  </thead>\n",
       "  <tbody>\n",
       "    <tr>\n",
       "      <th>0</th>\n",
       "      <td>2014-01-03</td>\n",
       "      <td>16.448</td>\n",
       "      <td>5.5512</td>\n",
       "    </tr>\n",
       "    <tr>\n",
       "      <th>1</th>\n",
       "      <td>2014-01-04</td>\n",
       "      <td>288.060</td>\n",
       "      <td>-65.9901</td>\n",
       "    </tr>\n",
       "    <tr>\n",
       "      <th>2</th>\n",
       "      <td>2014-01-05</td>\n",
       "      <td>19.536</td>\n",
       "      <td>4.8840</td>\n",
       "    </tr>\n",
       "    <tr>\n",
       "      <th>3</th>\n",
       "      <td>2014-01-06</td>\n",
       "      <td>4407.100</td>\n",
       "      <td>1358.0524</td>\n",
       "    </tr>\n",
       "    <tr>\n",
       "      <th>4</th>\n",
       "      <td>2014-01-07</td>\n",
       "      <td>87.158</td>\n",
       "      <td>-71.9621</td>\n",
       "    </tr>\n",
       "  </tbody>\n",
       "</table>\n",
       "</div>"
      ],
      "text/plain": [
       "  Order Date     Sales     Profit\n",
       "0 2014-01-03    16.448     5.5512\n",
       "1 2014-01-04   288.060   -65.9901\n",
       "2 2014-01-05    19.536     4.8840\n",
       "3 2014-01-06  4407.100  1358.0524\n",
       "4 2014-01-07    87.158   -71.9621"
      ]
     },
     "execution_count": 110,
     "metadata": {},
     "output_type": "execute_result"
    }
   ],
   "source": [
    "# Realizar el groupby por estado y sumar las ventas\n",
    "ventas_totales = df_2014.groupby('Order Date')['Sales'].sum().reset_index()\n",
    "\n",
    "# Realizar el groupby por estado y sumar los beneficios\n",
    "beneficios_totales = df_2014.groupby('Order Date')['Profit'].sum().reset_index()\n",
    "\n",
    "# Fusionar los resultados en un solo DataFrame\n",
    "df_resultado = pd.merge(ventas_totales, beneficios_totales, on='Order Date', how='inner')\n",
    "\n",
    "\n",
    "df_resultado.head(5)"
   ]
  },
  {
   "cell_type": "code",
   "execution_count": 112,
   "metadata": {},
   "outputs": [
    {
     "data": {
      "application/vnd.plotly.v1+json": {
       "config": {
        "linkText": "Export to plot.ly",
        "plotlyServerURL": "https://plot.ly",
        "showLink": false
       },
       "data": [
        {
         "line": {
          "color": "blue",
          "width": 2
         },
         "mode": "lines+markers",
         "name": "Ventas Totales",
         "type": "scatter",
         "x": [
          "2014-01-03T00:00:00",
          "2014-01-04T00:00:00",
          "2014-01-05T00:00:00",
          "2014-01-06T00:00:00",
          "2014-01-07T00:00:00",
          "2014-01-09T00:00:00",
          "2014-01-10T00:00:00",
          "2014-01-11T00:00:00",
          "2014-01-13T00:00:00",
          "2014-01-14T00:00:00",
          "2014-01-15T00:00:00",
          "2014-01-16T00:00:00",
          "2014-01-18T00:00:00",
          "2014-01-19T00:00:00",
          "2014-01-20T00:00:00",
          "2014-01-21T00:00:00",
          "2014-01-23T00:00:00",
          "2014-01-26T00:00:00",
          "2014-01-27T00:00:00",
          "2014-01-28T00:00:00",
          "2014-01-30T00:00:00",
          "2014-01-31T00:00:00",
          "2014-02-01T00:00:00",
          "2014-02-02T00:00:00",
          "2014-02-03T00:00:00",
          "2014-02-04T00:00:00",
          "2014-02-06T00:00:00",
          "2014-02-07T00:00:00",
          "2014-02-08T00:00:00",
          "2014-02-11T00:00:00",
          "2014-02-12T00:00:00",
          "2014-02-14T00:00:00",
          "2014-02-15T00:00:00",
          "2014-02-16T00:00:00",
          "2014-02-17T00:00:00",
          "2014-02-18T00:00:00",
          "2014-02-20T00:00:00",
          "2014-02-21T00:00:00",
          "2014-02-22T00:00:00",
          "2014-02-23T00:00:00",
          "2014-02-24T00:00:00",
          "2014-02-27T00:00:00",
          "2014-03-01T00:00:00",
          "2014-03-02T00:00:00",
          "2014-03-03T00:00:00",
          "2014-03-04T00:00:00",
          "2014-03-05T00:00:00",
          "2014-03-07T00:00:00",
          "2014-03-10T00:00:00",
          "2014-03-11T00:00:00",
          "2014-03-14T00:00:00",
          "2014-03-15T00:00:00",
          "2014-03-16T00:00:00",
          "2014-03-17T00:00:00",
          "2014-03-18T00:00:00",
          "2014-03-19T00:00:00",
          "2014-03-21T00:00:00",
          "2014-03-22T00:00:00",
          "2014-03-23T00:00:00",
          "2014-03-24T00:00:00",
          "2014-03-25T00:00:00",
          "2014-03-26T00:00:00",
          "2014-03-28T00:00:00",
          "2014-03-29T00:00:00",
          "2014-03-30T00:00:00",
          "2014-03-31T00:00:00",
          "2014-04-01T00:00:00",
          "2014-04-02T00:00:00",
          "2014-04-03T00:00:00",
          "2014-04-04T00:00:00",
          "2014-04-05T00:00:00",
          "2014-04-06T00:00:00",
          "2014-04-07T00:00:00",
          "2014-04-08T00:00:00",
          "2014-04-11T00:00:00",
          "2014-04-12T00:00:00",
          "2014-04-13T00:00:00",
          "2014-04-15T00:00:00",
          "2014-04-16T00:00:00",
          "2014-04-18T00:00:00",
          "2014-04-19T00:00:00",
          "2014-04-20T00:00:00",
          "2014-04-21T00:00:00",
          "2014-04-22T00:00:00",
          "2014-04-23T00:00:00",
          "2014-04-25T00:00:00",
          "2014-04-26T00:00:00",
          "2014-04-28T00:00:00",
          "2014-04-29T00:00:00",
          "2014-04-30T00:00:00",
          "2014-05-02T00:00:00",
          "2014-05-03T00:00:00",
          "2014-05-04T00:00:00",
          "2014-05-05T00:00:00",
          "2014-05-06T00:00:00",
          "2014-05-07T00:00:00",
          "2014-05-08T00:00:00",
          "2014-05-09T00:00:00",
          "2014-05-10T00:00:00",
          "2014-05-11T00:00:00",
          "2014-05-12T00:00:00",
          "2014-05-13T00:00:00",
          "2014-05-14T00:00:00",
          "2014-05-16T00:00:00",
          "2014-05-17T00:00:00",
          "2014-05-18T00:00:00",
          "2014-05-19T00:00:00",
          "2014-05-20T00:00:00",
          "2014-05-21T00:00:00",
          "2014-05-22T00:00:00",
          "2014-05-23T00:00:00",
          "2014-05-24T00:00:00",
          "2014-05-25T00:00:00",
          "2014-05-26T00:00:00",
          "2014-05-27T00:00:00",
          "2014-05-28T00:00:00",
          "2014-05-30T00:00:00",
          "2014-05-31T00:00:00",
          "2014-06-01T00:00:00",
          "2014-06-02T00:00:00",
          "2014-06-03T00:00:00",
          "2014-06-04T00:00:00",
          "2014-06-06T00:00:00",
          "2014-06-07T00:00:00",
          "2014-06-08T00:00:00",
          "2014-06-09T00:00:00",
          "2014-06-10T00:00:00",
          "2014-06-13T00:00:00",
          "2014-06-14T00:00:00",
          "2014-06-15T00:00:00",
          "2014-06-16T00:00:00",
          "2014-06-17T00:00:00",
          "2014-06-18T00:00:00",
          "2014-06-20T00:00:00",
          "2014-06-21T00:00:00",
          "2014-06-22T00:00:00",
          "2014-06-23T00:00:00",
          "2014-06-24T00:00:00",
          "2014-06-25T00:00:00",
          "2014-06-27T00:00:00",
          "2014-06-28T00:00:00",
          "2014-06-29T00:00:00",
          "2014-06-30T00:00:00",
          "2014-07-01T00:00:00",
          "2014-07-02T00:00:00",
          "2014-07-04T00:00:00",
          "2014-07-05T00:00:00",
          "2014-07-06T00:00:00",
          "2014-07-07T00:00:00",
          "2014-07-08T00:00:00",
          "2014-07-09T00:00:00",
          "2014-07-11T00:00:00",
          "2014-07-12T00:00:00",
          "2014-07-13T00:00:00",
          "2014-07-14T00:00:00",
          "2014-07-15T00:00:00",
          "2014-07-18T00:00:00",
          "2014-07-19T00:00:00",
          "2014-07-20T00:00:00",
          "2014-07-21T00:00:00",
          "2014-07-22T00:00:00",
          "2014-07-23T00:00:00",
          "2014-07-25T00:00:00",
          "2014-07-26T00:00:00",
          "2014-07-27T00:00:00",
          "2014-07-28T00:00:00",
          "2014-07-30T00:00:00",
          "2014-08-01T00:00:00",
          "2014-08-02T00:00:00",
          "2014-08-03T00:00:00",
          "2014-08-04T00:00:00",
          "2014-08-05T00:00:00",
          "2014-08-06T00:00:00",
          "2014-08-08T00:00:00",
          "2014-08-09T00:00:00",
          "2014-08-11T00:00:00",
          "2014-08-12T00:00:00",
          "2014-08-15T00:00:00",
          "2014-08-16T00:00:00",
          "2014-08-17T00:00:00",
          "2014-08-19T00:00:00",
          "2014-08-20T00:00:00",
          "2014-08-22T00:00:00",
          "2014-08-23T00:00:00",
          "2014-08-24T00:00:00",
          "2014-08-25T00:00:00",
          "2014-08-26T00:00:00",
          "2014-08-27T00:00:00",
          "2014-08-29T00:00:00",
          "2014-08-30T00:00:00",
          "2014-08-31T00:00:00",
          "2014-09-01T00:00:00",
          "2014-09-02T00:00:00",
          "2014-09-03T00:00:00",
          "2014-09-05T00:00:00",
          "2014-09-06T00:00:00",
          "2014-09-07T00:00:00",
          "2014-09-08T00:00:00",
          "2014-09-09T00:00:00",
          "2014-09-10T00:00:00",
          "2014-09-11T00:00:00",
          "2014-09-12T00:00:00",
          "2014-09-13T00:00:00",
          "2014-09-14T00:00:00",
          "2014-09-15T00:00:00",
          "2014-09-16T00:00:00",
          "2014-09-17T00:00:00",
          "2014-09-19T00:00:00",
          "2014-09-20T00:00:00",
          "2014-09-21T00:00:00",
          "2014-09-22T00:00:00",
          "2014-09-23T00:00:00",
          "2014-09-24T00:00:00",
          "2014-09-25T00:00:00",
          "2014-09-26T00:00:00",
          "2014-09-27T00:00:00",
          "2014-09-28T00:00:00",
          "2014-09-29T00:00:00",
          "2014-09-30T00:00:00",
          "2014-10-01T00:00:00",
          "2014-10-02T00:00:00",
          "2014-10-03T00:00:00",
          "2014-10-04T00:00:00",
          "2014-10-05T00:00:00",
          "2014-10-06T00:00:00",
          "2014-10-07T00:00:00",
          "2014-10-08T00:00:00",
          "2014-10-09T00:00:00",
          "2014-10-10T00:00:00",
          "2014-10-11T00:00:00",
          "2014-10-12T00:00:00",
          "2014-10-13T00:00:00",
          "2014-10-14T00:00:00",
          "2014-10-15T00:00:00",
          "2014-10-16T00:00:00",
          "2014-10-17T00:00:00",
          "2014-10-18T00:00:00",
          "2014-10-19T00:00:00",
          "2014-10-20T00:00:00",
          "2014-10-21T00:00:00",
          "2014-10-22T00:00:00",
          "2014-10-24T00:00:00",
          "2014-10-25T00:00:00",
          "2014-10-26T00:00:00",
          "2014-10-27T00:00:00",
          "2014-10-28T00:00:00",
          "2014-10-29T00:00:00",
          "2014-10-31T00:00:00",
          "2014-11-01T00:00:00",
          "2014-11-02T00:00:00",
          "2014-11-03T00:00:00",
          "2014-11-04T00:00:00",
          "2014-11-05T00:00:00",
          "2014-11-06T00:00:00",
          "2014-11-07T00:00:00",
          "2014-11-08T00:00:00",
          "2014-11-09T00:00:00",
          "2014-11-10T00:00:00",
          "2014-11-11T00:00:00",
          "2014-11-12T00:00:00",
          "2014-11-14T00:00:00",
          "2014-11-15T00:00:00",
          "2014-11-16T00:00:00",
          "2014-11-17T00:00:00",
          "2014-11-18T00:00:00",
          "2014-11-19T00:00:00",
          "2014-11-20T00:00:00",
          "2014-11-21T00:00:00",
          "2014-11-22T00:00:00",
          "2014-11-23T00:00:00",
          "2014-11-24T00:00:00",
          "2014-11-25T00:00:00",
          "2014-11-26T00:00:00",
          "2014-11-27T00:00:00",
          "2014-11-28T00:00:00",
          "2014-11-29T00:00:00",
          "2014-11-30T00:00:00",
          "2014-12-01T00:00:00",
          "2014-12-02T00:00:00",
          "2014-12-03T00:00:00",
          "2014-12-04T00:00:00",
          "2014-12-05T00:00:00",
          "2014-12-06T00:00:00",
          "2014-12-07T00:00:00",
          "2014-12-08T00:00:00",
          "2014-12-09T00:00:00",
          "2014-12-10T00:00:00",
          "2014-12-12T00:00:00",
          "2014-12-13T00:00:00",
          "2014-12-14T00:00:00",
          "2014-12-15T00:00:00",
          "2014-12-16T00:00:00",
          "2014-12-17T00:00:00",
          "2014-12-19T00:00:00",
          "2014-12-20T00:00:00",
          "2014-12-21T00:00:00",
          "2014-12-22T00:00:00",
          "2014-12-23T00:00:00",
          "2014-12-24T00:00:00",
          "2014-12-26T00:00:00",
          "2014-12-27T00:00:00",
          "2014-12-28T00:00:00",
          "2014-12-29T00:00:00",
          "2014-12-30T00:00:00",
          "2014-12-31T00:00:00"
         ],
         "y": [
          16.448,
          288.06,
          19.536,
          4407.1,
          87.158,
          40.544000000000004,
          54.83,
          9.94,
          3553.795,
          61.96,
          149.95,
          299.964,
          64.864,
          378.59400000000005,
          2673.87,
          25.248,
          46.019999999999996,
          1097.25,
          426.67,
          3.9280000000000004,
          240.5,
          290.666,
          468.90000000000003,
          211.64600000000002,
          97.11200000000001,
          134.38400000000001,
          330.512,
          180.32,
          14.56,
          2043.4,
          129.568,
          576.7259999999999,
          21.36,
          9.039999999999997,
          54.208,
          37.784,
          95.59,
          8.849999999999998,
          19.44,
          11.364,
          55.672000000000004,
          19.456000000000003,
          2203.151,
          202.38400000000001,
          1345.892,
          370.45200000000006,
          705.562,
          1561.0620000000001,
          741.9560000000001,
          918.314,
          2108.55,
          370.78200000000004,
          471.92,
          3960.358,
          28106.716,
          590.7620000000001,
          4109.816000000001,
          464.09299999999996,
          945.064,
          65.38,
          459.146,
          145.13000000000002,
          1823.8039999999999,
          890.8409999999999,
          1170.3220000000001,
          1959.552,
          119.88799999999999,
          1458.558,
          233.45,
          475.844,
          5295.098,
          1650.6899999999998,
          1021.17,
          1958.75,
          1915.24,
          1912.123,
          638.576,
          294.71999999999997,
          39.072,
          1020.532,
          205.47,
          1250.45,
          845.3599999999999,
          257.752,
          643.9799999999999,
          2379.9939999999997,
          282.56800000000004,
          2578.476,
          768.844,
          1048.74,
          506.12000000000006,
          72.632,
          187.432,
          260.977,
          254.456,
          1091.35,
          1799.9699999999998,
          394.48,
          2343.799,
          1642.8019999999997,
          734.846,
          898.3820000000001,
          310.88000000000005,
          289.28,
          91.67999999999999,
          948.9480000000001,
          91.62,
          320.10400000000004,
          4264.328,
          180.93,
          323.75800000000004,
          116.28,
          119.53999999999998,
          1325.718,
          2157.394,
          221.96800000000002,
          1924.913,
          773.7,
          5188.52,
          738.598,
          741.336,
          456.272,
          1374.0010000000002,
          281.397,
          2501.264,
          5463.008000000001,
          491.55,
          14.52,
          212.94,
          942.9739999999999,
          763.792,
          3418.5020000000004,
          139.8,
          1828.9496000000001,
          4107.443,
          1975.498,
          109.49600000000001,
          4.272,
          792.76,
          616.14,
          1645.791,
          46.67999999999999,
          739.624,
          601.0239999999999,
          79.56,
          247.40800000000002,
          1444.104,
          1038.4720000000002,
          241.194,
          763.0740000000001,
          265.521,
          2187.206,
          1960.0120000000002,
          351.216,
          292.594,
          9.510000000000002,
          273.04,
          461.326,
          2285.786,
          1961.482,
          1348.344,
          2613.184,
          8341.289999999999,
          5039.994,
          580.06,
          193.152,
          1367.84,
          228.32800000000003,
          886.28,
          477.994,
          2743.154,
          2408.7239999999997,
          262.89,
          3955.629,
          3605.6850000000004,
          451.62,
          1832.38,
          842.7819999999999,
          853.0919999999999,
          500.342,
          1439.1060000000002,
          1838.722,
          23.104000000000003,
          565.224,
          59.74,
          1451.65,
          366.81,
          2070.13,
          832.3225000000001,
          121.24,
          92.52,
          469.43600000000004,
          3254.15,
          22.08,
          296.304,
          100.36,
          3523.875,
          14228.427999999998,
          4043.5879999999997,
          1855.2279999999998,
          127.94999999999999,
          4904.66,
          1275.408,
          5023.716,
          133.436,
          33.552,
          820.523,
          9338.636999999999,
          5335.968,
          2679.652,
          1240.266,
          10662.337000000001,
          211.96,
          354.8888,
          1480.614,
          773.4399999999999,
          490.29200000000003,
          8109.07,
          987.5320000000002,
          4.71,
          598.144,
          862.683,
          728.748,
          191.9,
          494.71,
          237.35999999999999,
          147.392,
          249.36,
          2049.3860000000004,
          1381.164,
          58.53,
          2212.182,
          4525.484,
          206.724,
          194.322,
          136.068,
          3134.916,
          641.104,
          1501.1040000000003,
          1356.602,
          223.808,
          56.49,
          103.882,
          447.88000000000005,
          22.320000000000004,
          1510.5819999999999,
          2813.8120000000004,
          5362.026,
          4732.08,
          2126.37,
          2784.163,
          6693.7480000000005,
          1694.564,
          43.68,
          1449.1419999999998,
          333.576,
          1574.094,
          2002.5559999999998,
          8114.548,
          1054.7612000000001,
          1034.73,
          1780.8220000000001,
          1355.9285,
          11544.274000000001,
          3406.855,
          7226.086,
          907.5600000000001,
          1249.6219999999998,
          1103.298,
          1363.28,
          5578.606,
          4415.695,
          1705.99,
          203.65999999999997,
          2280.83,
          649.044,
          219.15400000000002,
          5624.39,
          1771.808,
          505.88,
          129.98,
          2963.6420000000003,
          1970.978,
          548.3999999999999,
          1095.12,
          1522.652,
          573.336,
          4938.4045,
          293.152,
          7641.658,
          1264.466,
          4394.187000000001,
          45.534,
          3436.76,
          6962.4400000000005,
          1933.44,
          798.9680000000001,
          942.1080000000001,
          1950.2020000000002,
          2041.414,
          2966.3880000000004,
          3732.296,
          2072.096,
          2172.6510000000003,
          5253.2699999999995
         ]
        },
        {
         "line": {
          "color": "green",
          "width": 2
         },
         "mode": "lines+markers",
         "name": "Beneficios Totales",
         "type": "scatter",
         "x": [
          "2014-01-03T00:00:00",
          "2014-01-04T00:00:00",
          "2014-01-05T00:00:00",
          "2014-01-06T00:00:00",
          "2014-01-07T00:00:00",
          "2014-01-09T00:00:00",
          "2014-01-10T00:00:00",
          "2014-01-11T00:00:00",
          "2014-01-13T00:00:00",
          "2014-01-14T00:00:00",
          "2014-01-15T00:00:00",
          "2014-01-16T00:00:00",
          "2014-01-18T00:00:00",
          "2014-01-19T00:00:00",
          "2014-01-20T00:00:00",
          "2014-01-21T00:00:00",
          "2014-01-23T00:00:00",
          "2014-01-26T00:00:00",
          "2014-01-27T00:00:00",
          "2014-01-28T00:00:00",
          "2014-01-30T00:00:00",
          "2014-01-31T00:00:00",
          "2014-02-01T00:00:00",
          "2014-02-02T00:00:00",
          "2014-02-03T00:00:00",
          "2014-02-04T00:00:00",
          "2014-02-06T00:00:00",
          "2014-02-07T00:00:00",
          "2014-02-08T00:00:00",
          "2014-02-11T00:00:00",
          "2014-02-12T00:00:00",
          "2014-02-14T00:00:00",
          "2014-02-15T00:00:00",
          "2014-02-16T00:00:00",
          "2014-02-17T00:00:00",
          "2014-02-18T00:00:00",
          "2014-02-20T00:00:00",
          "2014-02-21T00:00:00",
          "2014-02-22T00:00:00",
          "2014-02-23T00:00:00",
          "2014-02-24T00:00:00",
          "2014-02-27T00:00:00",
          "2014-03-01T00:00:00",
          "2014-03-02T00:00:00",
          "2014-03-03T00:00:00",
          "2014-03-04T00:00:00",
          "2014-03-05T00:00:00",
          "2014-03-07T00:00:00",
          "2014-03-10T00:00:00",
          "2014-03-11T00:00:00",
          "2014-03-14T00:00:00",
          "2014-03-15T00:00:00",
          "2014-03-16T00:00:00",
          "2014-03-17T00:00:00",
          "2014-03-18T00:00:00",
          "2014-03-19T00:00:00",
          "2014-03-21T00:00:00",
          "2014-03-22T00:00:00",
          "2014-03-23T00:00:00",
          "2014-03-24T00:00:00",
          "2014-03-25T00:00:00",
          "2014-03-26T00:00:00",
          "2014-03-28T00:00:00",
          "2014-03-29T00:00:00",
          "2014-03-30T00:00:00",
          "2014-03-31T00:00:00",
          "2014-04-01T00:00:00",
          "2014-04-02T00:00:00",
          "2014-04-03T00:00:00",
          "2014-04-04T00:00:00",
          "2014-04-05T00:00:00",
          "2014-04-06T00:00:00",
          "2014-04-07T00:00:00",
          "2014-04-08T00:00:00",
          "2014-04-11T00:00:00",
          "2014-04-12T00:00:00",
          "2014-04-13T00:00:00",
          "2014-04-15T00:00:00",
          "2014-04-16T00:00:00",
          "2014-04-18T00:00:00",
          "2014-04-19T00:00:00",
          "2014-04-20T00:00:00",
          "2014-04-21T00:00:00",
          "2014-04-22T00:00:00",
          "2014-04-23T00:00:00",
          "2014-04-25T00:00:00",
          "2014-04-26T00:00:00",
          "2014-04-28T00:00:00",
          "2014-04-29T00:00:00",
          "2014-04-30T00:00:00",
          "2014-05-02T00:00:00",
          "2014-05-03T00:00:00",
          "2014-05-04T00:00:00",
          "2014-05-05T00:00:00",
          "2014-05-06T00:00:00",
          "2014-05-07T00:00:00",
          "2014-05-08T00:00:00",
          "2014-05-09T00:00:00",
          "2014-05-10T00:00:00",
          "2014-05-11T00:00:00",
          "2014-05-12T00:00:00",
          "2014-05-13T00:00:00",
          "2014-05-14T00:00:00",
          "2014-05-16T00:00:00",
          "2014-05-17T00:00:00",
          "2014-05-18T00:00:00",
          "2014-05-19T00:00:00",
          "2014-05-20T00:00:00",
          "2014-05-21T00:00:00",
          "2014-05-22T00:00:00",
          "2014-05-23T00:00:00",
          "2014-05-24T00:00:00",
          "2014-05-25T00:00:00",
          "2014-05-26T00:00:00",
          "2014-05-27T00:00:00",
          "2014-05-28T00:00:00",
          "2014-05-30T00:00:00",
          "2014-05-31T00:00:00",
          "2014-06-01T00:00:00",
          "2014-06-02T00:00:00",
          "2014-06-03T00:00:00",
          "2014-06-04T00:00:00",
          "2014-06-06T00:00:00",
          "2014-06-07T00:00:00",
          "2014-06-08T00:00:00",
          "2014-06-09T00:00:00",
          "2014-06-10T00:00:00",
          "2014-06-13T00:00:00",
          "2014-06-14T00:00:00",
          "2014-06-15T00:00:00",
          "2014-06-16T00:00:00",
          "2014-06-17T00:00:00",
          "2014-06-18T00:00:00",
          "2014-06-20T00:00:00",
          "2014-06-21T00:00:00",
          "2014-06-22T00:00:00",
          "2014-06-23T00:00:00",
          "2014-06-24T00:00:00",
          "2014-06-25T00:00:00",
          "2014-06-27T00:00:00",
          "2014-06-28T00:00:00",
          "2014-06-29T00:00:00",
          "2014-06-30T00:00:00",
          "2014-07-01T00:00:00",
          "2014-07-02T00:00:00",
          "2014-07-04T00:00:00",
          "2014-07-05T00:00:00",
          "2014-07-06T00:00:00",
          "2014-07-07T00:00:00",
          "2014-07-08T00:00:00",
          "2014-07-09T00:00:00",
          "2014-07-11T00:00:00",
          "2014-07-12T00:00:00",
          "2014-07-13T00:00:00",
          "2014-07-14T00:00:00",
          "2014-07-15T00:00:00",
          "2014-07-18T00:00:00",
          "2014-07-19T00:00:00",
          "2014-07-20T00:00:00",
          "2014-07-21T00:00:00",
          "2014-07-22T00:00:00",
          "2014-07-23T00:00:00",
          "2014-07-25T00:00:00",
          "2014-07-26T00:00:00",
          "2014-07-27T00:00:00",
          "2014-07-28T00:00:00",
          "2014-07-30T00:00:00",
          "2014-08-01T00:00:00",
          "2014-08-02T00:00:00",
          "2014-08-03T00:00:00",
          "2014-08-04T00:00:00",
          "2014-08-05T00:00:00",
          "2014-08-06T00:00:00",
          "2014-08-08T00:00:00",
          "2014-08-09T00:00:00",
          "2014-08-11T00:00:00",
          "2014-08-12T00:00:00",
          "2014-08-15T00:00:00",
          "2014-08-16T00:00:00",
          "2014-08-17T00:00:00",
          "2014-08-19T00:00:00",
          "2014-08-20T00:00:00",
          "2014-08-22T00:00:00",
          "2014-08-23T00:00:00",
          "2014-08-24T00:00:00",
          "2014-08-25T00:00:00",
          "2014-08-26T00:00:00",
          "2014-08-27T00:00:00",
          "2014-08-29T00:00:00",
          "2014-08-30T00:00:00",
          "2014-08-31T00:00:00",
          "2014-09-01T00:00:00",
          "2014-09-02T00:00:00",
          "2014-09-03T00:00:00",
          "2014-09-05T00:00:00",
          "2014-09-06T00:00:00",
          "2014-09-07T00:00:00",
          "2014-09-08T00:00:00",
          "2014-09-09T00:00:00",
          "2014-09-10T00:00:00",
          "2014-09-11T00:00:00",
          "2014-09-12T00:00:00",
          "2014-09-13T00:00:00",
          "2014-09-14T00:00:00",
          "2014-09-15T00:00:00",
          "2014-09-16T00:00:00",
          "2014-09-17T00:00:00",
          "2014-09-19T00:00:00",
          "2014-09-20T00:00:00",
          "2014-09-21T00:00:00",
          "2014-09-22T00:00:00",
          "2014-09-23T00:00:00",
          "2014-09-24T00:00:00",
          "2014-09-25T00:00:00",
          "2014-09-26T00:00:00",
          "2014-09-27T00:00:00",
          "2014-09-28T00:00:00",
          "2014-09-29T00:00:00",
          "2014-09-30T00:00:00",
          "2014-10-01T00:00:00",
          "2014-10-02T00:00:00",
          "2014-10-03T00:00:00",
          "2014-10-04T00:00:00",
          "2014-10-05T00:00:00",
          "2014-10-06T00:00:00",
          "2014-10-07T00:00:00",
          "2014-10-08T00:00:00",
          "2014-10-09T00:00:00",
          "2014-10-10T00:00:00",
          "2014-10-11T00:00:00",
          "2014-10-12T00:00:00",
          "2014-10-13T00:00:00",
          "2014-10-14T00:00:00",
          "2014-10-15T00:00:00",
          "2014-10-16T00:00:00",
          "2014-10-17T00:00:00",
          "2014-10-18T00:00:00",
          "2014-10-19T00:00:00",
          "2014-10-20T00:00:00",
          "2014-10-21T00:00:00",
          "2014-10-22T00:00:00",
          "2014-10-24T00:00:00",
          "2014-10-25T00:00:00",
          "2014-10-26T00:00:00",
          "2014-10-27T00:00:00",
          "2014-10-28T00:00:00",
          "2014-10-29T00:00:00",
          "2014-10-31T00:00:00",
          "2014-11-01T00:00:00",
          "2014-11-02T00:00:00",
          "2014-11-03T00:00:00",
          "2014-11-04T00:00:00",
          "2014-11-05T00:00:00",
          "2014-11-06T00:00:00",
          "2014-11-07T00:00:00",
          "2014-11-08T00:00:00",
          "2014-11-09T00:00:00",
          "2014-11-10T00:00:00",
          "2014-11-11T00:00:00",
          "2014-11-12T00:00:00",
          "2014-11-14T00:00:00",
          "2014-11-15T00:00:00",
          "2014-11-16T00:00:00",
          "2014-11-17T00:00:00",
          "2014-11-18T00:00:00",
          "2014-11-19T00:00:00",
          "2014-11-20T00:00:00",
          "2014-11-21T00:00:00",
          "2014-11-22T00:00:00",
          "2014-11-23T00:00:00",
          "2014-11-24T00:00:00",
          "2014-11-25T00:00:00",
          "2014-11-26T00:00:00",
          "2014-11-27T00:00:00",
          "2014-11-28T00:00:00",
          "2014-11-29T00:00:00",
          "2014-11-30T00:00:00",
          "2014-12-01T00:00:00",
          "2014-12-02T00:00:00",
          "2014-12-03T00:00:00",
          "2014-12-04T00:00:00",
          "2014-12-05T00:00:00",
          "2014-12-06T00:00:00",
          "2014-12-07T00:00:00",
          "2014-12-08T00:00:00",
          "2014-12-09T00:00:00",
          "2014-12-10T00:00:00",
          "2014-12-12T00:00:00",
          "2014-12-13T00:00:00",
          "2014-12-14T00:00:00",
          "2014-12-15T00:00:00",
          "2014-12-16T00:00:00",
          "2014-12-17T00:00:00",
          "2014-12-19T00:00:00",
          "2014-12-20T00:00:00",
          "2014-12-21T00:00:00",
          "2014-12-22T00:00:00",
          "2014-12-23T00:00:00",
          "2014-12-24T00:00:00",
          "2014-12-26T00:00:00",
          "2014-12-27T00:00:00",
          "2014-12-28T00:00:00",
          "2014-12-29T00:00:00",
          "2014-12-30T00:00:00",
          "2014-12-31T00:00:00"
         ],
         "y": [
          5.551199999999998,
          -65.99010000000001,
          4.884,
          1358.0523999999998,
          -71.96209999999999,
          10.917999999999996,
          22.6537,
          3.0813999999999995,
          673.6385999999999,
          -53.28560000000001,
          65.97800000000001,
          -5.933500000000016,
          6.486400000000003,
          -287.9976,
          584.3694999999999,
          4.102799999999999,
          19.2384,
          150.327,
          9.682700000000004,
          1.3256999999999999,
          11.650200000000002,
          3.4195999999999884,
          206.31600000000006,
          7.152499999999995,
          31.5614,
          51.1432,
          76.48329999999999,
          59.34880000000001,
          5.5328,
          293.52849999999995,
          -24.29400000000002,
          120.1764,
          7.209,
          -15.658000000000003,
          8.808799999999998,
          -13.846800000000002,
          35.5612,
          -13.717499999999998,
          9.3312,
          -4.522499999999998,
          18.789299999999997,
          3.404799999999998,
          -208.96140000000014,
          56.0112,
          -629.7989000000001,
          20.07779999999996,
          261.19010000000003,
          134.1538999999999,
          4.188599999999905,
          279.06100000000004,
          528.5024,
          33.59799999999998,
          29.49500000000002,
          -831.8571999999998,
          -954.7089000000022,
          68.63529999999997,
          1055.3735000000001,
          -50.93450000000001,
          126.92240000000002,
          26.275799999999997,
          96.6684,
          30.7658,
          -11.075399999999945,
          -152.7156,
          232.75289999999998,
          355.1097000000001,
          26.089599999999997,
          407.3962,
          85.6044,
          105.45209999999999,
          253.90440000000007,
          299.51519999999994,
          305.05600000000004,
          359.84810000000004,
          523.2729,
          152.65809999999996,
          -384.79419999999993,
          107.99999999999999,
          9.768,
          169.9373999999999,
          87.5664,
          -194.45280000000008,
          5.5755,
          124.78689999999999,
          -0.3052999999999848,
          332.86710000000005,
          40.74499999999999,
          292.1672000000001,
          101.68139999999991,
          276.49559999999997,
          91.95719999999999,
          28.862399999999994,
          58.5624,
          34.51309999999998,
          85.7158,
          215.8138,
          239.9960000000001,
          95.1736,
          57.82600000000002,
          -289.6088,
          -119.22550000000001,
          -242.28369999999993,
          23.31599999999999,
          20.85000000000001,
          45.839999999999996,
          -158.00399999999996,
          35.6472,
          62.05810000000001,
          1719.5087,
          46.581,
          58.050200000000004,
          56.977199999999996,
          -183.78380000000004,
          130.50859999999997,
          111.54079999999993,
          59.30879999999999,
          222.03579999999988,
          230.97269999999995,
          1576.7508999999998,
          218.36079999999995,
          96.1086,
          -6.493200000000024,
          -265.2367000000001,
          -230.33159999999998,
          193.3649999999999,
          629.0288999999998,
          240.8595,
          4.7916,
          57.4938,
          -78.241,
          76.68759999999993,
          1126.6297,
          12.232500000000009,
          -62.9594,
          849.4221,
          40.21470000000001,
          3.180299999999999,
          0.9611999999999998,
          49.71719999999997,
          76.10520000000002,
          109.762,
          8.557499999999997,
          249.55719999999997,
          75.33319999999998,
          22.150800000000004,
          83.94479999999999,
          182.79359999999997,
          222.8455,
          -34.65980000000001,
          -8.442000000000064,
          57.20779999999999,
          537.7298,
          88.45439999999992,
          4.390199999999979,
          -31.10140000000002,
          3.988200000000001,
          -21.39479999999999,
          103.20620000000002,
          162.1880999999999,
          34.12600000000003,
          229.8348,
          267.48439999999994,
          384.50839999999965,
          -3570.9710000000014,
          70.31220000000002,
          34.69839999999999,
          259.8896,
          66.475,
          248.02760000000004,
          -76.7149,
          833.4829000000001,
          504.1059000000001,
          106.6392,
          1129.1342,
          700.8937999999999,
          45.6444,
          357.593,
          118.18259999999995,
          -227.49120000000016,
          193.18359999999996,
          175.4619,
          569.8904999999999,
          4.8787,
          160.40159999999997,
          20.1332,
          118.8423,
          92.0889,
          513.7322999999999,
          -376.46949999999987,
          21.485,
          18.50399999999999,
          85.9402,
          916.2511999999999,
          -4.4639999999999995,
          21.822999999999997,
          39.630799999999994,
          -481.24629999999996,
          -1452.6877000000025,
          16.36159999999986,
          259.62080000000003,
          21.751499999999986,
          600.8836000000001,
          243.82370000000003,
          1530.7599,
          30.1722,
          12.581999999999999,
          233.5287,
          -1539.1441000000011,
          670.1013999999998,
          877.4457,
          87.47569999999996,
          4808.597500000001,
          8.478399999999993,
          -87.55940000000002,
          230.7266,
          123.10640000000001,
          64.36859999999997,
          890.2808999999997,
          119.49049999999998,
          0,
          133.76319999999998,
          -65.42790000000007,
          45.07089999999994,
          46.48299999999999,
          50.0395,
          31.85600000000001,
          60.751799999999996,
          70.00429999999997,
          169.9526,
          110.6137999999999,
          12.877099999999997,
          454.10329999999993,
          1059.3592,
          -0.9321000000000002,
          91.40880000000001,
          -36.83800000000003,
          606.1101999999998,
          124.54770000000002,
          -65.98380000000006,
          26.062299999999915,
          23.303199999999983,
          18.559199999999997,
          9.4491,
          41.59200000000001,
          7.6626,
          93.42820000000003,
          378.5485999999997,
          -48.10750000000027,
          663.3640999999997,
          286.57539999999995,
          -108.22130000000008,
          2443.392,
          -61.61160000000002,
          20.9664,
          155.48629999999997,
          25.018199999999993,
          222.6885999999999,
          436.63309999999996,
          -449.53110000000095,
          79.63399999999994,
          308.9068,
          400.0780999999999,
          137.55819999999994,
          1954.1345999999996,
          -347.52270000000004,
          1979.1982000000003,
          251.172,
          378.1698999999999,
          461.8921,
          -105.23840000000004,
          -97.3574000000001,
          148.62719999999993,
          -62.16120000000004,
          41.29599999999999,
          12.473199999999885,
          104.67719999999998,
          11.828999999999994,
          875.1448000000001,
          111.37489999999994,
          146.8304,
          62.3904,
          425.0407999999999,
          -19.019000000000013,
          201.7832,
          125.92729999999999,
          125.75129999999989,
          101.14259999999996,
          -72.10080000000005,
          8.731400000000015,
          2220.5214999999994,
          -144.73200000000003,
          415.6423999999999,
          7.192399999999999,
          356.9568999999999,
          1557.0101999999997,
          178.26479999999987,
          183.12109999999998,
          67.37939999999995,
          264.30799999999994,
          -3.5974000000001185,
          -336.3251,
          706.8573999999998,
          568.0095,
          -594.5496000000003,
          1444.5131
         ]
        }
       ],
       "layout": {
        "showlegend": true,
        "template": {
         "data": {
          "bar": [
           {
            "error_x": {
             "color": "#2a3f5f"
            },
            "error_y": {
             "color": "#2a3f5f"
            },
            "marker": {
             "line": {
              "color": "#E5ECF6",
              "width": 0.5
             },
             "pattern": {
              "fillmode": "overlay",
              "size": 10,
              "solidity": 0.2
             }
            },
            "type": "bar"
           }
          ],
          "barpolar": [
           {
            "marker": {
             "line": {
              "color": "#E5ECF6",
              "width": 0.5
             },
             "pattern": {
              "fillmode": "overlay",
              "size": 10,
              "solidity": 0.2
             }
            },
            "type": "barpolar"
           }
          ],
          "carpet": [
           {
            "aaxis": {
             "endlinecolor": "#2a3f5f",
             "gridcolor": "white",
             "linecolor": "white",
             "minorgridcolor": "white",
             "startlinecolor": "#2a3f5f"
            },
            "baxis": {
             "endlinecolor": "#2a3f5f",
             "gridcolor": "white",
             "linecolor": "white",
             "minorgridcolor": "white",
             "startlinecolor": "#2a3f5f"
            },
            "type": "carpet"
           }
          ],
          "choropleth": [
           {
            "colorbar": {
             "outlinewidth": 0,
             "ticks": ""
            },
            "type": "choropleth"
           }
          ],
          "contour": [
           {
            "colorbar": {
             "outlinewidth": 0,
             "ticks": ""
            },
            "colorscale": [
             [
              0,
              "#0d0887"
             ],
             [
              0.1111111111111111,
              "#46039f"
             ],
             [
              0.2222222222222222,
              "#7201a8"
             ],
             [
              0.3333333333333333,
              "#9c179e"
             ],
             [
              0.4444444444444444,
              "#bd3786"
             ],
             [
              0.5555555555555556,
              "#d8576b"
             ],
             [
              0.6666666666666666,
              "#ed7953"
             ],
             [
              0.7777777777777778,
              "#fb9f3a"
             ],
             [
              0.8888888888888888,
              "#fdca26"
             ],
             [
              1,
              "#f0f921"
             ]
            ],
            "type": "contour"
           }
          ],
          "contourcarpet": [
           {
            "colorbar": {
             "outlinewidth": 0,
             "ticks": ""
            },
            "type": "contourcarpet"
           }
          ],
          "heatmap": [
           {
            "colorbar": {
             "outlinewidth": 0,
             "ticks": ""
            },
            "colorscale": [
             [
              0,
              "#0d0887"
             ],
             [
              0.1111111111111111,
              "#46039f"
             ],
             [
              0.2222222222222222,
              "#7201a8"
             ],
             [
              0.3333333333333333,
              "#9c179e"
             ],
             [
              0.4444444444444444,
              "#bd3786"
             ],
             [
              0.5555555555555556,
              "#d8576b"
             ],
             [
              0.6666666666666666,
              "#ed7953"
             ],
             [
              0.7777777777777778,
              "#fb9f3a"
             ],
             [
              0.8888888888888888,
              "#fdca26"
             ],
             [
              1,
              "#f0f921"
             ]
            ],
            "type": "heatmap"
           }
          ],
          "heatmapgl": [
           {
            "colorbar": {
             "outlinewidth": 0,
             "ticks": ""
            },
            "colorscale": [
             [
              0,
              "#0d0887"
             ],
             [
              0.1111111111111111,
              "#46039f"
             ],
             [
              0.2222222222222222,
              "#7201a8"
             ],
             [
              0.3333333333333333,
              "#9c179e"
             ],
             [
              0.4444444444444444,
              "#bd3786"
             ],
             [
              0.5555555555555556,
              "#d8576b"
             ],
             [
              0.6666666666666666,
              "#ed7953"
             ],
             [
              0.7777777777777778,
              "#fb9f3a"
             ],
             [
              0.8888888888888888,
              "#fdca26"
             ],
             [
              1,
              "#f0f921"
             ]
            ],
            "type": "heatmapgl"
           }
          ],
          "histogram": [
           {
            "marker": {
             "pattern": {
              "fillmode": "overlay",
              "size": 10,
              "solidity": 0.2
             }
            },
            "type": "histogram"
           }
          ],
          "histogram2d": [
           {
            "colorbar": {
             "outlinewidth": 0,
             "ticks": ""
            },
            "colorscale": [
             [
              0,
              "#0d0887"
             ],
             [
              0.1111111111111111,
              "#46039f"
             ],
             [
              0.2222222222222222,
              "#7201a8"
             ],
             [
              0.3333333333333333,
              "#9c179e"
             ],
             [
              0.4444444444444444,
              "#bd3786"
             ],
             [
              0.5555555555555556,
              "#d8576b"
             ],
             [
              0.6666666666666666,
              "#ed7953"
             ],
             [
              0.7777777777777778,
              "#fb9f3a"
             ],
             [
              0.8888888888888888,
              "#fdca26"
             ],
             [
              1,
              "#f0f921"
             ]
            ],
            "type": "histogram2d"
           }
          ],
          "histogram2dcontour": [
           {
            "colorbar": {
             "outlinewidth": 0,
             "ticks": ""
            },
            "colorscale": [
             [
              0,
              "#0d0887"
             ],
             [
              0.1111111111111111,
              "#46039f"
             ],
             [
              0.2222222222222222,
              "#7201a8"
             ],
             [
              0.3333333333333333,
              "#9c179e"
             ],
             [
              0.4444444444444444,
              "#bd3786"
             ],
             [
              0.5555555555555556,
              "#d8576b"
             ],
             [
              0.6666666666666666,
              "#ed7953"
             ],
             [
              0.7777777777777778,
              "#fb9f3a"
             ],
             [
              0.8888888888888888,
              "#fdca26"
             ],
             [
              1,
              "#f0f921"
             ]
            ],
            "type": "histogram2dcontour"
           }
          ],
          "mesh3d": [
           {
            "colorbar": {
             "outlinewidth": 0,
             "ticks": ""
            },
            "type": "mesh3d"
           }
          ],
          "parcoords": [
           {
            "line": {
             "colorbar": {
              "outlinewidth": 0,
              "ticks": ""
             }
            },
            "type": "parcoords"
           }
          ],
          "pie": [
           {
            "automargin": true,
            "type": "pie"
           }
          ],
          "scatter": [
           {
            "fillpattern": {
             "fillmode": "overlay",
             "size": 10,
             "solidity": 0.2
            },
            "type": "scatter"
           }
          ],
          "scatter3d": [
           {
            "line": {
             "colorbar": {
              "outlinewidth": 0,
              "ticks": ""
             }
            },
            "marker": {
             "colorbar": {
              "outlinewidth": 0,
              "ticks": ""
             }
            },
            "type": "scatter3d"
           }
          ],
          "scattercarpet": [
           {
            "marker": {
             "colorbar": {
              "outlinewidth": 0,
              "ticks": ""
             }
            },
            "type": "scattercarpet"
           }
          ],
          "scattergeo": [
           {
            "marker": {
             "colorbar": {
              "outlinewidth": 0,
              "ticks": ""
             }
            },
            "type": "scattergeo"
           }
          ],
          "scattergl": [
           {
            "marker": {
             "colorbar": {
              "outlinewidth": 0,
              "ticks": ""
             }
            },
            "type": "scattergl"
           }
          ],
          "scattermapbox": [
           {
            "marker": {
             "colorbar": {
              "outlinewidth": 0,
              "ticks": ""
             }
            },
            "type": "scattermapbox"
           }
          ],
          "scatterpolar": [
           {
            "marker": {
             "colorbar": {
              "outlinewidth": 0,
              "ticks": ""
             }
            },
            "type": "scatterpolar"
           }
          ],
          "scatterpolargl": [
           {
            "marker": {
             "colorbar": {
              "outlinewidth": 0,
              "ticks": ""
             }
            },
            "type": "scatterpolargl"
           }
          ],
          "scatterternary": [
           {
            "marker": {
             "colorbar": {
              "outlinewidth": 0,
              "ticks": ""
             }
            },
            "type": "scatterternary"
           }
          ],
          "surface": [
           {
            "colorbar": {
             "outlinewidth": 0,
             "ticks": ""
            },
            "colorscale": [
             [
              0,
              "#0d0887"
             ],
             [
              0.1111111111111111,
              "#46039f"
             ],
             [
              0.2222222222222222,
              "#7201a8"
             ],
             [
              0.3333333333333333,
              "#9c179e"
             ],
             [
              0.4444444444444444,
              "#bd3786"
             ],
             [
              0.5555555555555556,
              "#d8576b"
             ],
             [
              0.6666666666666666,
              "#ed7953"
             ],
             [
              0.7777777777777778,
              "#fb9f3a"
             ],
             [
              0.8888888888888888,
              "#fdca26"
             ],
             [
              1,
              "#f0f921"
             ]
            ],
            "type": "surface"
           }
          ],
          "table": [
           {
            "cells": {
             "fill": {
              "color": "#EBF0F8"
             },
             "line": {
              "color": "white"
             }
            },
            "header": {
             "fill": {
              "color": "#C8D4E3"
             },
             "line": {
              "color": "white"
             }
            },
            "type": "table"
           }
          ]
         },
         "layout": {
          "annotationdefaults": {
           "arrowcolor": "#2a3f5f",
           "arrowhead": 0,
           "arrowwidth": 1
          },
          "autotypenumbers": "strict",
          "coloraxis": {
           "colorbar": {
            "outlinewidth": 0,
            "ticks": ""
           }
          },
          "colorscale": {
           "diverging": [
            [
             0,
             "#8e0152"
            ],
            [
             0.1,
             "#c51b7d"
            ],
            [
             0.2,
             "#de77ae"
            ],
            [
             0.3,
             "#f1b6da"
            ],
            [
             0.4,
             "#fde0ef"
            ],
            [
             0.5,
             "#f7f7f7"
            ],
            [
             0.6,
             "#e6f5d0"
            ],
            [
             0.7,
             "#b8e186"
            ],
            [
             0.8,
             "#7fbc41"
            ],
            [
             0.9,
             "#4d9221"
            ],
            [
             1,
             "#276419"
            ]
           ],
           "sequential": [
            [
             0,
             "#0d0887"
            ],
            [
             0.1111111111111111,
             "#46039f"
            ],
            [
             0.2222222222222222,
             "#7201a8"
            ],
            [
             0.3333333333333333,
             "#9c179e"
            ],
            [
             0.4444444444444444,
             "#bd3786"
            ],
            [
             0.5555555555555556,
             "#d8576b"
            ],
            [
             0.6666666666666666,
             "#ed7953"
            ],
            [
             0.7777777777777778,
             "#fb9f3a"
            ],
            [
             0.8888888888888888,
             "#fdca26"
            ],
            [
             1,
             "#f0f921"
            ]
           ],
           "sequentialminus": [
            [
             0,
             "#0d0887"
            ],
            [
             0.1111111111111111,
             "#46039f"
            ],
            [
             0.2222222222222222,
             "#7201a8"
            ],
            [
             0.3333333333333333,
             "#9c179e"
            ],
            [
             0.4444444444444444,
             "#bd3786"
            ],
            [
             0.5555555555555556,
             "#d8576b"
            ],
            [
             0.6666666666666666,
             "#ed7953"
            ],
            [
             0.7777777777777778,
             "#fb9f3a"
            ],
            [
             0.8888888888888888,
             "#fdca26"
            ],
            [
             1,
             "#f0f921"
            ]
           ]
          },
          "colorway": [
           "#636efa",
           "#EF553B",
           "#00cc96",
           "#ab63fa",
           "#FFA15A",
           "#19d3f3",
           "#FF6692",
           "#B6E880",
           "#FF97FF",
           "#FECB52"
          ],
          "font": {
           "color": "#2a3f5f"
          },
          "geo": {
           "bgcolor": "white",
           "lakecolor": "white",
           "landcolor": "#E5ECF6",
           "showlakes": true,
           "showland": true,
           "subunitcolor": "white"
          },
          "hoverlabel": {
           "align": "left"
          },
          "hovermode": "closest",
          "mapbox": {
           "style": "light"
          },
          "paper_bgcolor": "white",
          "plot_bgcolor": "#E5ECF6",
          "polar": {
           "angularaxis": {
            "gridcolor": "white",
            "linecolor": "white",
            "ticks": ""
           },
           "bgcolor": "#E5ECF6",
           "radialaxis": {
            "gridcolor": "white",
            "linecolor": "white",
            "ticks": ""
           }
          },
          "scene": {
           "xaxis": {
            "backgroundcolor": "#E5ECF6",
            "gridcolor": "white",
            "gridwidth": 2,
            "linecolor": "white",
            "showbackground": true,
            "ticks": "",
            "zerolinecolor": "white"
           },
           "yaxis": {
            "backgroundcolor": "#E5ECF6",
            "gridcolor": "white",
            "gridwidth": 2,
            "linecolor": "white",
            "showbackground": true,
            "ticks": "",
            "zerolinecolor": "white"
           },
           "zaxis": {
            "backgroundcolor": "#E5ECF6",
            "gridcolor": "white",
            "gridwidth": 2,
            "linecolor": "white",
            "showbackground": true,
            "ticks": "",
            "zerolinecolor": "white"
           }
          },
          "shapedefaults": {
           "line": {
            "color": "#2a3f5f"
           }
          },
          "ternary": {
           "aaxis": {
            "gridcolor": "white",
            "linecolor": "white",
            "ticks": ""
           },
           "baxis": {
            "gridcolor": "white",
            "linecolor": "white",
            "ticks": ""
           },
           "bgcolor": "#E5ECF6",
           "caxis": {
            "gridcolor": "white",
            "linecolor": "white",
            "ticks": ""
           }
          },
          "title": {
           "x": 0.05
          },
          "xaxis": {
           "automargin": true,
           "gridcolor": "white",
           "linecolor": "white",
           "ticks": "",
           "title": {
            "standoff": 15
           },
           "zerolinecolor": "white",
           "zerolinewidth": 2
          },
          "yaxis": {
           "automargin": true,
           "gridcolor": "white",
           "linecolor": "white",
           "ticks": "",
           "title": {
            "standoff": 15
           },
           "zerolinecolor": "white",
           "zerolinewidth": 2
          }
         }
        },
        "title": {
         "text": "Ventas y Beneficios Totales 2014 por Estado"
        },
        "xaxis": {
         "title": {
          "text": "Estado"
         }
        },
        "yaxis": {
         "title": {
          "text": "Monto"
         }
        }
       }
      },
      "text/html": [
       "<div>                            <div id=\"77f06f48-a1e0-4ae6-a0df-192e5298ba50\" class=\"plotly-graph-div\" style=\"height:525px; width:100%;\"></div>            <script type=\"text/javascript\">                require([\"plotly\"], function(Plotly) {                    window.PLOTLYENV=window.PLOTLYENV || {};                                    if (document.getElementById(\"77f06f48-a1e0-4ae6-a0df-192e5298ba50\")) {                    Plotly.newPlot(                        \"77f06f48-a1e0-4ae6-a0df-192e5298ba50\",                        [{\"line\":{\"color\":\"blue\",\"width\":2},\"mode\":\"lines+markers\",\"name\":\"Ventas Totales\",\"x\":[\"2014-01-03T00:00:00\",\"2014-01-04T00:00:00\",\"2014-01-05T00:00:00\",\"2014-01-06T00:00:00\",\"2014-01-07T00:00:00\",\"2014-01-09T00:00:00\",\"2014-01-10T00:00:00\",\"2014-01-11T00:00:00\",\"2014-01-13T00:00:00\",\"2014-01-14T00:00:00\",\"2014-01-15T00:00:00\",\"2014-01-16T00:00:00\",\"2014-01-18T00:00:00\",\"2014-01-19T00:00:00\",\"2014-01-20T00:00:00\",\"2014-01-21T00:00:00\",\"2014-01-23T00:00:00\",\"2014-01-26T00:00:00\",\"2014-01-27T00:00:00\",\"2014-01-28T00:00:00\",\"2014-01-30T00:00:00\",\"2014-01-31T00:00:00\",\"2014-02-01T00:00:00\",\"2014-02-02T00:00:00\",\"2014-02-03T00:00:00\",\"2014-02-04T00:00:00\",\"2014-02-06T00:00:00\",\"2014-02-07T00:00:00\",\"2014-02-08T00:00:00\",\"2014-02-11T00:00:00\",\"2014-02-12T00:00:00\",\"2014-02-14T00:00:00\",\"2014-02-15T00:00:00\",\"2014-02-16T00:00:00\",\"2014-02-17T00:00:00\",\"2014-02-18T00:00:00\",\"2014-02-20T00:00:00\",\"2014-02-21T00:00:00\",\"2014-02-22T00:00:00\",\"2014-02-23T00:00:00\",\"2014-02-24T00:00:00\",\"2014-02-27T00:00:00\",\"2014-03-01T00:00:00\",\"2014-03-02T00:00:00\",\"2014-03-03T00:00:00\",\"2014-03-04T00:00:00\",\"2014-03-05T00:00:00\",\"2014-03-07T00:00:00\",\"2014-03-10T00:00:00\",\"2014-03-11T00:00:00\",\"2014-03-14T00:00:00\",\"2014-03-15T00:00:00\",\"2014-03-16T00:00:00\",\"2014-03-17T00:00:00\",\"2014-03-18T00:00:00\",\"2014-03-19T00:00:00\",\"2014-03-21T00:00:00\",\"2014-03-22T00:00:00\",\"2014-03-23T00:00:00\",\"2014-03-24T00:00:00\",\"2014-03-25T00:00:00\",\"2014-03-26T00:00:00\",\"2014-03-28T00:00:00\",\"2014-03-29T00:00:00\",\"2014-03-30T00:00:00\",\"2014-03-31T00:00:00\",\"2014-04-01T00:00:00\",\"2014-04-02T00:00:00\",\"2014-04-03T00:00:00\",\"2014-04-04T00:00:00\",\"2014-04-05T00:00:00\",\"2014-04-06T00:00:00\",\"2014-04-07T00:00:00\",\"2014-04-08T00:00:00\",\"2014-04-11T00:00:00\",\"2014-04-12T00:00:00\",\"2014-04-13T00:00:00\",\"2014-04-15T00:00:00\",\"2014-04-16T00:00:00\",\"2014-04-18T00:00:00\",\"2014-04-19T00:00:00\",\"2014-04-20T00:00:00\",\"2014-04-21T00:00:00\",\"2014-04-22T00:00:00\",\"2014-04-23T00:00:00\",\"2014-04-25T00:00:00\",\"2014-04-26T00:00:00\",\"2014-04-28T00:00:00\",\"2014-04-29T00:00:00\",\"2014-04-30T00:00:00\",\"2014-05-02T00:00:00\",\"2014-05-03T00:00:00\",\"2014-05-04T00:00:00\",\"2014-05-05T00:00:00\",\"2014-05-06T00:00:00\",\"2014-05-07T00:00:00\",\"2014-05-08T00:00:00\",\"2014-05-09T00:00:00\",\"2014-05-10T00:00:00\",\"2014-05-11T00:00:00\",\"2014-05-12T00:00:00\",\"2014-05-13T00:00:00\",\"2014-05-14T00:00:00\",\"2014-05-16T00:00:00\",\"2014-05-17T00:00:00\",\"2014-05-18T00:00:00\",\"2014-05-19T00:00:00\",\"2014-05-20T00:00:00\",\"2014-05-21T00:00:00\",\"2014-05-22T00:00:00\",\"2014-05-23T00:00:00\",\"2014-05-24T00:00:00\",\"2014-05-25T00:00:00\",\"2014-05-26T00:00:00\",\"2014-05-27T00:00:00\",\"2014-05-28T00:00:00\",\"2014-05-30T00:00:00\",\"2014-05-31T00:00:00\",\"2014-06-01T00:00:00\",\"2014-06-02T00:00:00\",\"2014-06-03T00:00:00\",\"2014-06-04T00:00:00\",\"2014-06-06T00:00:00\",\"2014-06-07T00:00:00\",\"2014-06-08T00:00:00\",\"2014-06-09T00:00:00\",\"2014-06-10T00:00:00\",\"2014-06-13T00:00:00\",\"2014-06-14T00:00:00\",\"2014-06-15T00:00:00\",\"2014-06-16T00:00:00\",\"2014-06-17T00:00:00\",\"2014-06-18T00:00:00\",\"2014-06-20T00:00:00\",\"2014-06-21T00:00:00\",\"2014-06-22T00:00:00\",\"2014-06-23T00:00:00\",\"2014-06-24T00:00:00\",\"2014-06-25T00:00:00\",\"2014-06-27T00:00:00\",\"2014-06-28T00:00:00\",\"2014-06-29T00:00:00\",\"2014-06-30T00:00:00\",\"2014-07-01T00:00:00\",\"2014-07-02T00:00:00\",\"2014-07-04T00:00:00\",\"2014-07-05T00:00:00\",\"2014-07-06T00:00:00\",\"2014-07-07T00:00:00\",\"2014-07-08T00:00:00\",\"2014-07-09T00:00:00\",\"2014-07-11T00:00:00\",\"2014-07-12T00:00:00\",\"2014-07-13T00:00:00\",\"2014-07-14T00:00:00\",\"2014-07-15T00:00:00\",\"2014-07-18T00:00:00\",\"2014-07-19T00:00:00\",\"2014-07-20T00:00:00\",\"2014-07-21T00:00:00\",\"2014-07-22T00:00:00\",\"2014-07-23T00:00:00\",\"2014-07-25T00:00:00\",\"2014-07-26T00:00:00\",\"2014-07-27T00:00:00\",\"2014-07-28T00:00:00\",\"2014-07-30T00:00:00\",\"2014-08-01T00:00:00\",\"2014-08-02T00:00:00\",\"2014-08-03T00:00:00\",\"2014-08-04T00:00:00\",\"2014-08-05T00:00:00\",\"2014-08-06T00:00:00\",\"2014-08-08T00:00:00\",\"2014-08-09T00:00:00\",\"2014-08-11T00:00:00\",\"2014-08-12T00:00:00\",\"2014-08-15T00:00:00\",\"2014-08-16T00:00:00\",\"2014-08-17T00:00:00\",\"2014-08-19T00:00:00\",\"2014-08-20T00:00:00\",\"2014-08-22T00:00:00\",\"2014-08-23T00:00:00\",\"2014-08-24T00:00:00\",\"2014-08-25T00:00:00\",\"2014-08-26T00:00:00\",\"2014-08-27T00:00:00\",\"2014-08-29T00:00:00\",\"2014-08-30T00:00:00\",\"2014-08-31T00:00:00\",\"2014-09-01T00:00:00\",\"2014-09-02T00:00:00\",\"2014-09-03T00:00:00\",\"2014-09-05T00:00:00\",\"2014-09-06T00:00:00\",\"2014-09-07T00:00:00\",\"2014-09-08T00:00:00\",\"2014-09-09T00:00:00\",\"2014-09-10T00:00:00\",\"2014-09-11T00:00:00\",\"2014-09-12T00:00:00\",\"2014-09-13T00:00:00\",\"2014-09-14T00:00:00\",\"2014-09-15T00:00:00\",\"2014-09-16T00:00:00\",\"2014-09-17T00:00:00\",\"2014-09-19T00:00:00\",\"2014-09-20T00:00:00\",\"2014-09-21T00:00:00\",\"2014-09-22T00:00:00\",\"2014-09-23T00:00:00\",\"2014-09-24T00:00:00\",\"2014-09-25T00:00:00\",\"2014-09-26T00:00:00\",\"2014-09-27T00:00:00\",\"2014-09-28T00:00:00\",\"2014-09-29T00:00:00\",\"2014-09-30T00:00:00\",\"2014-10-01T00:00:00\",\"2014-10-02T00:00:00\",\"2014-10-03T00:00:00\",\"2014-10-04T00:00:00\",\"2014-10-05T00:00:00\",\"2014-10-06T00:00:00\",\"2014-10-07T00:00:00\",\"2014-10-08T00:00:00\",\"2014-10-09T00:00:00\",\"2014-10-10T00:00:00\",\"2014-10-11T00:00:00\",\"2014-10-12T00:00:00\",\"2014-10-13T00:00:00\",\"2014-10-14T00:00:00\",\"2014-10-15T00:00:00\",\"2014-10-16T00:00:00\",\"2014-10-17T00:00:00\",\"2014-10-18T00:00:00\",\"2014-10-19T00:00:00\",\"2014-10-20T00:00:00\",\"2014-10-21T00:00:00\",\"2014-10-22T00:00:00\",\"2014-10-24T00:00:00\",\"2014-10-25T00:00:00\",\"2014-10-26T00:00:00\",\"2014-10-27T00:00:00\",\"2014-10-28T00:00:00\",\"2014-10-29T00:00:00\",\"2014-10-31T00:00:00\",\"2014-11-01T00:00:00\",\"2014-11-02T00:00:00\",\"2014-11-03T00:00:00\",\"2014-11-04T00:00:00\",\"2014-11-05T00:00:00\",\"2014-11-06T00:00:00\",\"2014-11-07T00:00:00\",\"2014-11-08T00:00:00\",\"2014-11-09T00:00:00\",\"2014-11-10T00:00:00\",\"2014-11-11T00:00:00\",\"2014-11-12T00:00:00\",\"2014-11-14T00:00:00\",\"2014-11-15T00:00:00\",\"2014-11-16T00:00:00\",\"2014-11-17T00:00:00\",\"2014-11-18T00:00:00\",\"2014-11-19T00:00:00\",\"2014-11-20T00:00:00\",\"2014-11-21T00:00:00\",\"2014-11-22T00:00:00\",\"2014-11-23T00:00:00\",\"2014-11-24T00:00:00\",\"2014-11-25T00:00:00\",\"2014-11-26T00:00:00\",\"2014-11-27T00:00:00\",\"2014-11-28T00:00:00\",\"2014-11-29T00:00:00\",\"2014-11-30T00:00:00\",\"2014-12-01T00:00:00\",\"2014-12-02T00:00:00\",\"2014-12-03T00:00:00\",\"2014-12-04T00:00:00\",\"2014-12-05T00:00:00\",\"2014-12-06T00:00:00\",\"2014-12-07T00:00:00\",\"2014-12-08T00:00:00\",\"2014-12-09T00:00:00\",\"2014-12-10T00:00:00\",\"2014-12-12T00:00:00\",\"2014-12-13T00:00:00\",\"2014-12-14T00:00:00\",\"2014-12-15T00:00:00\",\"2014-12-16T00:00:00\",\"2014-12-17T00:00:00\",\"2014-12-19T00:00:00\",\"2014-12-20T00:00:00\",\"2014-12-21T00:00:00\",\"2014-12-22T00:00:00\",\"2014-12-23T00:00:00\",\"2014-12-24T00:00:00\",\"2014-12-26T00:00:00\",\"2014-12-27T00:00:00\",\"2014-12-28T00:00:00\",\"2014-12-29T00:00:00\",\"2014-12-30T00:00:00\",\"2014-12-31T00:00:00\"],\"y\":[16.448,288.06,19.536,4407.1,87.158,40.544000000000004,54.83,9.94,3553.795,61.96,149.95,299.964,64.864,378.59400000000005,2673.87,25.248,46.019999999999996,1097.25,426.67,3.9280000000000004,240.5,290.666,468.90000000000003,211.64600000000002,97.11200000000001,134.38400000000001,330.512,180.32,14.56,2043.4,129.568,576.7259999999999,21.36,9.039999999999997,54.208,37.784,95.59,8.849999999999998,19.44,11.364,55.672000000000004,19.456000000000003,2203.151,202.38400000000001,1345.892,370.45200000000006,705.562,1561.0620000000001,741.9560000000001,918.314,2108.55,370.78200000000004,471.92,3960.358,28106.716,590.7620000000001,4109.816000000001,464.09299999999996,945.064,65.38,459.146,145.13000000000002,1823.8039999999999,890.8409999999999,1170.3220000000001,1959.552,119.88799999999999,1458.558,233.45,475.844,5295.098,1650.6899999999998,1021.17,1958.75,1915.24,1912.123,638.576,294.71999999999997,39.072,1020.532,205.47,1250.45,845.3599999999999,257.752,643.9799999999999,2379.9939999999997,282.56800000000004,2578.476,768.844,1048.74,506.12000000000006,72.632,187.432,260.977,254.456,1091.35,1799.9699999999998,394.48,2343.799,1642.8019999999997,734.846,898.3820000000001,310.88000000000005,289.28,91.67999999999999,948.9480000000001,91.62,320.10400000000004,4264.328,180.93,323.75800000000004,116.28,119.53999999999998,1325.718,2157.394,221.96800000000002,1924.913,773.7,5188.52,738.598,741.336,456.272,1374.0010000000002,281.397,2501.264,5463.008000000001,491.55,14.52,212.94,942.9739999999999,763.792,3418.5020000000004,139.8,1828.9496000000001,4107.443,1975.498,109.49600000000001,4.272,792.76,616.14,1645.791,46.67999999999999,739.624,601.0239999999999,79.56,247.40800000000002,1444.104,1038.4720000000002,241.194,763.0740000000001,265.521,2187.206,1960.0120000000002,351.216,292.594,9.510000000000002,273.04,461.326,2285.786,1961.482,1348.344,2613.184,8341.289999999999,5039.994,580.06,193.152,1367.84,228.32800000000003,886.28,477.994,2743.154,2408.7239999999997,262.89,3955.629,3605.6850000000004,451.62,1832.38,842.7819999999999,853.0919999999999,500.342,1439.1060000000002,1838.722,23.104000000000003,565.224,59.74,1451.65,366.81,2070.13,832.3225000000001,121.24,92.52,469.43600000000004,3254.15,22.08,296.304,100.36,3523.875,14228.427999999998,4043.5879999999997,1855.2279999999998,127.94999999999999,4904.66,1275.408,5023.716,133.436,33.552,820.523,9338.636999999999,5335.968,2679.652,1240.266,10662.337000000001,211.96,354.8888,1480.614,773.4399999999999,490.29200000000003,8109.07,987.5320000000002,4.71,598.144,862.683,728.748,191.9,494.71,237.35999999999999,147.392,249.36,2049.3860000000004,1381.164,58.53,2212.182,4525.484,206.724,194.322,136.068,3134.916,641.104,1501.1040000000003,1356.602,223.808,56.49,103.882,447.88000000000005,22.320000000000004,1510.5819999999999,2813.8120000000004,5362.026,4732.08,2126.37,2784.163,6693.7480000000005,1694.564,43.68,1449.1419999999998,333.576,1574.094,2002.5559999999998,8114.548,1054.7612000000001,1034.73,1780.8220000000001,1355.9285,11544.274000000001,3406.855,7226.086,907.5600000000001,1249.6219999999998,1103.298,1363.28,5578.606,4415.695,1705.99,203.65999999999997,2280.83,649.044,219.15400000000002,5624.39,1771.808,505.88,129.98,2963.6420000000003,1970.978,548.3999999999999,1095.12,1522.652,573.336,4938.4045,293.152,7641.658,1264.466,4394.187000000001,45.534,3436.76,6962.4400000000005,1933.44,798.9680000000001,942.1080000000001,1950.2020000000002,2041.414,2966.3880000000004,3732.296,2072.096,2172.6510000000003,5253.2699999999995],\"type\":\"scatter\"},{\"line\":{\"color\":\"green\",\"width\":2},\"mode\":\"lines+markers\",\"name\":\"Beneficios Totales\",\"x\":[\"2014-01-03T00:00:00\",\"2014-01-04T00:00:00\",\"2014-01-05T00:00:00\",\"2014-01-06T00:00:00\",\"2014-01-07T00:00:00\",\"2014-01-09T00:00:00\",\"2014-01-10T00:00:00\",\"2014-01-11T00:00:00\",\"2014-01-13T00:00:00\",\"2014-01-14T00:00:00\",\"2014-01-15T00:00:00\",\"2014-01-16T00:00:00\",\"2014-01-18T00:00:00\",\"2014-01-19T00:00:00\",\"2014-01-20T00:00:00\",\"2014-01-21T00:00:00\",\"2014-01-23T00:00:00\",\"2014-01-26T00:00:00\",\"2014-01-27T00:00:00\",\"2014-01-28T00:00:00\",\"2014-01-30T00:00:00\",\"2014-01-31T00:00:00\",\"2014-02-01T00:00:00\",\"2014-02-02T00:00:00\",\"2014-02-03T00:00:00\",\"2014-02-04T00:00:00\",\"2014-02-06T00:00:00\",\"2014-02-07T00:00:00\",\"2014-02-08T00:00:00\",\"2014-02-11T00:00:00\",\"2014-02-12T00:00:00\",\"2014-02-14T00:00:00\",\"2014-02-15T00:00:00\",\"2014-02-16T00:00:00\",\"2014-02-17T00:00:00\",\"2014-02-18T00:00:00\",\"2014-02-20T00:00:00\",\"2014-02-21T00:00:00\",\"2014-02-22T00:00:00\",\"2014-02-23T00:00:00\",\"2014-02-24T00:00:00\",\"2014-02-27T00:00:00\",\"2014-03-01T00:00:00\",\"2014-03-02T00:00:00\",\"2014-03-03T00:00:00\",\"2014-03-04T00:00:00\",\"2014-03-05T00:00:00\",\"2014-03-07T00:00:00\",\"2014-03-10T00:00:00\",\"2014-03-11T00:00:00\",\"2014-03-14T00:00:00\",\"2014-03-15T00:00:00\",\"2014-03-16T00:00:00\",\"2014-03-17T00:00:00\",\"2014-03-18T00:00:00\",\"2014-03-19T00:00:00\",\"2014-03-21T00:00:00\",\"2014-03-22T00:00:00\",\"2014-03-23T00:00:00\",\"2014-03-24T00:00:00\",\"2014-03-25T00:00:00\",\"2014-03-26T00:00:00\",\"2014-03-28T00:00:00\",\"2014-03-29T00:00:00\",\"2014-03-30T00:00:00\",\"2014-03-31T00:00:00\",\"2014-04-01T00:00:00\",\"2014-04-02T00:00:00\",\"2014-04-03T00:00:00\",\"2014-04-04T00:00:00\",\"2014-04-05T00:00:00\",\"2014-04-06T00:00:00\",\"2014-04-07T00:00:00\",\"2014-04-08T00:00:00\",\"2014-04-11T00:00:00\",\"2014-04-12T00:00:00\",\"2014-04-13T00:00:00\",\"2014-04-15T00:00:00\",\"2014-04-16T00:00:00\",\"2014-04-18T00:00:00\",\"2014-04-19T00:00:00\",\"2014-04-20T00:00:00\",\"2014-04-21T00:00:00\",\"2014-04-22T00:00:00\",\"2014-04-23T00:00:00\",\"2014-04-25T00:00:00\",\"2014-04-26T00:00:00\",\"2014-04-28T00:00:00\",\"2014-04-29T00:00:00\",\"2014-04-30T00:00:00\",\"2014-05-02T00:00:00\",\"2014-05-03T00:00:00\",\"2014-05-04T00:00:00\",\"2014-05-05T00:00:00\",\"2014-05-06T00:00:00\",\"2014-05-07T00:00:00\",\"2014-05-08T00:00:00\",\"2014-05-09T00:00:00\",\"2014-05-10T00:00:00\",\"2014-05-11T00:00:00\",\"2014-05-12T00:00:00\",\"2014-05-13T00:00:00\",\"2014-05-14T00:00:00\",\"2014-05-16T00:00:00\",\"2014-05-17T00:00:00\",\"2014-05-18T00:00:00\",\"2014-05-19T00:00:00\",\"2014-05-20T00:00:00\",\"2014-05-21T00:00:00\",\"2014-05-22T00:00:00\",\"2014-05-23T00:00:00\",\"2014-05-24T00:00:00\",\"2014-05-25T00:00:00\",\"2014-05-26T00:00:00\",\"2014-05-27T00:00:00\",\"2014-05-28T00:00:00\",\"2014-05-30T00:00:00\",\"2014-05-31T00:00:00\",\"2014-06-01T00:00:00\",\"2014-06-02T00:00:00\",\"2014-06-03T00:00:00\",\"2014-06-04T00:00:00\",\"2014-06-06T00:00:00\",\"2014-06-07T00:00:00\",\"2014-06-08T00:00:00\",\"2014-06-09T00:00:00\",\"2014-06-10T00:00:00\",\"2014-06-13T00:00:00\",\"2014-06-14T00:00:00\",\"2014-06-15T00:00:00\",\"2014-06-16T00:00:00\",\"2014-06-17T00:00:00\",\"2014-06-18T00:00:00\",\"2014-06-20T00:00:00\",\"2014-06-21T00:00:00\",\"2014-06-22T00:00:00\",\"2014-06-23T00:00:00\",\"2014-06-24T00:00:00\",\"2014-06-25T00:00:00\",\"2014-06-27T00:00:00\",\"2014-06-28T00:00:00\",\"2014-06-29T00:00:00\",\"2014-06-30T00:00:00\",\"2014-07-01T00:00:00\",\"2014-07-02T00:00:00\",\"2014-07-04T00:00:00\",\"2014-07-05T00:00:00\",\"2014-07-06T00:00:00\",\"2014-07-07T00:00:00\",\"2014-07-08T00:00:00\",\"2014-07-09T00:00:00\",\"2014-07-11T00:00:00\",\"2014-07-12T00:00:00\",\"2014-07-13T00:00:00\",\"2014-07-14T00:00:00\",\"2014-07-15T00:00:00\",\"2014-07-18T00:00:00\",\"2014-07-19T00:00:00\",\"2014-07-20T00:00:00\",\"2014-07-21T00:00:00\",\"2014-07-22T00:00:00\",\"2014-07-23T00:00:00\",\"2014-07-25T00:00:00\",\"2014-07-26T00:00:00\",\"2014-07-27T00:00:00\",\"2014-07-28T00:00:00\",\"2014-07-30T00:00:00\",\"2014-08-01T00:00:00\",\"2014-08-02T00:00:00\",\"2014-08-03T00:00:00\",\"2014-08-04T00:00:00\",\"2014-08-05T00:00:00\",\"2014-08-06T00:00:00\",\"2014-08-08T00:00:00\",\"2014-08-09T00:00:00\",\"2014-08-11T00:00:00\",\"2014-08-12T00:00:00\",\"2014-08-15T00:00:00\",\"2014-08-16T00:00:00\",\"2014-08-17T00:00:00\",\"2014-08-19T00:00:00\",\"2014-08-20T00:00:00\",\"2014-08-22T00:00:00\",\"2014-08-23T00:00:00\",\"2014-08-24T00:00:00\",\"2014-08-25T00:00:00\",\"2014-08-26T00:00:00\",\"2014-08-27T00:00:00\",\"2014-08-29T00:00:00\",\"2014-08-30T00:00:00\",\"2014-08-31T00:00:00\",\"2014-09-01T00:00:00\",\"2014-09-02T00:00:00\",\"2014-09-03T00:00:00\",\"2014-09-05T00:00:00\",\"2014-09-06T00:00:00\",\"2014-09-07T00:00:00\",\"2014-09-08T00:00:00\",\"2014-09-09T00:00:00\",\"2014-09-10T00:00:00\",\"2014-09-11T00:00:00\",\"2014-09-12T00:00:00\",\"2014-09-13T00:00:00\",\"2014-09-14T00:00:00\",\"2014-09-15T00:00:00\",\"2014-09-16T00:00:00\",\"2014-09-17T00:00:00\",\"2014-09-19T00:00:00\",\"2014-09-20T00:00:00\",\"2014-09-21T00:00:00\",\"2014-09-22T00:00:00\",\"2014-09-23T00:00:00\",\"2014-09-24T00:00:00\",\"2014-09-25T00:00:00\",\"2014-09-26T00:00:00\",\"2014-09-27T00:00:00\",\"2014-09-28T00:00:00\",\"2014-09-29T00:00:00\",\"2014-09-30T00:00:00\",\"2014-10-01T00:00:00\",\"2014-10-02T00:00:00\",\"2014-10-03T00:00:00\",\"2014-10-04T00:00:00\",\"2014-10-05T00:00:00\",\"2014-10-06T00:00:00\",\"2014-10-07T00:00:00\",\"2014-10-08T00:00:00\",\"2014-10-09T00:00:00\",\"2014-10-10T00:00:00\",\"2014-10-11T00:00:00\",\"2014-10-12T00:00:00\",\"2014-10-13T00:00:00\",\"2014-10-14T00:00:00\",\"2014-10-15T00:00:00\",\"2014-10-16T00:00:00\",\"2014-10-17T00:00:00\",\"2014-10-18T00:00:00\",\"2014-10-19T00:00:00\",\"2014-10-20T00:00:00\",\"2014-10-21T00:00:00\",\"2014-10-22T00:00:00\",\"2014-10-24T00:00:00\",\"2014-10-25T00:00:00\",\"2014-10-26T00:00:00\",\"2014-10-27T00:00:00\",\"2014-10-28T00:00:00\",\"2014-10-29T00:00:00\",\"2014-10-31T00:00:00\",\"2014-11-01T00:00:00\",\"2014-11-02T00:00:00\",\"2014-11-03T00:00:00\",\"2014-11-04T00:00:00\",\"2014-11-05T00:00:00\",\"2014-11-06T00:00:00\",\"2014-11-07T00:00:00\",\"2014-11-08T00:00:00\",\"2014-11-09T00:00:00\",\"2014-11-10T00:00:00\",\"2014-11-11T00:00:00\",\"2014-11-12T00:00:00\",\"2014-11-14T00:00:00\",\"2014-11-15T00:00:00\",\"2014-11-16T00:00:00\",\"2014-11-17T00:00:00\",\"2014-11-18T00:00:00\",\"2014-11-19T00:00:00\",\"2014-11-20T00:00:00\",\"2014-11-21T00:00:00\",\"2014-11-22T00:00:00\",\"2014-11-23T00:00:00\",\"2014-11-24T00:00:00\",\"2014-11-25T00:00:00\",\"2014-11-26T00:00:00\",\"2014-11-27T00:00:00\",\"2014-11-28T00:00:00\",\"2014-11-29T00:00:00\",\"2014-11-30T00:00:00\",\"2014-12-01T00:00:00\",\"2014-12-02T00:00:00\",\"2014-12-03T00:00:00\",\"2014-12-04T00:00:00\",\"2014-12-05T00:00:00\",\"2014-12-06T00:00:00\",\"2014-12-07T00:00:00\",\"2014-12-08T00:00:00\",\"2014-12-09T00:00:00\",\"2014-12-10T00:00:00\",\"2014-12-12T00:00:00\",\"2014-12-13T00:00:00\",\"2014-12-14T00:00:00\",\"2014-12-15T00:00:00\",\"2014-12-16T00:00:00\",\"2014-12-17T00:00:00\",\"2014-12-19T00:00:00\",\"2014-12-20T00:00:00\",\"2014-12-21T00:00:00\",\"2014-12-22T00:00:00\",\"2014-12-23T00:00:00\",\"2014-12-24T00:00:00\",\"2014-12-26T00:00:00\",\"2014-12-27T00:00:00\",\"2014-12-28T00:00:00\",\"2014-12-29T00:00:00\",\"2014-12-30T00:00:00\",\"2014-12-31T00:00:00\"],\"y\":[5.551199999999998,-65.99010000000001,4.884,1358.0523999999998,-71.96209999999999,10.917999999999996,22.6537,3.0813999999999995,673.6385999999999,-53.28560000000001,65.97800000000001,-5.933500000000016,6.486400000000003,-287.9976,584.3694999999999,4.102799999999999,19.2384,150.327,9.682700000000004,1.3256999999999999,11.650200000000002,3.4195999999999884,206.31600000000006,7.152499999999995,31.5614,51.1432,76.48329999999999,59.34880000000001,5.5328,293.52849999999995,-24.29400000000002,120.1764,7.209,-15.658000000000003,8.808799999999998,-13.846800000000002,35.5612,-13.717499999999998,9.3312,-4.522499999999998,18.789299999999997,3.404799999999998,-208.96140000000014,56.0112,-629.7989000000001,20.07779999999996,261.19010000000003,134.1538999999999,4.188599999999905,279.06100000000004,528.5024,33.59799999999998,29.49500000000002,-831.8571999999998,-954.7089000000022,68.63529999999997,1055.3735000000001,-50.93450000000001,126.92240000000002,26.275799999999997,96.6684,30.7658,-11.075399999999945,-152.7156,232.75289999999998,355.1097000000001,26.089599999999997,407.3962,85.6044,105.45209999999999,253.90440000000007,299.51519999999994,305.05600000000004,359.84810000000004,523.2729,152.65809999999996,-384.79419999999993,107.99999999999999,9.768,169.9373999999999,87.5664,-194.45280000000008,5.5755,124.78689999999999,-0.3052999999999848,332.86710000000005,40.74499999999999,292.1672000000001,101.68139999999991,276.49559999999997,91.95719999999999,28.862399999999994,58.5624,34.51309999999998,85.7158,215.8138,239.9960000000001,95.1736,57.82600000000002,-289.6088,-119.22550000000001,-242.28369999999993,23.31599999999999,20.85000000000001,45.839999999999996,-158.00399999999996,35.6472,62.05810000000001,1719.5087,46.581,58.050200000000004,56.977199999999996,-183.78380000000004,130.50859999999997,111.54079999999993,59.30879999999999,222.03579999999988,230.97269999999995,1576.7508999999998,218.36079999999995,96.1086,-6.493200000000024,-265.2367000000001,-230.33159999999998,193.3649999999999,629.0288999999998,240.8595,4.7916,57.4938,-78.241,76.68759999999993,1126.6297,12.232500000000009,-62.9594,849.4221,40.21470000000001,3.180299999999999,0.9611999999999998,49.71719999999997,76.10520000000002,109.762,8.557499999999997,249.55719999999997,75.33319999999998,22.150800000000004,83.94479999999999,182.79359999999997,222.8455,-34.65980000000001,-8.442000000000064,57.20779999999999,537.7298,88.45439999999992,4.390199999999979,-31.10140000000002,3.988200000000001,-21.39479999999999,103.20620000000002,162.1880999999999,34.12600000000003,229.8348,267.48439999999994,384.50839999999965,-3570.9710000000014,70.31220000000002,34.69839999999999,259.8896,66.475,248.02760000000004,-76.7149,833.4829000000001,504.1059000000001,106.6392,1129.1342,700.8937999999999,45.6444,357.593,118.18259999999995,-227.49120000000016,193.18359999999996,175.4619,569.8904999999999,4.8787,160.40159999999997,20.1332,118.8423,92.0889,513.7322999999999,-376.46949999999987,21.485,18.50399999999999,85.9402,916.2511999999999,-4.4639999999999995,21.822999999999997,39.630799999999994,-481.24629999999996,-1452.6877000000025,16.36159999999986,259.62080000000003,21.751499999999986,600.8836000000001,243.82370000000003,1530.7599,30.1722,12.581999999999999,233.5287,-1539.1441000000011,670.1013999999998,877.4457,87.47569999999996,4808.597500000001,8.478399999999993,-87.55940000000002,230.7266,123.10640000000001,64.36859999999997,890.2808999999997,119.49049999999998,0.0,133.76319999999998,-65.42790000000007,45.07089999999994,46.48299999999999,50.0395,31.85600000000001,60.751799999999996,70.00429999999997,169.9526,110.6137999999999,12.877099999999997,454.10329999999993,1059.3592,-0.9321000000000002,91.40880000000001,-36.83800000000003,606.1101999999998,124.54770000000002,-65.98380000000006,26.062299999999915,23.303199999999983,18.559199999999997,9.4491,41.59200000000001,7.6626,93.42820000000003,378.5485999999997,-48.10750000000027,663.3640999999997,286.57539999999995,-108.22130000000008,2443.392,-61.61160000000002,20.9664,155.48629999999997,25.018199999999993,222.6885999999999,436.63309999999996,-449.53110000000095,79.63399999999994,308.9068,400.0780999999999,137.55819999999994,1954.1345999999996,-347.52270000000004,1979.1982000000003,251.172,378.1698999999999,461.8921,-105.23840000000004,-97.3574000000001,148.62719999999993,-62.16120000000004,41.29599999999999,12.473199999999885,104.67719999999998,11.828999999999994,875.1448000000001,111.37489999999994,146.8304,62.3904,425.0407999999999,-19.019000000000013,201.7832,125.92729999999999,125.75129999999989,101.14259999999996,-72.10080000000005,8.731400000000015,2220.5214999999994,-144.73200000000003,415.6423999999999,7.192399999999999,356.9568999999999,1557.0101999999997,178.26479999999987,183.12109999999998,67.37939999999995,264.30799999999994,-3.5974000000001185,-336.3251,706.8573999999998,568.0095,-594.5496000000003,1444.5131],\"type\":\"scatter\"}],                        {\"showlegend\":true,\"template\":{\"data\":{\"barpolar\":[{\"marker\":{\"line\":{\"color\":\"#E5ECF6\",\"width\":0.5},\"pattern\":{\"fillmode\":\"overlay\",\"size\":10,\"solidity\":0.2}},\"type\":\"barpolar\"}],\"bar\":[{\"error_x\":{\"color\":\"#2a3f5f\"},\"error_y\":{\"color\":\"#2a3f5f\"},\"marker\":{\"line\":{\"color\":\"#E5ECF6\",\"width\":0.5},\"pattern\":{\"fillmode\":\"overlay\",\"size\":10,\"solidity\":0.2}},\"type\":\"bar\"}],\"carpet\":[{\"aaxis\":{\"endlinecolor\":\"#2a3f5f\",\"gridcolor\":\"white\",\"linecolor\":\"white\",\"minorgridcolor\":\"white\",\"startlinecolor\":\"#2a3f5f\"},\"baxis\":{\"endlinecolor\":\"#2a3f5f\",\"gridcolor\":\"white\",\"linecolor\":\"white\",\"minorgridcolor\":\"white\",\"startlinecolor\":\"#2a3f5f\"},\"type\":\"carpet\"}],\"choropleth\":[{\"colorbar\":{\"outlinewidth\":0,\"ticks\":\"\"},\"type\":\"choropleth\"}],\"contourcarpet\":[{\"colorbar\":{\"outlinewidth\":0,\"ticks\":\"\"},\"type\":\"contourcarpet\"}],\"contour\":[{\"colorbar\":{\"outlinewidth\":0,\"ticks\":\"\"},\"colorscale\":[[0.0,\"#0d0887\"],[0.1111111111111111,\"#46039f\"],[0.2222222222222222,\"#7201a8\"],[0.3333333333333333,\"#9c179e\"],[0.4444444444444444,\"#bd3786\"],[0.5555555555555556,\"#d8576b\"],[0.6666666666666666,\"#ed7953\"],[0.7777777777777778,\"#fb9f3a\"],[0.8888888888888888,\"#fdca26\"],[1.0,\"#f0f921\"]],\"type\":\"contour\"}],\"heatmapgl\":[{\"colorbar\":{\"outlinewidth\":0,\"ticks\":\"\"},\"colorscale\":[[0.0,\"#0d0887\"],[0.1111111111111111,\"#46039f\"],[0.2222222222222222,\"#7201a8\"],[0.3333333333333333,\"#9c179e\"],[0.4444444444444444,\"#bd3786\"],[0.5555555555555556,\"#d8576b\"],[0.6666666666666666,\"#ed7953\"],[0.7777777777777778,\"#fb9f3a\"],[0.8888888888888888,\"#fdca26\"],[1.0,\"#f0f921\"]],\"type\":\"heatmapgl\"}],\"heatmap\":[{\"colorbar\":{\"outlinewidth\":0,\"ticks\":\"\"},\"colorscale\":[[0.0,\"#0d0887\"],[0.1111111111111111,\"#46039f\"],[0.2222222222222222,\"#7201a8\"],[0.3333333333333333,\"#9c179e\"],[0.4444444444444444,\"#bd3786\"],[0.5555555555555556,\"#d8576b\"],[0.6666666666666666,\"#ed7953\"],[0.7777777777777778,\"#fb9f3a\"],[0.8888888888888888,\"#fdca26\"],[1.0,\"#f0f921\"]],\"type\":\"heatmap\"}],\"histogram2dcontour\":[{\"colorbar\":{\"outlinewidth\":0,\"ticks\":\"\"},\"colorscale\":[[0.0,\"#0d0887\"],[0.1111111111111111,\"#46039f\"],[0.2222222222222222,\"#7201a8\"],[0.3333333333333333,\"#9c179e\"],[0.4444444444444444,\"#bd3786\"],[0.5555555555555556,\"#d8576b\"],[0.6666666666666666,\"#ed7953\"],[0.7777777777777778,\"#fb9f3a\"],[0.8888888888888888,\"#fdca26\"],[1.0,\"#f0f921\"]],\"type\":\"histogram2dcontour\"}],\"histogram2d\":[{\"colorbar\":{\"outlinewidth\":0,\"ticks\":\"\"},\"colorscale\":[[0.0,\"#0d0887\"],[0.1111111111111111,\"#46039f\"],[0.2222222222222222,\"#7201a8\"],[0.3333333333333333,\"#9c179e\"],[0.4444444444444444,\"#bd3786\"],[0.5555555555555556,\"#d8576b\"],[0.6666666666666666,\"#ed7953\"],[0.7777777777777778,\"#fb9f3a\"],[0.8888888888888888,\"#fdca26\"],[1.0,\"#f0f921\"]],\"type\":\"histogram2d\"}],\"histogram\":[{\"marker\":{\"pattern\":{\"fillmode\":\"overlay\",\"size\":10,\"solidity\":0.2}},\"type\":\"histogram\"}],\"mesh3d\":[{\"colorbar\":{\"outlinewidth\":0,\"ticks\":\"\"},\"type\":\"mesh3d\"}],\"parcoords\":[{\"line\":{\"colorbar\":{\"outlinewidth\":0,\"ticks\":\"\"}},\"type\":\"parcoords\"}],\"pie\":[{\"automargin\":true,\"type\":\"pie\"}],\"scatter3d\":[{\"line\":{\"colorbar\":{\"outlinewidth\":0,\"ticks\":\"\"}},\"marker\":{\"colorbar\":{\"outlinewidth\":0,\"ticks\":\"\"}},\"type\":\"scatter3d\"}],\"scattercarpet\":[{\"marker\":{\"colorbar\":{\"outlinewidth\":0,\"ticks\":\"\"}},\"type\":\"scattercarpet\"}],\"scattergeo\":[{\"marker\":{\"colorbar\":{\"outlinewidth\":0,\"ticks\":\"\"}},\"type\":\"scattergeo\"}],\"scattergl\":[{\"marker\":{\"colorbar\":{\"outlinewidth\":0,\"ticks\":\"\"}},\"type\":\"scattergl\"}],\"scattermapbox\":[{\"marker\":{\"colorbar\":{\"outlinewidth\":0,\"ticks\":\"\"}},\"type\":\"scattermapbox\"}],\"scatterpolargl\":[{\"marker\":{\"colorbar\":{\"outlinewidth\":0,\"ticks\":\"\"}},\"type\":\"scatterpolargl\"}],\"scatterpolar\":[{\"marker\":{\"colorbar\":{\"outlinewidth\":0,\"ticks\":\"\"}},\"type\":\"scatterpolar\"}],\"scatter\":[{\"fillpattern\":{\"fillmode\":\"overlay\",\"size\":10,\"solidity\":0.2},\"type\":\"scatter\"}],\"scatterternary\":[{\"marker\":{\"colorbar\":{\"outlinewidth\":0,\"ticks\":\"\"}},\"type\":\"scatterternary\"}],\"surface\":[{\"colorbar\":{\"outlinewidth\":0,\"ticks\":\"\"},\"colorscale\":[[0.0,\"#0d0887\"],[0.1111111111111111,\"#46039f\"],[0.2222222222222222,\"#7201a8\"],[0.3333333333333333,\"#9c179e\"],[0.4444444444444444,\"#bd3786\"],[0.5555555555555556,\"#d8576b\"],[0.6666666666666666,\"#ed7953\"],[0.7777777777777778,\"#fb9f3a\"],[0.8888888888888888,\"#fdca26\"],[1.0,\"#f0f921\"]],\"type\":\"surface\"}],\"table\":[{\"cells\":{\"fill\":{\"color\":\"#EBF0F8\"},\"line\":{\"color\":\"white\"}},\"header\":{\"fill\":{\"color\":\"#C8D4E3\"},\"line\":{\"color\":\"white\"}},\"type\":\"table\"}]},\"layout\":{\"annotationdefaults\":{\"arrowcolor\":\"#2a3f5f\",\"arrowhead\":0,\"arrowwidth\":1},\"autotypenumbers\":\"strict\",\"coloraxis\":{\"colorbar\":{\"outlinewidth\":0,\"ticks\":\"\"}},\"colorscale\":{\"diverging\":[[0,\"#8e0152\"],[0.1,\"#c51b7d\"],[0.2,\"#de77ae\"],[0.3,\"#f1b6da\"],[0.4,\"#fde0ef\"],[0.5,\"#f7f7f7\"],[0.6,\"#e6f5d0\"],[0.7,\"#b8e186\"],[0.8,\"#7fbc41\"],[0.9,\"#4d9221\"],[1,\"#276419\"]],\"sequential\":[[0.0,\"#0d0887\"],[0.1111111111111111,\"#46039f\"],[0.2222222222222222,\"#7201a8\"],[0.3333333333333333,\"#9c179e\"],[0.4444444444444444,\"#bd3786\"],[0.5555555555555556,\"#d8576b\"],[0.6666666666666666,\"#ed7953\"],[0.7777777777777778,\"#fb9f3a\"],[0.8888888888888888,\"#fdca26\"],[1.0,\"#f0f921\"]],\"sequentialminus\":[[0.0,\"#0d0887\"],[0.1111111111111111,\"#46039f\"],[0.2222222222222222,\"#7201a8\"],[0.3333333333333333,\"#9c179e\"],[0.4444444444444444,\"#bd3786\"],[0.5555555555555556,\"#d8576b\"],[0.6666666666666666,\"#ed7953\"],[0.7777777777777778,\"#fb9f3a\"],[0.8888888888888888,\"#fdca26\"],[1.0,\"#f0f921\"]]},\"colorway\":[\"#636efa\",\"#EF553B\",\"#00cc96\",\"#ab63fa\",\"#FFA15A\",\"#19d3f3\",\"#FF6692\",\"#B6E880\",\"#FF97FF\",\"#FECB52\"],\"font\":{\"color\":\"#2a3f5f\"},\"geo\":{\"bgcolor\":\"white\",\"lakecolor\":\"white\",\"landcolor\":\"#E5ECF6\",\"showlakes\":true,\"showland\":true,\"subunitcolor\":\"white\"},\"hoverlabel\":{\"align\":\"left\"},\"hovermode\":\"closest\",\"mapbox\":{\"style\":\"light\"},\"paper_bgcolor\":\"white\",\"plot_bgcolor\":\"#E5ECF6\",\"polar\":{\"angularaxis\":{\"gridcolor\":\"white\",\"linecolor\":\"white\",\"ticks\":\"\"},\"bgcolor\":\"#E5ECF6\",\"radialaxis\":{\"gridcolor\":\"white\",\"linecolor\":\"white\",\"ticks\":\"\"}},\"scene\":{\"xaxis\":{\"backgroundcolor\":\"#E5ECF6\",\"gridcolor\":\"white\",\"gridwidth\":2,\"linecolor\":\"white\",\"showbackground\":true,\"ticks\":\"\",\"zerolinecolor\":\"white\"},\"yaxis\":{\"backgroundcolor\":\"#E5ECF6\",\"gridcolor\":\"white\",\"gridwidth\":2,\"linecolor\":\"white\",\"showbackground\":true,\"ticks\":\"\",\"zerolinecolor\":\"white\"},\"zaxis\":{\"backgroundcolor\":\"#E5ECF6\",\"gridcolor\":\"white\",\"gridwidth\":2,\"linecolor\":\"white\",\"showbackground\":true,\"ticks\":\"\",\"zerolinecolor\":\"white\"}},\"shapedefaults\":{\"line\":{\"color\":\"#2a3f5f\"}},\"ternary\":{\"aaxis\":{\"gridcolor\":\"white\",\"linecolor\":\"white\",\"ticks\":\"\"},\"baxis\":{\"gridcolor\":\"white\",\"linecolor\":\"white\",\"ticks\":\"\"},\"bgcolor\":\"#E5ECF6\",\"caxis\":{\"gridcolor\":\"white\",\"linecolor\":\"white\",\"ticks\":\"\"}},\"title\":{\"x\":0.05},\"xaxis\":{\"automargin\":true,\"gridcolor\":\"white\",\"linecolor\":\"white\",\"ticks\":\"\",\"title\":{\"standoff\":15},\"zerolinecolor\":\"white\",\"zerolinewidth\":2},\"yaxis\":{\"automargin\":true,\"gridcolor\":\"white\",\"linecolor\":\"white\",\"ticks\":\"\",\"title\":{\"standoff\":15},\"zerolinecolor\":\"white\",\"zerolinewidth\":2}}},\"title\":{\"text\":\"Ventas y Beneficios Totales 2014 por Estado\"},\"xaxis\":{\"title\":{\"text\":\"Estado\"}},\"yaxis\":{\"title\":{\"text\":\"Monto\"}}},                        {\"responsive\": true}                    ).then(function(){\n",
       "                            \n",
       "var gd = document.getElementById('77f06f48-a1e0-4ae6-a0df-192e5298ba50');\n",
       "var x = new MutationObserver(function (mutations, observer) {{\n",
       "        var display = window.getComputedStyle(gd).display;\n",
       "        if (!display || display === 'none') {{\n",
       "            console.log([gd, 'removed!']);\n",
       "            Plotly.purge(gd);\n",
       "            observer.disconnect();\n",
       "        }}\n",
       "}});\n",
       "\n",
       "// Listen for the removal of the full notebook cells\n",
       "var notebookContainer = gd.closest('#notebook-container');\n",
       "if (notebookContainer) {{\n",
       "    x.observe(notebookContainer, {childList: true});\n",
       "}}\n",
       "\n",
       "// Listen for the clearing of the current output cell\n",
       "var outputEl = gd.closest('.output');\n",
       "if (outputEl) {{\n",
       "    x.observe(outputEl, {childList: true});\n",
       "}}\n",
       "\n",
       "                        })                };                });            </script>        </div>"
      ]
     },
     "metadata": {},
     "output_type": "display_data"
    }
   ],
   "source": [
    "\n",
    "# Crear un objeto de línea para las ventas totales por estado\n",
    "trace_ventas = go.Scatter(x=df_resultado['Order Date'], y=df_resultado['Sales'],\n",
    "                         mode='lines+markers', name='Ventas Totales',\n",
    "                         line=dict(color='blue', width=2))\n",
    "\n",
    "# Crear un objeto de línea para los beneficios totales por estado\n",
    "trace_beneficios = go.Scatter(x=df_resultado['Order Date'], y=df_resultado['Profit'],\n",
    "                              mode='lines+markers', name='Beneficios Totales',\n",
    "                              line=dict(color='green', width=2))\n",
    "\n",
    "# Crear layout\n",
    "layout = go.Layout(title='Ventas y Beneficios Totales 2014 por Estado',\n",
    "                   xaxis=dict(title='Estado'),\n",
    "                   yaxis=dict(title='Monto'),\n",
    "                   showlegend=True)\n",
    "\n",
    "# Crear figura y añadir trazas\n",
    "fig = go.Figure(data=[trace_ventas, trace_beneficios], layout=layout)\n",
    "\n",
    "# Mostrar el gráfico\n",
    "iplot(fig)\n"
   ]
  },
  {
   "cell_type": "code",
   "execution_count": 19,
   "metadata": {},
   "outputs": [
    {
     "name": "stdout",
     "output_type": "stream",
     "text": [
      "Index(['Sales', 'Profit'], dtype='object')\n"
     ]
    }
   ],
   "source": [
    "print(df_resultado.columns)\n",
    "\n"
   ]
  },
  {
   "cell_type": "code",
   "execution_count": 93,
   "metadata": {},
   "outputs": [
    {
     "data": {
      "text/plain": [
       "Order ID\n",
       "CA-2014-100090     9\n",
       "CA-2014-100860     5\n",
       "CA-2014-100867     6\n",
       "CA-2014-101462     4\n",
       "CA-2014-101931    17\n",
       "                  ..\n",
       "US-2017-160143     3\n",
       "US-2017-163300    17\n",
       "US-2017-163657     7\n",
       "US-2017-163790    31\n",
       "US-2017-167318     8\n",
       "Name: Quantity, Length: 1021, dtype: int64"
      ]
     },
     "execution_count": 93,
     "metadata": {},
     "output_type": "execute_result"
    }
   ],
   "source": [
    "df_California = df[df.State== 'California']\n",
    "Q_Pedidos_California = df_California.groupby('Order ID')['Quantity'].sum()\n",
    "Q_Pedidos_California"
   ]
  },
  {
   "cell_type": "code",
   "execution_count": 41,
   "metadata": {},
   "outputs": [
    {
     "data": {
      "text/plain": [
       "Order ID\n",
       "CA-2014-100006     3\n",
       "CA-2014-100328     1\n",
       "CA-2014-100391     2\n",
       "CA-2014-101364    13\n",
       "CA-2014-101476     1\n",
       "                  ..\n",
       "US-2017-148866     5\n",
       "US-2017-155866    10\n",
       "US-2017-157896     3\n",
       "US-2017-166037     9\n",
       "US-2017-168613     2\n",
       "Name: Quantity, Length: 562, dtype: int64"
      ]
     },
     "execution_count": 41,
     "metadata": {},
     "output_type": "execute_result"
    }
   ],
   "source": [
    "df_Nueva_York = df[df['State']== 'New York']\n",
    "Q_Pedidos_Nueva_York = df_Nueva_York.groupby('Order ID')['Quantity'].sum()\n",
    "Q_Pedidos_Nueva_York"
   ]
  },
  {
   "cell_type": "code",
   "execution_count": 42,
   "metadata": {},
   "outputs": [
    {
     "data": {
      "text/plain": [
       "Order ID\n",
       "CA-2014-100678    11\n",
       "CA-2014-101602     8\n",
       "CA-2014-103086     2\n",
       "CA-2014-103492    19\n",
       "CA-2014-103744     6\n",
       "                  ..\n",
       "US-2017-152366     4\n",
       "US-2017-155299     2\n",
       "US-2017-156356     6\n",
       "US-2017-158218     9\n",
       "US-2017-160836    10\n",
       "Name: Quantity, Length: 487, dtype: int64"
      ]
     },
     "execution_count": 42,
     "metadata": {},
     "output_type": "execute_result"
    }
   ],
   "source": [
    "df_Texas = df[df['State']== 'Texas']\n",
    "Q_Pedidos_Texas = df_Texas.groupby('Order ID')['Quantity'].sum()\n",
    "Q_Pedidos_Texas"
   ]
  },
  {
   "cell_type": "code",
   "execution_count": 75,
   "metadata": {},
   "outputs": [
    {
     "data": {
      "application/vnd.plotly.v1+json": {
       "config": {
        "linkText": "Export to plot.ly",
        "plotlyServerURL": "https://plot.ly",
        "showLink": false
       },
       "data": [
        {
         "marker": {
          "color": "rgba(171,50,96,0.6)"
         },
         "name": "Texas",
         "opacity": 0.9,
         "type": "histogram",
         "x": [
          11,
          8,
          2,
          19,
          6,
          2,
          7,
          13,
          2,
          13,
          1,
          10,
          3,
          9,
          5,
          3,
          3,
          2,
          8,
          11,
          6,
          11,
          12,
          15,
          7,
          5,
          5,
          5,
          6,
          6,
          8,
          2,
          6,
          1,
          2,
          12,
          2,
          17,
          9,
          3,
          14,
          3,
          12,
          3,
          20,
          10,
          5,
          1,
          12,
          5,
          3,
          8,
          6,
          2,
          37,
          10,
          13,
          3,
          4,
          4,
          10,
          8,
          2,
          1,
          3,
          6,
          14,
          15,
          19,
          9,
          27,
          5,
          1,
          9,
          24,
          6,
          31,
          2,
          5,
          4,
          9,
          5,
          12,
          12,
          7,
          9,
          8,
          6,
          16,
          4,
          6,
          19,
          12,
          8,
          3,
          16,
          2,
          4,
          6,
          2,
          2,
          7,
          2,
          8,
          2,
          22,
          2,
          2,
          14,
          11,
          6,
          7,
          5,
          3,
          10,
          3,
          17,
          4,
          11,
          8,
          13,
          6,
          17,
          3,
          8,
          2,
          6,
          2,
          1,
          8,
          14,
          17,
          5,
          9,
          4,
          3,
          4,
          2,
          5,
          8,
          2,
          6,
          29,
          2,
          1,
          5,
          9,
          4,
          12,
          3,
          3,
          2,
          17,
          11,
          25,
          5,
          6,
          3,
          6,
          8,
          9,
          4,
          7,
          13,
          4,
          5,
          14,
          8,
          4,
          1,
          10,
          6,
          7,
          13,
          4,
          8,
          4,
          3,
          14,
          2,
          13,
          9,
          11,
          5,
          8,
          12,
          6,
          2,
          12,
          6,
          11,
          12,
          30,
          7,
          7,
          4,
          6,
          3,
          12,
          6,
          1,
          19,
          2,
          7,
          3,
          3,
          2,
          11,
          17,
          17,
          2,
          6,
          20,
          12,
          7,
          2,
          3,
          4,
          2,
          7,
          1,
          2,
          12,
          2,
          1,
          15,
          9,
          10,
          13,
          3,
          3,
          15,
          12,
          6,
          8,
          7,
          18,
          7,
          12,
          6,
          8,
          3,
          12,
          7,
          2,
          7,
          13,
          3,
          6,
          4,
          3,
          19,
          4,
          2,
          6,
          3,
          15,
          4,
          28,
          9,
          1,
          5,
          2,
          2,
          3,
          2,
          2,
          2,
          2,
          1,
          5,
          8,
          15,
          2,
          19,
          9,
          5,
          2,
          3,
          8,
          9,
          5,
          7,
          4,
          3,
          3,
          10,
          10,
          12,
          8,
          7,
          4,
          10,
          15,
          2,
          16,
          10,
          5,
          9,
          2,
          1,
          2,
          1,
          5,
          6,
          3,
          8,
          4,
          5,
          8,
          15,
          3,
          4,
          14,
          9,
          2,
          4,
          9,
          15,
          26,
          6,
          2,
          8,
          3,
          4,
          3,
          3,
          8,
          2,
          21,
          4,
          7,
          4,
          7,
          5,
          3,
          2,
          1,
          5,
          9,
          2,
          8,
          3,
          11,
          5,
          5,
          11,
          2,
          3,
          12,
          6,
          6,
          19,
          2,
          9,
          39,
          6,
          13,
          10,
          8,
          12,
          6,
          9,
          2,
          2,
          1,
          12,
          3,
          11,
          7,
          11,
          3,
          1,
          3,
          5,
          5,
          16,
          7,
          10,
          3,
          10,
          11,
          2,
          16,
          2,
          5,
          6,
          4,
          2,
          10,
          14,
          4,
          17,
          5,
          2,
          13,
          9,
          2,
          5,
          5,
          3,
          1,
          5,
          12,
          18,
          14,
          3,
          1,
          5,
          2,
          6,
          4,
          6,
          2,
          8,
          11,
          8,
          4,
          12,
          7,
          2,
          3,
          7,
          6,
          12,
          21,
          18,
          4,
          4,
          9,
          10,
          37,
          7,
          7,
          10,
          3,
          8,
          15,
          7,
          26,
          2,
          12,
          24,
          3,
          3,
          22,
          7,
          11,
          7,
          2,
          2,
          3,
          2,
          18,
          10,
          15,
          11,
          10,
          4,
          4,
          2,
          2,
          9,
          5,
          12,
          7,
          4,
          25,
          6,
          1,
          9,
          22,
          8,
          2,
          1,
          3,
          24,
          4,
          3,
          6,
          9,
          5,
          4,
          2,
          6,
          9,
          10
         ]
        },
        {
         "marker": {
          "color": "rgba(12,50,196,0.6)"
         },
         "name": "California",
         "opacity": 0.9,
         "type": "histogram",
         "x": [
          9,
          5,
          6,
          4,
          17,
          1,
          10,
          13,
          14,
          2,
          14,
          8,
          2,
          6,
          6,
          10,
          4,
          3,
          5,
          45,
          7,
          6,
          7,
          6,
          5,
          11,
          11,
          17,
          8,
          36,
          15,
          1,
          10,
          7,
          3,
          3,
          14,
          9,
          6,
          8,
          11,
          3,
          3,
          2,
          38,
          4,
          2,
          7,
          8,
          3,
          20,
          12,
          10,
          4,
          8,
          8,
          6,
          8,
          7,
          4,
          5,
          5,
          14,
          2,
          5,
          21,
          2,
          3,
          8,
          11,
          4,
          14,
          1,
          3,
          5,
          14,
          3,
          3,
          3,
          2,
          5,
          18,
          6,
          2,
          1,
          9,
          3,
          4,
          7,
          16,
          4,
          3,
          9,
          4,
          13,
          4,
          3,
          3,
          13,
          6,
          5,
          2,
          5,
          12,
          15,
          9,
          1,
          10,
          8,
          1,
          2,
          9,
          14,
          2,
          17,
          5,
          27,
          17,
          5,
          10,
          9,
          2,
          4,
          2,
          6,
          5,
          5,
          5,
          2,
          3,
          7,
          4,
          8,
          24,
          7,
          3,
          28,
          11,
          3,
          2,
          9,
          18,
          6,
          6,
          10,
          2,
          13,
          9,
          3,
          4,
          6,
          2,
          5,
          7,
          32,
          4,
          5,
          10,
          3,
          2,
          16,
          13,
          2,
          13,
          10,
          8,
          21,
          8,
          3,
          2,
          3,
          13,
          2,
          4,
          9,
          5,
          5,
          1,
          8,
          7,
          6,
          6,
          13,
          14,
          3,
          4,
          2,
          6,
          6,
          8,
          7,
          9,
          7,
          13,
          9,
          4,
          3,
          16,
          11,
          5,
          9,
          2,
          1,
          14,
          9,
          3,
          2,
          2,
          8,
          21,
          4,
          11,
          11,
          3,
          26,
          2,
          10,
          10,
          6,
          5,
          10,
          17,
          6,
          2,
          2,
          2,
          3,
          2,
          30,
          3,
          2,
          6,
          14,
          12,
          11,
          10,
          3,
          7,
          13,
          5,
          7,
          6,
          3,
          6,
          26,
          2,
          4,
          5,
          7,
          5,
          4,
          14,
          4,
          15,
          18,
          8,
          2,
          2,
          12,
          16,
          15,
          5,
          7,
          4,
          2,
          8,
          5,
          2,
          9,
          13,
          8,
          3,
          3,
          3,
          5,
          10,
          9,
          9,
          4,
          11,
          3,
          1,
          11,
          7,
          1,
          2,
          4,
          4,
          3,
          5,
          9,
          2,
          14,
          6,
          9,
          3,
          5,
          10,
          3,
          7,
          8,
          20,
          22,
          6,
          5,
          11,
          6,
          2,
          2,
          6,
          5,
          10,
          20,
          7,
          2,
          2,
          2,
          2,
          2,
          8,
          17,
          13,
          9,
          2,
          8,
          14,
          5,
          4,
          8,
          5,
          12,
          4,
          9,
          8,
          3,
          2,
          3,
          3,
          11,
          2,
          2,
          2,
          4,
          3,
          5,
          26,
          12,
          4,
          2,
          6,
          3,
          6,
          19,
          5,
          5,
          2,
          3,
          2,
          5,
          19,
          8,
          4,
          10,
          5,
          14,
          2,
          2,
          4,
          14,
          10,
          1,
          3,
          2,
          5,
          12,
          6,
          8,
          8,
          2,
          10,
          8,
          2,
          3,
          2,
          5,
          25,
          11,
          13,
          5,
          3,
          14,
          32,
          6,
          3,
          14,
          2,
          3,
          10,
          6,
          3,
          8,
          1,
          3,
          3,
          2,
          4,
          3,
          3,
          5,
          11,
          3,
          6,
          7,
          10,
          3,
          18,
          5,
          9,
          2,
          5,
          16,
          5,
          3,
          5,
          5,
          5,
          3,
          3,
          9,
          7,
          6,
          2,
          6,
          5,
          3,
          6,
          6,
          19,
          12,
          5,
          5,
          1,
          7,
          2,
          1,
          8,
          2,
          23,
          2,
          10,
          27,
          1,
          17,
          7,
          4,
          6,
          8,
          8,
          15,
          4,
          9,
          7,
          7,
          13,
          4,
          4,
          15,
          5,
          3,
          9,
          6,
          20,
          2,
          10,
          23,
          10,
          5,
          9,
          5,
          2,
          9,
          2,
          2,
          4,
          8,
          4,
          5,
          3,
          8,
          2,
          1,
          6,
          17,
          4,
          7,
          3,
          5,
          2,
          15,
          17,
          5,
          8,
          2,
          3,
          6,
          9,
          9,
          7,
          7,
          3,
          2,
          12,
          33,
          14,
          16,
          19,
          12,
          2,
          8,
          4,
          5,
          12,
          16,
          6,
          3,
          3,
          2,
          5,
          2,
          2,
          5,
          23,
          2,
          1,
          9,
          2,
          8,
          16,
          3,
          4,
          6,
          8,
          5,
          3,
          1,
          1,
          11,
          20,
          1,
          4,
          2,
          2,
          2,
          7,
          7,
          6,
          4,
          7,
          7,
          5,
          4,
          2,
          33,
          13,
          2,
          8,
          14,
          6,
          4,
          5,
          12,
          11,
          2,
          7,
          1,
          2,
          1,
          9,
          9,
          2,
          6,
          2,
          2,
          2,
          43,
          2,
          9,
          4,
          2,
          1,
          7,
          13,
          2,
          3,
          3,
          6,
          5,
          3,
          17,
          3,
          7,
          2,
          8,
          3,
          3,
          5,
          13,
          6,
          3,
          2,
          3,
          10,
          15,
          12,
          3,
          7,
          2,
          10,
          10,
          2,
          9,
          2,
          7,
          8,
          6,
          6,
          9,
          4,
          18,
          9,
          3,
          12,
          3,
          4,
          9,
          3,
          2,
          10,
          4,
          3,
          7,
          10,
          6,
          2,
          1,
          5,
          4,
          4,
          9,
          26,
          9,
          3,
          19,
          3,
          5,
          9,
          11,
          14,
          11,
          15,
          16,
          8,
          1,
          5,
          12,
          4,
          6,
          7,
          3,
          6,
          14,
          13,
          2,
          23,
          4,
          46,
          7,
          12,
          1,
          3,
          9,
          1,
          11,
          10,
          1,
          7,
          12,
          3,
          2,
          6,
          4,
          5,
          22,
          8,
          5,
          4,
          7,
          13,
          7,
          8,
          6,
          10,
          19,
          3,
          12,
          8,
          2,
          11,
          4,
          30,
          5,
          4,
          8,
          2,
          8,
          15,
          2,
          7,
          2,
          3,
          11,
          3,
          10,
          6,
          5,
          2,
          3,
          1,
          6,
          2,
          5,
          32,
          16,
          20,
          2,
          4,
          8,
          5,
          9,
          9,
          1,
          5,
          16,
          22,
          10,
          3,
          7,
          4,
          5,
          8,
          3,
          12,
          6,
          3,
          6,
          6,
          1,
          4,
          2,
          13,
          3,
          11,
          15,
          3,
          7,
          8,
          9,
          3,
          13,
          11,
          20,
          16,
          4,
          3,
          2,
          6,
          7,
          13,
          7,
          6,
          12,
          4,
          13,
          4,
          7,
          5,
          12,
          7,
          3,
          3,
          8,
          6,
          17,
          6,
          10,
          5,
          9,
          11,
          9,
          8,
          2,
          9,
          7,
          8,
          5,
          8,
          7,
          2,
          13,
          15,
          14,
          6,
          4,
          5,
          12,
          5,
          10,
          6,
          8,
          4,
          5,
          9,
          2,
          4,
          6,
          2,
          8,
          7,
          2,
          5,
          10,
          2,
          3,
          2,
          8,
          3,
          22,
          2,
          6,
          3,
          7,
          3,
          2,
          1,
          7,
          3,
          1,
          2,
          5,
          9,
          10,
          11,
          7,
          3,
          2,
          26,
          10,
          3,
          1,
          9,
          11,
          5,
          9,
          4,
          14,
          2,
          8,
          3,
          1,
          30,
          12,
          3,
          10,
          9,
          1,
          3,
          6,
          19,
          11,
          9,
          9,
          8,
          2,
          3,
          3,
          8,
          15,
          22,
          3,
          7,
          3,
          6,
          6,
          2,
          8,
          2,
          6,
          3,
          2,
          13,
          7,
          1,
          5,
          17,
          12,
          2,
          2,
          8,
          6,
          11,
          4,
          3,
          17,
          3,
          7,
          15,
          14,
          3,
          14,
          6,
          2,
          23,
          6,
          12,
          5,
          3,
          4,
          3,
          3,
          9,
          9,
          26,
          2,
          1,
          41,
          14,
          5,
          5,
          5,
          3,
          11,
          3,
          6,
          21,
          2,
          21,
          4,
          2,
          7,
          25,
          5,
          32,
          7,
          1,
          2,
          5,
          3,
          9,
          5,
          5,
          2,
          9,
          12,
          4,
          2,
          3,
          16,
          9,
          3,
          17,
          4,
          17,
          21,
          32,
          4,
          3,
          5,
          5,
          5,
          6,
          5,
          5,
          21,
          23,
          9,
          3,
          3,
          4,
          22,
          2,
          4,
          3,
          6,
          4,
          5,
          4,
          4,
          3,
          5,
          5,
          5,
          8,
          2,
          3,
          4,
          5,
          26,
          5,
          1,
          2,
          7,
          3,
          2,
          17,
          7,
          9,
          3,
          17,
          7,
          31,
          8
         ]
        },
        {
         "marker": {
          "color": "rgba(80,90,196,0.6)"
         },
         "name": "Nueva York",
         "opacity": 0.9,
         "type": "histogram",
         "x": [
          3,
          1,
          2,
          13,
          1,
          3,
          1,
          2,
          9,
          14,
          4,
          4,
          13,
          7,
          5,
          8,
          5,
          3,
          8,
          8,
          3,
          17,
          8,
          1,
          12,
          4,
          5,
          6,
          2,
          7,
          4,
          2,
          8,
          11,
          2,
          3,
          3,
          24,
          18,
          5,
          14,
          25,
          2,
          3,
          4,
          3,
          9,
          13,
          9,
          10,
          4,
          2,
          2,
          9,
          2,
          1,
          6,
          2,
          5,
          2,
          16,
          1,
          3,
          7,
          3,
          4,
          7,
          4,
          4,
          7,
          5,
          9,
          7,
          7,
          1,
          10,
          1,
          12,
          6,
          2,
          14,
          3,
          14,
          35,
          3,
          14,
          3,
          14,
          3,
          5,
          4,
          5,
          7,
          6,
          5,
          16,
          14,
          11,
          2,
          13,
          26,
          8,
          9,
          6,
          4,
          1,
          5,
          7,
          15,
          14,
          3,
          11,
          3,
          10,
          9,
          2,
          1,
          3,
          21,
          4,
          3,
          13,
          16,
          3,
          10,
          1,
          6,
          8,
          4,
          3,
          3,
          16,
          17,
          6,
          4,
          19,
          1,
          1,
          6,
          4,
          15,
          2,
          3,
          1,
          35,
          8,
          6,
          8,
          8,
          4,
          3,
          7,
          13,
          14,
          3,
          2,
          1,
          9,
          19,
          15,
          4,
          7,
          17,
          8,
          2,
          2,
          6,
          2,
          16,
          2,
          2,
          6,
          4,
          6,
          18,
          4,
          17,
          3,
          2,
          4,
          2,
          2,
          1,
          7,
          6,
          3,
          18,
          2,
          1,
          3,
          11,
          11,
          14,
          10,
          3,
          16,
          14,
          5,
          2,
          13,
          1,
          6,
          6,
          9,
          5,
          7,
          1,
          10,
          18,
          10,
          15,
          6,
          6,
          7,
          13,
          10,
          3,
          5,
          2,
          9,
          3,
          8,
          6,
          12,
          1,
          5,
          3,
          19,
          2,
          5,
          15,
          5,
          25,
          2,
          2,
          9,
          2,
          9,
          2,
          25,
          2,
          2,
          5,
          3,
          13,
          3,
          5,
          5,
          3,
          5,
          7,
          7,
          3,
          7,
          10,
          5,
          5,
          6,
          11,
          4,
          4,
          3,
          14,
          2,
          9,
          8,
          3,
          4,
          32,
          17,
          12,
          3,
          2,
          4,
          7,
          1,
          1,
          10,
          2,
          14,
          4,
          3,
          6,
          9,
          6,
          5,
          24,
          12,
          16,
          5,
          17,
          1,
          4,
          3,
          6,
          6,
          3,
          19,
          5,
          2,
          7,
          4,
          6,
          17,
          5,
          3,
          6,
          10,
          2,
          3,
          2,
          4,
          4,
          14,
          3,
          3,
          5,
          1,
          8,
          9,
          2,
          5,
          9,
          16,
          12,
          2,
          5,
          8,
          22,
          2,
          9,
          11,
          3,
          22,
          2,
          2,
          22,
          16,
          7,
          9,
          9,
          8,
          16,
          26,
          10,
          52,
          6,
          4,
          13,
          3,
          6,
          11,
          5,
          22,
          9,
          7,
          4,
          5,
          4,
          5,
          5,
          3,
          5,
          3,
          5,
          10,
          10,
          2,
          2,
          2,
          14,
          1,
          1,
          14,
          9,
          9,
          4,
          1,
          1,
          3,
          9,
          15,
          8,
          3,
          7,
          11,
          4,
          12,
          1,
          3,
          5,
          30,
          1,
          5,
          5,
          12,
          9,
          3,
          3,
          3,
          17,
          9,
          2,
          2,
          17,
          7,
          4,
          2,
          2,
          5,
          13,
          3,
          1,
          3,
          3,
          18,
          3,
          8,
          6,
          5,
          2,
          8,
          13,
          4,
          8,
          1,
          2,
          5,
          17,
          3,
          3,
          5,
          3,
          6,
          21,
          4,
          10,
          43,
          14,
          10,
          10,
          10,
          14,
          5,
          9,
          4,
          15,
          12,
          9,
          2,
          4,
          5,
          9,
          8,
          4,
          14,
          1,
          3,
          11,
          6,
          3,
          40,
          5,
          4,
          8,
          7,
          9,
          2,
          10,
          8,
          7,
          11,
          3,
          7,
          15,
          21,
          8,
          7,
          7,
          5,
          6,
          4,
          8,
          4,
          4,
          15,
          10,
          1,
          3,
          2,
          5,
          5,
          5,
          2,
          4,
          8,
          12,
          8,
          11,
          3,
          25,
          11,
          4,
          1,
          3,
          10,
          40,
          21,
          3,
          1,
          2,
          4,
          7,
          3,
          2,
          4,
          4,
          18,
          5,
          13,
          8,
          2,
          1,
          7,
          3,
          13,
          11,
          7,
          18,
          18,
          7,
          7,
          4,
          7,
          8,
          10,
          11,
          10,
          13,
          3,
          5,
          10,
          3,
          7,
          11,
          8,
          7,
          4,
          2,
          6,
          6,
          4,
          5,
          10,
          17,
          6,
          2,
          5,
          10,
          3,
          9,
          2
         ]
        }
       ],
       "layout": {
        "barmode": "overlay",
        "template": {
         "data": {
          "bar": [
           {
            "error_x": {
             "color": "#2a3f5f"
            },
            "error_y": {
             "color": "#2a3f5f"
            },
            "marker": {
             "line": {
              "color": "#E5ECF6",
              "width": 0.5
             },
             "pattern": {
              "fillmode": "overlay",
              "size": 10,
              "solidity": 0.2
             }
            },
            "type": "bar"
           }
          ],
          "barpolar": [
           {
            "marker": {
             "line": {
              "color": "#E5ECF6",
              "width": 0.5
             },
             "pattern": {
              "fillmode": "overlay",
              "size": 10,
              "solidity": 0.2
             }
            },
            "type": "barpolar"
           }
          ],
          "carpet": [
           {
            "aaxis": {
             "endlinecolor": "#2a3f5f",
             "gridcolor": "white",
             "linecolor": "white",
             "minorgridcolor": "white",
             "startlinecolor": "#2a3f5f"
            },
            "baxis": {
             "endlinecolor": "#2a3f5f",
             "gridcolor": "white",
             "linecolor": "white",
             "minorgridcolor": "white",
             "startlinecolor": "#2a3f5f"
            },
            "type": "carpet"
           }
          ],
          "choropleth": [
           {
            "colorbar": {
             "outlinewidth": 0,
             "ticks": ""
            },
            "type": "choropleth"
           }
          ],
          "contour": [
           {
            "colorbar": {
             "outlinewidth": 0,
             "ticks": ""
            },
            "colorscale": [
             [
              0,
              "#0d0887"
             ],
             [
              0.1111111111111111,
              "#46039f"
             ],
             [
              0.2222222222222222,
              "#7201a8"
             ],
             [
              0.3333333333333333,
              "#9c179e"
             ],
             [
              0.4444444444444444,
              "#bd3786"
             ],
             [
              0.5555555555555556,
              "#d8576b"
             ],
             [
              0.6666666666666666,
              "#ed7953"
             ],
             [
              0.7777777777777778,
              "#fb9f3a"
             ],
             [
              0.8888888888888888,
              "#fdca26"
             ],
             [
              1,
              "#f0f921"
             ]
            ],
            "type": "contour"
           }
          ],
          "contourcarpet": [
           {
            "colorbar": {
             "outlinewidth": 0,
             "ticks": ""
            },
            "type": "contourcarpet"
           }
          ],
          "heatmap": [
           {
            "colorbar": {
             "outlinewidth": 0,
             "ticks": ""
            },
            "colorscale": [
             [
              0,
              "#0d0887"
             ],
             [
              0.1111111111111111,
              "#46039f"
             ],
             [
              0.2222222222222222,
              "#7201a8"
             ],
             [
              0.3333333333333333,
              "#9c179e"
             ],
             [
              0.4444444444444444,
              "#bd3786"
             ],
             [
              0.5555555555555556,
              "#d8576b"
             ],
             [
              0.6666666666666666,
              "#ed7953"
             ],
             [
              0.7777777777777778,
              "#fb9f3a"
             ],
             [
              0.8888888888888888,
              "#fdca26"
             ],
             [
              1,
              "#f0f921"
             ]
            ],
            "type": "heatmap"
           }
          ],
          "heatmapgl": [
           {
            "colorbar": {
             "outlinewidth": 0,
             "ticks": ""
            },
            "colorscale": [
             [
              0,
              "#0d0887"
             ],
             [
              0.1111111111111111,
              "#46039f"
             ],
             [
              0.2222222222222222,
              "#7201a8"
             ],
             [
              0.3333333333333333,
              "#9c179e"
             ],
             [
              0.4444444444444444,
              "#bd3786"
             ],
             [
              0.5555555555555556,
              "#d8576b"
             ],
             [
              0.6666666666666666,
              "#ed7953"
             ],
             [
              0.7777777777777778,
              "#fb9f3a"
             ],
             [
              0.8888888888888888,
              "#fdca26"
             ],
             [
              1,
              "#f0f921"
             ]
            ],
            "type": "heatmapgl"
           }
          ],
          "histogram": [
           {
            "marker": {
             "pattern": {
              "fillmode": "overlay",
              "size": 10,
              "solidity": 0.2
             }
            },
            "type": "histogram"
           }
          ],
          "histogram2d": [
           {
            "colorbar": {
             "outlinewidth": 0,
             "ticks": ""
            },
            "colorscale": [
             [
              0,
              "#0d0887"
             ],
             [
              0.1111111111111111,
              "#46039f"
             ],
             [
              0.2222222222222222,
              "#7201a8"
             ],
             [
              0.3333333333333333,
              "#9c179e"
             ],
             [
              0.4444444444444444,
              "#bd3786"
             ],
             [
              0.5555555555555556,
              "#d8576b"
             ],
             [
              0.6666666666666666,
              "#ed7953"
             ],
             [
              0.7777777777777778,
              "#fb9f3a"
             ],
             [
              0.8888888888888888,
              "#fdca26"
             ],
             [
              1,
              "#f0f921"
             ]
            ],
            "type": "histogram2d"
           }
          ],
          "histogram2dcontour": [
           {
            "colorbar": {
             "outlinewidth": 0,
             "ticks": ""
            },
            "colorscale": [
             [
              0,
              "#0d0887"
             ],
             [
              0.1111111111111111,
              "#46039f"
             ],
             [
              0.2222222222222222,
              "#7201a8"
             ],
             [
              0.3333333333333333,
              "#9c179e"
             ],
             [
              0.4444444444444444,
              "#bd3786"
             ],
             [
              0.5555555555555556,
              "#d8576b"
             ],
             [
              0.6666666666666666,
              "#ed7953"
             ],
             [
              0.7777777777777778,
              "#fb9f3a"
             ],
             [
              0.8888888888888888,
              "#fdca26"
             ],
             [
              1,
              "#f0f921"
             ]
            ],
            "type": "histogram2dcontour"
           }
          ],
          "mesh3d": [
           {
            "colorbar": {
             "outlinewidth": 0,
             "ticks": ""
            },
            "type": "mesh3d"
           }
          ],
          "parcoords": [
           {
            "line": {
             "colorbar": {
              "outlinewidth": 0,
              "ticks": ""
             }
            },
            "type": "parcoords"
           }
          ],
          "pie": [
           {
            "automargin": true,
            "type": "pie"
           }
          ],
          "scatter": [
           {
            "fillpattern": {
             "fillmode": "overlay",
             "size": 10,
             "solidity": 0.2
            },
            "type": "scatter"
           }
          ],
          "scatter3d": [
           {
            "line": {
             "colorbar": {
              "outlinewidth": 0,
              "ticks": ""
             }
            },
            "marker": {
             "colorbar": {
              "outlinewidth": 0,
              "ticks": ""
             }
            },
            "type": "scatter3d"
           }
          ],
          "scattercarpet": [
           {
            "marker": {
             "colorbar": {
              "outlinewidth": 0,
              "ticks": ""
             }
            },
            "type": "scattercarpet"
           }
          ],
          "scattergeo": [
           {
            "marker": {
             "colorbar": {
              "outlinewidth": 0,
              "ticks": ""
             }
            },
            "type": "scattergeo"
           }
          ],
          "scattergl": [
           {
            "marker": {
             "colorbar": {
              "outlinewidth": 0,
              "ticks": ""
             }
            },
            "type": "scattergl"
           }
          ],
          "scattermapbox": [
           {
            "marker": {
             "colorbar": {
              "outlinewidth": 0,
              "ticks": ""
             }
            },
            "type": "scattermapbox"
           }
          ],
          "scatterpolar": [
           {
            "marker": {
             "colorbar": {
              "outlinewidth": 0,
              "ticks": ""
             }
            },
            "type": "scatterpolar"
           }
          ],
          "scatterpolargl": [
           {
            "marker": {
             "colorbar": {
              "outlinewidth": 0,
              "ticks": ""
             }
            },
            "type": "scatterpolargl"
           }
          ],
          "scatterternary": [
           {
            "marker": {
             "colorbar": {
              "outlinewidth": 0,
              "ticks": ""
             }
            },
            "type": "scatterternary"
           }
          ],
          "surface": [
           {
            "colorbar": {
             "outlinewidth": 0,
             "ticks": ""
            },
            "colorscale": [
             [
              0,
              "#0d0887"
             ],
             [
              0.1111111111111111,
              "#46039f"
             ],
             [
              0.2222222222222222,
              "#7201a8"
             ],
             [
              0.3333333333333333,
              "#9c179e"
             ],
             [
              0.4444444444444444,
              "#bd3786"
             ],
             [
              0.5555555555555556,
              "#d8576b"
             ],
             [
              0.6666666666666666,
              "#ed7953"
             ],
             [
              0.7777777777777778,
              "#fb9f3a"
             ],
             [
              0.8888888888888888,
              "#fdca26"
             ],
             [
              1,
              "#f0f921"
             ]
            ],
            "type": "surface"
           }
          ],
          "table": [
           {
            "cells": {
             "fill": {
              "color": "#EBF0F8"
             },
             "line": {
              "color": "white"
             }
            },
            "header": {
             "fill": {
              "color": "#C8D4E3"
             },
             "line": {
              "color": "white"
             }
            },
            "type": "table"
           }
          ]
         },
         "layout": {
          "annotationdefaults": {
           "arrowcolor": "#2a3f5f",
           "arrowhead": 0,
           "arrowwidth": 1
          },
          "autotypenumbers": "strict",
          "coloraxis": {
           "colorbar": {
            "outlinewidth": 0,
            "ticks": ""
           }
          },
          "colorscale": {
           "diverging": [
            [
             0,
             "#8e0152"
            ],
            [
             0.1,
             "#c51b7d"
            ],
            [
             0.2,
             "#de77ae"
            ],
            [
             0.3,
             "#f1b6da"
            ],
            [
             0.4,
             "#fde0ef"
            ],
            [
             0.5,
             "#f7f7f7"
            ],
            [
             0.6,
             "#e6f5d0"
            ],
            [
             0.7,
             "#b8e186"
            ],
            [
             0.8,
             "#7fbc41"
            ],
            [
             0.9,
             "#4d9221"
            ],
            [
             1,
             "#276419"
            ]
           ],
           "sequential": [
            [
             0,
             "#0d0887"
            ],
            [
             0.1111111111111111,
             "#46039f"
            ],
            [
             0.2222222222222222,
             "#7201a8"
            ],
            [
             0.3333333333333333,
             "#9c179e"
            ],
            [
             0.4444444444444444,
             "#bd3786"
            ],
            [
             0.5555555555555556,
             "#d8576b"
            ],
            [
             0.6666666666666666,
             "#ed7953"
            ],
            [
             0.7777777777777778,
             "#fb9f3a"
            ],
            [
             0.8888888888888888,
             "#fdca26"
            ],
            [
             1,
             "#f0f921"
            ]
           ],
           "sequentialminus": [
            [
             0,
             "#0d0887"
            ],
            [
             0.1111111111111111,
             "#46039f"
            ],
            [
             0.2222222222222222,
             "#7201a8"
            ],
            [
             0.3333333333333333,
             "#9c179e"
            ],
            [
             0.4444444444444444,
             "#bd3786"
            ],
            [
             0.5555555555555556,
             "#d8576b"
            ],
            [
             0.6666666666666666,
             "#ed7953"
            ],
            [
             0.7777777777777778,
             "#fb9f3a"
            ],
            [
             0.8888888888888888,
             "#fdca26"
            ],
            [
             1,
             "#f0f921"
            ]
           ]
          },
          "colorway": [
           "#636efa",
           "#EF553B",
           "#00cc96",
           "#ab63fa",
           "#FFA15A",
           "#19d3f3",
           "#FF6692",
           "#B6E880",
           "#FF97FF",
           "#FECB52"
          ],
          "font": {
           "color": "#2a3f5f"
          },
          "geo": {
           "bgcolor": "white",
           "lakecolor": "white",
           "landcolor": "#E5ECF6",
           "showlakes": true,
           "showland": true,
           "subunitcolor": "white"
          },
          "hoverlabel": {
           "align": "left"
          },
          "hovermode": "closest",
          "mapbox": {
           "style": "light"
          },
          "paper_bgcolor": "white",
          "plot_bgcolor": "#E5ECF6",
          "polar": {
           "angularaxis": {
            "gridcolor": "white",
            "linecolor": "white",
            "ticks": ""
           },
           "bgcolor": "#E5ECF6",
           "radialaxis": {
            "gridcolor": "white",
            "linecolor": "white",
            "ticks": ""
           }
          },
          "scene": {
           "xaxis": {
            "backgroundcolor": "#E5ECF6",
            "gridcolor": "white",
            "gridwidth": 2,
            "linecolor": "white",
            "showbackground": true,
            "ticks": "",
            "zerolinecolor": "white"
           },
           "yaxis": {
            "backgroundcolor": "#E5ECF6",
            "gridcolor": "white",
            "gridwidth": 2,
            "linecolor": "white",
            "showbackground": true,
            "ticks": "",
            "zerolinecolor": "white"
           },
           "zaxis": {
            "backgroundcolor": "#E5ECF6",
            "gridcolor": "white",
            "gridwidth": 2,
            "linecolor": "white",
            "showbackground": true,
            "ticks": "",
            "zerolinecolor": "white"
           }
          },
          "shapedefaults": {
           "line": {
            "color": "#2a3f5f"
           }
          },
          "ternary": {
           "aaxis": {
            "gridcolor": "white",
            "linecolor": "white",
            "ticks": ""
           },
           "baxis": {
            "gridcolor": "white",
            "linecolor": "white",
            "ticks": ""
           },
           "bgcolor": "#E5ECF6",
           "caxis": {
            "gridcolor": "white",
            "linecolor": "white",
            "ticks": ""
           }
          },
          "title": {
           "x": 0.05
          },
          "xaxis": {
           "automargin": true,
           "gridcolor": "white",
           "linecolor": "white",
           "ticks": "",
           "title": {
            "standoff": 15
           },
           "zerolinecolor": "white",
           "zerolinewidth": 2
          },
          "yaxis": {
           "automargin": true,
           "gridcolor": "white",
           "linecolor": "white",
           "ticks": "",
           "title": {
            "standoff": 15
           },
           "zerolinecolor": "white",
           "zerolinewidth": 2
          }
         }
        },
        "title": {
         "text": " Numero de pedidos por Estado"
        },
        "xaxis": {
         "title": {
          "text": "Pedidos"
         }
        },
        "yaxis": {
         "title": {
          "text": "Numero"
         }
        }
       }
      },
      "text/html": [
       "<div>                            <div id=\"d14a013c-3562-4ab5-b764-29d937e0a935\" class=\"plotly-graph-div\" style=\"height:525px; width:100%;\"></div>            <script type=\"text/javascript\">                require([\"plotly\"], function(Plotly) {                    window.PLOTLYENV=window.PLOTLYENV || {};                                    if (document.getElementById(\"d14a013c-3562-4ab5-b764-29d937e0a935\")) {                    Plotly.newPlot(                        \"d14a013c-3562-4ab5-b764-29d937e0a935\",                        [{\"marker\":{\"color\":\"rgba(171,50,96,0.6)\"},\"name\":\"Texas\",\"opacity\":0.9,\"x\":[11,8,2,19,6,2,7,13,2,13,1,10,3,9,5,3,3,2,8,11,6,11,12,15,7,5,5,5,6,6,8,2,6,1,2,12,2,17,9,3,14,3,12,3,20,10,5,1,12,5,3,8,6,2,37,10,13,3,4,4,10,8,2,1,3,6,14,15,19,9,27,5,1,9,24,6,31,2,5,4,9,5,12,12,7,9,8,6,16,4,6,19,12,8,3,16,2,4,6,2,2,7,2,8,2,22,2,2,14,11,6,7,5,3,10,3,17,4,11,8,13,6,17,3,8,2,6,2,1,8,14,17,5,9,4,3,4,2,5,8,2,6,29,2,1,5,9,4,12,3,3,2,17,11,25,5,6,3,6,8,9,4,7,13,4,5,14,8,4,1,10,6,7,13,4,8,4,3,14,2,13,9,11,5,8,12,6,2,12,6,11,12,30,7,7,4,6,3,12,6,1,19,2,7,3,3,2,11,17,17,2,6,20,12,7,2,3,4,2,7,1,2,12,2,1,15,9,10,13,3,3,15,12,6,8,7,18,7,12,6,8,3,12,7,2,7,13,3,6,4,3,19,4,2,6,3,15,4,28,9,1,5,2,2,3,2,2,2,2,1,5,8,15,2,19,9,5,2,3,8,9,5,7,4,3,3,10,10,12,8,7,4,10,15,2,16,10,5,9,2,1,2,1,5,6,3,8,4,5,8,15,3,4,14,9,2,4,9,15,26,6,2,8,3,4,3,3,8,2,21,4,7,4,7,5,3,2,1,5,9,2,8,3,11,5,5,11,2,3,12,6,6,19,2,9,39,6,13,10,8,12,6,9,2,2,1,12,3,11,7,11,3,1,3,5,5,16,7,10,3,10,11,2,16,2,5,6,4,2,10,14,4,17,5,2,13,9,2,5,5,3,1,5,12,18,14,3,1,5,2,6,4,6,2,8,11,8,4,12,7,2,3,7,6,12,21,18,4,4,9,10,37,7,7,10,3,8,15,7,26,2,12,24,3,3,22,7,11,7,2,2,3,2,18,10,15,11,10,4,4,2,2,9,5,12,7,4,25,6,1,9,22,8,2,1,3,24,4,3,6,9,5,4,2,6,9,10],\"type\":\"histogram\"},{\"marker\":{\"color\":\"rgba(12,50,196,0.6)\"},\"name\":\"California\",\"opacity\":0.9,\"x\":[9,5,6,4,17,1,10,13,14,2,14,8,2,6,6,10,4,3,5,45,7,6,7,6,5,11,11,17,8,36,15,1,10,7,3,3,14,9,6,8,11,3,3,2,38,4,2,7,8,3,20,12,10,4,8,8,6,8,7,4,5,5,14,2,5,21,2,3,8,11,4,14,1,3,5,14,3,3,3,2,5,18,6,2,1,9,3,4,7,16,4,3,9,4,13,4,3,3,13,6,5,2,5,12,15,9,1,10,8,1,2,9,14,2,17,5,27,17,5,10,9,2,4,2,6,5,5,5,2,3,7,4,8,24,7,3,28,11,3,2,9,18,6,6,10,2,13,9,3,4,6,2,5,7,32,4,5,10,3,2,16,13,2,13,10,8,21,8,3,2,3,13,2,4,9,5,5,1,8,7,6,6,13,14,3,4,2,6,6,8,7,9,7,13,9,4,3,16,11,5,9,2,1,14,9,3,2,2,8,21,4,11,11,3,26,2,10,10,6,5,10,17,6,2,2,2,3,2,30,3,2,6,14,12,11,10,3,7,13,5,7,6,3,6,26,2,4,5,7,5,4,14,4,15,18,8,2,2,12,16,15,5,7,4,2,8,5,2,9,13,8,3,3,3,5,10,9,9,4,11,3,1,11,7,1,2,4,4,3,5,9,2,14,6,9,3,5,10,3,7,8,20,22,6,5,11,6,2,2,6,5,10,20,7,2,2,2,2,2,8,17,13,9,2,8,14,5,4,8,5,12,4,9,8,3,2,3,3,11,2,2,2,4,3,5,26,12,4,2,6,3,6,19,5,5,2,3,2,5,19,8,4,10,5,14,2,2,4,14,10,1,3,2,5,12,6,8,8,2,10,8,2,3,2,5,25,11,13,5,3,14,32,6,3,14,2,3,10,6,3,8,1,3,3,2,4,3,3,5,11,3,6,7,10,3,18,5,9,2,5,16,5,3,5,5,5,3,3,9,7,6,2,6,5,3,6,6,19,12,5,5,1,7,2,1,8,2,23,2,10,27,1,17,7,4,6,8,8,15,4,9,7,7,13,4,4,15,5,3,9,6,20,2,10,23,10,5,9,5,2,9,2,2,4,8,4,5,3,8,2,1,6,17,4,7,3,5,2,15,17,5,8,2,3,6,9,9,7,7,3,2,12,33,14,16,19,12,2,8,4,5,12,16,6,3,3,2,5,2,2,5,23,2,1,9,2,8,16,3,4,6,8,5,3,1,1,11,20,1,4,2,2,2,7,7,6,4,7,7,5,4,2,33,13,2,8,14,6,4,5,12,11,2,7,1,2,1,9,9,2,6,2,2,2,43,2,9,4,2,1,7,13,2,3,3,6,5,3,17,3,7,2,8,3,3,5,13,6,3,2,3,10,15,12,3,7,2,10,10,2,9,2,7,8,6,6,9,4,18,9,3,12,3,4,9,3,2,10,4,3,7,10,6,2,1,5,4,4,9,26,9,3,19,3,5,9,11,14,11,15,16,8,1,5,12,4,6,7,3,6,14,13,2,23,4,46,7,12,1,3,9,1,11,10,1,7,12,3,2,6,4,5,22,8,5,4,7,13,7,8,6,10,19,3,12,8,2,11,4,30,5,4,8,2,8,15,2,7,2,3,11,3,10,6,5,2,3,1,6,2,5,32,16,20,2,4,8,5,9,9,1,5,16,22,10,3,7,4,5,8,3,12,6,3,6,6,1,4,2,13,3,11,15,3,7,8,9,3,13,11,20,16,4,3,2,6,7,13,7,6,12,4,13,4,7,5,12,7,3,3,8,6,17,6,10,5,9,11,9,8,2,9,7,8,5,8,7,2,13,15,14,6,4,5,12,5,10,6,8,4,5,9,2,4,6,2,8,7,2,5,10,2,3,2,8,3,22,2,6,3,7,3,2,1,7,3,1,2,5,9,10,11,7,3,2,26,10,3,1,9,11,5,9,4,14,2,8,3,1,30,12,3,10,9,1,3,6,19,11,9,9,8,2,3,3,8,15,22,3,7,3,6,6,2,8,2,6,3,2,13,7,1,5,17,12,2,2,8,6,11,4,3,17,3,7,15,14,3,14,6,2,23,6,12,5,3,4,3,3,9,9,26,2,1,41,14,5,5,5,3,11,3,6,21,2,21,4,2,7,25,5,32,7,1,2,5,3,9,5,5,2,9,12,4,2,3,16,9,3,17,4,17,21,32,4,3,5,5,5,6,5,5,21,23,9,3,3,4,22,2,4,3,6,4,5,4,4,3,5,5,5,8,2,3,4,5,26,5,1,2,7,3,2,17,7,9,3,17,7,31,8],\"type\":\"histogram\"},{\"marker\":{\"color\":\"rgba(80,90,196,0.6)\"},\"name\":\"Nueva York\",\"opacity\":0.9,\"x\":[3,1,2,13,1,3,1,2,9,14,4,4,13,7,5,8,5,3,8,8,3,17,8,1,12,4,5,6,2,7,4,2,8,11,2,3,3,24,18,5,14,25,2,3,4,3,9,13,9,10,4,2,2,9,2,1,6,2,5,2,16,1,3,7,3,4,7,4,4,7,5,9,7,7,1,10,1,12,6,2,14,3,14,35,3,14,3,14,3,5,4,5,7,6,5,16,14,11,2,13,26,8,9,6,4,1,5,7,15,14,3,11,3,10,9,2,1,3,21,4,3,13,16,3,10,1,6,8,4,3,3,16,17,6,4,19,1,1,6,4,15,2,3,1,35,8,6,8,8,4,3,7,13,14,3,2,1,9,19,15,4,7,17,8,2,2,6,2,16,2,2,6,4,6,18,4,17,3,2,4,2,2,1,7,6,3,18,2,1,3,11,11,14,10,3,16,14,5,2,13,1,6,6,9,5,7,1,10,18,10,15,6,6,7,13,10,3,5,2,9,3,8,6,12,1,5,3,19,2,5,15,5,25,2,2,9,2,9,2,25,2,2,5,3,13,3,5,5,3,5,7,7,3,7,10,5,5,6,11,4,4,3,14,2,9,8,3,4,32,17,12,3,2,4,7,1,1,10,2,14,4,3,6,9,6,5,24,12,16,5,17,1,4,3,6,6,3,19,5,2,7,4,6,17,5,3,6,10,2,3,2,4,4,14,3,3,5,1,8,9,2,5,9,16,12,2,5,8,22,2,9,11,3,22,2,2,22,16,7,9,9,8,16,26,10,52,6,4,13,3,6,11,5,22,9,7,4,5,4,5,5,3,5,3,5,10,10,2,2,2,14,1,1,14,9,9,4,1,1,3,9,15,8,3,7,11,4,12,1,3,5,30,1,5,5,12,9,3,3,3,17,9,2,2,17,7,4,2,2,5,13,3,1,3,3,18,3,8,6,5,2,8,13,4,8,1,2,5,17,3,3,5,3,6,21,4,10,43,14,10,10,10,14,5,9,4,15,12,9,2,4,5,9,8,4,14,1,3,11,6,3,40,5,4,8,7,9,2,10,8,7,11,3,7,15,21,8,7,7,5,6,4,8,4,4,15,10,1,3,2,5,5,5,2,4,8,12,8,11,3,25,11,4,1,3,10,40,21,3,1,2,4,7,3,2,4,4,18,5,13,8,2,1,7,3,13,11,7,18,18,7,7,4,7,8,10,11,10,13,3,5,10,3,7,11,8,7,4,2,6,6,4,5,10,17,6,2,5,10,3,9,2],\"type\":\"histogram\"}],                        {\"barmode\":\"overlay\",\"template\":{\"data\":{\"barpolar\":[{\"marker\":{\"line\":{\"color\":\"#E5ECF6\",\"width\":0.5},\"pattern\":{\"fillmode\":\"overlay\",\"size\":10,\"solidity\":0.2}},\"type\":\"barpolar\"}],\"bar\":[{\"error_x\":{\"color\":\"#2a3f5f\"},\"error_y\":{\"color\":\"#2a3f5f\"},\"marker\":{\"line\":{\"color\":\"#E5ECF6\",\"width\":0.5},\"pattern\":{\"fillmode\":\"overlay\",\"size\":10,\"solidity\":0.2}},\"type\":\"bar\"}],\"carpet\":[{\"aaxis\":{\"endlinecolor\":\"#2a3f5f\",\"gridcolor\":\"white\",\"linecolor\":\"white\",\"minorgridcolor\":\"white\",\"startlinecolor\":\"#2a3f5f\"},\"baxis\":{\"endlinecolor\":\"#2a3f5f\",\"gridcolor\":\"white\",\"linecolor\":\"white\",\"minorgridcolor\":\"white\",\"startlinecolor\":\"#2a3f5f\"},\"type\":\"carpet\"}],\"choropleth\":[{\"colorbar\":{\"outlinewidth\":0,\"ticks\":\"\"},\"type\":\"choropleth\"}],\"contourcarpet\":[{\"colorbar\":{\"outlinewidth\":0,\"ticks\":\"\"},\"type\":\"contourcarpet\"}],\"contour\":[{\"colorbar\":{\"outlinewidth\":0,\"ticks\":\"\"},\"colorscale\":[[0.0,\"#0d0887\"],[0.1111111111111111,\"#46039f\"],[0.2222222222222222,\"#7201a8\"],[0.3333333333333333,\"#9c179e\"],[0.4444444444444444,\"#bd3786\"],[0.5555555555555556,\"#d8576b\"],[0.6666666666666666,\"#ed7953\"],[0.7777777777777778,\"#fb9f3a\"],[0.8888888888888888,\"#fdca26\"],[1.0,\"#f0f921\"]],\"type\":\"contour\"}],\"heatmapgl\":[{\"colorbar\":{\"outlinewidth\":0,\"ticks\":\"\"},\"colorscale\":[[0.0,\"#0d0887\"],[0.1111111111111111,\"#46039f\"],[0.2222222222222222,\"#7201a8\"],[0.3333333333333333,\"#9c179e\"],[0.4444444444444444,\"#bd3786\"],[0.5555555555555556,\"#d8576b\"],[0.6666666666666666,\"#ed7953\"],[0.7777777777777778,\"#fb9f3a\"],[0.8888888888888888,\"#fdca26\"],[1.0,\"#f0f921\"]],\"type\":\"heatmapgl\"}],\"heatmap\":[{\"colorbar\":{\"outlinewidth\":0,\"ticks\":\"\"},\"colorscale\":[[0.0,\"#0d0887\"],[0.1111111111111111,\"#46039f\"],[0.2222222222222222,\"#7201a8\"],[0.3333333333333333,\"#9c179e\"],[0.4444444444444444,\"#bd3786\"],[0.5555555555555556,\"#d8576b\"],[0.6666666666666666,\"#ed7953\"],[0.7777777777777778,\"#fb9f3a\"],[0.8888888888888888,\"#fdca26\"],[1.0,\"#f0f921\"]],\"type\":\"heatmap\"}],\"histogram2dcontour\":[{\"colorbar\":{\"outlinewidth\":0,\"ticks\":\"\"},\"colorscale\":[[0.0,\"#0d0887\"],[0.1111111111111111,\"#46039f\"],[0.2222222222222222,\"#7201a8\"],[0.3333333333333333,\"#9c179e\"],[0.4444444444444444,\"#bd3786\"],[0.5555555555555556,\"#d8576b\"],[0.6666666666666666,\"#ed7953\"],[0.7777777777777778,\"#fb9f3a\"],[0.8888888888888888,\"#fdca26\"],[1.0,\"#f0f921\"]],\"type\":\"histogram2dcontour\"}],\"histogram2d\":[{\"colorbar\":{\"outlinewidth\":0,\"ticks\":\"\"},\"colorscale\":[[0.0,\"#0d0887\"],[0.1111111111111111,\"#46039f\"],[0.2222222222222222,\"#7201a8\"],[0.3333333333333333,\"#9c179e\"],[0.4444444444444444,\"#bd3786\"],[0.5555555555555556,\"#d8576b\"],[0.6666666666666666,\"#ed7953\"],[0.7777777777777778,\"#fb9f3a\"],[0.8888888888888888,\"#fdca26\"],[1.0,\"#f0f921\"]],\"type\":\"histogram2d\"}],\"histogram\":[{\"marker\":{\"pattern\":{\"fillmode\":\"overlay\",\"size\":10,\"solidity\":0.2}},\"type\":\"histogram\"}],\"mesh3d\":[{\"colorbar\":{\"outlinewidth\":0,\"ticks\":\"\"},\"type\":\"mesh3d\"}],\"parcoords\":[{\"line\":{\"colorbar\":{\"outlinewidth\":0,\"ticks\":\"\"}},\"type\":\"parcoords\"}],\"pie\":[{\"automargin\":true,\"type\":\"pie\"}],\"scatter3d\":[{\"line\":{\"colorbar\":{\"outlinewidth\":0,\"ticks\":\"\"}},\"marker\":{\"colorbar\":{\"outlinewidth\":0,\"ticks\":\"\"}},\"type\":\"scatter3d\"}],\"scattercarpet\":[{\"marker\":{\"colorbar\":{\"outlinewidth\":0,\"ticks\":\"\"}},\"type\":\"scattercarpet\"}],\"scattergeo\":[{\"marker\":{\"colorbar\":{\"outlinewidth\":0,\"ticks\":\"\"}},\"type\":\"scattergeo\"}],\"scattergl\":[{\"marker\":{\"colorbar\":{\"outlinewidth\":0,\"ticks\":\"\"}},\"type\":\"scattergl\"}],\"scattermapbox\":[{\"marker\":{\"colorbar\":{\"outlinewidth\":0,\"ticks\":\"\"}},\"type\":\"scattermapbox\"}],\"scatterpolargl\":[{\"marker\":{\"colorbar\":{\"outlinewidth\":0,\"ticks\":\"\"}},\"type\":\"scatterpolargl\"}],\"scatterpolar\":[{\"marker\":{\"colorbar\":{\"outlinewidth\":0,\"ticks\":\"\"}},\"type\":\"scatterpolar\"}],\"scatter\":[{\"fillpattern\":{\"fillmode\":\"overlay\",\"size\":10,\"solidity\":0.2},\"type\":\"scatter\"}],\"scatterternary\":[{\"marker\":{\"colorbar\":{\"outlinewidth\":0,\"ticks\":\"\"}},\"type\":\"scatterternary\"}],\"surface\":[{\"colorbar\":{\"outlinewidth\":0,\"ticks\":\"\"},\"colorscale\":[[0.0,\"#0d0887\"],[0.1111111111111111,\"#46039f\"],[0.2222222222222222,\"#7201a8\"],[0.3333333333333333,\"#9c179e\"],[0.4444444444444444,\"#bd3786\"],[0.5555555555555556,\"#d8576b\"],[0.6666666666666666,\"#ed7953\"],[0.7777777777777778,\"#fb9f3a\"],[0.8888888888888888,\"#fdca26\"],[1.0,\"#f0f921\"]],\"type\":\"surface\"}],\"table\":[{\"cells\":{\"fill\":{\"color\":\"#EBF0F8\"},\"line\":{\"color\":\"white\"}},\"header\":{\"fill\":{\"color\":\"#C8D4E3\"},\"line\":{\"color\":\"white\"}},\"type\":\"table\"}]},\"layout\":{\"annotationdefaults\":{\"arrowcolor\":\"#2a3f5f\",\"arrowhead\":0,\"arrowwidth\":1},\"autotypenumbers\":\"strict\",\"coloraxis\":{\"colorbar\":{\"outlinewidth\":0,\"ticks\":\"\"}},\"colorscale\":{\"diverging\":[[0,\"#8e0152\"],[0.1,\"#c51b7d\"],[0.2,\"#de77ae\"],[0.3,\"#f1b6da\"],[0.4,\"#fde0ef\"],[0.5,\"#f7f7f7\"],[0.6,\"#e6f5d0\"],[0.7,\"#b8e186\"],[0.8,\"#7fbc41\"],[0.9,\"#4d9221\"],[1,\"#276419\"]],\"sequential\":[[0.0,\"#0d0887\"],[0.1111111111111111,\"#46039f\"],[0.2222222222222222,\"#7201a8\"],[0.3333333333333333,\"#9c179e\"],[0.4444444444444444,\"#bd3786\"],[0.5555555555555556,\"#d8576b\"],[0.6666666666666666,\"#ed7953\"],[0.7777777777777778,\"#fb9f3a\"],[0.8888888888888888,\"#fdca26\"],[1.0,\"#f0f921\"]],\"sequentialminus\":[[0.0,\"#0d0887\"],[0.1111111111111111,\"#46039f\"],[0.2222222222222222,\"#7201a8\"],[0.3333333333333333,\"#9c179e\"],[0.4444444444444444,\"#bd3786\"],[0.5555555555555556,\"#d8576b\"],[0.6666666666666666,\"#ed7953\"],[0.7777777777777778,\"#fb9f3a\"],[0.8888888888888888,\"#fdca26\"],[1.0,\"#f0f921\"]]},\"colorway\":[\"#636efa\",\"#EF553B\",\"#00cc96\",\"#ab63fa\",\"#FFA15A\",\"#19d3f3\",\"#FF6692\",\"#B6E880\",\"#FF97FF\",\"#FECB52\"],\"font\":{\"color\":\"#2a3f5f\"},\"geo\":{\"bgcolor\":\"white\",\"lakecolor\":\"white\",\"landcolor\":\"#E5ECF6\",\"showlakes\":true,\"showland\":true,\"subunitcolor\":\"white\"},\"hoverlabel\":{\"align\":\"left\"},\"hovermode\":\"closest\",\"mapbox\":{\"style\":\"light\"},\"paper_bgcolor\":\"white\",\"plot_bgcolor\":\"#E5ECF6\",\"polar\":{\"angularaxis\":{\"gridcolor\":\"white\",\"linecolor\":\"white\",\"ticks\":\"\"},\"bgcolor\":\"#E5ECF6\",\"radialaxis\":{\"gridcolor\":\"white\",\"linecolor\":\"white\",\"ticks\":\"\"}},\"scene\":{\"xaxis\":{\"backgroundcolor\":\"#E5ECF6\",\"gridcolor\":\"white\",\"gridwidth\":2,\"linecolor\":\"white\",\"showbackground\":true,\"ticks\":\"\",\"zerolinecolor\":\"white\"},\"yaxis\":{\"backgroundcolor\":\"#E5ECF6\",\"gridcolor\":\"white\",\"gridwidth\":2,\"linecolor\":\"white\",\"showbackground\":true,\"ticks\":\"\",\"zerolinecolor\":\"white\"},\"zaxis\":{\"backgroundcolor\":\"#E5ECF6\",\"gridcolor\":\"white\",\"gridwidth\":2,\"linecolor\":\"white\",\"showbackground\":true,\"ticks\":\"\",\"zerolinecolor\":\"white\"}},\"shapedefaults\":{\"line\":{\"color\":\"#2a3f5f\"}},\"ternary\":{\"aaxis\":{\"gridcolor\":\"white\",\"linecolor\":\"white\",\"ticks\":\"\"},\"baxis\":{\"gridcolor\":\"white\",\"linecolor\":\"white\",\"ticks\":\"\"},\"bgcolor\":\"#E5ECF6\",\"caxis\":{\"gridcolor\":\"white\",\"linecolor\":\"white\",\"ticks\":\"\"}},\"title\":{\"x\":0.05},\"xaxis\":{\"automargin\":true,\"gridcolor\":\"white\",\"linecolor\":\"white\",\"ticks\":\"\",\"title\":{\"standoff\":15},\"zerolinecolor\":\"white\",\"zerolinewidth\":2},\"yaxis\":{\"automargin\":true,\"gridcolor\":\"white\",\"linecolor\":\"white\",\"ticks\":\"\",\"title\":{\"standoff\":15},\"zerolinecolor\":\"white\",\"zerolinewidth\":2}}},\"title\":{\"text\":\" Numero de pedidos por Estado\"},\"xaxis\":{\"title\":{\"text\":\"Pedidos\"}},\"yaxis\":{\"title\":{\"text\":\"Numero\"}}},                        {\"responsive\": true}                    ).then(function(){\n",
       "                            \n",
       "var gd = document.getElementById('d14a013c-3562-4ab5-b764-29d937e0a935');\n",
       "var x = new MutationObserver(function (mutations, observer) {{\n",
       "        var display = window.getComputedStyle(gd).display;\n",
       "        if (!display || display === 'none') {{\n",
       "            console.log([gd, 'removed!']);\n",
       "            Plotly.purge(gd);\n",
       "            observer.disconnect();\n",
       "        }}\n",
       "}});\n",
       "\n",
       "// Listen for the removal of the full notebook cells\n",
       "var notebookContainer = gd.closest('#notebook-container');\n",
       "if (notebookContainer) {{\n",
       "    x.observe(notebookContainer, {childList: true});\n",
       "}}\n",
       "\n",
       "// Listen for the clearing of the current output cell\n",
       "var outputEl = gd.closest('.output');\n",
       "if (outputEl) {{\n",
       "    x.observe(outputEl, {childList: true});\n",
       "}}\n",
       "\n",
       "                        })                };                });            </script>        </div>"
      ]
     },
     "metadata": {},
     "output_type": "display_data"
    }
   ],
   "source": [
    "\n",
    "\n",
    "trace1 = go.Histogram(x = Q_Pedidos_Texas,\n",
    "                     opacity = 0.9,\n",
    "                     name = 'Texas',\n",
    "                     marker = dict(color = 'rgba(171,50,96,0.6)'))\n",
    "\n",
    "trace2 = go.Histogram(x = Q_Pedidos_California,\n",
    "                     opacity = 0.9,\n",
    "                     name = 'California',\n",
    "                     marker = dict(color = 'rgba(12,50,196,0.6)'))\n",
    "\n",
    "trace3 = go.Histogram(x = Q_Pedidos_Nueva_York,\n",
    "                     opacity = 0.9,\n",
    "                     name = 'Nueva York',\n",
    "                     marker = dict(color = 'rgba(80,90,196,0.6)'))\n",
    "\n",
    "data = [trace1, trace2, trace3]\n",
    "layout = go.Layout(barmode='overlay',\n",
    "                   title=' Numero de pedidos por Estado',\n",
    "                   xaxis=dict(title='Pedidos'),\n",
    "                   yaxis=dict( title='Numero'),\n",
    ")\n",
    "fig = go.Figure(data=data, layout=layout)\n",
    "iplot(fig)"
   ]
  },
  {
   "cell_type": "code",
   "execution_count": 59,
   "metadata": {},
   "outputs": [
    {
     "name": "stdout",
     "output_type": "stream",
     "text": [
      "          Category       Sales\n",
      "0        Furniture  60593.2918\n",
      "1  Office Supplies  44490.5300\n",
      "2       Technology  65104.2240\n",
      "          Category       Sales\n",
      "0        Furniture   93372.729\n",
      "1  Office Supplies   90020.042\n",
      "2       Technology  127483.500\n",
      "          Category        Sales\n",
      "0        Furniture  156064.6015\n",
      "1  Office Supplies  142351.9480\n",
      "2       Technology  159271.0820\n"
     ]
    }
   ],
   "source": [
    "ventas_categoria_CA= df_California.groupby('Category')[['Sales']].sum().reset_index()\n",
    "ventas_categoria_NY = df_Nueva_York.groupby('Category')[['Sales']].sum().reset_index()\n",
    "ventas_categoria_TX = df_Texas.groupby('Category')[['Sales']].sum().reset_index()\n",
    "\n",
    "print(ventas_categoria_TX)\n",
    "print(ventas_categoria_NY)\n",
    "print(ventas_categoria_CA)"
   ]
  },
  {
   "cell_type": "code",
   "execution_count": 74,
   "metadata": {},
   "outputs": [
    {
     "data": {
      "application/vnd.plotly.v1+json": {
       "config": {
        "linkText": "Export to plot.ly",
        "plotlyServerURL": "https://plot.ly",
        "showLink": false
       },
       "data": [
        {
         "name": "Ventas de Texas",
         "type": "bar",
         "x": [
          "Furniture",
          "Office Supplies",
          "Technology"
         ],
         "y": [
          60593.2918,
          44490.53,
          65104.224
         ]
        },
        {
         "name": "Ventas de Nueva York",
         "type": "bar",
         "x": [
          "Furniture",
          "Office Supplies",
          "Technology"
         ],
         "y": [
          93372.729,
          90020.042,
          127483.5
         ]
        },
        {
         "name": "Ventas de California",
         "type": "bar",
         "x": [
          "Furniture",
          "Office Supplies",
          "Technology"
         ],
         "y": [
          156064.60150000002,
          142351.948,
          159271.082
         ]
        }
       ],
       "layout": {
        "barmode": "group",
        "template": {
         "data": {
          "bar": [
           {
            "error_x": {
             "color": "#2a3f5f"
            },
            "error_y": {
             "color": "#2a3f5f"
            },
            "marker": {
             "line": {
              "color": "#E5ECF6",
              "width": 0.5
             },
             "pattern": {
              "fillmode": "overlay",
              "size": 10,
              "solidity": 0.2
             }
            },
            "type": "bar"
           }
          ],
          "barpolar": [
           {
            "marker": {
             "line": {
              "color": "#E5ECF6",
              "width": 0.5
             },
             "pattern": {
              "fillmode": "overlay",
              "size": 10,
              "solidity": 0.2
             }
            },
            "type": "barpolar"
           }
          ],
          "carpet": [
           {
            "aaxis": {
             "endlinecolor": "#2a3f5f",
             "gridcolor": "white",
             "linecolor": "white",
             "minorgridcolor": "white",
             "startlinecolor": "#2a3f5f"
            },
            "baxis": {
             "endlinecolor": "#2a3f5f",
             "gridcolor": "white",
             "linecolor": "white",
             "minorgridcolor": "white",
             "startlinecolor": "#2a3f5f"
            },
            "type": "carpet"
           }
          ],
          "choropleth": [
           {
            "colorbar": {
             "outlinewidth": 0,
             "ticks": ""
            },
            "type": "choropleth"
           }
          ],
          "contour": [
           {
            "colorbar": {
             "outlinewidth": 0,
             "ticks": ""
            },
            "colorscale": [
             [
              0,
              "#0d0887"
             ],
             [
              0.1111111111111111,
              "#46039f"
             ],
             [
              0.2222222222222222,
              "#7201a8"
             ],
             [
              0.3333333333333333,
              "#9c179e"
             ],
             [
              0.4444444444444444,
              "#bd3786"
             ],
             [
              0.5555555555555556,
              "#d8576b"
             ],
             [
              0.6666666666666666,
              "#ed7953"
             ],
             [
              0.7777777777777778,
              "#fb9f3a"
             ],
             [
              0.8888888888888888,
              "#fdca26"
             ],
             [
              1,
              "#f0f921"
             ]
            ],
            "type": "contour"
           }
          ],
          "contourcarpet": [
           {
            "colorbar": {
             "outlinewidth": 0,
             "ticks": ""
            },
            "type": "contourcarpet"
           }
          ],
          "heatmap": [
           {
            "colorbar": {
             "outlinewidth": 0,
             "ticks": ""
            },
            "colorscale": [
             [
              0,
              "#0d0887"
             ],
             [
              0.1111111111111111,
              "#46039f"
             ],
             [
              0.2222222222222222,
              "#7201a8"
             ],
             [
              0.3333333333333333,
              "#9c179e"
             ],
             [
              0.4444444444444444,
              "#bd3786"
             ],
             [
              0.5555555555555556,
              "#d8576b"
             ],
             [
              0.6666666666666666,
              "#ed7953"
             ],
             [
              0.7777777777777778,
              "#fb9f3a"
             ],
             [
              0.8888888888888888,
              "#fdca26"
             ],
             [
              1,
              "#f0f921"
             ]
            ],
            "type": "heatmap"
           }
          ],
          "heatmapgl": [
           {
            "colorbar": {
             "outlinewidth": 0,
             "ticks": ""
            },
            "colorscale": [
             [
              0,
              "#0d0887"
             ],
             [
              0.1111111111111111,
              "#46039f"
             ],
             [
              0.2222222222222222,
              "#7201a8"
             ],
             [
              0.3333333333333333,
              "#9c179e"
             ],
             [
              0.4444444444444444,
              "#bd3786"
             ],
             [
              0.5555555555555556,
              "#d8576b"
             ],
             [
              0.6666666666666666,
              "#ed7953"
             ],
             [
              0.7777777777777778,
              "#fb9f3a"
             ],
             [
              0.8888888888888888,
              "#fdca26"
             ],
             [
              1,
              "#f0f921"
             ]
            ],
            "type": "heatmapgl"
           }
          ],
          "histogram": [
           {
            "marker": {
             "pattern": {
              "fillmode": "overlay",
              "size": 10,
              "solidity": 0.2
             }
            },
            "type": "histogram"
           }
          ],
          "histogram2d": [
           {
            "colorbar": {
             "outlinewidth": 0,
             "ticks": ""
            },
            "colorscale": [
             [
              0,
              "#0d0887"
             ],
             [
              0.1111111111111111,
              "#46039f"
             ],
             [
              0.2222222222222222,
              "#7201a8"
             ],
             [
              0.3333333333333333,
              "#9c179e"
             ],
             [
              0.4444444444444444,
              "#bd3786"
             ],
             [
              0.5555555555555556,
              "#d8576b"
             ],
             [
              0.6666666666666666,
              "#ed7953"
             ],
             [
              0.7777777777777778,
              "#fb9f3a"
             ],
             [
              0.8888888888888888,
              "#fdca26"
             ],
             [
              1,
              "#f0f921"
             ]
            ],
            "type": "histogram2d"
           }
          ],
          "histogram2dcontour": [
           {
            "colorbar": {
             "outlinewidth": 0,
             "ticks": ""
            },
            "colorscale": [
             [
              0,
              "#0d0887"
             ],
             [
              0.1111111111111111,
              "#46039f"
             ],
             [
              0.2222222222222222,
              "#7201a8"
             ],
             [
              0.3333333333333333,
              "#9c179e"
             ],
             [
              0.4444444444444444,
              "#bd3786"
             ],
             [
              0.5555555555555556,
              "#d8576b"
             ],
             [
              0.6666666666666666,
              "#ed7953"
             ],
             [
              0.7777777777777778,
              "#fb9f3a"
             ],
             [
              0.8888888888888888,
              "#fdca26"
             ],
             [
              1,
              "#f0f921"
             ]
            ],
            "type": "histogram2dcontour"
           }
          ],
          "mesh3d": [
           {
            "colorbar": {
             "outlinewidth": 0,
             "ticks": ""
            },
            "type": "mesh3d"
           }
          ],
          "parcoords": [
           {
            "line": {
             "colorbar": {
              "outlinewidth": 0,
              "ticks": ""
             }
            },
            "type": "parcoords"
           }
          ],
          "pie": [
           {
            "automargin": true,
            "type": "pie"
           }
          ],
          "scatter": [
           {
            "fillpattern": {
             "fillmode": "overlay",
             "size": 10,
             "solidity": 0.2
            },
            "type": "scatter"
           }
          ],
          "scatter3d": [
           {
            "line": {
             "colorbar": {
              "outlinewidth": 0,
              "ticks": ""
             }
            },
            "marker": {
             "colorbar": {
              "outlinewidth": 0,
              "ticks": ""
             }
            },
            "type": "scatter3d"
           }
          ],
          "scattercarpet": [
           {
            "marker": {
             "colorbar": {
              "outlinewidth": 0,
              "ticks": ""
             }
            },
            "type": "scattercarpet"
           }
          ],
          "scattergeo": [
           {
            "marker": {
             "colorbar": {
              "outlinewidth": 0,
              "ticks": ""
             }
            },
            "type": "scattergeo"
           }
          ],
          "scattergl": [
           {
            "marker": {
             "colorbar": {
              "outlinewidth": 0,
              "ticks": ""
             }
            },
            "type": "scattergl"
           }
          ],
          "scattermapbox": [
           {
            "marker": {
             "colorbar": {
              "outlinewidth": 0,
              "ticks": ""
             }
            },
            "type": "scattermapbox"
           }
          ],
          "scatterpolar": [
           {
            "marker": {
             "colorbar": {
              "outlinewidth": 0,
              "ticks": ""
             }
            },
            "type": "scatterpolar"
           }
          ],
          "scatterpolargl": [
           {
            "marker": {
             "colorbar": {
              "outlinewidth": 0,
              "ticks": ""
             }
            },
            "type": "scatterpolargl"
           }
          ],
          "scatterternary": [
           {
            "marker": {
             "colorbar": {
              "outlinewidth": 0,
              "ticks": ""
             }
            },
            "type": "scatterternary"
           }
          ],
          "surface": [
           {
            "colorbar": {
             "outlinewidth": 0,
             "ticks": ""
            },
            "colorscale": [
             [
              0,
              "#0d0887"
             ],
             [
              0.1111111111111111,
              "#46039f"
             ],
             [
              0.2222222222222222,
              "#7201a8"
             ],
             [
              0.3333333333333333,
              "#9c179e"
             ],
             [
              0.4444444444444444,
              "#bd3786"
             ],
             [
              0.5555555555555556,
              "#d8576b"
             ],
             [
              0.6666666666666666,
              "#ed7953"
             ],
             [
              0.7777777777777778,
              "#fb9f3a"
             ],
             [
              0.8888888888888888,
              "#fdca26"
             ],
             [
              1,
              "#f0f921"
             ]
            ],
            "type": "surface"
           }
          ],
          "table": [
           {
            "cells": {
             "fill": {
              "color": "#EBF0F8"
             },
             "line": {
              "color": "white"
             }
            },
            "header": {
             "fill": {
              "color": "#C8D4E3"
             },
             "line": {
              "color": "white"
             }
            },
            "type": "table"
           }
          ]
         },
         "layout": {
          "annotationdefaults": {
           "arrowcolor": "#2a3f5f",
           "arrowhead": 0,
           "arrowwidth": 1
          },
          "autotypenumbers": "strict",
          "coloraxis": {
           "colorbar": {
            "outlinewidth": 0,
            "ticks": ""
           }
          },
          "colorscale": {
           "diverging": [
            [
             0,
             "#8e0152"
            ],
            [
             0.1,
             "#c51b7d"
            ],
            [
             0.2,
             "#de77ae"
            ],
            [
             0.3,
             "#f1b6da"
            ],
            [
             0.4,
             "#fde0ef"
            ],
            [
             0.5,
             "#f7f7f7"
            ],
            [
             0.6,
             "#e6f5d0"
            ],
            [
             0.7,
             "#b8e186"
            ],
            [
             0.8,
             "#7fbc41"
            ],
            [
             0.9,
             "#4d9221"
            ],
            [
             1,
             "#276419"
            ]
           ],
           "sequential": [
            [
             0,
             "#0d0887"
            ],
            [
             0.1111111111111111,
             "#46039f"
            ],
            [
             0.2222222222222222,
             "#7201a8"
            ],
            [
             0.3333333333333333,
             "#9c179e"
            ],
            [
             0.4444444444444444,
             "#bd3786"
            ],
            [
             0.5555555555555556,
             "#d8576b"
            ],
            [
             0.6666666666666666,
             "#ed7953"
            ],
            [
             0.7777777777777778,
             "#fb9f3a"
            ],
            [
             0.8888888888888888,
             "#fdca26"
            ],
            [
             1,
             "#f0f921"
            ]
           ],
           "sequentialminus": [
            [
             0,
             "#0d0887"
            ],
            [
             0.1111111111111111,
             "#46039f"
            ],
            [
             0.2222222222222222,
             "#7201a8"
            ],
            [
             0.3333333333333333,
             "#9c179e"
            ],
            [
             0.4444444444444444,
             "#bd3786"
            ],
            [
             0.5555555555555556,
             "#d8576b"
            ],
            [
             0.6666666666666666,
             "#ed7953"
            ],
            [
             0.7777777777777778,
             "#fb9f3a"
            ],
            [
             0.8888888888888888,
             "#fdca26"
            ],
            [
             1,
             "#f0f921"
            ]
           ]
          },
          "colorway": [
           "#636efa",
           "#EF553B",
           "#00cc96",
           "#ab63fa",
           "#FFA15A",
           "#19d3f3",
           "#FF6692",
           "#B6E880",
           "#FF97FF",
           "#FECB52"
          ],
          "font": {
           "color": "#2a3f5f"
          },
          "geo": {
           "bgcolor": "white",
           "lakecolor": "white",
           "landcolor": "#E5ECF6",
           "showlakes": true,
           "showland": true,
           "subunitcolor": "white"
          },
          "hoverlabel": {
           "align": "left"
          },
          "hovermode": "closest",
          "mapbox": {
           "style": "light"
          },
          "paper_bgcolor": "white",
          "plot_bgcolor": "#E5ECF6",
          "polar": {
           "angularaxis": {
            "gridcolor": "white",
            "linecolor": "white",
            "ticks": ""
           },
           "bgcolor": "#E5ECF6",
           "radialaxis": {
            "gridcolor": "white",
            "linecolor": "white",
            "ticks": ""
           }
          },
          "scene": {
           "xaxis": {
            "backgroundcolor": "#E5ECF6",
            "gridcolor": "white",
            "gridwidth": 2,
            "linecolor": "white",
            "showbackground": true,
            "ticks": "",
            "zerolinecolor": "white"
           },
           "yaxis": {
            "backgroundcolor": "#E5ECF6",
            "gridcolor": "white",
            "gridwidth": 2,
            "linecolor": "white",
            "showbackground": true,
            "ticks": "",
            "zerolinecolor": "white"
           },
           "zaxis": {
            "backgroundcolor": "#E5ECF6",
            "gridcolor": "white",
            "gridwidth": 2,
            "linecolor": "white",
            "showbackground": true,
            "ticks": "",
            "zerolinecolor": "white"
           }
          },
          "shapedefaults": {
           "line": {
            "color": "#2a3f5f"
           }
          },
          "ternary": {
           "aaxis": {
            "gridcolor": "white",
            "linecolor": "white",
            "ticks": ""
           },
           "baxis": {
            "gridcolor": "white",
            "linecolor": "white",
            "ticks": ""
           },
           "bgcolor": "#E5ECF6",
           "caxis": {
            "gridcolor": "white",
            "linecolor": "white",
            "ticks": ""
           }
          },
          "title": {
           "x": 0.05
          },
          "xaxis": {
           "automargin": true,
           "gridcolor": "white",
           "linecolor": "white",
           "ticks": "",
           "title": {
            "standoff": 15
           },
           "zerolinecolor": "white",
           "zerolinewidth": 2
          },
          "yaxis": {
           "automargin": true,
           "gridcolor": "white",
           "linecolor": "white",
           "ticks": "",
           "title": {
            "standoff": 15
           },
           "zerolinecolor": "white",
           "zerolinewidth": 2
          }
         }
        },
        "title": {
         "text": "Ventas por categoria en el top 3 estados"
        },
        "xaxis": {
         "title": {
          "text": "Top 3 Estados de USA"
         }
        }
       }
      },
      "text/html": [
       "<div>                            <div id=\"c96031f8-d606-42de-96fc-62ab1d7fef1f\" class=\"plotly-graph-div\" style=\"height:525px; width:100%;\"></div>            <script type=\"text/javascript\">                require([\"plotly\"], function(Plotly) {                    window.PLOTLYENV=window.PLOTLYENV || {};                                    if (document.getElementById(\"c96031f8-d606-42de-96fc-62ab1d7fef1f\")) {                    Plotly.newPlot(                        \"c96031f8-d606-42de-96fc-62ab1d7fef1f\",                        [{\"name\":\"Ventas de Texas\",\"x\":[\"Furniture\",\"Office Supplies\",\"Technology\"],\"y\":[60593.2918,44490.53,65104.224],\"type\":\"bar\"},{\"name\":\"Ventas de Nueva York\",\"x\":[\"Furniture\",\"Office Supplies\",\"Technology\"],\"y\":[93372.729,90020.042,127483.5],\"type\":\"bar\"},{\"name\":\"Ventas de California\",\"x\":[\"Furniture\",\"Office Supplies\",\"Technology\"],\"y\":[156064.60150000002,142351.948,159271.082],\"type\":\"bar\"}],                        {\"barmode\":\"group\",\"template\":{\"data\":{\"barpolar\":[{\"marker\":{\"line\":{\"color\":\"#E5ECF6\",\"width\":0.5},\"pattern\":{\"fillmode\":\"overlay\",\"size\":10,\"solidity\":0.2}},\"type\":\"barpolar\"}],\"bar\":[{\"error_x\":{\"color\":\"#2a3f5f\"},\"error_y\":{\"color\":\"#2a3f5f\"},\"marker\":{\"line\":{\"color\":\"#E5ECF6\",\"width\":0.5},\"pattern\":{\"fillmode\":\"overlay\",\"size\":10,\"solidity\":0.2}},\"type\":\"bar\"}],\"carpet\":[{\"aaxis\":{\"endlinecolor\":\"#2a3f5f\",\"gridcolor\":\"white\",\"linecolor\":\"white\",\"minorgridcolor\":\"white\",\"startlinecolor\":\"#2a3f5f\"},\"baxis\":{\"endlinecolor\":\"#2a3f5f\",\"gridcolor\":\"white\",\"linecolor\":\"white\",\"minorgridcolor\":\"white\",\"startlinecolor\":\"#2a3f5f\"},\"type\":\"carpet\"}],\"choropleth\":[{\"colorbar\":{\"outlinewidth\":0,\"ticks\":\"\"},\"type\":\"choropleth\"}],\"contourcarpet\":[{\"colorbar\":{\"outlinewidth\":0,\"ticks\":\"\"},\"type\":\"contourcarpet\"}],\"contour\":[{\"colorbar\":{\"outlinewidth\":0,\"ticks\":\"\"},\"colorscale\":[[0.0,\"#0d0887\"],[0.1111111111111111,\"#46039f\"],[0.2222222222222222,\"#7201a8\"],[0.3333333333333333,\"#9c179e\"],[0.4444444444444444,\"#bd3786\"],[0.5555555555555556,\"#d8576b\"],[0.6666666666666666,\"#ed7953\"],[0.7777777777777778,\"#fb9f3a\"],[0.8888888888888888,\"#fdca26\"],[1.0,\"#f0f921\"]],\"type\":\"contour\"}],\"heatmapgl\":[{\"colorbar\":{\"outlinewidth\":0,\"ticks\":\"\"},\"colorscale\":[[0.0,\"#0d0887\"],[0.1111111111111111,\"#46039f\"],[0.2222222222222222,\"#7201a8\"],[0.3333333333333333,\"#9c179e\"],[0.4444444444444444,\"#bd3786\"],[0.5555555555555556,\"#d8576b\"],[0.6666666666666666,\"#ed7953\"],[0.7777777777777778,\"#fb9f3a\"],[0.8888888888888888,\"#fdca26\"],[1.0,\"#f0f921\"]],\"type\":\"heatmapgl\"}],\"heatmap\":[{\"colorbar\":{\"outlinewidth\":0,\"ticks\":\"\"},\"colorscale\":[[0.0,\"#0d0887\"],[0.1111111111111111,\"#46039f\"],[0.2222222222222222,\"#7201a8\"],[0.3333333333333333,\"#9c179e\"],[0.4444444444444444,\"#bd3786\"],[0.5555555555555556,\"#d8576b\"],[0.6666666666666666,\"#ed7953\"],[0.7777777777777778,\"#fb9f3a\"],[0.8888888888888888,\"#fdca26\"],[1.0,\"#f0f921\"]],\"type\":\"heatmap\"}],\"histogram2dcontour\":[{\"colorbar\":{\"outlinewidth\":0,\"ticks\":\"\"},\"colorscale\":[[0.0,\"#0d0887\"],[0.1111111111111111,\"#46039f\"],[0.2222222222222222,\"#7201a8\"],[0.3333333333333333,\"#9c179e\"],[0.4444444444444444,\"#bd3786\"],[0.5555555555555556,\"#d8576b\"],[0.6666666666666666,\"#ed7953\"],[0.7777777777777778,\"#fb9f3a\"],[0.8888888888888888,\"#fdca26\"],[1.0,\"#f0f921\"]],\"type\":\"histogram2dcontour\"}],\"histogram2d\":[{\"colorbar\":{\"outlinewidth\":0,\"ticks\":\"\"},\"colorscale\":[[0.0,\"#0d0887\"],[0.1111111111111111,\"#46039f\"],[0.2222222222222222,\"#7201a8\"],[0.3333333333333333,\"#9c179e\"],[0.4444444444444444,\"#bd3786\"],[0.5555555555555556,\"#d8576b\"],[0.6666666666666666,\"#ed7953\"],[0.7777777777777778,\"#fb9f3a\"],[0.8888888888888888,\"#fdca26\"],[1.0,\"#f0f921\"]],\"type\":\"histogram2d\"}],\"histogram\":[{\"marker\":{\"pattern\":{\"fillmode\":\"overlay\",\"size\":10,\"solidity\":0.2}},\"type\":\"histogram\"}],\"mesh3d\":[{\"colorbar\":{\"outlinewidth\":0,\"ticks\":\"\"},\"type\":\"mesh3d\"}],\"parcoords\":[{\"line\":{\"colorbar\":{\"outlinewidth\":0,\"ticks\":\"\"}},\"type\":\"parcoords\"}],\"pie\":[{\"automargin\":true,\"type\":\"pie\"}],\"scatter3d\":[{\"line\":{\"colorbar\":{\"outlinewidth\":0,\"ticks\":\"\"}},\"marker\":{\"colorbar\":{\"outlinewidth\":0,\"ticks\":\"\"}},\"type\":\"scatter3d\"}],\"scattercarpet\":[{\"marker\":{\"colorbar\":{\"outlinewidth\":0,\"ticks\":\"\"}},\"type\":\"scattercarpet\"}],\"scattergeo\":[{\"marker\":{\"colorbar\":{\"outlinewidth\":0,\"ticks\":\"\"}},\"type\":\"scattergeo\"}],\"scattergl\":[{\"marker\":{\"colorbar\":{\"outlinewidth\":0,\"ticks\":\"\"}},\"type\":\"scattergl\"}],\"scattermapbox\":[{\"marker\":{\"colorbar\":{\"outlinewidth\":0,\"ticks\":\"\"}},\"type\":\"scattermapbox\"}],\"scatterpolargl\":[{\"marker\":{\"colorbar\":{\"outlinewidth\":0,\"ticks\":\"\"}},\"type\":\"scatterpolargl\"}],\"scatterpolar\":[{\"marker\":{\"colorbar\":{\"outlinewidth\":0,\"ticks\":\"\"}},\"type\":\"scatterpolar\"}],\"scatter\":[{\"fillpattern\":{\"fillmode\":\"overlay\",\"size\":10,\"solidity\":0.2},\"type\":\"scatter\"}],\"scatterternary\":[{\"marker\":{\"colorbar\":{\"outlinewidth\":0,\"ticks\":\"\"}},\"type\":\"scatterternary\"}],\"surface\":[{\"colorbar\":{\"outlinewidth\":0,\"ticks\":\"\"},\"colorscale\":[[0.0,\"#0d0887\"],[0.1111111111111111,\"#46039f\"],[0.2222222222222222,\"#7201a8\"],[0.3333333333333333,\"#9c179e\"],[0.4444444444444444,\"#bd3786\"],[0.5555555555555556,\"#d8576b\"],[0.6666666666666666,\"#ed7953\"],[0.7777777777777778,\"#fb9f3a\"],[0.8888888888888888,\"#fdca26\"],[1.0,\"#f0f921\"]],\"type\":\"surface\"}],\"table\":[{\"cells\":{\"fill\":{\"color\":\"#EBF0F8\"},\"line\":{\"color\":\"white\"}},\"header\":{\"fill\":{\"color\":\"#C8D4E3\"},\"line\":{\"color\":\"white\"}},\"type\":\"table\"}]},\"layout\":{\"annotationdefaults\":{\"arrowcolor\":\"#2a3f5f\",\"arrowhead\":0,\"arrowwidth\":1},\"autotypenumbers\":\"strict\",\"coloraxis\":{\"colorbar\":{\"outlinewidth\":0,\"ticks\":\"\"}},\"colorscale\":{\"diverging\":[[0,\"#8e0152\"],[0.1,\"#c51b7d\"],[0.2,\"#de77ae\"],[0.3,\"#f1b6da\"],[0.4,\"#fde0ef\"],[0.5,\"#f7f7f7\"],[0.6,\"#e6f5d0\"],[0.7,\"#b8e186\"],[0.8,\"#7fbc41\"],[0.9,\"#4d9221\"],[1,\"#276419\"]],\"sequential\":[[0.0,\"#0d0887\"],[0.1111111111111111,\"#46039f\"],[0.2222222222222222,\"#7201a8\"],[0.3333333333333333,\"#9c179e\"],[0.4444444444444444,\"#bd3786\"],[0.5555555555555556,\"#d8576b\"],[0.6666666666666666,\"#ed7953\"],[0.7777777777777778,\"#fb9f3a\"],[0.8888888888888888,\"#fdca26\"],[1.0,\"#f0f921\"]],\"sequentialminus\":[[0.0,\"#0d0887\"],[0.1111111111111111,\"#46039f\"],[0.2222222222222222,\"#7201a8\"],[0.3333333333333333,\"#9c179e\"],[0.4444444444444444,\"#bd3786\"],[0.5555555555555556,\"#d8576b\"],[0.6666666666666666,\"#ed7953\"],[0.7777777777777778,\"#fb9f3a\"],[0.8888888888888888,\"#fdca26\"],[1.0,\"#f0f921\"]]},\"colorway\":[\"#636efa\",\"#EF553B\",\"#00cc96\",\"#ab63fa\",\"#FFA15A\",\"#19d3f3\",\"#FF6692\",\"#B6E880\",\"#FF97FF\",\"#FECB52\"],\"font\":{\"color\":\"#2a3f5f\"},\"geo\":{\"bgcolor\":\"white\",\"lakecolor\":\"white\",\"landcolor\":\"#E5ECF6\",\"showlakes\":true,\"showland\":true,\"subunitcolor\":\"white\"},\"hoverlabel\":{\"align\":\"left\"},\"hovermode\":\"closest\",\"mapbox\":{\"style\":\"light\"},\"paper_bgcolor\":\"white\",\"plot_bgcolor\":\"#E5ECF6\",\"polar\":{\"angularaxis\":{\"gridcolor\":\"white\",\"linecolor\":\"white\",\"ticks\":\"\"},\"bgcolor\":\"#E5ECF6\",\"radialaxis\":{\"gridcolor\":\"white\",\"linecolor\":\"white\",\"ticks\":\"\"}},\"scene\":{\"xaxis\":{\"backgroundcolor\":\"#E5ECF6\",\"gridcolor\":\"white\",\"gridwidth\":2,\"linecolor\":\"white\",\"showbackground\":true,\"ticks\":\"\",\"zerolinecolor\":\"white\"},\"yaxis\":{\"backgroundcolor\":\"#E5ECF6\",\"gridcolor\":\"white\",\"gridwidth\":2,\"linecolor\":\"white\",\"showbackground\":true,\"ticks\":\"\",\"zerolinecolor\":\"white\"},\"zaxis\":{\"backgroundcolor\":\"#E5ECF6\",\"gridcolor\":\"white\",\"gridwidth\":2,\"linecolor\":\"white\",\"showbackground\":true,\"ticks\":\"\",\"zerolinecolor\":\"white\"}},\"shapedefaults\":{\"line\":{\"color\":\"#2a3f5f\"}},\"ternary\":{\"aaxis\":{\"gridcolor\":\"white\",\"linecolor\":\"white\",\"ticks\":\"\"},\"baxis\":{\"gridcolor\":\"white\",\"linecolor\":\"white\",\"ticks\":\"\"},\"bgcolor\":\"#E5ECF6\",\"caxis\":{\"gridcolor\":\"white\",\"linecolor\":\"white\",\"ticks\":\"\"}},\"title\":{\"x\":0.05},\"xaxis\":{\"automargin\":true,\"gridcolor\":\"white\",\"linecolor\":\"white\",\"ticks\":\"\",\"title\":{\"standoff\":15},\"zerolinecolor\":\"white\",\"zerolinewidth\":2},\"yaxis\":{\"automargin\":true,\"gridcolor\":\"white\",\"linecolor\":\"white\",\"ticks\":\"\",\"title\":{\"standoff\":15},\"zerolinecolor\":\"white\",\"zerolinewidth\":2}}},\"title\":{\"text\":\"Ventas por categoria en el top 3 estados\"},\"xaxis\":{\"title\":{\"text\":\"Top 3 Estados de USA\"}}},                        {\"responsive\": true}                    ).then(function(){\n",
       "                            \n",
       "var gd = document.getElementById('c96031f8-d606-42de-96fc-62ab1d7fef1f');\n",
       "var x = new MutationObserver(function (mutations, observer) {{\n",
       "        var display = window.getComputedStyle(gd).display;\n",
       "        if (!display || display === 'none') {{\n",
       "            console.log([gd, 'removed!']);\n",
       "            Plotly.purge(gd);\n",
       "            observer.disconnect();\n",
       "        }}\n",
       "}});\n",
       "\n",
       "// Listen for the removal of the full notebook cells\n",
       "var notebookContainer = gd.closest('#notebook-container');\n",
       "if (notebookContainer) {{\n",
       "    x.observe(notebookContainer, {childList: true});\n",
       "}}\n",
       "\n",
       "// Listen for the clearing of the current output cell\n",
       "var outputEl = gd.closest('.output');\n",
       "if (outputEl) {{\n",
       "    x.observe(outputEl, {childList: true});\n",
       "}}\n",
       "\n",
       "                        })                };                });            </script>        </div>"
      ]
     },
     "metadata": {},
     "output_type": "display_data"
    }
   ],
   "source": [
    "\n",
    "trace1 = {\n",
    "    'x': ventas_categoria_TX['Category'],\n",
    "    'y': ventas_categoria_TX['Sales'],\n",
    "    'name': 'Ventas de Texas',\n",
    "    'type': 'bar'\n",
    "}\n",
    "\n",
    "trace2 = {\n",
    "    'x': ventas_categoria_NY['Category'],\n",
    "    'y': ventas_categoria_NY['Sales'],\n",
    "    'name': 'Ventas de Nueva York',\n",
    "    'type': 'bar'\n",
    "}\n",
    "\n",
    "trace3 = {\n",
    "    'x': ventas_categoria_CA['Category'],\n",
    "    'y': ventas_categoria_CA['Sales'],\n",
    "    'name': 'Ventas de California',\n",
    "    'type': 'bar'\n",
    "}\n",
    "data = [trace1, trace2, trace3]\n",
    "\n",
    "layout = {\n",
    "    'xaxis': {'title': 'Top 3 Estados de USA'},\n",
    "    'barmode': 'group',\n",
    "    'title': 'Ventas por categoria en el top 3 estados'\n",
    "}\n",
    "\n",
    "fig = go.Figure(data = data, layout = layout)\n",
    "iplot(fig)"
   ]
  },
  {
   "cell_type": "code",
   "execution_count": 58,
   "metadata": {},
   "outputs": [
    {
     "data": {
      "text/html": [
       "<div>\n",
       "<style scoped>\n",
       "    .dataframe tbody tr th:only-of-type {\n",
       "        vertical-align: middle;\n",
       "    }\n",
       "\n",
       "    .dataframe tbody tr th {\n",
       "        vertical-align: top;\n",
       "    }\n",
       "\n",
       "    .dataframe thead th {\n",
       "        text-align: right;\n",
       "    }\n",
       "</style>\n",
       "<table border=\"1\" class=\"dataframe\">\n",
       "  <thead>\n",
       "    <tr style=\"text-align: right;\">\n",
       "      <th></th>\n",
       "      <th>Order Date</th>\n",
       "      <th>Sales</th>\n",
       "    </tr>\n",
       "  </thead>\n",
       "  <tbody>\n",
       "    <tr>\n",
       "      <th>0</th>\n",
       "      <td>2014-01-06</td>\n",
       "      <td>19.440</td>\n",
       "    </tr>\n",
       "    <tr>\n",
       "      <th>1</th>\n",
       "      <td>2014-01-13</td>\n",
       "      <td>1679.749</td>\n",
       "    </tr>\n",
       "    <tr>\n",
       "      <th>2</th>\n",
       "      <td>2014-01-20</td>\n",
       "      <td>38.660</td>\n",
       "    </tr>\n",
       "    <tr>\n",
       "      <th>3</th>\n",
       "      <td>2014-01-27</td>\n",
       "      <td>426.670</td>\n",
       "    </tr>\n",
       "    <tr>\n",
       "      <th>4</th>\n",
       "      <td>2014-01-31</td>\n",
       "      <td>290.666</td>\n",
       "    </tr>\n",
       "    <tr>\n",
       "      <th>...</th>\n",
       "      <td>...</td>\n",
       "      <td>...</td>\n",
       "    </tr>\n",
       "    <tr>\n",
       "      <th>654</th>\n",
       "      <td>2017-12-24</td>\n",
       "      <td>2970.432</td>\n",
       "    </tr>\n",
       "    <tr>\n",
       "      <th>655</th>\n",
       "      <td>2017-12-25</td>\n",
       "      <td>424.172</td>\n",
       "    </tr>\n",
       "    <tr>\n",
       "      <th>656</th>\n",
       "      <td>2017-12-28</td>\n",
       "      <td>1066.544</td>\n",
       "    </tr>\n",
       "    <tr>\n",
       "      <th>657</th>\n",
       "      <td>2017-12-29</td>\n",
       "      <td>797.064</td>\n",
       "    </tr>\n",
       "    <tr>\n",
       "      <th>658</th>\n",
       "      <td>2017-12-30</td>\n",
       "      <td>34.624</td>\n",
       "    </tr>\n",
       "  </tbody>\n",
       "</table>\n",
       "<p>659 rows × 2 columns</p>\n",
       "</div>"
      ],
      "text/plain": [
       "    Order Date     Sales\n",
       "0   2014-01-06    19.440\n",
       "1   2014-01-13  1679.749\n",
       "2   2014-01-20    38.660\n",
       "3   2014-01-27   426.670\n",
       "4   2014-01-31   290.666\n",
       "..         ...       ...\n",
       "654 2017-12-24  2970.432\n",
       "655 2017-12-25   424.172\n",
       "656 2017-12-28  1066.544\n",
       "657 2017-12-29   797.064\n",
       "658 2017-12-30    34.624\n",
       "\n",
       "[659 rows x 2 columns]"
      ]
     },
     "execution_count": 58,
     "metadata": {},
     "output_type": "execute_result"
    }
   ],
   "source": [
    "ventas_dia_CA = df_California.groupby('Order Date')[['Sales']].sum().reset_index()\n",
    "ventas_dia_CA"
   ]
  },
  {
   "cell_type": "code",
   "execution_count": 73,
   "metadata": {},
   "outputs": [
    {
     "data": {
      "application/vnd.plotly.v1+json": {
       "config": {
        "linkText": "Export to plot.ly",
        "plotlyServerURL": "https://plot.ly",
        "showLink": false
       },
       "data": [
        {
         "marker": {
          "color": "rgba(255, 174, 255, 0.5)",
          "line": {
           "color": "rgb(0,0,0)",
           "width": 1.5
          }
         },
         "name": "Ventas diarias en California",
         "text": [
          [
           "2014-01-06T00:00:00",
           19.44
          ],
          [
           "2014-01-13T00:00:00",
           1679.749
          ],
          [
           "2014-01-20T00:00:00",
           38.66
          ],
          [
           "2014-01-27T00:00:00",
           426.67
          ],
          [
           "2014-01-31T00:00:00",
           290.666
          ],
          [
           "2014-02-02T00:00:00",
           12.350000000000001
          ],
          [
           "2014-02-04T00:00:00",
           134.38400000000001
          ],
          [
           "2014-02-12T00:00:00",
           129.568
          ],
          [
           "2014-02-20T00:00:00",
           12.96
          ],
          [
           "2014-02-22T00:00:00",
           19.44
          ],
          [
           "2014-03-03T00:00:00",
           626.3520000000001
          ],
          [
           "2014-03-11T00:00:00",
           7.98
          ],
          [
           "2014-03-14T00:00:00",
           13.940000000000001
          ],
          [
           "2014-03-18T00:00:00",
           4445.488
          ],
          [
           "2014-03-23T00:00:00",
           935.1519999999999
          ],
          [
           "2014-03-24T00:00:00",
           40.48
          ],
          [
           "2014-03-25T00:00:00",
           92.36
          ],
          [
           "2014-03-26T00:00:00",
           145.13000000000002
          ],
          [
           "2014-03-30T00:00:00",
           205.666
          ],
          [
           "2014-03-31T00:00:00",
           726.5480000000001
          ],
          [
           "2014-04-01T00:00:00",
           46.688
          ],
          [
           "2014-04-03T00:00:00",
           233.45
          ],
          [
           "2014-04-04T00:00:00",
           26.084
          ],
          [
           "2014-04-06T00:00:00",
           636.478
          ],
          [
           "2014-04-08T00:00:00",
           499.55199999999996
          ],
          [
           "2014-04-12T00:00:00",
           1879.723
          ],
          [
           "2014-04-15T00:00:00",
           294.71999999999997
          ],
          [
           "2014-04-18T00:00:00",
           323.458
          ],
          [
           "2014-04-19T00:00:00",
           76.14
          ],
          [
           "2014-04-20T00:00:00",
           59.92
          ],
          [
           "2014-04-21T00:00:00",
           16.520000000000003
          ],
          [
           "2014-04-23T00:00:00",
           48.91
          ],
          [
           "2014-04-25T00:00:00",
           2061.01
          ],
          [
           "2014-04-26T00:00:00",
           282.56800000000004
          ],
          [
           "2014-04-28T00:00:00",
           1679.96
          ],
          [
           "2014-05-06T00:00:00",
           254.456
          ],
          [
           "2014-05-09T00:00:00",
           235.76999999999998
          ],
          [
           "2014-05-10T00:00:00",
           1769.7840000000003
          ],
          [
           "2014-05-13T00:00:00",
           437.42600000000004
          ],
          [
           "2014-05-16T00:00:00",
           289.28
          ],
          [
           "2014-05-21T00:00:00",
           31.84
          ],
          [
           "2014-05-26T00:00:00",
           801.53
          ],
          [
           "2014-05-27T00:00:00",
           2139.9339999999997
          ],
          [
           "2014-06-09T00:00:00",
           3744.764
          ],
          [
           "2014-06-13T00:00:00",
           14.52
          ],
          [
           "2014-06-18T00:00:00",
           139.8
          ],
          [
           "2014-06-25T00:00:00",
           447.84
          ],
          [
           "2014-06-30T00:00:00",
           32.400000000000006
          ],
          [
           "2014-07-05T00:00:00",
           180.96000000000004
          ],
          [
           "2014-07-06T00:00:00",
           478.48
          ],
          [
           "2014-07-08T00:00:00",
           699.192
          ],
          [
           "2014-07-09T00:00:00",
           240.801
          ],
          [
           "2014-07-12T00:00:00",
           1211.75
          ],
          [
           "2014-07-13T00:00:00",
           351.216
          ],
          [
           "2014-07-20T00:00:00",
           891.466
          ],
          [
           "2014-07-21T00:00:00",
           1173.6160000000002
          ],
          [
           "2014-07-22T00:00:00",
           1155.772
          ],
          [
           "2014-07-23T00:00:00",
           992.828
          ],
          [
           "2014-07-25T00:00:00",
           8341.289999999999
          ],
          [
           "2014-07-27T00:00:00",
           514.28
          ],
          [
           "2014-08-01T00:00:00",
           19.752000000000002
          ],
          [
           "2014-08-05T00:00:00",
           550.164
          ],
          [
           "2014-08-08T00:00:00",
           2473.096
          ],
          [
           "2014-08-09T00:00:00",
           26.86
          ],
          [
           "2014-08-12T00:00:00",
           891.7760000000001
          ],
          [
           "2014-08-15T00:00:00",
           505.282
          ],
          [
           "2014-08-19T00:00:00",
           358.696
          ],
          [
           "2014-08-23T00:00:00",
           49.568000000000005
          ],
          [
           "2014-08-25T00:00:00",
           176.14
          ],
          [
           "2014-08-26T00:00:00",
           176.8
          ],
          [
           "2014-08-27T00:00:00",
           244.76000000000002
          ],
          [
           "2014-08-29T00:00:00",
           123.28
          ],
          [
           "2014-09-01T00:00:00",
           53.94
          ],
          [
           "2014-09-06T00:00:00",
           100.36
          ],
          [
           "2014-09-07T00:00:00",
           131.84000000000003
          ],
          [
           "2014-09-08T00:00:00",
           134.228
          ],
          [
           "2014-09-11T00:00:00",
           127.94999999999999
          ],
          [
           "2014-09-17T00:00:00",
           182.94
          ],
          [
           "2014-09-19T00:00:00",
           12.83
          ],
          [
           "2014-09-20T00:00:00",
           104.392
          ],
          [
           "2014-09-21T00:00:00",
           451.28400000000005
          ],
          [
           "2014-09-22T00:00:00",
           210.13
          ],
          [
           "2014-09-23T00:00:00",
           519.9830000000001
          ],
          [
           "2014-09-24T00:00:00",
           211.96
          ],
          [
           "2014-09-26T00:00:00",
           750.5600000000001
          ],
          [
           "2014-09-27T00:00:00",
           685.9
          ],
          [
           "2014-09-29T00:00:00",
           968.3
          ],
          [
           "2014-10-03T00:00:00",
           265.784
          ],
          [
           "2014-10-04T00:00:00",
           110.09800000000001
          ],
          [
           "2014-10-05T00:00:00",
           99.98
          ],
          [
           "2014-10-06T00:00:00",
           9.09
          ],
          [
           "2014-10-09T00:00:00",
           160.592
          ],
          [
           "2014-10-10T00:00:00",
           137.632
          ],
          [
           "2014-10-11T00:00:00",
           473.12800000000004
          ],
          [
           "2014-10-12T00:00:00",
           36.29
          ],
          [
           "2014-10-16T00:00:00",
           194.322
          ],
          [
           "2014-10-19T00:00:00",
           641.104
          ],
          [
           "2014-10-21T00:00:00",
           36.36
          ],
          [
           "2014-10-24T00:00:00",
           34.272
          ],
          [
           "2014-10-25T00:00:00",
           49.408
          ],
          [
           "2014-10-28T00:00:00",
           1252.602
          ],
          [
           "2014-10-31T00:00:00",
           1081.52
          ],
          [
           "2014-11-01T00:00:00",
           65.80000000000001
          ],
          [
           "2014-11-02T00:00:00",
           409.30400000000003
          ],
          [
           "2014-11-03T00:00:00",
           6.72
          ],
          [
           "2014-11-04T00:00:00",
           1767.6960000000001
          ],
          [
           "2014-11-05T00:00:00",
           20.04
          ],
          [
           "2014-11-07T00:00:00",
           123.14399999999999
          ],
          [
           "2014-11-08T00:00:00",
           333.576
          ],
          [
           "2014-11-09T00:00:00",
           1517.574
          ],
          [
           "2014-11-10T00:00:00",
           807.6859999999999
          ],
          [
           "2014-11-11T00:00:00",
           850.7560000000001
          ],
          [
           "2014-11-12T00:00:00",
           641.0240000000001
          ],
          [
           "2014-11-15T00:00:00",
           813.99
          ],
          [
           "2014-11-16T00:00:00",
           736.0725
          ],
          [
           "2014-11-17T00:00:00",
           1075.37
          ],
          [
           "2014-11-21T00:00:00",
           114.53
          ],
          [
           "2014-11-22T00:00:00",
           53.82000000000001
          ],
          [
           "2014-11-23T00:00:00",
           1037.19
          ],
          [
           "2014-11-24T00:00:00",
           272.432
          ],
          [
           "2014-11-25T00:00:00",
           1644.224
          ],
          [
           "2014-11-26T00:00:00",
           149.092
          ],
          [
           "2014-11-28T00:00:00",
           643.702
          ],
          [
           "2014-11-29T00:00:00",
           606.3199999999999
          ],
          [
           "2014-12-01T00:00:00",
           58.199999999999996
          ],
          [
           "2014-12-05T00:00:00",
           340.84
          ],
          [
           "2014-12-06T00:00:00",
           1261.33
          ],
          [
           "2014-12-07T00:00:00",
           173.51999999999998
          ],
          [
           "2014-12-08T00:00:00",
           119.32
          ],
          [
           "2014-12-09T00:00:00",
           34.68
          ],
          [
           "2014-12-12T00:00:00",
           4704.5405
          ],
          [
           "2014-12-13T00:00:00",
           90.24
          ],
          [
           "2014-12-15T00:00:00",
           6.16
          ],
          [
           "2014-12-16T00:00:00",
           2712.1160000000004
          ],
          [
           "2014-12-19T00:00:00",
           832.1379999999999
          ],
          [
           "2014-12-20T00:00:00",
           694.5340000000001
          ],
          [
           "2014-12-21T00:00:00",
           1897.92
          ],
          [
           "2014-12-22T00:00:00",
           11.76
          ],
          [
           "2014-12-24T00:00:00",
           1910.2740000000001
          ],
          [
           "2014-12-26T00:00:00",
           15.39
          ],
          [
           "2014-12-27T00:00:00",
           362.026
          ],
          [
           "2014-12-28T00:00:00",
           1049.97
          ],
          [
           "2014-12-29T00:00:00",
           1774.3980000000001
          ],
          [
           "2015-01-05T00:00:00",
           143.51999999999998
          ],
          [
           "2015-01-13T00:00:00",
           612.458
          ],
          [
           "2015-01-26T00:00:00",
           182.72
          ],
          [
           "2015-01-27T00:00:00",
           2803.92
          ],
          [
           "2015-01-30T00:00:00",
           2147.3360000000002
          ],
          [
           "2015-02-03T00:00:00",
           136.92
          ],
          [
           "2015-02-09T00:00:00",
           203.92
          ],
          [
           "2015-02-15T00:00:00",
           627.48
          ],
          [
           "2015-02-16T00:00:00",
           124.54999999999998
          ],
          [
           "2015-02-18T00:00:00",
           105.84400000000001
          ],
          [
           "2015-03-01T00:00:00",
           200.73600000000002
          ],
          [
           "2015-03-06T00:00:00",
           1555.2440000000001
          ],
          [
           "2015-03-13T00:00:00",
           1242.8960000000002
          ],
          [
           "2015-03-14T00:00:00",
           19.44
          ],
          [
           "2015-03-16T00:00:00",
           43.13
          ],
          [
           "2015-03-19T00:00:00",
           128.548
          ],
          [
           "2015-03-22T00:00:00",
           1701.44
          ],
          [
           "2015-03-23T00:00:00",
           466.04999999999995
          ],
          [
           "2015-03-28T00:00:00",
           199.64000000000001
          ],
          [
           "2015-03-29T00:00:00",
           295.68
          ],
          [
           "2015-04-02T00:00:00",
           71.976
          ],
          [
           "2015-04-05T00:00:00",
           892.224
          ],
          [
           "2015-04-09T00:00:00",
           369.91200000000003
          ],
          [
           "2015-04-10T00:00:00",
           12.832
          ],
          [
           "2015-04-11T00:00:00",
           692.7280000000001
          ],
          [
           "2015-04-13T00:00:00",
           2004.3760000000002
          ],
          [
           "2015-04-17T00:00:00",
           2572.5
          ],
          [
           "2015-04-18T00:00:00",
           1124.5700000000002
          ],
          [
           "2015-04-22T00:00:00",
           152.916
          ],
          [
           "2015-04-25T00:00:00",
           35.284
          ],
          [
           "2015-04-26T00:00:00",
           485.7840000000001
          ],
          [
           "2015-04-30T00:00:00",
           54.45
          ],
          [
           "2015-05-01T00:00:00",
           173.308
          ],
          [
           "2015-05-03T00:00:00",
           1140.5720000000001
          ],
          [
           "2015-05-12T00:00:00",
           38.519999999999996
          ],
          [
           "2015-05-14T00:00:00",
           2570.7075
          ],
          [
           "2015-05-18T00:00:00",
           10.86
          ],
          [
           "2015-05-22T00:00:00",
           3862.0980000000004
          ],
          [
           "2015-05-25T00:00:00",
           14.73
          ],
          [
           "2015-05-31T00:00:00",
           244.77999999999997
          ],
          [
           "2015-06-01T00:00:00",
           11.76
          ],
          [
           "2015-06-04T00:00:00",
           1109.95
          ],
          [
           "2015-06-07T00:00:00",
           7.52
          ],
          [
           "2015-06-13T00:00:00",
           36.624
          ],
          [
           "2015-06-15T00:00:00",
           225.57599999999996
          ],
          [
           "2015-06-18T00:00:00",
           51.98
          ],
          [
           "2015-06-19T00:00:00",
           205.73
          ],
          [
           "2015-06-20T00:00:00",
           383.616
          ],
          [
           "2015-06-23T00:00:00",
           366.99
          ],
          [
           "2015-06-25T00:00:00",
           618.792
          ],
          [
           "2015-07-04T00:00:00",
           22.848
          ],
          [
           "2015-07-06T00:00:00",
           170.35200000000003
          ],
          [
           "2015-07-10T00:00:00",
           39.92
          ],
          [
           "2015-07-16T00:00:00",
           2048.856
          ],
          [
           "2015-07-17T00:00:00",
           195.466
          ],
          [
           "2015-07-18T00:00:00",
           519.96
          ],
          [
           "2015-07-25T00:00:00",
           623.96
          ],
          [
           "2015-07-26T00:00:00",
           299.34000000000003
          ],
          [
           "2015-07-30T00:00:00",
           226.12999999999997
          ],
          [
           "2015-08-01T00:00:00",
           1011.6960000000001
          ],
          [
           "2015-08-07T00:00:00",
           19.152
          ],
          [
           "2015-08-08T00:00:00",
           158.672
          ],
          [
           "2015-08-13T00:00:00",
           82.36
          ],
          [
           "2015-08-15T00:00:00",
           497.59000000000003
          ],
          [
           "2015-08-21T00:00:00",
           1299.526
          ],
          [
           "2015-08-25T00:00:00",
           146.744
          ],
          [
           "2015-08-27T00:00:00",
           639.974
          ],
          [
           "2015-08-28T00:00:00",
           2017.532
          ],
          [
           "2015-08-31T00:00:00",
           2580.837
          ],
          [
           "2015-09-01T00:00:00",
           979.104
          ],
          [
           "2015-09-03T00:00:00",
           314.726
          ],
          [
           "2015-09-05T00:00:00",
           733.283
          ],
          [
           "2015-09-06T00:00:00",
           46.32
          ],
          [
           "2015-09-07T00:00:00",
           671.93
          ],
          [
           "2015-09-08T00:00:00",
           68.28
          ],
          [
           "2015-09-10T00:00:00",
           158.20000000000002
          ],
          [
           "2015-09-11T00:00:00",
           455.84999999999997
          ],
          [
           "2015-09-13T00:00:00",
           1336.352
          ],
          [
           "2015-09-14T00:00:00",
           170.13600000000002
          ],
          [
           "2015-09-17T00:00:00",
           32.400000000000006
          ],
          [
           "2015-09-18T00:00:00",
           684.84
          ],
          [
           "2015-09-19T00:00:00",
           83.80000000000001
          ],
          [
           "2015-09-21T00:00:00",
           609.4359999999999
          ],
          [
           "2015-09-22T00:00:00",
           266.03999999999996
          ],
          [
           "2015-09-24T00:00:00",
           1173.03
          ],
          [
           "2015-09-25T00:00:00",
           17.48
          ],
          [
           "2015-09-26T00:00:00",
           188.63
          ],
          [
           "2015-09-27T00:00:00",
           175.29
          ],
          [
           "2015-09-28T00:00:00",
           438.736
          ],
          [
           "2015-10-02T00:00:00",
           897.1800000000001
          ],
          [
           "2015-10-03T00:00:00",
           120.666
          ],
          [
           "2015-10-04T00:00:00",
           26.96
          ],
          [
           "2015-10-08T00:00:00",
           145.9
          ],
          [
           "2015-10-10T00:00:00",
           438.546
          ],
          [
           "2015-10-17T00:00:00",
           77.88
          ],
          [
           "2015-10-19T00:00:00",
           1910.6999999999998
          ],
          [
           "2015-10-20T00:00:00",
           695.5260000000001
          ],
          [
           "2015-10-23T00:00:00",
           1446.784
          ],
          [
           "2015-10-24T00:00:00",
           454.27200000000005
          ],
          [
           "2015-10-25T00:00:00",
           313.626
          ],
          [
           "2015-10-26T00:00:00",
           5.76
          ],
          [
           "2015-10-29T00:00:00",
           244.24
          ],
          [
           "2015-10-31T00:00:00",
           3058.1490000000003
          ],
          [
           "2015-11-02T00:00:00",
           1777.739
          ],
          [
           "2015-11-03T00:00:00",
           1345.418
          ],
          [
           "2015-11-05T00:00:00",
           62.8
          ],
          [
           "2015-11-07T00:00:00",
           190.72000000000003
          ],
          [
           "2015-11-08T00:00:00",
           496.87
          ],
          [
           "2015-11-09T00:00:00",
           2.48
          ],
          [
           "2015-11-10T00:00:00",
           79.9
          ],
          [
           "2015-11-12T00:00:00",
           15.700000000000001
          ],
          [
           "2015-11-13T00:00:00",
           723.164
          ],
          [
           "2015-11-16T00:00:00",
           18.9
          ],
          [
           "2015-11-17T00:00:00",
           1873.6060000000002
          ],
          [
           "2015-11-20T00:00:00",
           860.412
          ],
          [
           "2015-11-22T00:00:00",
           114.37
          ],
          [
           "2015-11-24T00:00:00",
           1218.7640000000001
          ],
          [
           "2015-11-27T00:00:00",
           505.71000000000004
          ],
          [
           "2015-11-28T00:00:00",
           45.28
          ],
          [
           "2015-11-29T00:00:00",
           60.604
          ],
          [
           "2015-12-01T00:00:00",
           2676.672
          ],
          [
           "2015-12-03T00:00:00",
           359.49899999999997
          ],
          [
           "2015-12-04T00:00:00",
           460.172
          ],
          [
           "2015-12-05T00:00:00",
           96.06
          ],
          [
           "2015-12-06T00:00:00",
           388.824
          ],
          [
           "2015-12-07T00:00:00",
           92.88
          ],
          [
           "2015-12-08T00:00:00",
           457.96000000000004
          ],
          [
           "2015-12-10T00:00:00",
           62.059999999999995
          ],
          [
           "2015-12-11T00:00:00",
           110.528
          ],
          [
           "2015-12-12T00:00:00",
           1287.986
          ],
          [
           "2015-12-13T00:00:00",
           966.066
          ],
          [
           "2015-12-14T00:00:00",
           472.116
          ],
          [
           "2015-12-17T00:00:00",
           450.194
          ],
          [
           "2015-12-19T00:00:00",
           1941.81
          ],
          [
           "2015-12-20T00:00:00",
           17.12
          ],
          [
           "2015-12-24T00:00:00",
           65.85600000000001
          ],
          [
           "2015-12-25T00:00:00",
           1240.46
          ],
          [
           "2015-12-27T00:00:00",
           1127.7
          ],
          [
           "2015-12-30T00:00:00",
           3251.3400000000006
          ],
          [
           "2016-01-03T00:00:00",
           114.46
          ],
          [
           "2016-01-07T00:00:00",
           34.58
          ],
          [
           "2016-01-09T00:00:00",
           727.878
          ],
          [
           "2016-01-16T00:00:00",
           102.218
          ],
          [
           "2016-01-21T00:00:00",
           1167.056
          ],
          [
           "2016-01-22T00:00:00",
           65.05000000000001
          ],
          [
           "2016-01-23T00:00:00",
           59.99
          ],
          [
           "2016-01-28T00:00:00",
           39.68
          ],
          [
           "2016-01-30T00:00:00",
           399.26
          ],
          [
           "2016-01-31T00:00:00",
           166.29200000000003
          ],
          [
           "2016-02-01T00:00:00",
           105.52
          ],
          [
           "2016-02-04T00:00:00",
           93.02
          ],
          [
           "2016-02-05T00:00:00",
           918.9659999999999
          ],
          [
           "2016-02-07T00:00:00",
           623.96
          ],
          [
           "2016-02-09T00:00:00",
           121.83
          ],
          [
           "2016-02-13T00:00:00",
           146.82
          ],
          [
           "2016-02-19T00:00:00",
           70.88
          ],
          [
           "2016-02-21T00:00:00",
           511.948
          ],
          [
           "2016-02-22T00:00:00",
           492.85
          ],
          [
           "2016-03-03T00:00:00",
           60.629999999999995
          ],
          [
           "2016-03-04T00:00:00",
           16.99
          ],
          [
           "2016-03-10T00:00:00",
           7558.262000000001
          ],
          [
           "2016-03-12T00:00:00",
           1652.342
          ],
          [
           "2016-03-13T00:00:00",
           4992.054
          ],
          [
           "2016-03-14T00:00:00",
           41.904
          ],
          [
           "2016-03-15T00:00:00",
           1356.5760000000002
          ],
          [
           "2016-03-17T00:00:00",
           84.784
          ],
          [
           "2016-03-28T00:00:00",
           93.9
          ],
          [
           "2016-04-07T00:00:00",
           1199.976
          ],
          [
           "2016-04-08T00:00:00",
           122.66
          ],
          [
           "2016-04-09T00:00:00",
           556.665
          ],
          [
           "2016-04-10T00:00:00",
           928.1220000000001
          ],
          [
           "2016-04-12T00:00:00",
           901.9120000000001
          ],
          [
           "2016-04-13T00:00:00",
           6.12
          ],
          [
           "2016-04-14T00:00:00",
           383.8
          ],
          [
           "2016-04-15T00:00:00",
           1265.268
          ],
          [
           "2016-04-17T00:00:00",
           257.499
          ],
          [
           "2016-04-19T00:00:00",
           156.51600000000002
          ],
          [
           "2016-04-22T00:00:00",
           31.56
          ],
          [
           "2016-04-23T00:00:00",
           441.568
          ],
          [
           "2016-04-24T00:00:00",
           3.9840000000000004
          ],
          [
           "2016-04-28T00:00:00",
           41.568000000000005
          ],
          [
           "2016-05-05T00:00:00",
           628.732
          ],
          [
           "2016-05-06T00:00:00",
           41.6
          ],
          [
           "2016-05-08T00:00:00",
           17.94
          ],
          [
           "2016-05-09T00:00:00",
           32.04
          ],
          [
           "2016-05-11T00:00:00",
           5.98
          ],
          [
           "2016-05-12T00:00:00",
           128.67
          ],
          [
           "2016-05-16T00:00:00",
           327.9
          ],
          [
           "2016-05-18T00:00:00",
           122.22
          ],
          [
           "2016-05-19T00:00:00",
           97.424
          ],
          [
           "2016-05-20T00:00:00",
           1064.624
          ],
          [
           "2016-05-21T00:00:00",
           121.436
          ],
          [
           "2016-05-22T00:00:00",
           222.38400000000001
          ],
          [
           "2016-05-23T00:00:00",
           37.05
          ],
          [
           "2016-05-26T00:00:00",
           1119.1480000000001
          ],
          [
           "2016-05-27T00:00:00",
           13.38
          ],
          [
           "2016-05-28T00:00:00",
           1157.6799999999998
          ],
          [
           "2016-05-30T00:00:00",
           206.72
          ],
          [
           "2016-06-03T00:00:00",
           71.08800000000001
          ],
          [
           "2016-06-05T00:00:00",
           79.792
          ],
          [
           "2016-06-06T00:00:00",
           3650.438
          ],
          [
           "2016-06-07T00:00:00",
           9.514000000000001
          ],
          [
           "2016-06-09T00:00:00",
           299.832
          ],
          [
           "2016-06-10T00:00:00",
           1388.7800000000002
          ],
          [
           "2016-06-11T00:00:00",
           902.712
          ],
          [
           "2016-06-12T00:00:00",
           213.46
          ],
          [
           "2016-06-14T00:00:00",
           1946.3529999999998
          ],
          [
           "2016-06-16T00:00:00",
           46.349999999999994
          ],
          [
           "2016-06-17T00:00:00",
           593.9659999999999
          ],
          [
           "2016-06-19T00:00:00",
           17.12
          ],
          [
           "2016-06-20T00:00:00",
           453.8
          ],
          [
           "2016-06-23T00:00:00",
           997.9340000000001
          ],
          [
           "2016-06-24T00:00:00",
           4861.33
          ],
          [
           "2016-06-25T00:00:00",
           60.81
          ],
          [
           "2016-06-26T00:00:00",
           284.24
          ],
          [
           "2016-06-27T00:00:00",
           201.584
          ],
          [
           "2016-06-28T00:00:00",
           41.32000000000001
          ],
          [
           "2016-07-02T00:00:00",
           195.184
          ],
          [
           "2016-07-03T00:00:00",
           16.92
          ],
          [
           "2016-07-04T00:00:00",
           1376.445
          ],
          [
           "2016-07-07T00:00:00",
           3352.5180000000005
          ],
          [
           "2016-07-12T00:00:00",
           95.76
          ],
          [
           "2016-07-14T00:00:00",
           292.796
          ],
          [
           "2016-07-17T00:00:00",
           77.88
          ],
          [
           "2016-07-19T00:00:00",
           425.954
          ],
          [
           "2016-07-21T00:00:00",
           423.05
          ],
          [
           "2016-07-22T00:00:00",
           6.3
          ],
          [
           "2016-07-25T00:00:00",
           744.894
          ],
          [
           "2016-07-28T00:00:00",
           18.9
          ],
          [
           "2016-07-30T00:00:00",
           715.64
          ],
          [
           "2016-07-31T00:00:00",
           863.128
          ],
          [
           "2016-08-01T00:00:00",
           1085.688
          ],
          [
           "2016-08-02T00:00:00",
           482.58400000000006
          ],
          [
           "2016-08-04T00:00:00",
           335.12
          ],
          [
           "2016-08-06T00:00:00",
           211.168
          ],
          [
           "2016-08-08T00:00:00",
           1016.184
          ],
          [
           "2016-08-14T00:00:00",
           121.09199999999998
          ],
          [
           "2016-08-15T00:00:00",
           608.216
          ],
          [
           "2016-08-16T00:00:00",
           204.54000000000002
          ],
          [
           "2016-08-21T00:00:00",
           3339.1220000000003
          ],
          [
           "2016-08-22T00:00:00",
           5.76
          ],
          [
           "2016-08-26T00:00:00",
           1776.5260000000003
          ],
          [
           "2016-08-30T00:00:00",
           387.00000000000006
          ],
          [
           "2016-09-01T00:00:00",
           34.66
          ],
          [
           "2016-09-02T00:00:00",
           1850.7780000000002
          ],
          [
           "2016-09-04T00:00:00",
           2824.2300000000005
          ],
          [
           "2016-09-05T00:00:00",
           228.12
          ],
          [
           "2016-09-08T00:00:00",
           557.0600000000001
          ],
          [
           "2016-09-09T00:00:00",
           55.36000000000001
          ],
          [
           "2016-09-10T00:00:00",
           276.78400000000005
          ],
          [
           "2016-09-11T00:00:00",
           3727.792
          ],
          [
           "2016-09-16T00:00:00",
           304.106
          ],
          [
           "2016-09-17T00:00:00",
           100.164
          ],
          [
           "2016-09-18T00:00:00",
           2295.9900000000002
          ],
          [
           "2016-09-19T00:00:00",
           187
          ],
          [
           "2016-09-20T00:00:00",
           475.694
          ],
          [
           "2016-09-23T00:00:00",
           22.979999999999997
          ],
          [
           "2016-09-24T00:00:00",
           1015
          ],
          [
           "2016-09-25T00:00:00",
           1553.314
          ],
          [
           "2016-09-26T00:00:00",
           562.4975
          ],
          [
           "2016-09-29T00:00:00",
           82.45
          ],
          [
           "2016-10-01T00:00:00",
           194.848
          ],
          [
           "2016-10-03T00:00:00",
           1027.676
          ],
          [
           "2016-10-07T00:00:00",
           37.824
          ],
          [
           "2016-10-08T00:00:00",
           61.96
          ],
          [
           "2016-10-13T00:00:00",
           256.196
          ],
          [
           "2016-10-17T00:00:00",
           138.826
          ],
          [
           "2016-10-20T00:00:00",
           406.432
          ],
          [
           "2016-10-21T00:00:00",
           792.7660000000001
          ],
          [
           "2016-10-24T00:00:00",
           1109.97
          ],
          [
           "2016-10-27T00:00:00",
           136.08800000000002
          ],
          [
           "2016-10-28T00:00:00",
           495.93199999999996
          ],
          [
           "2016-10-29T00:00:00",
           11.744
          ],
          [
           "2016-10-30T00:00:00",
           3.62
          ],
          [
           "2016-10-31T00:00:00",
           2489.34
          ],
          [
           "2016-11-03T00:00:00",
           2051.454
          ],
          [
           "2016-11-04T00:00:00",
           968.258
          ],
          [
           "2016-11-05T00:00:00",
           426.386
          ],
          [
           "2016-11-06T00:00:00",
           404.824
          ],
          [
           "2016-11-07T00:00:00",
           655.6700000000001
          ],
          [
           "2016-11-09T00:00:00",
           479.97
          ],
          [
           "2016-11-10T00:00:00",
           1778.298
          ],
          [
           "2016-11-11T00:00:00",
           531.5759999999999
          ],
          [
           "2016-11-12T00:00:00",
           878.3280000000001
          ],
          [
           "2016-11-14T00:00:00",
           17.22
          ],
          [
           "2016-11-15T00:00:00",
           1515.694
          ],
          [
           "2016-11-16T00:00:00",
           8.32
          ],
          [
           "2016-11-17T00:00:00",
           49.5
          ],
          [
           "2016-11-18T00:00:00",
           785.152
          ],
          [
           "2016-11-20T00:00:00",
           66.88
          ],
          [
           "2016-11-21T00:00:00",
           32.400000000000006
          ],
          [
           "2016-11-24T00:00:00",
           2948.032
          ],
          [
           "2016-11-25T00:00:00",
           194.35200000000003
          ],
          [
           "2016-11-26T00:00:00",
           4104.174
          ],
          [
           "2016-12-01T00:00:00",
           1255.5
          ],
          [
           "2016-12-02T00:00:00",
           303.358
          ],
          [
           "2016-12-03T00:00:00",
           3079.54
          ],
          [
           "2016-12-04T00:00:00",
           104.85
          ],
          [
           "2016-12-06T00:00:00",
           1037.7420000000002
          ],
          [
           "2016-12-08T00:00:00",
           1862.0140000000004
          ],
          [
           "2016-12-09T00:00:00",
           273.92
          ],
          [
           "2016-12-10T00:00:00",
           401.84799999999996
          ],
          [
           "2016-12-11T00:00:00",
           1937.9240000000002
          ],
          [
           "2016-12-12T00:00:00",
           440.15999999999997
          ],
          [
           "2016-12-13T00:00:00",
           1130.2079999999999
          ],
          [
           "2016-12-14T00:00:00",
           216.22400000000002
          ],
          [
           "2016-12-15T00:00:00",
           14.76
          ],
          [
           "2016-12-16T00:00:00",
           585.13
          ],
          [
           "2016-12-17T00:00:00",
           2003.52
          ],
          [
           "2016-12-18T00:00:00",
           1754.026
          ],
          [
           "2016-12-22T00:00:00",
           884.6800000000001
          ],
          [
           "2016-12-24T00:00:00",
           83.72
          ],
          [
           "2016-12-25T00:00:00",
           2875.544
          ],
          [
           "2016-12-26T00:00:00",
           1431.078
          ],
          [
           "2016-12-27T00:00:00",
           20.16
          ],
          [
           "2016-12-29T00:00:00",
           53.222
          ],
          [
           "2016-12-30T00:00:00",
           487.704
          ],
          [
           "2016-12-31T00:00:00",
           340.75199999999995
          ],
          [
           "2017-01-01T00:00:00",
           474.43
          ],
          [
           "2017-01-02T00:00:00",
           16.59
          ],
          [
           "2017-01-03T00:00:00",
           2070.2720000000004
          ],
          [
           "2017-01-07T00:00:00",
           332.8
          ],
          [
           "2017-01-12T00:00:00",
           9.78
          ],
          [
           "2017-01-14T00:00:00",
           154.9
          ],
          [
           "2017-01-15T00:00:00",
           21.400000000000002
          ],
          [
           "2017-01-16T00:00:00",
           427.59200000000004
          ],
          [
           "2017-01-20T00:00:00",
           544.952
          ],
          [
           "2017-01-24T00:00:00",
           412.9960000000001
          ],
          [
           "2017-01-26T00:00:00",
           11.84
          ],
          [
           "2017-01-28T00:00:00",
           277.71
          ],
          [
           "2017-01-29T00:00:00",
           136.526
          ],
          [
           "2017-01-30T00:00:00",
           271.644
          ],
          [
           "2017-02-02T00:00:00",
           753.624
          ],
          [
           "2017-02-05T00:00:00",
           2011.8999999999999
          ],
          [
           "2017-02-06T00:00:00",
           29.900000000000002
          ],
          [
           "2017-02-09T00:00:00",
           376.02000000000004
          ],
          [
           "2017-02-10T00:00:00",
           203.98299999999998
          ],
          [
           "2017-02-11T00:00:00",
           21.336
          ],
          [
           "2017-02-18T00:00:00",
           287.326
          ],
          [
           "2017-02-19T00:00:00",
           57.510000000000005
          ],
          [
           "2017-02-20T00:00:00",
           238.19799999999998
          ],
          [
           "2017-02-23T00:00:00",
           37.44
          ],
          [
           "2017-02-26T00:00:00",
           2847.646
          ],
          [
           "2017-03-02T00:00:00",
           784.3639999999999
          ],
          [
           "2017-03-03T00:00:00",
           1619.4640000000002
          ],
          [
           "2017-03-04T00:00:00",
           24.57
          ],
          [
           "2017-03-06T00:00:00",
           611.47
          ],
          [
           "2017-03-08T00:00:00",
           174.56000000000003
          ],
          [
           "2017-03-09T00:00:00",
           710.8040000000001
          ],
          [
           "2017-03-10T00:00:00",
           111.96
          ],
          [
           "2017-03-12T00:00:00",
           242.94
          ],
          [
           "2017-03-13T00:00:00",
           314.54999999999995
          ],
          [
           "2017-03-16T00:00:00",
           540.934
          ],
          [
           "2017-03-17T00:00:00",
           17.456
          ],
          [
           "2017-03-18T00:00:00",
           124.16
          ],
          [
           "2017-03-19T00:00:00",
           2128.398
          ],
          [
           "2017-03-21T00:00:00",
           745.2800000000001
          ],
          [
           "2017-03-23T00:00:00",
           211.84
          ],
          [
           "2017-03-25T00:00:00",
           1069.132
          ],
          [
           "2017-03-27T00:00:00",
           168.58
          ],
          [
           "2017-03-28T00:00:00",
           1435.96
          ],
          [
           "2017-03-30T00:00:00",
           265.07200000000006
          ],
          [
           "2017-03-31T00:00:00",
           29.700000000000003
          ],
          [
           "2017-04-01T00:00:00",
           5410.107999999999
          ],
          [
           "2017-04-02T00:00:00",
           25.11
          ],
          [
           "2017-04-08T00:00:00",
           440.30999999999995
          ],
          [
           "2017-04-11T00:00:00",
           241.81
          ],
          [
           "2017-04-13T00:00:00",
           436.70400000000006
          ],
          [
           "2017-04-15T00:00:00",
           79.14
          ],
          [
           "2017-04-16T00:00:00",
           349.493
          ],
          [
           "2017-04-17T00:00:00",
           562.702
          ],
          [
           "2017-04-22T00:00:00",
           18.28
          ],
          [
           "2017-04-23T00:00:00",
           183.38
          ],
          [
           "2017-04-24T00:00:00",
           1.81
          ],
          [
           "2017-04-25T00:00:00",
           559.2489999999999
          ],
          [
           "2017-04-27T00:00:00",
           183.61
          ],
          [
           "2017-04-30T00:00:00",
           292.5
          ],
          [
           "2017-05-02T00:00:00",
           269.18
          ],
          [
           "2017-05-03T00:00:00",
           881.84
          ],
          [
           "2017-05-04T00:00:00",
           745.634
          ],
          [
           "2017-05-05T00:00:00",
           23.16
          ],
          [
           "2017-05-06T00:00:00",
           152.94
          ],
          [
           "2017-05-07T00:00:00",
           499.93399999999997
          ],
          [
           "2017-05-08T00:00:00",
           3441.032
          ],
          [
           "2017-05-12T00:00:00",
           551.038
          ],
          [
           "2017-05-13T00:00:00",
           58.48
          ],
          [
           "2017-05-14T00:00:00",
           1418.21
          ],
          [
           "2017-05-19T00:00:00",
           859.9480000000001
          ],
          [
           "2017-05-20T00:00:00",
           868.4520000000001
          ],
          [
           "2017-05-22T00:00:00",
           130.64
          ],
          [
           "2017-05-23T00:00:00",
           171.288
          ],
          [
           "2017-05-26T00:00:00",
           12.96
          ],
          [
           "2017-05-30T00:00:00",
           72.62
          ],
          [
           "2017-06-03T00:00:00",
           60.622
          ],
          [
           "2017-06-06T00:00:00",
           31.35
          ],
          [
           "2017-06-08T00:00:00",
           1515.186
          ],
          [
           "2017-06-10T00:00:00",
           854.8249999999999
          ],
          [
           "2017-06-11T00:00:00",
           184.41
          ],
          [
           "2017-06-15T00:00:00",
           172.196
          ],
          [
           "2017-06-16T00:00:00",
           1231.5
          ],
          [
           "2017-06-17T00:00:00",
           51.312
          ],
          [
           "2017-06-18T00:00:00",
           956.8034999999999
          ],
          [
           "2017-06-19T00:00:00",
           74.88
          ],
          [
           "2017-06-24T00:00:00",
           520.22
          ],
          [
           "2017-06-26T00:00:00",
           83.76
          ],
          [
           "2017-06-29T00:00:00",
           2708.9519999999998
          ],
          [
           "2017-06-30T00:00:00",
           640.9490000000001
          ],
          [
           "2017-07-03T00:00:00",
           217.31
          ],
          [
           "2017-07-06T00:00:00",
           122.13600000000001
          ],
          [
           "2017-07-07T00:00:00",
           5.9399999999999995
          ],
          [
           "2017-07-08T00:00:00",
           221.07999999999998
          ],
          [
           "2017-07-11T00:00:00",
           1565.9720000000002
          ],
          [
           "2017-07-14T00:00:00",
           988.2040000000001
          ],
          [
           "2017-07-17T00:00:00",
           1775.009
          ],
          [
           "2017-07-21T00:00:00",
           1921.7000000000003
          ],
          [
           "2017-07-23T00:00:00",
           73.512
          ],
          [
           "2017-07-24T00:00:00",
           2399.96
          ],
          [
           "2017-07-26T00:00:00",
           2012.3020000000001
          ],
          [
           "2017-07-28T00:00:00",
           1170.564
          ],
          [
           "2017-07-30T00:00:00",
           356.65
          ],
          [
           "2017-07-31T00:00:00",
           93.52000000000001
          ],
          [
           "2017-08-01T00:00:00",
           241.436
          ],
          [
           "2017-08-03T00:00:00",
           275.58000000000004
          ],
          [
           "2017-08-07T00:00:00",
           2981.584
          ],
          [
           "2017-08-12T00:00:00",
           597.8599999999999
          ],
          [
           "2017-08-13T00:00:00",
           242.69400000000002
          ],
          [
           "2017-08-14T00:00:00",
           440.73599999999993
          ],
          [
           "2017-08-17T00:00:00",
           3397.7319999999995
          ],
          [
           "2017-08-20T00:00:00",
           616.7
          ],
          [
           "2017-08-21T00:00:00",
           1520.15
          ],
          [
           "2017-08-22T00:00:00",
           210.008
          ],
          [
           "2017-08-27T00:00:00",
           2971.7920000000004
          ],
          [
           "2017-08-29T00:00:00",
           148.02
          ],
          [
           "2017-08-31T00:00:00",
           890.0300000000001
          ],
          [
           "2017-09-02T00:00:00",
           1249.3220000000001
          ],
          [
           "2017-09-03T00:00:00",
           613.156
          ],
          [
           "2017-09-04T00:00:00",
           4068.726
          ],
          [
           "2017-09-07T00:00:00",
           229.26800000000003
          ],
          [
           "2017-09-09T00:00:00",
           557.83
          ],
          [
           "2017-09-10T00:00:00",
           369.536
          ],
          [
           "2017-09-11T00:00:00",
           2691.764
          ],
          [
           "2017-09-12T00:00:00",
           174.8
          ],
          [
           "2017-09-14T00:00:00",
           56.699999999999996
          ],
          [
           "2017-09-15T00:00:00",
           4171.888
          ],
          [
           "2017-09-16T00:00:00",
           32.7
          ],
          [
           "2017-09-18T00:00:00",
           163.38
          ],
          [
           "2017-09-19T00:00:00",
           190.01
          ],
          [
           "2017-09-21T00:00:00",
           71.37
          ],
          [
           "2017-09-22T00:00:00",
           21.96
          ],
          [
           "2017-09-23T00:00:00",
           1065.6000000000001
          ],
          [
           "2017-09-24T00:00:00",
           1403.8600000000001
          ],
          [
           "2017-09-26T00:00:00",
           1065.2160000000001
          ],
          [
           "2017-09-28T00:00:00",
           9.24
          ],
          [
           "2017-09-29T00:00:00",
           500.546
          ],
          [
           "2017-09-30T00:00:00",
           159.98
          ],
          [
           "2017-10-01T00:00:00",
           518.534
          ],
          [
           "2017-10-02T00:00:00",
           2073.88
          ],
          [
           "2017-10-03T00:00:00",
           171.288
          ],
          [
           "2017-10-05T00:00:00",
           874.9280000000001
          ],
          [
           "2017-10-07T00:00:00",
           1632.2399999999998
          ],
          [
           "2017-10-08T00:00:00",
           419.832
          ],
          [
           "2017-10-09T00:00:00",
           35.2
          ],
          [
           "2017-10-12T00:00:00",
           544.5500000000001
          ],
          [
           "2017-10-13T00:00:00",
           5325.884
          ],
          [
           "2017-10-14T00:00:00",
           55.82
          ],
          [
           "2017-10-15T00:00:00",
           993.21
          ],
          [
           "2017-10-17T00:00:00",
           63.432
          ],
          [
           "2017-10-19T00:00:00",
           135.012
          ],
          [
           "2017-10-20T00:00:00",
           24.678
          ],
          [
           "2017-10-27T00:00:00",
           914.0409999999999
          ],
          [
           "2017-10-30T00:00:00",
           1993.772
          ],
          [
           "2017-11-02T00:00:00",
           1326.982
          ],
          [
           "2017-11-03T00:00:00",
           2395.182
          ],
          [
           "2017-11-05T00:00:00",
           12.96
          ],
          [
           "2017-11-06T00:00:00",
           219.73999999999998
          ],
          [
           "2017-11-07T00:00:00",
           1283.1060000000002
          ],
          [
           "2017-11-09T00:00:00",
           950.038
          ],
          [
           "2017-11-10T00:00:00",
           361.014
          ],
          [
           "2017-11-11T00:00:00",
           186.85
          ],
          [
           "2017-11-12T00:00:00",
           36.136
          ],
          [
           "2017-11-13T00:00:00",
           104.95
          ],
          [
           "2017-11-14T00:00:00",
           355.808
          ],
          [
           "2017-11-16T00:00:00",
           2953.146
          ],
          [
           "2017-11-19T00:00:00",
           355.678
          ],
          [
           "2017-11-20T00:00:00",
           410.576
          ],
          [
           "2017-11-21T00:00:00",
           792.2320000000001
          ],
          [
           "2017-11-24T00:00:00",
           694.288
          ],
          [
           "2017-11-25T00:00:00",
           449.179
          ],
          [
           "2017-11-27T00:00:00",
           604.606
          ],
          [
           "2017-11-28T00:00:00",
           62.65
          ],
          [
           "2017-11-30T00:00:00",
           25.83
          ],
          [
           "2017-12-01T00:00:00",
           685.1279999999999
          ],
          [
           "2017-12-02T00:00:00",
           2235.938
          ],
          [
           "2017-12-03T00:00:00",
           166.44
          ],
          [
           "2017-12-04T00:00:00",
           11.76
          ],
          [
           "2017-12-05T00:00:00",
           92.94
          ],
          [
           "2017-12-06T00:00:00",
           10.68
          ],
          [
           "2017-12-07T00:00:00",
           424.41600000000005
          ],
          [
           "2017-12-08T00:00:00",
           4487.381
          ],
          [
           "2017-12-09T00:00:00",
           1689.5130000000001
          ],
          [
           "2017-12-10T00:00:00",
           194.304
          ],
          [
           "2017-12-13T00:00:00",
           261.52
          ],
          [
           "2017-12-14T00:00:00",
           134.91
          ],
          [
           "2017-12-15T00:00:00",
           273.92600000000004
          ],
          [
           "2017-12-16T00:00:00",
           814.5260000000001
          ],
          [
           "2017-12-17T00:00:00",
           535.578
          ],
          [
           "2017-12-18T00:00:00",
           344.235
          ],
          [
           "2017-12-19T00:00:00",
           36.672000000000004
          ],
          [
           "2017-12-21T00:00:00",
           1136.89
          ],
          [
           "2017-12-22T00:00:00",
           474.95
          ],
          [
           "2017-12-23T00:00:00",
           13.48
          ],
          [
           "2017-12-24T00:00:00",
           2970.4320000000002
          ],
          [
           "2017-12-25T00:00:00",
           424.172
          ],
          [
           "2017-12-28T00:00:00",
           1066.544
          ],
          [
           "2017-12-29T00:00:00",
           797.064
          ],
          [
           "2017-12-30T00:00:00",
           34.623999999999995
          ]
         ],
         "type": "bar",
         "x": [
          "2014-01-06T00:00:00",
          "2014-01-13T00:00:00",
          "2014-01-20T00:00:00",
          "2014-01-27T00:00:00",
          "2014-01-31T00:00:00",
          "2014-02-02T00:00:00",
          "2014-02-04T00:00:00",
          "2014-02-12T00:00:00",
          "2014-02-20T00:00:00",
          "2014-02-22T00:00:00",
          "2014-03-03T00:00:00",
          "2014-03-11T00:00:00",
          "2014-03-14T00:00:00",
          "2014-03-18T00:00:00",
          "2014-03-23T00:00:00",
          "2014-03-24T00:00:00",
          "2014-03-25T00:00:00",
          "2014-03-26T00:00:00",
          "2014-03-30T00:00:00",
          "2014-03-31T00:00:00",
          "2014-04-01T00:00:00",
          "2014-04-03T00:00:00",
          "2014-04-04T00:00:00",
          "2014-04-06T00:00:00",
          "2014-04-08T00:00:00",
          "2014-04-12T00:00:00",
          "2014-04-15T00:00:00",
          "2014-04-18T00:00:00",
          "2014-04-19T00:00:00",
          "2014-04-20T00:00:00",
          "2014-04-21T00:00:00",
          "2014-04-23T00:00:00",
          "2014-04-25T00:00:00",
          "2014-04-26T00:00:00",
          "2014-04-28T00:00:00",
          "2014-05-06T00:00:00",
          "2014-05-09T00:00:00",
          "2014-05-10T00:00:00",
          "2014-05-13T00:00:00",
          "2014-05-16T00:00:00",
          "2014-05-21T00:00:00",
          "2014-05-26T00:00:00",
          "2014-05-27T00:00:00",
          "2014-06-09T00:00:00",
          "2014-06-13T00:00:00",
          "2014-06-18T00:00:00",
          "2014-06-25T00:00:00",
          "2014-06-30T00:00:00",
          "2014-07-05T00:00:00",
          "2014-07-06T00:00:00",
          "2014-07-08T00:00:00",
          "2014-07-09T00:00:00",
          "2014-07-12T00:00:00",
          "2014-07-13T00:00:00",
          "2014-07-20T00:00:00",
          "2014-07-21T00:00:00",
          "2014-07-22T00:00:00",
          "2014-07-23T00:00:00",
          "2014-07-25T00:00:00",
          "2014-07-27T00:00:00",
          "2014-08-01T00:00:00",
          "2014-08-05T00:00:00",
          "2014-08-08T00:00:00",
          "2014-08-09T00:00:00",
          "2014-08-12T00:00:00",
          "2014-08-15T00:00:00",
          "2014-08-19T00:00:00",
          "2014-08-23T00:00:00",
          "2014-08-25T00:00:00",
          "2014-08-26T00:00:00",
          "2014-08-27T00:00:00",
          "2014-08-29T00:00:00",
          "2014-09-01T00:00:00",
          "2014-09-06T00:00:00",
          "2014-09-07T00:00:00",
          "2014-09-08T00:00:00",
          "2014-09-11T00:00:00",
          "2014-09-17T00:00:00",
          "2014-09-19T00:00:00",
          "2014-09-20T00:00:00",
          "2014-09-21T00:00:00",
          "2014-09-22T00:00:00",
          "2014-09-23T00:00:00",
          "2014-09-24T00:00:00",
          "2014-09-26T00:00:00",
          "2014-09-27T00:00:00",
          "2014-09-29T00:00:00",
          "2014-10-03T00:00:00",
          "2014-10-04T00:00:00",
          "2014-10-05T00:00:00",
          "2014-10-06T00:00:00",
          "2014-10-09T00:00:00",
          "2014-10-10T00:00:00",
          "2014-10-11T00:00:00",
          "2014-10-12T00:00:00",
          "2014-10-16T00:00:00",
          "2014-10-19T00:00:00",
          "2014-10-21T00:00:00",
          "2014-10-24T00:00:00",
          "2014-10-25T00:00:00",
          "2014-10-28T00:00:00",
          "2014-10-31T00:00:00",
          "2014-11-01T00:00:00",
          "2014-11-02T00:00:00",
          "2014-11-03T00:00:00",
          "2014-11-04T00:00:00",
          "2014-11-05T00:00:00",
          "2014-11-07T00:00:00",
          "2014-11-08T00:00:00",
          "2014-11-09T00:00:00",
          "2014-11-10T00:00:00",
          "2014-11-11T00:00:00",
          "2014-11-12T00:00:00",
          "2014-11-15T00:00:00",
          "2014-11-16T00:00:00",
          "2014-11-17T00:00:00",
          "2014-11-21T00:00:00",
          "2014-11-22T00:00:00",
          "2014-11-23T00:00:00",
          "2014-11-24T00:00:00",
          "2014-11-25T00:00:00",
          "2014-11-26T00:00:00",
          "2014-11-28T00:00:00",
          "2014-11-29T00:00:00",
          "2014-12-01T00:00:00",
          "2014-12-05T00:00:00",
          "2014-12-06T00:00:00",
          "2014-12-07T00:00:00",
          "2014-12-08T00:00:00",
          "2014-12-09T00:00:00",
          "2014-12-12T00:00:00",
          "2014-12-13T00:00:00",
          "2014-12-15T00:00:00",
          "2014-12-16T00:00:00",
          "2014-12-19T00:00:00",
          "2014-12-20T00:00:00",
          "2014-12-21T00:00:00",
          "2014-12-22T00:00:00",
          "2014-12-24T00:00:00",
          "2014-12-26T00:00:00",
          "2014-12-27T00:00:00",
          "2014-12-28T00:00:00",
          "2014-12-29T00:00:00",
          "2015-01-05T00:00:00",
          "2015-01-13T00:00:00",
          "2015-01-26T00:00:00",
          "2015-01-27T00:00:00",
          "2015-01-30T00:00:00",
          "2015-02-03T00:00:00",
          "2015-02-09T00:00:00",
          "2015-02-15T00:00:00",
          "2015-02-16T00:00:00",
          "2015-02-18T00:00:00",
          "2015-03-01T00:00:00",
          "2015-03-06T00:00:00",
          "2015-03-13T00:00:00",
          "2015-03-14T00:00:00",
          "2015-03-16T00:00:00",
          "2015-03-19T00:00:00",
          "2015-03-22T00:00:00",
          "2015-03-23T00:00:00",
          "2015-03-28T00:00:00",
          "2015-03-29T00:00:00",
          "2015-04-02T00:00:00",
          "2015-04-05T00:00:00",
          "2015-04-09T00:00:00",
          "2015-04-10T00:00:00",
          "2015-04-11T00:00:00",
          "2015-04-13T00:00:00",
          "2015-04-17T00:00:00",
          "2015-04-18T00:00:00",
          "2015-04-22T00:00:00",
          "2015-04-25T00:00:00",
          "2015-04-26T00:00:00",
          "2015-04-30T00:00:00",
          "2015-05-01T00:00:00",
          "2015-05-03T00:00:00",
          "2015-05-12T00:00:00",
          "2015-05-14T00:00:00",
          "2015-05-18T00:00:00",
          "2015-05-22T00:00:00",
          "2015-05-25T00:00:00",
          "2015-05-31T00:00:00",
          "2015-06-01T00:00:00",
          "2015-06-04T00:00:00",
          "2015-06-07T00:00:00",
          "2015-06-13T00:00:00",
          "2015-06-15T00:00:00",
          "2015-06-18T00:00:00",
          "2015-06-19T00:00:00",
          "2015-06-20T00:00:00",
          "2015-06-23T00:00:00",
          "2015-06-25T00:00:00",
          "2015-07-04T00:00:00",
          "2015-07-06T00:00:00",
          "2015-07-10T00:00:00",
          "2015-07-16T00:00:00",
          "2015-07-17T00:00:00",
          "2015-07-18T00:00:00",
          "2015-07-25T00:00:00",
          "2015-07-26T00:00:00",
          "2015-07-30T00:00:00",
          "2015-08-01T00:00:00",
          "2015-08-07T00:00:00",
          "2015-08-08T00:00:00",
          "2015-08-13T00:00:00",
          "2015-08-15T00:00:00",
          "2015-08-21T00:00:00",
          "2015-08-25T00:00:00",
          "2015-08-27T00:00:00",
          "2015-08-28T00:00:00",
          "2015-08-31T00:00:00",
          "2015-09-01T00:00:00",
          "2015-09-03T00:00:00",
          "2015-09-05T00:00:00",
          "2015-09-06T00:00:00",
          "2015-09-07T00:00:00",
          "2015-09-08T00:00:00",
          "2015-09-10T00:00:00",
          "2015-09-11T00:00:00",
          "2015-09-13T00:00:00",
          "2015-09-14T00:00:00",
          "2015-09-17T00:00:00",
          "2015-09-18T00:00:00",
          "2015-09-19T00:00:00",
          "2015-09-21T00:00:00",
          "2015-09-22T00:00:00",
          "2015-09-24T00:00:00",
          "2015-09-25T00:00:00",
          "2015-09-26T00:00:00",
          "2015-09-27T00:00:00",
          "2015-09-28T00:00:00",
          "2015-10-02T00:00:00",
          "2015-10-03T00:00:00",
          "2015-10-04T00:00:00",
          "2015-10-08T00:00:00",
          "2015-10-10T00:00:00",
          "2015-10-17T00:00:00",
          "2015-10-19T00:00:00",
          "2015-10-20T00:00:00",
          "2015-10-23T00:00:00",
          "2015-10-24T00:00:00",
          "2015-10-25T00:00:00",
          "2015-10-26T00:00:00",
          "2015-10-29T00:00:00",
          "2015-10-31T00:00:00",
          "2015-11-02T00:00:00",
          "2015-11-03T00:00:00",
          "2015-11-05T00:00:00",
          "2015-11-07T00:00:00",
          "2015-11-08T00:00:00",
          "2015-11-09T00:00:00",
          "2015-11-10T00:00:00",
          "2015-11-12T00:00:00",
          "2015-11-13T00:00:00",
          "2015-11-16T00:00:00",
          "2015-11-17T00:00:00",
          "2015-11-20T00:00:00",
          "2015-11-22T00:00:00",
          "2015-11-24T00:00:00",
          "2015-11-27T00:00:00",
          "2015-11-28T00:00:00",
          "2015-11-29T00:00:00",
          "2015-12-01T00:00:00",
          "2015-12-03T00:00:00",
          "2015-12-04T00:00:00",
          "2015-12-05T00:00:00",
          "2015-12-06T00:00:00",
          "2015-12-07T00:00:00",
          "2015-12-08T00:00:00",
          "2015-12-10T00:00:00",
          "2015-12-11T00:00:00",
          "2015-12-12T00:00:00",
          "2015-12-13T00:00:00",
          "2015-12-14T00:00:00",
          "2015-12-17T00:00:00",
          "2015-12-19T00:00:00",
          "2015-12-20T00:00:00",
          "2015-12-24T00:00:00",
          "2015-12-25T00:00:00",
          "2015-12-27T00:00:00",
          "2015-12-30T00:00:00",
          "2016-01-03T00:00:00",
          "2016-01-07T00:00:00",
          "2016-01-09T00:00:00",
          "2016-01-16T00:00:00",
          "2016-01-21T00:00:00",
          "2016-01-22T00:00:00",
          "2016-01-23T00:00:00",
          "2016-01-28T00:00:00",
          "2016-01-30T00:00:00",
          "2016-01-31T00:00:00",
          "2016-02-01T00:00:00",
          "2016-02-04T00:00:00",
          "2016-02-05T00:00:00",
          "2016-02-07T00:00:00",
          "2016-02-09T00:00:00",
          "2016-02-13T00:00:00",
          "2016-02-19T00:00:00",
          "2016-02-21T00:00:00",
          "2016-02-22T00:00:00",
          "2016-03-03T00:00:00",
          "2016-03-04T00:00:00",
          "2016-03-10T00:00:00",
          "2016-03-12T00:00:00",
          "2016-03-13T00:00:00",
          "2016-03-14T00:00:00",
          "2016-03-15T00:00:00",
          "2016-03-17T00:00:00",
          "2016-03-28T00:00:00",
          "2016-04-07T00:00:00",
          "2016-04-08T00:00:00",
          "2016-04-09T00:00:00",
          "2016-04-10T00:00:00",
          "2016-04-12T00:00:00",
          "2016-04-13T00:00:00",
          "2016-04-14T00:00:00",
          "2016-04-15T00:00:00",
          "2016-04-17T00:00:00",
          "2016-04-19T00:00:00",
          "2016-04-22T00:00:00",
          "2016-04-23T00:00:00",
          "2016-04-24T00:00:00",
          "2016-04-28T00:00:00",
          "2016-05-05T00:00:00",
          "2016-05-06T00:00:00",
          "2016-05-08T00:00:00",
          "2016-05-09T00:00:00",
          "2016-05-11T00:00:00",
          "2016-05-12T00:00:00",
          "2016-05-16T00:00:00",
          "2016-05-18T00:00:00",
          "2016-05-19T00:00:00",
          "2016-05-20T00:00:00",
          "2016-05-21T00:00:00",
          "2016-05-22T00:00:00",
          "2016-05-23T00:00:00",
          "2016-05-26T00:00:00",
          "2016-05-27T00:00:00",
          "2016-05-28T00:00:00",
          "2016-05-30T00:00:00",
          "2016-06-03T00:00:00",
          "2016-06-05T00:00:00",
          "2016-06-06T00:00:00",
          "2016-06-07T00:00:00",
          "2016-06-09T00:00:00",
          "2016-06-10T00:00:00",
          "2016-06-11T00:00:00",
          "2016-06-12T00:00:00",
          "2016-06-14T00:00:00",
          "2016-06-16T00:00:00",
          "2016-06-17T00:00:00",
          "2016-06-19T00:00:00",
          "2016-06-20T00:00:00",
          "2016-06-23T00:00:00",
          "2016-06-24T00:00:00",
          "2016-06-25T00:00:00",
          "2016-06-26T00:00:00",
          "2016-06-27T00:00:00",
          "2016-06-28T00:00:00",
          "2016-07-02T00:00:00",
          "2016-07-03T00:00:00",
          "2016-07-04T00:00:00",
          "2016-07-07T00:00:00",
          "2016-07-12T00:00:00",
          "2016-07-14T00:00:00",
          "2016-07-17T00:00:00",
          "2016-07-19T00:00:00",
          "2016-07-21T00:00:00",
          "2016-07-22T00:00:00",
          "2016-07-25T00:00:00",
          "2016-07-28T00:00:00",
          "2016-07-30T00:00:00",
          "2016-07-31T00:00:00",
          "2016-08-01T00:00:00",
          "2016-08-02T00:00:00",
          "2016-08-04T00:00:00",
          "2016-08-06T00:00:00",
          "2016-08-08T00:00:00",
          "2016-08-14T00:00:00",
          "2016-08-15T00:00:00",
          "2016-08-16T00:00:00",
          "2016-08-21T00:00:00",
          "2016-08-22T00:00:00",
          "2016-08-26T00:00:00",
          "2016-08-30T00:00:00",
          "2016-09-01T00:00:00",
          "2016-09-02T00:00:00",
          "2016-09-04T00:00:00",
          "2016-09-05T00:00:00",
          "2016-09-08T00:00:00",
          "2016-09-09T00:00:00",
          "2016-09-10T00:00:00",
          "2016-09-11T00:00:00",
          "2016-09-16T00:00:00",
          "2016-09-17T00:00:00",
          "2016-09-18T00:00:00",
          "2016-09-19T00:00:00",
          "2016-09-20T00:00:00",
          "2016-09-23T00:00:00",
          "2016-09-24T00:00:00",
          "2016-09-25T00:00:00",
          "2016-09-26T00:00:00",
          "2016-09-29T00:00:00",
          "2016-10-01T00:00:00",
          "2016-10-03T00:00:00",
          "2016-10-07T00:00:00",
          "2016-10-08T00:00:00",
          "2016-10-13T00:00:00",
          "2016-10-17T00:00:00",
          "2016-10-20T00:00:00",
          "2016-10-21T00:00:00",
          "2016-10-24T00:00:00",
          "2016-10-27T00:00:00",
          "2016-10-28T00:00:00",
          "2016-10-29T00:00:00",
          "2016-10-30T00:00:00",
          "2016-10-31T00:00:00",
          "2016-11-03T00:00:00",
          "2016-11-04T00:00:00",
          "2016-11-05T00:00:00",
          "2016-11-06T00:00:00",
          "2016-11-07T00:00:00",
          "2016-11-09T00:00:00",
          "2016-11-10T00:00:00",
          "2016-11-11T00:00:00",
          "2016-11-12T00:00:00",
          "2016-11-14T00:00:00",
          "2016-11-15T00:00:00",
          "2016-11-16T00:00:00",
          "2016-11-17T00:00:00",
          "2016-11-18T00:00:00",
          "2016-11-20T00:00:00",
          "2016-11-21T00:00:00",
          "2016-11-24T00:00:00",
          "2016-11-25T00:00:00",
          "2016-11-26T00:00:00",
          "2016-12-01T00:00:00",
          "2016-12-02T00:00:00",
          "2016-12-03T00:00:00",
          "2016-12-04T00:00:00",
          "2016-12-06T00:00:00",
          "2016-12-08T00:00:00",
          "2016-12-09T00:00:00",
          "2016-12-10T00:00:00",
          "2016-12-11T00:00:00",
          "2016-12-12T00:00:00",
          "2016-12-13T00:00:00",
          "2016-12-14T00:00:00",
          "2016-12-15T00:00:00",
          "2016-12-16T00:00:00",
          "2016-12-17T00:00:00",
          "2016-12-18T00:00:00",
          "2016-12-22T00:00:00",
          "2016-12-24T00:00:00",
          "2016-12-25T00:00:00",
          "2016-12-26T00:00:00",
          "2016-12-27T00:00:00",
          "2016-12-29T00:00:00",
          "2016-12-30T00:00:00",
          "2016-12-31T00:00:00",
          "2017-01-01T00:00:00",
          "2017-01-02T00:00:00",
          "2017-01-03T00:00:00",
          "2017-01-07T00:00:00",
          "2017-01-12T00:00:00",
          "2017-01-14T00:00:00",
          "2017-01-15T00:00:00",
          "2017-01-16T00:00:00",
          "2017-01-20T00:00:00",
          "2017-01-24T00:00:00",
          "2017-01-26T00:00:00",
          "2017-01-28T00:00:00",
          "2017-01-29T00:00:00",
          "2017-01-30T00:00:00",
          "2017-02-02T00:00:00",
          "2017-02-05T00:00:00",
          "2017-02-06T00:00:00",
          "2017-02-09T00:00:00",
          "2017-02-10T00:00:00",
          "2017-02-11T00:00:00",
          "2017-02-18T00:00:00",
          "2017-02-19T00:00:00",
          "2017-02-20T00:00:00",
          "2017-02-23T00:00:00",
          "2017-02-26T00:00:00",
          "2017-03-02T00:00:00",
          "2017-03-03T00:00:00",
          "2017-03-04T00:00:00",
          "2017-03-06T00:00:00",
          "2017-03-08T00:00:00",
          "2017-03-09T00:00:00",
          "2017-03-10T00:00:00",
          "2017-03-12T00:00:00",
          "2017-03-13T00:00:00",
          "2017-03-16T00:00:00",
          "2017-03-17T00:00:00",
          "2017-03-18T00:00:00",
          "2017-03-19T00:00:00",
          "2017-03-21T00:00:00",
          "2017-03-23T00:00:00",
          "2017-03-25T00:00:00",
          "2017-03-27T00:00:00",
          "2017-03-28T00:00:00",
          "2017-03-30T00:00:00",
          "2017-03-31T00:00:00",
          "2017-04-01T00:00:00",
          "2017-04-02T00:00:00",
          "2017-04-08T00:00:00",
          "2017-04-11T00:00:00",
          "2017-04-13T00:00:00",
          "2017-04-15T00:00:00",
          "2017-04-16T00:00:00",
          "2017-04-17T00:00:00",
          "2017-04-22T00:00:00",
          "2017-04-23T00:00:00",
          "2017-04-24T00:00:00",
          "2017-04-25T00:00:00",
          "2017-04-27T00:00:00",
          "2017-04-30T00:00:00",
          "2017-05-02T00:00:00",
          "2017-05-03T00:00:00",
          "2017-05-04T00:00:00",
          "2017-05-05T00:00:00",
          "2017-05-06T00:00:00",
          "2017-05-07T00:00:00",
          "2017-05-08T00:00:00",
          "2017-05-12T00:00:00",
          "2017-05-13T00:00:00",
          "2017-05-14T00:00:00",
          "2017-05-19T00:00:00",
          "2017-05-20T00:00:00",
          "2017-05-22T00:00:00",
          "2017-05-23T00:00:00",
          "2017-05-26T00:00:00",
          "2017-05-30T00:00:00",
          "2017-06-03T00:00:00",
          "2017-06-06T00:00:00",
          "2017-06-08T00:00:00",
          "2017-06-10T00:00:00",
          "2017-06-11T00:00:00",
          "2017-06-15T00:00:00",
          "2017-06-16T00:00:00",
          "2017-06-17T00:00:00",
          "2017-06-18T00:00:00",
          "2017-06-19T00:00:00",
          "2017-06-24T00:00:00",
          "2017-06-26T00:00:00",
          "2017-06-29T00:00:00",
          "2017-06-30T00:00:00",
          "2017-07-03T00:00:00",
          "2017-07-06T00:00:00",
          "2017-07-07T00:00:00",
          "2017-07-08T00:00:00",
          "2017-07-11T00:00:00",
          "2017-07-14T00:00:00",
          "2017-07-17T00:00:00",
          "2017-07-21T00:00:00",
          "2017-07-23T00:00:00",
          "2017-07-24T00:00:00",
          "2017-07-26T00:00:00",
          "2017-07-28T00:00:00",
          "2017-07-30T00:00:00",
          "2017-07-31T00:00:00",
          "2017-08-01T00:00:00",
          "2017-08-03T00:00:00",
          "2017-08-07T00:00:00",
          "2017-08-12T00:00:00",
          "2017-08-13T00:00:00",
          "2017-08-14T00:00:00",
          "2017-08-17T00:00:00",
          "2017-08-20T00:00:00",
          "2017-08-21T00:00:00",
          "2017-08-22T00:00:00",
          "2017-08-27T00:00:00",
          "2017-08-29T00:00:00",
          "2017-08-31T00:00:00",
          "2017-09-02T00:00:00",
          "2017-09-03T00:00:00",
          "2017-09-04T00:00:00",
          "2017-09-07T00:00:00",
          "2017-09-09T00:00:00",
          "2017-09-10T00:00:00",
          "2017-09-11T00:00:00",
          "2017-09-12T00:00:00",
          "2017-09-14T00:00:00",
          "2017-09-15T00:00:00",
          "2017-09-16T00:00:00",
          "2017-09-18T00:00:00",
          "2017-09-19T00:00:00",
          "2017-09-21T00:00:00",
          "2017-09-22T00:00:00",
          "2017-09-23T00:00:00",
          "2017-09-24T00:00:00",
          "2017-09-26T00:00:00",
          "2017-09-28T00:00:00",
          "2017-09-29T00:00:00",
          "2017-09-30T00:00:00",
          "2017-10-01T00:00:00",
          "2017-10-02T00:00:00",
          "2017-10-03T00:00:00",
          "2017-10-05T00:00:00",
          "2017-10-07T00:00:00",
          "2017-10-08T00:00:00",
          "2017-10-09T00:00:00",
          "2017-10-12T00:00:00",
          "2017-10-13T00:00:00",
          "2017-10-14T00:00:00",
          "2017-10-15T00:00:00",
          "2017-10-17T00:00:00",
          "2017-10-19T00:00:00",
          "2017-10-20T00:00:00",
          "2017-10-27T00:00:00",
          "2017-10-30T00:00:00",
          "2017-11-02T00:00:00",
          "2017-11-03T00:00:00",
          "2017-11-05T00:00:00",
          "2017-11-06T00:00:00",
          "2017-11-07T00:00:00",
          "2017-11-09T00:00:00",
          "2017-11-10T00:00:00",
          "2017-11-11T00:00:00",
          "2017-11-12T00:00:00",
          "2017-11-13T00:00:00",
          "2017-11-14T00:00:00",
          "2017-11-16T00:00:00",
          "2017-11-19T00:00:00",
          "2017-11-20T00:00:00",
          "2017-11-21T00:00:00",
          "2017-11-24T00:00:00",
          "2017-11-25T00:00:00",
          "2017-11-27T00:00:00",
          "2017-11-28T00:00:00",
          "2017-11-30T00:00:00",
          "2017-12-01T00:00:00",
          "2017-12-02T00:00:00",
          "2017-12-03T00:00:00",
          "2017-12-04T00:00:00",
          "2017-12-05T00:00:00",
          "2017-12-06T00:00:00",
          "2017-12-07T00:00:00",
          "2017-12-08T00:00:00",
          "2017-12-09T00:00:00",
          "2017-12-10T00:00:00",
          "2017-12-13T00:00:00",
          "2017-12-14T00:00:00",
          "2017-12-15T00:00:00",
          "2017-12-16T00:00:00",
          "2017-12-17T00:00:00",
          "2017-12-18T00:00:00",
          "2017-12-19T00:00:00",
          "2017-12-21T00:00:00",
          "2017-12-22T00:00:00",
          "2017-12-23T00:00:00",
          "2017-12-24T00:00:00",
          "2017-12-25T00:00:00",
          "2017-12-28T00:00:00",
          "2017-12-29T00:00:00",
          "2017-12-30T00:00:00"
         ],
         "y": [
          19.44,
          1679.749,
          38.66,
          426.67,
          290.666,
          12.350000000000001,
          134.38400000000001,
          129.568,
          12.96,
          19.44,
          626.3520000000001,
          7.98,
          13.940000000000001,
          4445.488,
          935.1519999999999,
          40.48,
          92.36,
          145.13000000000002,
          205.666,
          726.5480000000001,
          46.688,
          233.45,
          26.084,
          636.478,
          499.55199999999996,
          1879.723,
          294.71999999999997,
          323.458,
          76.14,
          59.92,
          16.520000000000003,
          48.91,
          2061.01,
          282.56800000000004,
          1679.96,
          254.456,
          235.76999999999998,
          1769.7840000000003,
          437.42600000000004,
          289.28,
          31.84,
          801.53,
          2139.9339999999997,
          3744.764,
          14.52,
          139.8,
          447.84,
          32.400000000000006,
          180.96000000000004,
          478.48,
          699.192,
          240.801,
          1211.75,
          351.216,
          891.466,
          1173.6160000000002,
          1155.772,
          992.828,
          8341.289999999999,
          514.28,
          19.752000000000002,
          550.164,
          2473.096,
          26.86,
          891.7760000000001,
          505.282,
          358.696,
          49.568000000000005,
          176.14,
          176.8,
          244.76000000000002,
          123.28,
          53.94,
          100.36,
          131.84000000000003,
          134.228,
          127.94999999999999,
          182.94,
          12.83,
          104.392,
          451.28400000000005,
          210.13,
          519.9830000000001,
          211.96,
          750.5600000000001,
          685.9,
          968.3,
          265.784,
          110.09800000000001,
          99.98,
          9.09,
          160.592,
          137.632,
          473.12800000000004,
          36.29,
          194.322,
          641.104,
          36.36,
          34.272,
          49.408,
          1252.602,
          1081.52,
          65.80000000000001,
          409.30400000000003,
          6.72,
          1767.6960000000001,
          20.04,
          123.14399999999999,
          333.576,
          1517.574,
          807.6859999999999,
          850.7560000000001,
          641.0240000000001,
          813.99,
          736.0725,
          1075.37,
          114.53,
          53.82000000000001,
          1037.19,
          272.432,
          1644.224,
          149.092,
          643.702,
          606.3199999999999,
          58.199999999999996,
          340.84,
          1261.33,
          173.51999999999998,
          119.32,
          34.68,
          4704.5405,
          90.24,
          6.16,
          2712.1160000000004,
          832.1379999999999,
          694.5340000000001,
          1897.92,
          11.76,
          1910.2740000000001,
          15.39,
          362.026,
          1049.97,
          1774.3980000000001,
          143.51999999999998,
          612.458,
          182.72,
          2803.92,
          2147.3360000000002,
          136.92,
          203.92,
          627.48,
          124.54999999999998,
          105.84400000000001,
          200.73600000000002,
          1555.2440000000001,
          1242.8960000000002,
          19.44,
          43.13,
          128.548,
          1701.44,
          466.04999999999995,
          199.64000000000001,
          295.68,
          71.976,
          892.224,
          369.91200000000003,
          12.832,
          692.7280000000001,
          2004.3760000000002,
          2572.5,
          1124.5700000000002,
          152.916,
          35.284,
          485.7840000000001,
          54.45,
          173.308,
          1140.5720000000001,
          38.519999999999996,
          2570.7075,
          10.86,
          3862.0980000000004,
          14.73,
          244.77999999999997,
          11.76,
          1109.95,
          7.52,
          36.624,
          225.57599999999996,
          51.98,
          205.73,
          383.616,
          366.99,
          618.792,
          22.848,
          170.35200000000003,
          39.92,
          2048.856,
          195.466,
          519.96,
          623.96,
          299.34000000000003,
          226.12999999999997,
          1011.6960000000001,
          19.152,
          158.672,
          82.36,
          497.59000000000003,
          1299.526,
          146.744,
          639.974,
          2017.532,
          2580.837,
          979.104,
          314.726,
          733.283,
          46.32,
          671.93,
          68.28,
          158.20000000000002,
          455.84999999999997,
          1336.352,
          170.13600000000002,
          32.400000000000006,
          684.84,
          83.80000000000001,
          609.4359999999999,
          266.03999999999996,
          1173.03,
          17.48,
          188.63,
          175.29,
          438.736,
          897.1800000000001,
          120.666,
          26.96,
          145.9,
          438.546,
          77.88,
          1910.6999999999998,
          695.5260000000001,
          1446.784,
          454.27200000000005,
          313.626,
          5.76,
          244.24,
          3058.1490000000003,
          1777.739,
          1345.418,
          62.8,
          190.72000000000003,
          496.87,
          2.48,
          79.9,
          15.700000000000001,
          723.164,
          18.9,
          1873.6060000000002,
          860.412,
          114.37,
          1218.7640000000001,
          505.71000000000004,
          45.28,
          60.604,
          2676.672,
          359.49899999999997,
          460.172,
          96.06,
          388.824,
          92.88,
          457.96000000000004,
          62.059999999999995,
          110.528,
          1287.986,
          966.066,
          472.116,
          450.194,
          1941.81,
          17.12,
          65.85600000000001,
          1240.46,
          1127.7,
          3251.3400000000006,
          114.46,
          34.58,
          727.878,
          102.218,
          1167.056,
          65.05000000000001,
          59.99,
          39.68,
          399.26,
          166.29200000000003,
          105.52,
          93.02,
          918.9659999999999,
          623.96,
          121.83,
          146.82,
          70.88,
          511.948,
          492.85,
          60.629999999999995,
          16.99,
          7558.262000000001,
          1652.342,
          4992.054,
          41.904,
          1356.5760000000002,
          84.784,
          93.9,
          1199.976,
          122.66,
          556.665,
          928.1220000000001,
          901.9120000000001,
          6.12,
          383.8,
          1265.268,
          257.499,
          156.51600000000002,
          31.56,
          441.568,
          3.9840000000000004,
          41.568000000000005,
          628.732,
          41.6,
          17.94,
          32.04,
          5.98,
          128.67,
          327.9,
          122.22,
          97.424,
          1064.624,
          121.436,
          222.38400000000001,
          37.05,
          1119.1480000000001,
          13.38,
          1157.6799999999998,
          206.72,
          71.08800000000001,
          79.792,
          3650.438,
          9.514000000000001,
          299.832,
          1388.7800000000002,
          902.712,
          213.46,
          1946.3529999999998,
          46.349999999999994,
          593.9659999999999,
          17.12,
          453.8,
          997.9340000000001,
          4861.33,
          60.81,
          284.24,
          201.584,
          41.32000000000001,
          195.184,
          16.92,
          1376.445,
          3352.5180000000005,
          95.76,
          292.796,
          77.88,
          425.954,
          423.05,
          6.3,
          744.894,
          18.9,
          715.64,
          863.128,
          1085.688,
          482.58400000000006,
          335.12,
          211.168,
          1016.184,
          121.09199999999998,
          608.216,
          204.54000000000002,
          3339.1220000000003,
          5.76,
          1776.5260000000003,
          387.00000000000006,
          34.66,
          1850.7780000000002,
          2824.2300000000005,
          228.12,
          557.0600000000001,
          55.36000000000001,
          276.78400000000005,
          3727.792,
          304.106,
          100.164,
          2295.9900000000002,
          187,
          475.694,
          22.979999999999997,
          1015,
          1553.314,
          562.4975,
          82.45,
          194.848,
          1027.676,
          37.824,
          61.96,
          256.196,
          138.826,
          406.432,
          792.7660000000001,
          1109.97,
          136.08800000000002,
          495.93199999999996,
          11.744,
          3.62,
          2489.34,
          2051.454,
          968.258,
          426.386,
          404.824,
          655.6700000000001,
          479.97,
          1778.298,
          531.5759999999999,
          878.3280000000001,
          17.22,
          1515.694,
          8.32,
          49.5,
          785.152,
          66.88,
          32.400000000000006,
          2948.032,
          194.35200000000003,
          4104.174,
          1255.5,
          303.358,
          3079.54,
          104.85,
          1037.7420000000002,
          1862.0140000000004,
          273.92,
          401.84799999999996,
          1937.9240000000002,
          440.15999999999997,
          1130.2079999999999,
          216.22400000000002,
          14.76,
          585.13,
          2003.52,
          1754.026,
          884.6800000000001,
          83.72,
          2875.544,
          1431.078,
          20.16,
          53.222,
          487.704,
          340.75199999999995,
          474.43,
          16.59,
          2070.2720000000004,
          332.8,
          9.78,
          154.9,
          21.400000000000002,
          427.59200000000004,
          544.952,
          412.9960000000001,
          11.84,
          277.71,
          136.526,
          271.644,
          753.624,
          2011.8999999999999,
          29.900000000000002,
          376.02000000000004,
          203.98299999999998,
          21.336,
          287.326,
          57.510000000000005,
          238.19799999999998,
          37.44,
          2847.646,
          784.3639999999999,
          1619.4640000000002,
          24.57,
          611.47,
          174.56000000000003,
          710.8040000000001,
          111.96,
          242.94,
          314.54999999999995,
          540.934,
          17.456,
          124.16,
          2128.398,
          745.2800000000001,
          211.84,
          1069.132,
          168.58,
          1435.96,
          265.07200000000006,
          29.700000000000003,
          5410.107999999999,
          25.11,
          440.30999999999995,
          241.81,
          436.70400000000006,
          79.14,
          349.493,
          562.702,
          18.28,
          183.38,
          1.81,
          559.2489999999999,
          183.61,
          292.5,
          269.18,
          881.84,
          745.634,
          23.16,
          152.94,
          499.93399999999997,
          3441.032,
          551.038,
          58.48,
          1418.21,
          859.9480000000001,
          868.4520000000001,
          130.64,
          171.288,
          12.96,
          72.62,
          60.622,
          31.35,
          1515.186,
          854.8249999999999,
          184.41,
          172.196,
          1231.5,
          51.312,
          956.8034999999999,
          74.88,
          520.22,
          83.76,
          2708.9519999999998,
          640.9490000000001,
          217.31,
          122.13600000000001,
          5.9399999999999995,
          221.07999999999998,
          1565.9720000000002,
          988.2040000000001,
          1775.009,
          1921.7000000000003,
          73.512,
          2399.96,
          2012.3020000000001,
          1170.564,
          356.65,
          93.52000000000001,
          241.436,
          275.58000000000004,
          2981.584,
          597.8599999999999,
          242.69400000000002,
          440.73599999999993,
          3397.7319999999995,
          616.7,
          1520.15,
          210.008,
          2971.7920000000004,
          148.02,
          890.0300000000001,
          1249.3220000000001,
          613.156,
          4068.726,
          229.26800000000003,
          557.83,
          369.536,
          2691.764,
          174.8,
          56.699999999999996,
          4171.888,
          32.7,
          163.38,
          190.01,
          71.37,
          21.96,
          1065.6000000000001,
          1403.8600000000001,
          1065.2160000000001,
          9.24,
          500.546,
          159.98,
          518.534,
          2073.88,
          171.288,
          874.9280000000001,
          1632.2399999999998,
          419.832,
          35.2,
          544.5500000000001,
          5325.884,
          55.82,
          993.21,
          63.432,
          135.012,
          24.678,
          914.0409999999999,
          1993.772,
          1326.982,
          2395.182,
          12.96,
          219.73999999999998,
          1283.1060000000002,
          950.038,
          361.014,
          186.85,
          36.136,
          104.95,
          355.808,
          2953.146,
          355.678,
          410.576,
          792.2320000000001,
          694.288,
          449.179,
          604.606,
          62.65,
          25.83,
          685.1279999999999,
          2235.938,
          166.44,
          11.76,
          92.94,
          10.68,
          424.41600000000005,
          4487.381,
          1689.5130000000001,
          194.304,
          261.52,
          134.91,
          273.92600000000004,
          814.5260000000001,
          535.578,
          344.235,
          36.672000000000004,
          1136.89,
          474.95,
          13.48,
          2970.4320000000002,
          424.172,
          1066.544,
          797.064,
          34.623999999999995
         ]
        }
       ],
       "layout": {
        "barmode": "group",
        "template": {
         "data": {
          "bar": [
           {
            "error_x": {
             "color": "#2a3f5f"
            },
            "error_y": {
             "color": "#2a3f5f"
            },
            "marker": {
             "line": {
              "color": "#E5ECF6",
              "width": 0.5
             },
             "pattern": {
              "fillmode": "overlay",
              "size": 10,
              "solidity": 0.2
             }
            },
            "type": "bar"
           }
          ],
          "barpolar": [
           {
            "marker": {
             "line": {
              "color": "#E5ECF6",
              "width": 0.5
             },
             "pattern": {
              "fillmode": "overlay",
              "size": 10,
              "solidity": 0.2
             }
            },
            "type": "barpolar"
           }
          ],
          "carpet": [
           {
            "aaxis": {
             "endlinecolor": "#2a3f5f",
             "gridcolor": "white",
             "linecolor": "white",
             "minorgridcolor": "white",
             "startlinecolor": "#2a3f5f"
            },
            "baxis": {
             "endlinecolor": "#2a3f5f",
             "gridcolor": "white",
             "linecolor": "white",
             "minorgridcolor": "white",
             "startlinecolor": "#2a3f5f"
            },
            "type": "carpet"
           }
          ],
          "choropleth": [
           {
            "colorbar": {
             "outlinewidth": 0,
             "ticks": ""
            },
            "type": "choropleth"
           }
          ],
          "contour": [
           {
            "colorbar": {
             "outlinewidth": 0,
             "ticks": ""
            },
            "colorscale": [
             [
              0,
              "#0d0887"
             ],
             [
              0.1111111111111111,
              "#46039f"
             ],
             [
              0.2222222222222222,
              "#7201a8"
             ],
             [
              0.3333333333333333,
              "#9c179e"
             ],
             [
              0.4444444444444444,
              "#bd3786"
             ],
             [
              0.5555555555555556,
              "#d8576b"
             ],
             [
              0.6666666666666666,
              "#ed7953"
             ],
             [
              0.7777777777777778,
              "#fb9f3a"
             ],
             [
              0.8888888888888888,
              "#fdca26"
             ],
             [
              1,
              "#f0f921"
             ]
            ],
            "type": "contour"
           }
          ],
          "contourcarpet": [
           {
            "colorbar": {
             "outlinewidth": 0,
             "ticks": ""
            },
            "type": "contourcarpet"
           }
          ],
          "heatmap": [
           {
            "colorbar": {
             "outlinewidth": 0,
             "ticks": ""
            },
            "colorscale": [
             [
              0,
              "#0d0887"
             ],
             [
              0.1111111111111111,
              "#46039f"
             ],
             [
              0.2222222222222222,
              "#7201a8"
             ],
             [
              0.3333333333333333,
              "#9c179e"
             ],
             [
              0.4444444444444444,
              "#bd3786"
             ],
             [
              0.5555555555555556,
              "#d8576b"
             ],
             [
              0.6666666666666666,
              "#ed7953"
             ],
             [
              0.7777777777777778,
              "#fb9f3a"
             ],
             [
              0.8888888888888888,
              "#fdca26"
             ],
             [
              1,
              "#f0f921"
             ]
            ],
            "type": "heatmap"
           }
          ],
          "heatmapgl": [
           {
            "colorbar": {
             "outlinewidth": 0,
             "ticks": ""
            },
            "colorscale": [
             [
              0,
              "#0d0887"
             ],
             [
              0.1111111111111111,
              "#46039f"
             ],
             [
              0.2222222222222222,
              "#7201a8"
             ],
             [
              0.3333333333333333,
              "#9c179e"
             ],
             [
              0.4444444444444444,
              "#bd3786"
             ],
             [
              0.5555555555555556,
              "#d8576b"
             ],
             [
              0.6666666666666666,
              "#ed7953"
             ],
             [
              0.7777777777777778,
              "#fb9f3a"
             ],
             [
              0.8888888888888888,
              "#fdca26"
             ],
             [
              1,
              "#f0f921"
             ]
            ],
            "type": "heatmapgl"
           }
          ],
          "histogram": [
           {
            "marker": {
             "pattern": {
              "fillmode": "overlay",
              "size": 10,
              "solidity": 0.2
             }
            },
            "type": "histogram"
           }
          ],
          "histogram2d": [
           {
            "colorbar": {
             "outlinewidth": 0,
             "ticks": ""
            },
            "colorscale": [
             [
              0,
              "#0d0887"
             ],
             [
              0.1111111111111111,
              "#46039f"
             ],
             [
              0.2222222222222222,
              "#7201a8"
             ],
             [
              0.3333333333333333,
              "#9c179e"
             ],
             [
              0.4444444444444444,
              "#bd3786"
             ],
             [
              0.5555555555555556,
              "#d8576b"
             ],
             [
              0.6666666666666666,
              "#ed7953"
             ],
             [
              0.7777777777777778,
              "#fb9f3a"
             ],
             [
              0.8888888888888888,
              "#fdca26"
             ],
             [
              1,
              "#f0f921"
             ]
            ],
            "type": "histogram2d"
           }
          ],
          "histogram2dcontour": [
           {
            "colorbar": {
             "outlinewidth": 0,
             "ticks": ""
            },
            "colorscale": [
             [
              0,
              "#0d0887"
             ],
             [
              0.1111111111111111,
              "#46039f"
             ],
             [
              0.2222222222222222,
              "#7201a8"
             ],
             [
              0.3333333333333333,
              "#9c179e"
             ],
             [
              0.4444444444444444,
              "#bd3786"
             ],
             [
              0.5555555555555556,
              "#d8576b"
             ],
             [
              0.6666666666666666,
              "#ed7953"
             ],
             [
              0.7777777777777778,
              "#fb9f3a"
             ],
             [
              0.8888888888888888,
              "#fdca26"
             ],
             [
              1,
              "#f0f921"
             ]
            ],
            "type": "histogram2dcontour"
           }
          ],
          "mesh3d": [
           {
            "colorbar": {
             "outlinewidth": 0,
             "ticks": ""
            },
            "type": "mesh3d"
           }
          ],
          "parcoords": [
           {
            "line": {
             "colorbar": {
              "outlinewidth": 0,
              "ticks": ""
             }
            },
            "type": "parcoords"
           }
          ],
          "pie": [
           {
            "automargin": true,
            "type": "pie"
           }
          ],
          "scatter": [
           {
            "fillpattern": {
             "fillmode": "overlay",
             "size": 10,
             "solidity": 0.2
            },
            "type": "scatter"
           }
          ],
          "scatter3d": [
           {
            "line": {
             "colorbar": {
              "outlinewidth": 0,
              "ticks": ""
             }
            },
            "marker": {
             "colorbar": {
              "outlinewidth": 0,
              "ticks": ""
             }
            },
            "type": "scatter3d"
           }
          ],
          "scattercarpet": [
           {
            "marker": {
             "colorbar": {
              "outlinewidth": 0,
              "ticks": ""
             }
            },
            "type": "scattercarpet"
           }
          ],
          "scattergeo": [
           {
            "marker": {
             "colorbar": {
              "outlinewidth": 0,
              "ticks": ""
             }
            },
            "type": "scattergeo"
           }
          ],
          "scattergl": [
           {
            "marker": {
             "colorbar": {
              "outlinewidth": 0,
              "ticks": ""
             }
            },
            "type": "scattergl"
           }
          ],
          "scattermapbox": [
           {
            "marker": {
             "colorbar": {
              "outlinewidth": 0,
              "ticks": ""
             }
            },
            "type": "scattermapbox"
           }
          ],
          "scatterpolar": [
           {
            "marker": {
             "colorbar": {
              "outlinewidth": 0,
              "ticks": ""
             }
            },
            "type": "scatterpolar"
           }
          ],
          "scatterpolargl": [
           {
            "marker": {
             "colorbar": {
              "outlinewidth": 0,
              "ticks": ""
             }
            },
            "type": "scatterpolargl"
           }
          ],
          "scatterternary": [
           {
            "marker": {
             "colorbar": {
              "outlinewidth": 0,
              "ticks": ""
             }
            },
            "type": "scatterternary"
           }
          ],
          "surface": [
           {
            "colorbar": {
             "outlinewidth": 0,
             "ticks": ""
            },
            "colorscale": [
             [
              0,
              "#0d0887"
             ],
             [
              0.1111111111111111,
              "#46039f"
             ],
             [
              0.2222222222222222,
              "#7201a8"
             ],
             [
              0.3333333333333333,
              "#9c179e"
             ],
             [
              0.4444444444444444,
              "#bd3786"
             ],
             [
              0.5555555555555556,
              "#d8576b"
             ],
             [
              0.6666666666666666,
              "#ed7953"
             ],
             [
              0.7777777777777778,
              "#fb9f3a"
             ],
             [
              0.8888888888888888,
              "#fdca26"
             ],
             [
              1,
              "#f0f921"
             ]
            ],
            "type": "surface"
           }
          ],
          "table": [
           {
            "cells": {
             "fill": {
              "color": "#EBF0F8"
             },
             "line": {
              "color": "white"
             }
            },
            "header": {
             "fill": {
              "color": "#C8D4E3"
             },
             "line": {
              "color": "white"
             }
            },
            "type": "table"
           }
          ]
         },
         "layout": {
          "annotationdefaults": {
           "arrowcolor": "#2a3f5f",
           "arrowhead": 0,
           "arrowwidth": 1
          },
          "autotypenumbers": "strict",
          "coloraxis": {
           "colorbar": {
            "outlinewidth": 0,
            "ticks": ""
           }
          },
          "colorscale": {
           "diverging": [
            [
             0,
             "#8e0152"
            ],
            [
             0.1,
             "#c51b7d"
            ],
            [
             0.2,
             "#de77ae"
            ],
            [
             0.3,
             "#f1b6da"
            ],
            [
             0.4,
             "#fde0ef"
            ],
            [
             0.5,
             "#f7f7f7"
            ],
            [
             0.6,
             "#e6f5d0"
            ],
            [
             0.7,
             "#b8e186"
            ],
            [
             0.8,
             "#7fbc41"
            ],
            [
             0.9,
             "#4d9221"
            ],
            [
             1,
             "#276419"
            ]
           ],
           "sequential": [
            [
             0,
             "#0d0887"
            ],
            [
             0.1111111111111111,
             "#46039f"
            ],
            [
             0.2222222222222222,
             "#7201a8"
            ],
            [
             0.3333333333333333,
             "#9c179e"
            ],
            [
             0.4444444444444444,
             "#bd3786"
            ],
            [
             0.5555555555555556,
             "#d8576b"
            ],
            [
             0.6666666666666666,
             "#ed7953"
            ],
            [
             0.7777777777777778,
             "#fb9f3a"
            ],
            [
             0.8888888888888888,
             "#fdca26"
            ],
            [
             1,
             "#f0f921"
            ]
           ],
           "sequentialminus": [
            [
             0,
             "#0d0887"
            ],
            [
             0.1111111111111111,
             "#46039f"
            ],
            [
             0.2222222222222222,
             "#7201a8"
            ],
            [
             0.3333333333333333,
             "#9c179e"
            ],
            [
             0.4444444444444444,
             "#bd3786"
            ],
            [
             0.5555555555555556,
             "#d8576b"
            ],
            [
             0.6666666666666666,
             "#ed7953"
            ],
            [
             0.7777777777777778,
             "#fb9f3a"
            ],
            [
             0.8888888888888888,
             "#fdca26"
            ],
            [
             1,
             "#f0f921"
            ]
           ]
          },
          "colorway": [
           "#636efa",
           "#EF553B",
           "#00cc96",
           "#ab63fa",
           "#FFA15A",
           "#19d3f3",
           "#FF6692",
           "#B6E880",
           "#FF97FF",
           "#FECB52"
          ],
          "font": {
           "color": "#2a3f5f"
          },
          "geo": {
           "bgcolor": "white",
           "lakecolor": "white",
           "landcolor": "#E5ECF6",
           "showlakes": true,
           "showland": true,
           "subunitcolor": "white"
          },
          "hoverlabel": {
           "align": "left"
          },
          "hovermode": "closest",
          "mapbox": {
           "style": "light"
          },
          "paper_bgcolor": "white",
          "plot_bgcolor": "#E5ECF6",
          "polar": {
           "angularaxis": {
            "gridcolor": "white",
            "linecolor": "white",
            "ticks": ""
           },
           "bgcolor": "#E5ECF6",
           "radialaxis": {
            "gridcolor": "white",
            "linecolor": "white",
            "ticks": ""
           }
          },
          "scene": {
           "xaxis": {
            "backgroundcolor": "#E5ECF6",
            "gridcolor": "white",
            "gridwidth": 2,
            "linecolor": "white",
            "showbackground": true,
            "ticks": "",
            "zerolinecolor": "white"
           },
           "yaxis": {
            "backgroundcolor": "#E5ECF6",
            "gridcolor": "white",
            "gridwidth": 2,
            "linecolor": "white",
            "showbackground": true,
            "ticks": "",
            "zerolinecolor": "white"
           },
           "zaxis": {
            "backgroundcolor": "#E5ECF6",
            "gridcolor": "white",
            "gridwidth": 2,
            "linecolor": "white",
            "showbackground": true,
            "ticks": "",
            "zerolinecolor": "white"
           }
          },
          "shapedefaults": {
           "line": {
            "color": "#2a3f5f"
           }
          },
          "ternary": {
           "aaxis": {
            "gridcolor": "white",
            "linecolor": "white",
            "ticks": ""
           },
           "baxis": {
            "gridcolor": "white",
            "linecolor": "white",
            "ticks": ""
           },
           "bgcolor": "#E5ECF6",
           "caxis": {
            "gridcolor": "white",
            "linecolor": "white",
            "ticks": ""
           }
          },
          "title": {
           "x": 0.05
          },
          "xaxis": {
           "automargin": true,
           "gridcolor": "white",
           "linecolor": "white",
           "ticks": "",
           "title": {
            "standoff": 15
           },
           "zerolinecolor": "white",
           "zerolinewidth": 2
          },
          "yaxis": {
           "automargin": true,
           "gridcolor": "white",
           "linecolor": "white",
           "ticks": "",
           "title": {
            "standoff": 15
           },
           "zerolinecolor": "white",
           "zerolinewidth": 2
          }
         }
        },
        "xaxis": {
         "title": {
          "text": "Ventas diarias"
         }
        },
        "yaxis": {
         "title": {
          "text": "Ingresos"
         }
        }
       }
      },
      "text/html": [
       "<div>                            <div id=\"66c410f4-2c90-466c-9b32-a9b1720c6ad9\" class=\"plotly-graph-div\" style=\"height:525px; width:100%;\"></div>            <script type=\"text/javascript\">                require([\"plotly\"], function(Plotly) {                    window.PLOTLYENV=window.PLOTLYENV || {};                                    if (document.getElementById(\"66c410f4-2c90-466c-9b32-a9b1720c6ad9\")) {                    Plotly.newPlot(                        \"66c410f4-2c90-466c-9b32-a9b1720c6ad9\",                        [{\"marker\":{\"color\":\"rgba(255, 174, 255, 0.5)\",\"line\":{\"color\":\"rgb(0,0,0)\",\"width\":1.5}},\"name\":\"Ventas diarias en California\",\"text\":[[\"2014-01-06T00:00:00\",19.44],[\"2014-01-13T00:00:00\",1679.749],[\"2014-01-20T00:00:00\",38.66],[\"2014-01-27T00:00:00\",426.67],[\"2014-01-31T00:00:00\",290.666],[\"2014-02-02T00:00:00\",12.350000000000001],[\"2014-02-04T00:00:00\",134.38400000000001],[\"2014-02-12T00:00:00\",129.568],[\"2014-02-20T00:00:00\",12.96],[\"2014-02-22T00:00:00\",19.44],[\"2014-03-03T00:00:00\",626.3520000000001],[\"2014-03-11T00:00:00\",7.98],[\"2014-03-14T00:00:00\",13.940000000000001],[\"2014-03-18T00:00:00\",4445.488],[\"2014-03-23T00:00:00\",935.1519999999999],[\"2014-03-24T00:00:00\",40.48],[\"2014-03-25T00:00:00\",92.36],[\"2014-03-26T00:00:00\",145.13000000000002],[\"2014-03-30T00:00:00\",205.666],[\"2014-03-31T00:00:00\",726.5480000000001],[\"2014-04-01T00:00:00\",46.688],[\"2014-04-03T00:00:00\",233.45],[\"2014-04-04T00:00:00\",26.084],[\"2014-04-06T00:00:00\",636.478],[\"2014-04-08T00:00:00\",499.55199999999996],[\"2014-04-12T00:00:00\",1879.723],[\"2014-04-15T00:00:00\",294.71999999999997],[\"2014-04-18T00:00:00\",323.458],[\"2014-04-19T00:00:00\",76.14],[\"2014-04-20T00:00:00\",59.92],[\"2014-04-21T00:00:00\",16.520000000000003],[\"2014-04-23T00:00:00\",48.91],[\"2014-04-25T00:00:00\",2061.01],[\"2014-04-26T00:00:00\",282.56800000000004],[\"2014-04-28T00:00:00\",1679.96],[\"2014-05-06T00:00:00\",254.456],[\"2014-05-09T00:00:00\",235.76999999999998],[\"2014-05-10T00:00:00\",1769.7840000000003],[\"2014-05-13T00:00:00\",437.42600000000004],[\"2014-05-16T00:00:00\",289.28],[\"2014-05-21T00:00:00\",31.84],[\"2014-05-26T00:00:00\",801.53],[\"2014-05-27T00:00:00\",2139.9339999999997],[\"2014-06-09T00:00:00\",3744.764],[\"2014-06-13T00:00:00\",14.52],[\"2014-06-18T00:00:00\",139.8],[\"2014-06-25T00:00:00\",447.84],[\"2014-06-30T00:00:00\",32.400000000000006],[\"2014-07-05T00:00:00\",180.96000000000004],[\"2014-07-06T00:00:00\",478.48],[\"2014-07-08T00:00:00\",699.192],[\"2014-07-09T00:00:00\",240.801],[\"2014-07-12T00:00:00\",1211.75],[\"2014-07-13T00:00:00\",351.216],[\"2014-07-20T00:00:00\",891.466],[\"2014-07-21T00:00:00\",1173.6160000000002],[\"2014-07-22T00:00:00\",1155.772],[\"2014-07-23T00:00:00\",992.828],[\"2014-07-25T00:00:00\",8341.289999999999],[\"2014-07-27T00:00:00\",514.28],[\"2014-08-01T00:00:00\",19.752000000000002],[\"2014-08-05T00:00:00\",550.164],[\"2014-08-08T00:00:00\",2473.096],[\"2014-08-09T00:00:00\",26.86],[\"2014-08-12T00:00:00\",891.7760000000001],[\"2014-08-15T00:00:00\",505.282],[\"2014-08-19T00:00:00\",358.696],[\"2014-08-23T00:00:00\",49.568000000000005],[\"2014-08-25T00:00:00\",176.14],[\"2014-08-26T00:00:00\",176.8],[\"2014-08-27T00:00:00\",244.76000000000002],[\"2014-08-29T00:00:00\",123.28],[\"2014-09-01T00:00:00\",53.94],[\"2014-09-06T00:00:00\",100.36],[\"2014-09-07T00:00:00\",131.84000000000003],[\"2014-09-08T00:00:00\",134.228],[\"2014-09-11T00:00:00\",127.94999999999999],[\"2014-09-17T00:00:00\",182.94],[\"2014-09-19T00:00:00\",12.83],[\"2014-09-20T00:00:00\",104.392],[\"2014-09-21T00:00:00\",451.28400000000005],[\"2014-09-22T00:00:00\",210.13],[\"2014-09-23T00:00:00\",519.9830000000001],[\"2014-09-24T00:00:00\",211.96],[\"2014-09-26T00:00:00\",750.5600000000001],[\"2014-09-27T00:00:00\",685.9],[\"2014-09-29T00:00:00\",968.3],[\"2014-10-03T00:00:00\",265.784],[\"2014-10-04T00:00:00\",110.09800000000001],[\"2014-10-05T00:00:00\",99.98],[\"2014-10-06T00:00:00\",9.09],[\"2014-10-09T00:00:00\",160.592],[\"2014-10-10T00:00:00\",137.632],[\"2014-10-11T00:00:00\",473.12800000000004],[\"2014-10-12T00:00:00\",36.29],[\"2014-10-16T00:00:00\",194.322],[\"2014-10-19T00:00:00\",641.104],[\"2014-10-21T00:00:00\",36.36],[\"2014-10-24T00:00:00\",34.272],[\"2014-10-25T00:00:00\",49.408],[\"2014-10-28T00:00:00\",1252.602],[\"2014-10-31T00:00:00\",1081.52],[\"2014-11-01T00:00:00\",65.80000000000001],[\"2014-11-02T00:00:00\",409.30400000000003],[\"2014-11-03T00:00:00\",6.72],[\"2014-11-04T00:00:00\",1767.6960000000001],[\"2014-11-05T00:00:00\",20.04],[\"2014-11-07T00:00:00\",123.14399999999999],[\"2014-11-08T00:00:00\",333.576],[\"2014-11-09T00:00:00\",1517.574],[\"2014-11-10T00:00:00\",807.6859999999999],[\"2014-11-11T00:00:00\",850.7560000000001],[\"2014-11-12T00:00:00\",641.0240000000001],[\"2014-11-15T00:00:00\",813.99],[\"2014-11-16T00:00:00\",736.0725],[\"2014-11-17T00:00:00\",1075.37],[\"2014-11-21T00:00:00\",114.53],[\"2014-11-22T00:00:00\",53.82000000000001],[\"2014-11-23T00:00:00\",1037.19],[\"2014-11-24T00:00:00\",272.432],[\"2014-11-25T00:00:00\",1644.224],[\"2014-11-26T00:00:00\",149.092],[\"2014-11-28T00:00:00\",643.702],[\"2014-11-29T00:00:00\",606.3199999999999],[\"2014-12-01T00:00:00\",58.199999999999996],[\"2014-12-05T00:00:00\",340.84],[\"2014-12-06T00:00:00\",1261.33],[\"2014-12-07T00:00:00\",173.51999999999998],[\"2014-12-08T00:00:00\",119.32],[\"2014-12-09T00:00:00\",34.68],[\"2014-12-12T00:00:00\",4704.5405],[\"2014-12-13T00:00:00\",90.24],[\"2014-12-15T00:00:00\",6.16],[\"2014-12-16T00:00:00\",2712.1160000000004],[\"2014-12-19T00:00:00\",832.1379999999999],[\"2014-12-20T00:00:00\",694.5340000000001],[\"2014-12-21T00:00:00\",1897.92],[\"2014-12-22T00:00:00\",11.76],[\"2014-12-24T00:00:00\",1910.2740000000001],[\"2014-12-26T00:00:00\",15.39],[\"2014-12-27T00:00:00\",362.026],[\"2014-12-28T00:00:00\",1049.97],[\"2014-12-29T00:00:00\",1774.3980000000001],[\"2015-01-05T00:00:00\",143.51999999999998],[\"2015-01-13T00:00:00\",612.458],[\"2015-01-26T00:00:00\",182.72],[\"2015-01-27T00:00:00\",2803.92],[\"2015-01-30T00:00:00\",2147.3360000000002],[\"2015-02-03T00:00:00\",136.92],[\"2015-02-09T00:00:00\",203.92],[\"2015-02-15T00:00:00\",627.48],[\"2015-02-16T00:00:00\",124.54999999999998],[\"2015-02-18T00:00:00\",105.84400000000001],[\"2015-03-01T00:00:00\",200.73600000000002],[\"2015-03-06T00:00:00\",1555.2440000000001],[\"2015-03-13T00:00:00\",1242.8960000000002],[\"2015-03-14T00:00:00\",19.44],[\"2015-03-16T00:00:00\",43.13],[\"2015-03-19T00:00:00\",128.548],[\"2015-03-22T00:00:00\",1701.44],[\"2015-03-23T00:00:00\",466.04999999999995],[\"2015-03-28T00:00:00\",199.64000000000001],[\"2015-03-29T00:00:00\",295.68],[\"2015-04-02T00:00:00\",71.976],[\"2015-04-05T00:00:00\",892.224],[\"2015-04-09T00:00:00\",369.91200000000003],[\"2015-04-10T00:00:00\",12.832],[\"2015-04-11T00:00:00\",692.7280000000001],[\"2015-04-13T00:00:00\",2004.3760000000002],[\"2015-04-17T00:00:00\",2572.5],[\"2015-04-18T00:00:00\",1124.5700000000002],[\"2015-04-22T00:00:00\",152.916],[\"2015-04-25T00:00:00\",35.284],[\"2015-04-26T00:00:00\",485.7840000000001],[\"2015-04-30T00:00:00\",54.45],[\"2015-05-01T00:00:00\",173.308],[\"2015-05-03T00:00:00\",1140.5720000000001],[\"2015-05-12T00:00:00\",38.519999999999996],[\"2015-05-14T00:00:00\",2570.7075],[\"2015-05-18T00:00:00\",10.86],[\"2015-05-22T00:00:00\",3862.0980000000004],[\"2015-05-25T00:00:00\",14.73],[\"2015-05-31T00:00:00\",244.77999999999997],[\"2015-06-01T00:00:00\",11.76],[\"2015-06-04T00:00:00\",1109.95],[\"2015-06-07T00:00:00\",7.52],[\"2015-06-13T00:00:00\",36.624],[\"2015-06-15T00:00:00\",225.57599999999996],[\"2015-06-18T00:00:00\",51.98],[\"2015-06-19T00:00:00\",205.73],[\"2015-06-20T00:00:00\",383.616],[\"2015-06-23T00:00:00\",366.99],[\"2015-06-25T00:00:00\",618.792],[\"2015-07-04T00:00:00\",22.848],[\"2015-07-06T00:00:00\",170.35200000000003],[\"2015-07-10T00:00:00\",39.92],[\"2015-07-16T00:00:00\",2048.856],[\"2015-07-17T00:00:00\",195.466],[\"2015-07-18T00:00:00\",519.96],[\"2015-07-25T00:00:00\",623.96],[\"2015-07-26T00:00:00\",299.34000000000003],[\"2015-07-30T00:00:00\",226.12999999999997],[\"2015-08-01T00:00:00\",1011.6960000000001],[\"2015-08-07T00:00:00\",19.152],[\"2015-08-08T00:00:00\",158.672],[\"2015-08-13T00:00:00\",82.36],[\"2015-08-15T00:00:00\",497.59000000000003],[\"2015-08-21T00:00:00\",1299.526],[\"2015-08-25T00:00:00\",146.744],[\"2015-08-27T00:00:00\",639.974],[\"2015-08-28T00:00:00\",2017.532],[\"2015-08-31T00:00:00\",2580.837],[\"2015-09-01T00:00:00\",979.104],[\"2015-09-03T00:00:00\",314.726],[\"2015-09-05T00:00:00\",733.283],[\"2015-09-06T00:00:00\",46.32],[\"2015-09-07T00:00:00\",671.93],[\"2015-09-08T00:00:00\",68.28],[\"2015-09-10T00:00:00\",158.20000000000002],[\"2015-09-11T00:00:00\",455.84999999999997],[\"2015-09-13T00:00:00\",1336.352],[\"2015-09-14T00:00:00\",170.13600000000002],[\"2015-09-17T00:00:00\",32.400000000000006],[\"2015-09-18T00:00:00\",684.84],[\"2015-09-19T00:00:00\",83.80000000000001],[\"2015-09-21T00:00:00\",609.4359999999999],[\"2015-09-22T00:00:00\",266.03999999999996],[\"2015-09-24T00:00:00\",1173.03],[\"2015-09-25T00:00:00\",17.48],[\"2015-09-26T00:00:00\",188.63],[\"2015-09-27T00:00:00\",175.29],[\"2015-09-28T00:00:00\",438.736],[\"2015-10-02T00:00:00\",897.1800000000001],[\"2015-10-03T00:00:00\",120.666],[\"2015-10-04T00:00:00\",26.96],[\"2015-10-08T00:00:00\",145.9],[\"2015-10-10T00:00:00\",438.546],[\"2015-10-17T00:00:00\",77.88],[\"2015-10-19T00:00:00\",1910.6999999999998],[\"2015-10-20T00:00:00\",695.5260000000001],[\"2015-10-23T00:00:00\",1446.784],[\"2015-10-24T00:00:00\",454.27200000000005],[\"2015-10-25T00:00:00\",313.626],[\"2015-10-26T00:00:00\",5.76],[\"2015-10-29T00:00:00\",244.24],[\"2015-10-31T00:00:00\",3058.1490000000003],[\"2015-11-02T00:00:00\",1777.739],[\"2015-11-03T00:00:00\",1345.418],[\"2015-11-05T00:00:00\",62.8],[\"2015-11-07T00:00:00\",190.72000000000003],[\"2015-11-08T00:00:00\",496.87],[\"2015-11-09T00:00:00\",2.48],[\"2015-11-10T00:00:00\",79.9],[\"2015-11-12T00:00:00\",15.700000000000001],[\"2015-11-13T00:00:00\",723.164],[\"2015-11-16T00:00:00\",18.9],[\"2015-11-17T00:00:00\",1873.6060000000002],[\"2015-11-20T00:00:00\",860.412],[\"2015-11-22T00:00:00\",114.37],[\"2015-11-24T00:00:00\",1218.7640000000001],[\"2015-11-27T00:00:00\",505.71000000000004],[\"2015-11-28T00:00:00\",45.28],[\"2015-11-29T00:00:00\",60.604],[\"2015-12-01T00:00:00\",2676.672],[\"2015-12-03T00:00:00\",359.49899999999997],[\"2015-12-04T00:00:00\",460.172],[\"2015-12-05T00:00:00\",96.06],[\"2015-12-06T00:00:00\",388.824],[\"2015-12-07T00:00:00\",92.88],[\"2015-12-08T00:00:00\",457.96000000000004],[\"2015-12-10T00:00:00\",62.059999999999995],[\"2015-12-11T00:00:00\",110.528],[\"2015-12-12T00:00:00\",1287.986],[\"2015-12-13T00:00:00\",966.066],[\"2015-12-14T00:00:00\",472.116],[\"2015-12-17T00:00:00\",450.194],[\"2015-12-19T00:00:00\",1941.81],[\"2015-12-20T00:00:00\",17.12],[\"2015-12-24T00:00:00\",65.85600000000001],[\"2015-12-25T00:00:00\",1240.46],[\"2015-12-27T00:00:00\",1127.7],[\"2015-12-30T00:00:00\",3251.3400000000006],[\"2016-01-03T00:00:00\",114.46],[\"2016-01-07T00:00:00\",34.58],[\"2016-01-09T00:00:00\",727.878],[\"2016-01-16T00:00:00\",102.218],[\"2016-01-21T00:00:00\",1167.056],[\"2016-01-22T00:00:00\",65.05000000000001],[\"2016-01-23T00:00:00\",59.99],[\"2016-01-28T00:00:00\",39.68],[\"2016-01-30T00:00:00\",399.26],[\"2016-01-31T00:00:00\",166.29200000000003],[\"2016-02-01T00:00:00\",105.52],[\"2016-02-04T00:00:00\",93.02],[\"2016-02-05T00:00:00\",918.9659999999999],[\"2016-02-07T00:00:00\",623.96],[\"2016-02-09T00:00:00\",121.83],[\"2016-02-13T00:00:00\",146.82],[\"2016-02-19T00:00:00\",70.88],[\"2016-02-21T00:00:00\",511.948],[\"2016-02-22T00:00:00\",492.85],[\"2016-03-03T00:00:00\",60.629999999999995],[\"2016-03-04T00:00:00\",16.99],[\"2016-03-10T00:00:00\",7558.262000000001],[\"2016-03-12T00:00:00\",1652.342],[\"2016-03-13T00:00:00\",4992.054],[\"2016-03-14T00:00:00\",41.904],[\"2016-03-15T00:00:00\",1356.5760000000002],[\"2016-03-17T00:00:00\",84.784],[\"2016-03-28T00:00:00\",93.9],[\"2016-04-07T00:00:00\",1199.976],[\"2016-04-08T00:00:00\",122.66],[\"2016-04-09T00:00:00\",556.665],[\"2016-04-10T00:00:00\",928.1220000000001],[\"2016-04-12T00:00:00\",901.9120000000001],[\"2016-04-13T00:00:00\",6.12],[\"2016-04-14T00:00:00\",383.8],[\"2016-04-15T00:00:00\",1265.268],[\"2016-04-17T00:00:00\",257.499],[\"2016-04-19T00:00:00\",156.51600000000002],[\"2016-04-22T00:00:00\",31.56],[\"2016-04-23T00:00:00\",441.568],[\"2016-04-24T00:00:00\",3.9840000000000004],[\"2016-04-28T00:00:00\",41.568000000000005],[\"2016-05-05T00:00:00\",628.732],[\"2016-05-06T00:00:00\",41.6],[\"2016-05-08T00:00:00\",17.94],[\"2016-05-09T00:00:00\",32.04],[\"2016-05-11T00:00:00\",5.98],[\"2016-05-12T00:00:00\",128.67],[\"2016-05-16T00:00:00\",327.9],[\"2016-05-18T00:00:00\",122.22],[\"2016-05-19T00:00:00\",97.424],[\"2016-05-20T00:00:00\",1064.624],[\"2016-05-21T00:00:00\",121.436],[\"2016-05-22T00:00:00\",222.38400000000001],[\"2016-05-23T00:00:00\",37.05],[\"2016-05-26T00:00:00\",1119.1480000000001],[\"2016-05-27T00:00:00\",13.38],[\"2016-05-28T00:00:00\",1157.6799999999998],[\"2016-05-30T00:00:00\",206.72],[\"2016-06-03T00:00:00\",71.08800000000001],[\"2016-06-05T00:00:00\",79.792],[\"2016-06-06T00:00:00\",3650.438],[\"2016-06-07T00:00:00\",9.514000000000001],[\"2016-06-09T00:00:00\",299.832],[\"2016-06-10T00:00:00\",1388.7800000000002],[\"2016-06-11T00:00:00\",902.712],[\"2016-06-12T00:00:00\",213.46],[\"2016-06-14T00:00:00\",1946.3529999999998],[\"2016-06-16T00:00:00\",46.349999999999994],[\"2016-06-17T00:00:00\",593.9659999999999],[\"2016-06-19T00:00:00\",17.12],[\"2016-06-20T00:00:00\",453.8],[\"2016-06-23T00:00:00\",997.9340000000001],[\"2016-06-24T00:00:00\",4861.33],[\"2016-06-25T00:00:00\",60.81],[\"2016-06-26T00:00:00\",284.24],[\"2016-06-27T00:00:00\",201.584],[\"2016-06-28T00:00:00\",41.32000000000001],[\"2016-07-02T00:00:00\",195.184],[\"2016-07-03T00:00:00\",16.92],[\"2016-07-04T00:00:00\",1376.445],[\"2016-07-07T00:00:00\",3352.5180000000005],[\"2016-07-12T00:00:00\",95.76],[\"2016-07-14T00:00:00\",292.796],[\"2016-07-17T00:00:00\",77.88],[\"2016-07-19T00:00:00\",425.954],[\"2016-07-21T00:00:00\",423.05],[\"2016-07-22T00:00:00\",6.3],[\"2016-07-25T00:00:00\",744.894],[\"2016-07-28T00:00:00\",18.9],[\"2016-07-30T00:00:00\",715.64],[\"2016-07-31T00:00:00\",863.128],[\"2016-08-01T00:00:00\",1085.688],[\"2016-08-02T00:00:00\",482.58400000000006],[\"2016-08-04T00:00:00\",335.12],[\"2016-08-06T00:00:00\",211.168],[\"2016-08-08T00:00:00\",1016.184],[\"2016-08-14T00:00:00\",121.09199999999998],[\"2016-08-15T00:00:00\",608.216],[\"2016-08-16T00:00:00\",204.54000000000002],[\"2016-08-21T00:00:00\",3339.1220000000003],[\"2016-08-22T00:00:00\",5.76],[\"2016-08-26T00:00:00\",1776.5260000000003],[\"2016-08-30T00:00:00\",387.00000000000006],[\"2016-09-01T00:00:00\",34.66],[\"2016-09-02T00:00:00\",1850.7780000000002],[\"2016-09-04T00:00:00\",2824.2300000000005],[\"2016-09-05T00:00:00\",228.12],[\"2016-09-08T00:00:00\",557.0600000000001],[\"2016-09-09T00:00:00\",55.36000000000001],[\"2016-09-10T00:00:00\",276.78400000000005],[\"2016-09-11T00:00:00\",3727.792],[\"2016-09-16T00:00:00\",304.106],[\"2016-09-17T00:00:00\",100.164],[\"2016-09-18T00:00:00\",2295.9900000000002],[\"2016-09-19T00:00:00\",187.0],[\"2016-09-20T00:00:00\",475.694],[\"2016-09-23T00:00:00\",22.979999999999997],[\"2016-09-24T00:00:00\",1015.0],[\"2016-09-25T00:00:00\",1553.314],[\"2016-09-26T00:00:00\",562.4975],[\"2016-09-29T00:00:00\",82.45],[\"2016-10-01T00:00:00\",194.848],[\"2016-10-03T00:00:00\",1027.676],[\"2016-10-07T00:00:00\",37.824],[\"2016-10-08T00:00:00\",61.96],[\"2016-10-13T00:00:00\",256.196],[\"2016-10-17T00:00:00\",138.826],[\"2016-10-20T00:00:00\",406.432],[\"2016-10-21T00:00:00\",792.7660000000001],[\"2016-10-24T00:00:00\",1109.97],[\"2016-10-27T00:00:00\",136.08800000000002],[\"2016-10-28T00:00:00\",495.93199999999996],[\"2016-10-29T00:00:00\",11.744],[\"2016-10-30T00:00:00\",3.62],[\"2016-10-31T00:00:00\",2489.34],[\"2016-11-03T00:00:00\",2051.454],[\"2016-11-04T00:00:00\",968.258],[\"2016-11-05T00:00:00\",426.386],[\"2016-11-06T00:00:00\",404.824],[\"2016-11-07T00:00:00\",655.6700000000001],[\"2016-11-09T00:00:00\",479.97],[\"2016-11-10T00:00:00\",1778.298],[\"2016-11-11T00:00:00\",531.5759999999999],[\"2016-11-12T00:00:00\",878.3280000000001],[\"2016-11-14T00:00:00\",17.22],[\"2016-11-15T00:00:00\",1515.694],[\"2016-11-16T00:00:00\",8.32],[\"2016-11-17T00:00:00\",49.5],[\"2016-11-18T00:00:00\",785.152],[\"2016-11-20T00:00:00\",66.88],[\"2016-11-21T00:00:00\",32.400000000000006],[\"2016-11-24T00:00:00\",2948.032],[\"2016-11-25T00:00:00\",194.35200000000003],[\"2016-11-26T00:00:00\",4104.174],[\"2016-12-01T00:00:00\",1255.5],[\"2016-12-02T00:00:00\",303.358],[\"2016-12-03T00:00:00\",3079.54],[\"2016-12-04T00:00:00\",104.85],[\"2016-12-06T00:00:00\",1037.7420000000002],[\"2016-12-08T00:00:00\",1862.0140000000004],[\"2016-12-09T00:00:00\",273.92],[\"2016-12-10T00:00:00\",401.84799999999996],[\"2016-12-11T00:00:00\",1937.9240000000002],[\"2016-12-12T00:00:00\",440.15999999999997],[\"2016-12-13T00:00:00\",1130.2079999999999],[\"2016-12-14T00:00:00\",216.22400000000002],[\"2016-12-15T00:00:00\",14.76],[\"2016-12-16T00:00:00\",585.13],[\"2016-12-17T00:00:00\",2003.52],[\"2016-12-18T00:00:00\",1754.026],[\"2016-12-22T00:00:00\",884.6800000000001],[\"2016-12-24T00:00:00\",83.72],[\"2016-12-25T00:00:00\",2875.544],[\"2016-12-26T00:00:00\",1431.078],[\"2016-12-27T00:00:00\",20.16],[\"2016-12-29T00:00:00\",53.222],[\"2016-12-30T00:00:00\",487.704],[\"2016-12-31T00:00:00\",340.75199999999995],[\"2017-01-01T00:00:00\",474.43],[\"2017-01-02T00:00:00\",16.59],[\"2017-01-03T00:00:00\",2070.2720000000004],[\"2017-01-07T00:00:00\",332.8],[\"2017-01-12T00:00:00\",9.78],[\"2017-01-14T00:00:00\",154.9],[\"2017-01-15T00:00:00\",21.400000000000002],[\"2017-01-16T00:00:00\",427.59200000000004],[\"2017-01-20T00:00:00\",544.952],[\"2017-01-24T00:00:00\",412.9960000000001],[\"2017-01-26T00:00:00\",11.84],[\"2017-01-28T00:00:00\",277.71],[\"2017-01-29T00:00:00\",136.526],[\"2017-01-30T00:00:00\",271.644],[\"2017-02-02T00:00:00\",753.624],[\"2017-02-05T00:00:00\",2011.8999999999999],[\"2017-02-06T00:00:00\",29.900000000000002],[\"2017-02-09T00:00:00\",376.02000000000004],[\"2017-02-10T00:00:00\",203.98299999999998],[\"2017-02-11T00:00:00\",21.336],[\"2017-02-18T00:00:00\",287.326],[\"2017-02-19T00:00:00\",57.510000000000005],[\"2017-02-20T00:00:00\",238.19799999999998],[\"2017-02-23T00:00:00\",37.44],[\"2017-02-26T00:00:00\",2847.646],[\"2017-03-02T00:00:00\",784.3639999999999],[\"2017-03-03T00:00:00\",1619.4640000000002],[\"2017-03-04T00:00:00\",24.57],[\"2017-03-06T00:00:00\",611.47],[\"2017-03-08T00:00:00\",174.56000000000003],[\"2017-03-09T00:00:00\",710.8040000000001],[\"2017-03-10T00:00:00\",111.96],[\"2017-03-12T00:00:00\",242.94],[\"2017-03-13T00:00:00\",314.54999999999995],[\"2017-03-16T00:00:00\",540.934],[\"2017-03-17T00:00:00\",17.456],[\"2017-03-18T00:00:00\",124.16],[\"2017-03-19T00:00:00\",2128.398],[\"2017-03-21T00:00:00\",745.2800000000001],[\"2017-03-23T00:00:00\",211.84],[\"2017-03-25T00:00:00\",1069.132],[\"2017-03-27T00:00:00\",168.58],[\"2017-03-28T00:00:00\",1435.96],[\"2017-03-30T00:00:00\",265.07200000000006],[\"2017-03-31T00:00:00\",29.700000000000003],[\"2017-04-01T00:00:00\",5410.107999999999],[\"2017-04-02T00:00:00\",25.11],[\"2017-04-08T00:00:00\",440.30999999999995],[\"2017-04-11T00:00:00\",241.81],[\"2017-04-13T00:00:00\",436.70400000000006],[\"2017-04-15T00:00:00\",79.14],[\"2017-04-16T00:00:00\",349.493],[\"2017-04-17T00:00:00\",562.702],[\"2017-04-22T00:00:00\",18.28],[\"2017-04-23T00:00:00\",183.38],[\"2017-04-24T00:00:00\",1.81],[\"2017-04-25T00:00:00\",559.2489999999999],[\"2017-04-27T00:00:00\",183.61],[\"2017-04-30T00:00:00\",292.5],[\"2017-05-02T00:00:00\",269.18],[\"2017-05-03T00:00:00\",881.84],[\"2017-05-04T00:00:00\",745.634],[\"2017-05-05T00:00:00\",23.16],[\"2017-05-06T00:00:00\",152.94],[\"2017-05-07T00:00:00\",499.93399999999997],[\"2017-05-08T00:00:00\",3441.032],[\"2017-05-12T00:00:00\",551.038],[\"2017-05-13T00:00:00\",58.48],[\"2017-05-14T00:00:00\",1418.21],[\"2017-05-19T00:00:00\",859.9480000000001],[\"2017-05-20T00:00:00\",868.4520000000001],[\"2017-05-22T00:00:00\",130.64],[\"2017-05-23T00:00:00\",171.288],[\"2017-05-26T00:00:00\",12.96],[\"2017-05-30T00:00:00\",72.62],[\"2017-06-03T00:00:00\",60.622],[\"2017-06-06T00:00:00\",31.35],[\"2017-06-08T00:00:00\",1515.186],[\"2017-06-10T00:00:00\",854.8249999999999],[\"2017-06-11T00:00:00\",184.41],[\"2017-06-15T00:00:00\",172.196],[\"2017-06-16T00:00:00\",1231.5],[\"2017-06-17T00:00:00\",51.312],[\"2017-06-18T00:00:00\",956.8034999999999],[\"2017-06-19T00:00:00\",74.88],[\"2017-06-24T00:00:00\",520.22],[\"2017-06-26T00:00:00\",83.76],[\"2017-06-29T00:00:00\",2708.9519999999998],[\"2017-06-30T00:00:00\",640.9490000000001],[\"2017-07-03T00:00:00\",217.31],[\"2017-07-06T00:00:00\",122.13600000000001],[\"2017-07-07T00:00:00\",5.9399999999999995],[\"2017-07-08T00:00:00\",221.07999999999998],[\"2017-07-11T00:00:00\",1565.9720000000002],[\"2017-07-14T00:00:00\",988.2040000000001],[\"2017-07-17T00:00:00\",1775.009],[\"2017-07-21T00:00:00\",1921.7000000000003],[\"2017-07-23T00:00:00\",73.512],[\"2017-07-24T00:00:00\",2399.96],[\"2017-07-26T00:00:00\",2012.3020000000001],[\"2017-07-28T00:00:00\",1170.564],[\"2017-07-30T00:00:00\",356.65],[\"2017-07-31T00:00:00\",93.52000000000001],[\"2017-08-01T00:00:00\",241.436],[\"2017-08-03T00:00:00\",275.58000000000004],[\"2017-08-07T00:00:00\",2981.584],[\"2017-08-12T00:00:00\",597.8599999999999],[\"2017-08-13T00:00:00\",242.69400000000002],[\"2017-08-14T00:00:00\",440.73599999999993],[\"2017-08-17T00:00:00\",3397.7319999999995],[\"2017-08-20T00:00:00\",616.7],[\"2017-08-21T00:00:00\",1520.15],[\"2017-08-22T00:00:00\",210.008],[\"2017-08-27T00:00:00\",2971.7920000000004],[\"2017-08-29T00:00:00\",148.02],[\"2017-08-31T00:00:00\",890.0300000000001],[\"2017-09-02T00:00:00\",1249.3220000000001],[\"2017-09-03T00:00:00\",613.156],[\"2017-09-04T00:00:00\",4068.726],[\"2017-09-07T00:00:00\",229.26800000000003],[\"2017-09-09T00:00:00\",557.83],[\"2017-09-10T00:00:00\",369.536],[\"2017-09-11T00:00:00\",2691.764],[\"2017-09-12T00:00:00\",174.8],[\"2017-09-14T00:00:00\",56.699999999999996],[\"2017-09-15T00:00:00\",4171.888],[\"2017-09-16T00:00:00\",32.7],[\"2017-09-18T00:00:00\",163.38],[\"2017-09-19T00:00:00\",190.01],[\"2017-09-21T00:00:00\",71.37],[\"2017-09-22T00:00:00\",21.96],[\"2017-09-23T00:00:00\",1065.6000000000001],[\"2017-09-24T00:00:00\",1403.8600000000001],[\"2017-09-26T00:00:00\",1065.2160000000001],[\"2017-09-28T00:00:00\",9.24],[\"2017-09-29T00:00:00\",500.546],[\"2017-09-30T00:00:00\",159.98],[\"2017-10-01T00:00:00\",518.534],[\"2017-10-02T00:00:00\",2073.88],[\"2017-10-03T00:00:00\",171.288],[\"2017-10-05T00:00:00\",874.9280000000001],[\"2017-10-07T00:00:00\",1632.2399999999998],[\"2017-10-08T00:00:00\",419.832],[\"2017-10-09T00:00:00\",35.2],[\"2017-10-12T00:00:00\",544.5500000000001],[\"2017-10-13T00:00:00\",5325.884],[\"2017-10-14T00:00:00\",55.82],[\"2017-10-15T00:00:00\",993.21],[\"2017-10-17T00:00:00\",63.432],[\"2017-10-19T00:00:00\",135.012],[\"2017-10-20T00:00:00\",24.678],[\"2017-10-27T00:00:00\",914.0409999999999],[\"2017-10-30T00:00:00\",1993.772],[\"2017-11-02T00:00:00\",1326.982],[\"2017-11-03T00:00:00\",2395.182],[\"2017-11-05T00:00:00\",12.96],[\"2017-11-06T00:00:00\",219.73999999999998],[\"2017-11-07T00:00:00\",1283.1060000000002],[\"2017-11-09T00:00:00\",950.038],[\"2017-11-10T00:00:00\",361.014],[\"2017-11-11T00:00:00\",186.85],[\"2017-11-12T00:00:00\",36.136],[\"2017-11-13T00:00:00\",104.95],[\"2017-11-14T00:00:00\",355.808],[\"2017-11-16T00:00:00\",2953.146],[\"2017-11-19T00:00:00\",355.678],[\"2017-11-20T00:00:00\",410.576],[\"2017-11-21T00:00:00\",792.2320000000001],[\"2017-11-24T00:00:00\",694.288],[\"2017-11-25T00:00:00\",449.179],[\"2017-11-27T00:00:00\",604.606],[\"2017-11-28T00:00:00\",62.65],[\"2017-11-30T00:00:00\",25.83],[\"2017-12-01T00:00:00\",685.1279999999999],[\"2017-12-02T00:00:00\",2235.938],[\"2017-12-03T00:00:00\",166.44],[\"2017-12-04T00:00:00\",11.76],[\"2017-12-05T00:00:00\",92.94],[\"2017-12-06T00:00:00\",10.68],[\"2017-12-07T00:00:00\",424.41600000000005],[\"2017-12-08T00:00:00\",4487.381],[\"2017-12-09T00:00:00\",1689.5130000000001],[\"2017-12-10T00:00:00\",194.304],[\"2017-12-13T00:00:00\",261.52],[\"2017-12-14T00:00:00\",134.91],[\"2017-12-15T00:00:00\",273.92600000000004],[\"2017-12-16T00:00:00\",814.5260000000001],[\"2017-12-17T00:00:00\",535.578],[\"2017-12-18T00:00:00\",344.235],[\"2017-12-19T00:00:00\",36.672000000000004],[\"2017-12-21T00:00:00\",1136.89],[\"2017-12-22T00:00:00\",474.95],[\"2017-12-23T00:00:00\",13.48],[\"2017-12-24T00:00:00\",2970.4320000000002],[\"2017-12-25T00:00:00\",424.172],[\"2017-12-28T00:00:00\",1066.544],[\"2017-12-29T00:00:00\",797.064],[\"2017-12-30T00:00:00\",34.623999999999995]],\"x\":[\"2014-01-06T00:00:00\",\"2014-01-13T00:00:00\",\"2014-01-20T00:00:00\",\"2014-01-27T00:00:00\",\"2014-01-31T00:00:00\",\"2014-02-02T00:00:00\",\"2014-02-04T00:00:00\",\"2014-02-12T00:00:00\",\"2014-02-20T00:00:00\",\"2014-02-22T00:00:00\",\"2014-03-03T00:00:00\",\"2014-03-11T00:00:00\",\"2014-03-14T00:00:00\",\"2014-03-18T00:00:00\",\"2014-03-23T00:00:00\",\"2014-03-24T00:00:00\",\"2014-03-25T00:00:00\",\"2014-03-26T00:00:00\",\"2014-03-30T00:00:00\",\"2014-03-31T00:00:00\",\"2014-04-01T00:00:00\",\"2014-04-03T00:00:00\",\"2014-04-04T00:00:00\",\"2014-04-06T00:00:00\",\"2014-04-08T00:00:00\",\"2014-04-12T00:00:00\",\"2014-04-15T00:00:00\",\"2014-04-18T00:00:00\",\"2014-04-19T00:00:00\",\"2014-04-20T00:00:00\",\"2014-04-21T00:00:00\",\"2014-04-23T00:00:00\",\"2014-04-25T00:00:00\",\"2014-04-26T00:00:00\",\"2014-04-28T00:00:00\",\"2014-05-06T00:00:00\",\"2014-05-09T00:00:00\",\"2014-05-10T00:00:00\",\"2014-05-13T00:00:00\",\"2014-05-16T00:00:00\",\"2014-05-21T00:00:00\",\"2014-05-26T00:00:00\",\"2014-05-27T00:00:00\",\"2014-06-09T00:00:00\",\"2014-06-13T00:00:00\",\"2014-06-18T00:00:00\",\"2014-06-25T00:00:00\",\"2014-06-30T00:00:00\",\"2014-07-05T00:00:00\",\"2014-07-06T00:00:00\",\"2014-07-08T00:00:00\",\"2014-07-09T00:00:00\",\"2014-07-12T00:00:00\",\"2014-07-13T00:00:00\",\"2014-07-20T00:00:00\",\"2014-07-21T00:00:00\",\"2014-07-22T00:00:00\",\"2014-07-23T00:00:00\",\"2014-07-25T00:00:00\",\"2014-07-27T00:00:00\",\"2014-08-01T00:00:00\",\"2014-08-05T00:00:00\",\"2014-08-08T00:00:00\",\"2014-08-09T00:00:00\",\"2014-08-12T00:00:00\",\"2014-08-15T00:00:00\",\"2014-08-19T00:00:00\",\"2014-08-23T00:00:00\",\"2014-08-25T00:00:00\",\"2014-08-26T00:00:00\",\"2014-08-27T00:00:00\",\"2014-08-29T00:00:00\",\"2014-09-01T00:00:00\",\"2014-09-06T00:00:00\",\"2014-09-07T00:00:00\",\"2014-09-08T00:00:00\",\"2014-09-11T00:00:00\",\"2014-09-17T00:00:00\",\"2014-09-19T00:00:00\",\"2014-09-20T00:00:00\",\"2014-09-21T00:00:00\",\"2014-09-22T00:00:00\",\"2014-09-23T00:00:00\",\"2014-09-24T00:00:00\",\"2014-09-26T00:00:00\",\"2014-09-27T00:00:00\",\"2014-09-29T00:00:00\",\"2014-10-03T00:00:00\",\"2014-10-04T00:00:00\",\"2014-10-05T00:00:00\",\"2014-10-06T00:00:00\",\"2014-10-09T00:00:00\",\"2014-10-10T00:00:00\",\"2014-10-11T00:00:00\",\"2014-10-12T00:00:00\",\"2014-10-16T00:00:00\",\"2014-10-19T00:00:00\",\"2014-10-21T00:00:00\",\"2014-10-24T00:00:00\",\"2014-10-25T00:00:00\",\"2014-10-28T00:00:00\",\"2014-10-31T00:00:00\",\"2014-11-01T00:00:00\",\"2014-11-02T00:00:00\",\"2014-11-03T00:00:00\",\"2014-11-04T00:00:00\",\"2014-11-05T00:00:00\",\"2014-11-07T00:00:00\",\"2014-11-08T00:00:00\",\"2014-11-09T00:00:00\",\"2014-11-10T00:00:00\",\"2014-11-11T00:00:00\",\"2014-11-12T00:00:00\",\"2014-11-15T00:00:00\",\"2014-11-16T00:00:00\",\"2014-11-17T00:00:00\",\"2014-11-21T00:00:00\",\"2014-11-22T00:00:00\",\"2014-11-23T00:00:00\",\"2014-11-24T00:00:00\",\"2014-11-25T00:00:00\",\"2014-11-26T00:00:00\",\"2014-11-28T00:00:00\",\"2014-11-29T00:00:00\",\"2014-12-01T00:00:00\",\"2014-12-05T00:00:00\",\"2014-12-06T00:00:00\",\"2014-12-07T00:00:00\",\"2014-12-08T00:00:00\",\"2014-12-09T00:00:00\",\"2014-12-12T00:00:00\",\"2014-12-13T00:00:00\",\"2014-12-15T00:00:00\",\"2014-12-16T00:00:00\",\"2014-12-19T00:00:00\",\"2014-12-20T00:00:00\",\"2014-12-21T00:00:00\",\"2014-12-22T00:00:00\",\"2014-12-24T00:00:00\",\"2014-12-26T00:00:00\",\"2014-12-27T00:00:00\",\"2014-12-28T00:00:00\",\"2014-12-29T00:00:00\",\"2015-01-05T00:00:00\",\"2015-01-13T00:00:00\",\"2015-01-26T00:00:00\",\"2015-01-27T00:00:00\",\"2015-01-30T00:00:00\",\"2015-02-03T00:00:00\",\"2015-02-09T00:00:00\",\"2015-02-15T00:00:00\",\"2015-02-16T00:00:00\",\"2015-02-18T00:00:00\",\"2015-03-01T00:00:00\",\"2015-03-06T00:00:00\",\"2015-03-13T00:00:00\",\"2015-03-14T00:00:00\",\"2015-03-16T00:00:00\",\"2015-03-19T00:00:00\",\"2015-03-22T00:00:00\",\"2015-03-23T00:00:00\",\"2015-03-28T00:00:00\",\"2015-03-29T00:00:00\",\"2015-04-02T00:00:00\",\"2015-04-05T00:00:00\",\"2015-04-09T00:00:00\",\"2015-04-10T00:00:00\",\"2015-04-11T00:00:00\",\"2015-04-13T00:00:00\",\"2015-04-17T00:00:00\",\"2015-04-18T00:00:00\",\"2015-04-22T00:00:00\",\"2015-04-25T00:00:00\",\"2015-04-26T00:00:00\",\"2015-04-30T00:00:00\",\"2015-05-01T00:00:00\",\"2015-05-03T00:00:00\",\"2015-05-12T00:00:00\",\"2015-05-14T00:00:00\",\"2015-05-18T00:00:00\",\"2015-05-22T00:00:00\",\"2015-05-25T00:00:00\",\"2015-05-31T00:00:00\",\"2015-06-01T00:00:00\",\"2015-06-04T00:00:00\",\"2015-06-07T00:00:00\",\"2015-06-13T00:00:00\",\"2015-06-15T00:00:00\",\"2015-06-18T00:00:00\",\"2015-06-19T00:00:00\",\"2015-06-20T00:00:00\",\"2015-06-23T00:00:00\",\"2015-06-25T00:00:00\",\"2015-07-04T00:00:00\",\"2015-07-06T00:00:00\",\"2015-07-10T00:00:00\",\"2015-07-16T00:00:00\",\"2015-07-17T00:00:00\",\"2015-07-18T00:00:00\",\"2015-07-25T00:00:00\",\"2015-07-26T00:00:00\",\"2015-07-30T00:00:00\",\"2015-08-01T00:00:00\",\"2015-08-07T00:00:00\",\"2015-08-08T00:00:00\",\"2015-08-13T00:00:00\",\"2015-08-15T00:00:00\",\"2015-08-21T00:00:00\",\"2015-08-25T00:00:00\",\"2015-08-27T00:00:00\",\"2015-08-28T00:00:00\",\"2015-08-31T00:00:00\",\"2015-09-01T00:00:00\",\"2015-09-03T00:00:00\",\"2015-09-05T00:00:00\",\"2015-09-06T00:00:00\",\"2015-09-07T00:00:00\",\"2015-09-08T00:00:00\",\"2015-09-10T00:00:00\",\"2015-09-11T00:00:00\",\"2015-09-13T00:00:00\",\"2015-09-14T00:00:00\",\"2015-09-17T00:00:00\",\"2015-09-18T00:00:00\",\"2015-09-19T00:00:00\",\"2015-09-21T00:00:00\",\"2015-09-22T00:00:00\",\"2015-09-24T00:00:00\",\"2015-09-25T00:00:00\",\"2015-09-26T00:00:00\",\"2015-09-27T00:00:00\",\"2015-09-28T00:00:00\",\"2015-10-02T00:00:00\",\"2015-10-03T00:00:00\",\"2015-10-04T00:00:00\",\"2015-10-08T00:00:00\",\"2015-10-10T00:00:00\",\"2015-10-17T00:00:00\",\"2015-10-19T00:00:00\",\"2015-10-20T00:00:00\",\"2015-10-23T00:00:00\",\"2015-10-24T00:00:00\",\"2015-10-25T00:00:00\",\"2015-10-26T00:00:00\",\"2015-10-29T00:00:00\",\"2015-10-31T00:00:00\",\"2015-11-02T00:00:00\",\"2015-11-03T00:00:00\",\"2015-11-05T00:00:00\",\"2015-11-07T00:00:00\",\"2015-11-08T00:00:00\",\"2015-11-09T00:00:00\",\"2015-11-10T00:00:00\",\"2015-11-12T00:00:00\",\"2015-11-13T00:00:00\",\"2015-11-16T00:00:00\",\"2015-11-17T00:00:00\",\"2015-11-20T00:00:00\",\"2015-11-22T00:00:00\",\"2015-11-24T00:00:00\",\"2015-11-27T00:00:00\",\"2015-11-28T00:00:00\",\"2015-11-29T00:00:00\",\"2015-12-01T00:00:00\",\"2015-12-03T00:00:00\",\"2015-12-04T00:00:00\",\"2015-12-05T00:00:00\",\"2015-12-06T00:00:00\",\"2015-12-07T00:00:00\",\"2015-12-08T00:00:00\",\"2015-12-10T00:00:00\",\"2015-12-11T00:00:00\",\"2015-12-12T00:00:00\",\"2015-12-13T00:00:00\",\"2015-12-14T00:00:00\",\"2015-12-17T00:00:00\",\"2015-12-19T00:00:00\",\"2015-12-20T00:00:00\",\"2015-12-24T00:00:00\",\"2015-12-25T00:00:00\",\"2015-12-27T00:00:00\",\"2015-12-30T00:00:00\",\"2016-01-03T00:00:00\",\"2016-01-07T00:00:00\",\"2016-01-09T00:00:00\",\"2016-01-16T00:00:00\",\"2016-01-21T00:00:00\",\"2016-01-22T00:00:00\",\"2016-01-23T00:00:00\",\"2016-01-28T00:00:00\",\"2016-01-30T00:00:00\",\"2016-01-31T00:00:00\",\"2016-02-01T00:00:00\",\"2016-02-04T00:00:00\",\"2016-02-05T00:00:00\",\"2016-02-07T00:00:00\",\"2016-02-09T00:00:00\",\"2016-02-13T00:00:00\",\"2016-02-19T00:00:00\",\"2016-02-21T00:00:00\",\"2016-02-22T00:00:00\",\"2016-03-03T00:00:00\",\"2016-03-04T00:00:00\",\"2016-03-10T00:00:00\",\"2016-03-12T00:00:00\",\"2016-03-13T00:00:00\",\"2016-03-14T00:00:00\",\"2016-03-15T00:00:00\",\"2016-03-17T00:00:00\",\"2016-03-28T00:00:00\",\"2016-04-07T00:00:00\",\"2016-04-08T00:00:00\",\"2016-04-09T00:00:00\",\"2016-04-10T00:00:00\",\"2016-04-12T00:00:00\",\"2016-04-13T00:00:00\",\"2016-04-14T00:00:00\",\"2016-04-15T00:00:00\",\"2016-04-17T00:00:00\",\"2016-04-19T00:00:00\",\"2016-04-22T00:00:00\",\"2016-04-23T00:00:00\",\"2016-04-24T00:00:00\",\"2016-04-28T00:00:00\",\"2016-05-05T00:00:00\",\"2016-05-06T00:00:00\",\"2016-05-08T00:00:00\",\"2016-05-09T00:00:00\",\"2016-05-11T00:00:00\",\"2016-05-12T00:00:00\",\"2016-05-16T00:00:00\",\"2016-05-18T00:00:00\",\"2016-05-19T00:00:00\",\"2016-05-20T00:00:00\",\"2016-05-21T00:00:00\",\"2016-05-22T00:00:00\",\"2016-05-23T00:00:00\",\"2016-05-26T00:00:00\",\"2016-05-27T00:00:00\",\"2016-05-28T00:00:00\",\"2016-05-30T00:00:00\",\"2016-06-03T00:00:00\",\"2016-06-05T00:00:00\",\"2016-06-06T00:00:00\",\"2016-06-07T00:00:00\",\"2016-06-09T00:00:00\",\"2016-06-10T00:00:00\",\"2016-06-11T00:00:00\",\"2016-06-12T00:00:00\",\"2016-06-14T00:00:00\",\"2016-06-16T00:00:00\",\"2016-06-17T00:00:00\",\"2016-06-19T00:00:00\",\"2016-06-20T00:00:00\",\"2016-06-23T00:00:00\",\"2016-06-24T00:00:00\",\"2016-06-25T00:00:00\",\"2016-06-26T00:00:00\",\"2016-06-27T00:00:00\",\"2016-06-28T00:00:00\",\"2016-07-02T00:00:00\",\"2016-07-03T00:00:00\",\"2016-07-04T00:00:00\",\"2016-07-07T00:00:00\",\"2016-07-12T00:00:00\",\"2016-07-14T00:00:00\",\"2016-07-17T00:00:00\",\"2016-07-19T00:00:00\",\"2016-07-21T00:00:00\",\"2016-07-22T00:00:00\",\"2016-07-25T00:00:00\",\"2016-07-28T00:00:00\",\"2016-07-30T00:00:00\",\"2016-07-31T00:00:00\",\"2016-08-01T00:00:00\",\"2016-08-02T00:00:00\",\"2016-08-04T00:00:00\",\"2016-08-06T00:00:00\",\"2016-08-08T00:00:00\",\"2016-08-14T00:00:00\",\"2016-08-15T00:00:00\",\"2016-08-16T00:00:00\",\"2016-08-21T00:00:00\",\"2016-08-22T00:00:00\",\"2016-08-26T00:00:00\",\"2016-08-30T00:00:00\",\"2016-09-01T00:00:00\",\"2016-09-02T00:00:00\",\"2016-09-04T00:00:00\",\"2016-09-05T00:00:00\",\"2016-09-08T00:00:00\",\"2016-09-09T00:00:00\",\"2016-09-10T00:00:00\",\"2016-09-11T00:00:00\",\"2016-09-16T00:00:00\",\"2016-09-17T00:00:00\",\"2016-09-18T00:00:00\",\"2016-09-19T00:00:00\",\"2016-09-20T00:00:00\",\"2016-09-23T00:00:00\",\"2016-09-24T00:00:00\",\"2016-09-25T00:00:00\",\"2016-09-26T00:00:00\",\"2016-09-29T00:00:00\",\"2016-10-01T00:00:00\",\"2016-10-03T00:00:00\",\"2016-10-07T00:00:00\",\"2016-10-08T00:00:00\",\"2016-10-13T00:00:00\",\"2016-10-17T00:00:00\",\"2016-10-20T00:00:00\",\"2016-10-21T00:00:00\",\"2016-10-24T00:00:00\",\"2016-10-27T00:00:00\",\"2016-10-28T00:00:00\",\"2016-10-29T00:00:00\",\"2016-10-30T00:00:00\",\"2016-10-31T00:00:00\",\"2016-11-03T00:00:00\",\"2016-11-04T00:00:00\",\"2016-11-05T00:00:00\",\"2016-11-06T00:00:00\",\"2016-11-07T00:00:00\",\"2016-11-09T00:00:00\",\"2016-11-10T00:00:00\",\"2016-11-11T00:00:00\",\"2016-11-12T00:00:00\",\"2016-11-14T00:00:00\",\"2016-11-15T00:00:00\",\"2016-11-16T00:00:00\",\"2016-11-17T00:00:00\",\"2016-11-18T00:00:00\",\"2016-11-20T00:00:00\",\"2016-11-21T00:00:00\",\"2016-11-24T00:00:00\",\"2016-11-25T00:00:00\",\"2016-11-26T00:00:00\",\"2016-12-01T00:00:00\",\"2016-12-02T00:00:00\",\"2016-12-03T00:00:00\",\"2016-12-04T00:00:00\",\"2016-12-06T00:00:00\",\"2016-12-08T00:00:00\",\"2016-12-09T00:00:00\",\"2016-12-10T00:00:00\",\"2016-12-11T00:00:00\",\"2016-12-12T00:00:00\",\"2016-12-13T00:00:00\",\"2016-12-14T00:00:00\",\"2016-12-15T00:00:00\",\"2016-12-16T00:00:00\",\"2016-12-17T00:00:00\",\"2016-12-18T00:00:00\",\"2016-12-22T00:00:00\",\"2016-12-24T00:00:00\",\"2016-12-25T00:00:00\",\"2016-12-26T00:00:00\",\"2016-12-27T00:00:00\",\"2016-12-29T00:00:00\",\"2016-12-30T00:00:00\",\"2016-12-31T00:00:00\",\"2017-01-01T00:00:00\",\"2017-01-02T00:00:00\",\"2017-01-03T00:00:00\",\"2017-01-07T00:00:00\",\"2017-01-12T00:00:00\",\"2017-01-14T00:00:00\",\"2017-01-15T00:00:00\",\"2017-01-16T00:00:00\",\"2017-01-20T00:00:00\",\"2017-01-24T00:00:00\",\"2017-01-26T00:00:00\",\"2017-01-28T00:00:00\",\"2017-01-29T00:00:00\",\"2017-01-30T00:00:00\",\"2017-02-02T00:00:00\",\"2017-02-05T00:00:00\",\"2017-02-06T00:00:00\",\"2017-02-09T00:00:00\",\"2017-02-10T00:00:00\",\"2017-02-11T00:00:00\",\"2017-02-18T00:00:00\",\"2017-02-19T00:00:00\",\"2017-02-20T00:00:00\",\"2017-02-23T00:00:00\",\"2017-02-26T00:00:00\",\"2017-03-02T00:00:00\",\"2017-03-03T00:00:00\",\"2017-03-04T00:00:00\",\"2017-03-06T00:00:00\",\"2017-03-08T00:00:00\",\"2017-03-09T00:00:00\",\"2017-03-10T00:00:00\",\"2017-03-12T00:00:00\",\"2017-03-13T00:00:00\",\"2017-03-16T00:00:00\",\"2017-03-17T00:00:00\",\"2017-03-18T00:00:00\",\"2017-03-19T00:00:00\",\"2017-03-21T00:00:00\",\"2017-03-23T00:00:00\",\"2017-03-25T00:00:00\",\"2017-03-27T00:00:00\",\"2017-03-28T00:00:00\",\"2017-03-30T00:00:00\",\"2017-03-31T00:00:00\",\"2017-04-01T00:00:00\",\"2017-04-02T00:00:00\",\"2017-04-08T00:00:00\",\"2017-04-11T00:00:00\",\"2017-04-13T00:00:00\",\"2017-04-15T00:00:00\",\"2017-04-16T00:00:00\",\"2017-04-17T00:00:00\",\"2017-04-22T00:00:00\",\"2017-04-23T00:00:00\",\"2017-04-24T00:00:00\",\"2017-04-25T00:00:00\",\"2017-04-27T00:00:00\",\"2017-04-30T00:00:00\",\"2017-05-02T00:00:00\",\"2017-05-03T00:00:00\",\"2017-05-04T00:00:00\",\"2017-05-05T00:00:00\",\"2017-05-06T00:00:00\",\"2017-05-07T00:00:00\",\"2017-05-08T00:00:00\",\"2017-05-12T00:00:00\",\"2017-05-13T00:00:00\",\"2017-05-14T00:00:00\",\"2017-05-19T00:00:00\",\"2017-05-20T00:00:00\",\"2017-05-22T00:00:00\",\"2017-05-23T00:00:00\",\"2017-05-26T00:00:00\",\"2017-05-30T00:00:00\",\"2017-06-03T00:00:00\",\"2017-06-06T00:00:00\",\"2017-06-08T00:00:00\",\"2017-06-10T00:00:00\",\"2017-06-11T00:00:00\",\"2017-06-15T00:00:00\",\"2017-06-16T00:00:00\",\"2017-06-17T00:00:00\",\"2017-06-18T00:00:00\",\"2017-06-19T00:00:00\",\"2017-06-24T00:00:00\",\"2017-06-26T00:00:00\",\"2017-06-29T00:00:00\",\"2017-06-30T00:00:00\",\"2017-07-03T00:00:00\",\"2017-07-06T00:00:00\",\"2017-07-07T00:00:00\",\"2017-07-08T00:00:00\",\"2017-07-11T00:00:00\",\"2017-07-14T00:00:00\",\"2017-07-17T00:00:00\",\"2017-07-21T00:00:00\",\"2017-07-23T00:00:00\",\"2017-07-24T00:00:00\",\"2017-07-26T00:00:00\",\"2017-07-28T00:00:00\",\"2017-07-30T00:00:00\",\"2017-07-31T00:00:00\",\"2017-08-01T00:00:00\",\"2017-08-03T00:00:00\",\"2017-08-07T00:00:00\",\"2017-08-12T00:00:00\",\"2017-08-13T00:00:00\",\"2017-08-14T00:00:00\",\"2017-08-17T00:00:00\",\"2017-08-20T00:00:00\",\"2017-08-21T00:00:00\",\"2017-08-22T00:00:00\",\"2017-08-27T00:00:00\",\"2017-08-29T00:00:00\",\"2017-08-31T00:00:00\",\"2017-09-02T00:00:00\",\"2017-09-03T00:00:00\",\"2017-09-04T00:00:00\",\"2017-09-07T00:00:00\",\"2017-09-09T00:00:00\",\"2017-09-10T00:00:00\",\"2017-09-11T00:00:00\",\"2017-09-12T00:00:00\",\"2017-09-14T00:00:00\",\"2017-09-15T00:00:00\",\"2017-09-16T00:00:00\",\"2017-09-18T00:00:00\",\"2017-09-19T00:00:00\",\"2017-09-21T00:00:00\",\"2017-09-22T00:00:00\",\"2017-09-23T00:00:00\",\"2017-09-24T00:00:00\",\"2017-09-26T00:00:00\",\"2017-09-28T00:00:00\",\"2017-09-29T00:00:00\",\"2017-09-30T00:00:00\",\"2017-10-01T00:00:00\",\"2017-10-02T00:00:00\",\"2017-10-03T00:00:00\",\"2017-10-05T00:00:00\",\"2017-10-07T00:00:00\",\"2017-10-08T00:00:00\",\"2017-10-09T00:00:00\",\"2017-10-12T00:00:00\",\"2017-10-13T00:00:00\",\"2017-10-14T00:00:00\",\"2017-10-15T00:00:00\",\"2017-10-17T00:00:00\",\"2017-10-19T00:00:00\",\"2017-10-20T00:00:00\",\"2017-10-27T00:00:00\",\"2017-10-30T00:00:00\",\"2017-11-02T00:00:00\",\"2017-11-03T00:00:00\",\"2017-11-05T00:00:00\",\"2017-11-06T00:00:00\",\"2017-11-07T00:00:00\",\"2017-11-09T00:00:00\",\"2017-11-10T00:00:00\",\"2017-11-11T00:00:00\",\"2017-11-12T00:00:00\",\"2017-11-13T00:00:00\",\"2017-11-14T00:00:00\",\"2017-11-16T00:00:00\",\"2017-11-19T00:00:00\",\"2017-11-20T00:00:00\",\"2017-11-21T00:00:00\",\"2017-11-24T00:00:00\",\"2017-11-25T00:00:00\",\"2017-11-27T00:00:00\",\"2017-11-28T00:00:00\",\"2017-11-30T00:00:00\",\"2017-12-01T00:00:00\",\"2017-12-02T00:00:00\",\"2017-12-03T00:00:00\",\"2017-12-04T00:00:00\",\"2017-12-05T00:00:00\",\"2017-12-06T00:00:00\",\"2017-12-07T00:00:00\",\"2017-12-08T00:00:00\",\"2017-12-09T00:00:00\",\"2017-12-10T00:00:00\",\"2017-12-13T00:00:00\",\"2017-12-14T00:00:00\",\"2017-12-15T00:00:00\",\"2017-12-16T00:00:00\",\"2017-12-17T00:00:00\",\"2017-12-18T00:00:00\",\"2017-12-19T00:00:00\",\"2017-12-21T00:00:00\",\"2017-12-22T00:00:00\",\"2017-12-23T00:00:00\",\"2017-12-24T00:00:00\",\"2017-12-25T00:00:00\",\"2017-12-28T00:00:00\",\"2017-12-29T00:00:00\",\"2017-12-30T00:00:00\"],\"y\":[19.44,1679.749,38.66,426.67,290.666,12.350000000000001,134.38400000000001,129.568,12.96,19.44,626.3520000000001,7.98,13.940000000000001,4445.488,935.1519999999999,40.48,92.36,145.13000000000002,205.666,726.5480000000001,46.688,233.45,26.084,636.478,499.55199999999996,1879.723,294.71999999999997,323.458,76.14,59.92,16.520000000000003,48.91,2061.01,282.56800000000004,1679.96,254.456,235.76999999999998,1769.7840000000003,437.42600000000004,289.28,31.84,801.53,2139.9339999999997,3744.764,14.52,139.8,447.84,32.400000000000006,180.96000000000004,478.48,699.192,240.801,1211.75,351.216,891.466,1173.6160000000002,1155.772,992.828,8341.289999999999,514.28,19.752000000000002,550.164,2473.096,26.86,891.7760000000001,505.282,358.696,49.568000000000005,176.14,176.8,244.76000000000002,123.28,53.94,100.36,131.84000000000003,134.228,127.94999999999999,182.94,12.83,104.392,451.28400000000005,210.13,519.9830000000001,211.96,750.5600000000001,685.9,968.3,265.784,110.09800000000001,99.98,9.09,160.592,137.632,473.12800000000004,36.29,194.322,641.104,36.36,34.272,49.408,1252.602,1081.52,65.80000000000001,409.30400000000003,6.72,1767.6960000000001,20.04,123.14399999999999,333.576,1517.574,807.6859999999999,850.7560000000001,641.0240000000001,813.99,736.0725,1075.37,114.53,53.82000000000001,1037.19,272.432,1644.224,149.092,643.702,606.3199999999999,58.199999999999996,340.84,1261.33,173.51999999999998,119.32,34.68,4704.5405,90.24,6.16,2712.1160000000004,832.1379999999999,694.5340000000001,1897.92,11.76,1910.2740000000001,15.39,362.026,1049.97,1774.3980000000001,143.51999999999998,612.458,182.72,2803.92,2147.3360000000002,136.92,203.92,627.48,124.54999999999998,105.84400000000001,200.73600000000002,1555.2440000000001,1242.8960000000002,19.44,43.13,128.548,1701.44,466.04999999999995,199.64000000000001,295.68,71.976,892.224,369.91200000000003,12.832,692.7280000000001,2004.3760000000002,2572.5,1124.5700000000002,152.916,35.284,485.7840000000001,54.45,173.308,1140.5720000000001,38.519999999999996,2570.7075,10.86,3862.0980000000004,14.73,244.77999999999997,11.76,1109.95,7.52,36.624,225.57599999999996,51.98,205.73,383.616,366.99,618.792,22.848,170.35200000000003,39.92,2048.856,195.466,519.96,623.96,299.34000000000003,226.12999999999997,1011.6960000000001,19.152,158.672,82.36,497.59000000000003,1299.526,146.744,639.974,2017.532,2580.837,979.104,314.726,733.283,46.32,671.93,68.28,158.20000000000002,455.84999999999997,1336.352,170.13600000000002,32.400000000000006,684.84,83.80000000000001,609.4359999999999,266.03999999999996,1173.03,17.48,188.63,175.29,438.736,897.1800000000001,120.666,26.96,145.9,438.546,77.88,1910.6999999999998,695.5260000000001,1446.784,454.27200000000005,313.626,5.76,244.24,3058.1490000000003,1777.739,1345.418,62.8,190.72000000000003,496.87,2.48,79.9,15.700000000000001,723.164,18.9,1873.6060000000002,860.412,114.37,1218.7640000000001,505.71000000000004,45.28,60.604,2676.672,359.49899999999997,460.172,96.06,388.824,92.88,457.96000000000004,62.059999999999995,110.528,1287.986,966.066,472.116,450.194,1941.81,17.12,65.85600000000001,1240.46,1127.7,3251.3400000000006,114.46,34.58,727.878,102.218,1167.056,65.05000000000001,59.99,39.68,399.26,166.29200000000003,105.52,93.02,918.9659999999999,623.96,121.83,146.82,70.88,511.948,492.85,60.629999999999995,16.99,7558.262000000001,1652.342,4992.054,41.904,1356.5760000000002,84.784,93.9,1199.976,122.66,556.665,928.1220000000001,901.9120000000001,6.12,383.8,1265.268,257.499,156.51600000000002,31.56,441.568,3.9840000000000004,41.568000000000005,628.732,41.6,17.94,32.04,5.98,128.67,327.9,122.22,97.424,1064.624,121.436,222.38400000000001,37.05,1119.1480000000001,13.38,1157.6799999999998,206.72,71.08800000000001,79.792,3650.438,9.514000000000001,299.832,1388.7800000000002,902.712,213.46,1946.3529999999998,46.349999999999994,593.9659999999999,17.12,453.8,997.9340000000001,4861.33,60.81,284.24,201.584,41.32000000000001,195.184,16.92,1376.445,3352.5180000000005,95.76,292.796,77.88,425.954,423.05,6.3,744.894,18.9,715.64,863.128,1085.688,482.58400000000006,335.12,211.168,1016.184,121.09199999999998,608.216,204.54000000000002,3339.1220000000003,5.76,1776.5260000000003,387.00000000000006,34.66,1850.7780000000002,2824.2300000000005,228.12,557.0600000000001,55.36000000000001,276.78400000000005,3727.792,304.106,100.164,2295.9900000000002,187.0,475.694,22.979999999999997,1015.0,1553.314,562.4975,82.45,194.848,1027.676,37.824,61.96,256.196,138.826,406.432,792.7660000000001,1109.97,136.08800000000002,495.93199999999996,11.744,3.62,2489.34,2051.454,968.258,426.386,404.824,655.6700000000001,479.97,1778.298,531.5759999999999,878.3280000000001,17.22,1515.694,8.32,49.5,785.152,66.88,32.400000000000006,2948.032,194.35200000000003,4104.174,1255.5,303.358,3079.54,104.85,1037.7420000000002,1862.0140000000004,273.92,401.84799999999996,1937.9240000000002,440.15999999999997,1130.2079999999999,216.22400000000002,14.76,585.13,2003.52,1754.026,884.6800000000001,83.72,2875.544,1431.078,20.16,53.222,487.704,340.75199999999995,474.43,16.59,2070.2720000000004,332.8,9.78,154.9,21.400000000000002,427.59200000000004,544.952,412.9960000000001,11.84,277.71,136.526,271.644,753.624,2011.8999999999999,29.900000000000002,376.02000000000004,203.98299999999998,21.336,287.326,57.510000000000005,238.19799999999998,37.44,2847.646,784.3639999999999,1619.4640000000002,24.57,611.47,174.56000000000003,710.8040000000001,111.96,242.94,314.54999999999995,540.934,17.456,124.16,2128.398,745.2800000000001,211.84,1069.132,168.58,1435.96,265.07200000000006,29.700000000000003,5410.107999999999,25.11,440.30999999999995,241.81,436.70400000000006,79.14,349.493,562.702,18.28,183.38,1.81,559.2489999999999,183.61,292.5,269.18,881.84,745.634,23.16,152.94,499.93399999999997,3441.032,551.038,58.48,1418.21,859.9480000000001,868.4520000000001,130.64,171.288,12.96,72.62,60.622,31.35,1515.186,854.8249999999999,184.41,172.196,1231.5,51.312,956.8034999999999,74.88,520.22,83.76,2708.9519999999998,640.9490000000001,217.31,122.13600000000001,5.9399999999999995,221.07999999999998,1565.9720000000002,988.2040000000001,1775.009,1921.7000000000003,73.512,2399.96,2012.3020000000001,1170.564,356.65,93.52000000000001,241.436,275.58000000000004,2981.584,597.8599999999999,242.69400000000002,440.73599999999993,3397.7319999999995,616.7,1520.15,210.008,2971.7920000000004,148.02,890.0300000000001,1249.3220000000001,613.156,4068.726,229.26800000000003,557.83,369.536,2691.764,174.8,56.699999999999996,4171.888,32.7,163.38,190.01,71.37,21.96,1065.6000000000001,1403.8600000000001,1065.2160000000001,9.24,500.546,159.98,518.534,2073.88,171.288,874.9280000000001,1632.2399999999998,419.832,35.2,544.5500000000001,5325.884,55.82,993.21,63.432,135.012,24.678,914.0409999999999,1993.772,1326.982,2395.182,12.96,219.73999999999998,1283.1060000000002,950.038,361.014,186.85,36.136,104.95,355.808,2953.146,355.678,410.576,792.2320000000001,694.288,449.179,604.606,62.65,25.83,685.1279999999999,2235.938,166.44,11.76,92.94,10.68,424.41600000000005,4487.381,1689.5130000000001,194.304,261.52,134.91,273.92600000000004,814.5260000000001,535.578,344.235,36.672000000000004,1136.89,474.95,13.48,2970.4320000000002,424.172,1066.544,797.064,34.623999999999995],\"type\":\"bar\"}],                        {\"barmode\":\"group\",\"template\":{\"data\":{\"barpolar\":[{\"marker\":{\"line\":{\"color\":\"#E5ECF6\",\"width\":0.5},\"pattern\":{\"fillmode\":\"overlay\",\"size\":10,\"solidity\":0.2}},\"type\":\"barpolar\"}],\"bar\":[{\"error_x\":{\"color\":\"#2a3f5f\"},\"error_y\":{\"color\":\"#2a3f5f\"},\"marker\":{\"line\":{\"color\":\"#E5ECF6\",\"width\":0.5},\"pattern\":{\"fillmode\":\"overlay\",\"size\":10,\"solidity\":0.2}},\"type\":\"bar\"}],\"carpet\":[{\"aaxis\":{\"endlinecolor\":\"#2a3f5f\",\"gridcolor\":\"white\",\"linecolor\":\"white\",\"minorgridcolor\":\"white\",\"startlinecolor\":\"#2a3f5f\"},\"baxis\":{\"endlinecolor\":\"#2a3f5f\",\"gridcolor\":\"white\",\"linecolor\":\"white\",\"minorgridcolor\":\"white\",\"startlinecolor\":\"#2a3f5f\"},\"type\":\"carpet\"}],\"choropleth\":[{\"colorbar\":{\"outlinewidth\":0,\"ticks\":\"\"},\"type\":\"choropleth\"}],\"contourcarpet\":[{\"colorbar\":{\"outlinewidth\":0,\"ticks\":\"\"},\"type\":\"contourcarpet\"}],\"contour\":[{\"colorbar\":{\"outlinewidth\":0,\"ticks\":\"\"},\"colorscale\":[[0.0,\"#0d0887\"],[0.1111111111111111,\"#46039f\"],[0.2222222222222222,\"#7201a8\"],[0.3333333333333333,\"#9c179e\"],[0.4444444444444444,\"#bd3786\"],[0.5555555555555556,\"#d8576b\"],[0.6666666666666666,\"#ed7953\"],[0.7777777777777778,\"#fb9f3a\"],[0.8888888888888888,\"#fdca26\"],[1.0,\"#f0f921\"]],\"type\":\"contour\"}],\"heatmapgl\":[{\"colorbar\":{\"outlinewidth\":0,\"ticks\":\"\"},\"colorscale\":[[0.0,\"#0d0887\"],[0.1111111111111111,\"#46039f\"],[0.2222222222222222,\"#7201a8\"],[0.3333333333333333,\"#9c179e\"],[0.4444444444444444,\"#bd3786\"],[0.5555555555555556,\"#d8576b\"],[0.6666666666666666,\"#ed7953\"],[0.7777777777777778,\"#fb9f3a\"],[0.8888888888888888,\"#fdca26\"],[1.0,\"#f0f921\"]],\"type\":\"heatmapgl\"}],\"heatmap\":[{\"colorbar\":{\"outlinewidth\":0,\"ticks\":\"\"},\"colorscale\":[[0.0,\"#0d0887\"],[0.1111111111111111,\"#46039f\"],[0.2222222222222222,\"#7201a8\"],[0.3333333333333333,\"#9c179e\"],[0.4444444444444444,\"#bd3786\"],[0.5555555555555556,\"#d8576b\"],[0.6666666666666666,\"#ed7953\"],[0.7777777777777778,\"#fb9f3a\"],[0.8888888888888888,\"#fdca26\"],[1.0,\"#f0f921\"]],\"type\":\"heatmap\"}],\"histogram2dcontour\":[{\"colorbar\":{\"outlinewidth\":0,\"ticks\":\"\"},\"colorscale\":[[0.0,\"#0d0887\"],[0.1111111111111111,\"#46039f\"],[0.2222222222222222,\"#7201a8\"],[0.3333333333333333,\"#9c179e\"],[0.4444444444444444,\"#bd3786\"],[0.5555555555555556,\"#d8576b\"],[0.6666666666666666,\"#ed7953\"],[0.7777777777777778,\"#fb9f3a\"],[0.8888888888888888,\"#fdca26\"],[1.0,\"#f0f921\"]],\"type\":\"histogram2dcontour\"}],\"histogram2d\":[{\"colorbar\":{\"outlinewidth\":0,\"ticks\":\"\"},\"colorscale\":[[0.0,\"#0d0887\"],[0.1111111111111111,\"#46039f\"],[0.2222222222222222,\"#7201a8\"],[0.3333333333333333,\"#9c179e\"],[0.4444444444444444,\"#bd3786\"],[0.5555555555555556,\"#d8576b\"],[0.6666666666666666,\"#ed7953\"],[0.7777777777777778,\"#fb9f3a\"],[0.8888888888888888,\"#fdca26\"],[1.0,\"#f0f921\"]],\"type\":\"histogram2d\"}],\"histogram\":[{\"marker\":{\"pattern\":{\"fillmode\":\"overlay\",\"size\":10,\"solidity\":0.2}},\"type\":\"histogram\"}],\"mesh3d\":[{\"colorbar\":{\"outlinewidth\":0,\"ticks\":\"\"},\"type\":\"mesh3d\"}],\"parcoords\":[{\"line\":{\"colorbar\":{\"outlinewidth\":0,\"ticks\":\"\"}},\"type\":\"parcoords\"}],\"pie\":[{\"automargin\":true,\"type\":\"pie\"}],\"scatter3d\":[{\"line\":{\"colorbar\":{\"outlinewidth\":0,\"ticks\":\"\"}},\"marker\":{\"colorbar\":{\"outlinewidth\":0,\"ticks\":\"\"}},\"type\":\"scatter3d\"}],\"scattercarpet\":[{\"marker\":{\"colorbar\":{\"outlinewidth\":0,\"ticks\":\"\"}},\"type\":\"scattercarpet\"}],\"scattergeo\":[{\"marker\":{\"colorbar\":{\"outlinewidth\":0,\"ticks\":\"\"}},\"type\":\"scattergeo\"}],\"scattergl\":[{\"marker\":{\"colorbar\":{\"outlinewidth\":0,\"ticks\":\"\"}},\"type\":\"scattergl\"}],\"scattermapbox\":[{\"marker\":{\"colorbar\":{\"outlinewidth\":0,\"ticks\":\"\"}},\"type\":\"scattermapbox\"}],\"scatterpolargl\":[{\"marker\":{\"colorbar\":{\"outlinewidth\":0,\"ticks\":\"\"}},\"type\":\"scatterpolargl\"}],\"scatterpolar\":[{\"marker\":{\"colorbar\":{\"outlinewidth\":0,\"ticks\":\"\"}},\"type\":\"scatterpolar\"}],\"scatter\":[{\"fillpattern\":{\"fillmode\":\"overlay\",\"size\":10,\"solidity\":0.2},\"type\":\"scatter\"}],\"scatterternary\":[{\"marker\":{\"colorbar\":{\"outlinewidth\":0,\"ticks\":\"\"}},\"type\":\"scatterternary\"}],\"surface\":[{\"colorbar\":{\"outlinewidth\":0,\"ticks\":\"\"},\"colorscale\":[[0.0,\"#0d0887\"],[0.1111111111111111,\"#46039f\"],[0.2222222222222222,\"#7201a8\"],[0.3333333333333333,\"#9c179e\"],[0.4444444444444444,\"#bd3786\"],[0.5555555555555556,\"#d8576b\"],[0.6666666666666666,\"#ed7953\"],[0.7777777777777778,\"#fb9f3a\"],[0.8888888888888888,\"#fdca26\"],[1.0,\"#f0f921\"]],\"type\":\"surface\"}],\"table\":[{\"cells\":{\"fill\":{\"color\":\"#EBF0F8\"},\"line\":{\"color\":\"white\"}},\"header\":{\"fill\":{\"color\":\"#C8D4E3\"},\"line\":{\"color\":\"white\"}},\"type\":\"table\"}]},\"layout\":{\"annotationdefaults\":{\"arrowcolor\":\"#2a3f5f\",\"arrowhead\":0,\"arrowwidth\":1},\"autotypenumbers\":\"strict\",\"coloraxis\":{\"colorbar\":{\"outlinewidth\":0,\"ticks\":\"\"}},\"colorscale\":{\"diverging\":[[0,\"#8e0152\"],[0.1,\"#c51b7d\"],[0.2,\"#de77ae\"],[0.3,\"#f1b6da\"],[0.4,\"#fde0ef\"],[0.5,\"#f7f7f7\"],[0.6,\"#e6f5d0\"],[0.7,\"#b8e186\"],[0.8,\"#7fbc41\"],[0.9,\"#4d9221\"],[1,\"#276419\"]],\"sequential\":[[0.0,\"#0d0887\"],[0.1111111111111111,\"#46039f\"],[0.2222222222222222,\"#7201a8\"],[0.3333333333333333,\"#9c179e\"],[0.4444444444444444,\"#bd3786\"],[0.5555555555555556,\"#d8576b\"],[0.6666666666666666,\"#ed7953\"],[0.7777777777777778,\"#fb9f3a\"],[0.8888888888888888,\"#fdca26\"],[1.0,\"#f0f921\"]],\"sequentialminus\":[[0.0,\"#0d0887\"],[0.1111111111111111,\"#46039f\"],[0.2222222222222222,\"#7201a8\"],[0.3333333333333333,\"#9c179e\"],[0.4444444444444444,\"#bd3786\"],[0.5555555555555556,\"#d8576b\"],[0.6666666666666666,\"#ed7953\"],[0.7777777777777778,\"#fb9f3a\"],[0.8888888888888888,\"#fdca26\"],[1.0,\"#f0f921\"]]},\"colorway\":[\"#636efa\",\"#EF553B\",\"#00cc96\",\"#ab63fa\",\"#FFA15A\",\"#19d3f3\",\"#FF6692\",\"#B6E880\",\"#FF97FF\",\"#FECB52\"],\"font\":{\"color\":\"#2a3f5f\"},\"geo\":{\"bgcolor\":\"white\",\"lakecolor\":\"white\",\"landcolor\":\"#E5ECF6\",\"showlakes\":true,\"showland\":true,\"subunitcolor\":\"white\"},\"hoverlabel\":{\"align\":\"left\"},\"hovermode\":\"closest\",\"mapbox\":{\"style\":\"light\"},\"paper_bgcolor\":\"white\",\"plot_bgcolor\":\"#E5ECF6\",\"polar\":{\"angularaxis\":{\"gridcolor\":\"white\",\"linecolor\":\"white\",\"ticks\":\"\"},\"bgcolor\":\"#E5ECF6\",\"radialaxis\":{\"gridcolor\":\"white\",\"linecolor\":\"white\",\"ticks\":\"\"}},\"scene\":{\"xaxis\":{\"backgroundcolor\":\"#E5ECF6\",\"gridcolor\":\"white\",\"gridwidth\":2,\"linecolor\":\"white\",\"showbackground\":true,\"ticks\":\"\",\"zerolinecolor\":\"white\"},\"yaxis\":{\"backgroundcolor\":\"#E5ECF6\",\"gridcolor\":\"white\",\"gridwidth\":2,\"linecolor\":\"white\",\"showbackground\":true,\"ticks\":\"\",\"zerolinecolor\":\"white\"},\"zaxis\":{\"backgroundcolor\":\"#E5ECF6\",\"gridcolor\":\"white\",\"gridwidth\":2,\"linecolor\":\"white\",\"showbackground\":true,\"ticks\":\"\",\"zerolinecolor\":\"white\"}},\"shapedefaults\":{\"line\":{\"color\":\"#2a3f5f\"}},\"ternary\":{\"aaxis\":{\"gridcolor\":\"white\",\"linecolor\":\"white\",\"ticks\":\"\"},\"baxis\":{\"gridcolor\":\"white\",\"linecolor\":\"white\",\"ticks\":\"\"},\"bgcolor\":\"#E5ECF6\",\"caxis\":{\"gridcolor\":\"white\",\"linecolor\":\"white\",\"ticks\":\"\"}},\"title\":{\"x\":0.05},\"xaxis\":{\"automargin\":true,\"gridcolor\":\"white\",\"linecolor\":\"white\",\"ticks\":\"\",\"title\":{\"standoff\":15},\"zerolinecolor\":\"white\",\"zerolinewidth\":2},\"yaxis\":{\"automargin\":true,\"gridcolor\":\"white\",\"linecolor\":\"white\",\"ticks\":\"\",\"title\":{\"standoff\":15},\"zerolinecolor\":\"white\",\"zerolinewidth\":2}}},\"xaxis\":{\"title\":{\"text\":\"Ventas diarias\"}},\"yaxis\":{\"title\":{\"text\":\"Ingresos\"}}},                        {\"responsive\": true}                    ).then(function(){\n",
       "                            \n",
       "var gd = document.getElementById('66c410f4-2c90-466c-9b32-a9b1720c6ad9');\n",
       "var x = new MutationObserver(function (mutations, observer) {{\n",
       "        var display = window.getComputedStyle(gd).display;\n",
       "        if (!display || display === 'none') {{\n",
       "            console.log([gd, 'removed!']);\n",
       "            Plotly.purge(gd);\n",
       "            observer.disconnect();\n",
       "        }}\n",
       "}});\n",
       "\n",
       "// Listen for the removal of the full notebook cells\n",
       "var notebookContainer = gd.closest('#notebook-container');\n",
       "if (notebookContainer) {{\n",
       "    x.observe(notebookContainer, {childList: true});\n",
       "}}\n",
       "\n",
       "// Listen for the clearing of the current output cell\n",
       "var outputEl = gd.closest('.output');\n",
       "if (outputEl) {{\n",
       "    x.observe(outputEl, {childList: true});\n",
       "}}\n",
       "\n",
       "                        })                };                });            </script>        </div>"
      ]
     },
     "metadata": {},
     "output_type": "display_data"
    }
   ],
   "source": [
    "\n",
    "# Crear trace1 \n",
    "trace1 = go.Bar(x=ventas_dia_CA['Order Date'],  # Utilizamos el índice del DataFrame (Estados)\n",
    "               y=ventas_dia_CA['Sales'],\n",
    "               name='Ventas diarias en California',\n",
    "               marker=dict(color='rgba(255, 174, 255, 0.5)',\n",
    "                           line=dict(color='rgb(0,0,0)', width=1.5)),\n",
    "               text=ventas_dia_CA)\n",
    "\n",
    "data = [trace1]\n",
    "\n",
    "layout = go.Layout(barmode=\"group\", xaxis=dict(title='Ventas diarias'), yaxis=dict(title='Ingresos'))\n",
    "\n",
    "fig = go.Figure(data=data, layout=layout)\n",
    "\n",
    "iplot(fig)"
   ]
  }
 ],
 "metadata": {
  "colab": {
   "name": "widgets_plotly_superstore_enunciado.ipynb",
   "provenance": []
  },
  "kernelspec": {
   "display_name": "Python 3.7.9 64-bit",
   "language": "python",
   "name": "python3"
  },
  "language_info": {
   "codemirror_mode": {
    "name": "ipython",
    "version": 3
   },
   "file_extension": ".py",
   "mimetype": "text/x-python",
   "name": "python",
   "nbconvert_exporter": "python",
   "pygments_lexer": "ipython3",
   "version": "3.8.10"
  },
  "vscode": {
   "interpreter": {
    "hash": "ec2a379ed5c25334a484232182c9d38ef8bd9861e2542d0c517568c4f99a9a7c"
   }
  }
 },
 "nbformat": 4,
 "nbformat_minor": 4
}
