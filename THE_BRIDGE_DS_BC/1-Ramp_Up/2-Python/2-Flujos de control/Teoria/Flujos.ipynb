{
 "cells": [
  {
   "cell_type": "markdown",
   "metadata": {},
   "source": [
    "![imagen](./img/python.jpg)"
   ]
  },
  {
   "cell_type": "markdown",
   "metadata": {},
   "source": [
    "# Python Flujos de Control\n",
    "\n",
    "Hasta ahora hemos visto cómo ejecutar un programa secuencialmente, empieza en la primera línea y acaba en la última. Pero ¿y si queremos que cambien los outputs del programa en función de ciertas condiciones, o si queremos que tome otros caminos en caso de encontrar errores?. Todo esto lo podremos hacer con los flujos de control. Sentencias que encontrarás en todos los lenguajes de programación.\n",
    "\n",
    "1. [Sintaxis de línea](#1.-Sintaxis-de-línea)\n",
    "1. [if/elif/else](#2.-if/elif/else)\n",
    "2. [Bucle for](#3.-Bucle-for)\n",
    "3. [Bucle while](#4.-Bucle-while)\n",
    "4. [Break/continue](#5.-Break/continue)\n",
    "5. [Try/except](#6.-Try/except)\n",
    "10. [Resumen](#7.-Resumen)"
   ]
  },
  {
   "cell_type": "markdown",
   "metadata": {},
   "source": [
    "## 1. Sintaxis de línea\n",
    "La manera en la que Python encapsula todo el código que va dentro de un flujo de control como `if` o `for` es diferente a como se suele hacer en otros lenguajes, en los que se rodea de llaves `{}` o paréntesis `()` todo el contenido del flujo. Con Python no. En Python simplemente hay que añadir una tabulación a cada línea de código que vaya dentro del flujo de control.\n",
    "\n",
    "> ```Python\n",
    "> for condiciones:\n",
    ">     Código dentro de este bucle\n",
    "> ```\n",
    "\n",
    "\n",
    "Si lo dejamos fuera, este código se ejecutará secuencialmente después de que corra el for\n",
    "\n",
    "> ```Python\n",
    "> for condiciones:\n",
    ">\n",
    "> Código fuera de este bucle\n",
    "> ```\n",
    "\n",
    "Veamos un ejemplo. Tenemos una lista de numeros, y queremos ver cuáles son enteros. Para ello los recorremos con un `for` (vermos más en profundiad en este notebook). Vamos iternando uno a uno cada elemento. Luego mediante un `if` comprobamos si es entero. Fíjate que todo lo que va dentro del `for` lleva una tabulación y lo que va dentro del `if` lleva dos tabulaciones, puesto que sus sentencias van tanto dentro del `if`, como dentro del `for`."
   ]
  },
  {
   "cell_type": "code",
   "execution_count": 1,
   "metadata": {},
   "outputs": [
    {
     "name": "stdout",
     "output_type": "stream",
     "text": [
      "El numero 4 es un entero\n",
      "El numero 6 es un entero\n"
     ]
    }
   ],
   "source": [
    "numeros = [4, 6, 4.0, 3.0]\n",
    "\n",
    "for elemento in numeros:\n",
    "\n",
    "    if type(elemento) == int:        \n",
    "        print(\"El numero\", elemento, \"es un entero\")"
   ]
  },
  {
   "cell_type": "markdown",
   "metadata": {},
   "source": [
    "<table align=\"left\">\n",
    " <tr><td width=\"80\"><img src=\"./img/error.png\" style=\"width:auto;height:auto\"></td>\n",
    "     <td style=\"text-align:left\">\n",
    "         <h3>ERRORES ¿Qué ocurre si nos olvidamos de tabular?</h3>\n",
    "         \n",
    " </td></tr>\n",
    "</table>"
   ]
  },
  {
   "cell_type": "code",
   "execution_count": 2,
   "metadata": {},
   "outputs": [
    {
     "ename": "IndentationError",
     "evalue": "expected an indented block after 'for' statement on line 3 (2699300256.py, line 5)",
     "output_type": "error",
     "traceback": [
      "\u001b[1;36m  Cell \u001b[1;32mIn[2], line 5\u001b[1;36m\u001b[0m\n\u001b[1;33m    if type(num) == int:\u001b[0m\n\u001b[1;37m    ^\u001b[0m\n\u001b[1;31mIndentationError\u001b[0m\u001b[1;31m:\u001b[0m expected an indented block after 'for' statement on line 3\n"
     ]
    }
   ],
   "source": [
    "numeros = [4, 6, 4.0, 3.0]\n",
    "\n",
    "for num in numeros:\n",
    "    \n",
    "if type(num) == int:        \n",
    "print(\"El numero\", num, \"es un entero\")"
   ]
  },
  {
   "cell_type": "markdown",
   "metadata": {},
   "source": [
    "Ojo, el error no ha dado en el `if`, sino en el `for`. Te señala lo que hay inmediatamente despues de los dos puntos del `for`, ya que considera que ahí debería haber una tabulación. No la hay, y por eso salta el error."
   ]
  },
  {
   "cell_type": "markdown",
   "metadata": {},
   "source": [
    "### Sintaxis\n",
    "Por tanto, toda sentencia `if`, `for`, `while`, `try`, declaración de funciones, de clases, llevan dos puntos. Y después de los dos puntos, tabulado, va todo el contenido de ese bloque. **Siempre**.\n",
    "\n",
    "Si pones los dos puntos y le das a enter, Python automáticamente te tabula todo lo que vayas a escribir a continuación."
   ]
  },
  {
   "cell_type": "code",
   "execution_count": 3,
   "metadata": {},
   "outputs": [
    {
     "data": {
      "text/plain": [
       "True"
      ]
     },
     "execution_count": 3,
     "metadata": {},
     "output_type": "execute_result"
    }
   ],
   "source": [
    "1 == 1"
   ]
  },
  {
   "cell_type": "code",
   "execution_count": 4,
   "metadata": {},
   "outputs": [
    {
     "name": "stdout",
     "output_type": "stream",
     "text": [
      "Es verdadero\n"
     ]
    }
   ],
   "source": [
    "if 1 == 1:\n",
    "    print(\"Es verdadero\")"
   ]
  },
  {
   "cell_type": "markdown",
   "metadata": {},
   "source": [
    "### ¿Tabulaciones o espacios?\n",
    "Cuidado con las tabulaciones ya que cuando pasamos de un editor de Python a otro, o cuando ejecutamos un corrector de estilo sobre nuestro código, hay veces que las tabulaciones dan problemas. Es por ello que muchos programadores en vez de usar tabulaciones, los sustituyen por 4 espacios. \n",
    "\n",
    "Este es el problema cuando no se normaliza o estandariza algo. Que cada progrmador usa lo que considera y después hay conflictos cuando pasamos de un IDE a otro. Este asunto lleva años sobre la mesa por lo que ahora la mayordía de IDEs no suelen tener problemas.\n",
    "\n",
    "Entonces, ¿qué usamos? Lo más cómo es añadir una tabulación, pero lo más correcto son espacios. En Jupyter esto es bastante transparente para nosotros ya que cuando añadimos una tabulación, realmente Jupyter lo traduce a 4 espacios, por lo que no debería ser un tema preocupante\n",
    "\n",
    "Es tal la discusión que hasta le [han dedicado una escena en la serie Silicon Valley](https://www.youtube.com/watch?v=ussOk-ilK_8)"
   ]
  },
  {
   "cell_type": "markdown",
   "metadata": {},
   "source": [
    "## 2. if/elif/else\n",
    "En función de lo que valgan unas condiciones booleanas, ejecutaremos unas líneas de código, u otras. La sintaxis es muy sencilla:\n",
    "\n",
    "\n",
    "> ```Python\n",
    "> if condiciones:\n",
    ">     Si se cumplen las condiciones, ejecuta este código\n",
    "> else:\n",
    ">     Si no, ejecutas estre otro código\n",
    "> ```\n",
    "    \n",
    "Veamos un ejemplo"
   ]
  },
  {
   "cell_type": "code",
   "execution_count": 5,
   "metadata": {},
   "outputs": [
    {
     "name": "stdout",
     "output_type": "stream",
     "text": [
      "Aprobado\n"
     ]
    }
   ],
   "source": [
    "mi_nota = 5.25\n",
    "\n",
    "if mi_nota < 5:\n",
    "    print(\"A septiembre\")\n",
    "    \n",
    "else:\n",
    "    print(\"Aprobado\")"
   ]
  },
  {
   "cell_type": "markdown",
   "metadata": {},
   "source": [
    "Únicamente se ejecuta la parte de código que consigue un `True` en la condición. `print(\"Aprobado!\")` sólo se imprimirá por pantalla si la nota es mayor o igual a 5.\n",
    "\n",
    "Vamos a ver otro ejemplo. Ahora quiero un poco más de granularidad en la nota, con bienes, notables y tal"
   ]
  },
  {
   "cell_type": "code",
   "execution_count": 19,
   "metadata": {},
   "outputs": [
    {
     "name": "stdout",
     "output_type": "stream",
     "text": [
      "A septiembre\n"
     ]
    }
   ],
   "source": [
    "mi_nota = 2.4\n",
    "\n",
    "if mi_nota < 5:\n",
    "    print(\"A septiembre\")\n",
    "    # if type(mi_nota) == int:\n",
    "    #     print(\"Es un entero\")\n",
    "    # if type(mi_nota) == float:\n",
    "    #     print(\"Es un float\")\n",
    "    \n",
    "elif mi_nota < 6:\n",
    "    print(\"Suficiente\")\n",
    "    \n",
    "elif mi_nota < 7:\n",
    "    print(\"Bien\")\n",
    "    \n",
    "elif mi_nota < 9:\n",
    "    print(\"Notable\")\n",
    "\n",
    "elif mi_nota >= 9 and mi_nota <= 10:\n",
    "    print(\"Eres un crack\")\n",
    "else:\n",
    "    print(\"La nota es erronea\")\n",
    "    "
   ]
  },
  {
   "cell_type": "markdown",
   "metadata": {},
   "source": [
    "**IMPORTANTE**. Todos los `ifs` se ejecutan secuencialmente. Por eso, en este caso no es necesario acotar tanto la nota:\n",
    "\n",
    "* Primero comprueba si es menor de 5, de ser así, suspenso.\n",
    "* Ya sabemos que es mayor o igual a 5\n",
    "* En la siguiente condición comprueba si es menor que 6, es decir, entre 5 y 6. Si es `False`, seguimos a la siguiente condición. Ahora bien, si es `True`, ejecutamos únicamente ese código y nos olvidamos de todo lo demás. Ya puede haber 150 condiciones, que si la primera es `True`, el resto es como si no existiese.\n",
    "\n",
    "Fíjate que la sintaxis es bastante intuitiva. `if` una condición, dos puntos y me ejecutas todo lo que hay aqui dentro, `elif` (acorta el `else if`), si se cumple esta otra condición, se ejecuta este otro código. Y si no se cumple ninguna de estas, ejecuta lo que haya en el `else`."
   ]
  },
  {
   "cell_type": "markdown",
   "metadata": {},
   "source": [
    "¿Recuerdas lo que viste con el *Algebra de Boole*? Este es el momento de utilizarlo. Cuando acudimos a varias condiciones dentro de un mismo `if`, tenemos que tener muy claras las operaciones binarias que estamos realizando."
   ]
  },
  {
   "cell_type": "code",
   "execution_count": null,
   "metadata": {},
   "outputs": [],
   "source": [
    "pico = False\n",
    "alas = False\n",
    "sonido = \"Ladrar\"\n",
    "patas = 4\n",
    "\n",
    "if pico or alas:\n",
    "    print(\"Ave\")\n",
    "\n",
    "elif patas == 4 and sonido == \"Ladrar\":\n",
    "    print(\"Perro\")\n",
    "\n",
    "else:\n",
    "    print(\"Otro animal\")"
   ]
  },
  {
   "cell_type": "markdown",
   "metadata": {},
   "source": [
    "<table align=\"left\">\n",
    " <tr><td width=\"80\"><img src=\"./img/ejercicio.png\" style=\"width:auto;height:auto\"></td>\n",
    "     <td style=\"text-align:left\">\n",
    "         <h3>Ejercicio if/else</h3>\n",
    "\n",
    "El ejemplo de las notas está muy bien, pero demasiado sencillo. ¿Qué pasa si la nota es mayor de 10 o menor que 0? No parece una nota correcta. En programación hay que anticiparse a los errores. Reescribe el código para tener en cuenta esos casos, cuya nota tendrás que catalogarla como \"Nota errónea\"\n",
    "         \n",
    " </td></tr>\n",
    "</table>"
   ]
  },
  {
   "cell_type": "code",
   "execution_count": 44,
   "metadata": {},
   "outputs": [
    {
     "name": "stdout",
     "output_type": "stream",
     "text": [
      "Nota erronea\n"
     ]
    }
   ],
   "source": [
    "mi_nota = 'jwsnjw'\n",
    "\n",
    "if type(mi_nota) == str:\n",
    "    print(\"Nota erronea\")\n",
    "    \n",
    "if type(mi_nota) == int:\n",
    "    if mi_nota <0 or mi_nota > 10:\n",
    "        print(\"Nota erronea\")\n",
    "    \n",
    "    elif mi_nota < 5:\n",
    "        print(\"A septiembre\")\n",
    "        \n",
    "    elif mi_nota < 6:\n",
    "        print(\"Suficiente\")\n",
    "        \n",
    "    elif mi_nota < 7:\n",
    "        print(\"Bien\")\n",
    "        \n",
    "    elif mi_nota < 9:\n",
    "        print(\"Notable\")\n",
    "\n",
    "    elif mi_nota >= 9 and mi_nota <= 10:\n",
    "        print(\"Eres un crack\")"
   ]
  },
  {
   "cell_type": "markdown",
   "metadata": {},
   "source": [
    "## 3. Bucle for\n",
    "Gracias a los bucles podemos ejecutar código repetitivo, de manera bastante automática. Son muy útiles para que nuestro código no sea redundante, y también para aplicar operaciones cuando manejamos iterables. Un iterable no es más que una colección de objetos (una lista es un iterable) que podremos ir recorriendo uno a uno con el bucle `for`, y aplicar operaciones a cada elemento.\n",
    "\n",
    "La sintaxis de los bucles `for` es la siguiente:\n",
    "\n",
    "> `for var_ejecucion in limites ejecución:`\n",
    "> \n",
    ">           codigo del for...\n",
    "    \n",
    "    \n",
    "* **Límites de ejecución**: La cantidad de veces que queremos que se ejecute un `for`. Esto es así porque si no se ejecutarían hasta el infinito. Y además, tienen una variable de ejecución que se va actualizando. Por ejemplo del 1 al 10. Primero valdría 1, luego 2...así hasta 10.\n",
    "\n",
    "\n",
    "* **Variable de ejecución**: dentro del for habrá una variable que se irá actualizando con cada ejecución. Si se ejecuta 10 veces, primero la variable valdrá 1, luego 2, y así hasta 10.\n",
    "\n",
    "![imagen](./img/for-loop-python.jpg)"
   ]
  },
  {
   "cell_type": "markdown",
   "metadata": {},
   "source": [
    "Mejor vemos un ejemplo para entenderlo. Tienes las notas de tres alumnos en una lista, y quieres imprimir por pantalla las notas"
   ]
  },
  {
   "cell_type": "code",
   "execution_count": null,
   "metadata": {},
   "outputs": [],
   "source": [
    "notas = [3, 6, 9, 10]\n",
    "\n",
    "print(notas[0])\n",
    "print(notas[1])\n",
    "print(notas[2])\n",
    "print(notas[3])"
   ]
  },
  {
   "cell_type": "markdown",
   "metadata": {},
   "source": [
    "Genial, pero qué ocurre si ahora tienes 30 notas, o simplemente quieres que tu programa no dependa de cuantas notas tienes, unas veces son 30, otras 20..."
   ]
  },
  {
   "cell_type": "code",
   "execution_count": 46,
   "metadata": {},
   "outputs": [
    {
     "name": "stdout",
     "output_type": "stream",
     "text": [
      "[4, 5, 7, 3, 4, -10, 5, 5, 4, 5, 5, 6]\n"
     ]
    }
   ],
   "source": [
    "notas_clase = [4,5,7,3,4,-10,5,5,4,5,5,6]\n",
    "print(notas_clase)"
   ]
  },
  {
   "cell_type": "code",
   "execution_count": 47,
   "metadata": {},
   "outputs": [
    {
     "name": "stdout",
     "output_type": "stream",
     "text": [
      "Suspenso con: 4\n",
      "Aprobado con: 5\n",
      "Aprobado con: 7\n",
      "Suspenso con: 3\n",
      "Suspenso con: 4\n",
      "Suspenso con: -10\n",
      "Aprobado con: 5\n",
      "Aprobado con: 5\n",
      "Suspenso con: 4\n",
      "Aprobado con: 5\n",
      "Aprobado con: 5\n",
      "Aprobado con: 6\n"
     ]
    }
   ],
   "source": [
    "for nota in notas_clase:\n",
    "    if nota >= 5:\n",
    "        print(\"Aprobado con:\", nota)\n",
    "    else:\n",
    "        print(\"Suspenso con:\", nota)"
   ]
  },
  {
   "cell_type": "code",
   "execution_count": 48,
   "metadata": {},
   "outputs": [
    {
     "name": "stdout",
     "output_type": "stream",
     "text": [
      "Suspenso con: 4\n",
      "Aprobado con: 5\n",
      "Aprobado con: 7\n",
      "Suspenso con: 3\n",
      "Suspenso con: 4\n"
     ]
    }
   ],
   "source": [
    "for nota in notas_clase:\n",
    "    if nota == -10:\n",
    "        break\n",
    "    else:\n",
    "            if nota >= 5:\n",
    "                print(\"Aprobado con:\", nota)\n",
    "            else:\n",
    "                print(\"Suspenso con:\", nota)"
   ]
  },
  {
   "cell_type": "code",
   "execution_count": 49,
   "metadata": {},
   "outputs": [
    {
     "data": {
      "text/plain": [
       "-10"
      ]
     },
     "execution_count": 49,
     "metadata": {},
     "output_type": "execute_result"
    }
   ],
   "source": [
    "nota"
   ]
  },
  {
   "cell_type": "code",
   "execution_count": 50,
   "metadata": {
    "collapsed": true,
    "jupyter": {
     "outputs_hidden": true
    },
    "tags": []
   },
   "outputs": [
    {
     "name": "stdout",
     "output_type": "stream",
     "text": [
      "4\n",
      "5\n",
      "7\n",
      "3\n",
      "4\n",
      "6\n",
      "5\n",
      "5\n",
      "4\n",
      "5\n",
      "6\n",
      "7\n",
      "8\n",
      "7\n",
      "6\n",
      "4\n",
      "6\n",
      "5\n",
      "5\n",
      "4\n",
      "5\n",
      "6\n"
     ]
    }
   ],
   "source": [
    "notas_clase = [4,5,7,3,4,6,5,5,4,5,6,7,8,7,6,4,6,5,5,4,5,6,]\n",
    "\n",
    "for nota in notas_clase:\n",
    "    print(nota)"
   ]
  },
  {
   "cell_type": "code",
   "execution_count": 51,
   "metadata": {},
   "outputs": [
    {
     "name": "stdout",
     "output_type": "stream",
     "text": [
      "<class 'str'>\n",
      "Lunes\n",
      "<class 'str'>\n",
      "Martes\n",
      "<class 'str'>\n",
      "Miércoles\n",
      "<class 'str'>\n",
      "Jueves\n",
      "<class 'str'>\n",
      "Viernes\n",
      "<class 'str'>\n",
      "Sábado\n",
      "<class 'str'>\n",
      "Domingo\n"
     ]
    }
   ],
   "source": [
    "# Si en vez de numeros, tenemos texto, también nos vale\n",
    "dias_semana = [\"Lunes\", \"Martes\", \"Miércoles\", \"Jueves\", \"Viernes\", \"Sábado\", \"Domingo\"]\n",
    "\n",
    "for dia in dias_semana:\n",
    "    print(type(dia))\n",
    "    print(dia)"
   ]
  },
  {
   "cell_type": "markdown",
   "metadata": {},
   "source": [
    "Todo objeto que sea **iterable**, lo podrás recorrer en un `for`. Veremos los iterables más en detalle en las colecciones."
   ]
  },
  {
   "cell_type": "code",
   "execution_count": 52,
   "metadata": {},
   "outputs": [
    {
     "name": "stdout",
     "output_type": "stream",
     "text": [
      "P\n",
      "y\n",
      "t\n",
      "h\n",
      "o\n",
      "n\n"
     ]
    }
   ],
   "source": [
    "# Fijate que un String también es un iterable\n",
    "\n",
    "for letra in \"Python\":\n",
    "    print(letra)"
   ]
  },
  {
   "cell_type": "markdown",
   "metadata": {},
   "source": [
    "El bucle for resulta de gran utilidad para **aplicar operaciones a cada elemento**. Hasta ahora solo hemos impreso items por pantalla, pero ¿y si queremos subir la nota de todos los alumnos un punto extra? No puedo hacer `lista + 1`. Tendré que iterar/recorrer cada elemento y aplicarle la operación."
   ]
  },
  {
   "cell_type": "code",
   "execution_count": 53,
   "metadata": {},
   "outputs": [],
   "source": [
    "import time"
   ]
  },
  {
   "cell_type": "code",
   "execution_count": 57,
   "metadata": {
    "collapsed": true,
    "jupyter": {
     "outputs_hidden": true
    },
    "tags": []
   },
   "outputs": [
    {
     "name": "stdout",
     "output_type": "stream",
     "text": [
      "[5]\n",
      "[5, 6]\n",
      "[5, 6, 8]\n",
      "[5, 6, 8, 4]\n",
      "[5, 6, 8, 4, 5]\n",
      "[5, 6, 8, 4, 5, 7]\n",
      "[5, 6, 8, 4, 5, 7, 6]\n",
      "[5, 6, 8, 4, 5, 7, 6, 6]\n",
      "[5, 6, 8, 4, 5, 7, 6, 6, 5]\n",
      "[5, 6, 8, 4, 5, 7, 6, 6, 5, 6]\n",
      "[5, 6, 8, 4, 5, 7, 6, 6, 5, 6, 7]\n",
      "[5, 6, 8, 4, 5, 7, 6, 6, 5, 6, 7, 8]\n",
      "[5, 6, 8, 4, 5, 7, 6, 6, 5, 6, 7, 8, 9]\n",
      "[5, 6, 8, 4, 5, 7, 6, 6, 5, 6, 7, 8, 9, 8]\n",
      "[5, 6, 8, 4, 5, 7, 6, 6, 5, 6, 7, 8, 9, 8, 7]\n",
      "[5, 6, 8, 4, 5, 7, 6, 6, 5, 6, 7, 8, 9, 8, 7, 5]\n",
      "[5, 6, 8, 4, 5, 7, 6, 6, 5, 6, 7, 8, 9, 8, 7, 5, 7]\n",
      "[5, 6, 8, 4, 5, 7, 6, 6, 5, 6, 7, 8, 9, 8, 7, 5, 7, 6]\n",
      "[5, 6, 8, 4, 5, 7, 6, 6, 5, 6, 7, 8, 9, 8, 7, 5, 7, 6, 6]\n",
      "[5, 6, 8, 4, 5, 7, 6, 6, 5, 6, 7, 8, 9, 8, 7, 5, 7, 6, 6, 5]\n",
      "[5, 6, 8, 4, 5, 7, 6, 6, 5, 6, 7, 8, 9, 8, 7, 5, 7, 6, 6, 5, 6]\n",
      "[5, 6, 8, 4, 5, 7, 6, 6, 5, 6, 7, 8, 9, 8, 7, 5, 7, 6, 6, 5, 6, 7]\n"
     ]
    }
   ],
   "source": [
    "notas_clase = [4,5,7,3,4,6,5,5,4,5,6,7,8,7,6,4,6,5,5,4,5,6,]\n",
    "notas_clase_actualizada = []\n",
    "\n",
    "for nota in notas_clase:\n",
    "    # print(nota + 1)\n",
    "    notas_clase_actualizada.append(nota + 1)\n",
    "    time.sleep(1)\n",
    "    print(notas_clase_actualizada)"
   ]
  },
  {
   "cell_type": "code",
   "execution_count": 62,
   "metadata": {},
   "outputs": [
    {
     "name": "stdout",
     "output_type": "stream",
     "text": [
      "[5, 6, 8, 4, 5, 7, 6]\n"
     ]
    }
   ],
   "source": [
    "notas_clase = [4,5,7,3,4,6,5,]\n",
    "\n",
    "i = 0 #Iniciamos una variable para almacenar la suma\n",
    "\n",
    "for nota in notas_clase:\n",
    "    # print(nota + 1)\n",
    "    notas_clase[i] = nota + 1\n",
    "    i = i + 1\n",
    "print(notas_clase)"
   ]
  },
  {
   "cell_type": "markdown",
   "metadata": {},
   "source": [
    "Dentro de un bucle `for`, podremos anidar más bucles. Esto resulta útil si queremos calcular combinaciones de iterables, por ejemplo, si quiero imprimir por pantalla todas las coordenadas de un tablero de 4x4."
   ]
  },
  {
   "cell_type": "code",
   "execution_count": 63,
   "metadata": {},
   "outputs": [
    {
     "data": {
      "text/plain": [
       "range(1, 6)"
      ]
     },
     "execution_count": 63,
     "metadata": {},
     "output_type": "execute_result"
    }
   ],
   "source": [
    "range(1, 6)"
   ]
  },
  {
   "cell_type": "code",
   "execution_count": 64,
   "metadata": {},
   "outputs": [
    {
     "data": {
      "text/plain": [
       "[1, 2, 3, 4, 5, 6, 7, 8]"
      ]
     },
     "execution_count": 64,
     "metadata": {},
     "output_type": "execute_result"
    }
   ],
   "source": [
    "list(range(1, 9))"
   ]
  },
  {
   "cell_type": "code",
   "execution_count": 68,
   "metadata": {
    "collapsed": true,
    "jupyter": {
     "outputs_hidden": true
    },
    "tags": []
   },
   "outputs": [
    {
     "name": "stdout",
     "output_type": "stream",
     "text": [
      "Coordenada: 1, 1\n",
      "Coordenada: 1, 2\n",
      "Coordenada: 2, 1\n",
      "Coordenada: 2, 2\n"
     ]
    }
   ],
   "source": [
    "for i in range(1, 3):\n",
    "    for j in range(1, 3):\n",
    "        print(f'Coordenada: {i}, {j}')"
   ]
  },
  {
   "cell_type": "markdown",
   "metadata": {},
   "source": [
    "<table align=\"left\">\n",
    " <tr><td width=\"80\"><img src=\"./img/error.png\" style=\"width:auto;height:auto\"></td>\n",
    "     <td style=\"text-align:left\">\n",
    "         <h3>ERRORES concatenado str + num</h3>\n",
    "         \n",
    " </td></tr>\n",
    "</table>"
   ]
  },
  {
   "cell_type": "markdown",
   "metadata": {},
   "source": [
    "Cuidado cuando estemos recorriendo una lista de numeros y en el print interno intentemos imprimir por pantalla su concatenado. ¡Hay que pasar el numero a string! o emplear otro método en el `print`."
   ]
  },
  {
   "cell_type": "code",
   "execution_count": 71,
   "metadata": {
    "collapsed": true,
    "jupyter": {
     "outputs_hidden": true
    },
    "tags": []
   },
   "outputs": [
    {
     "ename": "TypeError",
     "evalue": "can only concatenate str (not \"int\") to str",
     "output_type": "error",
     "traceback": [
      "\u001b[1;31m---------------------------------------------------------------------------\u001b[0m",
      "\u001b[1;31mTypeError\u001b[0m                                 Traceback (most recent call last)",
      "\u001b[1;32mc:\\Users\\Javi P. Piazza\\OneDrive\\Documents\\DOCUMENTOS\\INFORMATICA\\DATA SCIENCE\\GIT\\ALUMNOS\\DSPT_TBS_SVL_0923\\1-Ramp_Up\\2-Python\\2-Flujos de control\\Teoria\\Flujos.ipynb Celda 43\u001b[0m line \u001b[0;36m2\n\u001b[0;32m      <a href='vscode-notebook-cell:/c%3A/Users/Javi%20P.%20Piazza/OneDrive/Documents/DOCUMENTOS/INFORMATICA/DATA%20SCIENCE/GIT/ALUMNOS/DSPT_TBS_SVL_0923/1-Ramp_Up/2-Python/2-Flujos%20de%20control/Teoria/Flujos.ipynb#X60sZmlsZQ%3D%3D?line=0'>1</a>\u001b[0m \u001b[39mfor\u001b[39;00m i \u001b[39min\u001b[39;00m [\u001b[39m1\u001b[39m,\u001b[39m2\u001b[39m,\u001b[39m3\u001b[39m]:\n\u001b[1;32m----> <a href='vscode-notebook-cell:/c%3A/Users/Javi%20P.%20Piazza/OneDrive/Documents/DOCUMENTOS/INFORMATICA/DATA%20SCIENCE/GIT/ALUMNOS/DSPT_TBS_SVL_0923/1-Ramp_Up/2-Python/2-Flujos%20de%20control/Teoria/Flujos.ipynb#X60sZmlsZQ%3D%3D?line=1'>2</a>\u001b[0m     \u001b[39mprint\u001b[39m(\u001b[39m\"\u001b[39;49m\u001b[39mNumero: \u001b[39;49m\u001b[39m\"\u001b[39;49m \u001b[39m+\u001b[39;49m i)\n",
      "\u001b[1;31mTypeError\u001b[0m: can only concatenate str (not \"int\") to str"
     ]
    }
   ],
   "source": [
    "for i in [1,2,3]:\n",
    "    print(\"Numero: \" + i)"
   ]
  },
  {
   "cell_type": "code",
   "execution_count": 72,
   "metadata": {},
   "outputs": [
    {
     "name": "stdout",
     "output_type": "stream",
     "text": [
      "Numero:  1\n",
      "Numero:  2\n",
      "Numero:  3\n"
     ]
    }
   ],
   "source": [
    "for i in [1,2,3]:\n",
    "    print(\"Numero: \" ,+i)"
   ]
  },
  {
   "cell_type": "markdown",
   "metadata": {},
   "source": [
    "### Función range\n",
    "Es muy común usar la función `range()` en las condiciones de un bucle. Esta función puede funcionar con un único argumento numérico y su output es un **iterable**, comprendido entre el 0 y el número introducido como argumento.\n",
    "\n",
    "Verás en [la documentación](https://www.w3schools.com/python/ref_func_range.asp) que `range()` tiene más posibilidades, combinando sus argumentos."
   ]
  },
  {
   "cell_type": "code",
   "execution_count": 105,
   "metadata": {},
   "outputs": [
    {
     "data": {
      "text/plain": [
       "[1, 2, 3, 4, 5]"
      ]
     },
     "execution_count": 105,
     "metadata": {},
     "output_type": "execute_result"
    }
   ],
   "source": [
    "list(range(1, 6))"
   ]
  },
  {
   "cell_type": "code",
   "execution_count": 73,
   "metadata": {},
   "outputs": [
    {
     "name": "stdout",
     "output_type": "stream",
     "text": [
      "[0, 1, 2, 3, 4, 5]\n",
      "[0, 1, 2, 3, 4, 5]\n",
      "[0, 2, 4]\n",
      "[2, 4]\n",
      "[10, 8, 6, 4, 2, 0]\n"
     ]
    }
   ],
   "source": [
    "print(list(range(6)))\n",
    "print(list(range(0, 6, 1)))\n",
    "print(list(range(0, 6, 2)))\n",
    "print(list(range(2, 6, 2)))\n",
    "print(list(range(10, -1, -2)))"
   ]
  },
  {
   "cell_type": "markdown",
   "metadata": {},
   "source": [
    "En ocasiones nos interesa iterar sobre la posición que tiene cada elemento dentro de un iterable. Para ello podemos combinar `range` con `len` dentro de las condiciones del bucle"
   ]
  },
  {
   "cell_type": "code",
   "execution_count": 74,
   "metadata": {},
   "outputs": [
    {
     "data": {
      "text/plain": [
       "[0, 1, 2]"
      ]
     },
     "execution_count": 74,
     "metadata": {},
     "output_type": "execute_result"
    }
   ],
   "source": [
    "list(range(3))"
   ]
  },
  {
   "cell_type": "code",
   "execution_count": 75,
   "metadata": {},
   "outputs": [
    {
     "data": {
      "text/plain": [
       "3"
      ]
     },
     "execution_count": 75,
     "metadata": {},
     "output_type": "execute_result"
    }
   ],
   "source": [
    "colores = ['rojo', 'verde', 'azul']\n",
    "len(colores)"
   ]
  },
  {
   "cell_type": "code",
   "execution_count": 76,
   "metadata": {},
   "outputs": [
    {
     "name": "stdout",
     "output_type": "stream",
     "text": [
      "0 rojo\n",
      "1 verde\n",
      "2 azul\n"
     ]
    }
   ],
   "source": [
    "colores = ['rojo', 'verde', 'azul']\n",
    "\n",
    "for i in range(len(colores)):\n",
    "    print(i, colores[i]) #Accedemos al color llamandolo por su indice (iterable)"
   ]
  },
  {
   "cell_type": "code",
   "execution_count": 77,
   "metadata": {},
   "outputs": [
    {
     "name": "stdout",
     "output_type": "stream",
     "text": [
      "rojo\n",
      "verde\n",
      "azul\n"
     ]
    }
   ],
   "source": [
    "colores = ['rojo', 'verde', 'azul']\n",
    "\n",
    "for color in colores:\n",
    "    print(color)"
   ]
  },
  {
   "cell_type": "markdown",
   "metadata": {},
   "source": [
    "### Función enumerate\n",
    "¿Y si dentro del bucle necesitamos tanto el elemento del iterable, como su índice? En [la documentación](https://www.w3schools.com/python/ref_func_enumerate.asp) verás que puedes elegir desde qué elemento de la lista quieres empezar."
   ]
  },
  {
   "cell_type": "code",
   "execution_count": 78,
   "metadata": {},
   "outputs": [
    {
     "name": "stdout",
     "output_type": "stream",
     "text": [
      "Nombre 0: Pedro\n",
      "Nombre 1: Mariano\n",
      "Nombre 2: Jose Luis\n"
     ]
    }
   ],
   "source": [
    "names = [\"Pedro\", \"Mariano\", \"Jose Luis\"]\n",
    "\n",
    "for index, name in enumerate(names): #Aporta el indice y la salida, por eso hay que crear dos iterables\n",
    "    print(f\"Nombre {index}: {name}\")\n",
    "    #print(index)\n",
    "    #print(name)"
   ]
  },
  {
   "cell_type": "code",
   "execution_count": 80,
   "metadata": {},
   "outputs": [
    {
     "name": "stdout",
     "output_type": "stream",
     "text": [
      "<class 'enumerate'>\n"
     ]
    },
    {
     "data": {
      "text/plain": [
       "[(0, 'Pedro'), (1, 'Mariano'), (2, 'Jose Luis')]"
      ]
     },
     "execution_count": 80,
     "metadata": {},
     "output_type": "execute_result"
    }
   ],
   "source": [
    "print(type(enumerate(names)))\n",
    "list(enumerate(names))"
   ]
  },
  {
   "cell_type": "markdown",
   "metadata": {},
   "source": [
    "<table align=\"left\">\n",
    " <tr><td width=\"80\"><img src=\"./img/error.png\" style=\"width:auto;height:auto\"></td>\n",
    "     <td style=\"text-align:left\">\n",
    "         <h3>ERRORES en los rangos</h3>\n",
    "         \n",
    " </td></tr>\n",
    "</table>"
   ]
  },
  {
   "cell_type": "markdown",
   "metadata": {},
   "source": [
    "Mucho cuidado al escribir las condiciones del bucle. Lo primero, porque podríamos tener condiciones infinitas de ejecución que ni nosotros, ni nuestro ordenador lo deseamos. Y lo segundo porque si intentamos acceder a un índice de nuestro iterable que no existe, saltará un error. Veamos ejemplo"
   ]
  },
  {
   "cell_type": "code",
   "execution_count": 81,
   "metadata": {},
   "outputs": [
    {
     "data": {
      "text/plain": [
       "[0, 1, 2, 3]"
      ]
     },
     "execution_count": 81,
     "metadata": {},
     "output_type": "execute_result"
    }
   ],
   "source": [
    "list(range(4))"
   ]
  },
  {
   "cell_type": "code",
   "execution_count": 82,
   "metadata": {},
   "outputs": [
    {
     "ename": "IndexError",
     "evalue": "list index out of range",
     "output_type": "error",
     "traceback": [
      "\u001b[1;31m---------------------------------------------------------------------------\u001b[0m",
      "\u001b[1;31mIndexError\u001b[0m                                Traceback (most recent call last)",
      "\u001b[1;32mc:\\Users\\Javi P. Piazza\\OneDrive\\Documents\\DOCUMENTOS\\INFORMATICA\\DATA SCIENCE\\GIT\\ALUMNOS\\DSPT_TBS_SVL_0923\\1-Ramp_Up\\2-Python\\2-Flujos de control\\Teoria\\Flujos.ipynb Celda 59\u001b[0m line \u001b[0;36m2\n\u001b[0;32m      <a href='vscode-notebook-cell:/c%3A/Users/Javi%20P.%20Piazza/OneDrive/Documents/DOCUMENTOS/INFORMATICA/DATA%20SCIENCE/GIT/ALUMNOS/DSPT_TBS_SVL_0923/1-Ramp_Up/2-Python/2-Flujos%20de%20control/Teoria/Flujos.ipynb#Y111sZmlsZQ%3D%3D?line=0'>1</a>\u001b[0m names \u001b[39m=\u001b[39m [\u001b[39m\"\u001b[39m\u001b[39mPedro\u001b[39m\u001b[39m\"\u001b[39m, \u001b[39m\"\u001b[39m\u001b[39mMariano\u001b[39m\u001b[39m\"\u001b[39m, \u001b[39m\"\u001b[39m\u001b[39mJose Luis\u001b[39m\u001b[39m\"\u001b[39m]\n\u001b[1;32m----> <a href='vscode-notebook-cell:/c%3A/Users/Javi%20P.%20Piazza/OneDrive/Documents/DOCUMENTOS/INFORMATICA/DATA%20SCIENCE/GIT/ALUMNOS/DSPT_TBS_SVL_0923/1-Ramp_Up/2-Python/2-Flujos%20de%20control/Teoria/Flujos.ipynb#Y111sZmlsZQ%3D%3D?line=1'>2</a>\u001b[0m names[\u001b[39m3\u001b[39;49m]\n",
      "\u001b[1;31mIndexError\u001b[0m: list index out of range"
     ]
    }
   ],
   "source": [
    "names = [\"Pedro\", \"Mariano\", \"Jose Luis\"]\n",
    "names[3]"
   ]
  },
  {
   "cell_type": "code",
   "execution_count": 85,
   "metadata": {},
   "outputs": [
    {
     "name": "stdout",
     "output_type": "stream",
     "text": [
      "0 Pedro\n",
      "1 Mariano\n",
      "2 Jose Luis\n"
     ]
    },
    {
     "ename": "IndexError",
     "evalue": "list index out of range",
     "output_type": "error",
     "traceback": [
      "\u001b[1;31m---------------------------------------------------------------------------\u001b[0m",
      "\u001b[1;31mIndexError\u001b[0m                                Traceback (most recent call last)",
      "\u001b[1;32mc:\\Users\\Javi P. Piazza\\OneDrive\\Documents\\DOCUMENTOS\\INFORMATICA\\DATA SCIENCE\\GIT\\ALUMNOS\\DSPT_TBS_SVL_0923\\1-Ramp_Up\\2-Python\\2-Flujos de control\\Teoria\\Flujos.ipynb Celda 60\u001b[0m line \u001b[0;36m4\n\u001b[0;32m      <a href='vscode-notebook-cell:/c%3A/Users/Javi%20P.%20Piazza/OneDrive/Documents/DOCUMENTOS/INFORMATICA/DATA%20SCIENCE/GIT/ALUMNOS/DSPT_TBS_SVL_0923/1-Ramp_Up/2-Python/2-Flujos%20de%20control/Teoria/Flujos.ipynb#Y112sZmlsZQ%3D%3D?line=0'>1</a>\u001b[0m names \u001b[39m=\u001b[39m [\u001b[39m\"\u001b[39m\u001b[39mPedro\u001b[39m\u001b[39m\"\u001b[39m, \u001b[39m\"\u001b[39m\u001b[39mMariano\u001b[39m\u001b[39m\"\u001b[39m, \u001b[39m\"\u001b[39m\u001b[39mJose Luis\u001b[39m\u001b[39m\"\u001b[39m]\n\u001b[0;32m      <a href='vscode-notebook-cell:/c%3A/Users/Javi%20P.%20Piazza/OneDrive/Documents/DOCUMENTOS/INFORMATICA/DATA%20SCIENCE/GIT/ALUMNOS/DSPT_TBS_SVL_0923/1-Ramp_Up/2-Python/2-Flujos%20de%20control/Teoria/Flujos.ipynb#Y112sZmlsZQ%3D%3D?line=2'>3</a>\u001b[0m \u001b[39mfor\u001b[39;00m i \u001b[39min\u001b[39;00m \u001b[39mrange\u001b[39m(\u001b[39m4\u001b[39m):\n\u001b[1;32m----> <a href='vscode-notebook-cell:/c%3A/Users/Javi%20P.%20Piazza/OneDrive/Documents/DOCUMENTOS/INFORMATICA/DATA%20SCIENCE/GIT/ALUMNOS/DSPT_TBS_SVL_0923/1-Ramp_Up/2-Python/2-Flujos%20de%20control/Teoria/Flujos.ipynb#Y112sZmlsZQ%3D%3D?line=3'>4</a>\u001b[0m     \u001b[39mprint\u001b[39m(i, names[i])\n",
      "\u001b[1;31mIndexError\u001b[0m: list index out of range"
     ]
    }
   ],
   "source": [
    "names = [\"Pedro\", \"Mariano\", \"Jose Luis\"]\n",
    "\n",
    "for i in range(4):\n",
    "    print(i, names[i])"
   ]
  },
  {
   "cell_type": "markdown",
   "metadata": {},
   "source": [
    "Es por ello que se recomienda dejar el código lo más \"en automático\" posible. Poner en el range la longitud del iterable no es una buena práctica, ¿Y si mañana el iterable tiene menos nombres? saltará error. ¿Y si tiene más? No los tendremos en cuenta en el for. Por ello es mejor usar `len`."
   ]
  },
  {
   "cell_type": "markdown",
   "metadata": {},
   "source": [
    "<table align=\"left\">\n",
    " <tr><td width=\"80\"><img src=\"./img/ejercicio.png\" style=\"width:auto;height:auto\"></td>\n",
    "     <td style=\"text-align:left\">\n",
    "         <h3>Ejercicio bucle for</h3>\n",
    "\n",
    "Recorre la siguiente lista [4,5,7,3,4,6,5,5,4,5,6,7,8,7,6,4,6,5,5,4,5,6,] con un for, imprime únicamente los elementos múltiplos de 3, así como el índice que tengan dentro de la lista. ¿Sabrías hacerlo de tres formas diferentes?\n",
    "         \n",
    " </td></tr>\n",
    "</table>"
   ]
  },
  {
   "cell_type": "code",
   "execution_count": 96,
   "metadata": {},
   "outputs": [
    {
     "name": "stdout",
     "output_type": "stream",
     "text": [
      "Numero 3: 3\n",
      "Numero 5: 6\n",
      "Numero 10: 6\n",
      "Numero 14: 6\n",
      "Numero 16: 6\n",
      "Numero 21: 6\n",
      "3\n",
      "6\n",
      "6\n",
      "6\n",
      "6\n",
      "6\n",
      "3 3\n",
      "6 5\n",
      "6 10\n",
      "6 14\n",
      "6 16\n",
      "6 21\n"
     ]
    }
   ],
   "source": [
    "lista =  [4,5,7,3,4,6,5,5,4,5,6,7,8,7,6,4,6,5,5,4,5,6,]\n",
    "#Primera version\n",
    "multiplo_3 = []\n",
    "for index, elemento in enumerate(lista):\n",
    "    if elemento%3==0:\n",
    "        multiplo_3.append(elemento)\n",
    "        print(f\"Numero {index}: {elemento}\")\n",
    "\n",
    "#Segunda forma\n",
    "for elemento in lista:\n",
    "    if elemento%3==0:\n",
    "        print(elemento)\n",
    "        \n",
    "#Tercera forma\n",
    "i = 0\n",
    "for elemento in range(len(lista)):\n",
    "    if lista[i]%3 == 0:\n",
    "        print(lista[i], i)\n",
    "    i = i+1 \n",
    "\n"
   ]
  },
  {
   "cell_type": "markdown",
   "metadata": {},
   "source": [
    "<table align=\"left\">\n",
    " <tr><td width=\"80\"><img src=\"./img/ejercicio.png\" style=\"width:auto;height:auto\"></td>\n",
    "     <td style=\"text-align:left\">\n",
    "         <h3>Ejercicio bucle for</h3>\n",
    "\n",
    "Escribe un programa que pida al usuario un número entero y muestre por pantalla un triángulo rectángulo como el de más abajo, de altura el número introducido.\n",
    "\n",
    ".\n",
    "<br>\n",
    "..\n",
    "<br>\n",
    "...\n",
    "<br>\n",
    "....\n",
    "<br>\n",
    ".....\n",
    "         \n",
    " </td></tr>\n",
    "</table>"
   ]
  },
  {
   "cell_type": "code",
   "execution_count": 3,
   "metadata": {},
   "outputs": [
    {
     "name": "stdout",
     "output_type": "stream",
     "text": [
      "\n",
      "\n",
      "* \n",
      "* * \n",
      "* * * \n",
      "* * * * \n",
      "* * * * * \n",
      "* * * * * * \n",
      "* * * * * * * \n"
     ]
    }
   ],
   "source": [
    "base = int(input('Introduce la base de la piramide'))\n",
    "for i in range(base):\n",
    "    for j in range(i-1):\n",
    "        print('*', end=' ')\n",
    "    print()"
   ]
  },
  {
   "cell_type": "markdown",
   "metadata": {},
   "source": [
    "<table align=\"left\">\n",
    " <tr><td width=\"80\"><img src=\"./img/ejercicio.png\" style=\"width:auto;height:auto\"></td>\n",
    "     <td style=\"text-align:left\">\n",
    "         <h3>Ejercicio bucle for</h3>\n",
    "\n",
    "Escribir un programa que muestre por pantalla la tabla de multiplicar del 1 al 10.\n",
    "         \n",
    " </td></tr>\n",
    "</table>"
   ]
  },
  {
   "cell_type": "code",
   "execution_count": 114,
   "metadata": {},
   "outputs": [
    {
     "name": "stdout",
     "output_type": "stream",
     "text": [
      "1*1= 1\t1*2= 2\t1*3= 3\t1*4= 4\t1*5= 5\t1*6= 6\t1*7= 7\t1*8= 8\t1*9= 9\t1*10= 10\t\n",
      "2*1= 2\t2*2= 4\t2*3= 6\t2*4= 8\t2*5= 10\t2*6= 12\t2*7= 14\t2*8= 16\t2*9= 18\t2*10= 20\t\n",
      "3*1= 3\t3*2= 6\t3*3= 9\t3*4= 12\t3*5= 15\t3*6= 18\t3*7= 21\t3*8= 24\t3*9= 27\t3*10= 30\t\n",
      "4*1= 4\t4*2= 8\t4*3= 12\t4*4= 16\t4*5= 20\t4*6= 24\t4*7= 28\t4*8= 32\t4*9= 36\t4*10= 40\t\n",
      "5*1= 5\t5*2= 10\t5*3= 15\t5*4= 20\t5*5= 25\t5*6= 30\t5*7= 35\t5*8= 40\t5*9= 45\t5*10= 50\t\n",
      "6*1= 6\t6*2= 12\t6*3= 18\t6*4= 24\t6*5= 30\t6*6= 36\t6*7= 42\t6*8= 48\t6*9= 54\t6*10= 60\t\n",
      "7*1= 7\t7*2= 14\t7*3= 21\t7*4= 28\t7*5= 35\t7*6= 42\t7*7= 49\t7*8= 56\t7*9= 63\t7*10= 70\t\n",
      "8*1= 8\t8*2= 16\t8*3= 24\t8*4= 32\t8*5= 40\t8*6= 48\t8*7= 56\t8*8= 64\t8*9= 72\t8*10= 80\t\n",
      "9*1= 9\t9*2= 18\t9*3= 27\t9*4= 36\t9*5= 45\t9*6= 54\t9*7= 63\t9*8= 72\t9*9= 81\t9*10= 90\t\n",
      "10*1= 10\t10*2= 20\t10*3= 30\t10*4= 40\t10*5= 50\t10*6= 60\t10*7= 70\t10*8= 80\t10*9= 90\t10*10= 100\t\n"
     ]
    }
   ],
   "source": [
    "for i in range(1, 11):\n",
    "    for j in range(1, 11):\n",
    "        print(f\"{i}*{j}= {i*j}\", end='\\t')\n",
    "    print()\n",
    "    "
   ]
  },
  {
   "cell_type": "markdown",
   "metadata": {},
   "source": [
    "## 4. Bucle while\n",
    "Se trata de otra manera de implementar un bucle en programación. Los bucles tienen que ir siempre limitados. En el caso del `for`, le poníamos un número concreto de ejecuciones, según el iterable que estuviésemos recorriendo. Para el `while` es algo diferente. Tiene una **condición de ejecución**, que mientras que se cumpla (`True`), seguirá ejecutando una y otra vez. Por otro lado, el bucle tiene una **variable de ejecucón**, al igual que en el `for`, que se irá actualizando con cada vuelta, y es esa variable la que determina cuándo acaba el bucle.\n",
    "\n",
    "![imagen](./img/while-loop.png)"
   ]
  },
  {
   "cell_type": "markdown",
   "metadata": {},
   "source": [
    "**Cuidado** con estos bucles ya que es muy fácil olvidarnos de actualiza la variable de ejecución, o equivocarnos en la condición de ejecución. Si esto ocurre el código se quedará corriendo hasta que detengamos el kernel (botón *interrupt the kernel*, arriba al lado del Run)\n",
    "\n",
    "Veamos un ejemplo."
   ]
  },
  {
   "cell_type": "code",
   "execution_count": 97,
   "metadata": {},
   "outputs": [
    {
     "name": "stdout",
     "output_type": "stream",
     "text": [
      "0\n",
      "1\n",
      "2\n",
      "3\n",
      "4\n",
      "Fin programa\n"
     ]
    }
   ],
   "source": [
    "i = 0\n",
    "\n",
    "while i < 5:\n",
    "    print(i)\n",
    "    \n",
    "    i = i + 1 # i += 1\n",
    "    \n",
    "print(\"Fin programa\")"
   ]
  },
  {
   "cell_type": "code",
   "execution_count": 98,
   "metadata": {},
   "outputs": [
    {
     "name": "stdout",
     "output_type": "stream",
     "text": [
      "0\n",
      "0\n",
      "0\n",
      "0\n",
      "0\n",
      "0\n",
      "0\n",
      "0\n",
      "0\n",
      "0\n",
      "0\n",
      "0\n",
      "0\n",
      "0\n"
     ]
    },
    {
     "ename": "KeyboardInterrupt",
     "evalue": "",
     "output_type": "error",
     "traceback": [
      "\u001b[1;31m---------------------------------------------------------------------------\u001b[0m",
      "\u001b[1;31mKeyboardInterrupt\u001b[0m                         Traceback (most recent call last)",
      "\u001b[1;32mc:\\Users\\Javi P. Piazza\\OneDrive\\Documents\\DOCUMENTOS\\INFORMATICA\\DATA SCIENCE\\GIT\\ALUMNOS\\DSPT_TBS_SVL_0923\\1-Ramp_Up\\2-Python\\2-Flujos de control\\Teoria\\Flujos.ipynb Celda 67\u001b[0m line \u001b[0;36m6\n\u001b[0;32m      <a href='vscode-notebook-cell:/c%3A/Users/Javi%20P.%20Piazza/OneDrive/Documents/DOCUMENTOS/INFORMATICA/DATA%20SCIENCE/GIT/ALUMNOS/DSPT_TBS_SVL_0923/1-Ramp_Up/2-Python/2-Flujos%20de%20control/Teoria/Flujos.ipynb#Y122sZmlsZQ%3D%3D?line=3'>4</a>\u001b[0m \u001b[39mwhile\u001b[39;00m i \u001b[39m<\u001b[39m \u001b[39m5\u001b[39m:\n\u001b[0;32m      <a href='vscode-notebook-cell:/c%3A/Users/Javi%20P.%20Piazza/OneDrive/Documents/DOCUMENTOS/INFORMATICA/DATA%20SCIENCE/GIT/ALUMNOS/DSPT_TBS_SVL_0923/1-Ramp_Up/2-Python/2-Flujos%20de%20control/Teoria/Flujos.ipynb#Y122sZmlsZQ%3D%3D?line=4'>5</a>\u001b[0m     \u001b[39mprint\u001b[39m(i)\n\u001b[1;32m----> <a href='vscode-notebook-cell:/c%3A/Users/Javi%20P.%20Piazza/OneDrive/Documents/DOCUMENTOS/INFORMATICA/DATA%20SCIENCE/GIT/ALUMNOS/DSPT_TBS_SVL_0923/1-Ramp_Up/2-Python/2-Flujos%20de%20control/Teoria/Flujos.ipynb#Y122sZmlsZQ%3D%3D?line=5'>6</a>\u001b[0m     time\u001b[39m.\u001b[39;49msleep(\u001b[39m2\u001b[39;49m)\n\u001b[0;32m      <a href='vscode-notebook-cell:/c%3A/Users/Javi%20P.%20Piazza/OneDrive/Documents/DOCUMENTOS/INFORMATICA/DATA%20SCIENCE/GIT/ALUMNOS/DSPT_TBS_SVL_0923/1-Ramp_Up/2-Python/2-Flujos%20de%20control/Teoria/Flujos.ipynb#Y122sZmlsZQ%3D%3D?line=7'>8</a>\u001b[0m \u001b[39mprint\u001b[39m(\u001b[39m\"\u001b[39m\u001b[39mFin programa\u001b[39m\u001b[39m\"\u001b[39m)\n",
      "\u001b[1;31mKeyboardInterrupt\u001b[0m: "
     ]
    }
   ],
   "source": [
    "i = 0\n",
    "import time\n",
    "\n",
    "while i < 5:\n",
    "    print(i)\n",
    "    time.sleep(2)\n",
    "    \n",
    "print(\"Fin programa\")"
   ]
  },
  {
   "cell_type": "markdown",
   "metadata": {},
   "source": [
    "La manera más habitual de implementar estos bucles es:\n",
    "1. Declaro la **variable de ejecución fuera del bucle**\n",
    "2. Establezco una **condición de ejecución** para determinar cuándo queremos que se pare el bucle.\n",
    "3. **Actualizo la variable de ejecución** en cada iteración del bucle.\n"
   ]
  },
  {
   "cell_type": "markdown",
   "metadata": {},
   "source": [
    "## 5. Break/continue\n",
    "Son dos sentencias que podemo usar dentro de los bucles para evitar ejecutar código de más.\n",
    "\n",
    "### Break\n",
    "Se usa cuando queremos salir del bucle forzadamente. Imagina que eres una tienda y estás buscando con un for si al menos uno de los pedidos era un abrigo. Si has tenido 1000 pedidos, vas a tener que iterar sobre todos y mediante un `if`, comprobar si es un abrigo. Ahora bien, si el abrigo es el primer elemento de la lista, el `for` va a recorrer igualmente los otros 999 elementos, cuando no es necesario. Con un `break` podremos salirnos del bucle y continuar con el programa.\n",
    "\n",
    "![imagen](./img/break.jpg)"
   ]
  },
  {
   "cell_type": "code",
   "execution_count": 99,
   "metadata": {},
   "outputs": [
    {
     "name": "stdout",
     "output_type": "stream",
     "text": [
      "1\n",
      "2\n",
      "3\n"
     ]
    }
   ],
   "source": [
    "for i in [1,2,3,4]:\n",
    "    print(i)\n",
    "    if i > 2:\n",
    "        break"
   ]
  },
  {
   "cell_type": "code",
   "execution_count": 100,
   "metadata": {},
   "outputs": [
    {
     "name": "stdout",
     "output_type": "stream",
     "text": [
      "1 1\n",
      "La hemos liado\n",
      "2 1\n",
      "La hemos liado\n",
      "3 1\n",
      "La hemos liado\n",
      "4 1\n",
      "La hemos liado\n"
     ]
    }
   ],
   "source": [
    "for i in [1,2,3,4]:\n",
    "    for j in [1,2,3,4]:\n",
    "        print(i,j)\n",
    "        break\n",
    "    print(\"La hemos liado\")"
   ]
  },
  {
   "cell_type": "code",
   "execution_count": 101,
   "metadata": {},
   "outputs": [
    {
     "name": "stdout",
     "output_type": "stream",
     "text": [
      "s\n",
      "t\n",
      "r\n",
      "Fin\n"
     ]
    }
   ],
   "source": [
    "for val in \"string\":\n",
    "    if val == \"i\":\n",
    "        break\n",
    "        \n",
    "    print(val)\n",
    "\n",
    "print(\"Fin\")"
   ]
  },
  {
   "cell_type": "markdown",
   "metadata": {},
   "source": [
    "### Continue\n",
    "Esta sentencia se usa dentro de un bucle para indicarle que continue con el siguiente elemento del iterable. Al igual que con el `break`, nos sirve para evitar que se ejecute código de más. Volviendo al ejemplo anterior, si después de comprobar que tenemos un abrigo, hay 200 líneas más de código que se utiliza en otros casos, con un `continue` evitamos que se ejecute todo eso, hacemos lo que tengamos que hacer con el abrigo, y le decimos al bucle que pase al siguiente elemento, e ignore el resto del código.\n",
    "\n",
    "![imagen](./img/continue.jpg)"
   ]
  },
  {
   "cell_type": "code",
   "execution_count": 104,
   "metadata": {},
   "outputs": [
    {
     "name": "stdout",
     "output_type": "stream",
     "text": [
      "s\n",
      "t\n",
      "r\n",
      "Se ha cumplido la contición voy a pasar de esto\n",
      "n\n",
      "g\n",
      "Fin\n"
     ]
    }
   ],
   "source": [
    "for val in \"string\":\n",
    "    if val == \"i\":\n",
    "        print(\"Se ha cumplido la contición voy a pasar de esto\")\n",
    "        continue  \n",
    "    print(val)\n",
    "\n",
    "print(\"Fin\")"
   ]
  },
  {
   "cell_type": "markdown",
   "metadata": {},
   "source": [
    "**Los bucles `for` y `while`, así como `break` y `continue`, son sentencias complicadas de entender, y si es la primera vez que programas te va a suponer un cambio en la manera de pensar y de solucionar problemas, por ello te recomiendo que cojas papel y boli y hagas los primeros ejercicios de bucles viendo las iteraciones una a una y calculando manualmente todas las opeaciones de dentro del bucle.**"
   ]
  },
  {
   "cell_type": "markdown",
   "metadata": {},
   "source": [
    "## 6. Try/except\n",
    "¿Qué ocurre cuando hay un error en nuestro código? Se para toda la ejecución. Por muy buenos programadores que seamos, hay que contar siempre con que puede haber errores. Podemos llegar a controlarlos con sentencias `if/else`, por ejemplo si no sabemos muy bien los tipos de los datos, `if type(data) == float:` haces algo con floats, `else` haces otra cosa con otro tipo de datos, pero lo mejor es usar `try/except`.\n",
    "\n",
    "Ahora bien, si intuimos que el comportamiento de nuestro código puede ser algo impredecible, en programación podemos usar las sentencias `try/except` para capturar ese error, tomar decisiones, y que el código pueda continuar ejecutándose.\n",
    "\n",
    "La sintaxis es la siguiente:\n",
    "\n",
    "> ```Python\n",
    "> try:\n",
    ">     Código que puede contener errores\n",
    "> except:\n",
    ">     Qué hacer si nos encontramos con un error\n",
    "> ```"
   ]
  },
  {
   "cell_type": "code",
   "execution_count": 4,
   "metadata": {},
   "outputs": [
    {
     "ename": "NameError",
     "evalue": "name 'variable_' is not defined",
     "output_type": "error",
     "traceback": [
      "\u001b[1;31m---------------------------------------------------------------------------\u001b[0m",
      "\u001b[1;31mNameError\u001b[0m                                 Traceback (most recent call last)",
      "\u001b[1;32mc:\\Users\\Javi P. Piazza\\OneDrive\\Documents\\DOCUMENTOS\\INFORMATICA\\DATA SCIENCE\\GIT\\ALUMNOS\\DSPT_TBS_SVL_0923\\1-Ramp_Up\\2-Python\\2-Flujos de control\\Teoria\\Flujos.ipynb Celda 81\u001b[0m line \u001b[0;36m1\n\u001b[1;32m----> <a href='vscode-notebook-cell:/c%3A/Users/Javi%20P.%20Piazza/OneDrive/Documents/DOCUMENTOS/INFORMATICA/DATA%20SCIENCE/GIT/ALUMNOS/DSPT_TBS_SVL_0923/1-Ramp_Up/2-Python/2-Flujos%20de%20control/Teoria/Flujos.ipynb#Y143sZmlsZQ%3D%3D?line=0'>1</a>\u001b[0m \u001b[39mprint\u001b[39m(variable_)\n\u001b[0;32m      <a href='vscode-notebook-cell:/c%3A/Users/Javi%20P.%20Piazza/OneDrive/Documents/DOCUMENTOS/INFORMATICA/DATA%20SCIENCE/GIT/ALUMNOS/DSPT_TBS_SVL_0923/1-Ramp_Up/2-Python/2-Flujos%20de%20control/Teoria/Flujos.ipynb#Y143sZmlsZQ%3D%3D?line=1'>2</a>\u001b[0m \u001b[39mprint\u001b[39m(\u001b[39m\"\u001b[39m\u001b[39mAAA\u001b[39m\u001b[39m\"\u001b[39m)\n",
      "\u001b[1;31mNameError\u001b[0m: name 'variable_' is not defined"
     ]
    }
   ],
   "source": [
    "print(variable_)\n",
    "print(\"AAA\")"
   ]
  },
  {
   "cell_type": "code",
   "execution_count": 5,
   "metadata": {},
   "outputs": [
    {
     "name": "stdout",
     "output_type": "stream",
     "text": [
      "El codigo tiene errores\n",
      "Se ejecuta igualmente\n",
      "AAA\n"
     ]
    }
   ],
   "source": [
    "try:\n",
    "    print(variable_)\n",
    "except NameError:\n",
    "    print(\"El codigo tiene errores\")\n",
    "    pass\n",
    "    \n",
    "finally:\n",
    "    print(\"Se ejecuta igualmente\")\n",
    "    \n",
    "print(\"AAA\")"
   ]
  },
  {
   "cell_type": "code",
   "execution_count": 6,
   "metadata": {},
   "outputs": [
    {
     "name": "stdout",
     "output_type": "stream",
     "text": [
      "El codigo tiene errores\n",
      "Se ejecuta igualmente\n",
      "AAA\n"
     ]
    }
   ],
   "source": [
    "try:\n",
    "    print(variable_)\n",
    "except:\n",
    "    print(\"El codigo tiene errores\")\n",
    "    print(\"Se ejecuta igualmente\")\n",
    "    pass\n",
    "    \n",
    "print(\"AAA\")"
   ]
  },
  {
   "cell_type": "code",
   "execution_count": null,
   "metadata": {},
   "outputs": [],
   "source": [
    "#lista = [1,2,3]\n",
    "print(perrofly)\n",
    "print(\"Hola mundo\")"
   ]
  },
  {
   "cell_type": "code",
   "execution_count": 7,
   "metadata": {},
   "outputs": [
    {
     "name": "stdout",
     "output_type": "stream",
     "text": [
      "Error en el nombre\n",
      "list index out of range\n"
     ]
    }
   ],
   "source": [
    "lista = [1,2,3]\n",
    "\n",
    "try:\n",
    "    print(lista[5])\n",
    "\n",
    "except IndexError as e:\n",
    "    print(\"Error en el nombre\")\n",
    "    print(e)\n",
    "    \n",
    "except:\n",
    "    print(\"Otro error\")"
   ]
  },
  {
   "cell_type": "code",
   "execution_count": 8,
   "metadata": {},
   "outputs": [
    {
     "name": "stdout",
     "output_type": "stream",
     "text": [
      "list index out of range\n",
      "AAA\n",
      "name 'variable_' is not defined\n",
      "BBB\n"
     ]
    }
   ],
   "source": [
    "lista = [1,2,3]\n",
    "\n",
    "try:\n",
    "    print(lista[5])\n",
    "except Exception as e:\n",
    "    print(e)\n",
    "print('AAA')\n",
    "try:\n",
    "    print(variable_)\n",
    "except Exception as e:\n",
    "    print(e)\n",
    "    if e == \"'variable_' is not defined\":\n",
    "        print(\"Colega no has definido la variable\")\n",
    "    elif e == \"list index out of range\":\n",
    "        print(\"Has puesto una lista de un tamaño ingferrior a la posicion que intentas acceder\")\n",
    "print('BBB')"
   ]
  },
  {
   "cell_type": "markdown",
   "metadata": {},
   "source": [
    "Hay un error en el código, pero no para el programa.\n",
    "\n",
    "Podemos ser un poco más específicos con los errores, y en función del tipo de error que nos de, tomaremos diferentes caminos"
   ]
  },
  {
   "cell_type": "markdown",
   "metadata": {},
   "source": [
    "## 7. Resumen"
   ]
  },
  {
   "cell_type": "code",
   "execution_count": null,
   "metadata": {},
   "outputs": [],
   "source": [
    "# If/elif/else\n",
    "mi_nota_de_examen = 7\n",
    "\n",
    "if mi_nota_de_examen < 5 :\n",
    "    print(\"A septiembre :(\")\n",
    "\n",
    "elif mi_nota_de_examen < 6 :\n",
    "    print(\"Suficiente\")\n",
    "    \n",
    "elif mi_nota_de_examen < 7 :\n",
    "    print(\"Bien\")\n",
    "    \n",
    "elif mi_nota_de_examen < 9 :\n",
    "    print(\"Notable\")\n",
    "    \n",
    "else:\n",
    "    print(\"Sobresaliente\")\n",
    "    \n",
    "    \n",
    "# Bucle for\n",
    "dias_semana = [\"Lunes\", \"Martes\", \"Miércoles\", \"Jueves\", \"Viernes\", \"Sábado\", \"Domingo\"]\n",
    "\n",
    "for dia in dias_semana:\n",
    "    print(dia)\n",
    "    \n",
    "    \n",
    "# Bucle while\n",
    "i = 0\n",
    "\n",
    "while(i < 5):\n",
    "    print(i)\n",
    "    i = i + 1\n",
    "    \n",
    "    \n",
    "# Break y continue\n",
    "for val in \"string\":\n",
    "    if val == \"i\":\n",
    "        break\n",
    "    print(val)\n",
    "\n",
    "print(\"Fin\")\n",
    "\n",
    "\n",
    "# Try/except\n",
    "try:\n",
    "  print(variable_)\n",
    "except:\n",
    "  print(\"El codigo tiene errores porque la variable 'variable_' no existe\")\n",
    "\n",
    "print(\"Continuo con el programa\")"
   ]
  }
 ],
 "metadata": {
  "kernelspec": {
   "display_name": "Python 3.7.9 64-bit",
   "language": "python",
   "name": "python3"
  },
  "language_info": {
   "codemirror_mode": {
    "name": "ipython",
    "version": 3
   },
   "file_extension": ".py",
   "mimetype": "text/x-python",
   "name": "python",
   "nbconvert_exporter": "python",
   "pygments_lexer": "ipython3",
   "version": "3.11.4"
  },
  "vscode": {
   "interpreter": {
    "hash": "ec2a379ed5c25334a484232182c9d38ef8bd9861e2542d0c517568c4f99a9a7c"
   }
  }
 },
 "nbformat": 4,
 "nbformat_minor": 4
}
