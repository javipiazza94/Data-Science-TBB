{
 "cells": [
  {
   "cell_type": "markdown",
   "metadata": {},
   "source": [
    "# Test Ramp Up Data Science Part Time Sevilla 09 2023"
   ]
  },
  {
   "cell_type": "code",
   "execution_count": 3,
   "metadata": {},
   "outputs": [],
   "source": [
    "# Escribe tu nombre y apellidos (apellido si solo tienes uno) en las variables:\n",
    "nombre = \"Javier\"\n",
    "apellidos = \"Puente Piazza\""
   ]
  },
  {
   "cell_type": "code",
   "execution_count": 4,
   "metadata": {},
   "outputs": [
    {
     "name": "stdout",
     "output_type": "stream",
     "text": [
      "Bienvenido Javier Puente Piazza. Mucha suerte!\n"
     ]
    }
   ],
   "source": [
    "# Solo ejecutar\n",
    "nombre_apellidos = nombre + ' ' + apellidos\n",
    "print(\"Bienvenido\", nombre_apellidos + '. Mucha suerte!')"
   ]
  },
  {
   "cell_type": "code",
   "execution_count": 5,
   "metadata": {},
   "outputs": [
    {
     "name": "stdout",
     "output_type": "stream",
     "text": [
      "Antes de comenzar, cambia el nombre de este archivo notebook a Javier_Puente_Piazza.ipynb\n"
     ]
    }
   ],
   "source": [
    "# Solo ejecutar\n",
    "print('Antes de comenzar, cambia el nombre de este archivo notebook a', nombre_apellidos.replace(' ','_') + '.ipynb')"
   ]
  },
  {
   "cell_type": "code",
   "execution_count": null,
   "metadata": {},
   "outputs": [],
   "source": [
    "# Correo electrónico\n",
    "correo_electronico = \"javipiazza94@gmail.com\""
   ]
  },
  {
   "cell_type": "markdown",
   "metadata": {},
   "source": [
    "## Primera parte tipo test (3 puntos):\n",
    "\n",
    "**-->[Enlace al test](https://forms.gle/3cxLpPbetoxXDrvr9)<--**"
   ]
  },
  {
   "cell_type": "markdown",
   "metadata": {},
   "source": [
    "#### Notas y pruebas de apoyo para contestar las preguntas tipo test\n",
    "Esto no es necesario usarlo aunque verlo aquí te puede dar la respuesta a alguna de las preguntas tipo test.\n",
    "\n",
    "Cualquier código aunque no esté correcto nos dirá más de ti que no escribir nada. "
   ]
  },
  {
   "cell_type": "code",
   "execution_count": null,
   "metadata": {},
   "outputs": [],
   "source": [
    "# crea todas las celdas que necesites"
   ]
  },
  {
   "cell_type": "markdown",
   "metadata": {},
   "source": [
    "-----------------"
   ]
  },
  {
   "cell_type": "markdown",
   "metadata": {},
   "source": [
    "## Segunda parte ejercicios prácticos (7 puntos):\n"
   ]
  },
  {
   "cell_type": "code",
   "execution_count": null,
   "metadata": {},
   "outputs": [],
   "source": [
    "# No te olvides de documentar el código para dejar clara la lógica, sobre todo cuando no sale el resultado"
   ]
  },
  {
   "cell_type": "markdown",
   "metadata": {},
   "source": [
    "### Ejercicio 1 (1 punto)\n",
    "En este ejercicio se va a crear una lista con los siguientes elementos. Primero, crearemos las variables que luego añadiremos a la lista. Las variables son las siguientes:\n",
    "\n",
    "1. Crea una variable llamada `edad` de tipo Integer que represente tu edad en años. \n",
    "2. Crea una variable llamada `nombre` de tipo String , que tenga el mismo valor de `nombre_y_apellidos`.\n",
    "3. Crea una variable llamada `altura` con el valor de tu altura en metros de tipo float.\n",
    "4. Crea una variable llamada `s_operativo` de tipo Boolean True si usas Windows y False si usas otro.\n",
    "5. Crea una variable llamada `nada` de tipo None cuyo valor sea None.\n",
    "6. Crea una variable llamada `lista_peliculas` de tipo List que contenga las 5 películas que más te gusten. Cada elemento ha de ser de tipo String.\n",
    "7. Crea una variable llamada `tupla_isla` de tipo Tuple con mínimo tres objetos que te llevarías a una isla desierta.\n",
    "8. Crea una variable llamada `dict_movil` con dos keys y dos values. Una key es `marca`, teniendo como value la marca de tu móvil de tipo String. Otra key es `anio`, teniendo como value el número del año de compra de tipo entero.\n",
    "9. Añade todos estos elementos en una lista llamada `lista_examen` en el orden de aparición.\n",
    "10. Guarda en la variable `lon_lista_examen` la longitud de `lista_examen`."
   ]
  },
  {
   "cell_type": "code",
   "execution_count": 43,
   "metadata": {},
   "outputs": [
    {
     "data": {
      "text/plain": [
       "8"
      ]
     },
     "execution_count": 43,
     "metadata": {},
     "output_type": "execute_result"
    }
   ],
   "source": [
    "edad = 29\n",
    "nombre = \"Javier Puente Piazza\"\n",
    "altura = 1.75\n",
    "s_operativo = True\n",
    "nada = None\n",
    "lista_peliculas = [\"Gladiator\", \"Interestellar\", \"El Padrino\", \"Star Wars el Imperio Contraataca\", \"Atrapalo Como Puedas\"]\n",
    "tupla_isla = (\"cuerdas\", \"navaja\", \"cantimplora\")\n",
    "dict_movil = {\"marca\": \"Samsung\", \"anio\": 2023}\n",
    "lista_examen = [edad, nombre, altura, s_operativo, nada, lista_peliculas, tupla_isla, dict_movil]\n",
    "lon_lista_examen = len(lista_examen)\n",
    "lon_lista_examen"
   ]
  },
  {
   "cell_type": "markdown",
   "id": "ff4becae-86c4-46ab-9e09-3aeec5296700",
   "metadata": {},
   "source": [
    "### Ejercicio 2 (2 puntos)\n",
    "\n",
    "Para resolver este ejercicio necesitarás la lista del ejercicio anterior (`lista_examen`). Se recomienda leer cada punto hasta el final antes de resolver el ejercicio.\n",
    "\n",
    "Se repite para que quede aún más claro: **SOLO USAR LA VARIABLE** `lista_examen`. Usar otra variable se calificará como error.  \n",
    "\n",
    "1. Guardar en las variables, sin uso de funciones (puedes usar print) ni bucles: \n",
    "    - `res21` La primera película favorita\n",
    "    - `res22` El último objeto que te llevarías a una isla.\n",
    "    - `res23` Los 3 primeros caracteres de la marca de tu móvil.\n",
    "    \n",
    "    \n",
    "2. Mostrar por pantalla, con uso de un bucle `for`:\n",
    "    - Las posiciones y elementos de `lista_examen` de las posiciones impares.\n",
    "    - Todos los elementos de `lista_examen` al revés.\n",
    "    - Todos aquellos elementos de las colecciones ordenadas de `lista_examen`.\n",
    "\n",
    "3. Con uso del bucle while, borra las películas por la cola hasta que tengas 2 películas y guarda esas películas borradas en una nueva lista `pelis_borradas`.\n",
    "\n",
    "\n",
    "    \n",
    "\n",
    "    "
   ]
  },
  {
   "cell_type": "code",
   "execution_count": 3,
   "metadata": {},
   "outputs": [],
   "source": [
    "#1\n",
    "res21 = lista_examen[5][0]\n",
    "res22 = lista_examen[6][2]\n",
    "res23 = lista_examen[7][\"marca\"][4:]\n"
   ]
  },
  {
   "cell_type": "code",
   "execution_count": 44,
   "metadata": {},
   "outputs": [
    {
     "name": "stdout",
     "output_type": "stream",
     "text": [
      "Posición 1 - Elemento: Javier Puente Piazza\n",
      "Posición 3 - Elemento: True\n",
      "Posición 5 - Elemento: ['Gladiator', 'Interestellar', 'El Padrino', 'Star Wars el Imperio Contraataca', 'Atrapalo Como Puedas']\n",
      "Posición 7 - Elemento: {'marca': 'Samsung', 'anio': 2023}\n",
      "\n",
      "Posición 7 - Elemento: {'marca': 'Samsung', 'anio': 2023}\n",
      "Posición 6 - Elemento: ('cuerdas', 'navaja', 'cantimplora')\n",
      "Posición 5 - Elemento: ['Gladiator', 'Interestellar', 'El Padrino', 'Star Wars el Imperio Contraataca', 'Atrapalo Como Puedas']\n",
      "Posición 4 - Elemento: None\n",
      "Posición 3 - Elemento: True\n",
      "Posición 2 - Elemento: 1.75\n",
      "Posición 1 - Elemento: Javier Puente Piazza\n",
      "Posición 0 - Elemento: 29\n",
      "\n",
      "Posición 5 - Elemento: ['Gladiator', 'Interestellar', 'El Padrino', 'Star Wars el Imperio Contraataca', 'Atrapalo Como Puedas']\n",
      "Posición 6 - Elemento: ('cuerdas', 'navaja', 'cantimplora')\n",
      "Posición 7 - Elemento: {'marca': 'Samsung', 'anio': 2023}\n"
     ]
    }
   ],
   "source": [
    "#2\n",
    "for i, elemento in enumerate(lista_examen):\n",
    "    if i % 2 != 0:  # Si el índice es impar\n",
    "        print(f\"Posición {i} - Elemento: {elemento}\")\n",
    "        \n",
    "#########################################################    \n",
    "print()\n",
    "\n",
    "for i, elemento in reversed(list(enumerate(lista_examen))):\n",
    "        print(f\"Posición {i} - Elemento: {elemento}\")\n",
    "\n",
    "#########################################################    \n",
    "print()\n",
    "for i, elemento in enumerate(lista_examen):\n",
    "    if type (elemento) in (tuple, dict, list): #Vemos si los elementos de los indices son tuplas, listas o diccionarios (colecciones)\n",
    "        print(f\"Posición {i} - Elemento: {elemento}\")"
   ]
  },
  {
   "cell_type": "code",
   "execution_count": 45,
   "metadata": {},
   "outputs": [
    {
     "name": "stdout",
     "output_type": "stream",
     "text": [
      "['Gladiator', 'Interestellar']\n"
     ]
    },
    {
     "data": {
      "text/plain": [
       "['El Padrino', 'Star Wars el Imperio Contraataca', 'Atrapalo Como Puedas']"
      ]
     },
     "execution_count": 45,
     "metadata": {},
     "output_type": "execute_result"
    }
   ],
   "source": [
    "pelis_borradas = lista_examen[5][2:]\n",
    "while len(lista_peliculas)>2:\n",
    "    lista_peliculas.pop()\n",
    "    \n",
    "print(lista_peliculas)\n",
    "pelis_borradas #No quiere imprimirla, pero en un modulo aparte lo hace"
   ]
  },
  {
   "cell_type": "markdown",
   "metadata": {},
   "source": [
    "### Ejercicio 3 (2 puntos)\n",
    "\n",
    "#### Crear un programa que calcule la cuota de una hipoteca\n",
    "\n",
    "Las cuotas hipotecarias se calculan utilizando la fórmula del interés frances. \n",
    "\n",
    "La formula del interés frances es la siguiente:\n",
    "\\begin{align*}\n",
    "C=V \\frac{(1+i)^n i}{(1+i)^n -1}\n",
    "\\end{align*}\n",
    "\n",
    "\n",
    "    C = cuota a pagar (mensual)\n",
    "    V = volumen del préstamo hipotecario\n",
    "    i = tipo de interés del período (mensual)\n",
    "    n = número de cuotas (mensuales)\n",
    "\n",
    "1. Crea un programa que solicite al usuario los datos de su hipoteca mediante input() los datos (volumen, interés **anual**, y plazo en **años**) y le devuelva la cuota **mensual** a pagar. No es necesario encapsularlo en funciones.\n",
    "\n",
    "2. Crea una función `calculadora_hip` que realiza el cálculo y cuyos argumentos de entrada sean `volumen`, `interes_anual` y `anios`, devolviendo la couta mensual.\n",
    "3. Calcula la cuota y guárdala en la variable `res_cuota` si la cantidad de la hipoteca son 300000 euros, el interés anual es del 4% y la quiere pagar en 25 años a partir de la función `calculadora_hip`.\n",
    "4. Crea una función `gasto_vivienda` que utilice la función `calculadora_hip` y que tenga dos argumentos de entrada `ingreso` y `lista_hip`. Esta lista tendrá los valores de los argumentos de entrada de `calculadora_hip`. Tiene que devolver el valor del porcentaje de gasto en la hipoteca respecto a los ingresos. (Entre 0 y 1, es decir 0.5 si es del 50%)\n",
    "5. Calcula el porcentaje de gasto en la hipoteca si el ingreso es de 1800 euros y guárdalo en la variable `res_porcentaje`.\n",
    "6. Documenta ambas funciones con el estilo de Google.\n"
   ]
  },
  {
   "cell_type": "code",
   "execution_count": 7,
   "metadata": {},
   "outputs": [
    {
     "name": "stdout",
     "output_type": "stream",
     "text": [
      "La cuota mensual del préstamo es: 2300.68\n"
     ]
    }
   ],
   "source": [
    "#1\n",
    "\n",
    "volumen = int(input('Introduzca el volumen del préstamo: '))\n",
    "interes_anual = float(input('Introduzca el interés anual del préstamo (en porcentaje): '))\n",
    "plazos_anios = int(input('Introduzca el plazo en años del préstamo: '))\n",
    "\n",
    "interes_mensual = interes_anual / (12 * 100)  # Convierte la tasa de interés anual a mensual y en decimal\n",
    "n = plazos_anios * 12  # Convierte el plazo en años a meses\n",
    "\n",
    "cuota = volumen * ((interes_mensual * (1 + interes_mensual) ** n) / ((1 + interes_mensual) ** n - 1)) #La formula del interes frances\n",
    "\n",
    "print(f'La cuota mensual del préstamo es: {cuota:.2f}')\n"
   ]
  },
  {
   "cell_type": "code",
   "execution_count": 8,
   "metadata": {},
   "outputs": [
    {
     "data": {
      "text/plain": [
       "1610.46"
      ]
     },
     "execution_count": 8,
     "metadata": {},
     "output_type": "execute_result"
    }
   ],
   "source": [
    "#2\n",
    "def calculadora_hip(volumen: int, interes_anual: float, anios: int):\n",
    "    interes_mensual = interes_anual / (12 * 100)  # Convierte la tasa de interés anual a mensual y en decimal\n",
    "    n = anios * 12  # Convierte el plazo en años a meses\n",
    "    cuota = volumen * ((interes_mensual * (1 + interes_mensual) ** n) / ((1 + interes_mensual) ** n - 1)) #La formula del interes frances\n",
    "    return  round(cuota, 2)\n",
    "\n",
    "x = calculadora_hip(300000, 5, 30)\n",
    "x"
   ]
  },
  {
   "cell_type": "code",
   "execution_count": 9,
   "metadata": {},
   "outputs": [
    {
     "data": {
      "text/plain": [
       "1583.51"
      ]
     },
     "execution_count": 9,
     "metadata": {},
     "output_type": "execute_result"
    }
   ],
   "source": [
    "#3\n",
    "res_cuota = calculadora_hip(300000, 4, 25)\n",
    "res_cuota\n"
   ]
  },
  {
   "cell_type": "code",
   "execution_count": 10,
   "metadata": {},
   "outputs": [
    {
     "data": {
      "text/plain": [
       "0.53"
      ]
     },
     "execution_count": 10,
     "metadata": {},
     "output_type": "execute_result"
    }
   ],
   "source": [
    "#4\n",
    "def gasto_vivienda(ingreso: int, lista_hip: list[:3]):\n",
    "    cuota_hipoteca = calculadora_hip(*lista_hip)\n",
    "    porcentaje_gasto_vivienda = (cuota_hipoteca / ingreso)\n",
    "    return round(porcentaje_gasto_vivienda, 2)\n",
    "\n",
    "x = gasto_vivienda(3000, (300000, 4, 25))\n",
    "x\n",
    "    "
   ]
  },
  {
   "cell_type": "code",
   "execution_count": 11,
   "metadata": {},
   "outputs": [
    {
     "data": {
      "text/plain": [
       "0.88"
      ]
     },
     "execution_count": 11,
     "metadata": {},
     "output_type": "execute_result"
    }
   ],
   "source": [
    "#5\n",
    "res_porcentaje = gasto_vivienda(1800, (300000, 4, 25))\n",
    "res_porcentaje"
   ]
  },
  {
   "cell_type": "code",
   "execution_count": null,
   "metadata": {},
   "outputs": [],
   "source": [
    "#6\n",
    "def calculadora_hip(volumen: int, interes_anual: float, anios: int) -> float:\n",
    "    \"\"\"\n",
    "    Calcula la cuota mensual de un préstamo hipotecario utilizando la fórmula del sistema de amortización francés.\n",
    "\n",
    "    Args:\n",
    "        volumen (int): El volumen del préstamo hipotecario.\n",
    "        interes_anual (float): La tasa de interés anual expresada en porcentaje.\n",
    "        anios (int): El plazo del préstamo en años.\n",
    "\n",
    "    Returns:\n",
    "        float: La cuota mensual resultante del préstamo.\n",
    "\n",
    "    Examples:\n",
    "        >>> calculadora_hip(100000, 5.0, 30)\n",
    "        536.82\n",
    "    \"\"\"\n",
    "    interes_mensual = interes_anual / (12 * 100)  # Convierte la tasa de interés anual a mensual y en decimal\n",
    "    n = anios * 12  # Convierte el plazo en años a meses\n",
    "    cuota = volumen * ((interes_mensual * (1 + interes_mensual) ** n) / ((1 + interes_mensual) ** n - 1)) #La formula del interes frances\n",
    "    return round(cuota, 2)\n",
    "\n",
    "\n",
    "\n",
    "def gasto_vivienda(ingreso: int, lista_hip: list[3:]) -> float:\n",
    "    \"\"\"\n",
    "    Calcula la cuota del ingreso que se destina al gasto en vivienda basado en una lista de valores hipotecarios expresada de 0 a 1.\n",
    "\n",
    "    Args:\n",
    "        ingreso (int): El ingreso mensual del individuo.\n",
    "        lista_hip (list): Una lista que contiene información sobre la hipoteca, limitada a 3 elementos, que debe incluir:\n",
    "            - El volumen del préstamo hipotecario.\n",
    "            - La tasa de interés anual expresada en porcentaje.\n",
    "            - El plazo del préstamo en años.\n",
    "\n",
    "    Returns:\n",
    "        float: El porcentaje del ingreso mensual destinado al gasto en vivienda.\n",
    "\n",
    "    Examples:\n",
    "        >>> gasto_vivienda(5000, [100000, 5.0, 30])\n",
    "        10.74\n",
    "    \"\"\"\n",
    "    cuota_hipoteca = calculadora_hip(*lista_hip)\n",
    "    porcentaje_gasto_vivienda = (cuota_hipoteca / ingreso)\n",
    "    return round(porcentaje_gasto_vivienda, 2)\n"
   ]
  },
  {
   "cell_type": "markdown",
   "metadata": {},
   "source": [
    "### Ejercicio 4 (2 puntos)\n",
    "\n",
    "1. Crea una clase `Humano` que tenga 1 atributo general `mamifero`(bool) y 4 atributos en el constructor: `ojos`(int default 2), `edad`(int), `altura`(float) y `nombre`(str). Además, debe contar con dos métodos: \n",
    "\n",
    "- `cumplir_edad`: al llamar a este método se debe sumar 1 al atributo edad del humano y que retorne \"Felices x años!\" con la edad actualizada. Si cumple 80, su altura pasará a ser el 90% de su altura original.\n",
    "- `registro_nombre` que recibe parametro `nuevo_nombre`: al llamar a esta función con un parámetro de entrada, este método debe cambiar el nombre del humano por el `nuevo_nombre` y sin retornar nada\n",
    "\n",
    "2. (a partir de la variable **`lista_examen`**) Crea un humano instanciandolo en el objeto `humano_1` llamado \"Manuel\" que tiene el doble de tu de edad y mide 10 centímetros menos que tu altura.\n",
    "\n",
    "3. Crea un humano instanciandolo en el objeto `humano_2` llamado \"Cojoncio\" con la misma edad y altura de Manuel. A \"Cojoncio\" nunca le gustó su nombre. Por eso, usa el método correspondiente para cambiarse su nombre por \"Goku\". Haz que cumpla hasta los 80 si no los tiene ya. Comprueba que se han actualizado sus atributos de `edad` y `altura`. \n",
    "\n",
    "4. Documenta la clase como hemos aprendido\n"
   ]
  },
  {
   "cell_type": "code",
   "execution_count": 20,
   "metadata": {},
   "outputs": [],
   "source": [
    "#1\n",
    "class Humano:\n",
    "    mamifero = True\n",
    "    \n",
    "    def __init__(self, edad: int, altura: float, nombre: str, ojos: int = 2):\n",
    "        self.edad = edad\n",
    "        self.altura = altura\n",
    "        self.nombre = nombre\n",
    "        self.ojos = ojos\n",
    "\n",
    "    def cumplir_edad(self):\n",
    "        if self.edad==80:\n",
    "            self.altura -= self.altura*0.1\n",
    "            return f'Felices {self.edad+1} años!'\n",
    "        self.edad = self.edad+1\n",
    "        return f'Felices {self.edad+1} años!' \n",
    "    \n",
    "    def registro_nombre(self, nuevo_nombre:str):\n",
    "        self.nombre=nuevo_nombre\n",
    "    "
   ]
  },
  {
   "cell_type": "code",
   "execution_count": 21,
   "metadata": {},
   "outputs": [
    {
     "name": "stdout",
     "output_type": "stream",
     "text": [
      "58\n",
      "1.575\n"
     ]
    }
   ],
   "source": [
    "#2\n",
    "lista = lista_examen\n",
    "\n",
    "#Le añadimos los parámetros según la lista_examen\n",
    "humano_1 = Humano(lista[0]*2, lista[2]-lista[2]*0.1, 'Manuel', 2)\n",
    "print(humano_1.edad)\n",
    "print(humano_1.altura)\n",
    "\n"
   ]
  },
  {
   "cell_type": "code",
   "execution_count": 39,
   "metadata": {},
   "outputs": [
    {
     "name": "stdout",
     "output_type": "stream",
     "text": [
      "Goku\n",
      "Felices 60 años!\n",
      "1.575\n",
      "Felices 62 años!\n",
      "1.575\n",
      "Felices 64 años!\n",
      "1.575\n",
      "Felices 66 años!\n",
      "1.575\n",
      "Felices 68 años!\n",
      "1.575\n",
      "Felices 70 años!\n",
      "1.575\n",
      "Felices 72 años!\n",
      "1.575\n",
      "Felices 74 años!\n",
      "1.575\n",
      "Felices 76 años!\n",
      "1.575\n",
      "Felices 78 años!\n",
      "1.575\n",
      "Felices 80 años!\n",
      "1.575\n",
      "Felices 81 años!\n",
      "1.4175\n"
     ]
    },
    {
     "data": {
      "text/plain": [
       "1.4175"
      ]
     },
     "execution_count": 39,
     "metadata": {},
     "output_type": "execute_result"
    }
   ],
   "source": [
    "#3 \n",
    "humano_2 = Humano(lista[0]*2, lista[2]-lista[2]*0.1, 'Cojoncio', 2)\n",
    "\n",
    "#Le cambiamos el nombre\n",
    "humano_2.registro_nombre(\"Goku\")\n",
    "print(humano_2.nombre)\n",
    "\n",
    "#Le hacemos cumplir la edad 22 veces hasta llegar a 80 mediante un bucle while (el famoso bucle infinito que me peto el PC)\n",
    "while humano_2.edad < 81:\n",
    "    print(humano_2.cumplir_edad()) \n",
    "    print(humano_2.altura)\n",
    "    humano_2.edad += 1\n",
    "    \n",
    "humano_2.altura\n"
   ]
  },
  {
   "cell_type": "code",
   "execution_count": 149,
   "metadata": {},
   "outputs": [],
   "source": [
    "#4 \n",
    "class Humano:\n",
    "    \"\"\"\n",
    "    Clase que representa a un ser humano.\n",
    "\n",
    "    Attributes:\n",
    "        mamifero (bool): Indica si los humanos son mamíferos (siempre True).\n",
    "        edad (int): La edad del humano.\n",
    "        altura (float): La altura del humano en metros.\n",
    "        nombre (str): El nombre del humano.\n",
    "        ojos (int): La cantidad de ojos del humano (predeterminado: 2).\n",
    "\n",
    "    Methods:\n",
    "        cumplir_edad(): Aumenta la edad del humano en 1. Si la edad es 79, reduce la altura en un 10%.\n",
    "        registro_nombre(nuevo_nombre: str): Cambia el nombre del humano por el nuevo nombre proporcionado.\n",
    "\n",
    "    \"\"\"\n",
    "    mamifero = True\n",
    "    \n",
    "    def __init__(self, edad: int, altura: float, nombre: str, ojos: int = 2):\n",
    "        \"\"\"\n",
    "        Inicializa una instancia de la clase Humano.\n",
    "\n",
    "        Args:\n",
    "            edad (int): La edad del humano.\n",
    "            altura (float): La altura del humano en metros.\n",
    "            nombre (str): El nombre del humano.\n",
    "            ojos (int): La cantidad de ojos del humano (predeterminado: 2).\n",
    "        \"\"\"\n",
    "        self.edad = edad\n",
    "        self.altura = altura\n",
    "        self.nombre = nombre\n",
    "        self.ojos = ojos\n",
    "\n",
    "    def cumplir_edad(self) -> str:\n",
    "        \"\"\"\n",
    "        Aumenta la edad del humano en 1. Si la edad es 80, reduce la altura en un 10%.\n",
    "\n",
    "        Returns:\n",
    "            str: Un mensaje de felicitación por cumplir años.\n",
    "        \"\"\"\n",
    "        if self.edad == 80:\n",
    "            self.altura -= self.altura * 0.1\n",
    "            return f'Felices {self.edad + 1} años!'\n",
    "        self.edad = self.edad+1\n",
    "        return f'Felices {self.edad + 1} años!'\n",
    "\n",
    "    def registro_nombre(self, nuevo_nombre: str):\n",
    "        \"\"\"\n",
    "        Cambia el nombre del humano por el nuevo nombre proporcionado por parámetros.\n",
    "\n",
    "        Args:\n",
    "            nuevo_nombre (str): El nuevo nombre del humano.\n",
    "        \"\"\"\n",
    "        self.nombre = nuevo_nombre\n"
   ]
  },
  {
   "cell_type": "markdown",
   "metadata": {},
   "source": [
    "¡Has terminado!"
   ]
  }
 ],
 "metadata": {
  "kernelspec": {
   "display_name": "Python 3.7.9 64-bit",
   "language": "python",
   "name": "python3"
  },
  "language_info": {
   "codemirror_mode": {
    "name": "ipython",
    "version": 3
   },
   "file_extension": ".py",
   "mimetype": "text/x-python",
   "name": "python",
   "nbconvert_exporter": "python",
   "pygments_lexer": "ipython3",
   "version": "3.11.4"
  },
  "orig_nbformat": 4,
  "vscode": {
   "interpreter": {
    "hash": "ec2a379ed5c25334a484232182c9d38ef8bd9861e2542d0c517568c4f99a9a7c"
   }
  }
 },
 "nbformat": 4,
 "nbformat_minor": 2
}
