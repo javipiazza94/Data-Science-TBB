{
 "cells": [
  {
   "cell_type": "markdown",
   "id": "d73f4f73-0d09-4d2d-ab2b-13bc9c32e74f",
   "metadata": {},
   "source": [
    "# Ejercicios Repaso 1"
   ]
  },
  {
   "cell_type": "markdown",
   "id": "f5a48975-c6eb-43e7-9fe3-53ea7f630331",
   "metadata": {},
   "source": [
    "## Ej 1: \n",
    "\n",
    "Crea una función que cree una matriz de valores,\n",
    "- Recibiendo por parámetros la dimensión, en forma de tupla;\n",
    "- El valor con el que tendrá toda la matriz por defecto.\n",
    "- Habrá otro argumento, que será una lista de tuplas, que permitirá pintar los valores de la matriz por columnas\n",
    "- Un último argumento, controlará con un booleano si la matriz es simétrica o no, en ese caso, nos bastará con introducir en las tuplas solo los valores de uno de los lados y la función deberá ponerlos repetidos en ambos sitios\n",
    "- En el caso de ser simétrica y tener un valor por defecto, debería rellenar toda la diagonal superior con ceros "
   ]
  },
  {
   "cell_type": "code",
   "execution_count": 2,
   "id": "3f181be4-95a2-40f4-9b0b-5f8cb7d66296",
   "metadata": {},
   "outputs": [
    {
     "data": {
      "text/plain": [
       "[[1, 1, 1, 1, 1, 1, 1, 1, 1, 1, 1],\n",
       " [2, 2, 2, 2, 2, 2, 2, 2, 2, 2, 2],\n",
       " [3, 3, 3, 3, 3, 3, 3, 3, 3, 3, 3],\n",
       " [4, 4, 4, 4, 4, 4, 4, 4, 4, 4, 4],\n",
       " [5, 5, 5, 5, 5, 5, 5, 5, 5, 5, 5],\n",
       " [6, 6, 6, 6, 6, 6, 6, 6, 6, 6, 6],\n",
       " [7, 7, 7, 7, 7, 7, 7, 7, 7, 7, 7],\n",
       " [8, 8, 8, 8, 8, 8, 8, 8, 8, 8, 8],\n",
       " [9, 9, 9, 9, 9, 9, 9, 9, 9, 9, 9],\n",
       " [10, 10, 10, 10, 10, 10, 10, 10, 10, 10, 10]]"
      ]
     },
     "execution_count": 2,
     "metadata": {},
     "output_type": "execute_result"
    }
   ],
   "source": [
    "filas = 10\n",
    "columnas = 11\n",
    "valores_por_columna = [(1, 2, 3, 4, 5, 6, 7, 8, 9, 10, 11)]*columnas  # Ejemplo de lista de tuplas y creamos segun el numero de columnas\n",
    "\n",
    "def matriz_rellena(dimension=(filas, columnas), valor_por_defecto=1, valores_por_columna=None, simetrica=False):\n",
    "    filas, columnas = dimension  # Desempaquetamos la dimensión\n",
    "    matriz = [[valor_por_defecto for _ in range(columnas)] for _ in range(filas)]\n",
    "    \n",
    "    #Creamos 11 tuplas para añadir sus valores a la matriz\n",
    "   # valores_por_columna*=columnas\n",
    "\n",
    "    #Añadimos los valores si no son None\n",
    "    if valores_por_columna is not None:\n",
    "        if len(valores_por_columna) != columnas:\n",
    "            raise ValueError(\"La longitud de valores_por_columna debe ser igual al número de columnas.\")\n",
    "        for j in range(columnas):\n",
    "            for i in range(filas):\n",
    "                matriz[i][j] = valores_por_columna[j][i]\n",
    "                \n",
    "    #Comprobamos si es simetrica       \n",
    "    if filas==columnas:\n",
    "        simetrica = True\n",
    "        \n",
    "    #Si es simetrica y tiene un valor por defecto rellena una diagonal superior con ceros\n",
    "    if simetrica == True and valor_por_defecto is not None:\n",
    "        for i in range(min(filas, columnas)):\n",
    "            matriz[i][i] = 0\n",
    "    \n",
    "    return matriz\n",
    "\n",
    "matriz = matriz_rellena((filas, columnas), valores_por_columna=valores_por_columna)\n",
    "matriz\n"
   ]
  },
  {
   "cell_type": "code",
   "execution_count": 3,
   "id": "36b4abbf-a735-4dc4-90ff-b45f06f741fc",
   "metadata": {},
   "outputs": [
    {
     "data": {
      "text/plain": [
       "[[1, 1, 1, 1, 1, 1, 1, 1, 1, 1, 1],\n",
       " [1, 1, 1, 1, 1, 1, 1, 1, 1, 1, 1],\n",
       " [1, 1, 1, 1, 1, 1, 1, 1, 1, 1, 1],\n",
       " [1, 1, 1, 1, 1, 1, 1, 1, 1, 1, 1],\n",
       " [1, 1, 1, 1, 1, 1, 1, 1, 1, 1, 1],\n",
       " [1, 1, 1, 1, 1, 1, 1, 1, 1, 1, 1],\n",
       " [1, 1, 1, 1, 1, 1, 1, 1, 1, 1, 1],\n",
       " [1, 1, 1, 1, 1, 1, 1, 1, 1, 1, 1],\n",
       " [1, 1, 1, 1, 1, 1, 1, 1, 1, 1, 1],\n",
       " [1, 1, 1, 1, 1, 1, 1, 1, 1, 1, 1]]"
      ]
     },
     "execution_count": 3,
     "metadata": {},
     "output_type": "execute_result"
    }
   ],
   "source": [
    "matriz_rellena()"
   ]
  },
  {
   "cell_type": "code",
   "execution_count": 33,
   "id": "d541b4d7-7360-4f63-adbb-e00425b5a6ef",
   "metadata": {},
   "outputs": [
    {
     "data": {
      "text/plain": [
       "[['TBS', 'TBS'], ['TBS', 'TBS'], ['TBS', 'TBS'], ['TBS', 'TBS']]"
      ]
     },
     "execution_count": 33,
     "metadata": {},
     "output_type": "execute_result"
    }
   ],
   "source": [
    "matriz_rellena((4,2), 'TBS')"
   ]
  },
  {
   "cell_type": "markdown",
   "id": "821c0192-2795-4aef-8b4b-0b9581791f5b",
   "metadata": {},
   "source": [
    "## Ej 2:\n",
    "\n",
    "Crea una función que realize operaciones matemáticas como una calculadora. Esta función recibe por parametros una tupla, que tiene 3 elementos en su interior: su operando, y dos números.\n",
    "En caso de ser una división, debemos sacar tanto el resto como el cociente.\n",
    "\n",
    "Ej: \n",
    "\n",
    "```python\n",
    "('+',5,3) ==> 8  \n",
    "('-',5,3) ==> 2  \n",
    "('*',5,3) ==> 15  \n",
    "('/',5,3) ==> 1.66666\n",
    " ```"
   ]
  },
  {
   "cell_type": "code",
   "execution_count": 25,
   "id": "c7525381-0bee-42fc-a1e6-3d0c6c3c732f",
   "metadata": {},
   "outputs": [],
   "source": [
    "def calculadora(operacion:tuple[:3]):\n",
    "    resultado = 0\n",
    "    division = 0\n",
    "    resto = 0\n",
    "    resultado_division = ()\n",
    "    for op in operacion:\n",
    "        if op=='+':\n",
    "           resultado += operacion[1] + operacion[2]\n",
    "        elif op=='-':\n",
    "           resultado += operacion[1] - operacion[2] \n",
    "        elif op=='*':\n",
    "           resultado += operacion[1] * operacion[2] \n",
    "        elif op=='/':\n",
    "           division += operacion[1] / operacion[2]  \n",
    "           resto += operacion[1] % operacion[2] \n",
    "           resultado_division += (division, resto)\n",
    "        else:\n",
    "            f'La operacion entre {operacion[1]} y {operacion[2]} no se puede efectuar porque el operador es invalido'\n",
    "         \n",
    "    return resultado or resultado_division"
   ]
  },
  {
   "cell_type": "code",
   "execution_count": 20,
   "id": "e93b6408-eb00-454a-a003-37ab5a67b93f",
   "metadata": {},
   "outputs": [
    {
     "data": {
      "text/plain": [
       "2"
      ]
     },
     "execution_count": 20,
     "metadata": {},
     "output_type": "execute_result"
    }
   ],
   "source": [
    "calculadora(('+',1,1))"
   ]
  },
  {
   "cell_type": "code",
   "execution_count": 21,
   "id": "503c6279-637c-481d-b298-d8587e7d380c",
   "metadata": {},
   "outputs": [
    {
     "data": {
      "text/plain": [
       "16"
      ]
     },
     "execution_count": 21,
     "metadata": {},
     "output_type": "execute_result"
    }
   ],
   "source": [
    "calculadora(('*',2,8))"
   ]
  },
  {
   "cell_type": "code",
   "execution_count": 26,
   "id": "9cc76a3c-fa99-41ff-8487-962c9aa0b6b8",
   "metadata": {},
   "outputs": [
    {
     "data": {
      "text/plain": [
       "(50.0, 0)"
      ]
     },
     "execution_count": 26,
     "metadata": {},
     "output_type": "execute_result"
    }
   ],
   "source": [
    "calculadora(('/',250,5))"
   ]
  }
 ],
 "metadata": {
  "kernelspec": {
   "display_name": "Python 3 (ipykernel)",
   "language": "python",
   "name": "python3"
  },
  "language_info": {
   "codemirror_mode": {
    "name": "ipython",
    "version": 3
   },
   "file_extension": ".py",
   "mimetype": "text/x-python",
   "name": "python",
   "nbconvert_exporter": "python",
   "pygments_lexer": "ipython3",
   "version": "3.11.4"
  },
  "vscode": {
   "interpreter": {
    "hash": "31f2aee4e71d21fbe5cf8b01ff0e069b9275f58929596ceb00d14d90e3e16cd6"
   }
  }
 },
 "nbformat": 4,
 "nbformat_minor": 5
}
