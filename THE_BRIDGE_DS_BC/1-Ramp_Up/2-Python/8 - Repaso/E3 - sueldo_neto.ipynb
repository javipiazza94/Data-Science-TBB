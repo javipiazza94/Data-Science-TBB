{
 "cells": [
  {
   "cell_type": "markdown",
   "metadata": {},
   "source": [
    "# Calculadora sueldo neto\n",
    "\n",
    "En este ejercicio hay que diseñar una función llamada `sueldo_neto_mensual()` que recibe como parametro el sueldo bruto anual de un empleado, y devuelve el sueldo neto mensual.\n",
    "\n",
    "Como se calcula el sueldo neto?\n",
    "\n",
    "En todas las nóminas se pagan una serie de cosas al estado, como son:\n",
    "- IRPF: Depende del sueldo bruto total.\n",
    "- Desempleo: 1,55% del sueldo bruto total.\n",
    "- Contigencias Comunes: 4,7% del sueldo bruto total\n",
    "- Formación profesional: 0,1% del sueldo bruto total. \n",
    "\n",
    "Todos esos elementos se __RESTAN__ del total, y así obtienes el sueldo neto.\n",
    "\n",
    "En la siguiente sección verás un ejemplo de como calcular la cantidad exacta de IRPF que hay que pagar. "
   ]
  },
  {
   "cell_type": "markdown",
   "metadata": {},
   "source": [
    "## Cálculo del IRPF \n",
    "\n",
    "El cálculo del IRPF en la Hacienda española se define como progresivo. Hacienda divide los ingresos (tu renta) en tramos y asigna un porcentaje a pagar en cada uno de ellos. Estos tramos son los siguientes:\n",
    "\n",
    "| Tramos IRPF 2021       | Tipos a aplicar |\n",
    "|:-----------------------|:---------------:|\n",
    "| Desde 0 hasta 12.450€  | 19%             |\n",
    "| De 12.450€ a 20.200€   | 24%             |\n",
    "| De 20.200€ a 35.200€   | 30%             |\n",
    "| De 35.200€ en adelante | 37%             |\n",
    "\n",
    "Por ejemplo, para una persona con una renta de 65.000€, el cálculo del impuesto se haría así:\n",
    "\n",
    "\n",
    "- Primer tramo IRPF: se paga el 19% de 12.450 euros, es decir, 2.365,5 euros\n",
    "- Segundo tramo IRPF: se paga el 24% de 7.750 euros (la diferencia entre el primer y segundo tramo), es decir, 1.860 euros.\n",
    "- Tercer tramo IRPF: se paga el 30% de 15.000 euros (la diferencia entre el segundo y tercer tramo), es decir, 4.500 euros.\n",
    "- Cuarto tramo IRPF: se paga el 37% de 29.800 euros (la diferencia entre su renta y el límite del tercer tramo), es decir, 11.026 euros.\n",
    "\n",
    "La suma de las anteriores cantidades es el total a pagar: 19.751,5 euros.\n"
   ]
  },
  {
   "cell_type": "markdown",
   "metadata": {},
   "source": [
    "# Tu código\n",
    "\n",
    "Consejo: Para el calculo del IRPF, te recomiendo separarlo en otra función. \n",
    "\n",
    "Consejo: Haz primero el cálculo a papel.\n",
    "\n",
    "La solución es aproximada, no te preocupes si los números no son exactamente idénticos."
   ]
  },
  {
   "cell_type": "code",
   "execution_count": 7,
   "metadata": {},
   "outputs": [
    {
     "data": {
      "text/plain": [
       "33084.64"
      ]
     },
     "execution_count": 7,
     "metadata": {},
     "output_type": "execute_result"
    }
   ],
   "source": [
    "def calcular_IRPF(sueldo_bruto_anual):\n",
    "    irpf = 0\n",
    "\n",
    "    # Calcula el IRPF en función de tramos de ingresos anuales.\n",
    "    if sueldo_bruto_anual <= 12750:\n",
    "        irpf = sueldo_bruto_anual * 0.19\n",
    "    elif sueldo_bruto_anual <= 20200:\n",
    "        irpf = 12750 * 0.19 + (sueldo_bruto_anual - 12750) * 0.24\n",
    "    elif sueldo_bruto_anual <= 35200:\n",
    "        irpf = 12750 * 0.19 + 7475 * 0.24 + (sueldo_bruto_anual - 20200) * 0.30\n",
    "    elif sueldo_bruto_anual <= 60000:\n",
    "        irpf = 12750 * 0.19 + 7475 * 0.24 + 15000 * 0.30 + (sueldo_bruto_anual - 35200) * 0.37\n",
    "    elif sueldo_bruto_anual <= 300000:\n",
    "        irpf = 12750 * 0.19 + 7475 * 0.24 + 15000 * 0.30 + 24750 * 0.37 + (sueldo_bruto_anual - 60000) * 0.45\n",
    "    else:\n",
    "        irpf = 12750 * 0.19 + 7475 * 0.24 + 15000 * 0.30 + 24750 * 0.37 + 240000 * 0.45 + (sueldo_bruto_anual - 300000) * 0.47\n",
    "\n",
    "    # Retorna el sueldo bruto anual menos el IRPF calculado.\n",
    "    return sueldo_bruto_anual - irpf\n",
    "\n",
    "# Ejemplo de uso: Calcula el sueldo neto anual para un sueldo bruto anual de 45678.\n",
    "x = calcular_IRPF(45678)\n",
    "\n",
    "x"
   ]
  },
  {
   "cell_type": "code",
   "execution_count": 6,
   "metadata": {},
   "outputs": [
    {
     "data": {
      "text/plain": [
       "2126.6417857142856"
      ]
     },
     "execution_count": 6,
     "metadata": {},
     "output_type": "execute_result"
    }
   ],
   "source": [
    "def sueldo_neto_mensual(sueldo_bruto_anual):\n",
    "    # Calcula la contribución al desempleo, contingencias comunes y formación profesional.\n",
    "    Desempleo = sueldo_bruto_anual * 0.0155\n",
    "    Contingencias_comunes = sueldo_bruto_anual * 0.047\n",
    "    Formación_profesional = sueldo_bruto_anual * 0.01\n",
    "\n",
    "    # Calcula el sueldo neto anual restando las contribuciones y aplicando el cálculo del IRPF.\n",
    "    sueldo_neto_anual = calcular_IRPF(sueldo_bruto_anual) - Desempleo - Contingencias_comunes - Formación_profesional\n",
    "\n",
    "    # Divide el sueldo neto anual por 14 para obtener el sueldo neto mensual.\n",
    "    sueldo_neto_mensual = sueldo_neto_anual / 14\n",
    "\n",
    "    return sueldo_neto_mensual\n",
    "\n",
    "# Ejemplo de uso: Calcula el sueldo neto mensual para un sueldo bruto anual de 45678.\n",
    "x = sueldo_neto_mensual(45678)\n",
    "x"
   ]
  }
 ],
 "metadata": {
  "kernelspec": {
   "display_name": "Python 3 (ipykernel)",
   "language": "python",
   "name": "python3"
  },
  "language_info": {
   "codemirror_mode": {
    "name": "ipython",
    "version": 3
   },
   "file_extension": ".py",
   "mimetype": "text/x-python",
   "name": "python",
   "nbconvert_exporter": "python",
   "pygments_lexer": "ipython3",
   "version": "3.11.4"
  },
  "vscode": {
   "interpreter": {
    "hash": "31f2aee4e71d21fbe5cf8b01ff0e069b9275f58929596ceb00d14d90e3e16cd6"
   }
  }
 },
 "nbformat": 4,
 "nbformat_minor": 2
}
