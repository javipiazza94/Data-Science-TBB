{
 "cells": [
  {
   "cell_type": "markdown",
   "metadata": {},
   "source": [
    "## Juego del Ahorcado\n",
    "El funcionamiento es que vaya mostrando por pantalla ```_ _ _ _ _``` las rayas bajas correspondientes al número de letras que tiene la palabra a adivinar. El usuario deberá insertar una letra y, si esa letra existe, se mostrará o mostrarán las letras acertadas ```S _ S _ _```. \n",
    "\n",
    "Si falla, se mostrará el número de errores que lleva y, si lleva 6 errores, entonces se mostrará \"Fin del juego\".\n",
    "Encapsúlalo en una función."
   ]
  },
  {
   "cell_type": "markdown",
   "metadata": {},
   "source": [
    "### Encapsular en una función"
   ]
  },
  {
   "cell_type": "code",
   "execution_count": 1,
   "metadata": {},
   "outputs": [],
   "source": [
    "def ahorcado(PalabraSecreta: str):\n",
    "# Pedimos la palabra secreta y calculamos su longitud\n",
    "    NLetrasPalabraSecreta = len(PalabraSecreta)\n",
    "\n",
    "    # Creamos una lista de guiones bajos para representar las letras ocultas. Multiplicamos los espacios por el numero de palabras par crear la sustitucion\n",
    "    PalabraGuiones = ['_'] * NLetrasPalabraSecreta\n",
    "    print(' '.join(PalabraGuiones))  # Imprimimos los guiones separados por espacios\n",
    "\n",
    "    # Inicializamos las variables para el juego\n",
    "    JuegoTerminado = False\n",
    "    intentos = 6\n",
    "    index = NLetrasPalabraSecreta #Variable auxiliar para poder trabajar con ella\n",
    "\n",
    "    # Comenzamos el bucle principal\n",
    "    while not JuegoTerminado:\n",
    "        if index > 0: #Cuando el numero de letras que quedan por adivinar es mayor que cero\n",
    "            print(\"Te quedan\", intentos, \"intentos\")\n",
    "            print(' '.join(PalabraGuiones))\n",
    "            \n",
    "            #Introducimos la letra y la comparamos a traves de un for.\n",
    "            letra = input(\"Introduce una letra: \")\n",
    "            \n",
    "            #Este booleano nos permitira realizar comparaciones si acertamos o no\n",
    "            XLetraAcertada = False\n",
    "\n",
    "            for j in range(NLetrasPalabraSecreta):\n",
    "                if PalabraSecreta[j] == letra: #Si coincide la letra dada por la original\n",
    "                    PalabraGuiones[j] = letra #Sustituimos el guion por la letra\n",
    "                    index -= 1\n",
    "                    XLetraAcertada = True\n",
    "                    print(f\"La letra {letra} es correcta\")\n",
    "\n",
    "            if not XLetraAcertada:\n",
    "                print(f\"No has acertado, la {letra} es errónea\")\n",
    "                intentos -= 1\n",
    "                if intentos == 0:\n",
    "                    print(\"PERDISTE\")\n",
    "                    JuegoTerminado = True\n",
    "                    break\n",
    "        else:\n",
    "            print(\"Has ganado, la palabra secreta es\", PalabraSecreta)\n",
    "            JuegoTerminado = True\n",
    "            break"
   ]
  },
  {
   "cell_type": "code",
   "execution_count": 2,
   "metadata": {},
   "outputs": [
    {
     "name": "stdout",
     "output_type": "stream",
     "text": [
      "_ _ _ _ _ _ _\n",
      "Te quedan 6 intentos\n",
      "_ _ _ _ _ _ _\n",
      "La letra b es correcta\n",
      "Te quedan 6 intentos\n",
      "b _ _ _ _ _ _\n",
      "La letra t es correcta\n",
      "Te quedan 6 intentos\n",
      "b _ t _ _ _ _\n",
      "La letra c es correcta\n",
      "Te quedan 6 intentos\n",
      "b _ t c _ _ _\n",
      "La letra i es correcta\n",
      "La letra i es correcta\n",
      "Te quedan 6 intentos\n",
      "b i t c _ i _\n",
      "La letra o es correcta\n",
      "Te quedan 6 intentos\n",
      "b i t c o i _\n",
      "La letra n es correcta\n",
      "Has ganado, la palabra secreta es bitcoin\n"
     ]
    }
   ],
   "source": [
    "ahorcado(\"bitcoin\")\n"
   ]
  },
  {
   "cell_type": "markdown",
   "metadata": {},
   "source": [
    "## Traductor. \n",
    "\n",
    "Escribe una clase que use diccionarios para traducir palabras entre varios idiomas.\n",
    "- Cada instancia de la clase, será un traductor de los idiomas seleccionados. Debe tener un idioma nativo y otros para poder traducir.\n",
    "- Tendrá métodos para traducir palabras en concreto, otro para traducir frases\n",
    "- Otro método que dándole un idioma de referencia, de palabras aleatorias con frases como ¿Sabes que esta palabra significa la otra palabra?\n",
    "- Otro método que nos de por pantalla cual es su idioma nativo y cuales son los que puede traducir\n"
   ]
  },
  {
   "cell_type": "code",
   "execution_count": 1,
   "metadata": {},
   "outputs": [],
   "source": [
    "menu = {\"fr\": {\"file\": \"Fichier\", \"new\": \"Nouveau\", \"open\": \"Ouvrir\", \"save\": \"Enregistrer\", \"save as\": \"Enregistrer sous\", \"print preview\": \"Apercu avant impressioner\", \"print\": \"Imprimer\", \"close\": \"Fermer\", \"exit\": \"Quitter\"},\n",
    "        \"de\": {\"file\": \"Datei\", \"new\": \"Neu\", \"open\": \"Ã–ffnen\", \"save\": \"Speichern\", \"save as\": \"Speichern unter\", \"print preview\": \"Druckansicht\", \"print\": \"Drucken\", \"close\": \"SchlieÃŸen\", \"exit\": \"Verlassen\"},\n",
    "        \"it\": {\"file\": \"File\", \"new\": \"Nuovo\", \"open\": \"Apri\", \"save\": \"Salva\", \"save as\": \"Salva come\", \"print preview\": \"Anteprima di stampa\", \"print\": \"Stampa\", \"close\": \"Chiudi\", \"exit\": \"Esci\"}\n",
    "        }"
   ]
  },
  {
   "cell_type": "code",
   "execution_count": 11,
   "metadata": {},
   "outputs": [],
   "source": [
    "class traductor:\n",
    "    # Diccionario de traducción con traducciones en diferentes idiomas.\n",
    "    menu = {\n",
    "        \"fr\": {\"file\": \"Fichier\", \"new\": \"Nouveau\", \"open\": \"Ouvrir\", \"save\": \"Enregistrer\", \"save as\": \"Enregistrer sous\", \"print preview\": \"Apercu avant impressioner\", \"print\": \"Imprimer\", \"close\": \"Fermer\", \"exit\": \"Quitter\"},\n",
    "        \"de\": {\"file\": \"Datei\", \"new\": \"Neu\", \"open\": \"Ã–ffnen\", \"save\": \"Speichern\", \"save as\": \"Speichern unter\", \"print preview\": \"Druckansicht\", \"print\": \"Drucken\", \"close\": \"SchlieÃşen\", \"exit\": \"Verlassen\"},\n",
    "        \"it\": {\"file\": \"File\", \"new\": \"Nuovo\", \"open\": \"Apri\", \"save\": \"Salva\", \"save as\": \"Salva come\", \"print preview\": \"Anteprima di stampa\", \"print\": \"Stampa\", \"close\": \"Chiudi\", \"exit\": \"Esci\"}\n",
    "    }\n",
    "\n",
    "    def __init__(self):\n",
    "        pass\n",
    "\n",
    "    def traducir_palabra(self, palabra: str, idioma_destino: str):\n",
    "        if idioma_destino in self.menu: #Si el idioma esta en el menu\n",
    "            diccionario_idioma = self.menu[idioma_destino] #Seleccionamos el diccionario en el que corresponde la clave llamandolo\n",
    "            if palabra in diccionario_idioma: #Si las palabras \n",
    "                return diccionario_idioma[palabra]\n",
    "        return None  # Si la palabra no se encuentra en el diccionario de traducción o el idioma no es válido, retorna None.\n",
    "       "
   ]
  },
  {
   "cell_type": "code",
   "execution_count": 13,
   "metadata": {},
   "outputs": [
    {
     "data": {
      "text/plain": [
       "'Ã–ffnen'"
      ]
     },
     "execution_count": 13,
     "metadata": {},
     "output_type": "execute_result"
    }
   ],
   "source": [
    "google = traductor()\n",
    "x = google.traducir_palabra(\"open\", \"de\")\n",
    "x"
   ]
  }
 ],
 "metadata": {
  "kernelspec": {
   "display_name": "Python 3.7.9 64-bit",
   "language": "python",
   "name": "python3"
  },
  "language_info": {
   "codemirror_mode": {
    "name": "ipython",
    "version": 3
   },
   "file_extension": ".py",
   "mimetype": "text/x-python",
   "name": "python",
   "nbconvert_exporter": "python",
   "pygments_lexer": "ipython3",
   "version": "3.11.4"
  },
  "orig_nbformat": 4,
  "vscode": {
   "interpreter": {
    "hash": "ec2a379ed5c25334a484232182c9d38ef8bd9861e2542d0c517568c4f99a9a7c"
   }
  }
 },
 "nbformat": 4,
 "nbformat_minor": 2
}
