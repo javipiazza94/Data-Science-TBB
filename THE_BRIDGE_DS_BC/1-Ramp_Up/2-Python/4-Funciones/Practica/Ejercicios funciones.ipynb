{
 "cells": [
  {
   "cell_type": "markdown",
   "metadata": {},
   "source": [
    "![imagen](./img/ejercicios.png)"
   ]
  },
  {
   "cell_type": "markdown",
   "metadata": {},
   "source": [
    "# Ejercicios funciones\n",
    "## Ejercicio 1\n",
    "Escribe una función que convierta números del 1 al 7 en nombres de los dias de la semana. La función constará de un único argumento numérico y una salida de tipo string"
   ]
  },
  {
   "cell_type": "code",
   "execution_count": 32,
   "metadata": {},
   "outputs": [
    {
     "data": {
      "text/plain": [
       "'Jueves'"
      ]
     },
     "execution_count": 32,
     "metadata": {},
     "output_type": "execute_result"
    }
   ],
   "source": [
    "def dias_semana(dias):\n",
    "    if dias == 1:\n",
    "        dia = 'Lunes'\n",
    "    elif dias == 2:\n",
    "        dia = 'Martes'\n",
    "    elif dias == 3:\n",
    "        dia = 'Miercoles'\n",
    "    elif dias == 4:\n",
    "        dia = 'Jueves'\n",
    "    elif dias == 5:\n",
    "        dia ='Viernes'\n",
    "    elif dias == 6:\n",
    "        dia = 'Sabado'\n",
    "    elif dias == 7:\n",
    "        dia = 'Domingo'\n",
    "    else:\n",
    "        dia = 'Introduce un numero del 1 al 7'\n",
    "    return dia\n",
    "        \n",
    "dias_semana(4)"
   ]
  },
  {
   "cell_type": "markdown",
   "metadata": {},
   "source": [
    "## Ejercicio 2\n",
    "En el ejercicio 8 de flujos de control, creábamos una pirámide invertida de números desde el 5. Crea una función que replique el comportamiento de la pirámide, y utiliza un único parámetro de entrada de la función para determinar el número de filas de la pirámide."
   ]
  },
  {
   "cell_type": "code",
   "execution_count": 1,
   "metadata": {},
   "outputs": [
    {
     "name": "stdout",
     "output_type": "stream",
     "text": [
      "12 11 10 9 8 7 6 5 4 3 2 1 \n",
      "11 10 9 8 7 6 5 4 3 2 1 \n",
      "10 9 8 7 6 5 4 3 2 1 \n",
      "9 8 7 6 5 4 3 2 1 \n",
      "8 7 6 5 4 3 2 1 \n",
      "7 6 5 4 3 2 1 \n",
      "6 5 4 3 2 1 \n",
      "5 4 3 2 1 \n",
      "4 3 2 1 \n",
      "3 2 1 \n",
      "2 1 \n",
      "1 \n"
     ]
    },
    {
     "data": {
      "text/plain": [
       "'El numero de filas es: 12'"
      ]
     },
     "execution_count": 1,
     "metadata": {},
     "output_type": "execute_result"
    }
   ],
   "source": [
    "numero = int(input('introduce un numero para hacer la serie' ))\n",
    "\n",
    "def numero_filas(numero):\n",
    "    cont = 0\n",
    "    for n in range(numero, 0, -1): \n",
    "        for i in range(n, 0, -1): \n",
    "            print(i, end=' ') \n",
    "        print()\n",
    "        cont +=1\n",
    "    return f'El numero de filas es: {cont}'    \n",
    "numero_filas(numero)"
   ]
  },
  {
   "cell_type": "markdown",
   "metadata": {},
   "source": [
    "## Ejercicio 3\n",
    "Escribe una función que compare dos números. La función tiene dos argumentos y hay tres salidas posibles: que sean iguales, que el primero sea  mayor que el segundo, o que el segundo sea mayor que el primero"
   ]
  },
  {
   "cell_type": "code",
   "execution_count": 33,
   "metadata": {},
   "outputs": [
    {
     "data": {
      "text/plain": [
       "'El primer numero es mayor que el segundo'"
      ]
     },
     "execution_count": 33,
     "metadata": {},
     "output_type": "execute_result"
    }
   ],
   "source": [
    "def comparar_nummeros(num1, num2):\n",
    "    if num1 == num2:\n",
    "        resultado =  'Son iguales'\n",
    "    if num1 > num2:\n",
    "        resultado =  'El primer numero es mayor que el segundo'\n",
    "    if num1 < num2:\n",
    "        resultado = 'El segundo numero es mayor que el primero'\n",
    "    return resultado\n",
    "\n",
    "comparar_nummeros(9, 6)"
   ]
  },
  {
   "cell_type": "markdown",
   "metadata": {},
   "source": [
    "## Ejercicio 4\n",
    "Escribe una función que sea un contador de letras. En el primer argumento tienes que introducir un texto, y el segundo que sea una letra que contar. La función tiene que devolver un entero con el número de veces que aparece esa letra, tanto mayuscula, como minúscula"
   ]
  },
  {
   "cell_type": "code",
   "execution_count": 24,
   "metadata": {},
   "outputs": [
    {
     "data": {
      "text/plain": [
       "3"
      ]
     },
     "execution_count": 24,
     "metadata": {},
     "output_type": "execute_result"
    }
   ],
   "source": [
    "def contador_letra(texto, letra):\n",
    "    cont = 0\n",
    "    for l in texto:\n",
    "        if l == letra:\n",
    "            cont +=1\n",
    "    return cont\n",
    "    \n",
    "\n",
    "contador_letra('Supercalifragilisticoespialidoso', 'o')"
   ]
  },
  {
   "cell_type": "markdown",
   "metadata": {},
   "source": [
    "## Ejercicio 5\n",
    "Escribe una función que tenga un único argumento, un string. La salida de la función tiene que ser un diccionario con el conteo de todas las letras de ese string, siendo la clave la letra y el valor el conteo."
   ]
  },
  {
   "cell_type": "code",
   "execution_count": 7,
   "metadata": {},
   "outputs": [
    {
     "data": {
      "text/plain": [
       "{'S': 1,\n",
       " 'u': 1,\n",
       " 'p': 2,\n",
       " 'e': 2,\n",
       " 'r': 2,\n",
       " 'c': 2,\n",
       " 'a': 3,\n",
       " 'l': 3,\n",
       " 'i': 6,\n",
       " 'f': 1,\n",
       " 'g': 1,\n",
       " 's': 3,\n",
       " 't': 1,\n",
       " 'o': 3,\n",
       " 'd': 1}"
      ]
     },
     "execution_count": 7,
     "metadata": {},
     "output_type": "execute_result"
    }
   ],
   "source": [
    "def diccionario(palabra:str): \n",
    "    conver1 = list(palabra)\n",
    "    cont = {}\n",
    "    for i in conver1:\n",
    "        cont[i] = conver1.count(i) #Para meterle un contador de letras a la palabra hay que asignar el valor del indice con el metodo count\n",
    "    return cont\n",
    "\n",
    "diccionario('Supercalifragilisticoespialidoso')"
   ]
  },
  {
   "cell_type": "markdown",
   "metadata": {},
   "source": [
    "## Ejercicio 6\n",
    "Escribir una función que añada o elimine elementos en una lista. La función necesita los siguientes argumentos:\n",
    "* lista: la lista donde se añadirán o eliminarán los elementos\n",
    "* comando: \"add\" o \"remove\"\n",
    "* elemento: Por defecto es None."
   ]
  },
  {
   "cell_type": "code",
   "execution_count": 2,
   "metadata": {},
   "outputs": [
    {
     "name": "stdout",
     "output_type": "stream",
     "text": [
      "[33, 748, 'Rodolfo', 17373]\n",
      "El elemento '12345' no se encuentra en la lista.\n",
      "El comando debe ser 'add' o 'remove', y el elemento no debe ser None.\n"
     ]
    },
    {
     "data": {
      "text/plain": [
       "[33, 748, 'Rodolfo']"
      ]
     },
     "execution_count": 2,
     "metadata": {},
     "output_type": "execute_result"
    }
   ],
   "source": [
    "def modificar_lista(lista:list, comando:str, elemento=None): #Definimos por defecto tipos y valores\n",
    "    \"\"\"\n",
    "    Añade o elimina elementos de una lista.\n",
    "\n",
    "    Args:\n",
    "        lista (list): La lista en la que se realizarán las modificaciones.\n",
    "        comando (str): \"add\" para añadir un elemento o \"remove\" para eliminarlo.\n",
    "        elemento: El elemento a añadir o eliminar. Por defecto es None.\n",
    "\n",
    "    Returns:\n",
    "        None\n",
    "    \"\"\"\n",
    "    if comando == 'add' and elemento is not None:\n",
    "        lista.append(elemento)\n",
    "    elif comando == 'remove' and elemento is not None:\n",
    "        try:\n",
    "            lista.remove(elemento)\n",
    "        except ValueError:\n",
    "            print(f\"El elemento '{elemento}' no se encuentra en la lista.\")\n",
    "    else:\n",
    "        print(\"El comando debe ser 'add' o 'remove', y el elemento no debe ser None.\")\n",
    "\n",
    "# Ejemplo de uso\n",
    "lista2 = [33, 748, 'Rodolfo']\n",
    "\n",
    "# Añadir un elemento\n",
    "modificar_lista(lista2, 'add', 17373)\n",
    "print(lista2)\n",
    "\n",
    "# Intentar eliminar un elemento que no está en la lista\n",
    "modificar_lista(lista2, 'remove', 12345)\n",
    "\n",
    "# Intentar realizar una operación no válida\n",
    "modificar_lista(lista2, 'invalid', 999)\n",
    "\n",
    "# Eliminar un elemento existente\n",
    "modificar_lista(lista2, 'remove', 17373)\n",
    "lista2\n"
   ]
  },
  {
   "cell_type": "markdown",
   "metadata": {},
   "source": [
    "## Ejercicio 7\n",
    "Crea una función que reciba un número arbitrario de palabras, y devuelva una frase completa, separando las palabras con espacios."
   ]
  },
  {
   "cell_type": "code",
   "execution_count": 1,
   "metadata": {},
   "outputs": [
    {
     "data": {
      "text/plain": [
       "' Me Llamo Pepe y tengo 78 años'"
      ]
     },
     "execution_count": 1,
     "metadata": {},
     "output_type": "execute_result"
    }
   ],
   "source": [
    "def frase(*args):\n",
    "    frase_completa = ''\n",
    "    for i in args:\n",
    "        frase_completa+=' '+i\n",
    "    return frase_completa\n",
    "\n",
    "\"\"\"\n",
    "def frase(*args):\n",
    "    # Unir todas las palabras con un espacio entre ellas\n",
    "    frase_completa = ' '.join(args)\n",
    "    return frase_completa\n",
    "\"\"\"\n",
    "   \n",
    "frase('Me', 'Llamo', 'Pepe', 'y', 'tengo', '78', 'años')"
   ]
  },
  {
   "cell_type": "markdown",
   "metadata": {},
   "source": [
    "El método join toma una lista de palabras y las une en una sola cadena, utilizando el espacio (o cualquier otro carácter que especifiques) como separador. En este caso, hemos pasado args (que es una tupla de palabras) como argumento al método join, y se unen todas las palabras con un espacio entre ellas para crear la frase completa."
   ]
  },
  {
   "cell_type": "markdown",
   "metadata": {},
   "source": [
    "## Ejercicio 8\n",
    "Escribe un programa que obtenga el enésimo número de la [serie de Fibonacci](https://es.wikipedia.org/wiki/Sucesi%C3%B3n_de_Fibonacci). Tienes que crear una función recursiva con un único argumento.\n",
    "\n",
    "```Python\n",
    "fibonacci(2) = 1\n",
    "fibonacci(4) = 3\n",
    "fibonacci(5) = 5\n",
    "fibonacci(8) = 21\n",
    "```"
   ]
  },
  {
   "cell_type": "code",
   "execution_count": 1,
   "metadata": {},
   "outputs": [
    {
     "data": {
      "text/plain": [
       "34"
      ]
     },
     "execution_count": 1,
     "metadata": {},
     "output_type": "execute_result"
    }
   ],
   "source": [
    "def fibonacci(numero):\n",
    "    if numero < 2:\n",
    "        resultado = numero\n",
    "    else:\n",
    "        resultado = fibonacci(numero-1) + fibonacci(numero-2)\n",
    "    return resultado\n",
    "\n",
    "fibonacci(9)"
   ]
  },
  {
   "cell_type": "markdown",
   "metadata": {},
   "source": [
    "fibonacci(n) = fibonacci(n-1) + fibonacci(n-2)\n",
    "\n",
    "fibonacci(3) = fibonacci(2) + fibonacci(1) = fibonacci(1) + fibonacci(0) + fibonacci(1) = 1 + 0 + 1 = 2"
   ]
  },
  {
   "cell_type": "markdown",
   "metadata": {},
   "source": [
    "## Ejercicio 9\n",
    "Define en una única celda las siguientes funciones:\n",
    "* Función que calcule el área de un cuadrado\n",
    "* Función que calcule el area de un triángulo\n",
    "* Función que calcule el área de un círculo\n",
    "\n",
    "En otra celda, calcular el area de:\n",
    "* Dos círculos de radio 10 + un triángulo de base 3 y altura 7\n",
    "* Un cuadrado de lado = 10 + 3 círculos (uno de radio = 4 y los otros dos de radio = 6) + 5 triángulos de base = 2 + altura = 4"
   ]
  },
  {
   "cell_type": "code",
   "execution_count": 46,
   "metadata": {},
   "outputs": [
    {
     "name": "stdout",
     "output_type": "stream",
     "text": [
      "98.69604401089359\n",
      "36.0\n",
      "90.0\n"
     ]
    }
   ],
   "source": [
    "import math\n",
    "#Area cuadrado\n",
    "def area_cuadrado(lado):\n",
    "    return math.pow(lado, 2)\n",
    "\n",
    "#Area triangulo\n",
    "def area_triangulo(base, altura):\n",
    "    return (base*altura)/2\n",
    "\n",
    "#Area circulo\n",
    "def area_circulo(radio):\n",
    "    return radio*math.pow(math.pi, 2)\n",
    "\n",
    "circulo = area_circulo(10)\n",
    "cuadrado = area_cuadrado(6)\n",
    "triangulo = area_triangulo(12, 15)\n",
    "\n",
    "print(circulo)\n",
    "print(cuadrado)\n",
    "print(triangulo)\n",
    "    "
   ]
  },
  {
   "cell_type": "code",
   "execution_count": 43,
   "metadata": {},
   "outputs": [
    {
     "name": "stdout",
     "output_type": "stream",
     "text": [
      "207.89208802178717\n"
     ]
    },
    {
     "data": {
      "text/plain": [
       "261.9136704174297"
      ]
     },
     "execution_count": 43,
     "metadata": {},
     "output_type": "execute_result"
    }
   ],
   "source": [
    "#1\n",
    "area1 = area_circulo(10)*2 + area_triangulo(3, 7)\n",
    "print(area1)\n",
    "\n",
    "#2\n",
    "area2 = area_cuadrado(10) + 2*area_circulo(6) + area_circulo(4) + area_triangulo(2, 4)\n",
    "area2"
   ]
  }
 ],
 "metadata": {
  "kernelspec": {
   "display_name": "Python 3.7.9 64-bit",
   "language": "python",
   "name": "python3"
  },
  "language_info": {
   "codemirror_mode": {
    "name": "ipython",
    "version": 3
   },
   "file_extension": ".py",
   "mimetype": "text/x-python",
   "name": "python",
   "nbconvert_exporter": "python",
   "pygments_lexer": "ipython3",
   "version": "3.11.4"
  },
  "vscode": {
   "interpreter": {
    "hash": "ec2a379ed5c25334a484232182c9d38ef8bd9861e2542d0c517568c4f99a9a7c"
   }
  }
 },
 "nbformat": 4,
 "nbformat_minor": 4
}
