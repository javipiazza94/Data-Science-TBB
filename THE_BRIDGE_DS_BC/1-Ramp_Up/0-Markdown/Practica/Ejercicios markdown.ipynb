{
 "cells": [
  {
   "cell_type": "markdown",
   "metadata": {},
   "source": [
    "![imagen](./img/ejercicios.png)\n",
    "# Markdown\n",
    "\n",
    "## Ejercicio 1\n",
    "Vamos a aplicar los conocimientos adquiridos en este notebook, intentando reproducir la siguiente imagen en markdown. En el link va la página: https://www.kaggle.com/\n",
    "\n",
    "**TIP**: en [este enlace](https://www.markdownguide.org/basic-syntax/) tienes más ejemplos, por si te atascas con algo :)\n"
   ]
  },
  {
   "cell_type": "markdown",
   "metadata": {},
   "source": [
    "![imagen](./img/md_ejercicio1.png)"
   ]
  },
  {
   "cell_type": "markdown",
   "metadata": {},
   "source": [
    "### Aptitudes de Data Scientist"
   ]
  },
  {
   "cell_type": "markdown",
   "metadata": {},
   "source": [
    "**Lo más importante**\n",
    "- Matemáticas\n",
    "- Programación\n",
    "- SQL\n",
    "- Python\n",
    "\n",
    "![imagen](./img/python.png)\n",
    "\n",
    "Otro tema importante es el *Business Intelligence*\n",
    "\n",
    "Si tienes dudas, puedes escribirme a: <fernando.carrasco@thebridgeschool.es>\n",
    "\n",
    "En esta página se aprende mucho de machine learning: [**pagina con ML**](https://www.udemy.com/course/machine-learning-desde-cero/?utm_source=adwords&utm_medium=udemyads&utm_campaign=LongTail_la.ES_cc.ES&utm_term=_._ag_120892796053_._ad_515900100233_._kw__._de_c_._dm__._pl__._ti_dsa-1231786816453_._li_1005421_._pd__._&matchtype=&gclid=CjwKCAjwsKqoBhBPEiwALrrqiO2Mje_D449-4mmsw2ilgl3ag8jC9XUyGasL08HIyndoiGF5AzxnxBoCZZIQAvD_BwE)\n"
   ]
  },
  {
   "cell_type": "markdown",
   "metadata": {},
   "source": [
    "## Ejercicio 2\n",
    "Para este ejercicio vas a crear dos nuevos elementos que no hemos visto en la teoría: una tabla y una fórmula. Busca en la web la sintaxis y replica ambos elementos. Ojo con los espacios en blanco entre la tabla y la fórmula. No es necesario replicar la línea de estadística en azul claro, pero lo puedes intentar si quieres :)"
   ]
  },
  {
   "cell_type": "markdown",
   "metadata": {},
   "source": [
    "<div style=\"text-align:center\"><img src=\"./img/md_ejercicio2.png\" /></div>"
   ]
  },
  {
   "cell_type": "markdown",
   "metadata": {},
   "source": [
    "<div align=\"center\">\n",
    "\n",
    "| **Ramp Up** | **Data Analysis 2** | **Machine Learning** | **Data & Business** |\n",
    "| ----------------- | ----------------- | ----------------- | ----------------- |\n",
    "| Python        | EDA         | Supervised         | Productivizacion         |\n",
    "| <span style=\"background-color: blue;\">Estadística        </span>|<span style=\"background-color: blue;\">R         </span>|<span style=\"background-color: blue;\"> Non supervised        </span>|<span style=\"background-color: blue;\"> Storytelling        </span>|\n",
    "| SQL        | Feat. Eng        | Deep Learning         | API         |\n",
    "\n",
    "</div>\n",
    "\n",
    "<br>\n",
    "<br>\n",
    "<br>\n",
    "\n",
    "$$\n",
    "\\sqrt{3x - 1} + (1 + x)^2\n",
    "$$\n",
    "\n"
   ]
  }
 ],
 "metadata": {
  "kernelspec": {
   "display_name": "Python 3.7.9 64-bit",
   "language": "python",
   "name": "python3"
  },
  "language_info": {
   "codemirror_mode": {
    "name": "ipython",
    "version": 3
   },
   "file_extension": ".py",
   "mimetype": "text/x-python",
   "name": "python",
   "nbconvert_exporter": "python",
   "pygments_lexer": "ipython3",
   "version": "3.11.4"
  },
  "vscode": {
   "interpreter": {
    "hash": "ec2a379ed5c25334a484232182c9d38ef8bd9861e2542d0c517568c4f99a9a7c"
   }
  }
 },
 "nbformat": 4,
 "nbformat_minor": 4
}
